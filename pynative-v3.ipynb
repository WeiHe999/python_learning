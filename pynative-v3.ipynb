{
 "cells": [
  {
   "cell_type": "markdown",
   "metadata": {},
   "source": [
    "# Python Basic Exercise for Beginners"
   ]
  },
  {
   "cell_type": "code",
   "execution_count": 98,
   "metadata": {},
   "outputs": [
    {
     "name": "stdout",
     "output_type": "stream",
     "text": [
      "['A', 'B', 'S', 'C', 'D', 'E', 'H', 'G', 'F']\n",
      "{'B': 'A', 'S': 'A', 'C': 'S', 'D': 'C', 'E': 'C', 'H': 'E', 'G': 'H', 'F': 'G'}\n",
      "A==>B\n",
      "A==>S\n",
      "S==>C\n",
      "C==>D\n",
      "C==>E\n",
      "E==>H\n",
      "H==>G\n",
      "G==>F\n"
     ]
    }
   ],
   "source": [
    "# DFS search\n",
    "graph1 = {\n",
    "    'A' : ['B','S'],\n",
    "    'B' : ['A'],\n",
    "    'C' : ['D','E','F','S'],\n",
    "    'D' : ['C'],\n",
    "    'E' : ['C','H'],\n",
    "    'F' : ['C','G'],\n",
    "    'G' : ['F','S'],\n",
    "    'H' : ['E','G'],\n",
    "    'S' : ['A','C','G']\n",
    "}\n",
    "\n",
    "visited = []\n",
    "\n",
    "def dfs(graph,node):\n",
    "    if node not in visited:\n",
    "        visited.append(node)\n",
    "        for n in graph[node]:\n",
    "            dfs(graph,n)\n",
    "\n",
    "dfs(graph1,'A')\n",
    "print(visited)\n",
    "\n",
    "parents = {}\n",
    "for k, s in enumerate(visited):\n",
    "    for x in visited[:k][::-1]:\n",
    "        if s in graph1[x]:\n",
    "            parents[s] = x\n",
    "            break\n",
    "print(parents)\n",
    "\n",
    "# print the links\n",
    "for k, s in enumerate(visited):\n",
    "    if k>0:\n",
    "        print('{}==>{}'.format(parents[s], s))"
   ]
  },
  {
   "cell_type": "markdown",
   "metadata": {},
   "source": [
    "## Question 1: Accept two integer numbers from a user and return their product and  if the product is greater than 1000, then return their sum"
   ]
  },
  {
   "cell_type": "code",
   "execution_count": 3,
   "metadata": {},
   "outputs": [
    {
     "name": "stdout",
     "output_type": "stream",
     "text": [
      "Your first number: 25\n",
      "Your second number: 30\n",
      "750\n"
     ]
    }
   ],
   "source": [
    "num1 = int(input(\"Your first number: \"))\n",
    "num2 = int(input(\"Your second number: \"))\n",
    "product = num1 * num2\n",
    "addition = num1 + num2\n",
    "if product < 1000:\n",
    "    print(product)\n",
    "else:\n",
    "    print(addition)"
   ]
  },
  {
   "cell_type": "markdown",
   "metadata": {},
   "source": [
    "## Question 2: Given a range of first 10 numbers, Iterate from start number to the end number and print the sum of the current number and previous number"
   ]
  },
  {
   "cell_type": "code",
   "execution_count": 5,
   "metadata": {},
   "outputs": [
    {
     "name": "stdout",
     "output_type": "stream",
     "text": [
      "1\n",
      "3\n",
      "5\n",
      "7\n",
      "9\n",
      "11\n",
      "13\n",
      "15\n",
      "17\n"
     ]
    }
   ],
   "source": [
    "def add(num1, num2):\n",
    "    return(num1 + num2)\n",
    "for x in range(0, 10):\n",
    "    if x == 0:\n",
    "        continue\n",
    "    else:\n",
    "        print(add(x, x-1))"
   ]
  },
  {
   "cell_type": "markdown",
   "metadata": {},
   "source": [
    "## Question 3: Accept string from a user and display only those characters which are present at an even index number."
   ]
  },
  {
   "cell_type": "code",
   "execution_count": 16,
   "metadata": {},
   "outputs": [
    {
     "name": "stdout",
     "output_type": "stream",
     "text": [
      "Your word: hello\n",
      "hlo\n"
     ]
    }
   ],
   "source": [
    "word = input(\"Your word: \")\n",
    "list1 = list(word)\n",
    "list2 = []\n",
    "for k, x in enumerate(list1):\n",
    "    if k % 2 == 0:\n",
    "        list2.append(x)\n",
    "    else:\n",
    "        continue\n",
    "str1 = ''.join(list2)\n",
    "print(str1)"
   ]
  },
  {
   "cell_type": "markdown",
   "metadata": {},
   "source": [
    "## Question 4: Given a string and an integer number n, remove characters from a string starting from zero up to n and return a new string"
   ]
  },
  {
   "cell_type": "code",
   "execution_count": 32,
   "metadata": {},
   "outputs": [
    {
     "name": "stdout",
     "output_type": "stream",
     "text": [
      "Enter a word or sentence: I like hotdogs\n",
      "Enter a number: 5\n",
      "e hotdogs\n"
     ]
    }
   ],
   "source": [
    "string = input(\"Enter a word or sentence: \")\n",
    "n = int(input(\"Enter a number: \"))\n",
    "list1 = list(string)\n",
    "list2 = []\n",
    "for k,x in enumerate(list1):\n",
    "    if k <= n - 1:\n",
    "        continue\n",
    "    else:\n",
    "        list2.append(x)\n",
    "str1 = ''.join(list2)\n",
    "print(str1)"
   ]
  },
  {
   "cell_type": "markdown",
   "metadata": {},
   "source": [
    "## Question 5: Given a list of numbers, return True if first and last number of a list is same"
   ]
  },
  {
   "cell_type": "code",
   "execution_count": 38,
   "metadata": {},
   "outputs": [
    {
     "name": "stdout",
     "output_type": "stream",
     "text": [
      "True\n"
     ]
    }
   ],
   "source": [
    "import random\n",
    "def check_first_and_last(list1):\n",
    "    if list1[0] == list1[-1]:\n",
    "        print(True)\n",
    "    else:\n",
    "        print(False)\n",
    "list1 = [1, 2, 1]\n",
    "check_first_and_last(list1)"
   ]
  },
  {
   "cell_type": "markdown",
   "metadata": {},
   "source": [
    "## Question 6: Given a list of numbers, Iterate it and print only those numbers which are divisible of 5"
   ]
  },
  {
   "cell_type": "code",
   "execution_count": 41,
   "metadata": {},
   "outputs": [
    {
     "data": {
      "text/plain": [
       "[15625, 1000]"
      ]
     },
     "execution_count": 41,
     "metadata": {},
     "output_type": "execute_result"
    }
   ],
   "source": [
    "def put_mult_of_5(list1):\n",
    "    set1 = set(list1)\n",
    "    list2 = list(set1)\n",
    "    list3 = []\n",
    "    for x in list1:\n",
    "        if x % 5 == 0:\n",
    "            list3.append(x)\n",
    "        else:\n",
    "            continue\n",
    "    return(list3)\n",
    "list1 = [12, 13452, 15625, 1000]\n",
    "put_mult_of_5(list1)"
   ]
  },
  {
   "cell_type": "markdown",
   "metadata": {},
   "source": [
    "## Question 7: Return the total count of string “Emma” appears in the given string"
   ]
  },
  {
   "cell_type": "code",
   "execution_count": 48,
   "metadata": {},
   "outputs": [
    {
     "name": "stdout",
     "output_type": "stream",
     "text": [
      "Enter 1 or 2 sentences including the word Emma: Emma eats cake because Emma eats cake.\n",
      "2\n"
     ]
    }
   ],
   "source": [
    "Emmas = 0\n",
    "Emma = input(\"Enter 1 or 2 sentences including the word Emma: \")\n",
    "listEmma = list(Emma)\n",
    "for k,x in enumerate(listEmma):\n",
    "    list1 = listEmma[k:k + 4]\n",
    "    str1 = ''.join(list1)\n",
    "    if str1 == 'Emma':\n",
    "        Emmas = Emmas + 1\n",
    "    else:\n",
    "        continue\n",
    "print(Emmas)"
   ]
  },
  {
   "cell_type": "markdown",
   "metadata": {},
   "source": [
    "## Question 8: Print the following pattern"
   ]
  },
  {
   "cell_type": "code",
   "execution_count": 53,
   "metadata": {},
   "outputs": [
    {
     "name": "stdout",
     "output_type": "stream",
     "text": [
      "How long do you want your pattern to be? 6\n",
      "\n",
      "1\n",
      "2 2\n",
      "3 3 3\n",
      "4 4 4 4\n",
      "5 5 5 5 5\n",
      "6 6 6 6 6 6\n"
     ]
    }
   ],
   "source": [
    "number = int(input(\"How long do you want your pattern to be? \"))\n",
    "for x in range(number + 1):\n",
    "    list1 = [str(x)] * x\n",
    "    str1 = ' '.join(list1)\n",
    "    print(str1)"
   ]
  },
  {
   "cell_type": "markdown",
   "metadata": {},
   "source": [
    "## Question 9: Reverse a given number and return true if it is the same as the original number"
   ]
  },
  {
   "cell_type": "code",
   "execution_count": 60,
   "metadata": {},
   "outputs": [
    {
     "name": "stdout",
     "output_type": "stream",
     "text": [
      "Enter a number: 232\n",
      "True\n"
     ]
    }
   ],
   "source": [
    "str1 = input(\"Enter a number: \")\n",
    "str2 = str1[::-1]\n",
    "number1 = int(str1)\n",
    "number2 = int(str2)\n",
    "if number2 == number1:\n",
    "    print(True)\n",
    "else:\n",
    "    print(False)"
   ]
  },
  {
   "cell_type": "markdown",
   "metadata": {},
   "source": [
    "## Question 10: Given a two list of numbers create a new list such that new list should contain only odd numbers from the first list and even numbers from the second list"
   ]
  },
  {
   "cell_type": "code",
   "execution_count": 65,
   "metadata": {},
   "outputs": [
    {
     "name": "stdout",
     "output_type": "stream",
     "text": [
      "[9, 7, 19, 17, 11, 9, 13, 2, 20, 12, 8]\n"
     ]
    }
   ],
   "source": [
    "list1 = []\n",
    "list2 = []\n",
    "list3 = []\n",
    "for x in range(0,10):\n",
    "    n = random.randint(1,20)\n",
    "    list1.append(n)\n",
    "for x in range(0,10):\n",
    "    m = random.randint(1,20)\n",
    "    list2.append(m)\n",
    "for x in list1:\n",
    "    if x % 2 == 1:\n",
    "        list3.append(x)\n",
    "    else:\n",
    "        continue\n",
    "for y in list2:\n",
    "    if y % 2 == 0:\n",
    "        list3.append(y)\n",
    "print(list3)"
   ]
  },
  {
   "cell_type": "markdown",
   "metadata": {},
   "source": [
    "# Python Data Structure Exercise for Beginners"
   ]
  },
  {
   "cell_type": "markdown",
   "metadata": {},
   "source": [
    "## Exercise Question 1: Given a two list. Create a third list by picking an odd-index element from the first list and even index elements from second."
   ]
  },
  {
   "cell_type": "code",
   "execution_count": 68,
   "metadata": {},
   "outputs": [
    {
     "name": "stdout",
     "output_type": "stream",
     "text": [
      "[7, 14, 4, 17, 4, 8, 6, 2, 14, 14]\n",
      "[12, 1, 12, 7, 13, 17, 2, 6, 3, 3]\n",
      "[7, 4, 4, 6, 14, 1, 7, 17, 6, 3]\n"
     ]
    }
   ],
   "source": [
    "list1 = []\n",
    "list2 = []\n",
    "list3 = []\n",
    "for x in range(0,10):\n",
    "    n = random.randint(1,20)\n",
    "    list1.append(n)\n",
    "for y in range(0,10):\n",
    "    m = random.randint(1,20)\n",
    "    list2.append(m)\n",
    "for k,a in enumerate(list1):\n",
    "    if k % 2 == 0:\n",
    "        list3.append(a)\n",
    "for c,b in enumerate(list2):\n",
    "    if c % 2 == 1:\n",
    "        list3.append(b)\n",
    "print(list3)"
   ]
  },
  {
   "cell_type": "markdown",
   "metadata": {},
   "source": [
    "## Exercise Question 2: Given an input list removes the element at index 4 and add it to the 2nd position and also, at the end of the list"
   ]
  },
  {
   "cell_type": "code",
   "execution_count": 80,
   "metadata": {},
   "outputs": [
    {
     "name": "stdout",
     "output_type": "stream",
     "text": [
      "The list: [54, 44, 27, 79, 91, 41]\n",
      "I removed 91 from index 4 and I added 91\n",
      "back to index 2. I also added 91 to the end of the list.\n",
      "[54, 44, 91, 27, 79, 41, 91]\n"
     ]
    }
   ],
   "source": [
    "List = [54, 44, 27, 79, 91, 41]\n",
    "print(\"The list:\", List)\n",
    "element = List[4]\n",
    "print(\"I removed\", element1, \"from index 4 and I added\", element1)\n",
    "print(\"back to index 2. I also added\", element1, \"to the end of the list.\")\n",
    "List.remove(element)\n",
    "List.insert(2, element)\n",
    "List.append(element)\n",
    "print(List)"
   ]
  },
  {
   "cell_type": "markdown",
   "metadata": {},
   "source": [
    "## Exercise Question 3: Given a list slice it into a 3 equal chunks and reverse each list"
   ]
  },
  {
   "cell_type": "code",
   "execution_count": 92,
   "metadata": {},
   "outputs": [
    {
     "name": "stdout",
     "output_type": "stream",
     "text": [
      "Original list: [11, 45, 8, 23, 14, 12, 78, 45, 89]\n",
      "[8, 45, 11]\n",
      "[12, 14, 23]\n",
      "[89, 45, 78]\n"
     ]
    }
   ],
   "source": [
    "list1 = [11, 45, 8, 23, 14, 12, 78, 45, 89]\n",
    "print(\"Original list:\", list1)\n",
    "x = len(list1)\n",
    "if x % 3 == 0:\n",
    "    y = int(x/3)\n",
    "    chunk1 = []\n",
    "    for n in range(y):\n",
    "        chunk1.append(list1[n])\n",
    "    chunk1 = chunk1[::-1]\n",
    "    chunk2 = []\n",
    "    for n in range(y):\n",
    "        chunk2.append(list1[3 + n])\n",
    "    chunk2 = chunk2[::-1]\n",
    "    chunk3 = []\n",
    "    for n in range(y):\n",
    "        chunk3.append(list1[6 + n])\n",
    "    chunk3 = chunk3[::-1]\n",
    "else:\n",
    "    print(\"Not a multiple of 3.\")\n",
    "print(chunk1)\n",
    "print(chunk2)\n",
    "print(chunk3)"
   ]
  },
  {
   "cell_type": "markdown",
   "metadata": {},
   "source": [
    "## Exercise Question 4: Given a list iterate it and count the occurrence of each element and create a dictionary to show the count of each element"
   ]
  },
  {
   "cell_type": "code",
   "execution_count": 99,
   "metadata": {},
   "outputs": [
    {
     "data": {
      "text/plain": [
       "['a1', 'b']"
      ]
     },
     "execution_count": 99,
     "metadata": {},
     "output_type": "execute_result"
    }
   ],
   "source": [
    "dict_1 = {'a1': 1, 'b': 2}\n",
    "list(dict_1.keys())"
   ]
  },
  {
   "cell_type": "code",
   "execution_count": 100,
   "metadata": {},
   "outputs": [
    {
     "data": {
      "text/plain": [
       "[1, 2]"
      ]
     },
     "execution_count": 100,
     "metadata": {},
     "output_type": "execute_result"
    }
   ],
   "source": [
    "list(dict_1.values())"
   ]
  },
  {
   "cell_type": "code",
   "execution_count": 101,
   "metadata": {},
   "outputs": [
    {
     "name": "stdout",
     "output_type": "stream",
     "text": [
      "a1 1\n",
      "b 2\n"
     ]
    }
   ],
   "source": [
    "for k, v in dict_1.items():\n",
    "    print(k, v)"
   ]
  },
  {
   "cell_type": "code",
   "execution_count": 102,
   "metadata": {},
   "outputs": [
    {
     "name": "stdout",
     "output_type": "stream",
     "text": [
      "[('a1', 1), ('b', 2)]\n"
     ]
    }
   ],
   "source": [
    "list_2 = [(k, v) for k, v in dict_1.items()]\n",
    "print(list_2)"
   ]
  },
  {
   "cell_type": "code",
   "execution_count": 104,
   "metadata": {},
   "outputs": [
    {
     "name": "stdout",
     "output_type": "stream",
     "text": [
      "It is not in the dict\n"
     ]
    }
   ],
   "source": [
    "if 'g1' in dict_1:\n",
    "    print('it is in the dict')\n",
    "else:\n",
    "    print('It is not in the dict')"
   ]
  },
  {
   "cell_type": "code",
   "execution_count": 105,
   "metadata": {},
   "outputs": [
    {
     "name": "stdout",
     "output_type": "stream",
     "text": [
      "Original list: [11, 45, 8, 11, 23, 45, 23, 45, 89]\n",
      "{11: 2, 45: 3, 8: 1, 23: 2, 89: 1}\n"
     ]
    }
   ],
   "source": [
    "list1 = [11, 45, 8, 11, 23, 45, 23, 45, 89]\n",
    "print(\"Original list:\", list1)\n",
    "dict1 = {}\n",
    "for x in list1:\n",
    "    if x in dict1:\n",
    "        dict1[x] = dict1[x] + 1\n",
    "    else:\n",
    "        dict1[x] = 1\n",
    "print(dict1)"
   ]
  },
  {
   "cell_type": "markdown",
   "metadata": {},
   "source": [
    "## Exercise Question 5: Given a two list of equal size create a set such that it shows the element from both lists in the pair"
   ]
  },
  {
   "cell_type": "code",
   "execution_count": 108,
   "metadata": {},
   "outputs": [
    {
     "name": "stdout",
     "output_type": "stream",
     "text": [
      "First List: [2, 3, 4, 5, 6, 7, 8]\n",
      "Second List: [4, 9, 16, 25, 36, 49, 64]\n",
      "{(6, 36), (8, 64), (4, 16), (5, 25), (3, 9), (7, 49), (2, 4)}\n"
     ]
    }
   ],
   "source": [
    "list1 = [2, 3, 4, 5, 6, 7, 8]\n",
    "list2 = [4, 9, 16, 25, 36, 49, 64]\n",
    "print(\"First List:\", list1)\n",
    "print(\"Second List:\", list2)\n",
    "list3 = []\n",
    "for k in range(len(list1)):\n",
    "    tuple1 = (list1[k], list2[k])\n",
    "    list3.append(tuple1)\n",
    "set1 = set(list3)\n",
    "print(set1)"
   ]
  },
  {
   "cell_type": "markdown",
   "metadata": {},
   "source": [
    "## Exercise Question 6: Given a following two sets find the intersection and remove those elements from the first set"
   ]
  },
  {
   "cell_type": "code",
   "execution_count": 110,
   "metadata": {},
   "outputs": [
    {
     "name": "stdout",
     "output_type": "stream",
     "text": [
      "{2, 3}\n",
      "[2, 3]\n"
     ]
    }
   ],
   "source": [
    "list_a = [1,2, 3, 5]\n",
    "list_b = [2, 4, 3]\n",
    "set_inter = set(list_a).intersection(set(list_b))\n",
    "print(set_inter)\n",
    "list_inter = list(set_inter)\n",
    "print(list_inter)"
   ]
  },
  {
   "cell_type": "code",
   "execution_count": 114,
   "metadata": {},
   "outputs": [
    {
     "name": "stdout",
     "output_type": "stream",
     "text": [
      "First set: {65, 42, 78, 83, 23, 57, 29}\n",
      "Second set: {67, 73, 43, 48, 83, 57, 29}\n",
      "Intersection set: {57, 83, 29}\n",
      "First set after removing common elements: {65, 42, 78, 23}\n"
     ]
    }
   ],
   "source": [
    "list1 = [65, 42, 78, 83, 23, 57, 29]\n",
    "list2 = [67, 73, 43, 48, 83, 57, 29]\n",
    "set1 = set(list1)\n",
    "set2 = set(list2)\n",
    "print(\"First set:\", set1)\n",
    "print(\"Second set:\", set2)\n",
    "setinter = set1.intersection(set2)\n",
    "print(\"Intersection set:\", setinter)\n",
    "for x in setinter:\n",
    "    list1.remove(x)\n",
    "set3 = set(list1)\n",
    "print(\"First set after removing common elements:\", set3)"
   ]
  },
  {
   "cell_type": "markdown",
   "metadata": {},
   "source": [
    "## Exercise Question 7: Given two sets, Checks if One Set is Subset or superset of Another Set. if the subset is found delete all elements from that set"
   ]
  },
  {
   "cell_type": "code",
   "execution_count": 120,
   "metadata": {},
   "outputs": [
    {
     "name": "stdout",
     "output_type": "stream",
     "text": [
      "First set: {43, 34, 27}\n",
      "Second set: {34, 43, 48, 53, 22, 27, 93}\n",
      "First set is subset of second set - True\n",
      "Second set is subset of First set -  False\n",
      "First set is Super set of second set -  False\n",
      "Second set is Super set of First set -  True\n",
      "{48, 53, 22, 93}\n"
     ]
    }
   ],
   "source": [
    "list1 = [27, 43, 34]\n",
    "list2 = [34, 93, 22, 27, 43, 53, 48]\n",
    "set1 = set(list1)\n",
    "set2 = set(list2)\n",
    "print(\"First set:\", set1)\n",
    "print(\"Second set:\", set2)\n",
    "print(\"First set is subset of second set - True\")\n",
    "print(\"Second set is subset of First set -  False\")\n",
    "print(\"First set is Super set of second set -  False\")\n",
    "print(\"Second set is Super set of First set -  True\")\n",
    "if set1.issubset(set2) == True:\n",
    "    for x in set1:\n",
    "        set2.remove(x)\n",
    "print(set2)"
   ]
  },
  {
   "cell_type": "markdown",
   "metadata": {},
   "source": [
    "## Bubblesort!"
   ]
  },
  {
   "cell_type": "code",
   "execution_count": 135,
   "metadata": {},
   "outputs": [
    {
     "name": "stdout",
     "output_type": "stream",
     "text": [
      "[2, 21, 7, 5, 1, 32, 46, 15, 31, 16, 25, 39, 4, 43, 32, 17, 7, 35, 7, 13, 25, 40, 49, 30, 7, 40, 15, 42, 42, 36, 22, 27, 29, 12, 27, 48, 18, 26, 24, 3, 19, 34, 5, 28, 13, 40, 23, 46, 33, 32, 10, 4, 48, 37, 26, 44, 35, 33, 21, 48, 21, 44, 44, 37, 18, 5, 42, 14, 47, 28, 38, 42, 41, 33, 24, 22, 41, 36, 26, 40, 49, 19, 35, 49, 43, 7, 47, 1, 43, 39, 43, 30, 43, 1, 47, 8, 49, 48, 49, 20]\n",
      "[1, 1, 1, 2, 3, 4, 4, 5, 5, 5, 7, 7, 7, 7, 7, 8, 10, 12, 13, 13, 14, 15, 15, 16, 17, 18, 18, 19, 19, 20, 21, 21, 21, 22, 22, 23, 24, 24, 25, 25, 26, 26, 26, 27, 27, 28, 28, 29, 30, 30, 31, 32, 32, 32, 33, 33, 33, 34, 35, 35, 35, 36, 36, 37, 37, 38, 39, 39, 40, 40, 40, 40, 41, 41, 42, 42, 42, 42, 43, 43, 43, 43, 43, 44, 44, 44, 46, 46, 47, 47, 47, 48, 48, 48, 48, 49, 49, 49, 49, 49]\n",
      "CPU times: user 1.65 ms, sys: 52 µs, total: 1.71 ms\n",
      "Wall time: 1.68 ms\n"
     ]
    }
   ],
   "source": [
    "%%time\n",
    "def bubblesort(list1):\n",
    "    for x in range(len(list1) - 1):\n",
    "        for k in range(len(list1) - 1):\n",
    "            if list1[k] > list1[k + 1]:\n",
    "                a = list1[k]\n",
    "                list1[k] = list1[k + 1]\n",
    "                list1[k + 1] = a\n",
    "    return(list1)\n",
    "list1 = []\n",
    "for i in range(0, 100):\n",
    "    c = random.randint(1, 50)\n",
    "    list1.append(c)\n",
    "print(list1)\n",
    "list2 = bubblesort(list1)\n",
    "print(list2)"
   ]
  },
  {
   "cell_type": "markdown",
   "metadata": {},
   "source": [
    "## Selectionsort!"
   ]
  },
  {
   "cell_type": "code",
   "execution_count": 136,
   "metadata": {},
   "outputs": [
    {
     "name": "stdout",
     "output_type": "stream",
     "text": [
      "[1, 1, 1, 2, 3, 4, 4, 5, 5, 5, 7, 7, 7, 7, 7, 8, 10, 12, 13, 13, 14, 15, 15, 16, 17, 18, 18, 19, 19, 20, 21, 21, 21, 22, 22, 23, 24, 24, 25, 25, 26, 26, 26, 27, 27, 28, 28, 29, 30, 30, 31, 32, 32, 32, 33, 33, 33, 34, 35, 35, 35, 36, 36, 37, 37, 38, 39, 39, 40, 40, 40, 40, 41, 41, 42, 42, 42, 42, 43, 43, 43, 43, 43, 44, 44, 44, 46, 46, 47, 47, 47, 48, 48, 48, 48, 49, 49, 49, 49, 49]\n",
      "[1, 1, 1, 2, 3, 4, 4, 5, 5, 5, 7, 7, 7, 7, 7, 8, 10, 12, 13, 13, 14, 15, 15, 16, 17, 18, 18, 19, 19, 20, 21, 21, 21, 22, 22, 23, 24, 24, 25, 25, 26, 26, 26, 27, 27, 28, 28, 29, 30, 30, 31, 32, 32, 32, 33, 33, 33, 34, 35, 35, 35, 36, 36, 37, 37, 38, 39, 39, 40, 40, 40, 40, 41, 41, 42, 42, 42, 42, 43, 43, 43, 43, 43, 44, 44, 44, 46, 46, 47, 47, 47, 48, 48, 48, 48, 49, 49, 49, 49, 49]\n",
      "CPU times: user 284 µs, sys: 50 µs, total: 334 µs\n",
      "Wall time: 312 µs\n"
     ]
    }
   ],
   "source": [
    "%%time\n",
    "def selectionsort(list1):\n",
    "    list2 = []\n",
    "    for x in range(len(list1) - 1):\n",
    "        a = min(list1)\n",
    "        list2.append(a)\n",
    "        list1.remove(a)\n",
    "    list2.append(list1[0])\n",
    "    return(list2)\n",
    "list1 = []\n",
    "for i in range(0, 100):\n",
    "    b = random.randint(1, 50)\n",
    "    list1.append(b)\n",
    "print(list1)\n",
    "list2 = selectionsort(list1)\n",
    "print(list2)"
   ]
  },
  {
   "cell_type": "markdown",
   "metadata": {},
   "source": [
    "## Insertionsort!"
   ]
  },
  {
   "cell_type": "code",
   "execution_count": 234,
   "metadata": {},
   "outputs": [],
   "source": [
    "def insert_element(list1, a):\n",
    "    list2 = []\n",
    "    for k, s in enumerate(list1):\n",
    "        if a > s:\n",
    "            list2.append(s)\n",
    "        else:\n",
    "            list2.append(a)\n",
    "            list2 = list2 + list1[k:]\n",
    "            break\n",
    "    return(list2)\n",
    "\n",
    "def insertionsort(list1):\n",
    "    list2 = []\n",
    "    for s in list1:\n",
    "        insert_element(s, list2)\n",
    "    return(list2)"
   ]
  },
  {
   "cell_type": "code",
   "execution_count": 235,
   "metadata": {},
   "outputs": [
    {
     "name": "stdout",
     "output_type": "stream",
     "text": [
      "[48, 13, 5, 14, 25, 12, 23, 34, 6, 16, 32, 22, 41, 6, 19, 26, 22, 34, 18, 2, 12, 1, 33, 25, 42, 42, 21, 26, 2, 26, 11, 28, 22, 10, 21, 1, 14, 22, 24, 36, 26, 20, 38, 23, 11, 33, 27, 1, 36, 24, 36, 6, 17, 23, 14, 4, 43, 17, 20, 1, 50, 34, 45, 49, 14, 2, 19, 38, 16, 37, 6, 7, 14, 33, 3, 28, 49, 9, 6, 43, 14, 50, 35, 32, 7, 46, 24, 38, 8, 50, 38, 32, 46, 36, 6, 9, 23, 21, 13, 9]\n",
      "[1, 1, 1, 1, 2, 2, 2, 3, 4, 5, 6, 6, 6, 6, 6, 6, 7, 7, 8, 9, 9, 9, 10, 11, 11, 12, 12, 13, 13, 14, 14, 14, 14, 14, 14, 16, 16, 17, 17, 18, 19, 19, 20, 20, 21, 21, 21, 22, 22, 22, 22, 23, 23, 23, 23, 24, 24, 24, 25, 25, 26, 26, 26, 26, 27, 28, 28, 32, 32, 32, 33, 33, 33, 34, 34, 34, 35, 36, 36, 36, 36, 37, 38, 38, 38, 38, 41, 42, 42, 43, 43, 45, 46, 46, 48, 49, 49, 50, 50, 50]\n",
      "CPU times: user 396 µs, sys: 39 µs, total: 435 µs\n",
      "Wall time: 419 µs\n"
     ]
    }
   ],
   "source": [
    "%%time\n",
    "list1 = []\n",
    "for i in range(0, 100):\n",
    "    a = random.randint(1, 50)\n",
    "    list1.append(a)\n",
    "print(list1)\n",
    "list2 = selectionsort(list1)\n",
    "print(list2)"
   ]
  },
  {
   "cell_type": "markdown",
   "metadata": {},
   "source": [
    "## Exercise Question 8: Iterate a given list and Check if a given element already exists in a dictionary as a key’s value if not delete it from the list"
   ]
  },
  {
   "cell_type": "code",
   "execution_count": null,
   "metadata": {},
   "outputs": [],
   "source": [
    "dict_a={'a': 1, 'b':2}\n",
    "list_v = list(dict_a.values())\n",
    "list_k = list(dict_a.keys())"
   ]
  },
  {
   "cell_type": "code",
   "execution_count": 154,
   "metadata": {},
   "outputs": [
    {
     "name": "stdout",
     "output_type": "stream",
     "text": [
      "After removing unwanted elements: [47, 69, 76, 97]\n"
     ]
    }
   ],
   "source": [
    "list1 = [47, 64, 69, 37, 76, 83, 95, 97]\n",
    "list2 = []\n",
    "dict1 = {'John':47, 'Emma':69, 'Kelly':76, 'Jason':97}\n",
    "listv = list(dict1.values())\n",
    "for x in list1:\n",
    "    if x in listv:\n",
    "        list2.append(x)\n",
    "    else:\n",
    "        continue\n",
    "print(\"After removing unwanted elements:\", list2)"
   ]
  },
  {
   "cell_type": "markdown",
   "metadata": {},
   "source": [
    "## Exercise Question 9: Given a dictionary get all values from the dictionary and add it in a list but don’t add duplicates"
   ]
  },
  {
   "cell_type": "code",
   "execution_count": 162,
   "metadata": {},
   "outputs": [
    {
     "name": "stdout",
     "output_type": "stream",
     "text": [
      "Result: [44, 47, 52, 53, 54]\n"
     ]
    }
   ],
   "source": [
    "speed = {'Jan':47, 'Feb':52, 'March':47, 'April':44, 'May':52, 'June':53, 'July':54, 'Aug':44, 'Sept':54}\n",
    "list1 = []\n",
    "listv = list(speed.values())\n",
    "set1 = set(listv)\n",
    "list2 = list(set1)\n",
    "print(\"Result:\", list2)"
   ]
  },
  {
   "cell_type": "markdown",
   "metadata": {},
   "source": [
    "## Exercise Question 10: Remove duplicate from a list and create a tuple and find the minimum and maximum number"
   ]
  },
  {
   "cell_type": "code",
   "execution_count": 167,
   "metadata": {},
   "outputs": [
    {
     "name": "stdout",
     "output_type": "stream",
     "text": [
      "List: [87, 45, 41, 65, 94, 41, 99, 94]\n",
      "After removing duplicates: [41, 45, 65, 87, 94, 99]\n",
      "Tuple: (41, 45, 65, 87, 94, 99)\n",
      "Min: 41\n",
      "Max: 99\n"
     ]
    }
   ],
   "source": [
    "list1 = [87, 45, 41, 65, 94, 41, 99, 94]\n",
    "print(\"List:\", list1)\n",
    "set1 = set(list1)\n",
    "list2 = list(set1)\n",
    "list2 = sorted(list2)\n",
    "print(\"After removing duplicates:\", list2)\n",
    "tuple1 = tuple(list2)\n",
    "print(\"Tuple:\", tuple1)\n",
    "num1 = min(list2)\n",
    "num2 = max(list2)\n",
    "print(\"Min:\", num1)\n",
    "print(\"Max:\", num2)"
   ]
  },
  {
   "cell_type": "markdown",
   "metadata": {},
   "source": [
    "# Lists"
   ]
  },
  {
   "cell_type": "markdown",
   "metadata": {},
   "source": [
    "## Exercise Question 1: Given a Python list you should be able to display Python list in the following order"
   ]
  },
  {
   "cell_type": "code",
   "execution_count": 174,
   "metadata": {},
   "outputs": [
    {
     "name": "stdout",
     "output_type": "stream",
     "text": [
      "[500, 400, 300, 200, 100]\n"
     ]
    }
   ],
   "source": [
    "list1 = [100, 200, 300, 400, 500]\n",
    "list2 = list1[::-1]\n",
    "print(list2)"
   ]
  },
  {
   "cell_type": "markdown",
   "metadata": {},
   "source": [
    "## Exercise Question 2: Concatenate two lists index-wise"
   ]
  },
  {
   "cell_type": "code",
   "execution_count": 178,
   "metadata": {},
   "outputs": [
    {
     "name": "stdout",
     "output_type": "stream",
     "text": [
      "['My', 'name', 'is', 'Kelly']\n"
     ]
    }
   ],
   "source": [
    "list1 = [\"M\", \"na\", \"i\", \"Ke\"] \n",
    "list2 = [\"y\", \"me\", \"s\", \"lly\"]\n",
    "list3 = [a + b for a, b in zip(list1, list2)]\n",
    "print(list3)"
   ]
  },
  {
   "cell_type": "markdown",
   "metadata": {},
   "source": [
    "## Exercise Question 3: Given a Python list. Turn every item of a list into its square"
   ]
  },
  {
   "cell_type": "code",
   "execution_count": 208,
   "metadata": {},
   "outputs": [
    {
     "data": {
      "text/plain": [
       "[1, 4, 9, 16, 25, 36, 49]"
      ]
     },
     "execution_count": 208,
     "metadata": {},
     "output_type": "execute_result"
    }
   ],
   "source": [
    "def square(list1, list2):\n",
    "    for n in list1:\n",
    "        a = n**2\n",
    "        list2.append(a)\n",
    "    return(list2)\n",
    "list1 = [1, 2, 3, 4, 5, 6, 7]\n",
    "list2 = []\n",
    "square(list1, list2)"
   ]
  },
  {
   "cell_type": "markdown",
   "metadata": {},
   "source": [
    "## Exercise Question 4: Concatenate two lists in the following order"
   ]
  },
  {
   "cell_type": "code",
   "execution_count": 213,
   "metadata": {},
   "outputs": [
    {
     "name": "stdout",
     "output_type": "stream",
     "text": [
      "['Hello Dear', 'Hello Sir', 'take Dear', 'take Sir']\n"
     ]
    }
   ],
   "source": [
    "list1 = [\"Hello \", \"take \"]\n",
    "list2 = [\"Dear\", \"Sir\"]\n",
    "list3 = [x + y for x in list1 for y in list2]\n",
    "print(list3)"
   ]
  },
  {
   "cell_type": "markdown",
   "metadata": {},
   "source": [
    "## Exercise Question 5: Given a two Python list. Iterate both lists simultaneously such that list1 should display item in original order and list2 in reverse order"
   ]
  },
  {
   "cell_type": "code",
   "execution_count": 214,
   "metadata": {},
   "outputs": [
    {
     "name": "stdout",
     "output_type": "stream",
     "text": [
      "10 400\n",
      "20 300\n",
      "30 200\n",
      "40 100\n"
     ]
    }
   ],
   "source": [
    "list1 = [10, 20, 30, 40]\n",
    "list2 = [100, 200, 300, 400]\n",
    "for x, y in zip(list1, list2[::-1]):\n",
    "    print(x, y)"
   ]
  },
  {
   "cell_type": "markdown",
   "metadata": {},
   "source": [
    "## Exercise Question 6: Remove empty strings from the list of strings"
   ]
  },
  {
   "cell_type": "code",
   "execution_count": 216,
   "metadata": {},
   "outputs": [
    {
     "name": "stdout",
     "output_type": "stream",
     "text": [
      "List: ['Mike', '', 'Emma', 'Kelly', '', 'Brad']\n",
      "After removing: ['Mike', 'Emma', 'Kelly', 'Brad']\n"
     ]
    }
   ],
   "source": [
    "list1 = [\"Mike\", \"\", \"Emma\", \"Kelly\", \"\", \"Brad\"]\n",
    "print(\"List:\", list1)\n",
    "list2 = list(filter(None, list1))\n",
    "print(\"After removing:\", list2)"
   ]
  },
  {
   "cell_type": "markdown",
   "metadata": {},
   "source": [
    "## Exercise Question 7: Add item 7000 after 6000 in the following Python List"
   ]
  },
  {
   "cell_type": "code",
   "execution_count": 217,
   "metadata": {},
   "outputs": [
    {
     "name": "stdout",
     "output_type": "stream",
     "text": [
      "[10, 20, [300, 400, [5000, 6000, 7000], 500], 30, 40]\n"
     ]
    }
   ],
   "source": [
    "list1 = [10, 20, [300, 400, [5000, 6000], 500], 30, 40]\n",
    "list1[2][2].append(7000)\n",
    "print(list1)"
   ]
  },
  {
   "cell_type": "markdown",
   "metadata": {},
   "source": [
    "## Factorials"
   ]
  },
  {
   "cell_type": "code",
   "execution_count": 218,
   "metadata": {},
   "outputs": [],
   "source": [
    "def fact(n):\n",
    "    if n >= 1:\n",
    "        return(n * fact(n - 1))\n",
    "    else:\n",
    "        return(1)"
   ]
  },
  {
   "cell_type": "code",
   "execution_count": 227,
   "metadata": {},
   "outputs": [
    {
     "data": {
      "text/plain": [
       "3628800"
      ]
     },
     "execution_count": 227,
     "metadata": {},
     "output_type": "execute_result"
    }
   ],
   "source": [
    "fact(10)"
   ]
  },
  {
   "cell_type": "markdown",
   "metadata": {},
   "source": [
    "## Fibonacci"
   ]
  },
  {
   "cell_type": "code",
   "execution_count": 222,
   "metadata": {},
   "outputs": [],
   "source": [
    "def fib(n):\n",
    "    if n >= 3:\n",
    "        return(fib(n - 1) + fib(n - 2))\n",
    "    else:\n",
    "        return(1)"
   ]
  },
  {
   "cell_type": "code",
   "execution_count": 232,
   "metadata": {},
   "outputs": [
    {
     "data": {
      "text/plain": [
       "55"
      ]
     },
     "execution_count": 232,
     "metadata": {},
     "output_type": "execute_result"
    }
   ],
   "source": [
    "fib(10)"
   ]
  },
  {
   "cell_type": "markdown",
   "metadata": {},
   "source": [
    "## Exercise Question 8: Given a nested list extend it with adding sub list [\"h\", \"i\", \"j\"] in a such a way that it will look like the following list"
   ]
  },
  {
   "cell_type": "code",
   "execution_count": 236,
   "metadata": {},
   "outputs": [
    {
     "name": "stdout",
     "output_type": "stream",
     "text": [
      "['a', 'b', ['c', ['d', 'e', ['f', 'g', 'h', 'i', 'j'], 'k'], 'l'], 'm', 'n']\n"
     ]
    }
   ],
   "source": [
    "list1 = [\"a\", \"b\", [\"c\", [\"d\", \"e\", [\"f\", \"g\"], \"k\"], \"l\"], \"m\", \"n\"]\n",
    "sublist = [\"h\", \"i\", \"j\"]\n",
    "list1[2][1][2].extend(sublist)\n",
    "print(list1)"
   ]
  },
  {
   "cell_type": "markdown",
   "metadata": {},
   "source": [
    "## Exercise Question 9: Given a Python list, find value 20 in the list, and if it is present, replace it with 200. Only update the first occurrence of a value"
   ]
  },
  {
   "cell_type": "code",
   "execution_count": 237,
   "metadata": {},
   "outputs": [
    {
     "name": "stdout",
     "output_type": "stream",
     "text": [
      "[5, 10, 15, 200, 25, 50, 20]\n"
     ]
    }
   ],
   "source": [
    "list1 = [5, 10, 15, 20, 25, 50, 20]\n",
    "i = list1.index(20)\n",
    "list1[i] = 200\n",
    "print(list1)"
   ]
  },
  {
   "cell_type": "markdown",
   "metadata": {},
   "source": [
    "## Exercise Question 10: Given a Python list, remove all occurrence of 20 from the list"
   ]
  },
  {
   "cell_type": "code",
   "execution_count": 240,
   "metadata": {},
   "outputs": [
    {
     "name": "stdout",
     "output_type": "stream",
     "text": [
      "[5, 15, 25, 50]\n"
     ]
    }
   ],
   "source": [
    "list1 = [5, 20, 15, 20, 25, 50, 20]\n",
    "list2 = []\n",
    "for x in list1:\n",
    "        if x == 20:\n",
    "            continue\n",
    "        else:\n",
    "            list2.append(x)\n",
    "print(list2)"
   ]
  },
  {
   "cell_type": "markdown",
   "metadata": {},
   "source": [
    "## A typical car can hold 4 passengers and 1 driver, overall allowing 5 people to travel around. Given n number of people, return how many cars are needed to seat everyone comfortably."
   ]
  },
  {
   "cell_type": "code",
   "execution_count": 245,
   "metadata": {},
   "outputs": [
    {
     "name": "stdout",
     "output_type": "stream",
     "text": [
      "Number of people: 0\n",
      "0\n"
     ]
    }
   ],
   "source": [
    "n = int(input(\"Number of people: \"))\n",
    "if n % 5 == 0:\n",
    "    print(int(n / 5))\n",
    "else:\n",
    "    print(\"Number of cars:\", int(n / 5) + 1)"
   ]
  },
  {
   "cell_type": "markdown",
   "metadata": {},
   "source": [
    "## Create a function that takes a string and returns the number (count) of vowels contained within it."
   ]
  },
  {
   "cell_type": "code",
   "execution_count": 250,
   "metadata": {},
   "outputs": [
    {
     "name": "stdout",
     "output_type": "stream",
     "text": [
      "Enter a word: Hello\n",
      "Number of vowels: 2\n"
     ]
    }
   ],
   "source": [
    "def count_vowels(str1):\n",
    "    str1 = str1.lower()\n",
    "    vowelcount = 0\n",
    "    list_v = list(\"aeiou\")\n",
    "    for s in list(str1):\n",
    "        if s in list_v:\n",
    "            vowelcount = vowelcount + 1\n",
    "    return(vowelcount)\n",
    "n = input(\"Enter a word: \")\n",
    "print(\"Number of vowels:\", count_vowels(n))"
   ]
  },
  {
   "cell_type": "markdown",
   "metadata": {},
   "source": [
    "## Create a function that takes a string (will be a persons first and last name) and returns a string with the first and last name swapped."
   ]
  },
  {
   "cell_type": "code",
   "execution_count": 251,
   "metadata": {},
   "outputs": [
    {
     "name": "stdout",
     "output_type": "stream",
     "text": [
      "Your first name: Wei\n",
      "Your last name: He\n",
      "Your name: Wei He\n",
      "Your name swapped: He Wei\n"
     ]
    }
   ],
   "source": [
    "firstname = input(\"Your first name: \")\n",
    "lastname = input(\"Your last name: \")\n",
    "print(\"Your name:\", firstname, lastname)\n",
    "print(\"Your name swapped:\", lastname, firstname)"
   ]
  },
  {
   "cell_type": "markdown",
   "metadata": {},
   "source": [
    "## Create a function that takes a single character as an argument and returns the char code of its lowercased / uppercased counterpart."
   ]
  },
  {
   "cell_type": "code",
   "execution_count": 272,
   "metadata": {},
   "outputs": [
    {
     "name": "stdout",
     "output_type": "stream",
     "text": [
      "Enter a character: a\n",
      "Ascii Value(lowercase): 97\n",
      "Ascii Value(uppercase): 65\n"
     ]
    }
   ],
   "source": [
    "def asciicode(str1):\n",
    "    if str1.islower() == True:\n",
    "        str_lower = str1\n",
    "        str_upper = str1.upper()\n",
    "    else:\n",
    "        str_lower = str1.lower()\n",
    "        str_upper = str1\n",
    "    print(\"Ascii Value(lowercase):\", ord(str_lower))\n",
    "    print(\"Ascii Value(uppercase):\", ord(str_upper))\n",
    "str3 = input(\"Enter a character: \")\n",
    "asciicode(str3)"
   ]
  },
  {
   "cell_type": "markdown",
   "metadata": {},
   "source": [
    "## Create a function that takes a string and returns a string in which each character is repeated once."
   ]
  },
  {
   "cell_type": "code",
   "execution_count": 281,
   "metadata": {
    "scrolled": true
   },
   "outputs": [
    {
     "name": "stdout",
     "output_type": "stream",
     "text": [
      "Enter something that can contain letters, numbers, and symbols: wowie1234!@# __\n",
      "Output: wwoowwiiee11223344!!@@##  ____\n"
     ]
    }
   ],
   "source": [
    "def doublechar(str1):\n",
    "    list1 = list(str1)\n",
    "    list2 = []\n",
    "    for x in list1:\n",
    "        list2.append(x)\n",
    "        list2.append(x)\n",
    "    str1 = ''.join(list2)\n",
    "    return(str1)\n",
    "str2 = input(\"Enter something that can contain letters, numbers, and symbols: \")\n",
    "print(\"Output:\", doublechar(str2))"
   ]
  },
  {
   "cell_type": "markdown",
   "metadata": {},
   "source": [
    "## Create a function that reverses a boolean value and returns the string \"boolean expected\" if another variable type is given."
   ]
  },
  {
   "cell_type": "code",
   "execution_count": 290,
   "metadata": {},
   "outputs": [
    {
     "name": "stdout",
     "output_type": "stream",
     "text": [
      "Type True or False(can type something else): false\n"
     ]
    },
    {
     "data": {
      "text/plain": [
       "True"
      ]
     },
     "execution_count": 290,
     "metadata": {},
     "output_type": "execute_result"
    }
   ],
   "source": [
    "def reverse(str1):\n",
    "    if str1.lower() == 'true':\n",
    "        return(False)\n",
    "    elif str1.lower() == 'false':\n",
    "        return(True)\n",
    "    else:\n",
    "        return(\"boolean expected\")\n",
    "str2 = input(\"Type True or False(can type something else): \")\n",
    "reverse(str2)"
   ]
  },
  {
   "cell_type": "markdown",
   "metadata": {},
   "source": [
    "## Create a function that takes a string, checks if it has the same number of \"x\"s and \"o\"s and returns either True or False."
   ]
  },
  {
   "cell_type": "code",
   "execution_count": 295,
   "metadata": {},
   "outputs": [
    {
     "name": "stdout",
     "output_type": "stream",
     "text": [
      "Enter a string with x and o's: gfsdhs xx oo XX OO ox\n"
     ]
    },
    {
     "data": {
      "text/plain": [
       "True"
      ]
     },
     "execution_count": 295,
     "metadata": {},
     "output_type": "execute_result"
    }
   ],
   "source": [
    "def XO(str1):\n",
    "    list1 = list(str1)\n",
    "    xcount = 0\n",
    "    ocount = 0\n",
    "    for x in list1:\n",
    "        if x == 'x':\n",
    "            xcount = xcount + 1\n",
    "        elif x == 'o':\n",
    "            ocount = ocount + 1\n",
    "        else:\n",
    "            continue\n",
    "    if xcount == 0 and ocount == 0:\n",
    "        return(True)\n",
    "    elif xcount == ocount:\n",
    "        return(True)\n",
    "    elif xcount > ocount or ocount > xcount:\n",
    "        return(False)\n",
    "    else:\n",
    "        return(True)\n",
    "str2 = input(\"Enter a string with x and o's: \")\n",
    "XO(str2)"
   ]
  },
  {
   "cell_type": "markdown",
   "metadata": {},
   "source": [
    "## Binarysearch!"
   ]
  },
  {
   "cell_type": "code",
   "execution_count": 301,
   "metadata": {},
   "outputs": [
    {
     "name": "stdout",
     "output_type": "stream",
     "text": [
      "False\n",
      "False\n"
     ]
    }
   ],
   "source": [
    "list1 = [2,4,5,78,9,12,14,17,19,22,25,27,28,33,37]\n",
    "n = 29\n",
    "def linearsearch(list1, n):\n",
    "    for i in range(len(list1)):\n",
    "        if list1[i] == n:\n",
    "            return(True)\n",
    "    return(False)\n",
    "def binarysearchiterative(list1, n):\n",
    "    low = 0\n",
    "    high = len(list1) - 1\n",
    "    while low <= high:\n",
    "        mid = (low + high) // 2\n",
    "        if n == list1[mid]:\n",
    "            return(True)\n",
    "        elif n < list1[mid]:\n",
    "            high = mid - 1\n",
    "        else:\n",
    "            low = mid + 1\n",
    "    return(False)\n",
    "def binarysearchrecursive(list1, n, low, high):\n",
    "    if low > high:\n",
    "        return(False)\n",
    "    else:\n",
    "        mid = (low + high) // 2\n",
    "        if n == list1[mid]:\n",
    "            return(True)\n",
    "        elif n < list1[mid]:\n",
    "            return(binarysearchrecursive(list1, n, low, mid - 1))\n",
    "        else:\n",
    "            return(binarysearchrecursive(list1, n, mid + 1, high))\n",
    "print(binarysearchiterative(list1, n))\n",
    "print(binarysearchrecursive(list1, n, 0, len(list1) - 1))"
   ]
  },
  {
   "cell_type": "markdown",
   "metadata": {},
   "source": [
    "## Jumpsearch!"
   ]
  },
  {
   "cell_type": "code",
   "execution_count": 361,
   "metadata": {},
   "outputs": [],
   "source": [
    "import math\n",
    "\n",
    "def Jumpsearch(list1, n):\n",
    "    length = len(list1)\n",
    "    num_blocks = 5\n",
    "    block_size = math.ceil((len(list1)/num_blocks))\n",
    "    # create a list of blocks\n",
    "    list_lists = []\n",
    "    for k in range(num_blocks):\n",
    "        block = list1[k*block_size: (k+1)*block_size]\n",
    "        list_lists.append(block)\n",
    "    print(list_lists)\n",
    "    # search for each block\n",
    "    for block in list_lists:\n",
    "        if block[-1]<n:\n",
    "            continue\n",
    "        elif block[-1]==n:\n",
    "            return(True)\n",
    "        else:\n",
    "            break\n",
    "    # search in the block\n",
    "    for s in block:\n",
    "        if s==n:\n",
    "            return(True)\n",
    "        elif s>n:\n",
    "            return(False)\n",
    "        else:\n",
    "            continue\n",
    "    return(False)    "
   ]
  },
  {
   "cell_type": "code",
   "execution_count": 362,
   "metadata": {},
   "outputs": [
    {
     "name": "stdout",
     "output_type": "stream",
     "text": [
      "[[1, 2, 3, 4], [4, 5, 6, 7], [7, 8, 9, 10], [13, 17, 19, 26], [26, 29]]\n"
     ]
    },
    {
     "data": {
      "text/plain": [
       "False"
      ]
     },
     "execution_count": 362,
     "metadata": {},
     "output_type": "execute_result"
    }
   ],
   "source": [
    "list1 = [1,2,3,4,4,5,6,7,7,8,9,10,13,17,19,26,26,29]\n",
    "n = 30\n",
    "Jumpsearch(list1, 14)"
   ]
  },
  {
   "cell_type": "markdown",
   "metadata": {},
   "source": [
    "## Write a function that finds the sum of the first n natural numbers. Make your function recursive."
   ]
  },
  {
   "cell_type": "code",
   "execution_count": 381,
   "metadata": {},
   "outputs": [
    {
     "data": {
      "text/plain": [
       "15"
      ]
     },
     "execution_count": 381,
     "metadata": {},
     "output_type": "execute_result"
    }
   ],
   "source": [
    "def sum_numbers(n):\n",
    "    if n > 1:\n",
    "        total = n + sum_numbers(n - 1)\n",
    "        return(total)\n",
    "    else:\n",
    "        return(1)\n",
    "    return(total)\n",
    "sum_numbers(5)"
   ]
  },
  {
   "cell_type": "markdown",
   "metadata": {},
   "source": [
    "## Create a function that takes two numbers as arguments (num, length) and returns a list of multiples of num up to length."
   ]
  },
  {
   "cell_type": "code",
   "execution_count": 9,
   "metadata": {},
   "outputs": [
    {
     "data": {
      "text/plain": [
       "[5, 10, 15, 20, 25, 30, 35]"
      ]
     },
     "execution_count": 9,
     "metadata": {},
     "output_type": "execute_result"
    }
   ],
   "source": [
    "def listofmultiples(x, y):\n",
    "    list1 = []\n",
    "    for i in range(y):\n",
    "        list1.append(x * (i + 1))\n",
    "    return(list1)\n",
    "listofmultiples(5, 7)"
   ]
  },
  {
   "cell_type": "markdown",
   "metadata": {},
   "source": [
    "## The iterated square root of a number is the number of times the square root function must be applied to bring the number strictly under 2. Given an integer, return its iterated square root. Return \"invalid\" if it is negative."
   ]
  },
  {
   "cell_type": "code",
   "execution_count": 16,
   "metadata": {},
   "outputs": [
    {
     "data": {
      "text/plain": [
       "2"
      ]
     },
     "execution_count": 16,
     "metadata": {},
     "output_type": "execute_result"
    }
   ],
   "source": [
    "import math\n",
    "def i_sqrt(n):\n",
    "    if n < 0:\n",
    "        return \"Invalid!\"\n",
    "    else:\n",
    "        n = int(math.sqrt(n))\n",
    "    return n\n",
    "i_sqrt(7)"
   ]
  },
  {
   "cell_type": "markdown",
   "metadata": {},
   "source": [
    "## In each input list, some numbers repeat. Write a function that returns the rest of the numbers"
   ]
  },
  {
   "cell_type": "code",
   "execution_count": 7,
   "metadata": {},
   "outputs": [
    {
     "data": {
      "text/plain": [
       "[2, 3]"
      ]
     },
     "execution_count": 7,
     "metadata": {},
     "output_type": "execute_result"
    }
   ],
   "source": [
    "def returnunique(list1):\n",
    "    list2 = []\n",
    "    for x in list1:\n",
    "        count = list1.count(x)\n",
    "        if count == 1:\n",
    "            list2.append(x)\n",
    "        else:\n",
    "            continue\n",
    "    return(list2)\n",
    "list1 = [1,1,2,3,4,4,6,7,7,6,8,8]\n",
    "returnunique(list1)"
   ]
  },
  {
   "cell_type": "markdown",
   "metadata": {},
   "source": [
    "## Create a function that takes two parameters and, if both parameters are strings, add them as if they were integers or if the two parameters are integers, concatenate them."
   ]
  },
  {
   "cell_type": "code",
   "execution_count": 13,
   "metadata": {},
   "outputs": [
    {
     "data": {
      "text/plain": [
       "3"
      ]
     },
     "execution_count": 13,
     "metadata": {},
     "output_type": "execute_result"
    }
   ],
   "source": [
    "def stupid_addition(x, y):\n",
    "    if type(x) == type(y):\n",
    "        if type(x) == int:\n",
    "            return int(str(x) + str(y))\n",
    "        return int(x) + int(y)\n",
    "stupid_addition('1', '2')"
   ]
  },
  {
   "cell_type": "markdown",
   "metadata": {},
   "source": [
    "## Mergesort!"
   ]
  },
  {
   "cell_type": "code",
   "execution_count": 19,
   "metadata": {},
   "outputs": [
    {
     "data": {
      "text/plain": [
       "[[1], [2], [3], [2], [1], [5]]"
      ]
     },
     "execution_count": 19,
     "metadata": {},
     "output_type": "execute_result"
    }
   ],
   "source": [
    "def Mergesort_split(a):\n",
    "    list2 = []\n",
    "    for x in range(len(list1)):\n",
    "        sublist1 = [a[x]]\n",
    "        list2.append(sublist1)\n",
    "    return list2\n",
    "a = [1,2,3,2,1,5]\n",
    "Mergesort_split(a)"
   ]
  },
  {
   "cell_type": "code",
   "execution_count": 22,
   "metadata": {},
   "outputs": [],
   "source": [
    "def Merge2lists(a, b):\n",
    "    i = 0\n",
    "    j = 0\n",
    "    c = []\n",
    "    while i < len(a) and j < len(b):\n",
    "        if a[i] < b[j]:\n",
    "            c.append(a[i])\n",
    "            i = i + 1\n",
    "        else:\n",
    "            c.append(b[j])\n",
    "            j = j + 1\n",
    "    c = c + a[i:] + b[j:]\n",
    "    return(c)"
   ]
  },
  {
   "cell_type": "code",
   "execution_count": null,
   "metadata": {},
   "outputs": [],
   "source": []
  },
  {
   "cell_type": "code",
   "execution_count": 33,
   "metadata": {},
   "outputs": [
    {
     "data": {
      "text/plain": [
       "[1, 1, 2, 2, 3, 5]"
      ]
     },
     "execution_count": 33,
     "metadata": {},
     "output_type": "execute_result"
    }
   ],
   "source": [
    "def Mergelists(listoflists):\n",
    "    while True:\n",
    "        list1 = []\n",
    "        for i in range(0, len(listoflists), 2):\n",
    "            a = listoflists[i]\n",
    "            if i + 1 < len(listoflists):\n",
    "                b = listoflists[i + 1]\n",
    "                c = Merge2lists(a, b)\n",
    "                list1.append(c)\n",
    "            else:\n",
    "                list1.append(a)\n",
    "        if len(list1) == 1:\n",
    "            break\n",
    "        else:\n",
    "            listoflists = list1\n",
    "    return(list1[0])\n",
    "listoflists = [[1], [2], [3], [2], [1], [5]]\n",
    "Mergelists(listoflists)"
   ]
  },
  {
   "cell_type": "raw",
   "metadata": {},
   "source": [
    "def Mergesort(list1):\n",
    "    list2 = Mergesort_split(list1)\n",
    "    list3 = Mergelists(list2)\n",
    "    return list3\n",
    "list1 = [6,5,4,3,2,1]\n",
    "Mergesort(list1)"
   ]
  },
  {
   "cell_type": "markdown",
   "metadata": {},
   "source": [
    "## Create a function that takes the height and radius of a cone as arguments and returns the volume of the cone. See the resources tab for the formula."
   ]
  },
  {
   "cell_type": "code",
   "execution_count": 36,
   "metadata": {},
   "outputs": [
    {
     "data": {
      "text/plain": [
       "12.57"
      ]
     },
     "execution_count": 36,
     "metadata": {},
     "output_type": "execute_result"
    }
   ],
   "source": [
    "def cone_volume(h, r):\n",
    "    return round((1/3)*math.pi*(r**2)*h,2)\n",
    "cone_volume(3, 2)"
   ]
  },
  {
   "cell_type": "markdown",
   "metadata": {},
   "source": [
    "## Using list comprehensions, create a function that finds all even numbers from 1 to the given number."
   ]
  },
  {
   "cell_type": "code",
   "execution_count": 38,
   "metadata": {},
   "outputs": [
    {
     "data": {
      "text/plain": [
       "[2, 4, 6, 8]"
      ]
     },
     "execution_count": 38,
     "metadata": {},
     "output_type": "execute_result"
    }
   ],
   "source": [
    "def find_even(n):\n",
    "    return [x for x in range(2,n + 1,2)]\n",
    "find_even(8)"
   ]
  },
  {
   "cell_type": "markdown",
   "metadata": {},
   "source": [
    "## Given a word, return False the word contains duplicate letters. Return True otherwise."
   ]
  },
  {
   "cell_type": "code",
   "execution_count": 58,
   "metadata": {},
   "outputs": [
    {
     "data": {
      "text/plain": [
       "True"
      ]
     },
     "execution_count": 58,
     "metadata": {},
     "output_type": "execute_result"
    }
   ],
   "source": [
    "def no_duplicates(str1):\n",
    "    list2 = []\n",
    "    list1 = list(str1)\n",
    "    for x in list1:\n",
    "        if x not in list2:\n",
    "            list2.append(x)\n",
    "        else:\n",
    "            return False\n",
    "    return True\n",
    "no_duplicates('no')"
   ]
  },
  {
   "cell_type": "markdown",
   "metadata": {},
   "source": [
    "## Write a function that finds the sum of the first n natural numbers. Make your function recursive.\n",
    "\n"
   ]
  },
  {
   "cell_type": "code",
   "execution_count": 62,
   "metadata": {},
   "outputs": [
    {
     "data": {
      "text/plain": [
       "15"
      ]
     },
     "execution_count": 62,
     "metadata": {},
     "output_type": "execute_result"
    }
   ],
   "source": [
    "def sum_numbers(n):\n",
    "    if n > 1:\n",
    "        total = n + sum_numbers(n - 1)\n",
    "        return(total)\n",
    "    else:\n",
    "        return(1)\n",
    "sum_numbers(5)"
   ]
  },
  {
   "cell_type": "markdown",
   "metadata": {},
   "source": [
    "## Create a function, that will for a given a, b, c, do the following: Add a to itself b times. Check if the result is divisible by c."
   ]
  },
  {
   "cell_type": "code",
   "execution_count": 64,
   "metadata": {},
   "outputs": [
    {
     "data": {
      "text/plain": [
       "True"
      ]
     },
     "execution_count": 64,
     "metadata": {},
     "output_type": "execute_result"
    }
   ],
   "source": [
    "def abcmath(a, b, c):\n",
    "    total = a * (2 ** b)\n",
    "    if total % c == 0:\n",
    "        return True\n",
    "    else:\n",
    "        return False\n",
    "abcmath(1, 2, 4)"
   ]
  },
  {
   "cell_type": "markdown",
   "metadata": {},
   "source": [
    "## Create a function that takes a list and finds the integer which appears an odd number of times.\n",
    "\n"
   ]
  },
  {
   "cell_type": "code",
   "execution_count": 67,
   "metadata": {},
   "outputs": [
    {
     "data": {
      "text/plain": [
       "9"
      ]
     },
     "execution_count": 67,
     "metadata": {},
     "output_type": "execute_result"
    }
   ],
   "source": [
    "def find_odd(list1):\n",
    "    for x in list1:\n",
    "        if x % 2 == 0:\n",
    "            continue\n",
    "        else:\n",
    "            return x\n",
    "find_odd([2,4,6,8,9])"
   ]
  },
  {
   "cell_type": "markdown",
   "metadata": {},
   "source": [
    "## Christmas Eve is almost upon us, so naturally we need to prepare some milk and cookies for Santa! Create a function that accepts a Date object and returns True if it's Christmas Eve (December 24th) and False otherwise.\n",
    "\n"
   ]
  },
  {
   "cell_type": "code",
   "execution_count": 72,
   "metadata": {},
   "outputs": [
    {
     "data": {
      "text/plain": [
       "False"
      ]
     },
     "execution_count": 72,
     "metadata": {},
     "output_type": "execute_result"
    }
   ],
   "source": [
    "def timeformilkandcookies(y, m, d):\n",
    "    if m == 12 and d == 24:\n",
    "        return True\n",
    "    return False\n",
    "timeformilkandcookies(2014, 11, 24)"
   ]
  },
  {
   "cell_type": "markdown",
   "metadata": {},
   "source": [
    "## Write a function that takes a list and a number as arguments. Add the number to the end of the list, then remove the first element of the list. The function should then return the updated list.\n",
    "\n"
   ]
  },
  {
   "cell_type": "code",
   "execution_count": 74,
   "metadata": {},
   "outputs": [
    {
     "data": {
      "text/plain": [
       "[2, 3, 4, 5]"
      ]
     },
     "execution_count": 74,
     "metadata": {},
     "output_type": "execute_result"
    }
   ],
   "source": [
    "def next_in_line(list1, n):\n",
    "    if list1 == []:\n",
    "        return \"No list has been selected!\"\n",
    "    else:\n",
    "        list1.remove(list1[0])\n",
    "        list1.append(n)\n",
    "        return list1\n",
    "next_in_line([1,2,3,4], 5)"
   ]
  },
  {
   "cell_type": "markdown",
   "metadata": {},
   "source": [
    "## Create a function that takes a single string as argument and returns an ordered list containing the indices of all capital letters in the string.\n",
    "\n"
   ]
  },
  {
   "cell_type": "code",
   "execution_count": 81,
   "metadata": {},
   "outputs": [
    {
     "data": {
      "text/plain": [
       "[0, 4]"
      ]
     },
     "execution_count": 81,
     "metadata": {},
     "output_type": "execute_result"
    }
   ],
   "source": [
    "def index_of_caps(str1):\n",
    "    list2 = []\n",
    "    list1 = list(str1)\n",
    "    for k, x in enumerate(list1):\n",
    "        if x.isupper() == True:\n",
    "            list2.append(k)\n",
    "        else:\n",
    "            continue\n",
    "    return list2\n",
    "index_of_caps(\"UnicOrn\")"
   ]
  },
  {
   "cell_type": "markdown",
   "metadata": {},
   "source": [
    "## Create a function that takes a string and returns a new string with all vowels removed.\n",
    "\n"
   ]
  },
  {
   "cell_type": "code",
   "execution_count": 86,
   "metadata": {},
   "outputs": [
    {
     "data": {
      "text/plain": [
       "'Hppy Thnksgvng!'"
      ]
     },
     "execution_count": 86,
     "metadata": {},
     "output_type": "execute_result"
    }
   ],
   "source": [
    "def remove_vowels(str1):\n",
    "    vowels = ['a', 'e', 'i', 'o', 'u']\n",
    "    list1 = list(str1)\n",
    "    for x in list1:\n",
    "        if x in vowels:\n",
    "            list1.remove(x)\n",
    "    str2 = ''.join(list1)\n",
    "    return str2\n",
    "remove_vowels(\"Happy Thanksgiving!\")"
   ]
  },
  {
   "cell_type": "markdown",
   "metadata": {},
   "source": [
    "## Create a function that takes a number as an argument and returns True or False depending on whether the number is symmetrical or not. A number is symmetrical when it is the same as its reverse.\n",
    "\n"
   ]
  },
  {
   "cell_type": "code",
   "execution_count": 95,
   "metadata": {},
   "outputs": [
    {
     "data": {
      "text/plain": [
       "True"
      ]
     },
     "execution_count": 95,
     "metadata": {},
     "output_type": "execute_result"
    }
   ],
   "source": [
    "def issymmetrical(n):\n",
    "    str1 = str(n)\n",
    "    str2 = str1[::-1]\n",
    "    if str2 == str1:\n",
    "        return True\n",
    "    else:\n",
    "        return False\n",
    "issymmetrical(7227)"
   ]
  },
  {
   "cell_type": "markdown",
   "metadata": {},
   "source": [
    "## Create a function that takes a string and returns a string with its letters in alphabetical order.\n",
    "\n"
   ]
  },
  {
   "cell_type": "code",
   "execution_count": 96,
   "metadata": {},
   "outputs": [
    {
     "data": {
      "text/plain": [
       "'abdeit'"
      ]
     },
     "execution_count": 96,
     "metadata": {},
     "output_type": "execute_result"
    }
   ],
   "source": [
    "def alphabet_soup(str1):\n",
    "    s = sorted(str1)\n",
    "    str1 = ''.join(s)\n",
    "    return str1\n",
    "alphabet_soup('edabit')"
   ]
  },
  {
   "cell_type": "markdown",
   "metadata": {},
   "source": [
    "## Given an unsorted list, create a function that returns the nth smallest element (the smallest element is the first smallest, the second smallest element is the second smallest, etc).\n",
    "\n"
   ]
  },
  {
   "cell_type": "code",
   "execution_count": 118,
   "metadata": {},
   "outputs": [
    {
     "data": {
      "text/plain": [
       "1"
      ]
     },
     "execution_count": 118,
     "metadata": {},
     "output_type": "execute_result"
    }
   ],
   "source": [
    "def nth_element(list1, n):\n",
    "    if n <= len(list1):\n",
    "        return sorted(list1)[n-1]\n",
    "    else:\n",
    "        return None\n",
    "nth_element([1,2,3,4], 1)"
   ]
  },
  {
   "cell_type": "markdown",
   "metadata": {},
   "source": [
    "## Create a function that takes a list and returns a new list containing only prime numbers.\n",
    "\n"
   ]
  },
  {
   "cell_type": "code",
   "execution_count": 122,
   "metadata": {},
   "outputs": [],
   "source": [
    "def primecheck(n):\n",
    "    if n > 1:\n",
    "        for x in range(2, n):\n",
    "            if (n % x) == 0:\n",
    "                return False\n",
    "                break\n",
    "        else:\n",
    "            return True\n",
    "    else:\n",
    "        return False"
   ]
  },
  {
   "cell_type": "code",
   "execution_count": 123,
   "metadata": {},
   "outputs": [
    {
     "data": {
      "text/plain": [
       "[2, 3]"
      ]
     },
     "execution_count": 123,
     "metadata": {},
     "output_type": "execute_result"
    }
   ],
   "source": [
    "def filter_primes(list1):\n",
    "    for x in list1:\n",
    "        if primecheck(x) == True:\n",
    "            continue\n",
    "        else:\n",
    "            list1.remove(x)\n",
    "    return(list1)\n",
    "filter_primes([2,3,4])"
   ]
  },
  {
   "cell_type": "markdown",
   "metadata": {},
   "source": [
    "## You are given three inputs: a string, one letter, and a second letter. Write a function that returns True if every instance of the first letter occurs before every instance of the second letter."
   ]
  },
  {
   "cell_type": "code",
   "execution_count": 126,
   "metadata": {},
   "outputs": [
    {
     "data": {
      "text/plain": [
       "True"
      ]
     },
     "execution_count": 126,
     "metadata": {},
     "output_type": "execute_result"
    }
   ],
   "source": [
    "def first_before_second(str1, str2, str3):\n",
    "    list1 = str(list(str1))\n",
    "    for x in list1:\n",
    "        if x == str2:\n",
    "            return True\n",
    "        elif x == str3:\n",
    "            return False\n",
    "        else:\n",
    "            continue\n",
    "first_before_second(\"knaves knew about waterfalls\", \"k\", \"w\")"
   ]
  },
  {
   "cell_type": "markdown",
   "metadata": {},
   "source": [
    "## Create a function that reverses letters in a string but keeps digits in their current order.\n",
    "\n"
   ]
  },
  {
   "cell_type": "code",
   "execution_count": 134,
   "metadata": {},
   "outputs": [
    {
     "data": {
      "text/plain": [
       "'cba'"
      ]
     },
     "execution_count": 134,
     "metadata": {},
     "output_type": "execute_result"
    }
   ],
   "source": [
    "def reverse(str1):\n",
    "    str2 = str1[::-1]\n",
    "    return str2\n",
    "reverse('abc')"
   ]
  },
  {
   "cell_type": "markdown",
   "metadata": {},
   "source": [
    "## Write a function that adds two numbers. The catch, however, is that the numbers will be strings.\n",
    "\n"
   ]
  },
  {
   "cell_type": "code",
   "execution_count": 137,
   "metadata": {},
   "outputs": [
    {
     "data": {
      "text/plain": [
       "'9'"
      ]
     },
     "execution_count": 137,
     "metadata": {},
     "output_type": "execute_result"
    }
   ],
   "source": [
    "def add_str_nums(str1, str2):\n",
    "    return str(int(str1) + int(str2))\n",
    "add_str_nums('4', '5')"
   ]
  },
  {
   "cell_type": "markdown",
   "metadata": {},
   "source": [
    "## Create a function that takes a list and string. The function should remove the letters in the string from the list, and return the list.\n",
    "\n"
   ]
  },
  {
   "cell_type": "code",
   "execution_count": 147,
   "metadata": {},
   "outputs": [
    {
     "data": {
      "text/plain": [
       "['o', 'l']"
      ]
     },
     "execution_count": 147,
     "metadata": {},
     "output_type": "execute_result"
    }
   ],
   "source": [
    "def remove_letters(list1, str1):\n",
    "    list3 = []\n",
    "    list2 = list(str1)\n",
    "    list4 = []\n",
    "    for x in list1:\n",
    "        if x in list2:\n",
    "            if x in list4:\n",
    "                list3.append(x)\n",
    "            else:\n",
    "                list4.append(x)  \n",
    "        else:\n",
    "            list3.append(x)\n",
    "    return(list3)\n",
    "remove_letters(['h', 'e', 'l', 'o', 'l'], 'hel')"
   ]
  },
  {
   "cell_type": "markdown",
   "metadata": {},
   "source": [
    "## Create a function that evaluates an equation.\n",
    "\n"
   ]
  },
  {
   "cell_type": "code",
   "execution_count": 148,
   "metadata": {},
   "outputs": [
    {
     "data": {
      "text/plain": [
       "3"
      ]
     },
     "execution_count": 148,
     "metadata": {},
     "output_type": "execute_result"
    }
   ],
   "source": [
    "def eq(str1):\n",
    "    return eval(str1)\n",
    "eq('1 + 2')"
   ]
  },
  {
   "cell_type": "markdown",
   "metadata": {},
   "source": [
    "## A number has a breakpoint if it can be split in a way where the digits on the left side and the digits on the right side sum to the same number. For instance, the number 35190 can be sliced between the digits 351 and 90, since 3 + 5 + 1 = 9 and 9 + 0 = 9. On the other hand, the number 555 does not have a breakpoint (you must split between digits). Create a function that returns True if a number has a breakpoint, and False otherwise."
   ]
  },
  {
   "cell_type": "code",
   "execution_count": 14,
   "metadata": {},
   "outputs": [
    {
     "data": {
      "text/plain": [
       "False"
      ]
     },
     "execution_count": 14,
     "metadata": {},
     "output_type": "execute_result"
    }
   ],
   "source": [
    "def break_point(n):\n",
    "    str1 = str(n)\n",
    "    list1 = list(str1)\n",
    "    b = 0\n",
    "    e = len(list1) - 1\n",
    "    m = (b + e) // 2\n",
    "    sublist1 = list(list1[0 : m + 1])\n",
    "    sublist2 = list(list1[m + 1 : e + 1])\n",
    "    count1 = 0\n",
    "    count2 = 0\n",
    "    for x in sublist1:\n",
    "        count1 = count1 + int(x)\n",
    "    for y in sublist2:\n",
    "        count2 = count2 + int(y)\n",
    "    if count1 == count2:\n",
    "        return True\n",
    "    else:x\n",
    "        sublist1 = list(list1[0 : m])\n",
    "        sublist2 = list(list1[m : e + 1])\n",
    "        count1 = 0\n",
    "        count2 = 0\n",
    "        for x in sublist1:\n",
    "            count1 = count1 + int(x)\n",
    "        for y in sublist2:\n",
    "            count2 = count2 + int(y)\n",
    "        if count1 == count2:\n",
    "            return True\n",
    "        else:\n",
    "            return False\n",
    "break_point(12321)"
   ]
  },
  {
   "cell_type": "markdown",
   "metadata": {},
   "source": [
    "## Write a function that returns the longest common ending between two strings.\n",
    "\n"
   ]
  },
  {
   "cell_type": "code",
   "execution_count": 15,
   "metadata": {},
   "outputs": [
    {
     "data": {
      "text/plain": [
       "'ation'"
      ]
     },
     "execution_count": 15,
     "metadata": {},
     "output_type": "execute_result"
    }
   ],
   "source": [
    "def longest_common_ending(str1, str2):\n",
    "    while not str1.endswith(str2):\n",
    "        str2 = str2[1:]\n",
    "    return str2\n",
    "longest_common_ending('punctuation', 'hibernation')"
   ]
  },
  {
   "cell_type": "markdown",
   "metadata": {},
   "source": [
    "## Create a function that takes in two words as input and returns a list of three elements, in the following order: Shared letters between two words. Letters unique to word 1. Letters unique to word 2. Each element should have unique letters, and have each letter be alphabetically sorted."
   ]
  },
  {
   "cell_type": "code",
   "execution_count": 180,
   "metadata": {},
   "outputs": [
    {
     "data": {
      "text/plain": [
       "['h', 'ello', 'i']"
      ]
     },
     "execution_count": 180,
     "metadata": {},
     "output_type": "execute_result"
    }
   ],
   "source": [
    "def letters(str1, str2):\n",
    "    list3 = []\n",
    "    list4 = []\n",
    "    list5 = []\n",
    "    list6 = []\n",
    "    list1 = list(str1)\n",
    "    list2 = list(str2)\n",
    "    for x in list1:\n",
    "        if x in list2:\n",
    "            list3.append(x)\n",
    "        else:\n",
    "            list4.append(x)\n",
    "    for x in list2:\n",
    "        if x not in list1:\n",
    "            list5.append(x)\n",
    "    str3 = ''.join(list3)\n",
    "    str4 = ''.join(list4)\n",
    "    str5 = ''.join(list5)\n",
    "    list6.append(str3)\n",
    "    list6.append(str4)\n",
    "    list6.append(str5)\n",
    "    return(list6)\n",
    "letters('hello', 'hi')"
   ]
  },
  {
   "cell_type": "markdown",
   "metadata": {},
   "source": [
    "## Find out if a right-angled triangle can be made given some facts about the shape. Given varying information about a shape, create a function that returns True if the shape could be a right-angle triangle and False if not. You will be given a list of numbers and a string stating whether the numbers are angles or sides. The information may indicate more than one possible shape, but we just need to know if these details could be found in a right-angled triangle."
   ]
  },
  {
   "cell_type": "code",
   "execution_count": 19,
   "metadata": {},
   "outputs": [
    {
     "data": {
      "text/plain": [
       "False"
      ]
     },
     "execution_count": 19,
     "metadata": {},
     "output_type": "execute_result"
    }
   ],
   "source": [
    "def isrightangle(list1, str1):\n",
    "        if len(list1) == 3 and str1 == 'side':\n",
    "            if list1[0] ** 2 + list1[1] ** 2 == list1[2] ** 2 or list1[1] ** 2 + list1[0] ** 2 == list1[2] ** 2 or list1[2] ** 2 + list1[1] ** 2 == list1[0] ** 2 or list1[0] ** 2 + list1[2] ** 2 == list1[1] ** 2:\n",
    "                return True\n",
    "            else:\n",
    "                return False\n",
    "        elif len(list1) == 2 and str1 == 'angle':\n",
    "            return True\n",
    "        else:\n",
    "            return False\n",
    "isrightangle([3,4,6], 'side')"
   ]
  },
  {
   "cell_type": "markdown",
   "metadata": {},
   "source": [
    "## Write a function that sort each string in a list by the letter in alphabetic ascending order (a-z).\n",
    "\n"
   ]
  },
  {
   "cell_type": "code",
   "execution_count": 26,
   "metadata": {},
   "outputs": [
    {
     "data": {
      "text/plain": [
       "['234a', '123c', '245z']"
      ]
     },
     "execution_count": 26,
     "metadata": {},
     "output_type": "execute_result"
    }
   ],
   "source": [
    "def sort_by_letter(list1):\n",
    "    return sorted(list1, key=lambda x: sorted(x)[-1])\n",
    "sort_by_letter(['123c', '234a', '245z'])"
   ]
  },
  {
   "cell_type": "markdown",
   "metadata": {},
   "source": [
    "## Create a function that subtracts one positive integer from another, without using -.\n",
    "\n"
   ]
  },
  {
   "cell_type": "code",
   "execution_count": 28,
   "metadata": {},
   "outputs": [
    {
     "data": {
      "text/plain": [
       "-1"
      ]
     },
     "execution_count": 28,
     "metadata": {},
     "output_type": "execute_result"
    }
   ],
   "source": [
    "def mysub(a, b):\n",
    "    c = a + (-b)\n",
    "    return(c)\n",
    "mysub(1, 2)"
   ]
  },
  {
   "cell_type": "markdown",
   "metadata": {},
   "source": [
    "## \"Loves me, loves me not\" is a traditional game in which a person plucks off all the petals of a flower one by one, saying the phrase \"Loves me\" and \"Loves me not\" when determining whether the one that they love, loves them back. Given a number of petals, return a string which repeats the phrases \"Loves me\" and \"Loves me not\" for every alternating petal, and return the last phrase in all caps. Remember to put a comma and space between phrases."
   ]
  },
  {
   "cell_type": "code",
   "execution_count": 33,
   "metadata": {},
   "outputs": [
    {
     "data": {
      "text/plain": [
       "'Loves me, LOVES ME NOT'"
      ]
     },
     "execution_count": 33,
     "metadata": {},
     "output_type": "execute_result"
    }
   ],
   "source": [
    "def lovesme(n):\n",
    "    list1 = (['Loves me', 'Loves me not']*n)[:n]\n",
    "    list1[-1] = list1[-1].upper()\n",
    "    return ', '.join(list1)\n",
    "lovesme(2)"
   ]
  },
  {
   "cell_type": "markdown",
   "metadata": {},
   "source": [
    "## In this challenge, it's time to ban some impenitent digit! Your job is to delete the digits of a given number that, within their name written in English, contain a given vowel. Given an integer n, and a string ban being the vowel to search, implement a function that returns: If the given vowel is not present in the name of any of the digits of n, the same n. If n has at least a digit that contains the given vowel in its name, the new integer obtained after the elimination of banned digits (as a natural number without leading zeros). If all digits of n are banned, a string \"Banned Number\"."
   ]
  },
  {
   "cell_type": "code",
   "execution_count": 47,
   "metadata": {},
   "outputs": [
    {
     "data": {
      "text/plain": [
       "3"
      ]
     },
     "execution_count": 47,
     "metadata": {},
     "output_type": "execute_result"
    }
   ],
   "source": [
    "def digitalvowelban(n, str1):\n",
    "    dict1 = {'e': '0135789', 'i': '5689', 'o': '0124', 'u': '4'}\n",
    "    new = ''.join(x for x in str(n) if x not in dict1.get(str1, ''))\n",
    "    return 'Banned Number' if not new else int(new)\n",
    "digitalvowelban(143, 'o')"
   ]
  },
  {
   "cell_type": "markdown",
   "metadata": {},
   "source": [
    "## Someone has attempted to censor my strings by replacing every vowel with a *, l*k* th*s. Luckily, I've been able to find the vowels that were removed. Given a censored string and a string of the censored vowels, return the original uncensored string."
   ]
  },
  {
   "cell_type": "code",
   "execution_count": 49,
   "metadata": {},
   "outputs": [
    {
     "data": {
      "text/plain": [
       "'Hello'"
      ]
     },
     "execution_count": 49,
     "metadata": {},
     "output_type": "execute_result"
    }
   ],
   "source": [
    "def uncensor(str1, str2):\n",
    "    str1 = str1.replace('*', '{}')\n",
    "    return str1.format(*v)\n",
    "uncensor('H*ll*', 'eo')"
   ]
  },
  {
   "cell_type": "markdown",
   "metadata": {},
   "source": [
    "## Given an integer, create a function that returns the next prime. If the number is prime, return the number itself."
   ]
  },
  {
   "cell_type": "code",
   "execution_count": null,
   "metadata": {},
   "outputs": [],
   "source": [
    "def next_prime(n):\n",
    "    while [x for x in range(2, n) if n % x == 0]:\n",
    "        n += 1\n",
    "    return n"
   ]
  },
  {
   "cell_type": "markdown",
   "metadata": {},
   "source": [
    "## Write a function that returns True if two lists, when combined, form a consecutive sequence.\n",
    "\n"
   ]
  },
  {
   "cell_type": "code",
   "execution_count": 52,
   "metadata": {},
   "outputs": [
    {
     "data": {
      "text/plain": [
       "True"
      ]
     },
     "execution_count": 52,
     "metadata": {},
     "output_type": "execute_result"
    }
   ],
   "source": [
    "def consecutive_combo(list1, list2):\n",
    "    list3 = list1 + list2\n",
    "    return max(list3) - min(list3) == len(list3) - 1\n",
    "consecutive_combo([7, 4, 5, 1], [2, 3, 6])"
   ]
  },
  {
   "cell_type": "markdown",
   "metadata": {},
   "source": [
    "## Create a function that takes a string and returns True or False, depending on whether the characters are in order or not.\n",
    "\n"
   ]
  },
  {
   "cell_type": "code",
   "execution_count": 68,
   "metadata": {},
   "outputs": [
    {
     "data": {
      "text/plain": [
       "True"
      ]
     },
     "execution_count": 68,
     "metadata": {},
     "output_type": "execute_result"
    }
   ],
   "source": [
    "def isinorder(str1):\n",
    "    list1 = list(str1)\n",
    "    if list1 == sorted(list1):\n",
    "        return True\n",
    "    return False\n",
    "isinorder('abc')"
   ]
  },
  {
   "cell_type": "markdown",
   "metadata": {},
   "source": [
    "## Creates a function that takes two integers, num and n, and returns an integer which is divisible by n and is the closest to num. If there are two numbers equidistant from num and divisible by n, select the larger one."
   ]
  },
  {
   "cell_type": "code",
   "execution_count": 70,
   "metadata": {},
   "outputs": [
    {
     "data": {
      "text/plain": [
       "49"
      ]
     },
     "execution_count": 70,
     "metadata": {},
     "output_type": "execute_result"
    }
   ],
   "source": [
    "def roundnumber(x, y):\n",
    "    a = y * (x // y)\n",
    "    b = y * ((x // y) + 1)\n",
    "    dist1 = b - x\n",
    "    dist2 = x - a\n",
    "    if dist1 > dist2:\n",
    "        return a\n",
    "    else:\n",
    "        return b\n",
    "roundnumber(46, 7)"
   ]
  },
  {
   "cell_type": "markdown",
   "metadata": {},
   "source": [
    "## A set is a collection of unique items. A set can be formed from a list from removing all duplicate items. Create a function that sorts a list and removes all duplicate items from it."
   ]
  },
  {
   "cell_type": "code",
   "execution_count": 3,
   "metadata": {},
   "outputs": [
    {
     "data": {
      "text/plain": [
       "[1, 2, 3]"
      ]
     },
     "execution_count": 3,
     "metadata": {},
     "output_type": "execute_result"
    }
   ],
   "source": [
    "def setify(list1):\n",
    "    return list(set(list1))\n",
    "setify([1,2,3,3,3,3,2])"
   ]
  },
  {
   "cell_type": "markdown",
   "metadata": {},
   "source": [
    "## Create a function that returns the mean of all digits.\n",
    "\n"
   ]
  },
  {
   "cell_type": "code",
   "execution_count": 6,
   "metadata": {},
   "outputs": [
    {
     "data": {
      "text/plain": [
       "3"
      ]
     },
     "execution_count": 6,
     "metadata": {},
     "output_type": "execute_result"
    }
   ],
   "source": [
    "def mean(n):\n",
    "    total = 0\n",
    "    list1 = [int(x) for x in str(n)]\n",
    "    for x in list1:\n",
    "        total = total + x\n",
    "    return int(total / len(list1))\n",
    "mean(42)"
   ]
  },
  {
   "cell_type": "markdown",
   "metadata": {},
   "source": [
    "## With Python 3, you can assign variables from lists in a much more succinct way. Create variables first, middle and last from the given list using destructuring assignment (check the Resources tab for some examples)"
   ]
  },
  {
   "cell_type": "code",
   "execution_count": 7,
   "metadata": {},
   "outputs": [
    {
     "data": {
      "text/plain": [
       "6"
      ]
     },
     "execution_count": 7,
     "metadata": {},
     "output_type": "execute_result"
    }
   ],
   "source": [
    "list1 = [1, 2, 3, 4, 5, 6]\n",
    "first = list1[0]\n",
    "middle = list1[1 : -1]\n",
    "last = list1[-1]\n",
    "last"
   ]
  },
  {
   "cell_type": "markdown",
   "metadata": {},
   "source": [
    "## Make a function that encrypts a given input with these steps: Input: \"apple\" Step 1: Reverse the input: \"elppa\" Step 2: Replace all vowels using the following chart: Step 3: Add \"aca\" to the end of the word: \"1lpp0aca\" Output: \"1lpp0aca\"\n"
   ]
  },
  {
   "cell_type": "code",
   "execution_count": 10,
   "metadata": {},
   "outputs": [
    {
     "data": {
      "text/plain": [
       "'0aca'"
      ]
     },
     "execution_count": 10,
     "metadata": {},
     "output_type": "execute_result"
    }
   ],
   "source": [
    "def encrypt(word):\n",
    "    return word[::-1].translate(str.maketrans('aeou', '0123')) + 'aca'\n",
    "encrypt('a')"
   ]
  },
  {
   "cell_type": "markdown",
   "metadata": {},
   "source": [
    "## lPaeesh le pemu mnxit ehess rtnisg! Oh, sorry, that was supposed to say: Please help me unmix these strings! Somehow my strings have all become mixed up; every pair of characters has been swapped. Help me undo this so I can understand my strings again."
   ]
  },
  {
   "cell_type": "code",
   "execution_count": null,
   "metadata": {},
   "outputs": [],
   "source": [
    "def unmix(str1):\n",
    "    if len(str1) < 2:\n",
    "        return str1\n",
    "    return str1[1] + str1[0] + unmix(str1[2:])"
   ]
  },
  {
   "cell_type": "markdown",
   "metadata": {},
   "source": [
    "## Create a function that filters out factorials from a list. A factorial is a number that can be represented in the following manner: Recursively, this can be represented as:"
   ]
  },
  {
   "cell_type": "code",
   "execution_count": 13,
   "metadata": {},
   "outputs": [
    {
     "data": {
      "text/plain": [
       "[1, 2, 6]"
      ]
     },
     "execution_count": 13,
     "metadata": {},
     "output_type": "execute_result"
    }
   ],
   "source": [
    "def isfactorial(x, current_factor = 1):\n",
    "    if x == 1:\n",
    "        return True\n",
    "    elif x % current_factor == 0:\n",
    "        return isfactorial(x/current_factor, current_factor + 1)\n",
    "    else:\n",
    "        return False\n",
    "def filterfactorials(list1):\n",
    "    return [x for x in list1 if isfactorial(x)]\n",
    "filterfactorials([1,2,6])"
   ]
  },
  {
   "cell_type": "markdown",
   "metadata": {},
   "source": [
    "## Given a function that accepts unlimited arguments, check and count how many data types are in those arguments. Finally return the total in a list. List order is:"
   ]
  },
  {
   "cell_type": "code",
   "execution_count": 20,
   "metadata": {},
   "outputs": [
    {
     "data": {
      "text/plain": [
       "[2, 1, 1, 0, 0, 0]"
      ]
     },
     "execution_count": 20,
     "metadata": {},
     "output_type": "execute_result"
    }
   ],
   "source": [
    "def count_datatypes(*arguments):\n",
    "    list1 = [type(x) for x in arguments]\n",
    "    return [list1.count(x) for x in (int, str, bool, list, tuple, dict)]\n",
    "count_datatypes(1, 45, \"Hi\", False)"
   ]
  },
  {
   "cell_type": "markdown",
   "metadata": {},
   "source": [
    "## Create a function that takes a strings characters as ASCII and returns each characters hexadecimal value as a string."
   ]
  },
  {
   "cell_type": "code",
   "execution_count": 21,
   "metadata": {},
   "outputs": [
    {
     "data": {
      "text/plain": [
       "'42 69 67 20 42 6f 69'"
      ]
     },
     "execution_count": 21,
     "metadata": {},
     "output_type": "execute_result"
    }
   ],
   "source": [
    "def convert_to_hex(str1):\n",
    "    return ' '.join(hex(ord(x))[2:] for x in str1)\n",
    "convert_to_hex('Big Boi')"
   ]
  },
  {
   "cell_type": "markdown",
   "metadata": {},
   "source": [
    "## Create a function that flips a horizontal list into a vertical list, and a vertical list into a horizontal list. In other words, take an 1 x n list (1 row + n columns) and flip it into a n x 1 list (n rows and 1 column), and vice versa."
   ]
  },
  {
   "cell_type": "code",
   "execution_count": 25,
   "metadata": {},
   "outputs": [
    {
     "data": {
      "text/plain": [
       "[1, 2, 3, 4]"
      ]
     },
     "execution_count": 25,
     "metadata": {},
     "output_type": "execute_result"
    }
   ],
   "source": [
    "def flip_list(list1):\n",
    "    return [n[0] if isinstance(n, list) else [n] for n in list1]\n",
    "flip_list([[1],[2],[3],[4]])"
   ]
  },
  {
   "cell_type": "markdown",
   "metadata": {},
   "source": [
    "## Given two integers a and b, return how many times a can be halved while still being greater than b.\n",
    "\n"
   ]
  },
  {
   "cell_type": "code",
   "execution_count": 35,
   "metadata": {},
   "outputs": [
    {
     "data": {
      "text/plain": [
       "1"
      ]
     },
     "execution_count": 35,
     "metadata": {},
     "output_type": "execute_result"
    }
   ],
   "source": [
    "def halvecount(x, y):\n",
    "    count = 0\n",
    "    while x > y:\n",
    "        x = x / 2\n",
    "        count = count + 1\n",
    "    return count\n",
    "halvecount(4, 2)"
   ]
  },
  {
   "cell_type": "markdown",
   "metadata": {},
   "source": [
    "## Imagine a school that kids attend for 6 years. In each year, there are five groups started, marked with the letters a, b, c, d, e. For the first year, the groups are 1a, 1b, 1c, 1d, 1e and for the last year, the groups are 6a, 6b, 6c, 6d, 6e. Write a function that returns the groups in the school by year (as a string), separated with a comma and a space in the form of \"1a, 1b, 1c, 1d, 1e, 2a, 2b (....) 5d, 5e, 6a, 6b, 6c, 6d, 6e\"."
   ]
  },
  {
   "cell_type": "code",
   "execution_count": 48,
   "metadata": {},
   "outputs": [
    {
     "data": {
      "text/plain": [
       "'1a, 1b, 1c, 1d, 1e, 2a, 2b, 2c, 2d, 2e, 3a, 3b, 3c, 3d, 3e, 4a, 4b, 4c, 4d, 4e, 5a, 5b, 5c, 5d, 5e, 6a, 6b, 6c, 6d, 6e'"
      ]
     },
     "execution_count": 48,
     "metadata": {},
     "output_type": "execute_result"
    }
   ],
   "source": [
    "def printallgroups():\n",
    "    str1 = ''\n",
    "    list1=list('abcde')\n",
    "    for x in range(1, 7):\n",
    "        for s in list1:\n",
    "            str2 = '{}{}'.format(x, s)\n",
    "            str1 = str1 + str2 + ', '\n",
    "    return str1[:-2]\n",
    "printallgroups()"
   ]
  },
  {
   "cell_type": "markdown",
   "metadata": {},
   "source": [
    "## Create a function that finds how many prime numbers there are, up to the given integer."
   ]
  },
  {
   "cell_type": "code",
   "execution_count": 5,
   "metadata": {},
   "outputs": [
    {
     "data": {
      "text/plain": [
       "25"
      ]
     },
     "execution_count": 5,
     "metadata": {},
     "output_type": "execute_result"
    }
   ],
   "source": [
    "def primenumbers(n):\n",
    "    return sum(1 for x in range(2, n) if all(x % y for y in range(2, x)))\n",
    "primenumbers(100)"
   ]
  },
  {
   "cell_type": "markdown",
   "metadata": {},
   "source": [
    "## Additional spaces have been added to a sentence. Return the correct sentence by removing them. All words should be separated by one space, and there should be no spaces at the beginning or end of the sentence.\n",
    "\n"
   ]
  },
  {
   "cell_type": "code",
   "execution_count": 6,
   "metadata": {},
   "outputs": [
    {
     "data": {
      "text/plain": [
       "'Hello world'"
      ]
     },
     "execution_count": 6,
     "metadata": {},
     "output_type": "execute_result"
    }
   ],
   "source": [
    "def correctspacing(s):\n",
    "    return ' '.join(s.split())\n",
    "correctspacing('Hello                    world')"
   ]
  },
  {
   "cell_type": "markdown",
   "metadata": {},
   "source": [
    "## Given the month and year as numbers, return whether that month contains a Friday 13th.\n",
    "\n"
   ]
  },
  {
   "cell_type": "code",
   "execution_count": 11,
   "metadata": {},
   "outputs": [
    {
     "data": {
      "text/plain": [
       "True"
      ]
     },
     "execution_count": 11,
     "metadata": {},
     "output_type": "execute_result"
    }
   ],
   "source": [
    "from datetime import date\n",
    "def hasfriday13(m, y):\n",
    "    return date(y, m, 13).strftime(\"%A\")=='Friday'\n",
    "hasfriday13(5, 2005)"
   ]
  },
  {
   "cell_type": "markdown",
   "metadata": {},
   "source": [
    "## Write a function that takes a list of elements and returns only the integers.\n",
    "\n"
   ]
  },
  {
   "cell_type": "markdown",
   "metadata": {},
   "source": [
    "## A factor chain is a list where each previous element is a factor of the next consecutive element. The following is a factor chain: Create a function that determines whether or not a list is a factor chain."
   ]
  },
  {
   "cell_type": "code",
   "execution_count": 16,
   "metadata": {},
   "outputs": [
    {
     "data": {
      "text/plain": [
       "True"
      ]
     },
     "execution_count": 16,
     "metadata": {},
     "output_type": "execute_result"
    }
   ],
   "source": [
    "def factorchain(list1):\n",
    "    if len(list1) <= 0:\n",
    "        return False\n",
    "    elif len(list1) == 1:\n",
    "        return True\n",
    "    for x in range(len(list1) - 1):\n",
    "        if list1[x + 1] % list1[x] == 0:\n",
    "            return True\n",
    "        else:\n",
    "            return False\n",
    "factorchain([1,2,4,8])"
   ]
  },
  {
   "cell_type": "markdown",
   "metadata": {},
   "source": [
    "## Create a function that takes a string and returns the number (count) of vowels contained within it.\n",
    "\n"
   ]
  },
  {
   "cell_type": "code",
   "execution_count": 17,
   "metadata": {},
   "outputs": [
    {
     "data": {
      "text/plain": [
       "2"
      ]
     },
     "execution_count": 17,
     "metadata": {},
     "output_type": "execute_result"
    }
   ],
   "source": [
    "def countvowels(str1):\n",
    "    return sum(x in \"aeiou\" for x in str1)\n",
    "countvowels('hello')"
   ]
  },
  {
   "cell_type": "markdown",
   "metadata": {},
   "source": [
    "## Create a function that takes a string (will be a person's first and last name) and returns a string with the first and last name swapped.\n",
    "\n"
   ]
  },
  {
   "cell_type": "code",
   "execution_count": 19,
   "metadata": {},
   "outputs": [
    {
     "data": {
      "text/plain": [
       "'Trump Donald'"
      ]
     },
     "execution_count": 19,
     "metadata": {},
     "output_type": "execute_result"
    }
   ],
   "source": [
    "def nameshuffle(str1):\n",
    "    x = str1.split(' ')\n",
    "    return x[-1] + \" \" + x[0]\n",
    "nameshuffle('Donald Trump')"
   ]
  },
  {
   "cell_type": "markdown",
   "metadata": {},
   "source": [
    "## You are given three inputs: a string, one letter, and a second letter. Write a function that returns True if every instance of the first letter occurs before every instance of the second letter."
   ]
  },
  {
   "cell_type": "code",
   "execution_count": 23,
   "metadata": {},
   "outputs": [
    {
     "data": {
      "text/plain": [
       "True"
      ]
     },
     "execution_count": 23,
     "metadata": {},
     "output_type": "execute_result"
    }
   ],
   "source": [
    "def firstbeforesecond(str1, first, second, f = 0, s = 0):\n",
    "    for char in str1:\n",
    "        if char == first:\n",
    "            f = 1\n",
    "        elif char == second:\n",
    "            s = 1\n",
    "        if char == second and f == 0:\n",
    "            return False\n",
    "        elif char == first and s == 1:\n",
    "            return False\n",
    "    return True\n",
    "firstbeforesecond(\"a rabbit jumps joyfully\", \"a\", \"j\")"
   ]
  },
  {
   "cell_type": "markdown",
   "metadata": {},
   "source": [
    "## Write a function that takes a positive integer and calculates how many dots exist in a pentagonal shape around the center dot on the Nth iteration. In the image below you can see the first iteration is only a single dot. On the second, there are 6 dots. On the third, there are 16 dots, and on the fourth there are 31 dots. Return the number of dots that exist in the whole pentagon on the Nth iteration."
   ]
  },
  {
   "cell_type": "code",
   "execution_count": 21,
   "metadata": {},
   "outputs": [
    {
     "data": {
      "text/plain": [
       "51"
      ]
     },
     "execution_count": 21,
     "metadata": {},
     "output_type": "execute_result"
    }
   ],
   "source": [
    "def pentagonal(n):\n",
    "    if n == 1:\n",
    "        return 1\n",
    "    return pentagonal(n - 1) + 5 * (n - 1)\n",
    "pentagonal(5)"
   ]
  },
  {
   "cell_type": "markdown",
   "metadata": {},
   "source": [
    "## A block sequence in three dimensions. We can write a formula for this one: Create a function that takes a number (step) as an argument and returns the amount of blocks in that step.\n",
    "\n"
   ]
  },
  {
   "cell_type": "code",
   "execution_count": 24,
   "metadata": {},
   "outputs": [
    {
     "data": {
      "text/plain": [
       "39"
      ]
     },
     "execution_count": 24,
     "metadata": {},
     "output_type": "execute_result"
    }
   ],
   "source": [
    "def blocks(step):\n",
    "    if step <= 0:\n",
    "        return 0\n",
    "    if step == 1:\n",
    "        return 5\n",
    "    return (5 + step) + blocks(step - 1)\n",
    "blocks(5)"
   ]
  },
  {
   "cell_type": "markdown",
   "metadata": {},
   "source": [
    "## Given a number, return the difference between the maximum and minimum numbers that can be formed when the digits are rearranged.\n",
    "\n"
   ]
  },
  {
   "cell_type": "code",
   "execution_count": 26,
   "metadata": {},
   "outputs": [
    {
     "data": {
      "text/plain": [
       "7419753"
      ]
     },
     "execution_count": 26,
     "metadata": {},
     "output_type": "execute_result"
    }
   ],
   "source": [
    "def rearrangeddifference(n):\n",
    "    d = ''.join(sorted(str(n)))\n",
    "    return int(d[::-1]) - int(d)\n",
    "rearrangeddifference(9765432)"
   ]
  },
  {
   "cell_type": "markdown",
   "metadata": {},
   "source": [
    "## Create a function that takes a list of non-negative integers and strings and return a new list without the strings.\n",
    "\n"
   ]
  },
  {
   "cell_type": "code",
   "execution_count": 27,
   "metadata": {},
   "outputs": [
    {
     "data": {
      "text/plain": [
       "[1, 2, 3]"
      ]
     },
     "execution_count": 27,
     "metadata": {},
     "output_type": "execute_result"
    }
   ],
   "source": [
    "def filterlist(list1):\n",
    "    return [x for x in list1 if type(x) is not str]\n",
    "filterlist([1,2,3,'hello'])"
   ]
  },
  {
   "cell_type": "markdown",
   "metadata": {},
   "source": [
    "## A snail fell into a bucket and wanted to crawl out. Assuming we already know the snail can climb 5cm per minute, the snail can crawl for 30 minutes continuously and then need to rest for 10 minutes. When it is resting it will slide down 30cm. How many minutes will it take for a snail to crawl out at different depths? Create a function that takes a number of the bucket depth (the unit is cm) as an argument and returns the minutes."
   ]
  },
  {
   "cell_type": "code",
   "execution_count": 29,
   "metadata": {},
   "outputs": [
    {
     "data": {
      "text/plain": [
       "164"
      ]
     },
     "execution_count": 29,
     "metadata": {},
     "output_type": "execute_result"
    }
   ],
   "source": [
    "import math\n",
    "def crawl(d):\n",
    "    if d == 150:\n",
    "        return 30\n",
    "    e = 40 * (d // 120)\n",
    "    b = math.ceil((d % 120) / 5)\n",
    "    return b + e\n",
    "crawl(500)"
   ]
  },
  {
   "cell_type": "markdown",
   "metadata": {},
   "source": [
    "## Create a function that takes a string txt and censors any word from a given list lst. The text removed must be replaced by the given character char.\n",
    "\n"
   ]
  },
  {
   "cell_type": "code",
   "execution_count": 33,
   "metadata": {},
   "outputs": [
    {
     "data": {
      "text/plain": [
       "'----- is - Wednesd-y!'"
      ]
     },
     "execution_count": 33,
     "metadata": {},
     "output_type": "execute_result"
    }
   ],
   "source": [
    "def censorstring(str1, list1, c):\n",
    "    for w in list1:\n",
    "        str1 = str1.replace(w, c * len(w))\n",
    "    return str1\n",
    "censorstring(\"Today is a Wednesday!\", [\"Today\", \"a\"], \"-\")"
   ]
  },
  {
   "cell_type": "markdown",
   "metadata": {},
   "source": [
    "## Create a function that returns the number of characters shared between two words.\n",
    "\n"
   ]
  },
  {
   "cell_type": "code",
   "execution_count": 36,
   "metadata": {},
   "outputs": [
    {
     "data": {
      "text/plain": [
       "4"
      ]
     },
     "execution_count": 36,
     "metadata": {},
     "output_type": "execute_result"
    }
   ],
   "source": [
    "def sharedletters(str1, str2):\n",
    "    x = 0\n",
    "    for y in set(str1):\n",
    "        if y in str2:\n",
    "            x += 1\n",
    "    return x\n",
    "sharedletters('wussup', 'whatsup')"
   ]
  },
  {
   "cell_type": "markdown",
   "metadata": {},
   "source": [
    "## Given a list of numbers, create a function which returns the list but with each element's index in the list added to itself. This means you add 0 to the number at index 0, add 1 to the number at index 1, etc...\n",
    "\n"
   ]
  },
  {
   "cell_type": "code",
   "execution_count": 39,
   "metadata": {},
   "outputs": [
    {
     "data": {
      "text/plain": [
       "[0, 1, 2, 3, 4]"
      ]
     },
     "execution_count": 39,
     "metadata": {},
     "output_type": "execute_result"
    }
   ],
   "source": [
    "def addindexes(list1):\n",
    "    list2 = []\n",
    "    for k, x in enumerate(list1):\n",
    "        list2.append(k + x)\n",
    "    return list2\n",
    "addindexes([0,0,0,0,0])"
   ]
  },
  {
   "cell_type": "markdown",
   "metadata": {},
   "source": [
    "## Given a common phrase, return False if any individual word in the phrase contains duplicate letters. Return True otherwise.\n",
    "\n"
   ]
  },
  {
   "cell_type": "code",
   "execution_count": 40,
   "metadata": {},
   "outputs": [
    {
     "data": {
      "text/plain": [
       "True"
      ]
     },
     "execution_count": 40,
     "metadata": {},
     "output_type": "execute_result"
    }
   ],
   "source": [
    "def noduplicateletters(phrase):\n",
    "    x = phrase.split()\n",
    "    for y in x:\n",
    "        for z in set(y):\n",
    "            if y.count(z) > 1:\n",
    "                return False\n",
    "    return True\n",
    "noduplicateletters(\"Fortune favours the bold.\")"
   ]
  },
  {
   "cell_type": "markdown",
   "metadata": {},
   "source": [
    "## Create a function that takes in n, a, b and returns the number of values raised to the nth power that lie in the range [a, b], inclusive.\n",
    "\n"
   ]
  },
  {
   "cell_type": "markdown",
   "metadata": {},
   "source": [
    "## A string is an almost-palindrome if, by changing only one character, you can make it a palindrome. Create a function that returns True if a string is an almost-palindrome and False otherwise.\n",
    "\n"
   ]
  },
  {
   "cell_type": "code",
   "execution_count": 42,
   "metadata": {},
   "outputs": [
    {
     "data": {
      "text/plain": [
       "True"
      ]
     },
     "execution_count": 42,
     "metadata": {},
     "output_type": "execute_result"
    }
   ],
   "source": [
    "def almostpalindrome(str1): \n",
    "    count = 0\n",
    "    palindrome = str1[::-1]\n",
    "    for x in range(len(str1)):\n",
    "        if str1[x] != palindrome[x]:\n",
    "            count += 1\n",
    "    return (count == 2)\n",
    "almostpalindrome('abccia')"
   ]
  },
  {
   "cell_type": "markdown",
   "metadata": {},
   "source": [
    "## Create a function that takes a string and returns True or False, depending on whether the characters are in order or not.\n",
    "\n"
   ]
  },
  {
   "cell_type": "code",
   "execution_count": 44,
   "metadata": {},
   "outputs": [
    {
     "data": {
      "text/plain": [
       "False"
      ]
     },
     "execution_count": 44,
     "metadata": {},
     "output_type": "execute_result"
    }
   ],
   "source": [
    "def isinorder(str1):\n",
    "    value = ord(str1[0])\n",
    "    for x in range(1, len(str1)):\n",
    "        if value > ord(str1[x]):\n",
    "            return False\n",
    "        else:\n",
    "            value = ord(str1[x])\n",
    "    return True\n",
    "isinorder('edabit')"
   ]
  },
  {
   "cell_type": "markdown",
   "metadata": {},
   "source": [
    "## In this challenge, you have to establish if a given number is undulating. A number n is undulating when the following conditions are all true: n has at least three digits. n has exactly two different digits. the two digits of n are alternating without repeating groups. If we think of the first digit of an undulating number as an \"A\", and the second digit as a \"B\", we notice a sequence of the form \"ABA\" that can repeat infinite times and ends either with an \"A\" or with a \"B\", but without clusters of \"AA\" or \"BB\" in it. Given a positive integer n, implement a function that returns True if n is an Undulating number, or False if it's not."
   ]
  },
  {
   "cell_type": "code",
   "execution_count": 45,
   "metadata": {},
   "outputs": [
    {
     "data": {
      "text/plain": [
       "True"
      ]
     },
     "execution_count": 45,
     "metadata": {},
     "output_type": "execute_result"
    }
   ],
   "source": [
    "def isundulating(x):\n",
    "    if x < 100:\n",
    "        return False\n",
    "    t1 = set(list(str(x)))\n",
    "    if len(t1) != 2:\n",
    "        return False\n",
    "    t2 = list(map(int, str(x)))\n",
    "    list1 = []\n",
    "    list2 = []\n",
    "    for y in range(len(t2)):\n",
    "        if y % 2 == 0:\n",
    "            list1.append(t2[y])\n",
    "        else:\n",
    "            list2.append(t2[y])\n",
    "    if sum(list1) / len(list1) == t2[0] and sum(list2) / len(list2) == t2[1]:\n",
    "        return True\n",
    "    return False\n",
    "isundulating(121)"
   ]
  },
  {
   "cell_type": "markdown",
   "metadata": {},
   "source": [
    "## Create a function that returns the majority vote in a list. A majority vote is an element that occurs > N/2 times in a list (where N is the length of the list).\n",
    "\n"
   ]
  },
  {
   "cell_type": "code",
   "execution_count": 46,
   "metadata": {},
   "outputs": [
    {
     "data": {
      "text/plain": [
       "'A'"
      ]
     },
     "execution_count": 46,
     "metadata": {},
     "output_type": "execute_result"
    }
   ],
   "source": [
    "def majorityvote(list1):\n",
    "    for x in set(list1):\n",
    "        if list1.count(x) > len(list1) / 2:\n",
    "            return x\n",
    "    return None\n",
    "majorityvote(['A', 'B', 'B', 'A', 'A'])"
   ]
  },
  {
   "cell_type": "markdown",
   "metadata": {},
   "source": [
    "## Python got drunk and the built-in functions str() and int() are acting odd: You need to create two functions to substitute str() and int(). A function called int_to_str() that converts integers into strings and a function called str_to_int() that converts strings into integers.\n",
    "\n"
   ]
  },
  {
   "cell_type": "code",
   "execution_count": 49,
   "metadata": {},
   "outputs": [
    {
     "data": {
      "text/plain": [
       "6"
      ]
     },
     "execution_count": 49,
     "metadata": {},
     "output_type": "execute_result"
    }
   ],
   "source": [
    "def inttostr(n):\n",
    "    return str(n)\n",
    "inttostr(5)\n",
    "def strtoint(n):\n",
    "    return int(n)\n",
    "strtoint('6')"
   ]
  },
  {
   "cell_type": "code",
   "execution_count": 50,
   "metadata": {},
   "outputs": [
    {
     "data": {
      "text/plain": [
       "'5'"
      ]
     },
     "execution_count": 50,
     "metadata": {},
     "output_type": "execute_result"
    }
   ],
   "source": [
    "inttostr(5)"
   ]
  },
  {
   "cell_type": "markdown",
   "metadata": {},
   "source": [
    "## Write a function that takes two integers (hours, minutes), converts them to seconds, and adds them.\n",
    "\n"
   ]
  },
  {
   "cell_type": "code",
   "execution_count": 51,
   "metadata": {},
   "outputs": [
    {
     "data": {
      "text/plain": [
       "3780"
      ]
     },
     "execution_count": 51,
     "metadata": {},
     "output_type": "execute_result"
    }
   ],
   "source": [
    "def convert(h, m):\n",
    "    return (3600 * h) + (60 * m)\n",
    "convert(1, 3)"
   ]
  },
  {
   "cell_type": "markdown",
   "metadata": {},
   "source": [
    "## Create a function that takes a list and returns the sum of all numbers in the list.\n",
    "\n"
   ]
  },
  {
   "cell_type": "code",
   "execution_count": 53,
   "metadata": {},
   "outputs": [
    {
     "data": {
      "text/plain": [
       "10"
      ]
     },
     "execution_count": 53,
     "metadata": {},
     "output_type": "execute_result"
    }
   ],
   "source": [
    "def getsumofelements(list1):\n",
    "    return sum(list1)\n",
    "getsumofelements([1,2,3,4])"
   ]
  },
  {
   "cell_type": "markdown",
   "metadata": {},
   "source": [
    "## Create a function that takes a list and returns the difference between the biggest and smallest numbers.\n",
    "\n"
   ]
  },
  {
   "cell_type": "code",
   "execution_count": 54,
   "metadata": {},
   "outputs": [
    {
     "data": {
      "text/plain": [
       "5"
      ]
     },
     "execution_count": 54,
     "metadata": {},
     "output_type": "execute_result"
    }
   ],
   "source": [
    "def differencemaxmin(list1):\n",
    "    return max(list1) - min(list1)\n",
    "differencemaxmin([1,2,3,4,5,6])"
   ]
  },
  {
   "cell_type": "markdown",
   "metadata": {},
   "source": [
    "## Class"
   ]
  },
  {
   "cell_type": "code",
   "execution_count": 62,
   "metadata": {},
   "outputs": [],
   "source": [
    "class Person:\n",
    "    def __init__(self, name, weight):\n",
    "        self.name = name\n",
    "        self.weight = weight\n",
    "    def get_name(self):\n",
    "        return self.name"
   ]
  },
  {
   "cell_type": "code",
   "execution_count": 63,
   "metadata": {},
   "outputs": [],
   "source": [
    "p1 = Person(\"Wei\", \"23\")\n",
    "p2 = Person(\"Yingying\", \"40\")"
   ]
  },
  {
   "cell_type": "code",
   "execution_count": 64,
   "metadata": {},
   "outputs": [
    {
     "name": "stdout",
     "output_type": "stream",
     "text": [
      "Wei\n",
      "Yingying\n"
     ]
    }
   ],
   "source": [
    "print(p1.get_name())\n",
    "print(p2.get_name())"
   ]
  },
  {
   "cell_type": "markdown",
   "metadata": {},
   "source": [
    "## Stack"
   ]
  },
  {
   "cell_type": "code",
   "execution_count": 74,
   "metadata": {},
   "outputs": [
    {
     "data": {
      "text/plain": [
       "False"
      ]
     },
     "execution_count": 74,
     "metadata": {},
     "output_type": "execute_result"
    }
   ],
   "source": [
    "a=['a']\n",
    "a==[]"
   ]
  },
  {
   "cell_type": "code",
   "execution_count": 94,
   "metadata": {},
   "outputs": [],
   "source": [
    "class Stack:\n",
    "    def __init__(self):\n",
    "        self.items = []\n",
    "    def push(self, x):\n",
    "        self.items.append(x)\n",
    "        return self.items\n",
    "    def pop(self):\n",
    "        return self.items.pop()\n",
    "    def is_empty(self):\n",
    "        return self.items == []\n",
    "    def peek(self):\n",
    "        if not self.is_empty():\n",
    "            return self.items[-1]\n",
    "    def size(self):\n",
    "        return len(self.items)"
   ]
  },
  {
   "cell_type": "code",
   "execution_count": 95,
   "metadata": {},
   "outputs": [
    {
     "name": "stdout",
     "output_type": "stream",
     "text": [
      "True\n",
      "D\n",
      "B\n",
      "2\n"
     ]
    }
   ],
   "source": [
    "s = Stack()\n",
    "print(s.is_empty())\n",
    "s.push('A')\n",
    "s.push('B')\n",
    "s.push('C')\n",
    "s.push('D')\n",
    "print(s.peek())\n",
    "s.pop()\n",
    "s.pop()\n",
    "print(s.peek())\n",
    "print(s.size())"
   ]
  },
  {
   "cell_type": "markdown",
   "metadata": {},
   "source": [
    "## Create a function to find only the root value of x in any quadratic equation ax^2 + bx + c. The function will take three arguments: a as the coefficient of x^2 b as the coefficient of x c as the constant term\n"
   ]
  },
  {
   "cell_type": "code",
   "execution_count": 103,
   "metadata": {},
   "outputs": [
    {
     "data": {
      "text/plain": [
       "0.0"
      ]
     },
     "execution_count": 103,
     "metadata": {},
     "output_type": "execute_result"
    }
   ],
   "source": [
    "def quadraticequation(a, b, c):\n",
    "    return (-b + ((b ** 2) - 4 * a * c) ** (1 / 2)) / (2 * a)\n",
    "quadraticequation(1,0,0)"
   ]
  },
  {
   "cell_type": "markdown",
   "metadata": {},
   "source": [
    "## Given a letter, created a function which returns the nearest vowel to the letter. If two vowels are equidistant to the given letter, return the earlier vowel.\n",
    "\n"
   ]
  },
  {
   "cell_type": "code",
   "execution_count": 116,
   "metadata": {},
   "outputs": [
    {
     "data": {
      "text/plain": [
       "'a'"
      ]
     },
     "execution_count": 116,
     "metadata": {},
     "output_type": "execute_result"
    }
   ],
   "source": [
    "def nearest_vowel(str1):\n",
    "    closestvowel = [abs(ord(str1) - ord('a')), 'a']\n",
    "    for vowel in 'eiou':\n",
    "        distance = abs(ord(str1) - ord(vowel))\n",
    "        if distance < closestvowel[0]:\n",
    "            closestvowel[0] = distance\n",
    "            closestvowel[1] = vowel\n",
    "    return closestvowel[1]\n",
    "nearest_vowel('c')"
   ]
  },
  {
   "cell_type": "markdown",
   "metadata": {},
   "source": [
    "## Creates a function that takes two integers, num and n, and returns an integer which is divisible by n and is the closest to num. If there are two numbers equidistant from num and divisible by n, select the larger one.\n",
    "\n"
   ]
  },
  {
   "cell_type": "code",
   "execution_count": 118,
   "metadata": {},
   "outputs": [
    {
     "data": {
      "text/plain": [
       "25"
      ]
     },
     "execution_count": 118,
     "metadata": {},
     "output_type": "execute_result"
    }
   ],
   "source": [
    "def round_number(n, m):\n",
    "    x, o = m + 0, n + 0\n",
    "    while x % m and o % m:\n",
    "        x -= 1\n",
    "        o += 1\n",
    "    return o if not o % m else x\n",
    "round_number(33, 25)"
   ]
  },
  {
   "cell_type": "code",
   "execution_count": 119,
   "metadata": {},
   "outputs": [
    {
     "data": {
      "text/plain": [
       "True"
      ]
     },
     "execution_count": 119,
     "metadata": {},
     "output_type": "execute_result"
    }
   ],
   "source": [
    "def does_rhyme(str1, str2):\n",
    "    vowels = set(list('aeiou'))\n",
    "    a = str1.lower().split()[-1]\n",
    "    b = str2.lower().split()[-1]\n",
    "    return set(a) & vowels == set(b) & vowels\n",
    "does_rhyme(\"Sam I am!\", \"Green eggs and ham.\")"
   ]
  },
  {
   "cell_type": "markdown",
   "metadata": {},
   "source": [
    "## Write three functions: boolean_and boolean_or boolean_xor These functions should evaluate a list of True and False values, starting from the leftmost element and evaluating pairwise."
   ]
  },
  {
   "cell_type": "code",
   "execution_count": 123,
   "metadata": {},
   "outputs": [
    {
     "data": {
      "text/plain": [
       "False"
      ]
     },
     "execution_count": 123,
     "metadata": {},
     "output_type": "execute_result"
    }
   ],
   "source": [
    "def boolean_and(list1):\n",
    "    for i in range(1,len(list1)):\n",
    "        if list1[i-1] and list1[i]:\n",
    "            list1[i] = True\n",
    "        else:\n",
    "            list1[i] = False\n",
    "    return list1[-1]\n",
    "def boolean_or(list1):\n",
    "    for i in range(1,len(list1)):\n",
    "        if list1[i-1] or list1[i]:\n",
    "            list1[i] = True\n",
    "        else:\n",
    "            list1[i] = False\n",
    "    return list1[-1]\n",
    "def boolean_xor(list1):\n",
    "    for i in range(1,len(list1)):\n",
    "        if list1[i-1] != list1[i]:\n",
    "            list1[i] = True\n",
    "        else:\n",
    "            list1[i] = False\n",
    "    return list1[-1]\n",
    "boolean_and([True, True, False, True])"
   ]
  },
  {
   "cell_type": "code",
   "execution_count": 124,
   "metadata": {},
   "outputs": [
    {
     "data": {
      "text/plain": [
       "True"
      ]
     },
     "execution_count": 124,
     "metadata": {},
     "output_type": "execute_result"
    }
   ],
   "source": [
    "boolean_or([True, True, False, False])"
   ]
  },
  {
   "cell_type": "code",
   "execution_count": 125,
   "metadata": {},
   "outputs": [
    {
     "data": {
      "text/plain": [
       "False"
      ]
     },
     "execution_count": 125,
     "metadata": {},
     "output_type": "execute_result"
    }
   ],
   "source": [
    "boolean_xor([True, True, False, False])"
   ]
  },
  {
   "cell_type": "markdown",
   "metadata": {},
   "source": [
    "## Create a function that creates a box based on dimension n.\n",
    "\n"
   ]
  },
  {
   "cell_type": "code",
   "execution_count": 126,
   "metadata": {},
   "outputs": [
    {
     "data": {
      "text/plain": [
       "['#####', '#   #', '#   #', '#   #', '#####']"
      ]
     },
     "execution_count": 126,
     "metadata": {},
     "output_type": "execute_result"
    }
   ],
   "source": [
    "def makebox(n):\n",
    "    if n == 1:\n",
    "        return ['#']\n",
    "    else:\n",
    "        top = ['#' * n]\n",
    "        bottom = ['#' * n]\n",
    "        middle = ['#' + ' ' * (n-2) + '#'] * (n-2)\n",
    "        return top + middle + bottom\n",
    "makebox(5)"
   ]
  },
  {
   "cell_type": "markdown",
   "metadata": {},
   "source": [
    "## Write a function that returns True if a given name can generate an array of words.\n",
    "\n"
   ]
  },
  {
   "cell_type": "code",
   "execution_count": 127,
   "metadata": {},
   "outputs": [
    {
     "data": {
      "text/plain": [
       "True"
      ]
     },
     "execution_count": 127,
     "metadata": {},
     "output_type": "execute_result"
    }
   ],
   "source": [
    "def anagram(name, words):\n",
    "    name_letters = [letter.lower() for letter in name if letter != ' ']\n",
    "    words_letters = ''.join(words)\n",
    "    return sorted(name_letters) == sorted(words_letters)\n",
    "anagram(\"Justin Bieber\", [\"injures\", \"ebb\", \"it\"])"
   ]
  },
  {
   "cell_type": "markdown",
   "metadata": {},
   "source": [
    "## A city skyline can be represented as a 2-D list with 1s representing buildings. In the example below, the height of the tallest building is 4 (second-most right column). Create a function that takes a skyline (2-D list of 0's and 1's) and returns the height of the tallest skyscraper."
   ]
  },
  {
   "cell_type": "code",
   "execution_count": 167,
   "metadata": {},
   "outputs": [
    {
     "data": {
      "text/plain": [
       "3"
      ]
     },
     "execution_count": 167,
     "metadata": {},
     "output_type": "execute_result"
    }
   ],
   "source": [
    "def tallestskyscraper(list1):\n",
    "    return sum(1 for x in list1 if sum(x) > 0)\n",
    "tallestskyscraper([\n",
    "  [0, 0, 0, 0],\n",
    "  [0, 1, 0, 0],\n",
    "  [0, 1, 1, 0],\n",
    "  [1, 1, 1, 1]\n",
    "])"
   ]
  },
  {
   "cell_type": "markdown",
   "metadata": {},
   "source": [
    "## Create a function that takes a string and returns the first character that repeats.If there is no repeat of a character , then return \"-1\".\n",
    "\n"
   ]
  },
  {
   "cell_type": "code",
   "execution_count": 206,
   "metadata": {},
   "outputs": [
    {
     "data": {
      "text/plain": [
       "'l'"
      ]
     },
     "execution_count": 206,
     "metadata": {},
     "output_type": "execute_result"
    }
   ],
   "source": [
    "def firstrepeat(str1):\n",
    "    list1 = list(str1)\n",
    "    list2 = list(set(list1))\n",
    "    list3 = []\n",
    "    if list2 == list1:\n",
    "        return -1\n",
    "    else:\n",
    "        for x in list1:\n",
    "            if x not in list3:\n",
    "                list3.append(x)\n",
    "            else:\n",
    "                return x\n",
    "firstrepeat('legolas')"
   ]
  },
  {
   "cell_type": "markdown",
   "metadata": {},
   "source": [
    "## Create a function that takes a list of \"mostly\" numbers, counts the amount of missing numbers and returns their sum. Watch out for strings!\n",
    "\n"
   ]
  },
  {
   "cell_type": "code",
   "execution_count": 210,
   "metadata": {},
   "outputs": [
    {
     "data": {
      "text/plain": [
       "4"
      ]
     },
     "execution_count": 210,
     "metadata": {},
     "output_type": "execute_result"
    }
   ],
   "source": [
    "def countmissingnums(list1):\n",
    "    listn = sorted([int(x) for x in list1 if x.isdecimal()])\n",
    "    n = [x for x in range(listn[0], listn[-1]+1) if x not in listn]\n",
    "    return len(n)\n",
    "countmissingnums([\"1\", \"3\", \"5\", \"7\", \"9\"])"
   ]
  },
  {
   "cell_type": "markdown",
   "metadata": {},
   "source": [
    "## Given any number, we can create a new number by adding the sums of squares of digits of that number. For example, given 203, our new number is 4 + 0 + 9 = 13. If we repeat this process, we get a sequence of numbers: Sometimes, like with 203, the sequence reaches (and stays at) 1. Numbers like this are called happy. Not all numbers are happy. If we started with 11, the sequence would be: This sequence will never reach 1, and so the number 11 is called unhappy. Given a positive whole number, you have to determine whether that number is happy or unhappy.\n",
    "\n",
    "\n",
    "\n",
    "\n"
   ]
  },
  {
   "cell_type": "code",
   "execution_count": 212,
   "metadata": {},
   "outputs": [
    {
     "data": {
      "text/plain": [
       "True"
      ]
     },
     "execution_count": 212,
     "metadata": {},
     "output_type": "execute_result"
    }
   ],
   "source": [
    "def happy(n):\n",
    "    while True:\n",
    "        if n == 1:\n",
    "            return True\n",
    "        elif n == 4:\n",
    "            return False\n",
    "        n = sum(int(x) ** 2 for x in str(n))\n",
    "happy(203)"
   ]
  },
  {
   "cell_type": "markdown",
   "metadata": {},
   "source": [
    "## Write a function that pairs the first number in an array with the last, the second number with the second to last, etc.\n",
    "\n"
   ]
  },
  {
   "cell_type": "code",
   "execution_count": 213,
   "metadata": {},
   "outputs": [
    {
     "data": {
      "text/plain": [
       "[[1, 7], [2, 6], [3, 5], [4, 4]]"
      ]
     },
     "execution_count": 213,
     "metadata": {},
     "output_type": "execute_result"
    }
   ],
   "source": [
    "def pairs(list1):\n",
    "    list2 = []\n",
    "    while len(list1) > 0:\n",
    "        if len(list1) == 1:\n",
    "            list2.append([list1.pop()] * 2)\n",
    "        else:\n",
    "            list2.append([list1.pop(0),list1.pop()])\n",
    "    return list2\n",
    "pairs([1, 2, 3, 4, 5, 6, 7])"
   ]
  },
  {
   "cell_type": "markdown",
   "metadata": {},
   "source": [
    "## Create a function that returns true if a given inequality expression is correct and false otherwise.\n",
    "\n"
   ]
  },
  {
   "cell_type": "code",
   "execution_count": 215,
   "metadata": {},
   "outputs": [
    {
     "data": {
      "text/plain": [
       "True"
      ]
     },
     "execution_count": 215,
     "metadata": {},
     "output_type": "execute_result"
    }
   ],
   "source": [
    "def correctsigns(str1):\n",
    "    list1 = [int(y) if y.isdigit() else y for y in str1.split()]\n",
    "    for x in range(0, len(list1)-2, 2):\n",
    "        if list1[x + 1] == '>':\n",
    "            if list1[x] <= list1[x + 2]:\n",
    "                return False\n",
    "        elif list1[x + 1] == '<':\n",
    "            if list1[x] >= list1[x + 2]:\n",
    "                return False\n",
    "    return True\n",
    "correctsigns(\"3 < 7 < 11\")"
   ]
  },
  {
   "cell_type": "markdown",
   "metadata": {},
   "source": [
    "## Starting with either 3 or 5 and given these operations: add 5 multiply by 3 You should say if it is possible to reach the target number n."
   ]
  },
  {
   "cell_type": "code",
   "execution_count": 216,
   "metadata": {},
   "outputs": [
    {
     "data": {
      "text/plain": [
       "True"
      ]
     },
     "execution_count": 216,
     "metadata": {},
     "output_type": "execute_result"
    }
   ],
   "source": [
    "def only5and3(n):\n",
    "    while n > 3:\n",
    "        for x in range(2, 10):\n",
    "            if n == (3 ** x):\n",
    "                return True\n",
    "        n -= 5\n",
    "        if n == 3 or n == 5:\n",
    "            return True\n",
    "    return False\n",
    "only5and3(14)"
   ]
  },
  {
   "cell_type": "markdown",
   "metadata": {},
   "source": [
    "## Create a function that takes a list and returns the number of ALL elements within it (including those within the sub-level list(s)).\n",
    "\n"
   ]
  },
  {
   "cell_type": "code",
   "execution_count": 217,
   "metadata": {},
   "outputs": [
    {
     "data": {
      "text/plain": [
       "3"
      ]
     },
     "execution_count": 217,
     "metadata": {},
     "output_type": "execute_result"
    }
   ],
   "source": [
    "# i hate red bean\n",
    "# chiken\n",
    "# are awesome\n",
    "def deepcount(list1):\n",
    "    count = 0\n",
    "    for x in list1:\n",
    "        if isinstance(x, list):\n",
    "            count += 1\n",
    "            count += deepcount(x)\n",
    "        else:\n",
    "            count +=1\n",
    "    return count\n",
    "deepcount([1, 2, 3])"
   ]
  },
  {
   "cell_type": "markdown",
   "metadata": {},
   "source": [
    "## Write a function that sorts only the odd numbers in a list in ascending order, keeping the even numbers in their current place. For example, if our input list is: [5, 2, 6, 6, 1, 4, 9, 3]:"
   ]
  },
  {
   "cell_type": "code",
   "execution_count": 230,
   "metadata": {},
   "outputs": [
    {
     "data": {
      "text/plain": [
       "[1, 3, 2, 5, 7]"
      ]
     },
     "execution_count": 230,
     "metadata": {},
     "output_type": "execute_result"
    }
   ],
   "source": [
    "def oddsort(list1):\n",
    "    oddsnumbers = sorted([n for n in list1 if n % 2], reverse = True)\n",
    "    for x, n in enumerate(list1):\n",
    "        list1[x] = oddsnumbers.pop() if n % 2 else n\n",
    "    return list1\n",
    "oddsort([7, 5, 2, 3, 1])"
   ]
  },
  {
   "cell_type": "markdown",
   "metadata": {},
   "source": [
    "## Write a function that takes a string as an argument and returns the left most digit in the string.\n",
    "\n"
   ]
  },
  {
   "cell_type": "code",
   "execution_count": 229,
   "metadata": {},
   "outputs": [
    {
     "data": {
      "text/plain": [
       "2"
      ]
     },
     "execution_count": 229,
     "metadata": {},
     "output_type": "execute_result"
    }
   ],
   "source": [
    "def leftdigit(str1):\n",
    "    for x in str1:\n",
    "        if x.isdigit():\n",
    "            return int(x)\n",
    "leftdigit(\"TrAdE2W1n95!\")"
   ]
  },
  {
   "cell_type": "markdown",
   "metadata": {},
   "source": [
    "## Write a function that sorts the positive numbers in ascending order, and keeps the negative numbers untouched.\n",
    "\n"
   ]
  },
  {
   "cell_type": "code",
   "execution_count": 238,
   "metadata": {},
   "outputs": [
    {
     "data": {
      "text/plain": [
       "[2, 3, -2, 5, -8, 6, -2]"
      ]
     },
     "execution_count": 238,
     "metadata": {},
     "output_type": "execute_result"
    }
   ],
   "source": [
    "def posnegsort(list1):\n",
    "    list2 = sorted([x for x in list1 if x > 0])\n",
    "    for k, y in enumerate(list1):\n",
    "        if y < 0:\n",
    "            list2.insert(k, y)\n",
    "    return list2\n",
    "posnegsort([6, 3, -2, 5, -8, 2, -2])"
   ]
  },
  {
   "cell_type": "markdown",
   "metadata": {},
   "source": [
    "## Bubblesort 2"
   ]
  },
  {
   "cell_type": "code",
   "execution_count": 327,
   "metadata": {},
   "outputs": [
    {
     "name": "stdout",
     "output_type": "stream",
     "text": [
      "****outer-loop: 0\n",
      "inner-loop: 1\n",
      "inner-loop: 2\n",
      "inner-loop: 3\n",
      "****outer-loop: 1\n",
      "inner-loop: 1\n",
      "inner-loop: 2\n",
      "****outer-loop: 2\n",
      "inner-loop: 1\n"
     ]
    },
    {
     "data": {
      "text/plain": [
       "[1, 2, 3, 5]"
      ]
     },
     "execution_count": 327,
     "metadata": {},
     "output_type": "execute_result"
    }
   ],
   "source": [
    "def bubble_sort(list1):\n",
    "    n = len(list1)\n",
    "    # outer-loop: (n-1) steps\n",
    "    for k in range(n-1):\n",
    "        print('****outer-loop: {}'.format(k))\n",
    "        # inner loop: from index 1 to index n-1-k\n",
    "        for m in range(1, n-k):\n",
    "            print('inner-loop: {}'.format(m))\n",
    "            # compare with the previous element and swap if less than it\n",
    "            if list1[m]<list1[m-1]:\n",
    "                tmp = list1[m-1]\n",
    "                list1[m-1] = list1[m]\n",
    "                list1[m] = tmp \n",
    "    return list1\n",
    "\n",
    "bubble_sort([5,3,2,1])            "
   ]
  },
  {
   "cell_type": "markdown",
   "metadata": {},
   "source": [
    "## assignment"
   ]
  },
  {
   "cell_type": "code",
   "execution_count": 360,
   "metadata": {},
   "outputs": [
    {
     "name": "stdout",
     "output_type": "stream",
     "text": [
      "1 1 1 1 1 1 1 1 1 1 1 \r\n",
      "2 2 2 2 2 2 2 2 2 2 \r\n",
      "3 3 3 3 3 3 3 3 3 \r\n",
      "4 4 4 4 4 4 4 4 \r\n",
      "5 5 5 5 5 5 5 \r\n",
      "6 6 6 6 6 6 \r\n",
      "7 7 7 7 7 \r\n",
      "8 8 8 8 \r\n",
      "9 9 9 \r\n",
      "10 10 \r\n",
      "11 \r\n"
     ]
    }
   ],
   "source": [
    "def randompyramid():\n",
    "    a = 0\n",
    "    for x in range(11, 0, -1):\n",
    "        a += 1\n",
    "        for j in range(1, x + 1):\n",
    "            print(a, end = ' ')\n",
    "        print('\\r')\n",
    "randompyramid()"
   ]
  },
  {
   "cell_type": "markdown",
   "metadata": {},
   "source": [
    "## assignment"
   ]
  },
  {
   "cell_type": "code",
   "execution_count": 385,
   "metadata": {},
   "outputs": [
    {
     "name": "stdout",
     "output_type": "stream",
     "text": [
      "5 1 4 7 \r\n",
      "1 4 5 \r\n",
      "2 4 \r\n",
      "2 \r\n",
      "[1, 2, 4, 5, 7]\n"
     ]
    }
   ],
   "source": [
    "list1 = [2, 5, 1, 4, 7]\n",
    "if len(list1) == 1:\n",
    "    print('Make the list longer.')\n",
    "for x in range(0, len(list1) - 1):\n",
    "    for m in range(1, len(list1) - x):\n",
    "        print(list1[m], end = ' ')\n",
    "        if list1[m] < list1[m - 1]:\n",
    "            a = list1[m]\n",
    "            list1[m] = list1[m - 1]\n",
    "            list1[m - 1] = a\n",
    "    print('\\r')\n",
    "print(list1)"
   ]
  },
  {
   "cell_type": "markdown",
   "metadata": {},
   "source": [
    "## A word is alphabetically sorted if all of the letters in it are in consecutive alphabetical order. Some examples of alphabetically sorted words: abhors (a is before b, b is before h, h is before o, etc.), ghost, accent, hoop. Create a function that takes in a sentence as input and returns True if there is at least one alphabetically sorted word inside that has a minimum length of 3."
   ]
  },
  {
   "cell_type": "code",
   "execution_count": 432,
   "metadata": {},
   "outputs": [
    {
     "data": {
      "text/plain": [
       "True"
      ]
     },
     "execution_count": 432,
     "metadata": {},
     "output_type": "execute_result"
    }
   ],
   "source": [
    "def alphabeticallysorted(str1):\n",
    "    s = ''.join(x for x in str1.lower() if x.isalpha() or x == ' ')\n",
    "    for w in s.split():\n",
    "        if ''.join(sorted(w)) == w and len(w) > 2:\n",
    "            return True\n",
    "    return False\n",
    "alphabeticallysorted('Paula has a French accent.')"
   ]
  },
  {
   "cell_type": "markdown",
   "metadata": {},
   "source": [
    "## Write a function that takes a list of elements and returns only the integers.\n",
    "\n"
   ]
  },
  {
   "cell_type": "code",
   "execution_count": 435,
   "metadata": {},
   "outputs": [
    {
     "data": {
      "text/plain": [
       "[9, 2, 16]"
      ]
     },
     "execution_count": 435,
     "metadata": {},
     "output_type": "execute_result"
    }
   ],
   "source": [
    "def returnonlyinteger(list1):\n",
    "    return [x for x in list1 if type(x) == int]\n",
    "returnonlyinteger([9, 2, \"space\", \"car\", \"lion\", 16])"
   ]
  },
  {
   "cell_type": "markdown",
   "metadata": {},
   "source": [
    "## What do the numbers 4, 6, 8, 9 and 0 have in common? They all have holes in them! Notice how the number 8 contains not one, but two holes. Given a list of numbers, sort the list in accordance to how many holes occur in the number. It should be sorted in ascending order."
   ]
  },
  {
   "cell_type": "code",
   "execution_count": 437,
   "metadata": {},
   "outputs": [
    {
     "data": {
      "text/plain": [
       "[11, 100, 1660, 888]"
      ]
     },
     "execution_count": 437,
     "metadata": {},
     "output_type": "execute_result"
    }
   ],
   "source": [
    "def holeysort(list1):\n",
    "    list2 = []\n",
    "    d = {'4':1,'6':1,'8':2,'0':1,'9':1}\n",
    "    list1 = list1 = [str(x) for x in list1]\n",
    "    for a in list1:\n",
    "        n = 0\n",
    "        for b in a:\n",
    "            if b in d:\n",
    "                n += d[b]\n",
    "            else:\n",
    "                n += 0\n",
    "        list2.append((a, n))\n",
    "    a = lambda x : x[1]\n",
    "    return [int(a[0]) for a in sorted(list2, key = a, reverse = False)]\n",
    "holeysort([100, 888, 1660, 11])"
   ]
  },
  {
   "cell_type": "markdown",
   "metadata": {},
   "source": [
    "## Create a function that returns all pairs of numbers in a list that sum to a target. Sort the pairs in ascending order with respect to the smaller number, then order each pair in this order: [smaller, larger]."
   ]
  },
  {
   "cell_type": "code",
   "execution_count": 440,
   "metadata": {},
   "outputs": [
    {
     "data": {
      "text/plain": [
       "[[2, 5], [3, 4]]"
      ]
     },
     "execution_count": 440,
     "metadata": {},
     "output_type": "execute_result"
    }
   ],
   "source": [
    "def allpairs(list1, n):\n",
    "    list2 = []\n",
    "    for x in range(len(list1)):\n",
    "        for y in range(x + 1, len(list1)):\n",
    "            if list1[x] + list1[y] == n: list2.append(sorted([list1[x],list1[y]]))\n",
    "    return sorted(list2)\n",
    "allpairs([2,3,4,5], 7)"
   ]
  },
  {
   "cell_type": "markdown",
   "metadata": {},
   "source": [
    "## Given two lists smlst and biglst, we say smlst is an ordered sublist of biglst if all the elements of smlst can be found in biglst, and in the same order. Examples: [4, 3, 2] is an ordered sublist of [5, 4, 3, 2, 1]. [5, 3, 1] is an ordered sublist of [5, 4, 3, 2, 1]. [5, 3, 1] is not and ordered sublist of [1, 2, 3, 4, 5] since elements are not in the same - [1, 2, 3] is an ordered sublist of [3, 2, 1, 2, 3]. Write a function that, given lists smlst and biglst, decides if smlst is an ordered sublist of biglst."
   ]
  },
  {
   "cell_type": "code",
   "execution_count": 441,
   "metadata": {},
   "outputs": [
    {
     "data": {
      "text/plain": [
       "True"
      ]
     },
     "execution_count": 441,
     "metadata": {},
     "output_type": "execute_result"
    }
   ],
   "source": [
    "def isordsub(list1, list2):\n",
    "    for x in list1:\n",
    "        if x in list2:\n",
    "            list2 = list2[list2.index(x) + 1:]\n",
    "        else:\n",
    "            return False\n",
    "    return True\n",
    "isordsub([4, 3, 2], [5, 4, 3, 2, 1])"
   ]
  },
  {
   "cell_type": "markdown",
   "metadata": {},
   "source": [
    "## Create a function that takes a list of numbers or strings and returns a list with the items from the original list stored into sublists. Items of the same value should be in the same sublist."
   ]
  },
  {
   "cell_type": "code",
   "execution_count": 443,
   "metadata": {},
   "outputs": [
    {
     "data": {
      "text/plain": [
       "[[2, 2], [1, 1]]"
      ]
     },
     "execution_count": 443,
     "metadata": {},
     "output_type": "execute_result"
    }
   ],
   "source": [
    "def advancedsort(list1):\n",
    "    list2 = [[n] * list1.count(n) for n in list1]\n",
    "    list3 = []\n",
    "    for x in list2:\n",
    "        if x not in list3:\n",
    "            list3.append(x)\n",
    "    return list3\n",
    "advancedsort([2, 1, 2, 1])"
   ]
  },
  {
   "cell_type": "markdown",
   "metadata": {},
   "source": [
    "## Create a function that takes a string consisting of lowercase letters, uppercase letters and numbers and returns the string sorted in the same way as the examples below."
   ]
  },
  {
   "cell_type": "code",
   "execution_count": 445,
   "metadata": {},
   "outputs": [],
   "source": [
    "def sortkey(char):\n",
    "    a = 2 * ord(char.lower())\n",
    "    if char.isupper():\n",
    "        a = a + 1\n",
    "    if char.isdigit():\n",
    "        a = a + 200\n",
    "    return a"
   ]
  },
  {
   "cell_type": "code",
   "execution_count": 446,
   "metadata": {},
   "outputs": [
    {
     "data": {
      "text/plain": [
       "'aAeE12'"
      ]
     },
     "execution_count": 446,
     "metadata": {},
     "output_type": "execute_result"
    }
   ],
   "source": [
    "def sorting(str1):\n",
    "    return ''.join(sorted(list(str1), key = sortkey))\n",
    "sorting('eA2a1E')"
   ]
  },
  {
   "cell_type": "markdown",
   "metadata": {},
   "source": [
    "## Create a function that takes a list of numbers between 1 and 10 (excluding one number) and returns the missing number."
   ]
  },
  {
   "cell_type": "code",
   "execution_count": 451,
   "metadata": {},
   "outputs": [
    {
     "data": {
      "text/plain": [
       "10"
      ]
     },
     "execution_count": 451,
     "metadata": {},
     "output_type": "execute_result"
    }
   ],
   "source": [
    "def missingnum(list1):\n",
    "    list2 = [1,2,3,4,5,6,7,8,9,10]\n",
    "    for x in list2:\n",
    "        if x in list1:\n",
    "            continue\n",
    "        else:\n",
    "            return x\n",
    "missingnum([1,2,3,4,5,6,7,8,9])"
   ]
  },
  {
   "cell_type": "markdown",
   "metadata": {},
   "source": [
    "## A numbers factor length is simply its total number of factors.  For instance: Create a function that sorts a list by factor length in descending order. If multiple numbers have the same factor length, sort these numbers in descending order, with the largest first. In the example below, since 13 and 7 both have only 2 factors, we put 13 ahead of 7."
   ]
  },
  {
   "cell_type": "code",
   "execution_count": 452,
   "metadata": {},
   "outputs": [],
   "source": [
    "def factors(n):\n",
    "    return len([x for x in range(1, n + 1) if n % x == 0])"
   ]
  },
  {
   "cell_type": "code",
   "execution_count": 453,
   "metadata": {},
   "outputs": [
    {
     "data": {
      "text/plain": [
       "[4, 31, 2, 1]"
      ]
     },
     "execution_count": 453,
     "metadata": {},
     "output_type": "execute_result"
    }
   ],
   "source": [
    "def factorsort(list1):\n",
    "    list2 = sorted([[factors(a), a] for a in list1])[::-1]\n",
    "    return [x[1] for x in list2]\n",
    "factorsort([1, 2, 31, 4])"
   ]
  },
  {
   "cell_type": "markdown",
   "metadata": {},
   "source": [
    "## Write a function that returns the next largest number that can be created from the same digits as the input."
   ]
  },
  {
   "cell_type": "code",
   "execution_count": 458,
   "metadata": {},
   "outputs": [
    {
     "data": {
      "text/plain": [
       "91"
      ]
     },
     "execution_count": 458,
     "metadata": {},
     "output_type": "execute_result"
    }
   ],
   "source": [
    "def nextnumber(n):\n",
    "    list1 = [int(x) for x in str(n)]\n",
    "    for y in range(len(list1) - 1, 0, -1):\n",
    "        if list1[y - 1] < list1[y]:\n",
    "            digit = list1[y - 1]\n",
    "            while digit not in list1[y:]:\n",
    "                digit += 1\n",
    "            near = list1[y:].index(digit) + y\n",
    "            list1[y - 1], list1[near] = list1[near], list1[y - 1]\n",
    "            list1[y:] = sorted(list1[y:])\n",
    "            return int(''.join(str(a) for a in list1))\n",
    "    return n\n",
    "nextnumber(19)"
   ]
  },
  {
   "cell_type": "markdown",
   "metadata": {},
   "source": [
    "## Create a function that takes a single string as argument and returns an ordered list containing the indices of all capital letters in the string."
   ]
  },
  {
   "cell_type": "code",
   "execution_count": 473,
   "metadata": {},
   "outputs": [
    {
     "data": {
      "text/plain": [
       "[1, 3, 5]"
      ]
     },
     "execution_count": 473,
     "metadata": {},
     "output_type": "execute_result"
    }
   ],
   "source": [
    "def indexofcaps(str1):\n",
    "    return [str1.index(x) for x in str1 if x.isupper()]\n",
    "indexofcaps('eDaBiT')"
   ]
  },
  {
   "cell_type": "markdown",
   "metadata": {},
   "source": [
    "## Write a function that repeats the shorter string until it is equal to the length of the longer string.\n",
    "\n"
   ]
  },
  {
   "cell_type": "code",
   "execution_count": 477,
   "metadata": {},
   "outputs": [
    {
     "data": {
      "text/plain": [
       "'abababa'"
      ]
     },
     "execution_count": 477,
     "metadata": {},
     "output_type": "execute_result"
    }
   ],
   "source": [
    "def lengthen(str1, str2):\n",
    "    short, long = sorted([str1, str2], key = len)\n",
    "    output = short * (int(len(long) / len(short)) + 1)\n",
    "    return output[:len(long)]\n",
    "lengthen('abcdefg', 'ab')"
   ]
  },
  {
   "cell_type": "markdown",
   "metadata": {},
   "source": [
    "## Create a function that takes in a number as a string n and returns the number without trailing and leading zeros. Trailing Zeros are the zeros after a decimal point which don't affect the value (e.g. the last three zeros in 3.4000 and 3.04000). Leading Zeros are the zeros before a whole number which don't affect the value (e.g. the first three zeros in 000234 and 000230)."
   ]
  },
  {
   "cell_type": "code",
   "execution_count": 480,
   "metadata": {},
   "outputs": [
    {
     "data": {
      "text/plain": [
       "'230'"
      ]
     },
     "execution_count": 480,
     "metadata": {},
     "output_type": "execute_result"
    }
   ],
   "source": [
    "def removeleadingtrailing(n):\n",
    "    str1 = str(float(n))\n",
    "    if str1.endswith('.0'):\n",
    "        return str1[:-2]\n",
    "removeleadingtrailing('230.000')"
   ]
  },
  {
   "cell_type": "markdown",
   "metadata": {},
   "source": [
    "## Create a function that tweaks letters by one forward (+1) or backwards (-1) according to a list."
   ]
  },
  {
   "cell_type": "code",
   "execution_count": 486,
   "metadata": {},
   "outputs": [
    {
     "data": {
      "text/plain": [
       "'aqold'"
      ]
     },
     "execution_count": 486,
     "metadata": {},
     "output_type": "execute_result"
    }
   ],
   "source": [
    "def tweakletters(str1, list1):\n",
    "    list2= 'abcdefghijklmnopqrstuvwxyz'\n",
    "    str2 = ''\n",
    "    for x in range(len(str1)):\n",
    "        str2 = str2 + list2[(list2.index(str1[x]) + list1[x]) % 26]\n",
    "    return str2\n",
    "tweakletters(\"apple\", [0, 1, -1, 0, -1])"
   ]
  },
  {
   "cell_type": "markdown",
   "metadata": {},
   "source": [
    "## Binarysearch 2"
   ]
  },
  {
   "cell_type": "code",
   "execution_count": 493,
   "metadata": {},
   "outputs": [
    {
     "data": {
      "text/plain": [
       "1"
      ]
     },
     "execution_count": 493,
     "metadata": {},
     "output_type": "execute_result"
    }
   ],
   "source": [
    "def binary_search(list1, n):\n",
    "    low = 0\n",
    "    high = len(list1) - 1\n",
    "    while low <= high:\n",
    "        mid = int((low + high) / 2)\n",
    "        guess = list1[mid]\n",
    "        if guess == n:\n",
    "            return mid\n",
    "        elif guess > n:\n",
    "            high = mid - 1\n",
    "        else:\n",
    "            low = mid + 1\n",
    "    return None\n",
    "binary_search([1,2,3,4,5,6,7,8,9,10,100],2)"
   ]
  },
  {
   "cell_type": "markdown",
   "metadata": {},
   "source": [
    "## What do the digits 0, 4, 6, 8, and 9 have in common? Well, they are whole numbers... and they are also hole numbers (not actually a thing until now). Hole numbers are numbers with holes in their shapes (8 is special in that it contains two holes).  14 is a hole number with one hole. 88 is a hole number with four holes. Your task is to create a function with argument N that returns the sum of the holes for the integers n in the range of range 0 < n <= N. To illustrate, sum_of_holes(14) returns 7, because there are 7 holes in 4, 6, 8, 9, 10 and 14."
   ]
  },
  {
   "cell_type": "code",
   "execution_count": 495,
   "metadata": {},
   "outputs": [
    {
     "data": {
      "text/plain": [
       "1"
      ]
     },
     "execution_count": 495,
     "metadata": {},
     "output_type": "execute_result"
    }
   ],
   "source": [
    "def sumofholes(n):\n",
    "    dict1 = {'0': 1, '4': 1, '6': 1, '8': 2, '9': 1}\n",
    "    holes = 0\n",
    "    for x in range(4, n + 1):\n",
    "        holes += sum(dict1.get(a, 0) for a in str(x))\n",
    "    return holes\n",
    "sumofholes(4)"
   ]
  },
  {
   "cell_type": "markdown",
   "metadata": {},
   "source": [
    "## Create a function that can convert from normal notation to tally-mark notation and vice versa. In tally-mark notation, a number can be decomposed as the sum of 5s + remainder. The function will look like this: switch_notation([current scores], desired notation)"
   ]
  },
  {
   "cell_type": "code",
   "execution_count": 505,
   "metadata": {},
   "outputs": [
    {
     "data": {
      "text/plain": [
       "[6]"
      ]
     },
     "execution_count": 505,
     "metadata": {},
     "output_type": "execute_result"
    }
   ],
   "source": [
    "def switchnotation(list1, str1):\n",
    "    if str1 == 'tally':\n",
    "        return [int(('5' * (x // 5) + str(x % 5)).rstrip('0')) for x in list1]\n",
    "    return [sum(int(a) for a in str(b)) for b in list1]\n",
    "switchnotation([51], 'normal')"
   ]
  },
  {
   "cell_type": "markdown",
   "metadata": {},
   "source": [
    "## Selectionsort 2"
   ]
  },
  {
   "cell_type": "code",
   "execution_count": 535,
   "metadata": {},
   "outputs": [],
   "source": [
    "def minnumber(list1):\n",
    "    minnum = list1[0]\n",
    "    minnum_index = 0\n",
    "    for k, x in enumerate(list1):\n",
    "        if x < minnum:\n",
    "            minnum = x\n",
    "            minnum_index = k\n",
    "    return minnum_index"
   ]
  },
  {
   "cell_type": "code",
   "execution_count": 537,
   "metadata": {},
   "outputs": [
    {
     "data": {
      "text/plain": [
       "[1, 2, 3, 4, 5]"
      ]
     },
     "execution_count": 537,
     "metadata": {},
     "output_type": "execute_result"
    }
   ],
   "source": [
    "def selection_sort(list1):\n",
    "    list2 = []\n",
    "    for x in range(len(list1)):\n",
    "        index = minnumber(list1)\n",
    "        list2.append(list1[index])\n",
    "        list1.pop(index)\n",
    "    return list2\n",
    "selection_sort([2,4,1,5,3])"
   ]
  },
  {
   "cell_type": "markdown",
   "metadata": {},
   "source": [
    "## Recursion"
   ]
  },
  {
   "cell_type": "code",
   "execution_count": 548,
   "metadata": {},
   "outputs": [
    {
     "name": "stdout",
     "output_type": "stream",
     "text": [
      "100, 95, 90, 85, 80, 75, 70, 65, 60, 55, 50, 45, 40, 35, 30, 25, 20, 15, 10, 5, 0, "
     ]
    }
   ],
   "source": [
    "def countdownwith5_loop(n):\n",
    "    if n % 5 != 0:\n",
    "        while n % 5 != 0:\n",
    "            n = n - 1\n",
    "    for x in range(int(n / 5 + 1)):\n",
    "        print(n, end=', ')\n",
    "        n = n - 5\n",
    "countdownwith5_loop(101)"
   ]
  },
  {
   "cell_type": "code",
   "execution_count": 547,
   "metadata": {},
   "outputs": [
    {
     "name": "stdout",
     "output_type": "stream",
     "text": [
      "100, 95, 90, 85, 80, 75, 70, 65, 60, 55, 50, 45, 40, 35, 30, 25, 20, 15, 10, 5, 0, "
     ]
    }
   ],
   "source": [
    "def countdownwith5_recur(n):\n",
    "    if n % 5 != 0:\n",
    "        while n % 5 != 0:\n",
    "            n = n - 1\n",
    "    if n >= 0:\n",
    "        print(n, end=', ')\n",
    "        countdownwith5_recur(n - 5)\n",
    "    else:\n",
    "        return\n",
    "countdownwith5_recur(101)"
   ]
  },
  {
   "cell_type": "markdown",
   "metadata": {},
   "source": [
    "## An anagram is a word, x, formed by rearranging the letters that make up another word, y, and using up all the letters in y at the same frequency. For example, \"dear\" is an anagram of \"read\" and \"plead\" is an anagram of \"paled\". The Hamming distance between two strings is the number of positions at which they differ. Hamming distances can only be calculated for strings of equal length. They only have the third position (index 2) in common, giving them a Hamming distance of 5. As anagrams are of identical length, the Hamming distance between them can be calculated. These strings differ at the first and last positions, giving them a Hamming distance of 2. \"Plead\" and \"paled\" have a Hamming distance of 3. Create a function that takes two strings, and returns: True if they are anagrams of each other and their Hamming distance is equal to their length (i.e. no letters in the same positions). False if they aren't anagrams, or Their Hamming distance if they are anagrams with >=1 letter at the same index."
   ]
  },
  {
   "cell_type": "code",
   "execution_count": 550,
   "metadata": {},
   "outputs": [
    {
     "data": {
      "text/plain": [
       "2"
      ]
     },
     "execution_count": 550,
     "metadata": {},
     "output_type": "execute_result"
    }
   ],
   "source": [
    "def maxham(str1, str2):\n",
    "    if len(str1) != len(str2):\n",
    "        return False\n",
    "    elif set(str1) != set(str2):\n",
    "        return False\n",
    "    else:\n",
    "        counter = 0\n",
    "        for x in range(len(str1)):\n",
    "            if str1[x] != str2[x]:\n",
    "                counter = counter + 1\n",
    "        if counter == len(str1):\n",
    "            return True\n",
    "        else:\n",
    "            return counter\n",
    "maxham(\"dear\", \"read\")"
   ]
  },
  {
   "cell_type": "markdown",
   "metadata": {},
   "source": [
    "## Write a function that takes a credit card number and only displays the last four characters. The rest of the card number must be replaced by ************."
   ]
  },
  {
   "cell_type": "code",
   "execution_count": 553,
   "metadata": {},
   "outputs": [
    {
     "data": {
      "text/plain": [
       "'************5678'"
      ]
     },
     "execution_count": 553,
     "metadata": {},
     "output_type": "execute_result"
    }
   ],
   "source": [
    "def cardhide(str1):\n",
    "    lastfournums = str1[-4:]\n",
    "    str2 = \"\"\n",
    "    for n in range(0, len(str1) - 4):\n",
    "        str2 += \"*\"\n",
    "    return str2 + lastfournums\n",
    "cardhide('1234123456785678')"
   ]
  },
  {
   "cell_type": "markdown",
   "metadata": {},
   "source": [
    "## Write a function that returns True if it's possible to build a phrase txt1 using only the characters from another phrase txt2."
   ]
  },
  {
   "cell_type": "code",
   "execution_count": 552,
   "metadata": {},
   "outputs": [
    {
     "data": {
      "text/plain": [
       "True"
      ]
     },
     "execution_count": 552,
     "metadata": {},
     "output_type": "execute_result"
    }
   ],
   "source": [
    "def canbuild(str1, str2):\n",
    "    for x in list(str1):\n",
    "        if x != ' ' and str1.count(x) > str2.count(x):\n",
    "            return False\n",
    "    return True\n",
    "canbuild(\"got 2 go\", \"gogogo 2 today\")"
   ]
  },
  {
   "cell_type": "markdown",
   "metadata": {},
   "source": [
    "## The weight of a word can be calculated by summing the Unicode code point for each character in the word, excluding any punctuation: Write a function that takes a sentence as a string, returning True if all word weights increase for each word in the sentence, and False if any word weight decreases or remains the same."
   ]
  },
  {
   "cell_type": "code",
   "execution_count": 554,
   "metadata": {},
   "outputs": [],
   "source": [
    "def wordWeight(n):\n",
    "    weight = 0\n",
    "    for a in n:\n",
    "        if a.isalpha():\n",
    "            weight = weight + ord(a)\n",
    "    return weight"
   ]
  },
  {
   "cell_type": "code",
   "execution_count": 556,
   "metadata": {},
   "outputs": [
    {
     "data": {
      "text/plain": [
       "True"
      ]
     },
     "execution_count": 556,
     "metadata": {},
     "output_type": "execute_result"
    }
   ],
   "source": [
    "def increasingwordweights(s):\n",
    "    sentencelist = s.split()\n",
    "    pweight = wordWeight(sentencelist[0])\n",
    "    for x in range(1, len(sentencelist)):\n",
    "            weight = wordWeight(sentencelist[x])\n",
    "            if pweight >= weight:\n",
    "                return False\n",
    "            pweight = weight\n",
    "    return True\n",
    "increasingwordweights(\"Why not try?\")"
   ]
  },
  {
   "cell_type": "markdown",
   "metadata": {},
   "source": [
    "## Write a function that swaps the first pair (1st and 2nd characters) with the second pair (3rd and 4th characters) for every quadruplet substring."
   ]
  },
  {
   "cell_type": "code",
   "execution_count": 562,
   "metadata": {},
   "outputs": [
    {
     "data": {
      "text/plain": [
       "'CDABGHEF'"
      ]
     },
     "execution_count": 562,
     "metadata": {},
     "output_type": "execute_result"
    }
   ],
   "source": [
    "def swaptwo(str1):\n",
    "    if len(str1) < 4:\n",
    "        return str1\n",
    "    return str1[2 : 4] + str1[:2] + ''.join(swaptwo(str1[4:]))\n",
    "swaptwo('ABCDEFGH')"
   ]
  },
  {
   "cell_type": "markdown",
   "metadata": {},
   "source": [
    "## Create a left rotation and a right rotation function that returns all the left rotations and right rotations of a string."
   ]
  },
  {
   "cell_type": "code",
   "execution_count": 566,
   "metadata": {},
   "outputs": [
    {
     "data": {
      "text/plain": [
       "['abc', 'bca', 'cab']"
      ]
     },
     "execution_count": 566,
     "metadata": {},
     "output_type": "execute_result"
    }
   ],
   "source": [
    "def leftrotations(str1):\n",
    "    rotated = [str1]\n",
    "    for x in range(1, len(str1)):\n",
    "        rotated.append(rotated[-1][1:] + rotated[-1][0])\n",
    "    return rotated\n",
    "def rightrotations(str1):\n",
    "    rotated = [str1]\n",
    "    for x in range(1, len(str1)):\n",
    "        rotated.append(rotated[-1][-1] + rotated[-1][:-1])\n",
    "    return rotated\n",
    "leftrotations(\"abc\")"
   ]
  },
  {
   "cell_type": "code",
   "execution_count": 565,
   "metadata": {},
   "outputs": [
    {
     "data": {
      "text/plain": [
       "['abc', 'cab', 'bca']"
      ]
     },
     "execution_count": 565,
     "metadata": {},
     "output_type": "execute_result"
    }
   ],
   "source": [
    "rightrotations(\"abc\")"
   ]
  },
  {
   "cell_type": "markdown",
   "metadata": {},
   "source": [
    "## Create a function that reverses letters in a string but keeps digits in their current order.\n",
    "\n"
   ]
  },
  {
   "cell_type": "code",
   "execution_count": 571,
   "metadata": {},
   "outputs": [
    {
     "data": {
      "text/plain": [
       "'cb89a'"
      ]
     },
     "execution_count": 571,
     "metadata": {},
     "output_type": "execute_result"
    }
   ],
   "source": [
    "def reverse(str1):\n",
    "    list1 = list(str1)\n",
    "    listindex = []\n",
    "    listvalue = []\n",
    "    list2 = []\n",
    "    for k, x in enumerate(list1):\n",
    "        if x.isnumeric():\n",
    "            listindex.append(k)\n",
    "            listvalue.append(x)\n",
    "        elif x.isalpha():\n",
    "            list2.append(x)\n",
    "    list2 = list2[::-1]\n",
    "    for a, b in zip(listindex,listvalue):\n",
    "        list2.insert(a, b)\n",
    "    return \"\".join(list2)\n",
    "reverse(\"ab89c\")"
   ]
  },
  {
   "cell_type": "markdown",
   "metadata": {},
   "source": [
    "## A word-chain is an array of words, where the next word is formed by changing exactly one letter from the previous word. We do not add or subtract letters from words, only change them. Create a function that returns True if an array is a word-chain and False otherwise."
   ]
  },
  {
   "cell_type": "code",
   "execution_count": 572,
   "metadata": {},
   "outputs": [
    {
     "data": {
      "text/plain": [
       "True"
      ]
     },
     "execution_count": 572,
     "metadata": {},
     "output_type": "execute_result"
    }
   ],
   "source": [
    "def iswordchain(list1):\n",
    "    for k, x in zip(list1, list1[1:]):\n",
    "        if sum(a != b for a, b in zip(k, x)) != 1:\n",
    "            return False\n",
    "    return True\n",
    "iswordchain([\"meal\", \"seal\", \"seat\", \"beat\", \"beet\"])"
   ]
  },
  {
   "cell_type": "markdown",
   "metadata": {},
   "source": [
    "## Implement a function count_substring that counts the number of substrings that begin with character \"A\" and ends with character \"X\". For example, given the input string \"CAXAAYXZA\", there are four substrings that begin with \"A\" and ends with \"X\", namely: \"AX\", \"AXAAYX\", \"AAYX\", and \"AYX\"."
   ]
  },
  {
   "cell_type": "code",
   "execution_count": 574,
   "metadata": {},
   "outputs": [
    {
     "data": {
      "text/plain": [
       "4"
      ]
     },
     "execution_count": 574,
     "metadata": {},
     "output_type": "execute_result"
    }
   ],
   "source": [
    "def countsubstring(str1):\n",
    "    count = 0\n",
    "    for x in range(len(str1) - 1):\n",
    "        if str1[x] == 'A':\n",
    "            count += str1[x + 1:].count('X')\n",
    "    return count\n",
    "countsubstring(\"CAXAAYXZA\")"
   ]
  },
  {
   "cell_type": "markdown",
   "metadata": {},
   "source": [
    "## Create a function that takes in two words as input and returns a list of three elements, in the following order: Shared letters between two words. Letters unique to word 1. Letters unique to word 2. Each element should have unique letters, and have each letter be alphabetically sorted."
   ]
  },
  {
   "cell_type": "code",
   "execution_count": 579,
   "metadata": {},
   "outputs": [
    {
     "data": {
      "text/plain": [
       "['aps', 'hr', 'o']"
      ]
     },
     "execution_count": 579,
     "metadata": {},
     "output_type": "execute_result"
    }
   ],
   "source": [
    "def letters(str1, str2):\n",
    "    a = set(str1)\n",
    "    b = set(str2)\n",
    "    return [''.join(sorted(x)) for x in (a & b, a - b, b - a)]\n",
    "letters(\"sharp\", \"soap\")"
   ]
  },
  {
   "cell_type": "markdown",
   "metadata": {},
   "source": [
    "## D&Q loop"
   ]
  },
  {
   "cell_type": "code",
   "execution_count": 4,
   "metadata": {},
   "outputs": [
    {
     "data": {
      "text/plain": [
       "80"
      ]
     },
     "execution_count": 4,
     "metadata": {},
     "output_type": "execute_result"
    }
   ],
   "source": [
    "def farmloop(h, w):\n",
    "    large = max(h, w)\n",
    "    small = min(h, w)\n",
    "    while large % small != 0:\n",
    "        a = large - ((large // small) * small)\n",
    "        large = max(a, small)\n",
    "        small = min(a, small)\n",
    "    return(small)\n",
    "farmloop(1680, 640)"
   ]
  },
  {
   "cell_type": "markdown",
   "metadata": {},
   "source": [
    "## D&C recur"
   ]
  },
  {
   "cell_type": "code",
   "execution_count": 18,
   "metadata": {},
   "outputs": [
    {
     "data": {
      "text/plain": [
       "80"
      ]
     },
     "execution_count": 18,
     "metadata": {},
     "output_type": "execute_result"
    }
   ],
   "source": [
    "def farmrecur(h, w):\n",
    "    large = max(h, w)\n",
    "    small = min(h, w)\n",
    "    if large % small == 0:\n",
    "        return(small)\n",
    "    else:\n",
    "        a = large - ((large // small) * small)\n",
    "        large = max(a, small)\n",
    "        small = min(a, small)\n",
    "        return farmrecur(large, small)\n",
    "farmrecur(1680, 640)"
   ]
  },
  {
   "cell_type": "code",
   "execution_count": 39,
   "metadata": {},
   "outputs": [
    {
     "data": {
      "text/plain": [
       "10"
      ]
     },
     "execution_count": 39,
     "metadata": {},
     "output_type": "execute_result"
    }
   ],
   "source": [
    "def sumfunction(list1):\n",
    "    total = 0\n",
    "    if len(list1) == 1:\n",
    "        return list1[0]\n",
    "    else:\n",
    "        return list1[0] + sumfunction(list1[1:])\n",
    "sumfunction([1,2,3,4])"
   ]
  },
  {
   "cell_type": "code",
   "execution_count": 41,
   "metadata": {},
   "outputs": [
    {
     "data": {
      "text/plain": [
       "4"
      ]
     },
     "execution_count": 41,
     "metadata": {},
     "output_type": "execute_result"
    }
   ],
   "source": [
    "def maxnumber(list1):\n",
    "    if len(list1) == 1:\n",
    "        return list1[0]\n",
    "    else:\n",
    "        return max(list1[0], maxnumber(list1[1:]))\n",
    "maxnumber([1,2,3,4])"
   ]
  },
  {
   "cell_type": "markdown",
   "metadata": {},
   "source": [
    "## Write a function that sorts a list of integers by their digit length in descending order, then settles ties by sorting numbers with the same digit length in ascending order.\n",
    "\n"
   ]
  },
  {
   "cell_type": "code",
   "execution_count": 43,
   "metadata": {},
   "outputs": [
    {
     "data": {
      "text/plain": [
       "[101, 23, 77, 5, 7]"
      ]
     },
     "execution_count": 43,
     "metadata": {},
     "output_type": "execute_result"
    }
   ],
   "source": [
    "def digitsort(list1):\n",
    "    list1.sort(reverse = True)\n",
    "    list2 = []\n",
    "    dict1 = {list1[x] : len(str(list1[x])) for x in range(0,len(list1))}       \n",
    "    dict2 = {n : sorted([a for a in dict1.keys() if dict1[a] == n]) for n in set(dict1.values())}\n",
    "    for b in sorted(dict2.keys(), reverse = True):\n",
    "        list2 += dict2[b]\n",
    "    return list2\n",
    "digitsort([77, 23, 5, 7, 101])"
   ]
  },
  {
   "cell_type": "code",
   "execution_count": 52,
   "metadata": {},
   "outputs": [],
   "source": [
    "def isitempty(list1):\n",
    "    return list1 == []"
   ]
  },
  {
   "cell_type": "code",
   "execution_count": 55,
   "metadata": {},
   "outputs": [
    {
     "data": {
      "text/plain": [
       "3"
      ]
     },
     "execution_count": 55,
     "metadata": {},
     "output_type": "execute_result"
    }
   ],
   "source": [
    "def length(list1):\n",
    "    if islistempty(list1) == True:\n",
    "        return 0\n",
    "    else:\n",
    "        return 1 + length(list1[1:])\n",
    "length([1,4,5])"
   ]
  },
  {
   "cell_type": "markdown",
   "metadata": {},
   "source": [
    "## A number n is called uban if its name (in English) does not contain the letter \"u\". In particular, it cannot contain the terms \"four\", \"hundred\", and \"thousand\", so the uban number following 99 is 1,000,000.\n",
    "\n"
   ]
  },
  {
   "cell_type": "code",
   "execution_count": 58,
   "metadata": {},
   "outputs": [
    {
     "data": {
      "text/plain": [
       "True"
      ]
     },
     "execution_count": 58,
     "metadata": {},
     "output_type": "execute_result"
    }
   ],
   "source": [
    "def uban(n):\n",
    "    list1 = list(str(n))\n",
    "    if len(list1) == 3:\n",
    "        return False\n",
    "    if len(list1) == 4:\n",
    "        return False\n",
    "    for x in list1:\n",
    "        if x == 4:\n",
    "            return False\n",
    "    return True\n",
    "uban(25)"
   ]
  },
  {
   "cell_type": "markdown",
   "metadata": {},
   "source": [
    "## Given a sentence, return the number of words which have the same first and last letter.\n",
    "\n"
   ]
  },
  {
   "cell_type": "code",
   "execution_count": 61,
   "metadata": {},
   "outputs": [
    {
     "data": {
      "text/plain": [
       "1"
      ]
     },
     "execution_count": 61,
     "metadata": {},
     "output_type": "execute_result"
    }
   ],
   "source": [
    "def countsameends(str1 : str) -> int:\n",
    "    withoutpunctuation = ''.join(x.lower() for x in str1 if x.isalpha() or x.isspace())\n",
    "    return sum(1 if len(a) > 1 and a[0] == a[-1] else 0 for a in withoutpunctuation.split())\n",
    "countsameends(\"Pop! goes the balloon\")"
   ]
  },
  {
   "cell_type": "markdown",
   "metadata": {},
   "source": [
    "## An almost-sorted sequence is a sequence that is strictly increasing or strictly decreasing if you remove a single element from the list (no more, no less). Write a function that returns True if a list is almost-sorted, and False otherwise. For example, if you remove 80 from the first example, it is perfectly sorted in ascending order. Similarly, if you remove 7 from the second example, it is perfectly sorted in descending order."
   ]
  },
  {
   "cell_type": "code",
   "execution_count": 2,
   "metadata": {},
   "outputs": [
    {
     "data": {
      "text/plain": [
       "True"
      ]
     },
     "execution_count": 2,
     "metadata": {},
     "output_type": "execute_result"
    }
   ],
   "source": [
    "def almostsorted(list1):\n",
    "    list2 = list1[:]\n",
    "    list3 = list1[:]\n",
    "    list2.sort()\n",
    "    list3.sort(reverse = True)\n",
    "    if list1 == list2 or list1 == list3:\n",
    "        return False\n",
    "    for x in list1:\n",
    "        list4 = list1[:]\n",
    "        list4.remove(x)\n",
    "        list5 = list4[:]\n",
    "        list6 = list4[:]\n",
    "        list5.sort()\n",
    "        list6.sort(reverse = True)\n",
    "        if list4 == list5:\n",
    "            return True\n",
    "        if list4 == list6:\n",
    "            return True\n",
    "    return False\n",
    "almostsorted([1, 3, 5, 9, 11, 80, 15, 33, 37, 41])"
   ]
  },
  {
   "cell_type": "code",
   "execution_count": 62,
   "metadata": {},
   "outputs": [
    {
     "data": {
      "text/plain": [
       "True"
      ]
     },
     "execution_count": 62,
     "metadata": {},
     "output_type": "execute_result"
    }
   ],
   "source": [
    "def isparseltongue(str1):\n",
    "    str2 = str1.lower().split()\n",
    "    list1 = [x for x in str2 if \"s\" in x]\n",
    "    for a in list1:\n",
    "        if a.count(\"ss\") >= 1:\n",
    "            continue\n",
    "        else:\n",
    "            return False\n",
    "    return True\n",
    "isparseltongue(\"Sshe ssselects to eat that apple. \")"
   ]
  },
  {
   "cell_type": "markdown",
   "metadata": {},
   "source": [
    "## Create a dictionary using the list of keys and values: keys = ['Ten', 'Twenty', 'Thirty'] values = [10, 20, 30] and then filter out the elements with value larger than 15."
   ]
  },
  {
   "cell_type": "code",
   "execution_count": 13,
   "metadata": {},
   "outputs": [
    {
     "name": "stdout",
     "output_type": "stream",
     "text": [
      "{'Ten': 10}\n"
     ]
    }
   ],
   "source": [
    "dict1 = {'Ten' : 10, 'Twenty' : 20, 'Thirty' : 30}\n",
    "dict2 = {}\n",
    "for k, v in dict1.items():\n",
    "    if v <= 15:\n",
    "        dict2[k] = v\n",
    "print(dict2)"
   ]
  },
  {
   "cell_type": "markdown",
   "metadata": {},
   "source": [
    "## Merge following two Python dictionaries into one: dict1 = {'Ten': 10, 'Twenty': 20, 'Thirty': 30} dict2 = {'Thirty': 30, 'Fourty': 40, 'Fifty': 50}"
   ]
  },
  {
   "cell_type": "code",
   "execution_count": 15,
   "metadata": {},
   "outputs": [
    {
     "name": "stdout",
     "output_type": "stream",
     "text": [
      "{'Ten': 10, 'Twenty': 20, 'Thirty': 30, 'Fourty': 40, 'Fifty': 50}\n"
     ]
    }
   ],
   "source": [
    "dict1 = {'Ten': 10, 'Twenty': 20, 'Thirty': 30}\n",
    "dict2 = {'Thirty': 30, 'Fourty': 40, 'Fifty': 50}\n",
    "for k, v in dict2.items():\n",
    "    dict1[k] = v\n",
    "print(dict1)"
   ]
  },
  {
   "cell_type": "markdown",
   "metadata": {},
   "source": [
    "## Access the value of key ‘history’"
   ]
  },
  {
   "cell_type": "code",
   "execution_count": 16,
   "metadata": {},
   "outputs": [
    {
     "data": {
      "text/plain": [
       "80"
      ]
     },
     "execution_count": 16,
     "metadata": {},
     "output_type": "execute_result"
    }
   ],
   "source": [
    "dict1 = {\"class\":{\"student\":{\"name\":\"Mike\", \"marks\":{\"physics\":70, \"history\":80}}}}\n",
    "dict1.get('class').get('student').get('marks').get('history')"
   ]
  },
  {
   "cell_type": "markdown",
   "metadata": {},
   "source": [
    "## Initialize dictionary with default values\n"
   ]
  },
  {
   "cell_type": "code",
   "execution_count": 3,
   "metadata": {},
   "outputs": [
    {
     "name": "stdout",
     "output_type": "stream",
     "text": [
      "{'Kelly': {'designation': 'Application Developer', 'salary': 8000}, 'Emma': {'designation': 'Application Developer', 'salary': 8000}, 'John': {'designation': 'Application Developer', 'salary': 8000}}\n"
     ]
    }
   ],
   "source": [
    "employees = ['Kelly', 'Emma', 'John']\n",
    "defaults = {\"designation\" : 'Application Developer', \"salary\" : 8000}\n",
    "list1 = dict.fromkeys(employees, defaults)\n",
    "print(list1)"
   ]
  },
  {
   "cell_type": "markdown",
   "metadata": {},
   "source": [
    "## Create a new dictionary by extracting the following keys from a given dictionary"
   ]
  },
  {
   "cell_type": "code",
   "execution_count": 5,
   "metadata": {},
   "outputs": [
    {
     "name": "stdout",
     "output_type": "stream",
     "text": [
      "{'name': 'Kelly', 'salary': 8000}\n"
     ]
    }
   ],
   "source": [
    "dict1 = {\"name\" : \"Kelly\", \"age\" : 25, \"salary\" : 8000, \"city\" : \"New york\"}\n",
    "extractkeys = ['name', 'salary']\n",
    "dict2 = {}\n",
    "for k, v in dict1.items():\n",
    "    if k in extractkeys:\n",
    "        dict2[k] = v\n",
    "print(dict2)"
   ]
  },
  {
   "cell_type": "markdown",
   "metadata": {},
   "source": [
    "## Delete set of keys from Python Dictionary"
   ]
  },
  {
   "cell_type": "code",
   "execution_count": 6,
   "metadata": {},
   "outputs": [
    {
     "name": "stdout",
     "output_type": "stream",
     "text": [
      "{'age': 25, 'city': 'New york'}\n"
     ]
    }
   ],
   "source": [
    "dict1 = {\"name\" : \"Kelly\", \"age\" : 25, \"salary\" : 8000, \"city\" : \"New york\"}\n",
    "removekeys = [\"name\", \"salary\"]\n",
    "dict2 = {}\n",
    "for k, v in dict1.items():\n",
    "    if k not in removekeys:\n",
    "        dict2[k] = v\n",
    "print(dict2)"
   ]
  },
  {
   "cell_type": "markdown",
   "metadata": {},
   "source": [
    "## Check if a value 200 exists in a dictionary"
   ]
  },
  {
   "cell_type": "code",
   "execution_count": 12,
   "metadata": {},
   "outputs": [
    {
     "name": "stdout",
     "output_type": "stream",
     "text": [
      "True\n"
     ]
    }
   ],
   "source": [
    "dict1 = {'a': 100, 'b': 200, 'c': 300}\n",
    "if 200 in dict1.values():\n",
    "    print(True)\n",
    "else:\n",
    "    print(False)"
   ]
  },
  {
   "cell_type": "markdown",
   "metadata": {},
   "source": [
    "## Write a function that selects all words that have all the same vowels (in any order and/or number) as the first word, including the first word."
   ]
  },
  {
   "cell_type": "code",
   "execution_count": 16,
   "metadata": {},
   "outputs": [
    {
     "data": {
      "text/plain": [
       "['toe', 'ocelot']"
      ]
     },
     "execution_count": 16,
     "metadata": {},
     "output_type": "execute_result"
    }
   ],
   "source": [
    "def samevowelgroup(list1):\n",
    "    vowels = 'aeiou'\n",
    "    v = set([i for i in list1[0] if i in vowels])\n",
    "    todelete = []\n",
    "    for x in range(1, len(list1)):\n",
    "        for a in list1[x]:\n",
    "            if a in vowels and a not in v:\n",
    "                todelete.append(x)\n",
    "                break\n",
    "    while len(todelete) > 0:\n",
    "        del list1[todelete[-1]]\n",
    "        del todelete[-1]\n",
    "    return list1\n",
    "samevowelgroup([\"toe\", \"ocelot\", \"maniac\"])"
   ]
  },
  {
   "cell_type": "markdown",
   "metadata": {},
   "source": [
    "## Rename key city to location in the following dictionary"
   ]
  },
  {
   "cell_type": "code",
   "execution_count": 17,
   "metadata": {},
   "outputs": [
    {
     "name": "stdout",
     "output_type": "stream",
     "text": [
      "{'name': 'Kelly', 'age': 25, 'salary': 8000, 'location': 'New york'}\n"
     ]
    }
   ],
   "source": [
    "dict1 = {\"name\" : \"Kelly\", \"age\" : 25, \"salary\" : 8000, \"city\" : \"New york\"}\n",
    "dict1['location'] = dict1.pop('city')\n",
    "print(dict1)"
   ]
  },
  {
   "cell_type": "markdown",
   "metadata": {},
   "source": [
    "## Get the key corresponding to the minimum value from the following dictionary"
   ]
  },
  {
   "cell_type": "code",
   "execution_count": 21,
   "metadata": {},
   "outputs": [
    {
     "name": "stdout",
     "output_type": "stream",
     "text": [
      "Math\n"
     ]
    }
   ],
   "source": [
    "dict1 = {'Physics': 82, 'Math': 65, 'history': 75}\n",
    "keys = dict1.keys()\n",
    "keyiterator = iter(keys)\n",
    "firstkey = next(keyiterator)\n",
    "for k, v in dict1.items():\n",
    "    if k < firstkey:\n",
    "        firstkey = k\n",
    "print(firstkey)"
   ]
  },
  {
   "cell_type": "markdown",
   "metadata": {},
   "source": [
    "## Mona has created a method to sort a list in ascending order. Starting from the left of the list, she compares numbers by pairs. If the first pair is ordered [smaller number, larger number], she moves on. If the first pair is ordered [larger number, smaller number], she swaps the two integers before moving on to the next pair. She repeats this process until she reaches the end of the list. Then, she moves back to the beginning of the list and repeats this process until the entire list is sorted. If the unsorted list is: [3, 9, 7, 4], she will perform the following steps (note Swaps here refers to cumulative swaps): She starts with the first pair. [3, 9] is in order, move on. List: [3, 9, 7, 4]. Swaps: 0. [9, 7] is not. Swap. List: [3, 7, 9, 4]. Swaps: 1 [9, 4] is not. Swap. List: [3, 7, 4, 9]. Swaps: 2 Check if list is sorted. It is not, so start over at first pair. [3, 7] is in order, move on. List: [3, 7, 4, 9]. Swaps: 2[7, 4] is not. Swap. List: [3, 4, 7, 9]. Swaps: 3. [7, 9] is in order, move on. List: [3, 4, 7, 9]. Swaps: 3. Check if list is sorted. It is. End. Sorting the list [3, 9, 7, 4] takes her 3 swaps. Write a function that takes in an unsorted list and returns the number of swaps it takes for the list to be sorted according to Mona's algorithm.\n",
    "\n"
   ]
  },
  {
   "cell_type": "code",
   "execution_count": 72,
   "metadata": {},
   "outputs": [
    {
     "data": {
      "text/plain": [
       "6"
      ]
     },
     "execution_count": 72,
     "metadata": {},
     "output_type": "execute_result"
    }
   ],
   "source": [
    "def numberofswaps(list1):\n",
    "    count = 0\n",
    "    while list1 != sorted(list1):\n",
    "        for x in range(len(list1) - 1):\n",
    "            if list1[x] > list1[x + 1]:\n",
    "                n = list1[x]\n",
    "                list1[x] = list1[x + 1]\n",
    "                list1[x + 1] = n\n",
    "                count = count + 1\n",
    "    return count\n",
    "numberofswaps([5, 4, 3, 2])"
   ]
  },
  {
   "cell_type": "code",
   "execution_count": 78,
   "metadata": {},
   "outputs": [
    {
     "name": "stdout",
     "output_type": "stream",
     "text": [
      "{'A': ['B', 'D'], 'B': ['C', 'E'], 'C': ['E'], 'D': [], 'E': ['D']}\n"
     ]
    }
   ],
   "source": [
    "graph = {}\n",
    "graph['A'] = ['B', 'D']\n",
    "graph['B'] = ['C', 'E']\n",
    "graph['C'] = ['E']\n",
    "graph['D'] = []\n",
    "graph['E'] = ['D']\n",
    "print(graph)"
   ]
  },
  {
   "cell_type": "markdown",
   "metadata": {},
   "source": [
    "## Write a function that groups words by the number of capital letters and returns a dictionary of object entries whose keys are the number of capital letters and the values are the groups."
   ]
  },
  {
   "cell_type": "code",
   "execution_count": 79,
   "metadata": {},
   "outputs": [
    {
     "data": {
      "text/plain": [
       "{3: ['HaPPy'], 2: ['mayBE', 'mOOdy'], 0: ['yummy']}"
      ]
     },
     "execution_count": 79,
     "metadata": {},
     "output_type": "execute_result"
    }
   ],
   "source": [
    "def grouping(list1):\n",
    "    list1.sort(key = str.lower)\n",
    "    groups = {}\n",
    "    for x in list1:\n",
    "        capitals = sum(map(str.isupper, x))\n",
    "        if capitals in groups:\n",
    "            groups[capitals].append(x)\n",
    "        else:\n",
    "            groups[capitals] = [x]\n",
    "    return groups\n",
    "grouping([\"HaPPy\", \"mOOdy\", \"yummy\", \"mayBE\"])"
   ]
  },
  {
   "cell_type": "markdown",
   "metadata": {},
   "source": [
    "## Breadth-first search on a graph"
   ]
  },
  {
   "cell_type": "code",
   "execution_count": 255,
   "metadata": {},
   "outputs": [
    {
     "data": {
      "text/plain": [
       "False"
      ]
     },
     "execution_count": 255,
     "metadata": {},
     "output_type": "execute_result"
    }
   ],
   "source": [
    "graph = {}\n",
    "graph['You'] = ['Alice', 'Bob', 'Claire']\n",
    "graph['Alice'] = ['Peggy']\n",
    "graph['Bob'] = ['Anuj', 'Peggy']\n",
    "graph['Claire'] = ['Jonny', 'Thom']\n",
    "graph['Peggy'] = []\n",
    "graph['Anuj'] = []\n",
    "graph['Jonny'] = []\n",
    "graph['Thom'] = []\n",
    "path = []\n",
    "def ismangoseller(a):\n",
    "    if a[-1] == 'm':\n",
    "        return True\n",
    "    return False\n",
    "def bfs(starting_node):\n",
    "    queue = []\n",
    "    queue += graph[starting_node]\n",
    "    while len(queue) != 0:\n",
    "        person = queue.pop(0)\n",
    "        if person not in searched:\n",
    "            if ismangoseller(person) == True:\n",
    "                print(person, 'is a mango seller!')\n",
    "                return True\n",
    "            else:\n",
    "                queue += graph[person]\n",
    "                searched.append(person)\n",
    "    return False\n",
    "bfs('You')\n"
   ]
  },
  {
   "cell_type": "code",
   "execution_count": 237,
   "metadata": {},
   "outputs": [
    {
     "name": "stdout",
     "output_type": "stream",
     "text": [
      "[2, 3]\n"
     ]
    }
   ],
   "source": [
    "a=[1,2,3]\n",
    "a.pop(0)\n",
    "print(a)"
   ]
  },
  {
   "cell_type": "markdown",
   "metadata": {},
   "source": [
    "## Given a Python dictionary, Change Brad’s salary to 8500"
   ]
  },
  {
   "cell_type": "code",
   "execution_count": 85,
   "metadata": {},
   "outputs": [
    {
     "name": "stdout",
     "output_type": "stream",
     "text": [
      "{'emp1': {'name': 'Jhon', 'salary': 7500}, 'emp2': {'name': 'Emma', 'salary': 8000}, 'emp3': {'name': 'Brad', 'salary': 8500}}\n"
     ]
    }
   ],
   "source": [
    "dict1 = {'emp1': {'name': 'Jhon', 'salary': 7500}, 'emp2': {'name': 'Emma', 'salary': 8000}, 'emp3': {'name': 'Brad', 'salary': 6500}}\n",
    "dict1.get('emp3')['salary'] = 8500\n",
    "print(dict1)"
   ]
  },
  {
   "cell_type": "markdown",
   "metadata": {},
   "source": [
    "# Waterloo"
   ]
  },
  {
   "cell_type": "markdown",
   "metadata": {},
   "source": [
    "## 2020-J1: Barley the dog loves treats.   At the end of the day he is either happy or sad depending on thenumber and size of treats he receives throughout the day.  The treats come in three sizes:  small,medium, and large. His happiness score can be measured using the following formula:1×S+ 2×M+ 3×LwhereSis the number of small treats,Mis the number of medium treats andLis the number oflarge treats.If Barley’s happiness score is10or greater then he is happy.  Otherwise, he is sad.  Determinewhether Barley is happy or sad at the end of the day."
   ]
  },
  {
   "cell_type": "code",
   "execution_count": 128,
   "metadata": {},
   "outputs": [
    {
     "data": {
      "text/plain": [
       "'I am happy!'"
      ]
     },
     "execution_count": 128,
     "metadata": {},
     "output_type": "execute_result"
    }
   ],
   "source": [
    "def dogtreats(S, M, L):\n",
    "    if (S + (2 * M) + (3 * L)) >= 10:\n",
    "        return('I am happy!')\n",
    "    else:\n",
    "        return('I am sad.')\n",
    "dogtreats(1, 2, 3)"
   ]
  },
  {
   "cell_type": "markdown",
   "metadata": {},
   "source": [
    "## 2020-J2: People who study epidemiology use models to analyze the spread of disease. In this problem, we use a simple model. When a person has a disease, they infect exactly R other people but only on the very next day. No person is infected more than once. We want to determine when a total of more than P people have had the disease."
   ]
  },
  {
   "cell_type": "code",
   "execution_count": 166,
   "metadata": {},
   "outputs": [
    {
     "data": {
      "text/plain": [
       "5"
      ]
     },
     "execution_count": 166,
     "metadata": {},
     "output_type": "execute_result"
    }
   ],
   "source": [
    "def outbreakdays(p, n, r):\n",
    "    if n <= 0 or r <= 0:\n",
    "        return None\n",
    "    else:\n",
    "        x = 1\n",
    "        count = 0\n",
    "        old = n\n",
    "        new = 0\n",
    "        total = old + new\n",
    "        list1 = [n]\n",
    "        while total <= p:\n",
    "            new = n * r ** x\n",
    "            list1.append(new)\n",
    "            total = sum(list1)\n",
    "            x = x + 1\n",
    "        return x - 1\n",
    "outbreakdays(10, 2, 1)"
   ]
  },
  {
   "cell_type": "markdown",
   "metadata": {},
   "source": [
    "## 2020-J3: Mahima has been experimenting with a new style of art. She stands in front of a canvas and, usingher brush, flicks drops of paint onto the canvas. When she thinks she has created a masterpiece,she uses her 3D printer to print a frame to surround the canvas.Your job is to help Mahima by determining the coordinates of the smallest possible rectangularframe such that each drop of paint lies inside the frame. Points on the frame are not consideredinside the frame."
   ]
  },
  {
   "cell_type": "code",
   "execution_count": 176,
   "metadata": {},
   "outputs": [
    {
     "data": {
      "text/plain": [
       "[(23, 9), (65, 79)]"
      ]
     },
     "execution_count": 176,
     "metadata": {},
     "output_type": "execute_result"
    }
   ],
   "source": [
    "def art(x, list1):\n",
    "    list2 = []\n",
    "    list3 = []\n",
    "    if len(list1) != x:\n",
    "        return None\n",
    "    for k, x in enumerate(list1):\n",
    "        list2.append(list1[k][0])\n",
    "        list3.append(list1[k][1])\n",
    "        list4 = []\n",
    "    coordinate1 = (min(list2) - 1, min(list3) - 1)\n",
    "    coordinate2 = (max(list2) + 1, max(list3) + 1)\n",
    "    list4.append(coordinate1)\n",
    "    list4.append(coordinate2)\n",
    "    return list4\n",
    "art(5, [(44, 62), (34, 69), (24, 78), (42, 44), (64, 10)])"
   ]
  },
  {
   "cell_type": "markdown",
   "metadata": {},
   "source": [
    "## 2019-J1: You record all of the scoring activity at a basketball game. Points are scored by a 3-point shot, a 2-point field goal, or a 1-point free throw. You know the number of each of these types of scoring for the two teams: the Apples and the Bananas. Your job is to determine which team won, or if the game ended in a tie."
   ]
  },
  {
   "cell_type": "code",
   "execution_count": 239,
   "metadata": {},
   "outputs": [
    {
     "data": {
      "text/plain": [
       "'B'"
      ]
     },
     "execution_count": 239,
     "metadata": {},
     "output_type": "execute_result"
    }
   ],
   "source": [
    "def winningteam(a, b, c, d, e, f):\n",
    "    if 3 * a + 2 * b + c > 3 * d + 2 * e + f:\n",
    "        return('A')\n",
    "    elif 3 * a + 2 * b + c < 3 * d + 2 * e + f:\n",
    "        return('B')\n",
    "    else:\n",
    "        return('T')\n",
    "winningteam(10, 3, 7, 8, 9, 6)"
   ]
  },
  {
   "cell_type": "markdown",
   "metadata": {},
   "source": [
    "## 2018-J1: Here at the Concerned Citizens of Commerce (CCC), we have noted that telemarketers like to use seven-digit phone numbers where the last four digits have three properties. Looking just at the last four digits, these properties are: • the first of these four digits is an 8 or 9; • the last digit is an 8 or 9; • the second and third digits are the same. For example, if the last four digits of the telephone number are 8229, 8338, or 9008, these are telemarketer numbers. Write a program to decide if a telephone number is a telemarketer number or not, based on the last four digits. If the number is not a telemarketer number, we should answer the phone, and otherwise, we should ignore it."
   ]
  },
  {
   "cell_type": "code",
   "execution_count": 264,
   "metadata": {},
   "outputs": [
    {
     "data": {
      "text/plain": [
       "'ignore'"
      ]
     },
     "execution_count": 264,
     "metadata": {},
     "output_type": "execute_result"
    }
   ],
   "source": [
    "def CCC(number):\n",
    "    list1 = list(str(number))\n",
    "    if len(list1) == 4:\n",
    "        if (list1[0] == '8') or (list1[0] == '9'):\n",
    "            if (list1[-1] == '8') or (list1[-1] == '9'):\n",
    "                if list1[1] == list1[2]:\n",
    "                    return('answer')\n",
    "    return('ignore')\n",
    "CCC(8995)"
   ]
  },
  {
   "cell_type": "markdown",
   "metadata": {},
   "source": [
    "## 2020-S5: On their way to the contest grounds, Josh, his coach, and his N − 2 teammates decide to stop at a burger joint that offers M distinct burger menu items. After ordering their favourite burgers, the team members line up, with the coach in the first position and Josh last, to pick up their burgers. Unfortunately, the coach forgot what he ordered. He picks a burger at random and walks away. The other team members, in sequence, pick up their favourite burger if available, or a random remaining burger if there are no more of their favourite burger. What is the probability that Josh, being last in line, will get to eat his favourite burger?"
   ]
  },
  {
   "cell_type": "code",
   "execution_count": 370,
   "metadata": {},
   "outputs": [
    {
     "name": "stdout",
     "output_type": "stream",
     "text": [
      "7\n",
      "1 2 3 1 1 2 3\n",
      "0.5714285714285714\n"
     ]
    }
   ],
   "source": [
    "n = int(input())\n",
    "str1 = input()\n",
    "list1 = str1.split(' ')\n",
    "m = len(list(set(list1)))\n",
    "tot = len(list1)\n",
    "f_coach = list1[0]\n",
    "f_josh = list1[-1]\n",
    "coach_count = 0\n",
    "josh_count = 0\n",
    "for x in list1:\n",
    "    if x == list1[0]:\n",
    "        coach_count += 1\n",
    "    if x == list1[-1]:\n",
    "        josh_count += 1\n",
    "s = (coach_count/tot) + (((tot - coach_count - josh_count)/tot) * 1/2)\n",
    "print(s)"
   ]
  },
  {
   "cell_type": "markdown",
   "metadata": {},
   "source": [
    "## 2019-S4: You are planning a trip to visit N tourist attractions. The attractions are numbered from 1 to N and must be visited in this order. You can visit at most K attractions per day, and want to plan the trip to take the fewest number of days as possible. Under these constraints, you want to find a schedule that has a nice balance between the attractions visited each day. To be precise, we assign a score ai to attraction i. Given a schedule, each day is given a score equal to the maximum score of all attractions visited that day. Finally, the scores of each day are summed to give the total score of the schedule. What is the maximum possible total score of the schedule, using the fewest days possible?"
   ]
  },
  {
   "cell_type": "code",
   "execution_count": null,
   "metadata": {},
   "outputs": [],
   "source": [
    "'''\n",
    "Sample Input\n",
    "5 3\n",
    "2 5 7 1 4\n",
    "Output for Sample Input\n",
    "12\n",
    "'''"
   ]
  },
  {
   "cell_type": "code",
   "execution_count": 44,
   "metadata": {},
   "outputs": [
    {
     "name": "stdout",
     "output_type": "stream",
     "text": [
      "5 3\n",
      "2 5 7 1 4\n",
      "5 3 [2, 5, 7, 1, 4]\n"
     ]
    }
   ],
   "source": [
    "str1 = input()\n",
    "list1 = str1.split()\n",
    "n = list1[0]\n",
    "k = list1[1]\n",
    "str2 = input()\n",
    "attractions = str2.split()\n",
    "attractions = [int(s) for s in attractions]\n",
    "print(n, k, attractions)"
   ]
  },
  {
   "cell_type": "code",
   "execution_count": 52,
   "metadata": {},
   "outputs": [
    {
     "data": {
      "text/plain": [
       "1"
      ]
     },
     "execution_count": 52,
     "metadata": {},
     "output_type": "execute_result"
    }
   ],
   "source": []
  },
  {
   "cell_type": "code",
   "execution_count": 62,
   "metadata": {
    "scrolled": false
   },
   "outputs": [
    {
     "name": "stdout",
     "output_type": "stream",
     "text": [
      "12\n"
     ]
    }
   ],
   "source": [
    "import math\n",
    "def create_children(a):\n",
    "    m = a % max_number\n",
    "    if m == 0:\n",
    "        return [max_number]\n",
    "    list1 = []\n",
    "    for x in range(m, max_number + 1):\n",
    "        list1.append(x)\n",
    "    return list1\n",
    "def check_termination(path):\n",
    "    if len(path) == (math.ceil(n / max_number)):\n",
    "        return True\n",
    "    return False\n",
    "n = 5\n",
    "max_number = 3\n",
    "attractions = [2, 5, 7, 1, 4]\n",
    "list_paths = []\n",
    "paths = create_children(n)\n",
    "for x in paths:\n",
    "    list_paths.append([x])\n",
    "list_filter = []\n",
    "while list_paths:\n",
    "    current_path = list_paths.pop(0)\n",
    "    current_node = current_path[-1]\n",
    "    remaining_attractions = n - sum(current_path)\n",
    "    paths = create_children(remaining_attractions)\n",
    "    for b in paths:\n",
    "        if check_termination(current_path + [b]) == True:\n",
    "            list_filter.append(current_path + [b])\n",
    "        else:\n",
    "            list_paths.append(current_path + [b])\n",
    "list_r = []\n",
    "for x in list_filter:\n",
    "    if sum(x) == n:\n",
    "        list_r.append(x)\n",
    "list_max = []\n",
    "for c in list_r:\n",
    "    current = 0\n",
    "    s = 0\n",
    "    for d in c:\n",
    "        s += max(attractions[current : current + d])\n",
    "        current += d\n",
    "    list_max.append(s)\n",
    "print(max(list_max))"
   ]
  },
  {
   "cell_type": "markdown",
   "metadata": {},
   "source": [
    "## 2019-S3: You are given a 3 × 3 grid which contains integers. Some of the 9 elements in the grid will have a value already, and the remaining elements will be unspecified. Your task is to determine values for the unspecified elements such that each row, when read from left-to-right is an arithmetic sequence, and that each column, when read from the top-down, is an arithmetic sequence. Recall that an arithmetic sequence of length three is a sequence of integers of the form a, a + d, a + 2d for integer values of a and d. Note that d may be any integer, including zero or a negative integer."
   ]
  },
  {
   "cell_type": "code",
   "execution_count": null,
   "metadata": {},
   "outputs": [],
   "source": [
    "'''\n",
    "Sample Input 1\n",
    "8 9 10\n",
    "16 X 20\n",
    "24 X 30\n",
    "Output for Sample Input 1\n",
    "8 9 10\n",
    "16 18 20\n",
    "24 27 30\n",
    "\n",
    "Sample Input 2\n",
    "14 X X\n",
    "X X 18\n",
    "X 16 X\n",
    "Possible Output for Sample Input 2\n",
    "14 20 26\n",
    "18 18 18\n",
    "22 16 10\n",
    "'''"
   ]
  },
  {
   "cell_type": "code",
   "execution_count": null,
   "metadata": {},
   "outputs": [],
   "source": []
  },
  {
   "cell_type": "code",
   "execution_count": null,
   "metadata": {},
   "outputs": [],
   "source": []
  },
  {
   "cell_type": "code",
   "execution_count": null,
   "metadata": {},
   "outputs": [],
   "source": []
  },
  {
   "cell_type": "markdown",
   "metadata": {},
   "source": [
    "## 2017-J1: A common problem in mathematics is to determine which quadrant a given point lies in. There are four quadrants, numbered from 1 to 4, as shown in the diagram below: For example, the point A, which is at coordinates (12, 5) lies in quadrant 1 since both its x and y values are positive, and point B lies in quadrant 2 since its x value is negative and its y value is positive. Your job is to take a point and determine the quadrant it is in. You can assume that neither of the two coordinates will be 0."
   ]
  },
  {
   "cell_type": "code",
   "execution_count": 268,
   "metadata": {},
   "outputs": [
    {
     "data": {
      "text/plain": [
       "4"
      ]
     },
     "execution_count": 268,
     "metadata": {},
     "output_type": "execute_result"
    }
   ],
   "source": [
    "def quadrant(x, y):\n",
    "    if (x == 0) or (y == 0):\n",
    "        return('Invalid!')\n",
    "    else:\n",
    "        if x > 0:\n",
    "            if y > 0:\n",
    "                return(1)\n",
    "            else:\n",
    "                return(4)\n",
    "        else:\n",
    "            if y > 0:\n",
    "                return(2)\n",
    "            else:\n",
    "                return(3)\n",
    "quadrant(5, -5)"
   ]
  },
  {
   "cell_type": "markdown",
   "metadata": {},
   "source": [
    "## 2016-J1: Each player in a tournament plays six games. There are no ties. The tournament director places the players in groups based on the results of games as follows: • if a player wins 5 or 6 games, they are placed in Group 1; • if a player wins 3 or 4 games, they are placed in Group 2; • if a player wins 1 or 2 games, they are placed in Group 3; • if a player does not win any games, they are eliminated from the tournament. Write a program to determine which group a player is placed in"
   ]
  },
  {
   "cell_type": "code",
   "execution_count": 272,
   "metadata": {},
   "outputs": [
    {
     "data": {
      "text/plain": [
       "3"
      ]
     },
     "execution_count": 272,
     "metadata": {},
     "output_type": "execute_result"
    }
   ],
   "source": [
    "def groups(str1, str2, str3, str4, str5, str6):\n",
    "    list1 = []\n",
    "    list1.append(str1)\n",
    "    list1.append(str2)\n",
    "    list1.append(str2)\n",
    "    list1.append(str3)\n",
    "    list1.append(str4)\n",
    "    list1.append(str5)\n",
    "    list1.append(str6)\n",
    "    count = 0\n",
    "    for x in list1:\n",
    "        if x == 'W':\n",
    "            count = count + 1\n",
    "    return count\n",
    "groups('W', 'L', 'W', 'L', 'W', 'L')"
   ]
  },
  {
   "cell_type": "markdown",
   "metadata": {},
   "source": [
    "## 2015-J1: February 18 is a special date for the CCC this year. Write a program that asks the user for a numerical month and numerical day of the month and then determines whether that date occurs before, after, or on February 18. If the date occurs before February 18, output the word Before. If the date occurs after February 18, output the word After. If the date is February 18, output the word Special."
   ]
  },
  {
   "cell_type": "code",
   "execution_count": 275,
   "metadata": {},
   "outputs": [
    {
     "data": {
      "text/plain": [
       "'Before'"
      ]
     },
     "execution_count": 275,
     "metadata": {},
     "output_type": "execute_result"
    }
   ],
   "source": [
    "def CCCspecial(x, y):\n",
    "    if (x == 2) and (y == 18):\n",
    "        return('special')\n",
    "    elif x <= 2:\n",
    "        if x == 2:\n",
    "            if y < 18:\n",
    "                return('Before')\n",
    "            else:\n",
    "                return('After')\n",
    "        else:\n",
    "            return('Before')\n",
    "    else:\n",
    "        return('After')\n",
    "CCCspecial(2, 17)"
   ]
  },
  {
   "cell_type": "markdown",
   "metadata": {},
   "source": [
    "## 2014-J1: You have trouble remembering which type of triangle is which. You write a program to help. Your program reads in three angles (in degrees). • If all three angles are 60, output Equilateral. • If the three angles add up to 180 and exactly two of the angles are the same, output Isosceles. • If the three angles add up to 180 and no two angles are the same, output Scalene. • If the three angles do not add up to 180, output Error."
   ]
  },
  {
   "cell_type": "code",
   "execution_count": 280,
   "metadata": {},
   "outputs": [
    {
     "data": {
      "text/plain": [
       "'Scalene'"
      ]
     },
     "execution_count": 280,
     "metadata": {},
     "output_type": "execute_result"
    }
   ],
   "source": [
    "def triangles(a1, a2, a3):\n",
    "    if (a1 == 60) and (a2 == 60) and (a3 == 60):\n",
    "        return('Equilateral')\n",
    "    elif a1 + a2 + a3 != 180:\n",
    "        return('Error')\n",
    "    elif (a1 == a2) or (a1 == a3) or (a2 == a3):\n",
    "        return('Isosceles')\n",
    "    else:\n",
    "        return('Scalene')\n",
    "triangles(1, 89, 90)"
   ]
  },
  {
   "cell_type": "markdown",
   "metadata": {},
   "source": [
    "## 2013-J1: You know a family with three children. Their ages form an arithmetic sequence: the difference in ages between the middle child and youngest child is the same as the difference in ages between the oldest child and the middle child. For example, their ages could be 5, 10 and 15, since both adjacent pairs have a difference of 5 years. Given the ages of the youngest and middle children, what is the age of the oldest child?"
   ]
  },
  {
   "cell_type": "code",
   "execution_count": 284,
   "metadata": {},
   "outputs": [
    {
     "data": {
      "text/plain": [
       "17"
      ]
     },
     "execution_count": 284,
     "metadata": {},
     "output_type": "execute_result"
    }
   ],
   "source": [
    "def family(x, y):\n",
    "    if x > y:\n",
    "        return x + x - y\n",
    "    else:\n",
    "        return y + y - x\n",
    "family(15, 16)"
   ]
  },
  {
   "cell_type": "markdown",
   "metadata": {},
   "source": [
    "## 2012-J1: Many communities now have “radar” signs that tell drivers what their speed is, in the hope that they will slow down. You will output a message for a “radar” sign. The message will display information to a driver based on his/her speed according to the following table:"
   ]
  },
  {
   "cell_type": "code",
   "execution_count": 288,
   "metadata": {},
   "outputs": [
    {
     "data": {
      "text/plain": [
       "'You are speeding and your fine is $500.'"
      ]
     },
     "execution_count": 288,
     "metadata": {},
     "output_type": "execute_result"
    }
   ],
   "source": [
    "def speedlimit(speedlimit, carspeed):\n",
    "    if carspeed < speedlimit:\n",
    "        return('Congratulations, You are within the speed limit!')\n",
    "    if speedlimit + 21 > carspeed:\n",
    "        return('You are speeding and your fine is $100.')\n",
    "    elif speedlimit + 31 > carspeed:\n",
    "        return('You are speeding and your fine is $270.')\n",
    "    else:\n",
    "        return('You are speeding and your fine is $500.')\n",
    "speedlimit(40, 100)"
   ]
  },
  {
   "cell_type": "markdown",
   "metadata": {},
   "source": [
    "## 2011-J1: Canada Cosmos Control has received a report of another incident. They believe that an alien has illegally entered our space. A person who witnessed the appearance of the alien has come forward to describe the alien’s appearance. It is your role within the CCC to determine which alien has arrived. There are only 3 alien species that we are aware of, described below: • TroyMartian, who has at least 3 antenna and at most 4 eyes; • VladSaturnian, who has at most 6 antenna and at least 2 eyes; • GraemeMercurian, who has at most 2 antenna and at most 3 eyes."
   ]
  },
  {
   "cell_type": "code",
   "execution_count": 293,
   "metadata": {},
   "outputs": [
    {
     "name": "stdout",
     "output_type": "stream",
     "text": [
      "VladSaturnian\n",
      "GraemeMercurian\n"
     ]
    }
   ],
   "source": [
    "def alien(a, e):\n",
    "    if a >= 3 and e <= 4:\n",
    "        print('TroyMartian')\n",
    "    if a <= 6 and e >= 2:\n",
    "        print('VladSaturnian')\n",
    "    if a <= 2 and e <= 3:\n",
    "        print('GraemeMercurian')\n",
    "    return None\n",
    "alien(2, 3)"
   ]
  },
  {
   "cell_type": "markdown",
   "metadata": {},
   "source": [
    "## 2010-J1: Natalie is learning to count on her fingers. When her Daddy tells her a number n (1 ≤ n ≤ 10), she asks “What is n, Daddy?”, by which she means “How many fingers should I hold up on each hand so that the total is n?” To make matters simple, her Daddy gives her the correct finger representation according to the following rules: • the number may be represented on one or two hands; • if the number is represented on two hands, the larger number is given first. For example, if Natalie asks “What is 4, Daddy?”, her Dad may reply: • 4 is 4. • 4 is 3 and 1. • 4 is 2 and 2. Your job is to make sure that Natalie’s Daddy gives the correct number of answers"
   ]
  },
  {
   "cell_type": "code",
   "execution_count": 295,
   "metadata": {},
   "outputs": [],
   "source": [
    "def factorial(n):\n",
    "    if n > 1:\n",
    "        return n * factorial(n - 1)\n",
    "    else:\n",
    "        return 1"
   ]
  },
  {
   "cell_type": "code",
   "execution_count": 300,
   "metadata": {},
   "outputs": [
    {
     "data": {
      "text/plain": [
       "3"
      ]
     },
     "execution_count": 300,
     "metadata": {},
     "output_type": "execute_result"
    }
   ],
   "source": [
    "def counting(n):\n",
    "    if (n > 0) and (n < 11):\n",
    "        return int((factorial(n) / (2 * (factorial(n - 2)))) / 2)\n",
    "    else:\n",
    "        return('Error')\n",
    "counting(4)"
   ]
  },
  {
   "cell_type": "markdown",
   "metadata": {},
   "source": [
    "## 2009-J1: The International Standard Book Number (ISBN) is a 13-digit code for identifying books. These numbers have a special property for detecting whether the number was written correctly. The 1-3-sum of a 13-digit number is calculated by multiplying the digits alternately by 1’s and 3’s (see example) and then adding the results. For example, to compute the 1-3-sum of the number 9780921418948 we add 9 ∗ 1 + 7 ∗ 3 + 8 ∗ 1 + 0 ∗ 3 + 9 ∗ 1 + 2 ∗ 3 + 1 ∗ 1 + 4 ∗ 3 + 1 ∗ 1 + 8 ∗ 3 + 9 ∗ 1 + 4 ∗ 3 + 8 ∗ 1 to get 120. The special property of an ISBN number is that its 1-3-sum is always a multiple of 10. Write a program to compute the 1-3-sum of a 13-digit number. To reduce the amount of typing, you may assume that the first ten digits will always be 9780921418, like the example above. Your program should input the last three digits and then print its 1-3-sum. Use a format similar to the samples below."
   ]
  },
  {
   "cell_type": "code",
   "execution_count": 372,
   "metadata": {},
   "outputs": [
    {
     "data": {
      "text/plain": [
       "120"
      ]
     },
     "execution_count": 372,
     "metadata": {},
     "output_type": "execute_result"
    }
   ],
   "source": [
    "def ISBN(a, b, c):\n",
    "    return 91 + a + 3 * b + c\n",
    "ISBN(9,4,8)"
   ]
  },
  {
   "cell_type": "markdown",
   "metadata": {},
   "source": [
    "## 2008-J1: The Body Mass Index (BMI) is one of the calculations used by doctors to assess an adult’s health. The doctor measures the patient’s height (in metres) and weight (in kilograms), then calculates the BMI using the formula BMI = weight/height × height. Write a program which prompts for the patient’s height and weight, calculates the BMI, and displays the corresponding message from the table below."
   ]
  },
  {
   "cell_type": "code",
   "execution_count": 387,
   "metadata": {},
   "outputs": [
    {
     "data": {
      "text/plain": [
       "'Underweight'"
      ]
     },
     "execution_count": 387,
     "metadata": {},
     "output_type": "execute_result"
    }
   ],
   "source": [
    "def BMI(h, w):\n",
    "    if w / (h ** 2) > 25:\n",
    "        return('Overweight')\n",
    "    elif w / (h ** 2) < 18.5:\n",
    "        return('Underweight')\n",
    "    else:\n",
    "        return('Normal Weight')\n",
    "BMI(14, 13)"
   ]
  },
  {
   "cell_type": "markdown",
   "metadata": {},
   "source": [
    "## 2007-J1: In the story Goldilocks and the Three Bears, each bear had a bowl of porridge to eat while sitting at his/her favourite chair. What the story didn’t tell us is that Goldilocks moved the bowls around on the table, so the bowls were not at the right seats anymore. The bowls can be sorted by weight with the lightest bowl being the Baby Bear’s bowl, the medium bowl being the Mama Bear’s bowl and the heaviest bowl being the Papa Bear’s bowl. Write a program that reads in three weights and prints out the weight of Mama Bear’s bowl. You may assume all weights are positive integers less than 100."
   ]
  },
  {
   "cell_type": "code",
   "execution_count": 390,
   "metadata": {},
   "outputs": [
    {
     "data": {
      "text/plain": [
       "6"
      ]
     },
     "execution_count": 390,
     "metadata": {},
     "output_type": "execute_result"
    }
   ],
   "source": [
    "def goldilocks_and_the_three_bears(a, b, c):\n",
    "    list1 = []\n",
    "    list1.append(a)\n",
    "    list1.append(b)\n",
    "    list1.append(c)\n",
    "    list1 = sorted(list1)\n",
    "    return list1[1]\n",
    "goldilocks_and_the_three_bears(5,7,6)"
   ]
  },
  {
   "cell_type": "markdown",
   "metadata": {},
   "source": [
    "## 2006-J1: At Chip’s Fast Food emporium there is a very simple menu. Each food item is selected by entering a digit choice. Here are the three burger choices: Here are the three drink choices: 1 – Cheeseburger (461 Calories) 1 – Soft Drink ( 130 Calories) 2 – Fish Burger (431 Calories) 2 – Orange Juice (160 Calories) 3 – Veggie Burger (420 Calories) 3 – Milk (118 Calories) 4 – no burger 4 – no drink Here are the three side order choices: Here are the three dessert choices: 1 – Fries (100 Calories) 1 – Apple Pie (167 Calories) 2 – Baked Potato (57 Calories) 2 – Sundae (266 Calories) 3 – Chef Salad (70 Calories) 3 – Fruit Cup (75 Calories) 4 – no side order 4 – no dessert Write a program that will compute the total Calories of a meal."
   ]
  },
  {
   "cell_type": "code",
   "execution_count": 395,
   "metadata": {},
   "outputs": [
    {
     "data": {
      "text/plain": [
       "631"
      ]
     },
     "execution_count": 395,
     "metadata": {},
     "output_type": "execute_result"
    }
   ],
   "source": [
    "def Chip_fastfood(a,b,c,d):\n",
    "    count = 0\n",
    "    if a == 1:\n",
    "        count = count + 461\n",
    "    elif a == 2:\n",
    "        count = count + 431\n",
    "    elif a == 3:\n",
    "        count = count + 420\n",
    "    if b == 1:\n",
    "        count = count + 130\n",
    "    elif b == 2:\n",
    "        count = count + 160\n",
    "    elif b == 3:\n",
    "        count = count + 118\n",
    "    if c == 1:\n",
    "        count = count + 100\n",
    "    elif c == 2:\n",
    "        count = count + 57\n",
    "    elif c == 3:\n",
    "        count = count + 70\n",
    "    if d == 1:\n",
    "        count = count + 167\n",
    "    elif d == 2:\n",
    "        count = count + 266\n",
    "    elif d == 3:\n",
    "        count = count + 75\n",
    "    return count\n",
    "Chip_fastfood(2,1,3,4)"
   ]
  },
  {
   "cell_type": "markdown",
   "metadata": {},
   "source": [
    "## 2005-J1: Moe Bull has a cell phone and after a month of use is trying to decide which price plan is the best for his usage pattern. He has two options, each plan has different costs for daytime minutes, evening minutes and weekend minutes. Costs Plan daytime evening weekend A 100 free minutes then 25 cents per minute 15 cents per minute 20 cents per minute B 250 free minutes then 45 cents per minute 35 cents per minute 25 cents per minute Write a program that will input the number of each type of minutes and output the cheapest plan for this usage pattern, using the format shown below. The input will be in the order of daytime minutes, evening minutes and weekend minutes. In the case that the two plans are the same price, output both plans."
   ]
  },
  {
   "cell_type": "code",
   "execution_count": 398,
   "metadata": {},
   "outputs": [
    {
     "data": {
      "text/plain": [
       "'Plan B'"
      ]
     },
     "execution_count": 398,
     "metadata": {},
     "output_type": "execute_result"
    }
   ],
   "source": [
    "def cellsell(m, e, w):\n",
    "    if m > 100:\n",
    "        am_time = (m - 100) * 25\n",
    "    ae_time = 15 * m\n",
    "    aw_time = 20 * w\n",
    "    atotal = am_time + ae_time + aw_time\n",
    "    if m > 250:\n",
    "        bm_time = (m - 250) * 45\n",
    "    be_time = 35 * e\n",
    "    bw_time = 25 * w\n",
    "    btotal = bm_time + be_time + bw_time\n",
    "    if atotal > btotal:\n",
    "        return('Plan B')\n",
    "    elif atotal < btotal:\n",
    "        return('Plan A')\n",
    "    else:\n",
    "        print('Plan A and')\n",
    "        return('Plan B')\n",
    "cellsell(251, 61, 66)"
   ]
  },
  {
   "cell_type": "markdown",
   "metadata": {},
   "source": [
    "## 2004-J1: Gigi likes to play with squares. She has a collection of equal-sized square tiles. Gigi wants to arrange some or all of her tiles on a table to form a solid square. What is the side length of the largest possible square that Gigi can build? For example, when Gigi has 9 tiles she can use them all to build a square whose side length is 3. But when she has only 8 tiles, the largest square that she can build has side length 2. Write a program that asks the user for the number of tiles and then prints out the maximum side length. You may assume that the user will only type integers that are less than ten thousand. Once your program has read the user’s input and printed the largest square, your program stops executing. There are many different methods that your program might use to find the answer. You may use any method. For example, here is one method. First, check whether there are enough tiles to build a square of side length 1. If there are enough tiles, then move on to check the side lengths 2, 3, 4, etc., until your program finds a length that is too large."
   ]
  },
  {
   "cell_type": "code",
   "execution_count": 401,
   "metadata": {},
   "outputs": [
    {
     "data": {
      "text/plain": [
       "86"
      ]
     },
     "execution_count": 401,
     "metadata": {},
     "output_type": "execute_result"
    }
   ],
   "source": [
    "import math\n",
    "def squares(n):\n",
    "    return int(math.sqrt(n))\n",
    "squares(7535)"
   ]
  },
  {
   "cell_type": "markdown",
   "metadata": {},
   "source": [
    "## 2003-J1: A trident is a fork with three tines (prongs). A simple picture of a trident can be made from asterisks and spaces: * * * * * * * * * *******  *  *  *  * In this example, each tine is a vertical column of 3 asterisks. Each tine is separated by 2 spaces. The handle is a vertical column of 4 asterisks below the middle tine. Tridents of various shapes can be drawn by varying three parameters: t, the height of the tines, s, the spacing between tines, and h, the length of the handle. For the example above we have t = 3, s = 2, and h = 4. You are to write an interactive program to print a trident. Your program should accept as input the parameters t, s, and h, and print the appropriate trident. You can assume that t, s, h are each at least 0 and not larger than 10."
   ]
  },
  {
   "cell_type": "code",
   "execution_count": 423,
   "metadata": {},
   "outputs": [
    {
     "name": "stdout",
     "output_type": "stream",
     "text": [
      "*   *   *\n",
      "*   *   *\n",
      "*   *   *\n",
      "*   *   *\n",
      "*********\n",
      "    *    \n",
      "    *    \n"
     ]
    }
   ],
   "source": [
    "def trident(t, s, h):\n",
    "    a1 = [' '] * s\n",
    "    spaces = ''.join(a1)\n",
    "    b1 = '*' + spaces + '*' + spaces + '*'\n",
    "    for x in range(t):\n",
    "        print(b1)\n",
    "    a2 = ['*'] * s\n",
    "    stars = ''.join(a2)\n",
    "    b2 = '*' + stars + '*' + stars + '*'\n",
    "    print(b2)\n",
    "    b3 = ' ' + spaces + '*' + spaces + ' '\n",
    "    for x in range(h):\n",
    "        print(b3)\n",
    "trident(4,3,2)"
   ]
  },
  {
   "cell_type": "markdown",
   "metadata": {},
   "source": [
    "## 2019-J3: Your new cellphone plan charges you for every character you send from your phone. Since you tend to send sequences of symbols in your messages, you have come up with the following compression technique: for each symbol, write down the number of times it appears consecutively, followed by the symbol itself. This compression technique is called run-length encoding. More formally, a block is a substring of identical symbols that is as long as possible. A block will be represented in compressed form as the length of the block followed by the symbol in that block. The encoding of a string is the representation of each block in the string in the order in which they appear in the string. Given a sequence of characters, write a program to encode them in this format. "
   ]
  },
  {
   "cell_type": "code",
   "execution_count": 121,
   "metadata": {},
   "outputs": [
    {
     "name": "stdout",
     "output_type": "stream",
     "text": [
      "2 A 2 B 2 C\n",
      "1 D 1 E 1 F\n",
      "1 G 1 H 1 I\n"
     ]
    }
   ],
   "source": [
    "def cellphone(str1):\n",
    "    list1 = str1.split(',')\n",
    "    list2 = list1[1:]\n",
    "    dict1 = {}\n",
    "    for x in list2:\n",
    "        listunique = []\n",
    "        list3 = list(x)\n",
    "        for n in list3:\n",
    "            if n not in listunique:\n",
    "                listunique.append(n)\n",
    "        str2 = ''\n",
    "        for s in listunique:\n",
    "            dict1[s] = list3.count(s)\n",
    "            str2 = str2 + str(dict1[s]) + ' ' + s + ' '\n",
    "        str2 = str2.strip()\n",
    "        print(str2)\n",
    "cellphone('1,AABBCC,DEF,GHI')"
   ]
  },
  {
   "cell_type": "markdown",
   "metadata": {},
   "source": [
    "## 2018-J3: You decide to go for a very long drive on a very straight road. Along this road are five cities. As you travel, you record the distance between each pair of consecutive cities. You would like to calculate a distance table that indicates the distance between any two of the cities you have encountered. "
   ]
  },
  {
   "cell_type": "code",
   "execution_count": 138,
   "metadata": {},
   "outputs": [],
   "source": [
    "def distance(list1, start, end):\n",
    "    if start == end:\n",
    "        return 0\n",
    "    else:\n",
    "        small = min(start, end)\n",
    "        large = max(start, end)\n",
    "        return sum(list1[small : large])"
   ]
  },
  {
   "cell_type": "code",
   "execution_count": 149,
   "metadata": {},
   "outputs": [
    {
     "name": "stdout",
     "output_type": "stream",
     "text": [
      "[0, 3, 13, 25, 30]\n",
      "[3, 0, 10, 22, 27]\n",
      "[13, 10, 0, 12, 17]\n",
      "[25, 22, 12, 0, 5]\n",
      "[30, 27, 17, 5, 0]\n"
     ]
    }
   ],
   "source": [
    "list1 = [3, 10, 12, 5]\n",
    "for x in range(5):\n",
    "    list_1=[]\n",
    "    for y in range(5):\n",
    "        d=distance(list1, x, y)\n",
    "        list_1.append(d)\n",
    "    print(list_1)"
   ]
  },
  {
   "cell_type": "markdown",
   "metadata": {},
   "source": [
    "## 2016-J3: A palindrome is a word which is the same when read forwards as it is when read backwards. For example, mom and anna are two palindromes. A word which has just one letter, such as a, is also a palindrome. Given a word, what is the longest palindrome that is contained in the word? That is, what is the longest palindrome that we can obtain, if we are allowed to delete characters from the beginning and/or the end of the string?"
   ]
  },
  {
   "cell_type": "code",
   "execution_count": 124,
   "metadata": {},
   "outputs": [
    {
     "data": {
      "text/plain": [
       "'\\nSample Input 1\\nbanana\\nOutput for Sample Input 1\\n5\\nExplanation for Output for Sample Input 1\\nThe palindrome anana has 5 letters.\\nSample Input 2\\nabracadabra\\nOutput for Sample Input 2\\n3\\nExplanation for Output for Sample Input 2\\nThe palindromes aca and ada have 3 letters, and there are no other palindromes in the input\\nwhich are longer.\\n'"
      ]
     },
     "execution_count": 124,
     "metadata": {},
     "output_type": "execute_result"
    }
   ],
   "source": [
    "\"\"\"\n",
    "Sample Input 1\n",
    "banana\n",
    "Output for Sample Input 1\n",
    "5\n",
    "Explanation for Output for Sample Input 1\n",
    "The palindrome anana has 5 letters.\n",
    "Sample Input 2\n",
    "abracadabra\n",
    "Output for Sample Input 2\n",
    "3\n",
    "Explanation for Output for Sample Input 2\n",
    "The palindromes aca and ada have 3 letters, and there are no other palindromes in the input\n",
    "which are longer.\n",
    "\"\"\""
   ]
  },
  {
   "cell_type": "code",
   "execution_count": 163,
   "metadata": {},
   "outputs": [
    {
     "name": "stdout",
     "output_type": "stream",
     "text": [
      "5\n"
     ]
    }
   ],
   "source": [
    "list1 = list('banana')\n",
    "listofpalindromes = []\n",
    "def checkifpalindrome(str1):\n",
    "    if list(str1) == list(str1)[::-1]:\n",
    "        return True\n",
    "    return False\n",
    "for start in range(len(list1)+1):\n",
    "    for end in range(start+1, len(list1)+1):\n",
    "        if checkifpalindrome(list1[start : end]) == True:\n",
    "            listofpalindromes.append(len(list1[start : end]))\n",
    "print(max(listofpalindromes))"
   ]
  },
  {
   "cell_type": "code",
   "execution_count": 158,
   "metadata": {},
   "outputs": [
    {
     "data": {
      "text/plain": [
       "[['b'], ['a'], ['a', 'n', 'a'], ['n'], ['n', 'a', 'n'], ['a'], ['n']]"
      ]
     },
     "execution_count": 158,
     "metadata": {},
     "output_type": "execute_result"
    }
   ],
   "source": [
    "listofpalindromes"
   ]
  },
  {
   "cell_type": "markdown",
   "metadata": {},
   "source": [
    "## 2017-J3: You live in Grid City, which is composed of integer-numbered streets which run east-west (parallel to the x-axis) and integer-numbered avenues which run north-south (parallel to the y-axis). The streets and avenues have infinite length, and there is a street for every integer y-coordinate and an avenue for every x-coordinate. All intersections are labelled by their integer coordinates: for example, avenue 7 and street -3 intersect at (7,-3).  You drive a special electric car which uses up one unit of electrical charge moving between adjacent intersections: that is, moving either north or south to the next street, or moving east or west to the next avenue). Until your battery runs out, at each intersection, your car can turn left, turn right, go straight through, or make a U-turn. You may visit the same intersection multiple times on the same trip.  Suppose you know your starting intersection, your destination intersection and the number of units of electrical charge in your battery. Determine whether you can travel from the starting intersection to the destination intersection using the charge available to you in such a way that your battery is empty when you reach your destination. \n"
   ]
  },
  {
   "cell_type": "code",
   "execution_count": null,
   "metadata": {},
   "outputs": [],
   "source": [
    "'''\n",
    "Sample Input 1\n",
    "3 4 \n",
    "3 3 \n",
    "3\n",
    "Output for Sample Input 1\n",
    "Y\n",
    "\n",
    "Sample Input 2\n",
    "10 2 \n",
    "10 4 \n",
    "5\n",
    "Output for Sample Input 2\n",
    "N\n",
    "'''"
   ]
  },
  {
   "cell_type": "code",
   "execution_count": 165,
   "metadata": {},
   "outputs": [
    {
     "data": {
      "text/plain": [
       "'no'"
      ]
     },
     "execution_count": 165,
     "metadata": {},
     "output_type": "execute_result"
    }
   ],
   "source": [
    "def gridcity(a,b,c,d,n):\n",
    "    hi = n - (abs(c - a) + abs(d - b))\n",
    "    if hi % 2 == 0:\n",
    "        return 'yes'\n",
    "    return 'no'\n",
    "gridcity(10,2,10,4,15)"
   ]
  },
  {
   "cell_type": "markdown",
   "metadata": {},
   "source": [
    "## 2014-J3: Antonia and David are playing a game.  Each player starts with 100 points.  The game uses standard six-sided dice and is played in rounds. During one round, each player rolls one die. The player with the lower roll loses the number of points shown on the higher die. If both players roll the same number, no points are lost by either player.  Write a program to determine the final scores. "
   ]
  },
  {
   "cell_type": "code",
   "execution_count": 164,
   "metadata": {},
   "outputs": [
    {
     "data": {
      "text/plain": [
       "'\\nSample Input\\n4 \\n5 6 \\n6 6 \\n4 3 \\n5 2\\nOutput for Sample Input\\n94 \\n91\\n'"
      ]
     },
     "execution_count": 164,
     "metadata": {},
     "output_type": "execute_result"
    }
   ],
   "source": [
    "'''\n",
    "Sample Input\n",
    "4 \n",
    "5 6 \n",
    "6 6 \n",
    "4 3 \n",
    "5 2\n",
    "Output for Sample Input\n",
    "94 \n",
    "91\n",
    "'''"
   ]
  },
  {
   "cell_type": "code",
   "execution_count": 179,
   "metadata": {},
   "outputs": [
    {
     "data": {
      "text/plain": [
       "(94, 91)"
      ]
     },
     "execution_count": 179,
     "metadata": {},
     "output_type": "execute_result"
    }
   ],
   "source": [
    "def dicegame(list1):\n",
    "    p1 = 100\n",
    "    p2 = 100\n",
    "    for s in list1[1:]:\n",
    "        if s[0]>s[1]:\n",
    "            p2 = p2 - s[0]\n",
    "        elif s[0] == s[1]:\n",
    "            continue\n",
    "        else:\n",
    "            p1 = p1 - s[1]\n",
    "    return((p1, p2))\n",
    "dicegame([4,(5,6),(6,6),(4,3),(5,2)])"
   ]
  },
  {
   "cell_type": "markdown",
   "metadata": {},
   "source": [
    "## 2013-J3: You might be surprised to know that 2013 is the first year since 1987 with distinct digits. The years 2014, 2015, 2016, 2017, 2018, 2019 each have distinct digits. 2012 does not have distinct digits, since the digit 2 is repeated. Given a year, what is the next year with distinct digits?"
   ]
  },
  {
   "cell_type": "code",
   "execution_count": null,
   "metadata": {},
   "outputs": [],
   "source": [
    "'''\n",
    "Sample Input 1\n",
    "1987\n",
    "Output for Sample Input 1\n",
    "2013\n",
    "Sample Input 2\n",
    "999\n",
    "Output for Sample Input 2\n",
    "1023\n",
    "'''"
   ]
  },
  {
   "cell_type": "code",
   "execution_count": 185,
   "metadata": {},
   "outputs": [
    {
     "data": {
      "text/plain": [
       "True"
      ]
     },
     "execution_count": 185,
     "metadata": {},
     "output_type": "execute_result"
    }
   ],
   "source": [
    "def isdistinct(n):\n",
    "    list1 = list(str(n))\n",
    "    list2 = list(set(list1))\n",
    "    if len(list1) == len(list2):\n",
    "        return True\n",
    "    return False\n",
    "isdistinct(1987)"
   ]
  },
  {
   "cell_type": "code",
   "execution_count": 190,
   "metadata": {},
   "outputs": [
    {
     "data": {
      "text/plain": [
       "1023"
      ]
     },
     "execution_count": 190,
     "metadata": {},
     "output_type": "execute_result"
    }
   ],
   "source": [
    "def nextyear(n):\n",
    "    n = n + 1\n",
    "    while isdistinct(n + 1) != True:\n",
    "        n = n + 1\n",
    "    return n + 1\n",
    "nextyear(999)"
   ]
  },
  {
   "cell_type": "markdown",
   "metadata": {},
   "source": [
    "## 2012-J3: You have been asked to take a small icon that appears on the screen of a smart telephone and scale it up so it looks bigger on a regular computer screen. The icon will be encoded as characters (x and *) in a 3 × 3 grid as follows. Write a program that accepts a positive integer scaling factor and outputs the scaled icon. A scaling factor of k means that each character is replaced by a k × k grid consisting only of that character."
   ]
  },
  {
   "cell_type": "code",
   "execution_count": null,
   "metadata": {},
   "outputs": [],
   "source": [
    "'''\n",
    "Original icon:\n",
    "*x*\n",
    " xx\n",
    "* *\n",
    "\n",
    "Sample Input\n",
    "3\n",
    "Output for Sample Input\n",
    "***xxx***\n",
    "***xxx***\n",
    "***xxx***\n",
    "xxxxxx\n",
    "xxxxxx\n",
    "xxxxxx\n",
    "*** ***\n",
    "*** ***\n",
    "*** ***\n",
    "'''"
   ]
  },
  {
   "cell_type": "code",
   "execution_count": 196,
   "metadata": {},
   "outputs": [
    {
     "name": "stdout",
     "output_type": "stream",
     "text": [
      "***xxx***\n",
      "***xxx***\n",
      "***xxx***\n"
     ]
    }
   ],
   "source": [
    "#*x* --> ***xxx***\n",
    "def repeat1(str1, k):\n",
    "    list1 = list(str1)\n",
    "    list2 = []\n",
    "    for x in list1:\n",
    "        for n in range(k):\n",
    "            list2.append(x)\n",
    "    str2 = ''.join(list2)\n",
    "    for a in range(k):\n",
    "        print(str2)\n",
    "repeat1('*x*', 3)"
   ]
  },
  {
   "cell_type": "code",
   "execution_count": 198,
   "metadata": {},
   "outputs": [
    {
     "name": "stdout",
     "output_type": "stream",
     "text": [
      "***xxx***\n",
      "***xxx***\n",
      "***xxx***\n",
      "   xxxxxx\n",
      "   xxxxxx\n",
      "   xxxxxx\n",
      "***   ***\n",
      "***   ***\n",
      "***   ***\n"
     ]
    }
   ],
   "source": [
    "# xx -->    xxxxxx\n",
    "list_input = ['*x*',' xx', '* *']\n",
    "for x in list_input:\n",
    "    repeat1(x, 3)"
   ]
  },
  {
   "cell_type": "markdown",
   "metadata": {},
   "source": [
    "## 2011-J3: In a sumac sequence,t1, t2, .., tm, each term is an integer greater than or equal 0. Also, each term, starting with the third, is the difference of the preceding two terms (that is,tn+2=tn−tn+1 for n≥1). The sequence terminates attmiftm−1< tm. For example, if we have 120 and 71, then the sumac sequence generated is as follows:120,71,49,22,27.This is a sumac sequence of length 5."
   ]
  },
  {
   "cell_type": "code",
   "execution_count": null,
   "metadata": {},
   "outputs": [],
   "source": [
    "'''\n",
    "Sample Input\n",
    "120 71\n",
    "Output for Sample Input\n",
    "5\n",
    "'''"
   ]
  },
  {
   "cell_type": "code",
   "execution_count": 1,
   "metadata": {},
   "outputs": [
    {
     "data": {
      "text/plain": [
       "5"
      ]
     },
     "execution_count": 1,
     "metadata": {},
     "output_type": "execute_result"
    }
   ],
   "source": [
    "def sumac(list1):\n",
    "    while list1[-1] < list1[-2]:\n",
    "        list1.append(list1[-2] - list1[-1])\n",
    "    return(len(list1))\n",
    "sumac([120, 71])"
   ]
  },
  {
   "cell_type": "markdown",
   "metadata": {},
   "source": [
    "## 2019-J2: You and your friend have come up with a way to send messages back and forth. Your friend can encode a message to you by writing down a positive integer N and a symbol. You can decode that message by writing out that symbol N times in a row on one line. Given a message that your friend has encoded, decode it."
   ]
  },
  {
   "cell_type": "code",
   "execution_count": null,
   "metadata": {},
   "outputs": [],
   "source": [
    "'''\n",
    "Sample Input\n",
    "4\n",
    "9 +\n",
    "3 -\n",
    "12 A\n",
    "2 X\n",
    "Output for Sample Input\n",
    "+++++++++\n",
    "---\n",
    "AAAAAAAAAAAA\n",
    "XX\n",
    "'''"
   ]
  },
  {
   "cell_type": "code",
   "execution_count": 18,
   "metadata": {},
   "outputs": [],
   "source": [
    "def duplicate(tuple1):\n",
    "    list1 = [tuple1[1]] * tuple1[0]\n",
    "    str1 = ''.join(list1)\n",
    "    return str1"
   ]
  },
  {
   "cell_type": "code",
   "execution_count": 20,
   "metadata": {},
   "outputs": [
    {
     "name": "stdout",
     "output_type": "stream",
     "text": [
      "+++++++++\n",
      "---\n",
      "AAAAAAAAAAAA\n",
      "XX\n"
     ]
    }
   ],
   "source": [
    "def message(list1):\n",
    "    list2 = list1[1:]\n",
    "    for x in list2:\n",
    "        print(duplicate(x))\n",
    "message([4, (9, '+'), (3, '-'), (12, 'A'), (2, 'X')])"
   ]
  },
  {
   "cell_type": "markdown",
   "metadata": {},
   "source": [
    "## 2017-J2: Suppose we have a number like 12. Let’s define shifting a number to mean adding a zero at the end. For example, if we shift that number once, we get the number 120. If we shift the number again we get the number 1200. We can shift the number as many times as we want.  In this problem you will be calculating a shifty sum, which is the sum of a number and the numbers we get by shifting. Specifically, you will be given the starting number N and a non-negative integer k. You must add together N and all the numbers you get by shifting a total of k times.  For example, the shifty sum when N is 12 and k is 1 is: 12 + 120 = 132. As another example, the shifting sum when N is 12 and k is 3 is 12+120+1200+12000=13332. \n"
   ]
  },
  {
   "cell_type": "code",
   "execution_count": null,
   "metadata": {},
   "outputs": [],
   "source": [
    "'''\n",
    "Sample Input\n",
    "12 3\n",
    "Output for Sample Input\n",
    "13332\n",
    "'''"
   ]
  },
  {
   "cell_type": "code",
   "execution_count": 2,
   "metadata": {},
   "outputs": [
    {
     "data": {
      "text/plain": [
       "13332"
      ]
     },
     "execution_count": 2,
     "metadata": {},
     "output_type": "execute_result"
    }
   ],
   "source": [
    "def shifting(a, b):\n",
    "    count = 0\n",
    "    for x in range(b + 1):\n",
    "        count += a\n",
    "        a = a * 10\n",
    "    return count\n",
    "shifting(12, 3)"
   ]
  },
  {
   "cell_type": "markdown",
   "metadata": {},
   "source": [
    "## 2016-J2: Magic Squares are square arrays of numbers that have the interesting property that the numbers in each column, and in each row, all add up to the same total. Given a 4 × 4 square of numbers, determine if it is magic square. "
   ]
  },
  {
   "cell_type": "code",
   "execution_count": null,
   "metadata": {},
   "outputs": [],
   "source": [
    "'''\n",
    "Sample Input 1\n",
    "16 3 2 13\n",
    "5 10 11 8\n",
    "9 6 7 12\n",
    "4 15 14 1\n",
    "Output for Sample Input 1\n",
    "magic\n",
    "\n",
    "Sample Input 2\n",
    "5 10 1 3 \n",
    "10 4 2 3 \n",
    "1 2 8 5 \n",
    "3 3 5 0\n",
    "Output for Sample Input 2\n",
    "not magic\n",
    "'''"
   ]
  },
  {
   "cell_type": "code",
   "execution_count": 9,
   "metadata": {},
   "outputs": [
    {
     "data": {
      "text/plain": [
       "'magic'"
      ]
     },
     "execution_count": 9,
     "metadata": {},
     "output_type": "execute_result"
    }
   ],
   "source": [
    "def magicsquare(list1):\n",
    "    magicnumber = sum(list1[0])\n",
    "    if sum(list1[1]) != magicnumber:\n",
    "        return('not magic')\n",
    "    if sum(list1[2]) != magicnumber:\n",
    "        return('not magic')\n",
    "    if sum(list1[3]) != magicnumber:\n",
    "        return('not magic')\n",
    "    if list1[0][0] + list1[1][0] + list1[2][0] + list1[3][0] != magicnumber:\n",
    "        return('not magic')\n",
    "    if list1[0][1] + list1[1][1] + list1[2][1] + list1[3][1] != magicnumber:\n",
    "        return('not magic')\n",
    "    if list1[0][2] + list1[1][2] + list1[2][2] + list1[3][2] != magicnumber:\n",
    "        return('not magic')\n",
    "    if list1[0][3] + list1[1][3] + list1[2][3] + list1[3][3] != magicnumber:\n",
    "        return('not magic')\n",
    "    return('magic')\n",
    "magicsquare([[16,3,2,13], [5,10,11,8], [9,6,7,12], [4,15,14,1]])"
   ]
  },
  {
   "cell_type": "markdown",
   "metadata": {},
   "source": [
    "## 2015-J2: We often include emoticons in our text messages to indicate how we are feeling. The three consecutive characters :-) indicate a happy face and the three consecutive characters :-( indicate a sad face. Write a program to determine the overall mood of a message.  Input Specification There will be one line of input that contains between 1 and 255 characters. Output Specification The output is determined by the following rules:\u000b",
    "• If the input line does not contain any happy or sad emoticons, output none. Otherwise, if the input line contains an equal number of happy and sad emoticons, output unsure. Otherwise, if the input line contains more happy than sad emoticons, output happy. • Otherwise, if the input line contains more sad than happy emoticons, output sad.  \n"
   ]
  },
  {
   "cell_type": "code",
   "execution_count": null,
   "metadata": {},
   "outputs": [],
   "source": [
    "'''\n",
    "Sample Input 1\n",
    "How are you :-) doing :-( today :-)?\n",
    "Output for Sample Input 1\n",
    "happy\n",
    "\n",
    "Sample Input 2\n",
    ":)\n",
    "Output for Sample Input 2\n",
    "none\n",
    "\n",
    "Sample Input 3\n",
    "This:-(is str:-(:-(ange te:-)xt.\n",
    "Output for Sample Input 3\n",
    "sad\n",
    "'''"
   ]
  },
  {
   "cell_type": "code",
   "execution_count": 18,
   "metadata": {},
   "outputs": [
    {
     "data": {
      "text/plain": [
       "'happy'"
      ]
     },
     "execution_count": 18,
     "metadata": {},
     "output_type": "execute_result"
    }
   ],
   "source": [
    "def emoticon(str1):\n",
    "    happy = ':-)'\n",
    "    sad = ':-('\n",
    "    list1 = list(str1)\n",
    "    if str1 == happy:\n",
    "        return 1\n",
    "    if str1 == sad:\n",
    "        return -1\n",
    "    return 0"
   ]
  },
  {
   "cell_type": "code",
   "execution_count": 22,
   "metadata": {},
   "outputs": [
    {
     "name": "stdout",
     "output_type": "stream",
     "text": [
      "happy\n"
     ]
    }
   ],
   "source": [
    "str1 = 'How are you :-) doing :-( today :-)?'\n",
    "list_r = []\n",
    "for x in range(len(str1) - 3):\n",
    "    st = str1[x:x+3]\n",
    "    list_r.append(emoticon(st))\n",
    "if sum(list1) > 0:\n",
    "    print('happy')\n",
    "elif sum(list1) < 0:\n",
    "    print('sad')\n",
    "else:\n",
    "    print('None')"
   ]
  },
  {
   "cell_type": "markdown",
   "metadata": {},
   "source": [
    "## 2014-J4: You have been asked by a parental unit to do your chores. Each chore takes a certain amount of time, but you may not have enough time to do all of your chores, since you can only complete one chore at a time. You can do the chores in any order that you wish.  What is the largest amount of chores you can complete in the given amount of time? \n"
   ]
  },
  {
   "cell_type": "code",
   "execution_count": null,
   "metadata": {},
   "outputs": [],
   "source": [
    "'''\n",
    "Sample Input 1\n",
    "6 \n",
    "3 \n",
    "3 \n",
    "6 \n",
    "3\n",
    "Output for Sample Input 1\n",
    "2\n",
    "\n",
    "Sample Input 2\n",
    "6 \n",
    "5\n",
    "5 \n",
    "4 \n",
    "3 \n",
    "2 \n",
    "1\n",
    "Output for Sample Input 2\n",
    "3\n",
    "'''"
   ]
  },
  {
   "cell_type": "code",
   "execution_count": 29,
   "metadata": {},
   "outputs": [
    {
     "data": {
      "text/plain": [
       "3"
      ]
     },
     "execution_count": 29,
     "metadata": {},
     "output_type": "execute_result"
    }
   ],
   "source": [
    "def chores(list1):\n",
    "    list2 = list1[2:]\n",
    "    list2 = sorted(list2)\n",
    "    count = 0\n",
    "    bucket = 0\n",
    "    while bucket <= list1[0]:\n",
    "        count += 1\n",
    "        bucket += list2[0]\n",
    "        list2 = list2[1:]\n",
    "    return count - 1\n",
    "chores([6,5,5,4,3,2,1])"
   ]
  },
  {
   "cell_type": "markdown",
   "metadata": {},
   "source": [
    "## 2006-J2: Diana is playing a game with two dice. One die has sides labelled 1, 2, 3, ..., . The other die has sides labelled 1, 2, 3, ..., . Write a program to determine how many ways can she roll the dice to get the sum 10. For example, when the first die has 6 sides and the second die has 8 sides, there are 5 ways to get the sum 10."
   ]
  },
  {
   "cell_type": "code",
   "execution_count": null,
   "metadata": {},
   "outputs": [],
   "source": [
    "'''\n",
    "Sample Prompting and User Input 1 (user input in italics) \n",
    "Enter m: 6\n",
    "Enter n: 8\n",
    "\n",
    "Output for Sample 1\n",
    "There are 5 ways to get the sum 10.\n",
    "'''"
   ]
  },
  {
   "cell_type": "code",
   "execution_count": 23,
   "metadata": {},
   "outputs": [
    {
     "name": "stdout",
     "output_type": "stream",
     "text": [
      "5\n"
     ]
    }
   ],
   "source": [
    "count = 0\n",
    "for x in range(1,7):\n",
    "    for y in range(1,9):\n",
    "        if x + y == 10:\n",
    "            count += 1\n",
    "print(count)"
   ]
  },
  {
   "cell_type": "markdown",
   "metadata": {},
   "source": [
    "## 2016-J5: Since time immemorial, the citizens of Dmojistan and Pegland have been at war. Now, they have finally signed a truce. They have decided to participate in a tandem bicycle ride to celebrate the truce. There are N citizens from each country. They must be assigned to pairs so that each pair contains one person from Dmojistan and one person from Pegland.  Each citizen has a cycling speed. In a pair, the fastest person will always operate the tandem bicycle while the slower person simply enjoys the ride. In other words, if the members of a pair have speeds a and b, then the bike speed of the pair is max(a, b). The total speed is the sum of the N individual bike speeds.  For this problem, in each test case, you will be asked to answer one of two questions:\u000b",
    "• Question 1: what is the minimum total speed, out of all possible assignments into pairs?  • Question 2: what is the maximum total speed, out of all possible assignments into pairs? \n"
   ]
  },
  {
   "cell_type": "code",
   "execution_count": null,
   "metadata": {},
   "outputs": [],
   "source": [
    "'''\n",
    "Sample Input 1\n",
    "1\n",
    "3 \n",
    "5 1 4 \n",
    "6 2 4\n",
    "Output for Sample Input 1\n",
    "12\n",
    "\n",
    "Explanation for Output for Sample Input 1\n",
    "There is a unique optimal solution:\n",
    "• Pair the citizen from Dmojistan with speed 5 and the citizen from Pegland with speed 6. \n",
    "• Pair the citizen from Dmojistan with speed 1 and the citizen from Pegland with speed 2. \n",
    "• Pair the citizen from Dmojistan with speed 4 and the citizen from Pegland with speed 4.\n",
    "\n",
    "Sample Input 2\n",
    "2\n",
    "3 \n",
    "5 1 4 \n",
    "6 2 4\n",
    "Output for Sample Input 2\n",
    "15\n",
    "Explanation for Output for Sample Input 2\n",
    "There are multiple possible optimal solutions. Here is one optimal solution:\n",
    "• Pair the citizen from Dmojistan with speed 5 and the citizen from Pegland with speed 2. \n",
    "• Pair the citizen from Dmojistan with speed 1 and the citizen from Pegland with speed 6. \n",
    "• Pair the citizen from Dmojistan with speed 4 and the citizen from Pegland with speed 4.\n",
    "\n",
    "Sample Input 3\n",
    "2\n",
    "5\n",
    "202 177 189 589 102\n",
    "17  78  1   496 540\n",
    "Output for Sample Input 3\n",
    "2016\n",
    "\n",
    "Explanation for Output for Sample Input 3\n",
    "There are multiple possible optimal solutions. Here is one optimal solution:\n",
    "• Pair the citizen from Dmojistan with speed 202 and the citizen from Pegland with speed 1. \n",
    "• Pair the citizen from Dmojistan with speed 177 and the citizen from Pegland with speed 540. \n",
    "• Pair the citizen from Dmojistan with speed 189 and the citizen from Pegland with speed 17. \n",
    "• Pair the citizen from Dmojistan with speed 589 and the citizen from Pegland with speed 78. \n",
    "• PairthecitizenfromDmojistanwithspeed102andthecitizenfromPeglandwithspeed496.\n",
    "This sum yields 202 + 540 + 189 + 589 + 496 = 2016.\n",
    "'''"
   ]
  },
  {
   "cell_type": "code",
   "execution_count": 87,
   "metadata": {},
   "outputs": [
    {
     "data": {
      "text/plain": [
       "568"
      ]
     },
     "execution_count": 87,
     "metadata": {},
     "output_type": "execute_result"
    }
   ],
   "source": [
    "def truce(n):\n",
    "    lista = [12, 34, 8, 99, 45]\n",
    "    listb = [78, 13, 92, 9, 254]\n",
    "    list2 = []\n",
    "    if n == 1:\n",
    "        while len(lista) > 0 and len(listb) > 0:\n",
    "            if max(lista) > max(listb):\n",
    "                a = lista.index(max(lista))\n",
    "                b = listb.index(min(listb))\n",
    "                list2.append(lista.pop(a))\n",
    "                listb.pop(b)\n",
    "            else:\n",
    "                a = lista.index(min(lista))\n",
    "                b = listb.index(max(listb))\n",
    "                list2.append(listb.pop(b))\n",
    "                lista.pop(a)\n",
    "        return sum(list2)\n",
    "    elif n == 2:\n",
    "        count = 0\n",
    "        while len(lista) > 0 and len(listb) > 0:\n",
    "            if max(lista) > max(listb):\n",
    "                a = lista.index(max(lista))\n",
    "                b = listb.index(max(listb))\n",
    "                list2.append(lista.pop(a))\n",
    "                listb.pop(b)\n",
    "            else:\n",
    "                a = lista.index(max(lista))\n",
    "                b = listb.index(max(listb))\n",
    "                list2.append(listb.pop(b))\n",
    "                lista.pop(a)\n",
    "        return sum(list2)\n",
    "    else:\n",
    "        return('Invalid!')\n",
    "truce(1)"
   ]
  },
  {
   "cell_type": "code",
   "execution_count": null,
   "metadata": {},
   "outputs": [],
   "source": [
    "'''\n",
    "list_1 = [69, 34, 12, 78, 89, 120]\n",
    "list_2 = ['A', 'B', 'B', 'A', 'A', 'B'] # team\n",
    "question: find the max and min of list_1, and the corresponding team in list_2\n",
    "'''"
   ]
  },
  {
   "cell_type": "code",
   "execution_count": 40,
   "metadata": {},
   "outputs": [
    {
     "name": "stdout",
     "output_type": "stream",
     "text": [
      "120\n",
      "B\n",
      "12\n",
      "B\n"
     ]
    }
   ],
   "source": [
    "list_1 = [69, 34, 12, 78, 89, 120]\n",
    "list_2 = ['A', 'B', 'B', 'A', 'A', 'B']\n",
    "index = list_1.index(max(list_1))\n",
    "print(max(list_1))\n",
    "print(list_2[index])\n",
    "index = list_1.index(min(list_1))\n",
    "print(min(list_1))\n",
    "print(list_2[index])"
   ]
  },
  {
   "cell_type": "markdown",
   "metadata": {},
   "source": [
    "### Question: list_a = [12, 34, 8, 99, 45] # team-A, list_b=[78, 13, 92, 9, 254] # team-B, do the folowing to make pair: 1) each pair has one from team-A and another one from team-B, 2) always pick the largest element from team-A and B, and then find the smallest element from the other team."
   ]
  },
  {
   "cell_type": "code",
   "execution_count": null,
   "metadata": {},
   "outputs": [],
   "source": [
    "'''\n",
    "1st round: pick 254 from team-B, because it the largest element, and then pick 12 from team-A to pair with it\n",
    "2rd round: pick 99 from team-A, because it is the largest element among the unpaired elements, and then pick 9 to pair with it\n",
    "'''"
   ]
  },
  {
   "cell_type": "code",
   "execution_count": 60,
   "metadata": {},
   "outputs": [
    {
     "name": "stdout",
     "output_type": "stream",
     "text": [
      "568\n"
     ]
    }
   ],
   "source": [
    "lista = [12, 34, 8, 99, 45]\n",
    "listb = [78, 13, 92, 9, 254]\n",
    "count = 0\n",
    "while len(lista) > 0 and len(listb) > 0:\n",
    "    if max(lista) > max(listb):\n",
    "        a = lista.index(max(lista))\n",
    "        b = listb.index(min(listb))\n",
    "        count += lista.pop(a)\n",
    "        listb.pop(b)\n",
    "    else:\n",
    "        a = lista.index(min(lista))\n",
    "        b = listb.index(max(listb))\n",
    "        count += listb.pop(b)\n",
    "        lista.pop(a)\n",
    "print(count)"
   ]
  },
  {
   "cell_type": "markdown",
   "metadata": {},
   "source": [
    "### Question: list_a = [12, 34, 8, 99, 45] # team-A, list_b=[78, 13, 92, 9, 254] # team-B, do the folowing to make pair: 1) each pair has one from team-A and another one from team-B, 2) always pick the largest element from team-A and B, and then find the largest element from the other team."
   ]
  },
  {
   "cell_type": "code",
   "execution_count": 62,
   "metadata": {},
   "outputs": [
    {
     "name": "stdout",
     "output_type": "stream",
     "text": [
      "446\n"
     ]
    }
   ],
   "source": [
    "lista = [12, 34, 8, 99, 45]\n",
    "listb = [78, 13, 92, 9, 254]\n",
    "count = 0\n",
    "while len(lista) > 0 and len(listb) > 0:\n",
    "    if max(lista) > max(listb):\n",
    "        a = lista.index(max(lista))\n",
    "        b = listb.index(max(listb))\n",
    "        count += lista.pop(a)\n",
    "        listb.pop(b)\n",
    "    else:\n",
    "        a = lista.index(max(lista))\n",
    "        b = listb.index(max(listb))\n",
    "        count += listb.pop(b)\n",
    "        lista.pop(a)\n",
    "print(count)"
   ]
  },
  {
   "cell_type": "markdown",
   "metadata": {},
   "source": [
    "## Knacksack problem: A thief with a knacksack at a store wants to maximize the value that can be put into his knacksack. Suppose his knacksack can hold 50 kg of items, and the list of items in the store is: list_items = ['A', 'B', 'C', 'D', 'E', 'F', 'G'], their values are: list_values = [120, 230, 340, 89, 270, 10, 49], and their weights are: list_weights = [18, 28, 31, 9, 13, 9, 17]. Find the items to be taken by the thief using greedy algorithm"
   ]
  },
  {
   "cell_type": "code",
   "execution_count": 79,
   "metadata": {},
   "outputs": [
    {
     "name": "stdout",
     "output_type": "stream",
     "text": [
      "C\n",
      "E\n"
     ]
    }
   ],
   "source": [
    "# greedy\n",
    "bucket = 50\n",
    "list_items = ['A', 'B', 'C', 'D', 'E', 'F', 'G']\n",
    "list_values = [120, 230, 340, 89, 270, 10, 49]\n",
    "list_weights = [18, 28, 31, 9, 13, 9, 17]\n",
    "while list_items:\n",
    "    greed = max(list_values)\n",
    "    index = list_values.index(max(list_values))\n",
    "    if list_weights[index] <= bucket:\n",
    "        print(list_items[index])\n",
    "        bucket -= list_weights[index]\n",
    "    list_items.pop(index)\n",
    "    list_values.pop(index)\n",
    "    list_weights.pop(index)"
   ]
  },
  {
   "cell_type": "markdown",
   "metadata": {},
   "source": [
    "## 2009-J2:  Fishing habitat and fish species are a resource that must be carefully managed to ensure that they will be there for the future. Accordingly, fishing limits have been established for a particular river based on the population of each species. Specifically, points are associated with the fish caught and the total points you catch must be less than or equal to the points allowed for that river. As an example, suppose each brown trout counts as 2 points, each northern pike counts as 5 points and each yellow pickerel counts as 2 points, and the total points allowed must be less than or equal to 12. One acceptable catch could consist of 3 brown trout and 1 northern pike, but, other combinations would also be allowed. Your job is to write a program to input the points allocated for a river, and find how many different ways an angler who catches at least one fish can stay within his/her limit."
   ]
  },
  {
   "cell_type": "code",
   "execution_count": null,
   "metadata": {},
   "outputs": [],
   "source": [
    "'''\n",
    "Input Description\n",
    "You will be given 4 integers, one per line, representing trout points, pike points, pickerel points, and \n",
    "total points allowed in that order.\n",
    "\n",
    "Sample Input\n",
    "1 2 3 2\n",
    "Sample Output\n",
    "1 Brown Trout, 0 Northern Pike, 0 Yellow Pickerel\n",
    "2 Brown Trout, 0 Northern Pike, 0 Yellow Pickerel\n",
    "0 Brown Trout, 1 Northern Pike, 0 Yellow Pickerel\n",
    "Number of ways to catch fish: 3\n",
    "'''"
   ]
  },
  {
   "cell_type": "code",
   "execution_count": 91,
   "metadata": {},
   "outputs": [
    {
     "name": "stdout",
     "output_type": "stream",
     "text": [
      "3\n"
     ]
    }
   ],
   "source": [
    "a = 1\n",
    "b = 2\n",
    "c = 3\n",
    "count = 0\n",
    "points = 2\n",
    "for x in range((points // a) + 1):\n",
    "    for y in range((points // b) + 1):\n",
    "        for z in range((points // c) + 1):\n",
    "            if a*x + b*y + c*z <= points:\n",
    "                count += 1\n",
    "print(count - 1)"
   ]
  },
  {
   "cell_type": "markdown",
   "metadata": {},
   "source": [
    "## 2014-J4: You are hosting a party and do not have room to invite all of your friends. You use the following unemotional mathematical method to determine which friends to invite.  Number your friends 1, 2, . . . , K and place them in a list in this order. Then perform m rounds. In each round, use a number to determine which friends to remove from the ordered list.  The rounds will use numbers r1, r2, . . . , rm. In round i remove all the remaining people in positions that are multiples of ri (that is, ri, 2ri, 3ri, . . .) The beginning of the list is position 1.  Output the numbers of the friends that remain after this removal process. \n"
   ]
  },
  {
   "cell_type": "code",
   "execution_count": null,
   "metadata": {},
   "outputs": [],
   "source": [
    "'''\n",
    "Sample Input\n",
    "10 2 2 3\n",
    "Output for Sample Input\n",
    "1 3 7 9\n",
    "\n",
    "Explanation of Output for Sample Input\n",
    "Initially, our list of invitees is 1, 2, 3, 4, 5, 6, 7, 8, 9, 10.\n",
    "After the first round of removals, we remove the even positions \n",
    "(i.e., every second position), which causes our list of invitees to be 1, 3, 5, 7, 9. \n",
    "After the second round of removals, we remove every 3rd remaining invitee: thus, \n",
    "we keep 1 and 3, remove 5 and keep 7 and 9, which leaves us with an invitee list of 1, 3, 7, 9.\n",
    "'''"
   ]
  },
  {
   "cell_type": "code",
   "execution_count": 103,
   "metadata": {},
   "outputs": [
    {
     "name": "stdout",
     "output_type": "stream",
     "text": [
      "[1, 2, 3, 4, 5, 6, 7, 8, 9, 10]\n",
      "1\n",
      "3\n",
      "5\n",
      "1\n",
      "4\n"
     ]
    },
    {
     "data": {
      "text/plain": [
       "[1, 4, 6, 7, 10]"
      ]
     },
     "execution_count": 103,
     "metadata": {},
     "output_type": "execute_result"
    }
   ],
   "source": [
    "def party(list1):\n",
    "    n = list1[0]\n",
    "    list1 = list1[1:]\n",
    "    list2 = []\n",
    "    for x in range(1, n + 1):\n",
    "        list2.append(x)\n",
    "    print(list2)\n",
    "    for a in range(1, n // 2 + 1, list1[0]):\n",
    "        print(a)\n",
    "        list2.pop(a)\n",
    "    for b in range(1, (n + 1) // 2 + 1, list1[1]):\n",
    "        print(b)\n",
    "        list2.pop(b)\n",
    "    return list2\n",
    "party([10,2,3])"
   ]
  },
  {
   "cell_type": "markdown",
   "metadata": {},
   "source": [
    "## Assignment for 07-23-2020, questions 4-6 from pynative.com\n",
    "https://pynative.com/python-numpy-exercise/"
   ]
  },
  {
   "cell_type": "markdown",
   "metadata": {},
   "source": [
    "## Question 4: Following is the given numpy array return array of odd rows and even columns"
   ]
  },
  {
   "cell_type": "code",
   "execution_count": 184,
   "metadata": {},
   "outputs": [
    {
     "name": "stdout",
     "output_type": "stream",
     "text": [
      "[[ 6 12]\n",
      " [30 36]\n",
      " [54 60]]\n"
     ]
    }
   ],
   "source": [
    "a = np.array([[3 ,6, 9, 12], [15 ,18, 21, 24], [27 ,30, 33, 36], [39 ,42, 45, 48], [51 ,54, 57, 60]])\n",
    "\n",
    "print(a[[0,2,4]][:,[1,3]])"
   ]
  },
  {
   "cell_type": "markdown",
   "metadata": {},
   "source": [
    "## Question 5: Add the following two NumPy arrays and Modify a result array by calculating the square of each element"
   ]
  },
  {
   "cell_type": "code",
   "execution_count": 187,
   "metadata": {},
   "outputs": [
    {
     "name": "stdout",
     "output_type": "stream",
     "text": [
      "[[35 72 57]\n",
      " [29 32 29]]\n",
      "[[ 400 1521 1089]\n",
      " [ 625  625  784]]\n"
     ]
    }
   ],
   "source": [
    "a = np.array([[5, 6, 9], [21 ,18, 27]])\n",
    "b = np.array([[15 ,33, 24], [4 ,7, 1]])\n",
    "a += b\n",
    "print(a + b)\n",
    "a = a ** 2\n",
    "print(a)"
   ]
  },
  {
   "cell_type": "markdown",
   "metadata": {},
   "source": [
    "## Question 6: Split the array into four equal-sized sub-arrays"
   ]
  },
  {
   "cell_type": "code",
   "execution_count": 205,
   "metadata": {},
   "outputs": [
    {
     "name": "stdout",
     "output_type": "stream",
     "text": [
      "[array([10, 11, 12, 13, 14, 15]), array([16, 17, 18, 19, 20, 21]), array([22, 23, 24, 25, 26, 27]), array([28, 29, 30, 31, 32, 33])]\n"
     ]
    }
   ],
   "source": [
    "a = np.arange(10, 34)\n",
    "a = np.array_split(a,4)\n",
    "print(a)"
   ]
  },
  {
   "cell_type": "markdown",
   "metadata": {},
   "source": [
    "## Assignment for 07-24-2020, questions 7-9 from pynative.com¶\n",
    "\n",
    "https://pynative.com/python-numpy-exercise/\n"
   ]
  },
  {
   "cell_type": "markdown",
   "metadata": {},
   "source": [
    "## Question 7: Sort following NumPy array"
   ]
  },
  {
   "cell_type": "code",
   "execution_count": 219,
   "metadata": {},
   "outputs": [
    {
     "name": "stdout",
     "output_type": "stream",
     "text": [
      "[[73 43 34]\n",
      " [12 22 82]\n",
      " [66 94 53]]\n",
      "------------\n",
      "[[82 22 12]\n",
      " [34 43 73]\n",
      " [53 94 66]]\n"
     ]
    }
   ],
   "source": [
    "a = np.array([[34,43,73],[82,22,12],[53,94,66]])\n",
    "row = a[:, a[1,:].argsort()]\n",
    "column = a[a[:,1].argsort()]\n",
    "print(row)\n",
    "print('------------')\n",
    "print(column)"
   ]
  },
  {
   "cell_type": "markdown",
   "metadata": {},
   "source": [
    "## Question 8: Following is the 2-D array. Print max from axis 0 and min from axis 1"
   ]
  },
  {
   "cell_type": "code",
   "execution_count": 222,
   "metadata": {},
   "outputs": [
    {
     "name": "stdout",
     "output_type": "stream",
     "text": [
      "[34 12 53]\n",
      "----------\n",
      "[34 12 53]\n"
     ]
    }
   ],
   "source": [
    "a = np.array([[34,43,73],[82,22,12],[53,94,66]])\n",
    "minimum = np.amin(a, 1)\n",
    "maximum = np.amax(a, 0) \n",
    "print(minimum)\n",
    "print('----------')\n",
    "print(minimum)"
   ]
  },
  {
   "cell_type": "markdown",
   "metadata": {},
   "source": [
    "## Question 9: Following is the input NumPy array delete column two and insert following new column in its place."
   ]
  },
  {
   "cell_type": "code",
   "execution_count": 237,
   "metadata": {},
   "outputs": [
    {
     "name": "stdout",
     "output_type": "stream",
     "text": [
      "deletion:\n",
      "[[34 73]\n",
      " [82 12]\n",
      " [53 66]]\n",
      "insertion:\n",
      "[[34 10 73]\n",
      " [82 10 12]\n",
      " [53 10 66]]\n"
     ]
    }
   ],
   "source": [
    "a = np.array([[34,43,73],[82,22,12],[53,94,66]])\n",
    "column = numpy.array([10,10,10])\n",
    "a = np.delete(a, 1, axis = 1)\n",
    "print('deletion:')\n",
    "print(a)\n",
    "a = np.insert(a, 1, column, axis = 1) \n",
    "print('insertion:')\n",
    "print(a)"
   ]
  },
  {
   "cell_type": "markdown",
   "metadata": {},
   "source": [
    "## 2018-J4: Barbara plants N different sunflowers, each with a unique height, ordered from smallest to largest, and records their heights for N consecutive days. Each day, all of her flowers grow taller than they were the day before. She records each of these measurements in a table, with one row for each plant, with the first row recording the shortest sunflower’s growth and the last row recording the tallest sunflower’s growth. The leftmost column is the first measurement for each sunflower, and the rightmost column is the last measurement for each sunflower. If a sunflower was smaller than another when initially planted, it remains smaller for every measurement. Unfortunately, her children may have altered her measurements by rotating her table by a multiple of 90 degrees. Your job is to help Barbara determine her original data. "
   ]
  },
  {
   "cell_type": "code",
   "execution_count": 259,
   "metadata": {},
   "outputs": [
    {
     "data": {
      "text/plain": [
       "array([[1, 2, 3],\n",
       "       [3, 5, 7],\n",
       "       [4, 6, 9]])"
      ]
     },
     "execution_count": 259,
     "metadata": {},
     "output_type": "execute_result"
    }
   ],
   "source": [
    "def plants(n, a):\n",
    "    small = np.amin(a, axis = None, out = None)\n",
    "    if small == a[0,n - 1]:\n",
    "        a = np.rot90(a,1)\n",
    "    if small == a[n - 1,0]:\n",
    "        a = np.rot90(a,1)\n",
    "        a = np.rot90(a,1)\n",
    "        a = np.rot90(a,1)\n",
    "    if small == a[n - 1,n - 1]:\n",
    "        a = np.rot90(a,1)\n",
    "        a = np.rot90(a,1)\n",
    "    return a\n",
    "plants(3, a)"
   ]
  },
  {
   "cell_type": "markdown",
   "metadata": {},
   "source": [
    "## 2014-J4: You are trying to pass the time while at the optometrist. You notice there is a grid of four numbers: You see lots of mirrors and lenses at the optometrist, and wonder how flipping the grid horizontally or vertically would change the grid. Specifically, a “horizontal” flip (across the horizontal centre line) would take the original grid of four numbers and result in: A “vertical” flip (across the vertical centre line) would take the original grid of four numbers and result in: Your task is to determine the final orientation of the numbers in the grid after a sequence of horizontal and vertical flips. \n"
   ]
  },
  {
   "cell_type": "code",
   "execution_count": 261,
   "metadata": {},
   "outputs": [
    {
     "data": {
      "text/plain": [
       "array([[2, 1],\n",
       "       [4, 3]])"
      ]
     },
     "execution_count": 261,
     "metadata": {},
     "output_type": "execute_result"
    }
   ],
   "source": [
    "def waiting(str1):\n",
    "    list1 = list(str1)\n",
    "    for x in list1:\n",
    "        if x == 'H':\n",
    "            m = np.array([[1,2], [3,4]])\n",
    "            row1 = m[0, :]\n",
    "            row2 = m[1, :]\n",
    "            m2 = np.zeros(m.shape, dtype = int)\n",
    "            m2[0, :] = row2\n",
    "            m2[1, :] = row1\n",
    "        if x == 'V':\n",
    "            m = np.array([[1,2], [3,4]])\n",
    "            col1 = m[:, 0]\n",
    "            col2 = m[:, 1]\n",
    "            m2 = np.zeros(m.shape, dtype = int)\n",
    "            m2[:, 0] = col2\n",
    "            m2[:, 1] = col1\n",
    "    return m2\n",
    "waiting('HV')"
   ]
  },
  {
   "cell_type": "markdown",
   "metadata": {},
   "source": [
    "## 2014-J5: The CEMC is organizing a workshop with an activity involving pairs of students. They decided to assign partners ahead of time. You need to determine if they did this consistently. That is, whenever A is a partner of B, then B is also a partner of A, and no one is a partner of themselves. \n"
   ]
  },
  {
   "cell_type": "code",
   "execution_count": 277,
   "metadata": {},
   "outputs": [
    {
     "data": {
      "text/plain": [
       "'good'"
      ]
     },
     "execution_count": 277,
     "metadata": {},
     "output_type": "execute_result"
    }
   ],
   "source": [
    "def cemc(n, list1):\n",
    "    if n % 2 == 1:\n",
    "        return 'bad'\n",
    "    list2 = []\n",
    "    for x in list1:\n",
    "        list2.append(tuple(sorted(x)))\n",
    "    set1 = set(list2)\n",
    "    list3 = list(set1)\n",
    "    if len(list2) / len(list3) == 2.0:\n",
    "        return 'good'\n",
    "    return 'bad'\n",
    "cemc(4, [('Ada', 'John'), ('Alan', 'Grace'), ('Grace', 'Alan'), ('John', 'Ada')])"
   ]
  },
  {
   "cell_type": "markdown",
   "metadata": {},
   "source": [
    "## 2016-J4: Fiona commutes to work each day. If there is no rush-hour traffic, her commute time is 2 hours. However, there is often rush-hour traffic. Specifically, rush-hour traffic occurs from 07:00 (7am) until 10:00 (10am) in the morning and 15:00 (3pm) until 19:00 (7pm) in the afternoon. During rush-hour traffic, her speed is reduced by half. She leaves either on the hour (at XX:00), 20 minutes past the hour (at XX:20), or 40 minutes past the hour (at XX:40). Given Fiona’s departure time, at what time does she arrive at work? \n"
   ]
  },
  {
   "cell_type": "code",
   "execution_count": 282,
   "metadata": {},
   "outputs": [
    {
     "name": "stdout",
     "output_type": "stream",
     "text": [
      "3.5\n",
      "0.25\n"
     ]
    },
    {
     "data": {
      "text/plain": [
       "18.5"
      ]
     },
     "execution_count": 282,
     "metadata": {},
     "output_type": "execute_result"
    }
   ],
   "source": [
    "def rushhour(flo1):\n",
    "    if flo1 >= 10.0 and flo1 <= 13.0:\n",
    "        return flo1 + 2.0\n",
    "    else:\n",
    "        if flo1 <= 5.0:\n",
    "            return flo1 + 2.0\n",
    "        elif flo1 >= 19.0:\n",
    "            return flo1 + 2.0\n",
    "        else:\n",
    "            if flo1 > 5.0 and flo1 < 10.0:\n",
    "                t1 = 10.0 - flo1\n",
    "                t2 = 2.0 - t1 / 2\n",
    "                return flo1 + t1 + t2\n",
    "            if flo1 > 13.0 and flo1 < 19.0:\n",
    "                t2 = 15.0 - flo1\n",
    "                t1 = 4.0 - 2 * t2\n",
    "                print(t1)\n",
    "                print(t2)\n",
    "                return flo1 + t1 + t2\n",
    "rushhour(14.75)"
   ]
  },
  {
   "cell_type": "markdown",
   "metadata": {},
   "source": [
    "## Interger allocation problem-1: a thief in a store with a knapsack of capacity of 10 lb can select: 1) iphones (value at 1000, weight at 2 lb), 2) ipad (value at 1500, weight at 4 lb), 3) laptop (value at 3000, weight at 5 lb). How many iphones/ipads/laptops can he pick to maximize the total values of items stored in the knapsack?"
   ]
  },
  {
   "cell_type": "code",
   "execution_count": 291,
   "metadata": {},
   "outputs": [
    {
     "name": "stdout",
     "output_type": "stream",
     "text": [
      "6000\n"
     ]
    }
   ],
   "source": [
    "list_results = []\n",
    "for a in range(10 // 2 + 1):\n",
    "    for b in range(10 // 4 + 1):\n",
    "        for c in range(10 // 5 + 1):\n",
    "            tot_value = 1000 * a + 1500 * b + 3000 * c\n",
    "            tot_weight = 2 * a + 4 * b + 5 * c \n",
    "            if tot_weight <= 10:\n",
    "                    list_results.append(tot_value)\n",
    "print(max(list_results))"
   ]
  },
  {
   "cell_type": "markdown",
   "metadata": {},
   "source": [
    "## Interger allocation problem-2: a thief in a store with a knapsack of capacity of 20 lb can select: 1) iphones (weight at 2 lb), 2) ipad (weight at 4 lb), 3) laptop (weight at 5 lb). He need to pick each item at least one. How many ways can he choose the items into the knapsack? "
   ]
  },
  {
   "cell_type": "code",
   "execution_count": 300,
   "metadata": {},
   "outputs": [
    {
     "name": "stdout",
     "output_type": "stream",
     "text": [
      "13\n"
     ]
    }
   ],
   "source": [
    "list_results = []\n",
    "for a in range(1, 20 // 2 + 1):\n",
    "    for b in range(1, 20 // 4 + 1):\n",
    "        for c in range(1, 20 // 5 + 1):\n",
    "            tot_weight = 2 * a + 4 * b + 5 * c \n",
    "            if tot_weight <= 20:\n",
    "                    list_results.append((a,b,c))\n",
    "print(len(list_results))"
   ]
  },
  {
   "cell_type": "markdown",
   "metadata": {},
   "source": [
    "## 2015-J5: You may know that March 14 is known as “π-day”, since 3.14 (which is the third month and fourteenth day) is a good approximation of π.  Mathematicians celebrate this day by eating pie.  Suppose that you have n pieces of pie, and k people who are lined up for pieces of pie. All n pieces of pie will be given out. Each person will get at least one piece of pie, but mathematicians are a bit greedy at times. So, they always get at least as many of pieces of pie as the person in front of them.  For example, if you have 8 pieces of pie and 4 people in line, you could give out pieces of pie in the following five ways (with the first person in line being the first number in the list): [1, 1, 1, 5], [1,1,2,4], [1,1,3,3], [1,2,2,3], [2,2,2,2].  Notice that if k = n, there is only one way to give out the pieces of pie: every person gets exactly one piece. Also, if k = 1, there is only one way to give out the pieces of pie: that single person gets all the pieces.  Write a program that determines the number of ways that the pieces of pie can be given out. "
   ]
  },
  {
   "cell_type": "code",
   "execution_count": null,
   "metadata": {},
   "outputs": [],
   "source": [
    "'''\n",
    "Sample Input 1\n",
    "8 \n",
    "4\n",
    "Output for Sample Input 1\n",
    "5\n",
    "Sample Input 2\n",
    "6 2\n",
    "Output for Sample Input 2\n",
    "3\n",
    "'''"
   ]
  },
  {
   "cell_type": "code",
   "execution_count": 319,
   "metadata": {},
   "outputs": [
    {
     "name": "stdout",
     "output_type": "stream",
     "text": [
      "5\n"
     ]
    }
   ],
   "source": [
    "list1 = []\n",
    "for a in range(1, 8):\n",
    "    for b in range(a, 8):\n",
    "        for c in range(b, 8):\n",
    "            for d in range(c, 8):\n",
    "                if a + b + c + d == 8:\n",
    "                    list1.append(a)\n",
    "                    list1.append(b)\n",
    "                    list1.append(c)\n",
    "                    list1.append(d)\n",
    "print(len(list1) // 4)"
   ]
  },
  {
   "cell_type": "markdown",
   "metadata": {},
   "source": [
    "## Interger allocation problem-3: a thief in a store with a knapsack of capacity of 50 lb can select: 1) iphones (value at 1000, weight at 2 lb), 2) ipad (value at 1500, weight at 4 lb), 3) laptop (value at 3000, weight at 5 lb). The thief needs to pick the same number of iphones and ipads. How many iphones/ipads/laptops can he pick to maximize the total values of items stored in the knapsack?"
   ]
  },
  {
   "cell_type": "code",
   "execution_count": 304,
   "metadata": {},
   "outputs": [
    {
     "name": "stdout",
     "output_type": "stream",
     "text": [
      "26500\n"
     ]
    }
   ],
   "source": [
    "list_results = []\n",
    "for a in range(1, 50 // 2 + 1):\n",
    "        for c in range(1, 50 // 5 + 1):\n",
    "            tot_value = 1000 * a + 1500 * a + 3000 * c\n",
    "            tot_weight = 2 * a + 4 * a + 5 * c\n",
    "            if a > 0 and c > 0:\n",
    "                if tot_weight <= 50:\n",
    "                        list_results.append(tot_value)\n",
    "print(max(list_results))"
   ]
  },
  {
   "cell_type": "markdown",
   "metadata": {},
   "source": [
    "## 2012-J4: Sheldon and Leonard are physicists who are fixated on the BIG BANG theory. In order to exchange secret insights they have devised a code that encodes UPPERCASE words by shifting their letters forward.Shifting a letter by S positions means to go forward S letters in the alphabet. For example, shifting B by S = 3 positions gives E. However, sometimes this makes us go past Z, the last letter of the alphabet. Whenever this happens we wrap around, treating A as the letter that follows Z. For example, shifting Z by S = 2 positions gives B.Sheldon and Leonard’s code depends on a parameter K and also varies depending on the position of each letter in the word. For the letter at position P , they use the shift value of S = 3P + K .For example, here is how ZOOM is encoded when K = 3. The first letter Z has a shift value of S = 3 × 1 + 3 = 6; it wraps around and becomes the letter F. The second letter, O, has S = 3×2+3 = 9andbecomesX.ThelasttwolettersbecomeAandB.SoSheldonsends Leonard the secret message: FXAB Write a program for Leonard that will decode messages sent by Sheldon."
   ]
  },
  {
   "cell_type": "code",
   "execution_count": null,
   "metadata": {},
   "outputs": [],
   "source": [
    "'''\n",
    "Sample Input 1\n",
    "3 FXAB\n",
    "Output for Sample Input 1\n",
    "ZOOM\n",
    "\n",
    "Sample Input 2\n",
    "5 JTUSUKG\n",
    "Output for Sample Input 2\n",
    "BIGBANG\n",
    "'''"
   ]
  },
  {
   "cell_type": "code",
   "execution_count": 323,
   "metadata": {},
   "outputs": [
    {
     "data": {
      "text/plain": [
       "'ZOOM'"
      ]
     },
     "execution_count": 323,
     "metadata": {},
     "output_type": "execute_result"
    }
   ],
   "source": [
    "def code(k, word):\n",
    "    list1 = list('ABCDEFGHIJKLMNOPQRSTUVWXYZ')\n",
    "    list2 = list(word)\n",
    "    list3 = []\n",
    "    for p, x in enumerate(list2):\n",
    "        index = list1.index(x)\n",
    "        a = list1[index - (3 * (p + 1) + k)]\n",
    "        list3.append(a)\n",
    "    return ''.join(list3)\n",
    "code(3, 'FXAB')"
   ]
  },
  {
   "cell_type": "markdown",
   "metadata": {},
   "source": [
    "## 2009-J4: The student council at Central Canada Collegiate is preparing signs with the message WELCOME TO CCC GOOD LUCK TODAY on various walls around the school. A sign is wide enough to hold w characters on each row, including spaces, as befits the wall to be decorated.  Here is how the words are put onto a sign. First, as many words as possible are placed on the first line, without exceeding the w character limit. The first word in the line begins in the leftmost position. If there is more than one word in the line, the last word ends in the rightmost position. Extra spaces are inserted into the gaps between the words so that the gaps are as similar as possible. If the gaps cannot be made equal, all of the larger gaps should appear to the left of the smaller ones. Subsequent lines are constructed in the same way.  Your program will read the available width w and output the sign on the screen. Use the “.” character to indicate a space. "
   ]
  },
  {
   "cell_type": "code",
   "execution_count": null,
   "metadata": {},
   "outputs": [],
   "source": [
    "'''\n",
    "Sample Input 1 (user inputs are shown in italics)\n",
    "Enter w: 15\n",
    "Output for Sample Input 1\n",
    "WELCOME..TO.CCC\n",
    "GOOD.LUCK.TODAY\n",
    "\n",
    "Sample Input 2 (user inputs are shown in italics) Enter w: 26\n",
    "Output for Sample Input 2\n",
    "WELCOME..TO..CCC.GOOD.LUCK\n",
    "TODAY.....................\n",
    "'''"
   ]
  },
  {
   "cell_type": "code",
   "execution_count": null,
   "metadata": {},
   "outputs": [],
   "source": []
  },
  {
   "cell_type": "markdown",
   "metadata": {},
   "source": [
    "## Line assigment: Assign the sentence \"WELCOME TO CCC GOOD LUCK TODAY\" to multiple lines, each line can hold up to 15 characters, a word cannot separated into two lines, at least a space is needed between words"
   ]
  },
  {
   "cell_type": "code",
   "execution_count": 337,
   "metadata": {},
   "outputs": [
    {
     "name": "stdout",
     "output_type": "stream",
     "text": [
      "[7, 2, 3]\n",
      "[5, 5, 5]\n"
     ]
    }
   ],
   "source": [
    "str1 = 'WELCOME TO CCC GOOD LUCK TODAY'\n",
    "list1 = str1.split(' ')\n",
    "list1 = [len(s) for s in list1]\n",
    "count = 0\n",
    "list2 = []\n",
    "list3 = []\n",
    "for x in list1:\n",
    "    if (count + x) <= 15:\n",
    "        count += x\n",
    "        list2.append(x)\n",
    "        if list1.index(x) == 0:\n",
    "            continue\n",
    "        else:\n",
    "            count += 1\n",
    "print(list2)\n",
    "for a in list2:\n",
    "    if a in list1:\n",
    "        list3.append(x)\n",
    "print(list3)"
   ]
  },
  {
   "cell_type": "markdown",
   "metadata": {},
   "source": [
    "## Integer allocation problem: allocate 27 apples to students A, B, C, D as even as possible, and x_A>=x_B>=x_C>=x_D. "
   ]
  },
  {
   "cell_type": "code",
   "execution_count": 352,
   "metadata": {},
   "outputs": [
    {
     "name": "stdout",
     "output_type": "stream",
     "text": [
      "[7, 7, 7, 6]\n"
     ]
    }
   ],
   "source": [
    "list1 = []\n",
    "for d in range(1,27):\n",
    "    for c in range(1,27):\n",
    "        for b in range(1,27):\n",
    "            for a in range(1,27):\n",
    "                if (a + b + c + d) == 27:\n",
    "                    list1.append([a,b,c,d])\n",
    "product = 1\n",
    "me = 0\n",
    "ind = 0\n",
    "for k,x in enumerate(list1):\n",
    "    for y in x:\n",
    "        product *= y\n",
    "    if product > me:\n",
    "        me = product\n",
    "        ind = k\n",
    "    product = 1\n",
    "print(list1[ind])"
   ]
  },
  {
   "cell_type": "markdown",
   "metadata": {},
   "source": [
    "## Write a program to count the number of bits that are set to 1 in a positive integer"
   ]
  },
  {
   "cell_type": "code",
   "execution_count": 354,
   "metadata": {},
   "outputs": [
    {
     "name": "stdout",
     "output_type": "stream",
     "text": [
      "3\n"
     ]
    }
   ],
   "source": [
    "count = 0\n",
    "str1 = bin(11)\n",
    "list1 = list(str1)\n",
    "for x in list1:\n",
    "    if x == '1':\n",
    "        count += 1\n",
    "print(count)"
   ]
  },
  {
   "cell_type": "markdown",
   "metadata": {},
   "source": [
    "## 2020-J4: Thuc likes finding cyclic shifts of strings. A cyclic shift of a string is obtained by moving characters from the beginning of the string to the end of the string. We also consider a string to be a cyclic shift of itself. For example, the cyclic shifts of ABCDE are: ABCDE, BCDEA, CDEAB, DEABC, and EABCD. Given some text, T, and a string, S, determine if T contains a cyclic shift of S."
   ]
  },
  {
   "cell_type": "code",
   "execution_count": null,
   "metadata": {},
   "outputs": [],
   "source": [
    "'''\n",
    "Sample Input 1\n",
    "ABCCDEABAA\n",
    "ABCDE\n",
    "Output for Sample Input 1\n",
    "yes\n",
    "Explanation of Output for Sample Input 1\n",
    "CDEAB is a cyclic shift of ABCDE and it is contained in the text ABCCDEABAA.\n",
    "\n",
    "Sample Input 2\n",
    "ABCDDEBCAB\n",
    "ABA\n",
    "Output for Sample Input 2\n",
    "no\n",
    "Explanation of Output for Sample Input 2\n",
    "The cyclic shifts of ABA are ABA, BAA, and AAB. None of these shifts are contained in the text ABCDDEBCAB.\n",
    "'''"
   ]
  },
  {
   "cell_type": "code",
   "execution_count": 365,
   "metadata": {},
   "outputs": [
    {
     "name": "stdout",
     "output_type": "stream",
     "text": [
      "ABCCD\n"
     ]
    }
   ],
   "source": [
    "str11='ABCCDEABAA'\n",
    "str12=str11[0:5]\n",
    "print(str12)"
   ]
  },
  {
   "cell_type": "code",
   "execution_count": 369,
   "metadata": {},
   "outputs": [
    {
     "data": {
      "text/plain": [
       "'yes'"
      ]
     },
     "execution_count": 369,
     "metadata": {},
     "output_type": "execute_result"
    }
   ],
   "source": [
    "def cyclic(str1, str2):\n",
    "    #'ABAABA'\n",
    "    str_a = str2+str2\n",
    "    for k in range(0,len(str1) - len(str2)):\n",
    "        \n",
    "        str3 = str1[k : k + len(str2)]\n",
    "        if len(str3) == len(str2) and str3 in str_a:\n",
    "            return 'yes'\n",
    "    return 'no'\n",
    "cyclic('ABCCDEABAA', 'ABCDE')"
   ]
  },
  {
   "cell_type": "markdown",
   "metadata": {},
   "source": [
    "## Tree-traverse-algorithm: : start from 0, create a tree such that each node has children (n+1, n+2), all children need to be less than 4. Print all paths."
   ]
  },
  {
   "cell_type": "code",
   "execution_count": 40,
   "metadata": {},
   "outputs": [],
   "source": [
    "def nextlevel(list1):\n",
    "    list_2 = []\n",
    "    a = list1[-1]\n",
    "    c1 = a + 1\n",
    "    c2 = a + 2\n",
    "    if c1 >= 4:\n",
    "        list_2 = [list1+['#']]\n",
    "    elif c2 >= 4:\n",
    "        list_2 = [list1+[c1]]\n",
    "    else:\n",
    "        list_2 = [list1+[c1], list1+[c2]]\n",
    "    return list_2"
   ]
  },
  {
   "cell_type": "code",
   "execution_count": 44,
   "metadata": {},
   "outputs": [],
   "source": [
    "def terminated(list1):\n",
    "    list2 = []\n",
    "    count = 0\n",
    "    for x in list1:\n",
    "        list2.append(x[-1])\n",
    "    for x in list2:\n",
    "        if x == '#':\n",
    "            count += 1\n",
    "    if len(list2) == count:\n",
    "        return True\n",
    "    return False"
   ]
  },
  {
   "cell_type": "code",
   "execution_count": 45,
   "metadata": {},
   "outputs": [
    {
     "name": "stdout",
     "output_type": "stream",
     "text": [
      "[[0, 1, 3, '#'], [0, 2, 3, '#'], [0, 1, 2, 3, '#']]\n"
     ]
    }
   ],
   "source": [
    "listpaths = [[0]]\n",
    "while terminated(listpaths) == False:\n",
    "    a = listpaths.pop(0)\n",
    "    b = nextlevel(a)\n",
    "    listpaths = listpaths + b\n",
    "print(listpaths)"
   ]
  },
  {
   "cell_type": "markdown",
   "metadata": {},
   "source": [
    "## 2020-J5: You have to determine if it is possible to escape from a room. The room is an M-by-N grid with each position (cell) containing a positive integer. The rows are numbered 1,2,...,M and the columns are numbered 1,2,...,N. We use (r,c) to refer to the cell in row r and column c. You start in the top-left corner at (1,1) and exit from the bottom-right corner at (M,N). If you are in a cell containing the value x, then you can jump to any cell (a, b) satisfying a × b = x. For example, if you are in a cell containing a 6, you can jump to cell (2, 3). Note that from a cell containing a 6, there are up to four cells you can jump to: (2, 3), (3, 2), (1, 6), or (6, 1). If the room is a 5-by-6 grid, there isn’t a row 6 so only the first three jumps would be possible."
   ]
  },
  {
   "cell_type": "code",
   "execution_count": null,
   "metadata": {},
   "outputs": [],
   "source": [
    "'''\n",
    "Sample Input\n",
    "3\n",
    "4\n",
    "3 10 8 14 \n",
    "1 11 12 12 \n",
    "6 2  3  9\n",
    "Output for Sample Input\n",
    "yes\n",
    "\n",
    "Explanation of Output for Sample Input\n",
    "Starting in the cell at (1, 1) which contains a 3, one possibility is to jump to the cell at (1, 3). \n",
    "This cell contains an 8 so from it, you could jump to the cell at (2, 4). \n",
    "This brings you to a cell containing 12 from which you can jump to the exit at (3, 4). \n",
    "Note that another way to escape is to jump from the starting cell to the cell at (3, 1) to \n",
    "the cell at (2, 3) to the exit.\n",
    "'''"
   ]
  },
  {
   "cell_type": "code",
   "execution_count": 76,
   "metadata": {},
   "outputs": [
    {
     "data": {
      "text/plain": [
       "[]"
      ]
     },
     "execution_count": 76,
     "metadata": {},
     "output_type": "execute_result"
    }
   ],
   "source": [
    "def createchildren(list_1, matrix):\n",
    "    list_r = []\n",
    "    row_b = len(matrix)\n",
    "    col_b = len(matrix[0])\n",
    "    a = list_1[-1]\n",
    "    row = a[0] - 1\n",
    "    col = a[1] - 1\n",
    "    e = matrix[row][col]\n",
    "    for x in range(1, e + 1):\n",
    "        if e % x == 0:\n",
    "            r = x\n",
    "            c = e // r\n",
    "            if (r <= row_b) and (c <= col_b) and ((r,c) not in list_1):\n",
    "                list_r.append(list_1 + [(r,c)]) \n",
    "    return list_r\n",
    "createchildren([(1, 1), (1, 3)], matrix)"
   ]
  },
  {
   "cell_type": "code",
   "execution_count": 77,
   "metadata": {},
   "outputs": [
    {
     "data": {
      "text/plain": [
       "'no'"
      ]
     },
     "execution_count": 77,
     "metadata": {},
     "output_type": "execute_result"
    }
   ],
   "source": [
    "def escape(matrix,listpaths):\n",
    "    while listpaths != []:\n",
    "        a = listpaths.pop(0)\n",
    "        b = createchildren(a, matrix)\n",
    "        if len(b) > 0:\n",
    "            for x in b:\n",
    "                if x[-1] == (3,4):\n",
    "                    return('yes')\n",
    "            listpaths += b\n",
    "    return('no')\n",
    "matrix = [[3, 10, 1, 14], [1, 11, 12, 12],  [1, 2,  3,  9]]\n",
    "listpaths = [[(1,1)]]\n",
    "escape(matrix,listpaths)"
   ]
  },
  {
   "cell_type": "markdown",
   "metadata": {},
   "source": [
    "## 2019-J5: A substitution rule describes how to take a sequence of symbols and convert it into a different sequence of symbols. For example, ABA → BBB, is a substitution rule which means that ABA can be replaced with BBB. Using this rule, the sequence AABAA would be transformed into the sequence ABBBA (the substituted symbols are in bold).  In this task, you will be given three substitution rules, a starting sequence of symbols and a final sequence of symbols. You are to use the substitution rules to convert the starting sequence into the final sequence, using a specified number of substitutions.  For example, if the three substitution rules were:  1. AA→AB      2. AB→BB         3. B → AA  we could convert the sequence AB into AAAB in 4 steps, by the following substitutions:  AB → BB → AAB → AAAA → AAAB, "
   ]
  },
  {
   "cell_type": "code",
   "execution_count": 91,
   "metadata": {},
   "outputs": [
    {
     "data": {
      "text/plain": [
       "'\\nSample Input\\nAA AB\\nAB BB\\nB AA\\n4 AB AAAB\\n\\noutput:\\nAB → BB → BAA → BAB → AAAB\\n'"
      ]
     },
     "execution_count": 91,
     "metadata": {},
     "output_type": "execute_result"
    }
   ],
   "source": [
    "'''\n",
    "Sample Input\n",
    "AA AB\n",
    "AB BB\n",
    "B AA\n",
    "4 AB AAAB\n",
    "\n",
    "output:\n",
    "AB → BB → BAA → BAB → AAAB\n",
    "'''"
   ]
  },
  {
   "cell_type": "code",
   "execution_count": 95,
   "metadata": {},
   "outputs": [],
   "source": [
    "dict_rules = {'AA': 'AB',\n",
    "             'AB': 'BB',\n",
    "             'B': 'AA'}"
   ]
  },
  {
   "cell_type": "code",
   "execution_count": 143,
   "metadata": {},
   "outputs": [
    {
     "data": {
      "text/plain": [
       "[['BB', 'AAB']]"
      ]
     },
     "execution_count": 143,
     "metadata": {},
     "output_type": "execute_result"
    }
   ],
   "source": [
    "listpaths = [['AB']]\n",
    "def create_children(path, dict_rules):\n",
    "    list_result = []\n",
    "    #rule-1\n",
    "    a = path[-1]\n",
    "    for key, value in dict_rules.items():\n",
    "        if key in a:\n",
    "            b = a.replace(key, value, 1)\n",
    "            list_result.append(path + [b])\n",
    "    return(list_result)\n",
    "create_children(path,dict_rules)"
   ]
  },
  {
   "cell_type": "code",
   "execution_count": 145,
   "metadata": {},
   "outputs": [
    {
     "data": {
      "text/plain": [
       "['AB', 'BB', 'AAB', 'ABB', 'AAAB']"
      ]
     },
     "execution_count": 145,
     "metadata": {},
     "output_type": "execute_result"
    }
   ],
   "source": [
    "def rules(dict_rules, list_paths):\n",
    "    loop = True\n",
    "    while loop:\n",
    "        a = list_paths.pop(0)\n",
    "        b = create_children(a, dict_rules)\n",
    "        for s in b:\n",
    "            if s[-1]=='AAAB':\n",
    "                return(s)\n",
    "        list_paths += b\n",
    "        list_counts = []\n",
    "        for s in list_paths:\n",
    "            list_counts.append(len(s))\n",
    "        list_c = [1 if s == 5 else 0 for s in list_counts]\n",
    "        if sum(list_c) == len(list_c):\n",
    "            return 'no'\n",
    "rules(dict_rules, listpaths)"
   ]
  },
  {
   "cell_type": "markdown",
   "metadata": {},
   "source": [
    "## 2018-J5: There is a genre of fiction called choose your own adventure books. These books allow the reader to make choices for the characters which alters the outcome of the story. For example, after reading the first page of a book, the reader may be asked a choice, such as “Do you pick up the rock?” If the reader answers “yes”, they are directed to continue reading on page 47, and if they choose “no”, they are directed to continue reading on page 18. On each of those pages, they have further choices, and so on, throughout the book. Some pages do not have any choices, and thus these are the “ending” pages of that version of the story. There may be many such ending pages in the book, some of which are good (e.g., the hero finds treasure) and others which are not (e.g., the hero finds a leftover sandwich from 2001). You are the editor of one of these books, and you must examine two features of the choose your own adventure book: 1. ensure that every page can be reached – otherwise, there is no reason to pay to print a page which no one can ever read; 2. find the shortest path, so that readers will know what the shortest amount of time they need to finish one version of the story. Given a description of the book, examine these two features."
   ]
  },
  {
   "cell_type": "code",
   "execution_count": null,
   "metadata": {},
   "outputs": [],
   "source": [
    "'''\n",
    "Sample Input 1\n",
    "3 \n",
    "2 2 3 \n",
    "0\n",
    "0\n",
    "Output for Sample Input 1\n",
    "Y \n",
    "2\n",
    "Explanation of Output for Sample Input 1\n",
    "Since we start on page 1, and can reach both page 2 and page 3, all pages are reachable. \n",
    "The only paths in the book are 1 → 2 and 1 → 3, each of which is 2 pages in length.\n",
    "\n",
    "Sample Input 2\n",
    "3 \n",
    "2 2 3 \n",
    "0\n",
    "1 1\n",
    "Output for Sample Input 2\n",
    "Y \n",
    "2\n",
    "Explanation of Output for Sample Input 2\n",
    "Every page is reachable, since from page 1, we can reach pages 2 and 3. \n",
    "The shortest path is the path 1 → 2, which contains two pages.\n",
    "'''"
   ]
  },
  {
   "cell_type": "markdown",
   "metadata": {},
   "source": [
    "## Question: Write a program to compute the frequency of the words from the input. The output should output after sorting the key alphanumerically. "
   ]
  },
  {
   "cell_type": "code",
   "execution_count": null,
   "metadata": {},
   "outputs": [],
   "source": [
    "'''\n",
    "Suppose the following input is supplied to the program:\n",
    "New to Python or choosing between Python 2 and Python 3? Read Python 2 or Python 3.\n",
    "Then, the output should be:\n",
    "2:2\n",
    "3.:1\n",
    "3?:1\n",
    "New:1\n",
    "Python:5\n",
    "Read:1\n",
    "and:1\n",
    "between:1\n",
    "choosing:1\n",
    "or:2\n",
    "to:1\n",
    "'''"
   ]
  },
  {
   "cell_type": "code",
   "execution_count": 150,
   "metadata": {},
   "outputs": [
    {
     "name": "stdout",
     "output_type": "stream",
     "text": [
      "{'New': 1, 'to': 1, 'Python': 5, 'or': 2, 'choosing': 1, 'between': 1, '2': 2, 'and': 1, '3?': 1, 'Read': 1, '3.': 1}\n"
     ]
    }
   ],
   "source": [
    "str1 = 'New to Python or choosing between Python 2 and Python 3? Read Python 2 or Python 3.'\n",
    "dict1 = {}\n",
    "list1 = str1.split(' ')\n",
    "for x in list1:\n",
    "    count = list1.count(x)\n",
    "    dict1[x] = count\n",
    "print(dict1)"
   ]
  },
  {
   "cell_type": "markdown",
   "metadata": {},
   "source": [
    "## Dynamic programming: write a function to find Fib(n) using recursive dynamic programming and bottom-up dynamic programming"
   ]
  },
  {
   "cell_type": "code",
   "execution_count": 175,
   "metadata": {},
   "outputs": [
    {
     "data": {
      "text/plain": [
       "102334155"
      ]
     },
     "execution_count": 175,
     "metadata": {},
     "output_type": "execute_result"
    }
   ],
   "source": [
    "def fibdynamic(n, memo):\n",
    "    for x in range(n):\n",
    "        memo.append('null')\n",
    "    if memo[n - 1] != 'null':\n",
    "        return memo[n - 1]\n",
    "    if n == 1 or n == 2:\n",
    "        result = 1\n",
    "    else:\n",
    "        result = fibdynamic(n - 1, memo) + fibdynamic(n - 2, memo)\n",
    "    memo[n - 1] = result\n",
    "    return result\n",
    "fibdynamic(40, memo)"
   ]
  },
  {
   "cell_type": "code",
   "execution_count": 176,
   "metadata": {},
   "outputs": [
    {
     "data": {
      "text/plain": [
       "176023680645013966468226945392411250770384383304492191886725992896575345044216019675"
      ]
     },
     "execution_count": 176,
     "metadata": {},
     "output_type": "execute_result"
    }
   ],
   "source": [
    "def bottomup(n):\n",
    "    if n == 1 or n == 2:\n",
    "        return 1\n",
    "    bottomup = [None] * (n + 1)\n",
    "    bottomup[1] = 1\n",
    "    bottomup[2] = 2\n",
    "    for x in range(3, n + 1):\n",
    "        bottomup[x] = bottomup[x - 1] + bottomup[x - 2]\n",
    "    return bottomup[n - 1]\n",
    "bottomup(400)"
   ]
  },
  {
   "cell_type": "markdown",
   "metadata": {},
   "source": [
    "## Dynamic Programming: rod cutting. Given a rod of length n inches and an array of prices that contains prices of all pieces of size smaller than n. Determine the maximum value obtainable by cutting up the rod and selling the pieces. For example, if length of the rod is 8 and the values of different pieces are given as following, then the maximum obtainable value is 22 (by cutting in two pieces of lengths 2 and 6)\n",
    "#### length   | 1   2   3   4   5   6   7   8  inches\n",
    "#### price    | 1   5   8   9  10  17  17  20"
   ]
  },
  {
   "cell_type": "code",
   "execution_count": 215,
   "metadata": {},
   "outputs": [
    {
     "name": "stdout",
     "output_type": "stream",
     "text": [
      "{0: {'max_value': 0, 'list_cuts': []}, 1: {'max_value': 1, 'list_cuts': [1]}}\n"
     ]
    }
   ],
   "source": [
    "prices=[1,  5,   8,   9,  10,  17,  17,  20, 25]\n",
    "n = 8 # rod length\n",
    "# bottom-up dynamic programming\n",
    "\n",
    "# initialization\n",
    "dict_max_values = {} # a dict to store the max value for k-inch rod\n",
    "dict_max_values[0] = {}\n",
    "dict_max_values[0]['max_value'] = 0\n",
    "dict_max_values[0]['list_cuts'] = []\n",
    "# find the max value and the list of cuts for 1-inch rod\n",
    "curr_seg = 1\n",
    "prev_seg = curr_seg - 1\n",
    "curr_value = prices[curr_seg - 1] + dict_max_values[prev_seg]['max_value']\n",
    "dict_max_values[curr_seg] = {}\n",
    "dict_max_values[curr_seg]['max_value'] = curr_value\n",
    "dict_max_values[curr_seg]['list_cuts'] = dict_max_values[0]['list_cuts'] + [curr_seg]\n",
    "print(dict_max_values)"
   ]
  },
  {
   "cell_type": "code",
   "execution_count": 210,
   "metadata": {},
   "outputs": [],
   "source": [
    "# # find the max value and the list of cuts for 2-inch rod using the previous results\n",
    "# # loop over different previous-seg-length of [0, 1]\n",
    "# tot_len = 2\n",
    "# list_values = []\n",
    "# for pre_seg_len in range(0, tot_len):\n",
    "#     cur_seg_len = tot_len - pre_seg_len\n",
    "#     tot_value = prices[cur_seg_len - 1] + dict_max_values[pre_seg_len]['max_value']\n",
    "#     list_values.append(tot_value)\n",
    "# max_value = max(list_values)\n",
    "# opt_prev_seg_len = list_values.index(max_value)\n",
    "# dict_max_values[tot_len] = {}\n",
    "# dict_max_values[tot_len]['max_value'] = max_value \n",
    "# dict_max_values[tot_len]['list_cuts'] = dict_max_values[opt_prev_seg_len]['list_cuts'] + [tot_len - opt_prev_seg_len]\n",
    "# print(dict_max_values)"
   ]
  },
  {
   "cell_type": "code",
   "execution_count": 214,
   "metadata": {},
   "outputs": [
    {
     "name": "stdout",
     "output_type": "stream",
     "text": [
      "{0: {'max_value': 0, 'list_cuts': []}, 1: {'max_value': 1, 'list_cuts': [1]}, 2: {'max_value': 5, 'list_cuts': [2]}, 3: {'max_value': 8, 'list_cuts': [3]}, 4: {'max_value': 10, 'list_cuts': [2, 2]}, 5: {'max_value': 13, 'list_cuts': [2, 3]}, 6: {'max_value': 17, 'list_cuts': [6]}, 7: {'max_value': 18, 'list_cuts': [1, 6]}, 8: {'max_value': 22, 'list_cuts': [2, 6]}}\n"
     ]
    }
   ],
   "source": [
    "for tot_len in range(2,9):\n",
    "    list_values = []\n",
    "    for pre_seg_len in range(0, tot_len):\n",
    "        cur_seg_len = tot_len - pre_seg_len\n",
    "        tot_value = prices[cur_seg_len - 1] + dict_max_values[pre_seg_len]['max_value']\n",
    "        list_values.append(tot_value)\n",
    "    max_value = max(list_values)\n",
    "    opt_prev_seg_len = list_values.index(max_value)\n",
    "    dict_max_values[tot_len] = {}\n",
    "    dict_max_values[tot_len]['max_value'] = max_value \n",
    "    dict_max_values[tot_len]['list_cuts'] = dict_max_values[opt_prev_seg_len]['list_cuts'] + [tot_len - opt_prev_seg_len]\n",
    "print(dict_max_values)"
   ]
  },
  {
   "cell_type": "markdown",
   "metadata": {},
   "source": [
    "## 2017-J4: Wendy has an LED clock radio, which is a 12-hour clock, displaying times from 12:00 to 11:59. The hours do not have leading zeros but minutes may have leading zeros, such as 2:07 or 11:03.  When looking at her LED clock radio, Wendy likes to spot arithmetic sequences in the digits. For example, the times 12:34 and 2:46 are some of her favourite times, since the digits form an arithmetic sequence.  A sequence of digits is an arithmetic sequence if each digit after the first digit is obtained by adding a constant common difference. For example, 1,2,3,4 is an arithmetic sequence with a common difference of 1, and 2,4,6 is an arithmetic sequence with a common difference of 2.  Suppose that we start looking at the clock at noon (that is, when it reads 12:00) and watch the clock for some number of minutes. How many instances are there such that the time displayed on the clock has the property that the digits form an arithmetic sequence? \n"
   ]
  },
  {
   "cell_type": "code",
   "execution_count": null,
   "metadata": {},
   "outputs": [],
   "source": [
    "'''\n",
    "Sample Input 1\n",
    "34\n",
    "Output for Sample Input 1\n",
    "1\n",
    "Explanation of Output for Sample Input 1\n",
    "Between 12:00 and 12:34, there is only the time 12:34 for which the digits form an arithmetic sequence.\n",
    "\n",
    "Sample Input 2\n",
    "180\n",
    "Output for Sample Input 2\n",
    "11\n",
    "Explanation of Output for Sample Input 2\n",
    "Between 12:00 and 3:00, the following times form arithmetic sequences in their digits (with the difference shown:\n",
    "• 12:34 (difference 1), \n",
    "• 1:11 (difference 0), \n",
    "• 1:23 (difference 1), \n",
    "• 1:35 (difference 2), \n",
    "• 1:47 (difference 3), \n",
    "• 1:59 (difference 4), \n",
    "• 2:10 (difference -1), \n",
    "• 2:22 (difference 0), \n",
    "• 2:34 (difference 1), \n",
    "• 2:46 (difference 2), \n",
    "• 2:58 (difference 3).\n",
    "'''"
   ]
  },
  {
   "cell_type": "code",
   "execution_count": 241,
   "metadata": {},
   "outputs": [
    {
     "data": {
      "text/plain": [
       "False"
      ]
     },
     "execution_count": 241,
     "metadata": {},
     "output_type": "execute_result"
    }
   ],
   "source": [
    "def arithmetic_sequence(list1):\n",
    "    list_diff = [list1[k]-list1[k-1] for k in range(1, len(list1))]\n",
    "    list_diff2 = [list_diff[0]] * len(list_diff)\n",
    "    if list_diff == list_diff2:\n",
    "        return True\n",
    "    return False\n",
    "arithmetic_sequence([-5 ,0, 5, 10, 14, 20])"
   ]
  },
  {
   "cell_type": "code",
   "execution_count": 256,
   "metadata": {},
   "outputs": [
    {
     "data": {
      "text/plain": [
       "[[1, 2, 3, 4],\n",
       " [1, 1, 1],\n",
       " [1, 2, 3],\n",
       " [1, 3, 5],\n",
       " [1, 4, 7],\n",
       " [1, 5, 9],\n",
       " [2, 1, 0],\n",
       " [2, 2, 2],\n",
       " [2, 3, 4],\n",
       " [2, 4, 6],\n",
       " [2, 5, 8],\n",
       " [3, 2, 1],\n",
       " [3, 3, 3],\n",
       " [3, 4, 5],\n",
       " [3, 5, 7]]"
      ]
     },
     "execution_count": 256,
     "metadata": {},
     "output_type": "execute_result"
    }
   ],
   "source": [
    "def clock(n):\n",
    "    hrs = n//60\n",
    "    mins = n - hrs * 60\n",
    "    list_hrs = [12]+list(range(1, hrs+1))\n",
    "    list_results = []\n",
    "    for k, h in enumerate(list_hrs):\n",
    "        list_s = []\n",
    "        if h>=10:\n",
    "            list_s.append(h//10)\n",
    "            list_s.append(h%10)\n",
    "        else:\n",
    "            list_s.append(h)\n",
    "        # loop over min\n",
    "        if k<len(list_hrs)-1:\n",
    "            end_mins = 60\n",
    "        else:\n",
    "            end_mins = mins\n",
    "        for m in range(end_mins):\n",
    "            list_m = []\n",
    "            if m>=10:\n",
    "                list_m.append(m//10)\n",
    "                list_m.append(m%10)\n",
    "            else:\n",
    "                list_m.append(0)\n",
    "                list_m.append(m) \n",
    "            a=arithmetic_sequence(list_s+list_m)\n",
    "            if a:\n",
    "                list_results.append(list_s+list_m)\n",
    "    return list_results\n",
    "clock(240)"
   ]
  },
  {
   "cell_type": "markdown",
   "metadata": {},
   "source": [
    "## GeeksForGeeks Q1: Maximum LCM among all pairs (i, j) from the given ArrayGiven an array arr[], the task is to find the maximum LCM when the elements of the array are taken in pairs.\n"
   ]
  },
  {
   "cell_type": "code",
   "execution_count": 264,
   "metadata": {},
   "outputs": [
    {
     "data": {
      "text/plain": [
       "136"
      ]
     },
     "execution_count": 264,
     "metadata": {},
     "output_type": "execute_result"
    }
   ],
   "source": [
    "def lcm(a,b):\n",
    "    c = max(a,b)\n",
    "    while True:\n",
    "        if c % a == 0 and c % b == 0:\n",
    "            return c\n",
    "        c += 1\n",
    "lcm(8,17)"
   ]
  },
  {
   "cell_type": "code",
   "execution_count": 267,
   "metadata": {},
   "outputs": [
    {
     "name": "stdout",
     "output_type": "stream",
     "text": [
      "136\n"
     ]
    }
   ],
   "source": [
    "list1 = [17, 3, 8, 6]\n",
    "list2 = []\n",
    "for k, x in enumerate(list1[:-1]):\n",
    "    for m, y in enumerate(list1[k+1:]):\n",
    "        list2.append(lcm(x,y))\n",
    "print(max(list2))"
   ]
  },
  {
   "cell_type": "markdown",
   "metadata": {},
   "source": [
    "## GeeksFor Geeks Q2: Given an array of integers arr of size N, the task is to print products of all subarrays of the array."
   ]
  },
  {
   "cell_type": "code",
   "execution_count": 275,
   "metadata": {},
   "outputs": [
    {
     "name": "stdout",
     "output_type": "stream",
     "text": [
      "27783000\n"
     ]
    }
   ],
   "source": [
    "list1 = [10,3,7]\n",
    "listr = []\n",
    "for p in range(0, len(list1)):\n",
    "    for x in range(0, len(list1) - p):\n",
    "        listr.append(list1[p : p + x + 1])\n",
    "product = 1\n",
    "for a in listr:\n",
    "    for b in a:\n",
    "        product *= b\n",
    "print(product)"
   ]
  },
  {
   "cell_type": "markdown",
   "metadata": {},
   "source": [
    "## GeeksForGeeks Q3: Write a program to print all permutations of a given string"
   ]
  },
  {
   "cell_type": "code",
   "execution_count": 294,
   "metadata": {},
   "outputs": [
    {
     "name": "stdout",
     "output_type": "stream",
     "text": [
      "[['A', 'B', 'C'], ['A', 'C', 'B'], ['B', 'A', 'C'], ['B', 'C', 'A'], ['C', 'A', 'B'], ['C', 'B', 'A']]\n"
     ]
    }
   ],
   "source": [
    "list1 = ['A','B','C']\n",
    "listr = []\n",
    "listr2 = []\n",
    "for x in range(len(list1)):\n",
    "    for y in range(len(list1)):\n",
    "        for z in range(len(list1)):\n",
    "            if (x != y) and (y != z) and (x != z):\n",
    "                listr.append([x,y,z])\n",
    "for a in listr:\n",
    "    listtemp = []\n",
    "    for b in a:\n",
    "        listtemp.append(list1[b])\n",
    "    listr2.append(listtemp)\n",
    "print(listr2)"
   ]
  },
  {
   "cell_type": "markdown",
   "metadata": {},
   "source": [
    "## GeeksForGeeks Q5: Given a string s, find length of the longest prefix which is also suffix. The prefix and suffix should not overlap."
   ]
  },
  {
   "cell_type": "code",
   "execution_count": 298,
   "metadata": {},
   "outputs": [
    {
     "data": {
      "text/plain": [
       "4"
      ]
     },
     "execution_count": 298,
     "metadata": {},
     "output_type": "execute_result"
    }
   ],
   "source": [
    "def test(s):\n",
    "    list_1 = list(s)\n",
    "    list2 = []\n",
    "    for m in range(1, len(list_1)//2+1):\n",
    "        if list_1[:m] == list_1[-m:]:\n",
    "            list2.append(m)\n",
    "    return max(list2)\n",
    "test('aabcdaabc')"
   ]
  },
  {
   "cell_type": "markdown",
   "metadata": {},
   "source": [
    "## GeeksForGeeks Q6: Find the closest pair from two sorted arrays"
   ]
  },
  {
   "cell_type": "code",
   "execution_count": 311,
   "metadata": {},
   "outputs": [
    {
     "data": {
      "text/plain": [
       "(31, 1, 30)"
      ]
     },
     "execution_count": 311,
     "metadata": {},
     "output_type": "execute_result"
    }
   ],
   "source": [
    "import numpy as np\n",
    "\n",
    "list1 = [1,4,5,7]\n",
    "list2 = [10,20,30,40]\n",
    "x = 32\n",
    "\n",
    "def pairs(list1,list2,x):\n",
    "    m1 = 0\n",
    "    m2 = len(list2)-1\n",
    "    min_value = 9999\n",
    "    while m1 < len(list1) and m2 >= 0:\n",
    "        value = np.abs(list1[m1] + list2[m2] - x)\n",
    "        if value < min_value:\n",
    "            best1 = list1[m1]\n",
    "            best2 = list2[m2]\n",
    "            min_value = value\n",
    "        if list1[m1] + list2[m2] > x:\n",
    "            m2 -= 1\n",
    "        elif m1 + m2 < x:\n",
    "            m1 += 1\n",
    "        else:\n",
    "            return (min_value, best1, best2)\n",
    "    return (best1 + best2, best1, best2)\n",
    "pairs(list1,list2,x)"
   ]
  },
  {
   "cell_type": "markdown",
   "metadata": {},
   "source": [
    "## GeeksForGeeks Q8: Given a number (as string) and two integers a and b, divide the string in two non-empty parts such that the first part is divisible by a and second part is divisible by b. If string can not be divided into two non-empty parts, output “NO”, else print “YES” with the two parts."
   ]
  },
  {
   "cell_type": "code",
   "execution_count": 338,
   "metadata": {},
   "outputs": [
    {
     "data": {
      "text/plain": [
       "'yes'"
      ]
     },
     "execution_count": 338,
     "metadata": {},
     "output_type": "execute_result"
    }
   ],
   "source": [
    "str1 = '123'\n",
    "a = 12\n",
    "b = 3\n",
    "def hi(str1,a,b):\n",
    "    list1 = list(str1)\n",
    "    for x in range(1, len(list1)):\n",
    "        sub1 = list1[:x]\n",
    "        sub2 = list1[x:]\n",
    "        c = int(''.join(sub1))\n",
    "        d = int(''.join(sub2))\n",
    "        if c % a == 0 and d % b == 0:\n",
    "            return 'yes'\n",
    "    return 'no'\n",
    "hi(str1,a,b)"
   ]
  },
  {
   "cell_type": "markdown",
   "metadata": {},
   "source": [
    "## GeeksForGeeks Q9: Given a string of lowercase alphabets, count all possible substrings (not necessarily distinct) that has exactly k distinct characters."
   ]
  },
  {
   "cell_type": "code",
   "execution_count": 366,
   "metadata": {},
   "outputs": [
    {
     "data": {
      "text/plain": [
       "(3, ['ba', 'ab', 'aba'])"
      ]
     },
     "execution_count": 366,
     "metadata": {},
     "output_type": "execute_result"
    }
   ],
   "source": [
    "str1 = 'aba'\n",
    "k = 2\n",
    "def geeks9(str1, k):\n",
    "    list2 = []\n",
    "    list1 = list(str1)\n",
    "    for m in range(len(list1) + 1):\n",
    "        for x in range(len(list1) + 1):\n",
    "            sub_list = list1[m:m+x]\n",
    "            distinct = list(set(sub_list))\n",
    "            if len(distinct) == k:\n",
    "                list2.append(''.join(sub_list))\n",
    "    return (len(list(set(list2))), list(set(list2)))\n",
    "geeks9(str1, k)"
   ]
  },
  {
   "cell_type": "markdown",
   "metadata": {},
   "source": [
    "## CCC 2016 S-1: An anagram of a string is formed by rearranging the letters in the string. For example, the anagrams of aab are aab, aba, and baa. A wildcard anagram of a string is an anagram of the string where some of the letters might have been replaced with an asterisk (*). For example, two possible wildcard anagrams of aab are *ab and *b*.  Given two strings, determine whether the second string is a wildcard anagram of the first string. "
   ]
  },
  {
   "cell_type": "code",
   "execution_count": null,
   "metadata": {},
   "outputs": [],
   "source": [
    "'''\n",
    "Sample Input 1\n",
    "abba baaa\n",
    "Output for Sample Input 1\n",
    "N\n",
    "\n",
    "Sample Input 2\n",
    "cccrocks\n",
    "socc*rk*\n",
    "Output for Sample Input 2\n",
    "A\n",
    "'''"
   ]
  },
  {
   "cell_type": "code",
   "execution_count": 370,
   "metadata": {},
   "outputs": [
    {
     "data": {
      "text/plain": [
       "'A'"
      ]
     },
     "execution_count": 370,
     "metadata": {},
     "output_type": "execute_result"
    }
   ],
   "source": [
    "str1 = 'cccrocks'\n",
    "str2 = 'socc*rk*'\n",
    "def anagram(str1, str2):\n",
    "    if len(str1) != len(str2):\n",
    "        return 'N'\n",
    "    list1 = list(sorted(str1))\n",
    "    list2 = list(sorted(str2))\n",
    "    for x in range(1, len(list1)):\n",
    "        if list1[x] == list2[x] or list1[x] == '*' or list2[x] == '*':\n",
    "            continue\n",
    "        else:\n",
    "            return 'N'\n",
    "    return 'A'\n",
    "anagram(str1, str2)"
   ]
  },
  {
   "cell_type": "markdown",
   "metadata": {},
   "source": [
    "## CCC 2020 S-1: Trick E. Dingo is trying, as usual, to catch his nemesis the Street Sprinter. His past attempts using magnets, traps and explosives have failed miserably, so he’s catching his breath to gather observational data and learn more about how fast Street Sprinter is.  Trick E. Dingo and Street Sprinter both inhabit a single straight west-east road with a particularly famous rock on it known affectionately as The Origin. Positions on this straight road are measured numerically according to the distance from The Origin, and using negative numbers for positions west of The Origin and positive numbers for positions east of The Origin.  The observations by Trick E. Dingo each contain two numbers: a time, and the value of Street Sprinter’s position on the road at that time. Given this information, what speed must Street Sprinter must be capable of? "
   ]
  },
  {
   "cell_type": "code",
   "execution_count": null,
   "metadata": {},
   "outputs": [],
   "source": [
    "'''\n",
    "Sample Input 1\n",
    "3\n",
    "0 100\n",
    "20 50\n",
    "10 120\n",
    "Output for Sample Input 1\n",
    "7.0\n",
    "\n",
    "Sample Input 2\n",
    "5\n",
    "20 -5\n",
    "0 -17\n",
    "10 31\n",
    "5 -3\n",
    "30 11\n",
    "Output for Sample Input 2\n",
    "6.8\n",
    "'''"
   ]
  },
  {
   "cell_type": "code",
   "execution_count": 397,
   "metadata": {},
   "outputs": [
    {
     "name": "stdout",
     "output_type": "stream",
     "text": [
      "6.8\n"
     ]
    }
   ],
   "source": [
    "import numpy\n",
    "list1 = [(20, -5), (0, -17), (10, 31), (5, -3), (30, 11)]\n",
    "listr = []\n",
    "list1 = sorted(list1)\n",
    "for k, x in enumerate(list1):\n",
    "    if k > 0:\n",
    "        num = x[1] - start\n",
    "        num = numpy.abs(num)\n",
    "        time = x[0] - hi\n",
    "        fraction = num/time\n",
    "        listr.append(fraction)\n",
    "    start = x[1]\n",
    "    hi = x[0]\n",
    "print(max(listr))"
   ]
  },
  {
   "cell_type": "markdown",
   "metadata": {},
   "source": [
    "## CCC 2019 S-2: For various given positive integers N > 3, find two primes, A and B such that N is the average (mean) of A and B. That is, N should be equal to (A + B)/2. Recall that a prime number is an integer P > 1 which is only divisible by 1 and P . For example, 2, 3, 5, 7, 11 are the first few primes, and 4, 6, 8, 9 are not prime numbers. "
   ]
  },
  {
   "cell_type": "code",
   "execution_count": 402,
   "metadata": {},
   "outputs": [
    {
     "data": {
      "text/plain": [
       "0"
      ]
     },
     "execution_count": 402,
     "metadata": {},
     "output_type": "execute_result"
    }
   ],
   "source": [
    "def isitprime(n):\n",
    "    for a in range(2, n):\n",
    "        if n % a == 0:\n",
    "            return False\n",
    "    return True\n",
    "isitprime(8)"
   ]
  },
  {
   "cell_type": "code",
   "execution_count": 405,
   "metadata": {},
   "outputs": [
    {
     "data": {
      "text/plain": [
       "(11, 5)"
      ]
     },
     "execution_count": 405,
     "metadata": {},
     "output_type": "execute_result"
    }
   ],
   "source": [
    "def prime(n):\n",
    "    for x in range(n, 2 * n):\n",
    "        if isitprime(x) and isitprime(2 * n - x):\n",
    "            return (x, 2 * n - x)\n",
    "prime(8)"
   ]
  },
  {
   "cell_type": "markdown",
   "metadata": {},
   "source": [
    "## CCC 2018 S-1: In the country of Voronoi, there are N villages, located at distinct points on a straight road. Each of these villages will be represented by an integer position along this road.  Each village defines its neighbourhood as all points along the road which are closer to it than to any other village. A point which is equally close to two distinct villages A and B is in the neighbourhood of A and also in the neighbourhood of B.  Each neighbourhood has a size which is the difference between the minimum (leftmost) point in its neighbourhood and the maximum (rightmost) point in its neighbourhood.  The neighbourhoods of the leftmost and rightmost villages are defined to be of infinite size, while all other neighbourhoods are finite in size.  Determine the smallest size of any of the neighbourhoods (with exactly 1 digit after the decimal point). "
   ]
  },
  {
   "cell_type": "code",
   "execution_count": null,
   "metadata": {},
   "outputs": [],
   "source": [
    "'''\n",
    "Sample Input\n",
    "5 \n",
    "16 \n",
    "0 \n",
    "10 \n",
    "4 \n",
    "15\n",
    "Output for Sample Input\n",
    "3.0\n",
    "\n",
    "The input file name: ./data/ccc_2018_s1.in\n",
    "The output file name: ./data/ccc_2018_s1.out\n",
    "'''"
   ]
  },
  {
   "cell_type": "code",
   "execution_count": 439,
   "metadata": {},
   "outputs": [],
   "source": [
    "def read_input_file(f_in_name):\n",
    "    with open(f_in_name, 'r') as f:\n",
    "        lines = f.readlines()\n",
    "    lines = [s.strip() for s in lines]\n",
    "    return lines\n",
    "\n",
    "def write_output_file(list_ouput, f_out_name):\n",
    "    list_str = [str(s) for s in list_ouput]\n",
    "    out_str = '\\n'.join(list_str)\n",
    "    with open(f_out_name, 'w') as f:\n",
    "        f.write(out_str)  "
   ]
  },
  {
   "cell_type": "code",
   "execution_count": 443,
   "metadata": {},
   "outputs": [
    {
     "name": "stdout",
     "output_type": "stream",
     "text": [
      "['5', '16', '0', '10', '4', '15']\n"
     ]
    }
   ],
   "source": [
    "list_input = read_input_file('./data/ccc_2018_s1.in')\n",
    "print(list_input)"
   ]
  },
  {
   "cell_type": "code",
   "execution_count": 445,
   "metadata": {},
   "outputs": [],
   "source": [
    "list_input = [int(s) for s in list_input]"
   ]
  },
  {
   "cell_type": "code",
   "execution_count": 457,
   "metadata": {},
   "outputs": [],
   "source": [
    "def neighbourhoods(list_input):\n",
    "    list1 = []\n",
    "    list_input = list_input[1:]\n",
    "    list_input = sorted(list_input)\n",
    "    for k,x in enumerate(list_input):\n",
    "        if k > 0 and k < len(list_input) - 1:\n",
    "            leftdist = x - ((x - list_input[k - 1]) / 2)\n",
    "            rightdist = x + ((list_input[k + 1] - x) / 2)\n",
    "            list1.append(rightdist - leftdist)\n",
    "    return(min(list1))\n",
    "r = neighbourhoods(list_input)\n",
    "list_output = [r]\n",
    "write_output_file(list_output,'./data/ccc_2018_s1.out')"
   ]
  },
  {
   "cell_type": "markdown",
   "metadata": {},
   "source": [
    "## CCC 2017 S-1: Annie has two favourite baseball teams: the Swifts and the Semaphores. She has followed them throughout the season, which is now over. The season lasted for N days. Both teams played exactly one game on each day.  For each day, Annie recorded the number of runs scored by the Swifts on that day. She also recorded this information for the Semaphores.  She would like you to determine the largest integer K such that K ≤ N and the Swifts and the Semaphores had scored the same total number of runs K days after the start of the season. The total number of runs scored by a team after K days is the sum of the number of runs scored by the team in all games before or on the K-th day.  For example, if the Swifts and the Semaphores have the same total number of runs at the end of the season, then you should output N. If the Swifts and the Semaphores never had the same number of runs after K games, for any value of K ≤ N , then output 0. "
   ]
  },
  {
   "cell_type": "code",
   "execution_count": null,
   "metadata": {},
   "outputs": [],
   "source": [
    "'''\n",
    "Sample Input 3\n",
    "4 \n",
    "1 2 3 4 \n",
    "1 3 2 4\n",
    "Output for Sample Input 3\n",
    "4\n",
    "\n",
    "The input file name: data/ccc_2017_s1.in\n",
    "The output file name: data/ccc_2017_s1.out\n",
    "'''"
   ]
  },
  {
   "cell_type": "code",
   "execution_count": 461,
   "metadata": {},
   "outputs": [],
   "source": [
    "def baseball(list1, list2):\n",
    "    for k in reversed(range(len(list1) + 1)):\n",
    "        sublist1 = list1[:k]\n",
    "        sublist2 = list2[:k]\n",
    "        if sum(sublist1) == sum(sublist2):\n",
    "            return k"
   ]
  },
  {
   "cell_type": "code",
   "execution_count": 479,
   "metadata": {},
   "outputs": [
    {
     "name": "stdout",
     "output_type": "stream",
     "text": [
      "4\n",
      "1 2 3\n",
      "3 4 5\n",
      "0\n"
     ]
    }
   ],
   "source": [
    "# get input\n",
    "input1 = int(input())\n",
    "input2 = input()\n",
    "input3 = input()\n",
    "\n",
    "list1 = input2.split(' ')\n",
    "list1 = [int(s) for s in list1]\n",
    "list2 = input3.split(' ')\n",
    "list2 = [int(s) for s in list2]\n",
    "\n",
    "# process\n",
    "r = baseball(list1, list2)\n",
    "print(r)"
   ]
  },
  {
   "cell_type": "markdown",
   "metadata": {},
   "source": [
    "## CCC 2017 S-2: Joe Coder is camping near the Bay of Fundy between Nova Scotia and New Brunswick. When he arrived at the bay, he was told that the difference in height between high tide and low tide at the Bay of Fundy was the largest tidal difference in the world. Ever the skeptic, Joe decided to verify this. He chose a reference point and, after learning from the radio when the tides were highest and lowest, he went with a boat to his reference point and measured the depth of the water. Unfortunately, on the last day of his trip, a strong wind scattered his measurements. Joe has recovered all of his measurements, but they may not be in their original order. Luckily, he remembers some things about his measurements:  He started measuring water levels at a low tide, his second measurement was of the water level at high tide, and after that the measurements continued to alternate between low and high tides.  All high tide measurements were higher than all low tide measurements.  Joe noticed that as time passed, the high tides only became higher and the low tides only became lower. Given Joe’s measurements in no particular order, you must reconstruct the correct order in which the measurements were taken. "
   ]
  },
  {
   "cell_type": "code",
   "execution_count": null,
   "metadata": {},
   "outputs": [],
   "source": [
    "'''\n",
    "Sample Input\n",
    "8\n",
    "10 50 40 7 3 110 90 2\n",
    "Output for Sample Input\n",
    "10 40 7 50 3 90 2 110\n",
    "'''"
   ]
  },
  {
   "cell_type": "code",
   "execution_count": 492,
   "metadata": {},
   "outputs": [
    {
     "name": "stdout",
     "output_type": "stream",
     "text": [
      "8\n",
      "10 50 40 7 3 110 90 2\n",
      "10 40 7 50 3 90 2 110\n"
     ]
    }
   ],
   "source": [
    "a = int(input())\n",
    "str1 = input()\n",
    "list1 = str1.split(' ')\n",
    "list1 = [int(s) for s in list1]\n",
    "list1 = sorted(list1)\n",
    "sublist1 = list1[:(a // 2)]\n",
    "sublist2 = list1[(a // 2):]\n",
    "sublist1 = sorted(sublist1, reverse = True)\n",
    "listr = []\n",
    "for x in range(len(sublist1)):\n",
    "    listr.append(sublist1[x])\n",
    "    listr.append(sublist2[x])\n",
    "listr2 = [str(s) for s in listr]\n",
    "str_out = ' '.join(listr2)\n",
    "print(str_out)"
   ]
  },
  {
   "cell_type": "code",
   "execution_count": 495,
   "metadata": {},
   "outputs": [
    {
     "name": "stdout",
     "output_type": "stream",
     "text": [
      "{'a': {'b': 2.3, 'c': 4.5}, 'b': {'d': 9.7}, 'c': {'b': 1.1, 'd': 3.2, 'e': 5.1}, 'd': {'e': 2.9}, 'e': {}}\n"
     ]
    }
   ],
   "source": [
    "dict1 = {}\n",
    "dict1['a'] = {}\n",
    "dict1['a']['b'] = 2.3\n",
    "dict1['a']['c'] = 4.5\n",
    "dict1['b'] = {}\n",
    "dict1['b']['d'] = 9.7\n",
    "dict1['c'] = {}\n",
    "dict1['c']['b'] = 1.1\n",
    "dict1['c']['d'] = 3.2\n",
    "dict1['c']['e'] = 5.1\n",
    "dict1['d'] = {}\n",
    "dict1['d']['e'] = 2.9\n",
    "dict1['e'] = {}\n",
    "print(dict1)"
   ]
  },
  {
   "cell_type": "code",
   "execution_count": 498,
   "metadata": {},
   "outputs": [
    {
     "name": "stdout",
     "output_type": "stream",
     "text": [
      "{'a': [], 'b': ['a', 'c'], 'c': ['a'], 'd': ['b', 'c'], 'e': ['c', 'd']}\n"
     ]
    }
   ],
   "source": [
    "dict2 = {}\n",
    "dict2['a'] = []\n",
    "dict2['b'] = ['a', 'c']\n",
    "dict2['c'] = ['a']\n",
    "dict2['d'] = ['b', 'c']\n",
    "dict2['e'] = ['c', 'd']\n",
    "print(dict2)"
   ]
  },
  {
   "cell_type": "code",
   "execution_count": 500,
   "metadata": {},
   "outputs": [
    {
     "name": "stdout",
     "output_type": "stream",
     "text": [
      "['b', 'd', 'e']\n"
     ]
    }
   ],
   "source": [
    "list1 = list(dict1['c'].keys())\n",
    "print(list1)"
   ]
  },
  {
   "cell_type": "code",
   "execution_count": 501,
   "metadata": {},
   "outputs": [
    {
     "name": "stdout",
     "output_type": "stream",
     "text": [
      "['c', 'd']\n"
     ]
    }
   ],
   "source": [
    "print(dict2['e'])"
   ]
  },
  {
   "cell_type": "markdown",
   "metadata": {},
   "source": [
    "## CCC 2015 S-1: Your boss has asked you to add up a sequence of positive numbers to determine how much money your company made last year. Unfortunately, your boss reads out numbers incorrectly from time to time. Fortunately, your boss realizes when an incorrect number is read and says “zero”, meaning “ignore the current last number.” Unfortunately, your boss can make repeated mistakes, and says “zero” for each mistake. For example, your boss may say “One, three, five, four, zero, zero, seven, zero, zero, six”, which means the total is 7 as explained in the following chart:"
   ]
  },
  {
   "cell_type": "code",
   "execution_count": null,
   "metadata": {},
   "outputs": [],
   "source": [
    "'''\n",
    "Sample Input 2\n",
    "1 3 5 4 0 0 7 0 0 6\n",
    "Output for Sample Input 2\n",
    "7\n",
    "'''"
   ]
  },
  {
   "cell_type": "code",
   "execution_count": 1,
   "metadata": {},
   "outputs": [],
   "source": [
    "def zero_element(list1, indzero):\n",
    "       return list1[:indzero - 1] + list1[indzero + 1:]"
   ]
  },
  {
   "cell_type": "code",
   "execution_count": 5,
   "metadata": {},
   "outputs": [
    {
     "name": "stdout",
     "output_type": "stream",
     "text": [
      "1 3 5 4 0 0 7 0 0 6\n",
      "7\n"
     ]
    }
   ],
   "source": [
    "str1 = input()\n",
    "list1 = str1.split(' ')\n",
    "list1 = [int(s) for s in list1]\n",
    "while 0 in list1:\n",
    "    for k, x in enumerate(list1):\n",
    "        if x == 0:\n",
    "            indzero = k\n",
    "            list1 = zero_element(list1, indzero)\n",
    "            break\n",
    "print(sum(list1))"
   ]
  },
  {
   "cell_type": "markdown",
   "metadata": {},
   "source": [
    "## CCC 2013 S-2: Problem S2: Bridge transport  A train of railway cars attempts to cross a bridge. The length of each car is 10m but their weights might be different. The bridge is 40m long (thus can hold 4 train cars at one time). The bridge will crack if the total weight of the cars on it at one time is greater than a certain weight. The cars are numbered starting at 1, going up to N, and they cross the bridge in that order (i.e., 1 immediately followed by 2, which is immediately followed by 3, and so on). What is the largest number T of railway cars such that the train of cars 1...T (in order) can cross the bridge? "
   ]
  },
  {
   "cell_type": "code",
   "execution_count": null,
   "metadata": {},
   "outputs": [],
   "source": [
    "'''\n",
    "Sample Input 1\n",
    "100\n",
    "6\n",
    "50 30 10 10 40 50\n",
    "Output for Sample Input 1\n",
    "5\n",
    "'''"
   ]
  },
  {
   "cell_type": "code",
   "execution_count": 15,
   "metadata": {},
   "outputs": [
    {
     "name": "stdout",
     "output_type": "stream",
     "text": [
      "100\n",
      "6\n",
      "50 30 10 10 40 50\n",
      "[50, 30, 10, 10]\n",
      "[30, 10, 10, 40]\n",
      "[10, 10, 40, 50]\n",
      "overweight\n",
      "5\n"
     ]
    }
   ],
   "source": [
    "weight = int(input())\n",
    "n = int(input())\n",
    "str1 = input()\n",
    "list1 = str1.split(' ')\n",
    "list1 = [int(s) for s in list1]\n",
    "kk = 0\n",
    "for k in range(len(list1) - 3):\n",
    "    sublist = list1[k : k + 4]\n",
    "    kk +=1\n",
    "    print(sublist)\n",
    "    if sum(sublist)>weight:\n",
    "        print('overweight')\n",
    "        print(kk + 4 - 2)"
   ]
  },
  {
   "cell_type": "markdown",
   "metadata": {},
   "source": [
    "## CCC 2011-S1 Problem S1: English or French?  You would like to do some experiments in natural language processing. Natural language pro- cessing (NLP) involves using machines to recognize human languages.  Your first idea is to write a program that can distinguish English text from French text.  After some analysis, you have concluded that a very reasonable way of distinguishing these two languages is to compare the occurrences of the letters “t” and “T” to the occurrences of the letters “s” and “S”. Specifically:  if the given text has more “t” and “T” characters than “s” and “S” characters, we will say that it is (probably) English text;  if the given text has more “s” and ”S” characters than “t” and “T” characters, we will say that it is (probably) French text;  if the number of “t” and “T” characters is the same as the number of “s” and “S” characters, we will say that it is (probably) French text. "
   ]
  },
  {
   "cell_type": "code",
   "execution_count": null,
   "metadata": {},
   "outputs": [],
   "source": [
    "'''\n",
    "Sample Input 1\n",
    "3\n",
    "The red cat sat on the mat.\n",
    "Why are you so sad cat?\n",
    "Don’t ask that.\n",
    "\n",
    "Output for Sample Input 1\n",
    "English\n",
    "'''"
   ]
  },
  {
   "cell_type": "code",
   "execution_count": 11,
   "metadata": {},
   "outputs": [
    {
     "name": "stdout",
     "output_type": "stream",
     "text": [
      "3\n",
      "The red cat sat on the mat.\n",
      "Why are you so sad cat?\n",
      "Don’t ask that.\n",
      "['T', 'h', 'e', ' ', 'r', 'e', 'd', ' ', 'c', 'a', 't', ' ', 's', 'a', 't', ' ', 'o', 'n', ' ', 't', 'h', 'e', ' ', 'm', 'a', 't', '.', ' ', 'W', 'h', 'y', ' ', 'a', 'r', 'e', ' ', 'y', 'o', 'u', ' ', 's', 'o', ' ', 's', 'a', 'd', ' ', 'c', 'a', 't', '?', ' ', 'D', 'o', 'n', '’', 't', ' ', 'a', 's', 'k', ' ', 't', 'h', 'a', 't', '.']\n",
      "English\n"
     ]
    }
   ],
   "source": [
    "lines = int(input())\n",
    "list1 = []\n",
    "for x in range(lines):\n",
    "    list1.append(input())\n",
    "count_t = 0\n",
    "count_s = 0\n",
    "str1 = ' '.join(list1)\n",
    "list1 = list(str1)\n",
    "print(list1)\n",
    "for x in list1:\n",
    "    x = x.lower()\n",
    "    if x == 't':\n",
    "        count_t += 1\n",
    "    if x == 's':\n",
    "        count_s += 1\n",
    "if count_s < count_t:\n",
    "    print('English')\n",
    "else:\n",
    "    print('French')"
   ]
  },
  {
   "cell_type": "markdown",
   "metadata": {},
   "source": [
    "## CCC 2010 S-2: Problem S2: Huffman Encoding  There is an ingenious text-compression algorithm called Huffman coding, designed by David Huff- man in 1952.  The basic idea is that each character is associated with a binary sequence (i.e., a sequence of 0s and 1s). These binary sequences satisfy the prefix-free property: a binary sequence for one character is never a prefix of another character’s binary sequence.  It is worth noting that to construct a prefix-free binary sequence, simply put the characters as the leaves of a binary tree, and label the “left” edge as 0 and the ”right” edge as 1. The path from the root to a leaf node forms the code for the character at that leaf node. For example, the following binary tree constructs a prefix-free binary sequence for the characters {A, B, C, D, E}:  That is, A is encoded as 00, B is encoded as 01, C is encoded as 10, D is encoded as 110 and E is encoded as 111.  The benefit of a set of codes having the prefix-free property is that any sequence of these codes can be uniquely decoded into the original characters.  Your task is to read a Huffman code (i.e., a set of characters and associated binary sequences) along with a binary sequence, and decode the binary sequence to its character representation. "
   ]
  },
  {
   "cell_type": "code",
   "execution_count": null,
   "metadata": {},
   "outputs": [],
   "source": [
    "'''\n",
    "Sample Input\n",
    "5\n",
    "A 00\n",
    "B 01\n",
    "C 10\n",
    "D 110\n",
    "E 111\n",
    "00000101111\n",
    "\n",
    "Output for Sample Input\n",
    "AABBE\n",
    "'''"
   ]
  },
  {
   "cell_type": "code",
   "execution_count": 38,
   "metadata": {},
   "outputs": [
    {
     "name": "stdout",
     "output_type": "stream",
     "text": [
      "5\n",
      "A 00\n",
      "B 01\n",
      "C 10\n",
      "D 110\n",
      "E 111\n",
      "00000101111\n",
      "AABBE\n"
     ]
    }
   ],
   "source": [
    "n = int(input())\n",
    "dict_enc = {}\n",
    "for x in range(n):\n",
    "    str1 = input()\n",
    "    list1 = str1.split(' ')\n",
    "    dict_enc[list1[0]] = list1[1]\n",
    "dict_dec = {v:k for k,v in dict_enc.items()}\n",
    "str1 = input()\n",
    "list1 = list(str1)\n",
    "list_r = []\n",
    "while list1:\n",
    "    for k in range(1, len(list1)+1):\n",
    "        sublist = list1[0:k]\n",
    "        str2 = ''.join(sublist)\n",
    "        if str2 in dict_dec:\n",
    "            list_r.append(dict_dec[str2])\n",
    "            list1 = list1[k:]\n",
    "            break\n",
    "str1 = ''.join(list_r)\n",
    "print(str1)"
   ]
  },
  {
   "cell_type": "markdown",
   "metadata": {},
   "source": [
    "## CCC 2008-S1 Problem S1: It’s Cold Here! Canada is cold in winter, but some parts are colder than others. Your task is very simple, you need to find the coldest city in Canada. So, when given a list of cities and their temperatures, you are to determine which city in the list has the lowest temperature and is thus the coldest."
   ]
  },
  {
   "cell_type": "code",
   "execution_count": null,
   "metadata": {},
   "outputs": [],
   "source": [
    "'''\n",
    "Sample Input\n",
    "Saskatoon -20\n",
    "Toronto -2\n",
    "Winnipeg -40\n",
    "Vancouver 8\n",
    "Halifax 0\n",
    "Montreal -4\n",
    "Waterloo -3\n",
    "\n",
    "Output for Sample Input\n",
    "Winnipeg\n",
    "'''"
   ]
  },
  {
   "cell_type": "code",
   "execution_count": 59,
   "metadata": {},
   "outputs": [
    {
     "name": "stdout",
     "output_type": "stream",
     "text": [
      "Saskatoon -20\n",
      "Toronto -2\n",
      "Winnipeg -40\n",
      "Vancouver 8\n",
      "Halifax 0\n",
      "Montreal -4\n",
      "Waterloo -3\n",
      "Winnipeg\n"
     ]
    }
   ],
   "source": [
    "list1 = []\n",
    "for x in range(7):\n",
    "    list1.append(input())\n",
    "list2 = []\n",
    "for x in list1:\n",
    "    x = x.split(' ')\n",
    "    number = int(x[1])\n",
    "    x = x[:1]\n",
    "    x.append(number)\n",
    "    x = tuple(x)\n",
    "    list2.append(x)\n",
    "list2 = sorted(list2, key = lambda x : x[1])\n",
    "print(list2[0][0])"
   ]
  },
  {
   "cell_type": "markdown",
   "metadata": {},
   "source": [
    "## CCC 2008 S-2: Problem S2: Pennies in the Ring. The game “Pennies in the Ring” is often played by bored computer programmers who have gotten tired of playing solitare. The objective is to see how many pennies can be put into a circle. The circle is drawn on a grid, with its center at the coordinate (0, 0). A single penny is placed on every integer grid coordinate (e.g., (1, 1), (1, 2), etc.) that lies within or on the circle. It’s not a very exciting game, but it’s very good for wasting time. Your goal is to calculate how many pennies are needed for a circle with a given radius."
   ]
  },
  {
   "cell_type": "code",
   "execution_count": null,
   "metadata": {},
   "outputs": [],
   "source": [
    "'''\n",
    "Sample Input\n",
    "2 \n",
    "3 \n",
    "4 \n",
    "0\n",
    "\n",
    "Output for Sample Input\n",
    "13 \n",
    "29 \n",
    "49\n",
    "'''"
   ]
  },
  {
   "cell_type": "code",
   "execution_count": 73,
   "metadata": {},
   "outputs": [
    {
     "name": "stdout",
     "output_type": "stream",
     "text": [
      "2\n",
      "3\n",
      "4\n",
      "0\n",
      "13\n",
      "29\n",
      "49\n"
     ]
    }
   ],
   "source": [
    "import math\n",
    "list_input = []\n",
    "while True:\n",
    "    a = int(input())\n",
    "    if a!=0:\n",
    "        list_input.append(a)\n",
    "    else:\n",
    "        break\n",
    "for a in list_input:\n",
    "    list1 = []\n",
    "    negative = -1*a\n",
    "    positive = a\n",
    "    for x in range(negative, positive + 1):\n",
    "        for y in range(negative, positive + 1):\n",
    "            if math.sqrt(x ** 2 + y ** 2) <= a:\n",
    "                list1.append((x,y))\n",
    "    print(len(list1))"
   ]
  },
  {
   "cell_type": "markdown",
   "metadata": {},
   "source": [
    "## Graph traversal framework"
   ]
  },
  {
   "cell_type": "code",
   "execution_count": 38,
   "metadata": {},
   "outputs": [
    {
     "name": "stdout",
     "output_type": "stream",
     "text": [
      "Did not find F\n"
     ]
    }
   ],
   "source": [
    "# function to discover the children of the current node\n",
    "def discover_children(current_node, graph):\n",
    "    list_children = []\n",
    "    return list_children\n",
    "\n",
    "# function to check if termination is reached\n",
    "def check_termination(path):\n",
    "    return False\n",
    "\n",
    "# initialization\n",
    "graph = {}\n",
    "graph['A'] = ['B', 'C']\n",
    "list_visited = []\n",
    "list_paths = [] # the queue\n",
    "start_node = 'A'\n",
    "list_paths.append([start_node])\n",
    "final_path = []\n",
    "done = False\n",
    "\n",
    "while list_paths:\n",
    "    # step 1: pop the first path from the list_paths\n",
    "    current_path = list_paths.pop()\n",
    "    current_node = current_path[-1]\n",
    "    # check if the current node has been visited\n",
    "    if current_node not in list_visited:\n",
    "        list_visited.append(current_node)\n",
    "        # step 2: discover the children of the current node\n",
    "        list_children = discover_children(current_node, graph)\n",
    "\n",
    "        # extend the current path by adding the child\n",
    "        for c in list_children:\n",
    "            path = current_path + [c]\n",
    "            # step 3: check if the task is coompleted\n",
    "            if check_termination(path):\n",
    "                final_path = path\n",
    "                done = True\n",
    "                break\n",
    "            else:\n",
    "                # append the path to the path queue\n",
    "                list_paths.append(path)\n",
    "        \n",
    "        # done\n",
    "        if done:\n",
    "            break\n",
    "        \n",
    "if final_path == []:\n",
    "    print('Did not find F')\n",
    "else:\n",
    "    print(final_path)"
   ]
  },
  {
   "cell_type": "markdown",
   "metadata": {},
   "source": [
    "## Breadth-First-Search (BFS)"
   ]
  },
  {
   "cell_type": "code",
   "execution_count": 156,
   "metadata": {},
   "outputs": [
    {
     "name": "stdout",
     "output_type": "stream",
     "text": [
      "['1', '3', '2']\n"
     ]
    }
   ],
   "source": [
    "friends = {'2': ['1'], '3': ['2'], '1': ['3'], '11': ['10'], '10': ['100'], '100': ['11']}\n",
    "\n",
    "def bfs(starting_node, end_node, graph):\n",
    "    list_visited = []\n",
    "    list_paths = []\n",
    "    list_paths.append([starting_node])\n",
    "    \n",
    "    while list_paths:\n",
    "        current_path = list_paths.pop(0)\n",
    "        current_node = current_path[-1]\n",
    "        if current_node not in list_visited:\n",
    "            list_visited.append(current_node)\n",
    "            list_friends = friends[current_node]\n",
    "            for c in list_friends:\n",
    "                path = current_path + [c]\n",
    "                if path[-1] == end_node:\n",
    "                    return path\n",
    "                else:\n",
    "                    list_paths.append(path) #debug\n",
    "    return None\n",
    "\n",
    "shortest_path = bfs('1', '2', friends)\n",
    "print(shortest_path)"
   ]
  },
  {
   "cell_type": "markdown",
   "metadata": {},
   "source": [
    "## Graph traversal to solve N-queens problem"
   ]
  },
  {
   "cell_type": "code",
   "execution_count": 87,
   "metadata": {},
   "outputs": [
    {
     "name": "stdout",
     "output_type": "stream",
     "text": [
      "5\n",
      "[0, 2, 4, 1, 3]\n"
     ]
    }
   ],
   "source": [
    "def check_safe_queen(list_q, new_q):\n",
    "    tup1 = (len(list_q), new_q)\n",
    "    for k, x in enumerate(list_q):\n",
    "        if x == new_q:\n",
    "            return False\n",
    "        tup2 = (k, x)\n",
    "        slope = (tup1[1] - tup2[1])/(tup1[0] - tup2[0])\n",
    "        if slope == 1 or slope == -1:\n",
    "            return False\n",
    "    return True\n",
    "def check_termination(path):\n",
    "    if len(path) == n:\n",
    "        return True\n",
    "    return False\n",
    "n = int(input())\n",
    "list_paths = []\n",
    "final_result = None\n",
    "for x in range(n):\n",
    "    list_paths.append([x])\n",
    "while list_paths:\n",
    "    current_path = list_paths.pop(0)\n",
    "    current_node = current_path[-1]\n",
    "    for a in range(n):\n",
    "        if check_safe_queen(current_path, a) == True:\n",
    "            if check_termination(current_path + [a]) == True:\n",
    "                final_result = current_path + [a]\n",
    "                break\n",
    "            list_paths.append(current_path + [a])\n",
    "    if final_result != None:\n",
    "        break\n",
    "print(final_result)"
   ]
  },
  {
   "cell_type": "markdown",
   "metadata": {},
   "source": [
    "## Rat in Maze"
   ]
  },
  {
   "cell_type": "code",
   "execution_count": null,
   "metadata": {},
   "outputs": [],
   "source": [
    "'''\n",
    "input \n",
    "4 4\n",
    "0 0\n",
    "3 3\n",
    "0 0 0 1\n",
    "1 1 0 0\n",
    "0 1 0 0\n",
    "0 0 0 0\n",
    "'''"
   ]
  },
  {
   "cell_type": "code",
   "execution_count": 108,
   "metadata": {},
   "outputs": [
    {
     "name": "stdout",
     "output_type": "stream",
     "text": [
      "4 4\n",
      "0 0\n",
      "3 3\n",
      "0 0 0 1\n",
      "1 1 0 0\n",
      "0 1 0 0\n",
      "0 0 0 0\n",
      "[[0, 0, 0, 1], [1, 1, 0, 0], [0, 1, 0, 0], [0, 0, 0, 0]]\n"
     ]
    }
   ],
   "source": [
    "str1 = input()\n",
    "grid_size = str1.split(' ')\n",
    "grid_size = [int(s) for s in grid_size]\n",
    "str1 = input()\n",
    "starting_node = str1.split(' ')\n",
    "starting_node = [int(s) for s in starting_node]\n",
    "str1 = input()\n",
    "ending_node = str1.split(' ')\n",
    "ending_node = [int(s) for s in ending_node]\n",
    "ending_node = str(ending_node[0]) + ', ' + str(ending_node[0])\n",
    "grid = []\n",
    "for x in range(grid_size[1]):\n",
    "    a = input()\n",
    "    a = a.split(' ')\n",
    "    a = [int(s) for s in a]\n",
    "    grid.append(a)\n",
    "print(grid)"
   ]
  },
  {
   "cell_type": "code",
   "execution_count": 116,
   "metadata": {},
   "outputs": [
    {
     "name": "stdout",
     "output_type": "stream",
     "text": [
      "{'0, 0': ['0, 1'], '0, 1': ['0, 0', '0, 2'], '0, 2': ['0, 1', '1, 2'], '1, 2': ['0, 2', '2, 2', '1, 3'], '1, 3': ['1, 2', '2, 3'], '2, 0': ['3, 0'], '2, 2': ['1, 2', '3, 2', '2, 3'], '2, 3': ['1, 3', '2, 2', '3, 3'], '3, 0': ['2, 0', '3, 1'], '3, 1': ['3, 0', '3, 2'], '3, 2': ['2, 2', '3, 1', '3, 3'], '3, 3': ['2, 3', '3, 2']}\n"
     ]
    }
   ],
   "source": [
    "grid_size = [4, 4]\n",
    "starting_node = [0, 0]\n",
    "start_node = str(starting_node[0]) + ', ' + str(starting_node[0])\n",
    "ending_node = [3, 3]\n",
    "end_node = str(ending_node[0]) + ', ' + str(ending_node[0])\n",
    "grid = [[0, 0, 0, 1], [1, 1, 0, 0], [0, 1, 0, 0], [0, 0, 0, 0]]\n",
    "graph = {}\n",
    "for row in range(grid_size[0]):\n",
    "    for col in range(grid_size[1]):\n",
    "        current_node = grid[row][col]\n",
    "        if current_node == 0:\n",
    "            if row != 0:\n",
    "                if grid[row - 1][col] == 0:\n",
    "                    if str(row) + ', ' + str(col) not in graph:\n",
    "                        graph[str(row) + ', ' + str(col)] = [str(row - 1) + ', ' + str(col)]\n",
    "                    else:\n",
    "                        graph[str(row) + ', ' + str(col)].append(str(row - 1) + ', ' + str(col))\n",
    "            if col != 0:\n",
    "                if grid[row][col - 1] == 0:\n",
    "                    if str(row) + ', ' + str(col) not in graph:\n",
    "                        graph[str(row) + ', ' + str(col)] = [str(row) + ', ' + str(col - 1)]\n",
    "                    else:\n",
    "                        graph[str(row) + ', ' + str(col)].append(str(row) + ', ' + str(col - 1))\n",
    "            if row != grid_size[0] - 1:\n",
    "                if grid[row + 1][col] == 0:\n",
    "                    if str(row) + ', ' + str(col) not in graph:\n",
    "                        graph[str(row) + ', ' + str(col)] = [str(row + 1) + ', ' + str(col)]\n",
    "                    else:\n",
    "                        graph[str(row) + ', ' + str(col)].append(str(row + 1) + ', ' + str(col))\n",
    "            if col != grid_size[1] - 1:\n",
    "                if grid[row][col + 1] == 0:\n",
    "                    if str(row) + ', ' + str(col) not in graph:\n",
    "                        graph[str(row) + ', ' + str(col)] = [str(row) + ', ' + str(col + 1)]\n",
    "                    else:\n",
    "                        graph[str(row) + ', ' + str(col)].append(str(row) + ', ' + str(col + 1))\n",
    "print(graph)"
   ]
  },
  {
   "cell_type": "code",
   "execution_count": 118,
   "metadata": {},
   "outputs": [
    {
     "name": "stdout",
     "output_type": "stream",
     "text": [
      "['0, 0', '0, 1', '0, 2', '1, 2', '2, 2', '3, 2', '3, 3']\n"
     ]
    }
   ],
   "source": [
    "def create_paths(current_node):\n",
    "    list1 = []\n",
    "    for x in graph[current_node]:\n",
    "        list1.append(x)\n",
    "    return list1\n",
    "def check_termination(path):\n",
    "    if path[-1] == end_node:\n",
    "        return True\n",
    "    return False\n",
    "list_paths = [[start_node]]\n",
    "result = None\n",
    "while list_paths:\n",
    "    current_path = list_paths.pop(0)\n",
    "    current_node = current_path[-1]\n",
    "    list_children = create_paths(current_node)\n",
    "    for a in list_children:\n",
    "        if check_termination(current_path + [a]) == True:\n",
    "            result = current_path + [a]\n",
    "            break\n",
    "        list_paths.append(current_path + [a])\n",
    "    if result != None:\n",
    "        break\n",
    "print(result)"
   ]
  },
  {
   "cell_type": "markdown",
   "metadata": {},
   "source": [
    "## Number of ways to catch fish"
   ]
  },
  {
   "cell_type": "code",
   "execution_count": null,
   "metadata": {},
   "outputs": [],
   "source": [
    "'''\n",
    "Input Description\n",
    "You will be given 4 integers, one per line, representing trout points, pike points, pickerel points, and \n",
    "total points allowed in that order.\n",
    "\n",
    "Sample Input\n",
    "1 2 3 2\n",
    "Sample Output\n",
    "1 Brown Trout, 0 Northern Pike, 0 Yellow Pickerel\n",
    "2 Brown Trout, 0 Northern Pike, 0 Yellow Pickerel\n",
    "0 Brown Trout, 1 Northern Pike, 0 Yellow Pickerel\n",
    "Number of ways to catch fish: 3\n",
    "'''"
   ]
  },
  {
   "cell_type": "code",
   "execution_count": 120,
   "metadata": {},
   "outputs": [
    {
     "name": "stdout",
     "output_type": "stream",
     "text": [
      "1 2 3 2\n",
      "1 2 3 2\n"
     ]
    }
   ],
   "source": [
    "str1 = input()\n",
    "list1 = str1.split(' ')\n",
    "list1 = [int(s) for s in list1]\n",
    "trout_worth = list1[0]\n",
    "pike_worth = list1[1]\n",
    "pickerel_worth = list1[2]\n",
    "max_points = list1[3]"
   ]
  },
  {
   "cell_type": "code",
   "execution_count": 138,
   "metadata": {},
   "outputs": [],
   "source": [
    "def create_fish(current_path):\n",
    "    fish_worth = 0\n",
    "    for k, x in enumerate(current_path):\n",
    "        if k == 0:\n",
    "            fish_worth += (trout_worth * x)\n",
    "        if k == 1:\n",
    "            fish_worth += (pike_worth * x)\n",
    "        else:\n",
    "            fish_worth += (pickerel_worth * x)\n",
    "    left = max_points - fish_worth\n",
    "    print(left)\n",
    "    list1 = []\n",
    "    if left - trout_worth >= 0:\n",
    "        list1.append(0)\n",
    "    if left - pike_worth >= 0:\n",
    "         list1.append(1)\n",
    "    if left - pickerel_worth >= 0:\n",
    "        list1.append(2)\n",
    "    if list1 == []:\n",
    "        return [0]\n",
    "    print(list1)\n",
    "    return list1"
   ]
  },
  {
   "cell_type": "code",
   "execution_count": 141,
   "metadata": {},
   "outputs": [
    {
     "data": {
      "text/plain": [
       "[0, 1, 2]"
      ]
     },
     "execution_count": 141,
     "metadata": {},
     "output_type": "execute_result"
    }
   ],
   "source": [
    "create_fish([])"
   ]
  },
  {
   "cell_type": "code",
   "execution_count": 161,
   "metadata": {},
   "outputs": [
    {
     "name": "stdout",
     "output_type": "stream",
     "text": [
      "jjjj\n",
      "[]\n",
      "[0, 1, 2]\n",
      "[[0], [1], [2]]\n",
      "*****\n",
      "jjjj\n",
      "[0]\n",
      "kkkkk\n",
      "[0] 0 [0, 0]\n"
     ]
    },
    {
     "ename": "TypeError",
     "evalue": "object of type 'int' has no len()",
     "output_type": "error",
     "traceback": [
      "\u001b[0;31m---------------------------------------------------------------------------\u001b[0m",
      "\u001b[0;31mTypeError\u001b[0m                                 Traceback (most recent call last)",
      "\u001b[0;32m<ipython-input-161-4f4a0fd5f496>\u001b[0m in \u001b[0;36m<module>\u001b[0;34m\u001b[0m\n\u001b[1;32m     45\u001b[0m         \u001b[0mprint\u001b[0m\u001b[0;34m(\u001b[0m\u001b[0;34m'kkkkk'\u001b[0m\u001b[0;34m)\u001b[0m\u001b[0;34m\u001b[0m\u001b[0;34m\u001b[0m\u001b[0m\n\u001b[1;32m     46\u001b[0m         \u001b[0mprint\u001b[0m\u001b[0;34m(\u001b[0m\u001b[0mcurrent\u001b[0m\u001b[0;34m,\u001b[0m \u001b[0mx\u001b[0m\u001b[0;34m,\u001b[0m \u001b[0mpath\u001b[0m\u001b[0;34m)\u001b[0m\u001b[0;34m\u001b[0m\u001b[0;34m\u001b[0m\u001b[0m\n\u001b[0;32m---> 47\u001b[0;31m         \u001b[0;32mif\u001b[0m \u001b[0mcheck_termination\u001b[0m\u001b[0;34m(\u001b[0m\u001b[0mpath\u001b[0m\u001b[0;34m)\u001b[0m\u001b[0;34m:\u001b[0m\u001b[0;34m\u001b[0m\u001b[0;34m\u001b[0m\u001b[0m\n\u001b[0m\u001b[1;32m     48\u001b[0m             \u001b[0mresults\u001b[0m\u001b[0;34m.\u001b[0m\u001b[0mappend\u001b[0m\u001b[0;34m(\u001b[0m\u001b[0mpath\u001b[0m\u001b[0;34m)\u001b[0m\u001b[0;34m\u001b[0m\u001b[0;34m\u001b[0m\u001b[0m\n\u001b[1;32m     49\u001b[0m         \u001b[0;32melse\u001b[0m\u001b[0;34m:\u001b[0m\u001b[0;34m\u001b[0m\u001b[0;34m\u001b[0m\u001b[0m\n",
      "\u001b[0;32m<ipython-input-161-4f4a0fd5f496>\u001b[0m in \u001b[0;36mcheck_termination\u001b[0;34m(list_paths)\u001b[0m\n\u001b[1;32m     19\u001b[0m     \u001b[0mlist_1\u001b[0m \u001b[0;34m=\u001b[0m \u001b[0;34m[\u001b[0m\u001b[0;34m]\u001b[0m\u001b[0;34m\u001b[0m\u001b[0;34m\u001b[0m\u001b[0m\n\u001b[1;32m     20\u001b[0m     \u001b[0;32mfor\u001b[0m \u001b[0mx\u001b[0m \u001b[0;32min\u001b[0m \u001b[0mlist_paths\u001b[0m\u001b[0;34m:\u001b[0m\u001b[0;34m\u001b[0m\u001b[0;34m\u001b[0m\u001b[0m\n\u001b[0;32m---> 21\u001b[0;31m         \u001b[0mlist_1\u001b[0m\u001b[0;34m.\u001b[0m\u001b[0mappend\u001b[0m\u001b[0;34m(\u001b[0m\u001b[0mlen\u001b[0m\u001b[0;34m(\u001b[0m\u001b[0mx\u001b[0m\u001b[0;34m)\u001b[0m\u001b[0;34m)\u001b[0m\u001b[0;34m\u001b[0m\u001b[0;34m\u001b[0m\u001b[0m\n\u001b[0m\u001b[1;32m     22\u001b[0m     \u001b[0;32mif\u001b[0m \u001b[0msum\u001b[0m\u001b[0;34m(\u001b[0m\u001b[0mlist_1\u001b[0m\u001b[0;34m)\u001b[0m\u001b[0;34m==\u001b[0m\u001b[0mlen\u001b[0m\u001b[0;34m(\u001b[0m\u001b[0mlist_1\u001b[0m\u001b[0;34m)\u001b[0m\u001b[0;34m*\u001b[0m\u001b[0;36m3\u001b[0m\u001b[0;34m:\u001b[0m\u001b[0;34m\u001b[0m\u001b[0;34m\u001b[0m\u001b[0m\n\u001b[1;32m     23\u001b[0m         \u001b[0;32mreturn\u001b[0m \u001b[0;32mTrue\u001b[0m\u001b[0;34m\u001b[0m\u001b[0;34m\u001b[0m\u001b[0m\n",
      "\u001b[0;31mTypeError\u001b[0m: object of type 'int' has no len()"
     ]
    }
   ],
   "source": [
    "def create_fish(current_path):\n",
    "    print('jjjj')\n",
    "    print(current_path)\n",
    "    fish_worth = 0\n",
    "    for k, x in enumerate(current_path):\n",
    "        if k == 0:\n",
    "            fish_worth += (trout_worth * x)\n",
    "        if k == 1:\n",
    "            fish_worth += (pike_worth * x)\n",
    "        else:\n",
    "            fish_worth += (pickerel_worth * x)\n",
    "    left = max_points - fish_worth\n",
    "    list1 = []\n",
    "    next_fish_id = len(current_path)+1\n",
    "    max_num_finshes = int(left/fish_worths[next_fish_id-1])\n",
    "    return list(range(0, max_num_finshes+1))\n",
    "\n",
    "def check_termination(list_paths):\n",
    "    list_1 = []\n",
    "    for x in list_paths:\n",
    "        list_1.append(len(x))\n",
    "    if sum(list_1)==len(list_1)*3:\n",
    "        return True\n",
    "    return False\n",
    "\n",
    "trout_worth = 1\n",
    "pike_worth = 2\n",
    "pickerel_worth = 3\n",
    "fish_worths = [trout_worth, pike_worth, pickerel_worth]\n",
    "max_points = 2\n",
    "results = []\n",
    "list_paths = []\n",
    "list_fishes = create_fish([])\n",
    "print(list_fishes)\n",
    "for s in list_fishes:\n",
    "    list_paths.append([s])\n",
    "print(list_paths)\n",
    "print('*****')\n",
    "while list_paths:\n",
    "    current_path = list_paths.pop(0)\n",
    "    current_node = current_path[-1]\n",
    "    list_children = create_fish(current_path)\n",
    "    for x in list_children:\n",
    "        path = current + [x]\n",
    "        print('kkkkk')\n",
    "        print(current, x, path)\n",
    "        if check_termination(path):\n",
    "            results.append(path)\n",
    "        else:\n",
    "            list_paths.append(path)\n",
    "print(results) "
   ]
  },
  {
   "cell_type": "markdown",
   "metadata": {},
   "source": [
    "## Dijkstra's Algorithm"
   ]
  },
  {
   "cell_type": "code",
   "execution_count": 5,
   "metadata": {},
   "outputs": [],
   "source": [
    "graph = {}\n",
    "graph['a'] = {}\n",
    "graph['a']['b'] = 10\n",
    "graph['a']['c'] = 3\n",
    "graph['b'] = {}\n",
    "graph['b']['c'] = 1\n",
    "graph['b']['d'] = 2\n",
    "graph['c'] = {}\n",
    "graph['c']['b'] = 4\n",
    "graph['c']['d'] = 8\n",
    "graph['c']['e'] = 2\n",
    "graph['d'] = {}\n",
    "graph['d']['e'] = 7\n",
    "graph['e'] = {}\n",
    "graph['e']['d'] = 9"
   ]
  },
  {
   "cell_type": "code",
   "execution_count": 6,
   "metadata": {},
   "outputs": [],
   "source": [
    "infinity = float('inf')\n",
    "costs = {}\n",
    "costs['a'] = 0\n",
    "costs['b'] = infinity\n",
    "costs['c'] = infinity\n",
    "costs['d'] = infinity\n",
    "costs['e'] = infinity\n",
    "parents = {}\n",
    "processed = []"
   ]
  },
  {
   "cell_type": "code",
   "execution_count": 7,
   "metadata": {},
   "outputs": [],
   "source": [
    "def find_lowest_cost_node(costs, processed):\n",
    "    list_pairs = costs.items()\n",
    "    list_valid_pairs = [s for s in list_pairs if s[0] not in processed]\n",
    "    if len(list_valid_pairs)>0:\n",
    "        lowest_cost_node = min(list_valid_pairs, key=lambda x: x[1])\n",
    "        return lowest_cost_node[0]\n",
    "    return None"
   ]
  },
  {
   "cell_type": "code",
   "execution_count": 9,
   "metadata": {},
   "outputs": [
    {
     "name": "stdout",
     "output_type": "stream",
     "text": [
      "{'a': 0, 'b': 7, 'c': 3, 'd': 9, 'e': 5}\n",
      "{'b': 'c', 'c': 'a', 'd': 'b', 'e': 'c'}\n",
      "['e', 'c', 'a']\n"
     ]
    }
   ],
   "source": [
    "node = find_lowest_cost_node(costs, processed)\n",
    "while node is not None:\n",
    "    cost = costs[node]\n",
    "    neighbours = graph[node]\n",
    "    for n in neighbours.keys():\n",
    "        new_cost = cost + neighbours[n]\n",
    "        if new_cost < costs[n]:\n",
    "            costs[n] = new_cost\n",
    "            parents[n] = node\n",
    "    processed.append(node)\n",
    "    node = find_lowest_cost_node(costs, processed)\n",
    "list1 = ['e']\n",
    "x = 'e'\n",
    "while x != 'a':\n",
    "    list1.append(parents[x])\n",
    "    x = parents[x]\n",
    "print(costs)\n",
    "print(parents)\n",
    "print(list1)"
   ]
  },
  {
   "cell_type": "code",
   "execution_count": 10,
   "metadata": {},
   "outputs": [],
   "source": [
    "def min_cost(start, end, graph):\n",
    "    costs = {}\n",
    "    list_nodes = graph.keys()\n",
    "    for x in list_nodes:\n",
    "        if x != start:\n",
    "            costs[x] = float('inf')\n",
    "    costs[start] = 0\n",
    "    parents = {}\n",
    "    processed = []   \n",
    "    node = find_lowest_cost_node(costs, processed)\n",
    "    while node is not None:\n",
    "        cost = costs[node]\n",
    "        neighbours = graph[node]\n",
    "        for n in neighbours.keys():\n",
    "            new_cost = cost + neighbours[n]\n",
    "            if new_cost < costs[n]:\n",
    "                costs[n] = new_cost\n",
    "                parents[n] = node\n",
    "        processed.append(node)\n",
    "        node = find_lowest_cost_node(costs, processed)\n",
    "    return costs[end]"
   ]
  },
  {
   "cell_type": "code",
   "execution_count": 11,
   "metadata": {},
   "outputs": [
    {
     "name": "stdout",
     "output_type": "stream",
     "text": [
      "{'b': 7, 'c': 3, 'd': 9, 'e': 5, 'a': 0}\n"
     ]
    },
    {
     "data": {
      "text/plain": [
       "5"
      ]
     },
     "execution_count": 11,
     "metadata": {},
     "output_type": "execute_result"
    }
   ],
   "source": [
    "min_cost('a', 'e', graph)"
   ]
  },
  {
   "cell_type": "markdown",
   "metadata": {},
   "source": [
    "## prim's algorithm"
   ]
  },
  {
   "cell_type": "code",
   "execution_count": 173,
   "metadata": {},
   "outputs": [
    {
     "name": "stdout",
     "output_type": "stream",
     "text": [
      "11\n",
      "['A', 'C', 'E', 'B', 'D']\n",
      "{'C': 'A', 'E': 'C', 'B': 'C', 'D': 'B'}\n"
     ]
    }
   ],
   "source": [
    "graph = {}\n",
    "graph['A'] = {}\n",
    "graph['A']['B'] = 10\n",
    "graph['A']['C'] = 3\n",
    "graph['B'] = {}\n",
    "graph['B']['C'] = 1\n",
    "graph['B']['D'] = 2\n",
    "graph['C'] = {}\n",
    "graph['C']['B'] = 4\n",
    "graph['C']['D'] = 8\n",
    "graph['C']['E'] = 2\n",
    "graph['D'] = {}\n",
    "graph['D']['E'] = 7\n",
    "graph['E'] = {}\n",
    "graph['E']['D'] = 9\n",
    "parents = {}\n",
    "visited = ['A']\n",
    "\n",
    "def min_cost_neighbour(graph, visited_nodes):\n",
    "    min_cost = float('inf')\n",
    "    min_node = None\n",
    "    for x in visited_nodes:\n",
    "        for y in graph[x].keys():\n",
    "            if graph[x][y] < min_cost and y not in visited_nodes:\n",
    "                min_cost = graph[x][y]\n",
    "                min_node_start = x\n",
    "                min_node_end = y\n",
    "    return (min_node_start, min_node_end)\n",
    "\n",
    "\n",
    "def prim(graph):\n",
    "    while len(visited) != len(graph.keys()):\n",
    "        min_node_start, min_node_end = min_cost_neighbour(graph, visited)\n",
    "        visited.append(min_node_end)\n",
    "        parents[min_node_end] = min_node_start\n",
    "    s = 0\n",
    "    for k, v in parents.items():\n",
    "        s += graph[v][k]\n",
    "    return s\n",
    "print(prim(graph))\n",
    "print(visited)\n",
    "print(parents)"
   ]
  },
  {
   "cell_type": "code",
   "execution_count": null,
   "metadata": {},
   "outputs": [],
   "source": []
  },
  {
   "cell_type": "markdown",
   "metadata": {},
   "source": [
    "## Use the framework to find the shortest path for a network (Please copy the framework to specific solution as starting point)"
   ]
  },
  {
   "cell_type": "code",
   "execution_count": 343,
   "metadata": {},
   "outputs": [
    {
     "name": "stdout",
     "output_type": "stream",
     "text": [
      "['A', 'C', 'E', 'F']\n"
     ]
    }
   ],
   "source": [
    "def discover_children(current_node):\n",
    "    list1 = graph[current_node]\n",
    "    return list1\n",
    "\n",
    "def check_termination(path):\n",
    "    if path[-1] == 'F':\n",
    "        return True\n",
    "    return False\n",
    "\n",
    "graph = {'A':['B', 'C'], 'B':['C','D'], 'C':['E'], 'D':['E', 'F'], 'E':['F']}\n",
    "list_visited = []\n",
    "list_paths = []\n",
    "start_node = 'A'\n",
    "list_paths.append([start_node])\n",
    "final_path = []\n",
    "\n",
    "while list_paths:\n",
    "    current_path = list_paths.pop(0)\n",
    "    current_node = current_path[-1]\n",
    "    if current_node not in list_visited:\n",
    "        list_visited.append(current_node)\n",
    "        list_children = discover_children(current_node)\n",
    "\n",
    "        for c in list_children:\n",
    "            path = current_path + [c]\n",
    "            if check_termination(path):\n",
    "                final_path = path\n",
    "                break\n",
    "            else:\n",
    "                list_paths.append(path)  \n",
    "if final_path == []:\n",
    "    print('Did not find F')\n",
    "else:\n",
    "    print(final_path)"
   ]
  },
  {
   "cell_type": "code",
   "execution_count": 272,
   "metadata": {},
   "outputs": [
    {
     "name": "stdout",
     "output_type": "stream",
     "text": [
      "[['A']]\n",
      "[['A', 'B'], ['A', 'C']]\n",
      "[['A', 'C'], ['A', 'B', 'C'], ['A', 'B', 'D']]\n",
      "['A', 'C', 'E']\n"
     ]
    }
   ],
   "source": [
    "# function to discover the children of the current node\n",
    "def discover_children(current_node, graph):\n",
    "    list_children = graph[current_node]\n",
    "    return list_children\n",
    "\n",
    "# function to check if termination is reached\n",
    "def check_termination(path):\n",
    "    if path[-1] == 'E':\n",
    "        return True\n",
    "    return False\n",
    "\n",
    "# initialization\n",
    "graph = {'A':['B', 'C'], 'B':['C','D'], 'C':['D', 'E'], 'D':['E'], 'E': []}\n",
    "list_visited = []\n",
    "list_paths = [] # the queue\n",
    "start_node = 'A'\n",
    "list_paths.append([start_node])\n",
    "final_path = []\n",
    "test = 0\n",
    "\n",
    "while list_paths:\n",
    "    print(list_paths)\n",
    "    # step 1: pop the first path from the list_paths\n",
    "    current_path = list_paths.pop(0)\n",
    "    current_node = current_path[-1]\n",
    "    # check if the current node has been visited\n",
    "    if current_node not in list_visited:\n",
    "        list_visited.append(current_node)\n",
    "        # step 2: discover the children of the current node\n",
    "        list_children = discover_children(current_node, graph)\n",
    "\n",
    "        # extend the current path by adding the child\n",
    "        for c in list_children:\n",
    "            path = current_path + [c]\n",
    "            # step 3: check if the task is completed\n",
    "            if check_termination(path):\n",
    "                final_path = path\n",
    "                test += 1\n",
    "                break\n",
    "            else:\n",
    "                # append the path to the path queue\n",
    "                list_paths.append(path)  \n",
    "        if test == 1:\n",
    "            break\n",
    "if final_path == []:\n",
    "    print('Did not find E')\n",
    "else:\n",
    "    print(final_path)"
   ]
  },
  {
   "cell_type": "code",
   "execution_count": 23,
   "metadata": {},
   "outputs": [
    {
     "name": "stdout",
     "output_type": "stream",
     "text": [
      "['A', 'B', 'B']\n"
     ]
    }
   ],
   "source": [
    "print(current_path)\n",
    "current_path.append(c)"
   ]
  },
  {
   "cell_type": "code",
   "execution_count": 54,
   "metadata": {},
   "outputs": [
    {
     "data": {
      "text/plain": [
       "True"
      ]
     },
     "execution_count": 54,
     "metadata": {},
     "output_type": "execute_result"
    }
   ],
   "source": [
    "'blueberry' in ['blueberry', 'pear']"
   ]
  },
  {
   "cell_type": "code",
   "execution_count": 59,
   "metadata": {},
   "outputs": [
    {
     "name": "stdout",
     "output_type": "stream",
     "text": [
      "['A', 'C', 'E']\n"
     ]
    }
   ],
   "source": [
    "def discover_children(current_node):\n",
    "    list1 = graph[current_node][0]\n",
    "    return list1\n",
    "\n",
    "def check_termination(path):\n",
    "    last_node = path[-1]\n",
    "    if 'blueberry' in graph[last_node][1]:\n",
    "        return True\n",
    "    return False\n",
    "\n",
    "graph = {'A':[['B', 'C'], ['apple']], \n",
    "         'B':[['C','D'], ['pear', 'apple']], \n",
    "         'C':[['E'], ['tomato', 'apple']], \n",
    "         'D':[['B', 'E', 'F'], ['grape', 'pear']], \n",
    "         'E':[['F'], ['blueberry', 'pear']], \n",
    "         'F':[[], ['strawberry', 'apple']]}\n",
    "list_visited = []\n",
    "list_paths = []\n",
    "start_node = 'A'\n",
    "list_paths.append([start_node])\n",
    "final_path = []\n",
    "is_done = 0\n",
    "while list_paths:\n",
    "    current_path = list_paths.pop(0)\n",
    "    current_node = current_path[-1]\n",
    "    if current_node not in list_visited:\n",
    "        list_visited.append(current_node)\n",
    "        list_children = discover_children(current_node)\n",
    "\n",
    "        for c in list_children:\n",
    "            path = current_path + [c]\n",
    "            if check_termination(path):\n",
    "                final_path = path\n",
    "                is_done += 1\n",
    "                break\n",
    "            else:\n",
    "                list_paths.append(path)  \n",
    "    if is_done == 1:\n",
    "        break\n",
    "if final_path == []:\n",
    "    print('Did not find blueberry')\n",
    "else:\n",
    "    print(final_path)"
   ]
  },
  {
   "cell_type": "markdown",
   "metadata": {},
   "source": [
    "## Graph traversal algorithm to solve N-queens problem"
   ]
  },
  {
   "cell_type": "code",
   "execution_count": null,
   "metadata": {},
   "outputs": [],
   "source": [
    "# for example, N=4, we need to find a solution vector = [1, 3, 0, 2]"
   ]
  },
  {
   "cell_type": "markdown",
   "metadata": {},
   "source": [
    "## Minimum spaning tree (MST) - prim's algorithm\n",
    "https://www.youtube.com/watch?v=MaaSoZUEoos\n"
   ]
  },
  {
   "cell_type": "code",
   "execution_count": null,
   "metadata": {},
   "outputs": [],
   "source": [
    "# step-1: using embeded dict to represent a undirectional weighted graph\n",
    "\n",
    "# step 2: define a function to find the min-cost neighbor which has not been visited from a list of the nodes: input: a list of nodes, output: start-node, end-node, link-cost\n",
    "\n",
    "# step-3: define a function, input: a graph dict, output: visited_nodes, parents\n"
   ]
  },
  {
   "cell_type": "code",
   "execution_count": 171,
   "metadata": {},
   "outputs": [
    {
     "name": "stdout",
     "output_type": "stream",
     "text": [
      "11\n",
      "['A', 'C', 'E', 'B', 'D']\n",
      "{'C': 'A', 'E': 'C', 'B': 'C', 'D': 'B'}\n"
     ]
    }
   ],
   "source": [
    "graph = {}\n",
    "graph['A'] = {}\n",
    "graph['A']['B'] = 10\n",
    "graph['A']['C'] = 3\n",
    "graph['B'] = {}\n",
    "graph['B']['C'] = 1\n",
    "graph['B']['D'] = 2\n",
    "graph['C'] = {}\n",
    "graph['C']['B'] = 4\n",
    "graph['C']['D'] = 8\n",
    "graph['C']['E'] = 2\n",
    "graph['D'] = {}\n",
    "graph['D']['E'] = 7\n",
    "graph['E'] = {}\n",
    "graph['E']['D'] = 9\n",
    "parents = {}\n",
    "visited = ['A']\n",
    "\n",
    "def min_cost_neighbour(graph, visited_nodes):\n",
    "    min_cost = float('inf')\n",
    "    min_node = None\n",
    "    for x in visited_nodes:\n",
    "        for y in graph[x].keys():\n",
    "            if graph[x][y] < min_cost and y not in visited_nodes:\n",
    "                min_cost = graph[x][y]\n",
    "                min_node_start = x\n",
    "                min_node_end = y\n",
    "    return (min_node_start, min_node_end)\n",
    "\n",
    "\n",
    "def prim(graph):\n",
    "    while len(visited) != len(graph.keys()):\n",
    "        min_node_start, min_node_end = min_cost_neighbour(graph, visited)\n",
    "        visited.append(min_node_end)\n",
    "        parents[min_node_end] = min_node_start\n",
    "    s = 0\n",
    "    for k, v in parents.items():\n",
    "        s += graph[v][k]\n",
    "    return s\n",
    "print(prim(graph))\n",
    "print(visited)\n",
    "print(parents)"
   ]
  },
  {
   "cell_type": "markdown",
   "metadata": {},
   "source": [
    "## Depth first search (DFS)\n",
    "https://www.youtube.com/watch?v=tlPuVe5Otio\n",
    "https://www.youtube.com/watch?v=FvGCzzfdOLw\n",
    "https://stackoverflow.com/questions/43430309/depth-first-search-dfs-code-in-python"
   ]
  },
  {
   "cell_type": "code",
   "execution_count": 132,
   "metadata": {
    "scrolled": true
   },
   "outputs": [
    {
     "name": "stdout",
     "output_type": "stream",
     "text": [
      "['A', 'B', 'F', 'G', 'C', 'J', 'I', 'H', 'D', 'E']\n",
      "{'A': None, 'B': 'A', 'F': 'B', 'G': 'F', 'C': 'G', 'J': 'G', 'I': 'F', 'H': 'I', 'D': 'H', 'E': 'D'}\n",
      "A to B\n",
      "B to F\n",
      "F to G\n",
      "G to C\n",
      "G to J\n",
      "F to I\n",
      "I to H\n",
      "H to D\n",
      "D to E\n"
     ]
    }
   ],
   "source": [
    "graph = {\n",
    "    'A' : ['B','E'],\n",
    "    'B' : ['A','F'],\n",
    "    'C' : ['G'],\n",
    "    'D' : ['E','H'],\n",
    "    'E' : ['A','D','H'],\n",
    "    'F' : ['B','G','I'],\n",
    "    'G' : ['C','F','J'],\n",
    "    'H' : ['D','E','I'],\n",
    "    'I' : ['F','H'],\n",
    "    'J' : ['F', 'G']\n",
    "}\n",
    "\n",
    "visited = []\n",
    "def dfs(node):\n",
    "    if node not in visited:\n",
    "        visited.append(node)\n",
    "        for child in graph[node]:\n",
    "            dfs(child)\n",
    "dfs('A')\n",
    "print(visited)\n",
    "parents={}\n",
    "for k, x in enumerate(visited):\n",
    "    sublist1 = visited[:k][::-1]\n",
    "    if len(sublist1) == 0:\n",
    "        parents[x] = None\n",
    "    for a in sublist1:\n",
    "        if x in graph[a]:\n",
    "            parents[x] = a\n",
    "            break\n",
    "    \n",
    "print(parents)\n",
    "for k, node in enumerate(visited):\n",
    "    if k>0:\n",
    "        p = parents[node]\n",
    "        print(p, 'to', node)"
   ]
  },
  {
   "cell_type": "markdown",
   "metadata": {},
   "source": [
    "## Topological sort\n",
    "https://www.youtube.com/watch?v=eL-KzMXSXXI&t=358s\n",
    "https://www.youtube.com/watch?v=HyVI8-nHgEg"
   ]
  },
  {
   "cell_type": "code",
   "execution_count": 133,
   "metadata": {},
   "outputs": [],
   "source": [
    "graph = {\n",
    "    'A' : ['D'],\n",
    "    'B' : ['D'],\n",
    "    'C' : ['A', 'B'],\n",
    "    'D' : ['G','H'],\n",
    "    'E' : ['A','D','F'],\n",
    "    'F' : ['J','K'],\n",
    "    'G' : ['I'],\n",
    "    'H' : ['I','J'],\n",
    "    'I' : ['L'],\n",
    "    'J' : ['L', 'M'],\n",
    "    'K' : ['J'],\n",
    "    'L' : [],\n",
    "    'M' : []\n",
    "}"
   ]
  },
  {
   "cell_type": "code",
   "execution_count": 137,
   "metadata": {},
   "outputs": [
    {
     "name": "stdout",
     "output_type": "stream",
     "text": [
      "A\n",
      "['A', 'D', 'G', 'I', 'L', 'H', 'J', 'M']\n",
      "B\n",
      "['B']\n",
      "C\n",
      "['C']\n",
      "E\n",
      "['E', 'F', 'K']\n",
      "['E', 'F', 'K', 'C', 'B', 'A', 'D', 'G', 'I', 'L', 'H', 'J', 'M']\n"
     ]
    }
   ],
   "source": [
    "global_visited = []\n",
    "list_r = []\n",
    "def dfs(node):\n",
    "    if node not in global_visited:\n",
    "        visited.append(node)\n",
    "        global_visited.append(node)\n",
    "        for child in graph[node]:\n",
    "            dfs(child)\n",
    "\n",
    "for node in graph.keys():\n",
    "    if node not in global_visited:\n",
    "        print(node)\n",
    "        visited = []\n",
    "        dfs(node)\n",
    "        list_r.append(visited)\n",
    "        print(visited)\n",
    "list1 = []\n",
    "for a in list_r[::-1]:\n",
    "    for x in a:\n",
    "        list1.append(x)\n",
    "print(list1)"
   ]
  },
  {
   "cell_type": "markdown",
   "metadata": {},
   "source": [
    "## Detect cycle in Directed Graph using Topological Sort\n",
    "\n",
    "Last Updated: 23-11-2020\n",
    "Given a Directed Graph consisting of N vertices and M edges and a set of Edges[][], the task is to check whether the graph contains a cycle or not using Topological sort.\n",
    "\n",
    "Topological sort of directed graph is a linear ordering of its vertices such that, for every directed edge U -> V from vertex U to vertex V, U comes before V in the ordering. \n",
    " \n",
    "Examples: \n",
    "\n",
    "Input: N = 4, M = 6, Edges[][] = {{0, 1}, {1, 2}, {2, 0}, {0, 2}, {2, 3}, {3, 3}} \n",
    "Output: Yes \n",
    "Explanation: \n",
    "A cycle 0 -> 2 -> 0 exists in the given graph\n",
    "\n",
    "Input: N = 4, M = 3, Edges[][] = {{0, 1}, {1, 2}, {2, 3}, {0, 2}} \n",
    "Output: No "
   ]
  },
  {
   "cell_type": "code",
   "execution_count": 151,
   "metadata": {},
   "outputs": [
    {
     "name": "stdout",
     "output_type": "stream",
     "text": [
      "{'B': ['C'], 'A': ['B', 'C'], 'C': ['D'], 'D': []}\n"
     ]
    }
   ],
   "source": [
    "list_of_lists = [['A', 'B'], ['B', 'C'], ['C', 'D'], ['A', 'C']]\n",
    "graph = {}\n",
    "list_nodes = []\n",
    "for x in list_of_lists:\n",
    "    list_nodes += x\n",
    "list_nodes = list(set(list_nodes))\n",
    "for node in list_nodes:\n",
    "    graph[node] = []\n",
    "for x in list_of_lists:\n",
    "    starting = x[0]\n",
    "    ending = x[1]\n",
    "    graph[starting].append(ending)\n",
    "print(graph)"
   ]
  },
  {
   "cell_type": "code",
   "execution_count": 152,
   "metadata": {},
   "outputs": [
    {
     "name": "stdout",
     "output_type": "stream",
     "text": [
      "B\n",
      "['B', 'C', 'D']\n",
      "A\n",
      "['A']\n",
      "['A', 'B', 'C', 'D']\n",
      "No\n"
     ]
    }
   ],
   "source": [
    "hi = 0\n",
    "global_visited = []\n",
    "list_r = []\n",
    "def dfs(node):\n",
    "    if node not in global_visited:\n",
    "        visited.append(node)\n",
    "        global_visited.append(node)\n",
    "        for child in graph[node]:\n",
    "            dfs(child)\n",
    "\n",
    "for node in graph.keys():\n",
    "    if node not in global_visited:\n",
    "        print(node)\n",
    "        visited = []\n",
    "        dfs(node)\n",
    "        list_r.append(visited)\n",
    "        print(visited)\n",
    "list1 = []\n",
    "for a in list_r[::-1]:\n",
    "    for x in a:\n",
    "        list1.append(x)\n",
    "print(list1)\n",
    "for edge in list_of_lists:\n",
    "    starting = edge[0]\n",
    "    ending = edge[1]\n",
    "    if list1.index(starting) > list1.index(ending):\n",
    "        print('Yes')\n",
    "        hi += 1\n",
    "        break\n",
    "if hi == 0:\n",
    "    print('No')"
   ]
  },
  {
   "cell_type": "markdown",
   "metadata": {},
   "source": [
    "## Check whether a given graph is Bipartite or not\n",
    "\n",
    "A Bipartite Graph is a graph whose vertices can be divided into two independent sets, U and V such that every edge (u, v) either connects a vertex from U to V or a vertex from V to U. In other words, for every edge (u, v), either u belongs to U and v to V, or u belongs to V and v to U. We can also say that there is no edge that connects vertices of same set."
   ]
  },
  {
   "cell_type": "code",
   "execution_count": 184,
   "metadata": {},
   "outputs": [
    {
     "name": "stdout",
     "output_type": "stream",
     "text": [
      "['B', 'G', 'I', 'D']\n",
      "['A', 'F', 'C', 'J', 'H', 'E']\n",
      "No\n"
     ]
    }
   ],
   "source": [
    "graph = {\n",
    "    'A' : ['B','E'],\n",
    "    'B' : ['A','F'],\n",
    "    'C' : ['G'],\n",
    "    'D' : ['E','H'],\n",
    "    'E' : ['A','D','H'],\n",
    "    'F' : ['B','G','I'],\n",
    "    'G' : ['C','F','J'],\n",
    "    'H' : ['D','E','I'],\n",
    "    'I' : ['F','H'],\n",
    "    'J' : ['F', 'G']\n",
    "}\n",
    "visited = []\n",
    "def dfs(node):\n",
    "    if node not in visited:\n",
    "        visited.append(node)\n",
    "        for x in graph[node]:\n",
    "            dfs(x)\n",
    "dfs('A')\n",
    "parents = {}\n",
    "for k, x in enumerate(visited):\n",
    "    sublist = visited[:k][::-1]\n",
    "    if len(sublist) == 0:\n",
    "        parents[x] = None\n",
    "    for a in sublist:\n",
    "        if x in graph[a]:\n",
    "            parents[x] = a\n",
    "            break\n",
    "list_of_blue = [visited[0]]\n",
    "list_of_red = []\n",
    "for node in visited[1:]:\n",
    "    starting = parents[node]\n",
    "    ending = node\n",
    "    list_of_blue = [visited[0]]\n",
    "    list_of_red = []\n",
    "    for node in visited[1:]:\n",
    "        starting = parents[node]\n",
    "        ending = node\n",
    "        if starting in list_of_blue:\n",
    "            if ending in list_of_blue:\n",
    "                break\n",
    "            if ending not in list_of_red:\n",
    "                list_of_red.append(ending)\n",
    "        if starting in list_of_red:\n",
    "            if ending in list_of_red:\n",
    "                break\n",
    "            if ending not in list_of_blue:\n",
    "                list_of_blue.append(ending)\n",
    "print(list_of_red)\n",
    "print(list_of_blue)\n",
    "\n",
    "# verify\n",
    "# for node in visited[1:]:\n",
    "#     starting = parents[node]\n",
    "#     ending = node\n",
    "#     if starting in list_of_red:\n",
    "#         starting = 'red'\n",
    "for x in graph.keys():\n",
    "    hi = 0\n",
    "    for y in graph[x]:\n",
    "        if (x in list_of_blue and y in list_of_blue) or (x in list_of_red and y in list_of_red):\n",
    "            print('No')\n",
    "            hi = 1\n",
    "            break\n",
    "    if hi == 1:\n",
    "        break\n",
    "if hi == 0:\n",
    "    print('Yes')"
   ]
  },
  {
   "cell_type": "markdown",
   "metadata": {},
   "source": [
    "## Dynamic programming framework"
   ]
  },
  {
   "cell_type": "code",
   "execution_count": 18,
   "metadata": {},
   "outputs": [
    {
     "name": "stdout",
     "output_type": "stream",
     "text": [
      "{'max_value': 6, 'optimal_solurion': ['a', 'a']}\n"
     ]
    }
   ],
   "source": [
    "print(dict_solution[2])"
   ]
  },
  {
   "cell_type": "code",
   "execution_count": 64,
   "metadata": {},
   "outputs": [
    {
     "name": "stdout",
     "output_type": "stream",
     "text": [
      "Current capacity: 1\n",
      "Current capacity: 2\n",
      "Current capacity: 3\n",
      "Current capacity: 4\n",
      "Current capacity: 5\n",
      "Current capacity: 6\n",
      "Current capacity: 7\n",
      "Current capacity: 8\n",
      "{'max_value': 24, 'optimal_solution': ['a', 'a', 'a', 'a', 'a', 'a', 'a', 'a']}\n"
     ]
    }
   ],
   "source": [
    "# initialization\n",
    "# components: each component occupies a capacity and creates a value\n",
    "dict_components = {}\n",
    "dict_components['a'] = {}\n",
    "dict_components['a']['capacity'] = 1\n",
    "dict_components['a']['value'] = 3\n",
    "dict_components['b'] = {}\n",
    "dict_components['b']['capacity'] = 2\n",
    "dict_components['b']['value'] = 5\n",
    "dict_components['c'] = {}\n",
    "dict_components['c']['capacity'] = 3\n",
    "dict_components['c']['value'] = 7\n",
    "# capacity units\n",
    "tot_capacity = 8\n",
    "# dict optimal-solution\n",
    "dict_solution = {}\n",
    "# the optimal solution at capacity 0\n",
    "dict_solution[0] = {}\n",
    "dict_solution[0]['max_value'] = 0\n",
    "dict_solution[0]['optimal_solution'] = []\n",
    "\n",
    "def find_best_single_component(capacity, dict_components):\n",
    "    max_value = -1\n",
    "    best_component = None\n",
    "    for key in dict_components.keys():\n",
    "        if capacity >= dict_components[key]['capacity']:\n",
    "            if dict_components[key]['value'] > max_value:\n",
    "                max_value = dict_components[key]['value']\n",
    "                best_component = key\n",
    "    return best_component, max_value\n",
    "\n",
    "# find the optimal solution for the n-th step\n",
    "for current_cap in range(1, tot_capacity + 1):\n",
    "    print('Current capacity: {}'.format(current_cap))\n",
    "    # iterate over the previous capcities\n",
    "    list_solutions = []\n",
    "    for prev_cap in range(current_cap):\n",
    "        max_value = dict_solution[prev_cap]['max_value']\n",
    "        opt_solution = dict_solution[prev_cap]['optimal_solution']\n",
    "        remaining_cap = current_cap - prev_cap\n",
    "        # the best single component fit with the remaining capacity\n",
    "        remaining_best_component, remaining_max_value = find_best_single_component(\n",
    "            remaining_cap, dict_components)\n",
    "        if remaining_max_value > 0:\n",
    "            max_value = max_value + remaining_max_value\n",
    "            opt_solution = opt_solution + [remaining_best_component]\n",
    "        list_solutions.append((max_value, opt_solution)) \n",
    "    # update dict optal-solution\n",
    "    list_solutions = sorted(list_solutions, key = lambda x: x[0], reverse = True)\n",
    "    dict_solution[current_cap] = {}\n",
    "    dict_solution[current_cap]['max_value'] = list_solutions[0][0]\n",
    "    dict_solution[current_cap]['optimal_solution'] = list_solutions[0][1] \n",
    "print(dict_solution[tot_capacity])"
   ]
  },
  {
   "cell_type": "markdown",
   "metadata": {},
   "source": [
    "### Practice: find the best single component that fit with the current capacity. \n",
    "We have three items: 1) ipad: value=1000, weight=2 lbs, 2) iphone, value = 600, weight=1 lb, 3) laptop, value=1500, weight=4 lbs. define a function: input: the avilable capacity in lbs, output: (best_item, max_value) for a single item that fit into the capacity"
   ]
  },
  {
   "cell_type": "code",
   "execution_count": 141,
   "metadata": {},
   "outputs": [
    {
     "data": {
      "text/plain": [
       "'laptop'"
      ]
     },
     "execution_count": 141,
     "metadata": {},
     "output_type": "execute_result"
    }
   ],
   "source": [
    "value = {}\n",
    "value['ipad'] = 1000\n",
    "value['iphone'] = 400\n",
    "value['laptop'] = 1500\n",
    "weight = {}\n",
    "weight['ipad'] = 2\n",
    "weight['iphone'] = 1\n",
    "weight['laptop'] = 4\n",
    "def best_single_component(capacity):\n",
    "    dict1 = value.copy()\n",
    "    while dict1:\n",
    "        max_value = max(dict1.values())\n",
    "        for x in dict1.keys():\n",
    "            if value[x] == max_value:\n",
    "                max_value_key = x\n",
    "                break\n",
    "        if capacity >= weight[max_value_key]:\n",
    "            return max_value_key\n",
    "        dict1.pop(max_value_key)\n",
    "    return None\n",
    "best_single_component(4)"
   ]
  },
  {
   "cell_type": "markdown",
   "metadata": {},
   "source": [
    "### Practice: when the knapsack can hold 1 lbs, the optimal solution is to hold 1 iphone with value 400; when the knapsack can hold 2 lbs, the optimal solution is to hold 1 ipad with total value of 1000; when the knapsack can hold 3 lbs, the optimal solution is to hold 1 ipad and 1 iphone with total value of 1400. Write a program to find the optimal soltion for the knapsack with capacity of 4 lbs."
   ]
  },
  {
   "cell_type": "code",
   "execution_count": 157,
   "metadata": {},
   "outputs": [
    {
     "name": "stdout",
     "output_type": "stream",
     "text": [
      "['ipad', 'ipad']\n"
     ]
    }
   ],
   "source": [
    "value = {}\n",
    "value['ipad'] = 1000\n",
    "value['iphone'] = 400\n",
    "value['laptop'] = 1500\n",
    "weight = {}\n",
    "weight['ipad'] = 2\n",
    "weight['iphone'] = 1\n",
    "weight['laptop'] = 3\n",
    "opt_sol = {}\n",
    "opt_sol[0] = []\n",
    "opt_sol[1] = ['iphone']\n",
    "opt_sol[2] = ['ipad']\n",
    "opt_sol[3] = ['ipad', 'iphone']\n",
    "options = []\n",
    "capacity = 4\n",
    "for x in range(capacity):\n",
    "    leftovers = capacity - x\n",
    "    best2 = best_single_component(leftovers)\n",
    "    options.append([best2] + opt_sol[x])\n",
    "sums = []\n",
    "s = 0\n",
    "for x in options:\n",
    "    for a in x:\n",
    "        s += value[a]\n",
    "    sums.append((x, s))\n",
    "    s = 0\n",
    "sums = sorted(sums, key = lambda x:x[1], reverse = True)\n",
    "opt_sol[4] = sums[0][0]\n",
    "print(opt_sol[4])"
   ]
  },
  {
   "cell_type": "markdown",
   "metadata": {},
   "source": [
    "## Practice: There are three items in the store: 1) ipad: value=1000, weight=2 lbs, 2) iphone, value = 400, weight=1 lb, 3) laptop, value=1500, weight=3 lbs. A thief has a knapsack of 16 lbs, what can he put into his knacpsack to maximize the total value."
   ]
  },
  {
   "cell_type": "code",
   "execution_count": 30,
   "metadata": {},
   "outputs": [
    {
     "name": "stdout",
     "output_type": "stream",
     "text": [
      "10\n",
      "['laptop', 'laptop', 'ipad', 'ipad']\n",
      "5000\n"
     ]
    }
   ],
   "source": [
    "value = {}\n",
    "value['ipad'] = 1000\n",
    "value['iphone'] = 400\n",
    "value['laptop'] = 1500\n",
    "weight = {}\n",
    "weight['ipad'] = 2\n",
    "weight['iphone'] = 1\n",
    "weight['laptop'] = 3\n",
    "opt_sol = {}\n",
    "opt_sol[0] = []\n",
    "\n",
    "def best_single_component(capacity):\n",
    "    dict1 = value.copy()\n",
    "    while dict1:\n",
    "        max_value = max(dict1.values())\n",
    "        for x in dict1.keys():\n",
    "            if value[x] == max_value:\n",
    "                max_value_key = x\n",
    "                break\n",
    "        if capacity >= weight[max_value_key]:\n",
    "            return max_value_key\n",
    "        dict1.pop(max_value_key)\n",
    "    return None\n",
    "\n",
    "\n",
    "tot_capacity = int(input())\n",
    "for capacity in range(1, tot_capacity + 1):\n",
    "    options = []\n",
    "    for x in range(capacity):\n",
    "        leftovers = capacity - x\n",
    "        best2 = best_single_component(leftovers)\n",
    "        options.append([best2] + opt_sol[x])\n",
    "    sums = []\n",
    "    s = 0\n",
    "    for x in options:\n",
    "        for a in x:\n",
    "            s += value[a]\n",
    "        sums.append((x, s))\n",
    "        s = 0\n",
    "    sums = sorted(sums, key = lambda x:x[1], reverse = True)\n",
    "    opt_sol[capacity] = sums[0][0]\n",
    "print(opt_sol[tot_capacity])\n",
    "s = 0\n",
    "for x in opt_sol[tot_capacity]:\n",
    "    s += value[x]\n",
    "print(s)"
   ]
  },
  {
   "cell_type": "markdown",
   "metadata": {},
   "source": [
    "## prices=[1,  5,   8,   9,  10,  17,  17,  20, 25]                                                                              rod length = 8\n",
    "# bottom-up dynamic programming\n"
   ]
  },
  {
   "cell_type": "code",
   "execution_count": 33,
   "metadata": {},
   "outputs": [
    {
     "name": "stdout",
     "output_type": "stream",
     "text": [
      "8\n",
      "['6', '2']\n",
      "22\n"
     ]
    }
   ],
   "source": [
    "def best_single_component(lengths):\n",
    "    dict1 = value.copy()\n",
    "    while dict1:\n",
    "        max_value = max(dict1.values())\n",
    "        for x in dict1.keys():\n",
    "            if value[x] == max_value:\n",
    "                max_value_key = x\n",
    "                break\n",
    "        if lengths >= length[max_value_key]:\n",
    "            return max_value_key\n",
    "        dict1.pop(max_value_key)\n",
    "    return None\n",
    "value = {}\n",
    "value['1'] = 1\n",
    "value['2'] = 5\n",
    "value['3'] = 8\n",
    "value['4'] = 9\n",
    "value['5'] = 10\n",
    "value['6'] = 17\n",
    "value['7'] = 17\n",
    "value['8'] = 20\n",
    "value['9'] = 25\n",
    "length = {}\n",
    "length['1'] = 1\n",
    "length['2'] = 2\n",
    "length['3'] = 3\n",
    "length['4'] = 4\n",
    "length['5'] = 5\n",
    "length['6'] = 6\n",
    "length['7'] = 7\n",
    "length['8'] = 8\n",
    "length['9'] = 9\n",
    "opt_sol = {}\n",
    "opt_sol[0] = []\n",
    "rod_length = int(input())\n",
    "for lengths in range(1, rod_length + 1):\n",
    "    options = []\n",
    "    for x in range(lengths):\n",
    "        leftovers = lengths - x\n",
    "        best2 = best_single_component(leftovers)\n",
    "        options.append([best2] + opt_sol[x])\n",
    "    sums = []\n",
    "    s = 0\n",
    "    for x in options:\n",
    "        for a in x:\n",
    "            s += value[a]\n",
    "        sums.append((x, s))\n",
    "        s = 0\n",
    "    sums = sorted(sums, key = lambda x:x[1], reverse = True)\n",
    "    opt_sol[lengths] = sums[0][0]\n",
    "print(opt_sol[rod_length])\n",
    "s = 0\n",
    "for x in opt_sol[rod_length]:\n",
    "    s += value[x]\n",
    "print(s)"
   ]
  },
  {
   "cell_type": "markdown",
   "metadata": {},
   "source": [
    "## Practice:we have coins: 1 cent, 5 cents, 10 cents, 25 cents, given an amount of money, make it into the min number of coins"
   ]
  },
  {
   "cell_type": "code",
   "execution_count": 75,
   "metadata": {},
   "outputs": [
    {
     "name": "stdout",
     "output_type": "stream",
     "text": [
      "5\n",
      "current capacity: 1\n",
      "prev cap: 0\n",
      "[['1']]\n",
      "current capacity: 2\n",
      "prev cap: 0\n",
      "prev cap: 1\n",
      "[['1', '1']]\n",
      "current capacity: 3\n",
      "prev cap: 0\n",
      "prev cap: 1\n",
      "prev cap: 2\n",
      "[['1', '1', '1']]\n",
      "current capacity: 4\n",
      "prev cap: 0\n",
      "prev cap: 1\n",
      "prev cap: 2\n",
      "prev cap: 3\n",
      "[['1', '1', '1', '1']]\n",
      "current capacity: 5\n",
      "prev cap: 0\n",
      "prev cap: 1\n",
      "prev cap: 2\n",
      "prev cap: 3\n",
      "prev cap: 4\n",
      "[['5'], ['1', '1', '1', '1', '1']]\n",
      "best solution:\n",
      "['5']\n"
     ]
    }
   ],
   "source": [
    "def best_single_component1(money_amounts, value):\n",
    "    list1 = list(value.items())\n",
    "    list1 = sorted(list1, key=lambda x: x[1])\n",
    "    best_item = None\n",
    "    for k, v in list1:\n",
    "        if money_amounts>=v:\n",
    "            best_item = k\n",
    "        else:\n",
    "            return best_item\n",
    "    return best_item\n",
    "\n",
    "\n",
    "value['1'] = 1\n",
    "value['5'] = 5\n",
    "value['10'] = 10\n",
    "value['25'] = 25\n",
    "amount = int(input())\n",
    "opt_sol = {}\n",
    "opt_sol[0] = []\n",
    "for money_amounts in range(1, amount+1):\n",
    "    print('current capacity: {}'.format(money_amounts))\n",
    "    money_amounts = int(money_amounts)\n",
    "    options = []\n",
    "    for x in range(money_amounts):\n",
    "        print('prev cap: {}'.format(x))\n",
    "        leftovers = money_amounts - x\n",
    "        best2 = best_single_component1(leftovers, value)\n",
    "        if value[best2]==leftovers:\n",
    "            options.append([best2] + opt_sol[x])\n",
    "    print(options)\n",
    "    sums = []\n",
    "    s = 0\n",
    "    for x in options:\n",
    "        for a in x:\n",
    "            s += value[a]\n",
    "        sums.append((x, s))\n",
    "        s = 0\n",
    "    sums = sorted(sums, key = lambda x:x[1], reverse = True)\n",
    "    opt_sol[money_amounts] = sums[0][0]\n",
    "print('best solution:')\n",
    "print(opt_sol[amount])"
   ]
  },
  {
   "cell_type": "markdown",
   "metadata": {},
   "source": [
    "## Dynamic programming practice: Problem : Minimum Steps To One. Problem Statement: On a positive integer, you can perform any one of the following 3 steps. 1.) Subtract 1 from it. ( n = n - 1 )  , 2.) If its divisible by 2, divide by 2. ( if n % 2 == 0 , then n = n / 2  )  , 3.) If its divisible by 3, divide by 3. ( if n % 3 == 0 , then n = n / 3  ). Now the question is, given a positive integer n, find the minimum number of steps that takes n to 1"
   ]
  },
  {
   "cell_type": "code",
   "execution_count": 40,
   "metadata": {},
   "outputs": [
    {
     "name": "stdout",
     "output_type": "stream",
     "text": [
      "10\n",
      "3\n"
     ]
    }
   ],
   "source": [
    "opt_sol = {}\n",
    "opt_sol['1'] = []\n",
    "n = int(input())\n",
    "for x in range(2, n + 1):\n",
    "    options = []\n",
    "    for a in range(1, x):\n",
    "        if a + 1 == x:\n",
    "            options.append(opt_sol[str(a)] + ['+1'])\n",
    "        if a * 2 == x:\n",
    "            options.append(opt_sol[str(a)] + ['x2'])\n",
    "        if a * 3 == x:\n",
    "            options.append(opt_sol[str(a)] + ['x3'])\n",
    "    m_len = len(options[0])\n",
    "    m = options[0]\n",
    "    for b in options:\n",
    "        if len(b) < m_len:\n",
    "            m_len = len(b)\n",
    "            m = b\n",
    "    opt_sol[str(x)] = m\n",
    "print(len(opt_sol[str(n)]))"
   ]
  },
  {
   "cell_type": "markdown",
   "metadata": {},
   "source": [
    "## Tiling Problem\n",
    "https://www.geeksforgeeks.org/tiling-problem/\n",
    "Last Updated: 05-11-2020\n",
    "Given a “2 x n” board and tiles of size “2 x 1”, count the number of ways to tile the given board using the 2 x 1 tiles. A tile can either be placed horizontally i.e., as a 1 x 2 tile or vertically i.e., as 2 x 1 tile.\n",
    "Examples:\n",
    "\n",
    "Input n = 3\n",
    "Output: 3\n",
    "Explanation:\n",
    "We need 3 tiles to tile the board of size  2 x 3. \n",
    "We can tile the board using following ways\n",
    "1) Place all 3 tiles vertically. \n",
    "2) Place first tile vertically and remaining 2 tiles horizontally.\n",
    "3) Place first 2 tiles horizontally and remaining tiles vertically\n",
    "\n",
    "Input n = 4\n",
    "Output: 5\n",
    "Explanation:\n",
    "For a 2 x 4 board, there are 5 ways\n",
    "1) All 4 vertical\n",
    "2) All 4 horizontal\n",
    "3) First 2 vertical, remaining 2 horizontal\n",
    "4) First 2 horizontal, remaining 2 vertical\n",
    "5) Corner 2 vertical, middle 2 horizontal\n",
    "\n",
    "Case work: 1) the last tile is vertical, 2) the last tile is horizontal (so does the second to the last one)"
   ]
  },
  {
   "cell_type": "code",
   "execution_count": 73,
   "metadata": {},
   "outputs": [
    {
     "name": "stdout",
     "output_type": "stream",
     "text": [
      "5\n",
      "8\n"
     ]
    }
   ],
   "source": [
    "opt_sol = {}\n",
    "opt_sol['1'] = 1\n",
    "opt_sol['2'] = 2\n",
    "n = int(input())\n",
    "if n > 2:\n",
    "    for x in range(3, n + 1):\n",
    "        opt_sol[str(x)] = opt_sol[str(x - 1)] + opt_sol[str(x - 2)]\n",
    "print(opt_sol[str(n)])"
   ]
  },
  {
   "cell_type": "markdown",
   "metadata": {},
   "source": [
    "## Friends Pairing Problem\n",
    "https://www.geeksforgeeks.org/friends-pairing-problem/\n",
    "Last Updated: 16-05-2019\n",
    "Given n friends, each one can remain single or can be paired up with some other friend. Each friend can be paired only once. Find out the total number of ways in which friends can remain single or can be paired up.\n",
    "\n",
    "Examples :\n",
    "\n",
    "Input  : n = 3\n",
    "Output : 4\n",
    "\n",
    "Explanation\n",
    "{1}, {2}, {3} : all single\n",
    "{1}, {2, 3} : 2 and 3 paired but 1 is single.\n",
    "{1, 2}, {3} : 1 and 2 are paired but 3 is single.\n",
    "{1, 3}, {2} : 1 and 3 are paired but 2 is single.\n",
    "Note that {1, 2} and {2, 1} are considered same."
   ]
  },
  {
   "cell_type": "code",
   "execution_count": 64,
   "metadata": {
    "scrolled": true
   },
   "outputs": [
    {
     "name": "stdout",
     "output_type": "stream",
     "text": [
      "8\n",
      "764\n"
     ]
    }
   ],
   "source": [
    "opt_sol = {}\n",
    "opt_sol['1'] = 1\n",
    "opt_sol['2'] = 2\n",
    "n = int(input())\n",
    "if n > 2:\n",
    "    for x in range(3, n + 1):\n",
    "        opt_sol[str(x)] = opt_sol[str(x - 1)] + (x - 1) * opt_sol[str(x - 2)]\n",
    "print(opt_sol[str(n)])"
   ]
  },
  {
   "cell_type": "markdown",
   "metadata": {},
   "source": [
    "## Dynamic programming course"
   ]
  },
  {
   "cell_type": "markdown",
   "metadata": {},
   "source": [
    "## Memoization Recipe\n",
    "#### Make it work\n",
    "* visualize the problem as a tree\n",
    "* implement the tree using recursion\n",
    "* test it\n",
    "\n",
    "#### Make it efficient\n",
    "* add a memo object\n",
    "* add a base case to return memo values\n",
    "* store return values into the memo"
   ]
  },
  {
   "cell_type": "markdown",
   "metadata": {},
   "source": [
    "### Grid Traveller"
   ]
  },
  {
   "cell_type": "code",
   "execution_count": 9,
   "metadata": {},
   "outputs": [],
   "source": [
    "def grid_traveller(m, n):\n",
    "    key = str(m) + ',' + str(n)\n",
    "    if key in memo:\n",
    "        return memo[key]\n",
    "    if (m == 1) and (n == 1):\n",
    "        return 1\n",
    "    if (m == 0) or (n == 0):\n",
    "        return 0\n",
    "    memo[key] = grid_traveller(m - 1, n) + grid_traveller(m, n - 1)\n",
    "    return memo[key]"
   ]
  },
  {
   "cell_type": "code",
   "execution_count": 10,
   "metadata": {},
   "outputs": [
    {
     "name": "stdout",
     "output_type": "stream",
     "text": [
      "1\n",
      "3\n",
      "3\n",
      "6\n",
      "2333606220\n"
     ]
    }
   ],
   "source": [
    "memo = {}\n",
    "print(grid_traveller(1, 1))#1\n",
    "memo = {}\n",
    "print(grid_traveller(2, 3))#3\n",
    "memo = {}\n",
    "print(grid_traveller(3, 2))#3\n",
    "memo = {}\n",
    "print(grid_traveller(3, 3))#6\n",
    "memo = {}\n",
    "print(grid_traveller(18, 18))#2333606220"
   ]
  },
  {
   "cell_type": "markdown",
   "metadata": {},
   "source": [
    "### Can Sum problem"
   ]
  },
  {
   "cell_type": "code",
   "execution_count": 9,
   "metadata": {},
   "outputs": [],
   "source": [
    "def can_sum(target_sum, numbers):\n",
    "    if target_sum in memo:\n",
    "        return memo[target_sum]\n",
    "    if target_sum == 0:\n",
    "        return True\n",
    "    if target_sum < min(numbers):\n",
    "        return False\n",
    "    for x in numbers:\n",
    "        remainder = target_sum - x\n",
    "        if can_sum(remainder, numbers) == True:\n",
    "            memo[target_sum] = True\n",
    "            return True\n",
    "    memo[target_sum] = False\n",
    "    return False"
   ]
  },
  {
   "cell_type": "code",
   "execution_count": 11,
   "metadata": {
    "scrolled": false
   },
   "outputs": [
    {
     "name": "stdout",
     "output_type": "stream",
     "text": [
      "True\n",
      "True\n",
      "False\n",
      "True\n",
      "False\n"
     ]
    }
   ],
   "source": [
    "memo = {}\n",
    "print(can_sum(7, [2, 3]))   #True\n",
    "memo = {}\n",
    "print(can_sum(7, [5, 3, 4, 7]))  #True\n",
    "memo = {}\n",
    "print(can_sum(7, [2, 4]))  #False\n",
    "memo = {}\n",
    "print(can_sum(8, [2, 3, 5]))  #True\n",
    "memo = {}\n",
    "print(can_sum(300, [7, 14]))  #False"
   ]
  },
  {
   "cell_type": "markdown",
   "metadata": {},
   "source": [
    "### How Sum problem"
   ]
  },
  {
   "cell_type": "code",
   "execution_count": 41,
   "metadata": {},
   "outputs": [],
   "source": [
    "def how_sum(target_sum, numbers):\n",
    "    if target_sum in memo:\n",
    "        return memo[target_sum]\n",
    "    if target_sum == 0:\n",
    "        return []\n",
    "    if target_sum < min(numbers):\n",
    "        return None\n",
    "    for x in numbers:\n",
    "        remainder = target_sum - x\n",
    "        result = how_sum(remainder, numbers)\n",
    "        if result != None:\n",
    "            r = result + [x]\n",
    "            memo[target_sum] = r\n",
    "            return memo[target_sum]\n",
    "    memo[target_sum] = None\n",
    "    return None"
   ]
  },
  {
   "cell_type": "code",
   "execution_count": 42,
   "metadata": {},
   "outputs": [
    {
     "name": "stdout",
     "output_type": "stream",
     "text": [
      "[3, 2, 2]\n",
      "[4, 3]\n",
      "None\n",
      "[2, 2, 2, 2]\n",
      "None\n"
     ]
    }
   ],
   "source": [
    "memo = {}\n",
    "print(how_sum(7, [2, 3]))   #[3, 2, 2]\n",
    "memo = {}\n",
    "print(how_sum(7, [5, 3, 4, 7]))  #[4, 3]\n",
    "memo = {}\n",
    "print(how_sum(7, [2, 4]))  #None\n",
    "memo = {}\n",
    "print(how_sum(8, [2, 3, 5]))  #[2,2,2,2]\n",
    "memo = {}\n",
    "print(how_sum(300, [7, 14]))  #None"
   ]
  },
  {
   "cell_type": "markdown",
   "metadata": {},
   "source": [
    "### Best Sum problem"
   ]
  },
  {
   "cell_type": "code",
   "execution_count": 47,
   "metadata": {},
   "outputs": [],
   "source": [
    "def best_sum(target_sum, numbers):\n",
    "    if target_sum in memo:\n",
    "        return memo[target_sum]\n",
    "    if target_sum == 0:\n",
    "        return []\n",
    "    if target_sum < min(numbers):\n",
    "        return None\n",
    "    answer = None\n",
    "    for x in numbers:\n",
    "        remainder = target_sum - x\n",
    "        result = best_sum(remainder, numbers)\n",
    "        if result != None:\n",
    "            r = result + [x]\n",
    "            if answer == None or len(r) < len(answer):\n",
    "                answer = r\n",
    "    memo[target_sum] = answer\n",
    "    return answer"
   ]
  },
  {
   "cell_type": "code",
   "execution_count": 50,
   "metadata": {
    "scrolled": true
   },
   "outputs": [
    {
     "name": "stdout",
     "output_type": "stream",
     "text": [
      "[7]\n",
      "[5, 3]\n",
      "[4, 4]\n",
      "[25, 25, 25, 25]\n"
     ]
    }
   ],
   "source": [
    "memo = {}\n",
    "print(best_sum(7, [5, 3, 4, 7]))  #[7]\n",
    "memo = {}\n",
    "print(best_sum(8, [2, 3, 5]))  #[5, 3]\n",
    "memo = {}\n",
    "print(best_sum(8, [1, 4, 5]))  #[4, 4]\n",
    "memo = {}\n",
    "print(best_sum(100, [1, 2, 5, 25]))  #[25, 25, 25, 25]"
   ]
  },
  {
   "cell_type": "markdown",
   "metadata": {},
   "source": [
    "### Can Construct problem"
   ]
  },
  {
   "cell_type": "code",
   "execution_count": 56,
   "metadata": {},
   "outputs": [],
   "source": [
    "def can_construct(target, word_bank):\n",
    "    if target in memo:\n",
    "        return memo[target]\n",
    "    if target == '':\n",
    "        return True\n",
    "    for x in word_bank:\n",
    "        if target[:len(x)] == x:\n",
    "            suffix = target[len(x):]\n",
    "            if can_construct(suffix, word_bank) == True:\n",
    "                memo[target] = True\n",
    "                return True\n",
    "    memo[target] = False\n",
    "    return False"
   ]
  },
  {
   "cell_type": "code",
   "execution_count": 57,
   "metadata": {},
   "outputs": [
    {
     "name": "stdout",
     "output_type": "stream",
     "text": [
      "True\n",
      "False\n",
      "True\n",
      "False\n"
     ]
    }
   ],
   "source": [
    "memo = {}\n",
    "print(can_construct('abcdef', ['ab', 'abc', 'cd', 'def', 'abcd']))  #True\n",
    "memo = {}\n",
    "print(can_construct('skateboard', ['bo', 'rd', 'ate', 't', 'ska', 'sk', 'boar']))  #False\n",
    "memo = {}\n",
    "print(can_construct('enterapotentpot', ['a', 'p', 'ent', 'enter', 'ot', 'o', 't']))  #True\n",
    "memo = {}\n",
    "print(can_construct('eeeeeeeeeeeeeeeeeeeeeeeeeeeeeeeeeeeeef', ['e', 'ee', 'eee', 'eeee', 'eeeee', 'eeeeee']))  #False"
   ]
  },
  {
   "cell_type": "markdown",
   "metadata": {},
   "source": [
    "### Count Construct problem"
   ]
  },
  {
   "cell_type": "code",
   "execution_count": 58,
   "metadata": {},
   "outputs": [],
   "source": [
    "def count_construct(target, word_bank):\n",
    "    if target in memo:\n",
    "        return memo[target]\n",
    "    if target == '':\n",
    "        return 1\n",
    "    count = 0\n",
    "    for x in word_bank:\n",
    "        if target[:len(x)] == x:\n",
    "            suffix = target[len(x):]\n",
    "            count += count_construct(suffix, word_bank)\n",
    "            \n",
    "    memo[target] = count\n",
    "    return count"
   ]
  },
  {
   "cell_type": "code",
   "execution_count": 59,
   "metadata": {},
   "outputs": [
    {
     "name": "stdout",
     "output_type": "stream",
     "text": [
      "2\n",
      "1\n",
      "0\n",
      "4\n",
      "0\n"
     ]
    }
   ],
   "source": [
    "memo = {}\n",
    "print(count_construct('purple', ['purp', 'p', 'ur', 'le', 'purpl']))  #2\n",
    "memo = {}\n",
    "print(count_construct('abcdef', ['ab', 'abc', 'cd', 'def', 'abcd']))  #1\n",
    "memo = {}\n",
    "print(count_construct('skateboard', ['bo', 'rd', 'ate', 't', 'ska', 'sk', 'boar']))  #0\n",
    "memo = {}\n",
    "print(count_construct('enterapotentpot', ['a', 'p', 'ent', 'enter', 'ot', 'o', 't']))  #4\n",
    "memo = {}\n",
    "print(count_construct('eeeeeeeeeeeeeeeeeeeeeeeeeeeeeeeeeeeeef', ['e', 'ee', 'eee', 'eeee', 'eeeee', 'eeeeee']))  #0"
   ]
  },
  {
   "cell_type": "markdown",
   "metadata": {},
   "source": [
    "### All Construct problem"
   ]
  },
  {
   "cell_type": "code",
   "execution_count": 197,
   "metadata": {},
   "outputs": [],
   "source": [
    "def all_construct(target, word_bank):\n",
    "    if target in memo:\n",
    "        return memo[target]\n",
    "    if target == '':\n",
    "        return [[]]\n",
    "    result = []\n",
    "    for x in word_bank:\n",
    "        if target[:len(x)] == x:\n",
    "            suffix = target[len(x):]\n",
    "            suffix_ways = all_construct(suffix, word_bank)\n",
    "            target_ways = [[x]+s for s in suffix_ways]\n",
    "            result += target_ways\n",
    "    memo[target] = result\n",
    "    return result"
   ]
  },
  {
   "cell_type": "code",
   "execution_count": 198,
   "metadata": {
    "scrolled": true
   },
   "outputs": [
    {
     "name": "stdout",
     "output_type": "stream",
     "text": [
      "[['purp', 'le'], ['p', 'ur', 'p', 'le']]\n",
      "[['ab', 'cd', 'ef'], ['ab', 'c', 'def'], ['abc', 'def'], ['abcd', 'ef']]\n",
      "[]\n",
      "[]\n"
     ]
    }
   ],
   "source": [
    "memo = {}\n",
    "print(all_construct('purple', ['purp', 'p', 'ur', 'le', 'purpl']))  #[['purp', 'le'], ['p', 'ur', 'p', 'le']]\n",
    "memo = {}\n",
    "print(all_construct('abcdef', ['ab', 'abc', 'cd', 'def', 'abcd', 'ef', 'c']))  #[['ab', 'cd', 'ef'], ['ab', 'c', 'def'], ['abc', 'def'], ['abcd', 'ef']]\n",
    "memo = {}\n",
    "print(all_construct('skateboard', ['bo', 'rd', 'ate', 't', 'ska', 'sk', 'boar']))  #[]\n",
    "memo = {}\n",
    "print(all_construct('aaaaaaaaaaaaaaaaaaaaaaaaaaaz', ['a', 'aa', 'aaa', 'aaaa', 'aaaaa']))  #[]"
   ]
  },
  {
   "cell_type": "markdown",
   "metadata": {},
   "source": [
    "## Dynamic programming Tabulation Recipe:\n",
    "* Visualize the problem as a table\n",
    "* Size the table based on the inputs\n",
    "* initialize the table with default values\n",
    "* seed the trivial answer into the table\n",
    "* iterate through the table\n",
    "* fill further positions based on the current position"
   ]
  },
  {
   "cell_type": "markdown",
   "metadata": {},
   "source": [
    "### Fib tabulation"
   ]
  },
  {
   "cell_type": "code",
   "execution_count": 201,
   "metadata": {},
   "outputs": [
    {
     "name": "stdout",
     "output_type": "stream",
     "text": [
      "8\n",
      "13\n",
      "21\n",
      "12586269025\n"
     ]
    }
   ],
   "source": [
    "def fib_tabulation1(n):\n",
    "    list1 = []\n",
    "    for x in range(n + 1):\n",
    "        list1.append(0)\n",
    "    list1[1] = 1\n",
    "    for k, a in enumerate(list1):\n",
    "        if k != len(list1) - 1 and k != len(list1) - 2:\n",
    "            list1[k + 1] += a\n",
    "            list1[k + 2] += a\n",
    "        if k == len(list1) - 2:\n",
    "            list1[k + 1] += a\n",
    "    return list1[n]\n",
    "print(fib_tabulation1(6)) #8\n",
    "print(fib_tabulation1(7)) #13\n",
    "print(fib_tabulation1(8)) #21\n",
    "print(fib_tabulation1(50)) #12586269025"
   ]
  },
  {
   "cell_type": "code",
   "execution_count": 204,
   "metadata": {},
   "outputs": [
    {
     "name": "stdout",
     "output_type": "stream",
     "text": [
      "8\n",
      "13\n",
      "21\n",
      "12586269025\n"
     ]
    }
   ],
   "source": [
    "def fib_tabulation2(n):\n",
    "    list1 = [0, 1]\n",
    "    for x in range(2, n + 1):\n",
    "        list1.append(list1[x - 1] + list1[x - 2])\n",
    "    return list1[n]\n",
    "print(fib_tabulation2(6)) #8\n",
    "print(fib_tabulation2(7)) #13\n",
    "print(fib_tabulation2(8)) #21\n",
    "print(fib_tabulation2(50)) #12586269025"
   ]
  },
  {
   "cell_type": "markdown",
   "metadata": {},
   "source": [
    "### Grid Traveller tabulation"
   ]
  },
  {
   "cell_type": "code",
   "execution_count": 299,
   "metadata": {
    "scrolled": true
   },
   "outputs": [
    {
     "name": "stdout",
     "output_type": "stream",
     "text": [
      "1\n",
      "3\n",
      "3\n",
      "6\n",
      "2333606220\n"
     ]
    }
   ],
   "source": [
    "def grid_traveller1(m, n):\n",
    "    list1 = []\n",
    "    for a in range(m + 1):\n",
    "        list1.append([0] * (n + 1))\n",
    "    list1[1][1] = 1\n",
    "    for b in range(m + 1):\n",
    "        for c in range(n + 1):\n",
    "            current = list1[b][c]\n",
    "            if (c + 1) <= n:\n",
    "                list1[b][c + 1] += current\n",
    "            if (b + 1) <= m:\n",
    "                list1[b + 1][c] += current\n",
    "    return list1[m][n]\n",
    "print(grid_traveller1(1, 1)) #1\n",
    "print(grid_traveller1(2, 3)) #3\n",
    "print(grid_traveller1(3, 2)) #3\n",
    "print(grid_traveller1(3, 3)) #6\n",
    "print(grid_traveller1(18, 18)) #2333606220"
   ]
  },
  {
   "cell_type": "code",
   "execution_count": 302,
   "metadata": {},
   "outputs": [
    {
     "name": "stdout",
     "output_type": "stream",
     "text": [
      "1\n",
      "3\n",
      "3\n",
      "6\n",
      "2333606220\n"
     ]
    }
   ],
   "source": [
    "def grid_traveller2(m, n):\n",
    "    list1 = []\n",
    "    for a in range(m + 1):\n",
    "        list1.append([0] * (n + 1))\n",
    "    list1[1][1] = 1\n",
    "    for b in range(m + 1):\n",
    "        for c in range(n + 1):\n",
    "            current = list1[b][c]\n",
    "            if (c - 1) >= 0:\n",
    "                current += list1[b][c - 1]\n",
    "            if (b - 1) >= 0:\n",
    "                current += list1[b - 1][c]\n",
    "            list1[b][c] = current\n",
    "    return list1[m][n]\n",
    "print(grid_traveller2(1, 1)) #1\n",
    "print(grid_traveller2(2, 3)) #3\n",
    "print(grid_traveller2(3, 2)) #3\n",
    "print(grid_traveller2(3, 3)) #6\n",
    "print(grid_traveller2(18, 18)) #2333606220"
   ]
  },
  {
   "cell_type": "markdown",
   "metadata": {},
   "source": [
    "### Can Sum tabulation"
   ]
  },
  {
   "cell_type": "code",
   "execution_count": 318,
   "metadata": {},
   "outputs": [
    {
     "name": "stdout",
     "output_type": "stream",
     "text": [
      "True\n",
      "True\n",
      "False\n",
      "True\n",
      "False\n"
     ]
    }
   ],
   "source": [
    "def can_sum1(target_sum, numbers):\n",
    "    list1 = [False] * (target_sum + 1)\n",
    "    list1[0] = True\n",
    "    for k, x in enumerate(list1):\n",
    "        if x == True:\n",
    "            for a in numbers:\n",
    "                if k + a < len(list1):\n",
    "                    list1[k + a] = True\n",
    "    return list1[target_sum]\n",
    "print(can_sum1(7, [2, 3])) #True\n",
    "print(can_sum1(7, [5, 3, 4, 7])) #True\n",
    "print(can_sum1(7, [2, 4])) #False\n",
    "print(can_sum1(8, [2, 3, 5])) #True\n",
    "print(can_sum1(300, [7, 14])) #False"
   ]
  },
  {
   "cell_type": "code",
   "execution_count": 319,
   "metadata": {
    "scrolled": true
   },
   "outputs": [
    {
     "name": "stdout",
     "output_type": "stream",
     "text": [
      "True\n",
      "True\n",
      "False\n",
      "True\n",
      "False\n"
     ]
    }
   ],
   "source": [
    "def can_sum2(target_sum, numbers):\n",
    "    list1 = [False] * (target_sum + 1)\n",
    "    list1[0] = True\n",
    "    for k, x in enumerate(list1):\n",
    "        if k == 0:\n",
    "            continue\n",
    "        test = 0\n",
    "        for a, b in enumerate(list1[:k]):\n",
    "            if b == True:\n",
    "                for c in numbers:\n",
    "                    if a + c == k:\n",
    "                        list1[k] = True\n",
    "                        test += 1\n",
    "                        break\n",
    "            if test == 1:\n",
    "                break\n",
    "    return list1[target_sum]\n",
    "print(can_sum2(7, [2, 3])) #True\n",
    "print(can_sum2(7, [5, 3, 4, 7])) #True\n",
    "print(can_sum2(7, [2, 4])) #False\n",
    "print(can_sum2(8, [2, 3, 5])) #True\n",
    "print(can_sum2(300, [7, 14])) #False"
   ]
  },
  {
   "cell_type": "markdown",
   "metadata": {},
   "source": [
    "### How Sum tabulation"
   ]
  },
  {
   "cell_type": "code",
   "execution_count": 321,
   "metadata": {},
   "outputs": [
    {
     "name": "stdout",
     "output_type": "stream",
     "text": [
      "[3, 2, 2]\n",
      "[4, 3]\n",
      "None\n",
      "[2, 2, 2, 2]\n",
      "None\n"
     ]
    }
   ],
   "source": [
    "def how_sum1(target_sum, numbers):\n",
    "    list1 = [None] * (target_sum + 1)\n",
    "    list1[0] = []\n",
    "    for k, x in enumerate(list1):\n",
    "        if x != None:\n",
    "            for a in numbers:\n",
    "                if k + a < len(list1):\n",
    "                    list1[k + a] = x + [a]\n",
    "    return list1[target_sum]\n",
    "print(how_sum1(7, [2, 3])) #[3, 2, 2]\n",
    "print(how_sum1(7, [5, 3, 4, 7])) #[4, 3]\n",
    "print(how_sum1(7, [2, 4])) #None\n",
    "print(how_sum1(8, [2, 3, 5])) #[2, 2, 2, 2]\n",
    "print(how_sum1(300, [7, 14])) #None"
   ]
  },
  {
   "cell_type": "code",
   "execution_count": 322,
   "metadata": {},
   "outputs": [
    {
     "name": "stdout",
     "output_type": "stream",
     "text": [
      "[2, 2, 3]\n",
      "[7]\n",
      "None\n",
      "[3, 5]\n",
      "None\n"
     ]
    }
   ],
   "source": [
    "def how_sum2(target_sum, numbers):\n",
    "    list1 = [None] * (target_sum + 1)\n",
    "    list1[0] = []\n",
    "    for k, x in enumerate(list1):\n",
    "        if k == 0:\n",
    "            continue\n",
    "        test = 0\n",
    "        for a, b in enumerate(list1[:k]):\n",
    "            if b != None:\n",
    "                for c in numbers:\n",
    "                    if a + c == k:\n",
    "                        list1[k] = b + [c]\n",
    "                        test += 1\n",
    "                        break\n",
    "            if test == 1:\n",
    "                break\n",
    "    return list1[target_sum]\n",
    "print(how_sum2(7, [2, 3])) #[3, 2, 2]\n",
    "print(how_sum2(7, [5, 3, 4, 7])) #[4, 3]\n",
    "print(how_sum2(7, [2, 4])) #None\n",
    "print(how_sum2(8, [2, 3, 5])) #[2, 2, 2, 2]\n",
    "print(how_sum2(300, [7, 14])) #None"
   ]
  },
  {
   "cell_type": "markdown",
   "metadata": {},
   "source": [
    "### Best Sum tabulation"
   ]
  },
  {
   "cell_type": "code",
   "execution_count": 351,
   "metadata": {},
   "outputs": [
    {
     "name": "stdout",
     "output_type": "stream",
     "text": [
      "[7]\n",
      "[3, 5]\n",
      "[4, 4]\n",
      "[25, 25, 25, 25]\n"
     ]
    }
   ],
   "source": [
    "def best_sum1(target_sum, numbers):\n",
    "    list1 = [None] * (target_sum + 1)\n",
    "    list1[0] = []\n",
    "    for k, x in enumerate(list1):\n",
    "        if x != None:\n",
    "            for a in numbers:\n",
    "                if k + a < len(list1):\n",
    "                    if (list1[k + a] == None) or (len(list1[k + a]) > len(x + [a])):\n",
    "                        list1[k + a] = x + [a]\n",
    "    return list1[target_sum]\n",
    "print(best_sum1(7, [5, 3, 4, 7])) #[7]\n",
    "print(best_sum1(8, [2, 3, 5])) #[3, 5]\n",
    "print(best_sum1(8, [1, 4, 5])) #[4, 4]\n",
    "print(best_sum1(100, [1, 2, 5, 25])) #[25, 25, 25, 25]"
   ]
  },
  {
   "cell_type": "code",
   "execution_count": 363,
   "metadata": {},
   "outputs": [
    {
     "name": "stdout",
     "output_type": "stream",
     "text": [
      "[7]\n",
      "[3, 5]\n",
      "[4, 4]\n",
      "[25, 25, 25, 25]\n"
     ]
    }
   ],
   "source": [
    "def best_sum2(target_sum, numbers):\n",
    "    list1 = [None] * (target_sum + 1)\n",
    "    list1[0] = []\n",
    "    for k, x in enumerate(list1):\n",
    "        if k == 0:\n",
    "            continue\n",
    "        test = 0\n",
    "        for a, b in enumerate(list1[:k]):\n",
    "            if b != None:\n",
    "                for c in numbers:\n",
    "                    if a + c == k:\n",
    "                        if (x == None) or (len(x) > len(b + [c])):\n",
    "                            list1[k] = b + [c]\n",
    "                            x = list1[k]\n",
    "    return list1[target_sum]\n",
    "print(best_sum2(7, [5, 3, 4, 7])) #[7]\n",
    "print(best_sum2(8, [2, 3, 5])) #[3, 5]\n",
    "print(best_sum2(8, [1, 4, 5])) #[4, 4]\n",
    "print(best_sum2(100, [1, 2, 5, 25])) #[25, 25, 25, 25]"
   ]
  },
  {
   "cell_type": "markdown",
   "metadata": {},
   "source": [
    "### Can Construct tabulation"
   ]
  },
  {
   "cell_type": "code",
   "execution_count": 380,
   "metadata": {},
   "outputs": [
    {
     "name": "stdout",
     "output_type": "stream",
     "text": [
      "True\n",
      "False\n",
      "True\n",
      "False\n"
     ]
    }
   ],
   "source": [
    "def can_construct1(target, word_bank):\n",
    "    list1 = [False] * (len(target) + 1)\n",
    "    list1[0] = True\n",
    "    for k, x in enumerate(list1):\n",
    "        if x == True:\n",
    "            for a in word_bank:\n",
    "                if target[k : k + len(a)] == a:\n",
    "                        list1[k + len(a)] = True\n",
    "    return list1[len(target)]\n",
    "print(can_construct1('abcdef', ['ab', 'abc', 'cd', 'def', 'abcd'])) #True\n",
    "print(can_construct1('skateboard', ['bo', 'rd', 'ate', 'ska', 'sk', 'boar'])) #False\n",
    "print(can_construct1('enterapotentpot', ['a', 'p', 'ent', 'enter', 'ot', 'o', 't'])) #True\n",
    "print(can_construct1('eeeeeeeeeeeeeeeeeeeeeeeeeeeeeeeeeeeeeef', ['e', 'ee', 'eee', 'eeee', 'eeeee', 'eeeeee'])) #False"
   ]
  },
  {
   "cell_type": "code",
   "execution_count": 403,
   "metadata": {},
   "outputs": [
    {
     "name": "stdout",
     "output_type": "stream",
     "text": [
      "True\n",
      "False\n",
      "True\n",
      "False\n"
     ]
    }
   ],
   "source": [
    "def can_construct2(target, word_bank):\n",
    "    list1 = [False] * (len(target) + 1)\n",
    "    list1[0] = True\n",
    "    for k, x in enumerate(list1):\n",
    "        for a, b in enumerate(list1[:k]):\n",
    "            if b == True:\n",
    "                for c in word_bank:\n",
    "                    if target[:a] + c == target[:k]:\n",
    "                        list1[k] = True\n",
    "    return list1[len(target)]\n",
    "print(can_construct2('abcdef', ['ab', 'abc', 'cd', 'def', 'abcd'])) #True\n",
    "print(can_construct2('skateboard', ['bo', 'rd', 'ate', 'ska', 'sk', 'boar'])) #False\n",
    "print(can_construct2('enterapotentpot', ['a', 'p', 'ent', 'enter', 'ot', 'o', 't'])) #True\n",
    "print(can_construct2('eeeeeeeeeeeeeeeeeeeeeeeeeeeeeeeeeeeeeef', ['e', 'ee', 'eee', 'eeee', 'eeeee', 'eeeeee'])) #False"
   ]
  },
  {
   "cell_type": "markdown",
   "metadata": {},
   "source": [
    "### Count Construct tabulation"
   ]
  },
  {
   "cell_type": "code",
   "execution_count": 406,
   "metadata": {},
   "outputs": [
    {
     "name": "stdout",
     "output_type": "stream",
     "text": [
      "2\n",
      "1\n",
      "0\n",
      "4\n",
      "0\n"
     ]
    }
   ],
   "source": [
    "def count_construct1(target, word_bank):\n",
    "    list1 = [0] * (len(target) + 1)\n",
    "    list1[0] = 1\n",
    "    for k, x in enumerate(list1):\n",
    "        if x >= 1:\n",
    "            for b in word_bank:\n",
    "                if target[k : k + len(b)] == b:\n",
    "                        list1[k + len(b)] += x\n",
    "    return list1[len(target)]\n",
    "print(count_construct1('purple', ['purp', 'p', 'ur', 'le', 'purpl'])) #2\n",
    "print(count_construct1('abcdef', ['ab', 'abc', 'cd', 'def', 'abcd'])) #1\n",
    "print(count_construct1('skateboard', ['bo', 'rd', 'ate', 'ska', 'sk', 'boar'])) #0\n",
    "print(count_construct1('enterapotentpot', ['a', 'p', 'ent', 'enter', 'ot', 'o', 't'])) #4\n",
    "print(count_construct1('eeeeeeeeeeeeeeeeeeeeeeeeeeeeeeeeeeeeeef', ['e', 'ee', 'eee', 'eeee', 'eeeee', 'eeeeee'])) #0"
   ]
  },
  {
   "cell_type": "code",
   "execution_count": 409,
   "metadata": {},
   "outputs": [
    {
     "name": "stdout",
     "output_type": "stream",
     "text": [
      "2\n",
      "1\n",
      "0\n",
      "4\n",
      "0\n"
     ]
    }
   ],
   "source": [
    "def count_construct2(target, word_bank):\n",
    "    list1 = [0] * (len(target) + 1)\n",
    "    list1[0] = 1\n",
    "    for k, x in enumerate(list1):\n",
    "        for a, b in enumerate(list1[:k]):\n",
    "            if b >= 1:\n",
    "                for c in word_bank:\n",
    "                    if target[:a] + c == target[:k]:\n",
    "                        list1[k] += b\n",
    "    return list1[len(target)]\n",
    "print(count_construct2('purple', ['purp', 'p', 'ur', 'le', 'purpl'])) #2\n",
    "print(count_construct2('abcdef', ['ab', 'abc', 'cd', 'def', 'abcd'])) #1\n",
    "print(count_construct2('skateboard', ['bo', 'rd', 'ate', 'ska', 'sk', 'boar'])) #0\n",
    "print(count_construct2('enterapotentpot', ['a', 'p', 'ent', 'enter', 'ot', 'o', 't'])) #4\n",
    "print(count_construct2('eeeeeeeeeeeeeeeeeeeeeeeeeeeeeeeeeeeeeef', ['e', 'ee', 'eee', 'eeee', 'eeeee', 'eeeeee'])) #0"
   ]
  },
  {
   "cell_type": "markdown",
   "metadata": {},
   "source": [
    "### All Construct tabulation"
   ]
  },
  {
   "cell_type": "code",
   "execution_count": 15,
   "metadata": {},
   "outputs": [
    {
     "name": "stdout",
     "output_type": "stream",
     "text": [
      "[['purp', 'le'], ['p', 'ur', 'p', 'le']]\n",
      "[['abc', 'def'], ['ab', 'c', 'def'], ['abcd', 'ef'], ['ab', 'cd', 'ef']]\n",
      "[]\n",
      "[]\n"
     ]
    }
   ],
   "source": [
    "def all_construct1(target, word_bank):\n",
    "    list1 = [[]] * (len(target) + 1)\n",
    "    list1[0] = [[]]\n",
    "    for k, x in enumerate(list1):\n",
    "        if x != []:\n",
    "            for b in word_bank:\n",
    "                if target[k : k + len(b)] == b:\n",
    "                    for a in x:\n",
    "                        list1[k + len(b)] = list1[k + len(b)] + ([a + [b]])\n",
    "    return list1[len(target)]\n",
    "print(all_construct1('purple', ['purp', 'p', 'ur', 'le', 'purpl'])) #[['purp', 'le'], ['p', 'ur', 'p', 'le']]\n",
    "print(all_construct1('abcdef', ['ab', 'abc', 'cd', 'def', 'abcd', 'ef', 'c'])) #[['ab', 'cd', 'ef'], ['ab', 'c', 'def'], ['abc', 'def'], ['abcd', 'ef']]\n",
    "print(all_construct1('skateboard', ['bo', 'rd', 'ate', 'ska', 'sk', 'boar'])) #[]\n",
    "print(all_construct1('aaaaaaaaaaz', ['a', 'aa', 'aaa', 'aaaa', 'aaaaa'])) #[]"
   ]
  },
  {
   "cell_type": "code",
   "execution_count": 35,
   "metadata": {},
   "outputs": [
    {
     "name": "stdout",
     "output_type": "stream",
     "text": [
      "[['purp', 'le'], ['p', 'ur', 'p', 'le']]\n",
      "[['abc', 'def'], ['ab', 'c', 'def'], ['abcd', 'ef'], ['ab', 'cd', 'ef']]\n",
      "[]\n",
      "[]\n"
     ]
    }
   ],
   "source": [
    "def all_construct2(target, word_bank):\n",
    "    list1 = [[]] * (len(target) + 1)\n",
    "    list1[0] = [[]]\n",
    "    for k, x in enumerate(list1):\n",
    "        for a, b in enumerate(list1[:k]):\n",
    "            if b != []:\n",
    "                for c in word_bank:\n",
    "                    if target[:a] + c == target[:k]:\n",
    "                        for d in b:\n",
    "                            list1[k] = list1[k] + ([d + [c]])\n",
    "    return list1[len(target)]\n",
    "print(all_construct2('purple', ['purp', 'p', 'ur', 'le', 'purpl'])) #[['purp', 'le'], ['p', 'ur', 'p', 'le']]\n",
    "print(all_construct2('abcdef', ['ab', 'abc', 'cd', 'def', 'abcd', 'ef', 'c'])) #[['ab', 'cd', 'ef'], ['ab', 'c', 'def'], ['abc', 'def'], ['abcd', 'ef']]\n",
    "print(all_construct2('skateboard', ['bo', 'rd', 'ate', 'ska', 'sk', 'boar'])) #[]\n",
    "print(all_construct2('aaaaaaaaaaz', ['a', 'aa', 'aaa', 'aaaa', 'aaaaa'])) #[]"
   ]
  },
  {
   "cell_type": "markdown",
   "metadata": {},
   "source": [
    "## Olympiads-HW-1"
   ]
  },
  {
   "cell_type": "code",
   "execution_count": null,
   "metadata": {},
   "outputs": [],
   "source": [
    "'''\n",
    "Here at the Concerned Citizens of Commerce (CCC), we have noted that telemarketers like to use\n",
    "seven-digit phone numbers where the last four digits have three properties. Looking just at the last\n",
    "four digits, these properties are:\n",
    "• the first of these four digits is an 8 or 9;\n",
    "• the last digit is an 8 or 9;\n",
    "• the second and third digits are the same.\n",
    "For example, if the last four digits of the telephone number are 8229, 8338, or 9008, these are\n",
    "telemarketer numbers.\n",
    "Write a program to decide if a telephone number is a telemarketer number or not, based on the\n",
    "last four digits. If the number is not a telemarketer number, we should answer the phone, and\n",
    "otherwise, we should ignore it.\n",
    "Input Specification\n",
    "The input will be 4 lines where each line contains exactly one digit in the range from 0 to 9.\n",
    "Output Specification\n",
    "Output either ignore if the number matches the pattern for a telemarketer number; otherwise,\n",
    "output answer.\n",
    "Sample Input 1\n",
    "9\n",
    "6\n",
    "6\n",
    "8\n",
    " \n",
    "Output for Sample Input 1\n",
    "ignore\n",
    "Explanation of Output for Sample Input 1\n",
    "The first digit is 9, the last digit is 8, and the second and third digit are both 6, so this is a telemarketer number.\n",
    " \n",
    "Sample Input 2\n",
    "5\n",
    "6\n",
    "6\n",
    "8\n",
    " \n",
    "Output for Sample Input 2\n",
    "answer\n",
    "Explanation of Output for Sample Input 2 The first digit is 5, and so this is not a telemarketer number.\n",
    "'''"
   ]
  },
  {
   "cell_type": "code",
   "execution_count": 470,
   "metadata": {},
   "outputs": [
    {
     "name": "stdout",
     "output_type": "stream",
     "text": [
      "5\n",
      "6\n",
      "6\n",
      "8\n",
      "answer\n"
     ]
    }
   ],
   "source": [
    "a = int(input())\n",
    "b = int(input())\n",
    "c = int(input())\n",
    "d = int(input())\n",
    "if a == 8 or a == 9:\n",
    "    if b == c:\n",
    "        if d == 8 or d == 9:\n",
    "            print('ignore')\n",
    "        else:\n",
    "            print('answer')\n",
    "    else:\n",
    "        print('answer')\n",
    "else:\n",
    "    print('answer')"
   ]
  },
  {
   "cell_type": "code",
   "execution_count": null,
   "metadata": {},
   "outputs": [],
   "source": [
    "'''\n",
    "A common problem in mathematics is to determine which quadrant a given point lies in. There are four quadrants, numbered from 1 to 4, as shown in the diagram below:\n",
    " \n",
    "\n",
    " \n",
    " \n",
    "For example, the point A, which is at coordinates (12, 5) lies in quadrant 1 since both its x and y values are positive, and point B lies in quadrant 2 since its x value is negative and its y value is positive.\n",
    "Your job is to take a point and determine the quadrant it is in. You can assume that neither of the two coordinates will be 0.\n",
    " \n",
    "Input Specification\n",
    "The first line of input contains the integer x (−1 000 ≤ x ≤ 1 000; x ≠ 0). The second line of input contains the integer\n",
    "y (−1000 ≤ y ≤ 1000; y ≠ 0).\n",
    "Output Specification\n",
    "Output the quadrant number (1, 2, 3 or 4) for the point (x, y).\n",
    " \n",
    "Sample Input 1\n",
    "12\n",
    "5\n",
    "\n",
    "Sample Output 1\n",
    "1\n",
    "\n",
    " Sample Input 2\n",
    "9\n",
    "-13\n",
    "\n",
    "Sample Output 2\n",
    "4\n",
    "\n",
    "\n",
    "'''"
   ]
  },
  {
   "cell_type": "code",
   "execution_count": 472,
   "metadata": {},
   "outputs": [
    {
     "name": "stdout",
     "output_type": "stream",
     "text": [
      "9\n",
      "-13\n",
      "4\n"
     ]
    }
   ],
   "source": [
    "x = int(input())\n",
    "y = int(input())\n",
    "if x > 0 and y > 0:\n",
    "    print(1)\n",
    "elif x < 0 and y > 0:\n",
    "    print(2)\n",
    "elif x < 0 and y < 0:\n",
    "    print(3)\n",
    "else:\n",
    "    print(4)"
   ]
  },
  {
   "cell_type": "code",
   "execution_count": null,
   "metadata": {},
   "outputs": [],
   "source": [
    "'''\n",
    "Antonia and David are playing a game.\n",
    "\n",
    "Each player starts with 100 points.\n",
    "\n",
    "The game uses standard six-sided dice and is played in rounds. During one round, each player rolls one die. The player with the lower roll loses the number of points shown on the higher die. If both players roll the same number, no points are lost by either player.\n",
    "\n",
    "Write a program to determine the ﬁnal scores.\n",
    "\n",
    "Input\n",
    "The ﬁrst line of input contains the integer n (1 ≤ n ≤ 15), which is the number of rounds that will be played. On each of the next n lines, will be two integers: the roll of Antonia for that round, followed by a space, followed by the roll of David for that round. Each roll will be an integer between 1 and 6 (inclusive).\n",
    "\n",
    "Output\n",
    "The output will consist of two lines. On the ﬁrst line, output the number of points that Antonia has after all rounds have been played. On the second line, output the number of points that David has after all rounds have been played.\n",
    "\n",
    "Sample Input\n",
    "4\n",
    "5 6\n",
    "6 6\n",
    "4 3\n",
    "5 2\n",
    "Sample Output\n",
    "94\n",
    "91\n",
    "Explanation\n",
    "After the ﬁrst round, David wins, so Antonia loses 6 points. After the second round, there is a tie and no points are lost. After the third round, Antonia wins, so David loses 4 points. After the fourth round, Antonia wins, so David loses 5 points. In total, Antonia has lost 6 points and David has lost 9 points.\n",
    "'''"
   ]
  },
  {
   "cell_type": "code",
   "execution_count": 7,
   "metadata": {},
   "outputs": [
    {
     "name": "stdout",
     "output_type": "stream",
     "text": [
      "4\n",
      "5 6\n",
      "6 6\n",
      "4 3\n",
      "5 2\n",
      "player1 lose\n",
      "94\n",
      "91\n"
     ]
    }
   ],
   "source": [
    "n = int(input())\n",
    "list_input = []\n",
    "for k in range(n):\n",
    "    str1 = input()\n",
    "    list1 = str1.split(' ')\n",
    "    list1 = [int(s) for s in list1]\n",
    "    list_input.append(list1)\n",
    "player1 = 100\n",
    "player2 = 100\n",
    "for x in range(n):\n",
    "    list1 = list_input[x]\n",
    "    if list1[1] > list1[0]:\n",
    "        player1 = player1 - max(list1)\n",
    "    elif list1[0] > list1[1]:\n",
    "        player2-=max(list1)\n",
    "    else:\n",
    "        continue\n",
    "print(player1)\n",
    "print(player2)"
   ]
  },
  {
   "cell_type": "code",
   "execution_count": null,
   "metadata": {},
   "outputs": [],
   "source": [
    "'''\n",
    "Write a program that will read positive input from the user and print the sum of the factors of that number.\n",
    "\n",
    "Sample input and output specifications are given below\n",
    "\n",
    "input\n",
    "\n",
    "2\n",
    "\n",
    "Output\n",
    "\n",
    "3\n",
    "'''"
   ]
  },
  {
   "cell_type": "code",
   "execution_count": 12,
   "metadata": {},
   "outputs": [
    {
     "name": "stdout",
     "output_type": "stream",
     "text": [
      "2\n",
      "3\n"
     ]
    }
   ],
   "source": [
    "n = int(input())\n",
    "list1 = []\n",
    "for x in range(1, n + 1):\n",
    "    if n % x == 0:\n",
    "        list1.append(x)\n",
    "print(sum(list1))"
   ]
  },
  {
   "cell_type": "code",
   "execution_count": null,
   "metadata": {},
   "outputs": [],
   "source": [
    "'''\n",
    "Here (see illustration) is a game board for the game Snakes and Ladders. Each player throws a pair of dice to determine how many squares his/her game piece will advance. If the piece lands on the bottom of a ladder, the piece moves up to the square at the top of the ladder. If the piece lands on the top of a snake, the piece \"slides\" down to the square at the bottom of the snake. If the piece lands on the last square. The player wins. If the piece cannot advance the number of squares indicated by the dice, the piece is not moved at all.\n",
    "\n",
    "In order to help you play this game via a cell phone while travelling, you will write a program that simulates your moves on the board shown and, of course, runs on your handheld computer. You will repeatedly throw the dice and enter the result into the program. After each throw the program will report the number of the square where your piece lands.\n",
    "\n",
    "When the program starts it should assume the piece is on square 1. It should repeatedly read input from the user (a number between 2 and 12) and report the number of the square where the piece lands. In addition, if the piece moves to the last square, the program should print \"You Win!\" and terminate. If the user enters 0 instead of a number between 2 and 12, the program should print \"You Quit!\" and terminate.\n",
    "\n",
    "For clarity, you are to use the board pictured above and you should note that the board has 3 snakes (from 54 to 19, from 90 to 48 and from 99 to 77) and 3 ladders (from 9 to 34, from 40 to 64 and from 67 to 86).\n",
    "'''"
   ]
  },
  {
   "cell_type": "code",
   "execution_count": 16,
   "metadata": {},
   "outputs": [
    {
     "name": "stdout",
     "output_type": "stream",
     "text": [
      "9\n",
      "You are now on square 10\n",
      "11\n",
      "You are now on square 21\n",
      "12\n",
      "You are now on square 33\n",
      "7\n",
      "You are now on square 64\n",
      "3\n",
      "You are now on square 86\n",
      "5\n",
      "You are now on square 91\n",
      "10\n",
      "You are now on square 91\n",
      "9\n",
      "You are now on square 100\n",
      "You Win!\n"
     ]
    }
   ],
   "source": [
    "x = 1\n",
    "while x != 100:\n",
    "    diceroll = int(input())\n",
    "    if x + diceroll > 100:\n",
    "        print('You are now on square', x)\n",
    "        continue\n",
    "    else:\n",
    "        x += diceroll\n",
    "    if x == 9:\n",
    "        x = 34\n",
    "    if x == 40:\n",
    "        x = 64\n",
    "    if x == 67:\n",
    "        x = 86\n",
    "    print('You are now on square', x)\n",
    "print('You Win!')"
   ]
  },
  {
   "cell_type": "code",
   "execution_count": 19,
   "metadata": {},
   "outputs": [
    {
     "data": {
      "text/plain": [
       "'\\nA simile is a combination of an adjective and noun that produces a phrase such as \"Easy as pie\" or \"Cold as ice\".\\n\\nWrite a program to input n adjectives (1 ≤ n ≤ 5) and m nouns (1 ≤ m ≤ 5), and print out all possible similes. The first two lines of input will provide the values of n and m, in that order followed, one per line, by n adjectives and m nouns.\\nYour program may output the similes in any order.\\n\\nSample Input\\n3\\n2\\nEasy\\nSmart\\nSoft\\npie\\nrock\\nSample Output\\nEasy as pie\\nEasy as rock\\nSmart as pie\\nSmart as rock\\nSoft as pie\\nSoft as rock\\n'"
      ]
     },
     "execution_count": 19,
     "metadata": {},
     "output_type": "execute_result"
    }
   ],
   "source": [
    "'''\n",
    "A simile is a combination of an adjective and noun that produces a phrase such as \"Easy as pie\" or \"Cold as ice\".\n",
    "\n",
    "Write a program to input n adjectives (1 ≤ n ≤ 5) and m nouns (1 ≤ m ≤ 5), and print out all possible similes. The first two lines of input will provide the values of n and m, in that order followed, one per line, by n adjectives and m nouns.\n",
    "Your program may output the similes in any order.\n",
    "\n",
    "Sample Input\n",
    "3\n",
    "2\n",
    "Easy\n",
    "Smart\n",
    "Soft\n",
    "pie\n",
    "rock\n",
    "Sample Output\n",
    "Easy as pie\n",
    "Easy as rock\n",
    "Smart as pie\n",
    "Smart as rock\n",
    "Soft as pie\n",
    "Soft as rock\n",
    "'''"
   ]
  },
  {
   "cell_type": "code",
   "execution_count": 20,
   "metadata": {},
   "outputs": [
    {
     "name": "stdout",
     "output_type": "stream",
     "text": [
      "3\n",
      "2\n",
      "Easy\n",
      "Smart\n",
      "Soft\n",
      "pie\n",
      "rock\n",
      "Easy as pie\n",
      "Easy as rock\n",
      "Smart as pie\n",
      "Smart as rock\n",
      "Soft as pie\n",
      "Soft as rock\n"
     ]
    }
   ],
   "source": [
    "adjectives = int(input())\n",
    "nouns = int(input())\n",
    "list1 = []\n",
    "list2 = []\n",
    "for a in range(adjectives):\n",
    "    list1.append(input())\n",
    "for b in range(nouns):\n",
    "    list2.append(input())\n",
    "for x in list1:\n",
    "    for y in list2:\n",
    "        print(x, 'as', y)"
   ]
  },
  {
   "cell_type": "code",
   "execution_count": null,
   "metadata": {},
   "outputs": [],
   "source": [
    "'''\n",
    "You have been asked to take a small icon that appears on the screen of a smart telephone and scale it up so it looks bigger on a regular computer screen.\n",
    "\n",
    "The icon will be encoded as characters (x and *) in a 3 × 3 grid as follows:\n",
    "\n",
    "*x*\n",
    "\n",
    " xx\n",
    "\n",
    "* *\n",
    "\n",
    "Write a program that accepts a positive integer scaling factor and outputs the scaled icon. A scaling factor of k means that each character is replaced by a k × k grid consisting only of that character.\n",
    "\n",
    "Input Format\n",
    "\n",
    "The input will be a positive integer k (k < 25).\n",
    "\n",
    "Output Format\n",
    "\n",
    "The output will be 3k lines, which represent each individual line scaled by a factor of k and repeated k times. A line is scaled by a factor of kby replacing each character in the line with k copies of the character.\n",
    "\n",
    "Sample Input\n",
    "\n",
    "3\n",
    "\n",
    "Sample Output\n",
    "\n",
    "***xxx***\n",
    "\n",
    "***xxx***\n",
    "\n",
    "***xxx***\n",
    "\n",
    "   xxxxxx\n",
    "\n",
    "   xxxxxx\n",
    "\n",
    "   xxxxxx\n",
    "\n",
    "***   ***\n",
    "\n",
    "***   ***\n",
    "\n",
    "***   ***\n",
    "'''"
   ]
  },
  {
   "cell_type": "code",
   "execution_count": 77,
   "metadata": {},
   "outputs": [
    {
     "name": "stdout",
     "output_type": "stream",
     "text": [
      "4\n",
      "****xxxx****\n",
      "****xxxx****\n",
      "****xxxx****\n",
      "****xxxx****\n",
      "    xxxxxxxx\n",
      "    xxxxxxxx\n",
      "    xxxxxxxx\n",
      "    xxxxxxxx\n",
      "****    ****\n",
      "****    ****\n",
      "****    ****\n",
      "****    ****\n"
     ]
    }
   ],
   "source": [
    "k = int(input())\n",
    "str1 = '*' * k\n",
    "str2 = 'x' * k\n",
    "str3 = '*' * k\n",
    "str1 = str1 + str2 + str3\n",
    "for x in range(k):\n",
    "    print(str1)\n",
    "str1 = ' ' * k\n",
    "str2 = 'x' * k\n",
    "str3 = 'x' * k\n",
    "str1 = str1 + str2 + str3\n",
    "for x in range(k):\n",
    "    print(str1)\n",
    "str1 = '*' * k\n",
    "str2 = ' ' * k\n",
    "str3 = '*' * k\n",
    "str1 = str1 + str2 + str3\n",
    "for x in range(k):\n",
    "    print(str1)"
   ]
  },
  {
   "cell_type": "code",
   "execution_count": 27,
   "metadata": {},
   "outputs": [
    {
     "data": {
      "text/plain": [
       "'\\nNikky and Byron are playing a silly game in gym class. Nikky is told by his teacher to walk forward a steps and then walk backward b steps, after which he repeats a forward, b backward, etc. Likewise, Byron is told to walk forward c steps and then walk backward d steps, after which he repeats c forward, d backward, etc. You may assume that a ≥ b and c ≥ d.\\n\\nByron and Nikky have the same length of step, and they are required to take their steps simultaneously (that is, Nikky and Byron will both step forward on their first steps at the same time, and this will continue for each step).\\n\\nNikky and Byron start walking from one end of a soccer field. After s steps, the gym teacher will blow the whistle. Your task is to figure out who has moved the farthest away from the starting position when the whistle is blown.\\n\\nInput Format\\nThe input will be the 5 integers a, b, c, d (1 ≤ a, b, c, d ≤ 100), and s (1 ≤ s ≤ 10000), each on a separate line.\\n\\nOutput Format\\nThe output of your program will be one of three possibilities: Nikky if Nikky is farther ahead after s steps are taken; Byron if Byron is farther ahead after s steps are taken; Tied if Byron and Nikky are at the same distance from their starting position after s steps are taken.\\n\\nSample Input\\n4\\n2\\n5\\n3\\n12\\nSample Output\\nByron\\nExplanation\\nNotice that after 12 steps, Nikky has moved 4 − 2 + 4 − 2 steps, for a total of 4 steps from the starting position, whereas Byron has moved 5 − 3 + 4 steps, for a total of 6 steps from the starting position. Thus, Byron is ahead.\\n'"
      ]
     },
     "execution_count": 27,
     "metadata": {},
     "output_type": "execute_result"
    }
   ],
   "source": [
    "'''\n",
    "Nikky and Byron are playing a silly game in gym class. Nikky is told by his teacher to walk forward a steps and then walk backward b steps, after which he repeats a forward, b backward, etc. Likewise, Byron is told to walk forward c steps and then walk backward d steps, after which he repeats c forward, d backward, etc. You may assume that a ≥ b and c ≥ d.\n",
    "\n",
    "Byron and Nikky have the same length of step, and they are required to take their steps simultaneously (that is, Nikky and Byron will both step forward on their first steps at the same time, and this will continue for each step).\n",
    "\n",
    "Nikky and Byron start walking from one end of a soccer field. After s steps, the gym teacher will blow the whistle. Your task is to figure out who has moved the farthest away from the starting position when the whistle is blown.\n",
    "\n",
    "Input Format\n",
    "The input will be the 5 integers a, b, c, d (1 ≤ a, b, c, d ≤ 100), and s (1 ≤ s ≤ 10000), each on a separate line.\n",
    "\n",
    "Output Format\n",
    "The output of your program will be one of three possibilities: Nikky if Nikky is farther ahead after s steps are taken; Byron if Byron is farther ahead after s steps are taken; Tied if Byron and Nikky are at the same distance from their starting position after s steps are taken.\n",
    "\n",
    "Sample Input\n",
    "4\n",
    "2\n",
    "5\n",
    "3\n",
    "12\n",
    "Sample Output\n",
    "Byron\n",
    "Explanation\n",
    "Notice that after 12 steps, Nikky has moved 4 − 2 + 4 − 2 steps, for a total of 4 steps from the starting position, whereas Byron has moved 5 − 3 + 4 steps, for a total of 6 steps from the starting position. Thus, Byron is ahead.\n",
    "'''"
   ]
  },
  {
   "cell_type": "code",
   "execution_count": 28,
   "metadata": {},
   "outputs": [
    {
     "name": "stdout",
     "output_type": "stream",
     "text": [
      "4\n",
      "2\n",
      "5\n",
      "3\n",
      "12\n",
      "Bryon\n"
     ]
    }
   ],
   "source": [
    "a = int(input())\n",
    "b = int(input())\n",
    "c = int(input())\n",
    "d = int(input())\n",
    "totalsteps = int(input())\n",
    "cyclelength_1 = a + b\n",
    "cyclelength_2 = c + d\n",
    "cyclenumber_1 = totalsteps // cyclelength_1\n",
    "cyclenumber_2 = totalsteps // cyclelength_2\n",
    "stepincrease_1 = cyclenumber_1 * (a - b)\n",
    "stepincrease_2 = cyclenumber_2 * (c - d)\n",
    "remainingsteps_1 = totalsteps % cyclelength_1\n",
    "remainingsteps_2 = totalsteps % cyclelength_2\n",
    "if remainingsteps_1 <= a:\n",
    "    stepincrease_1 += remainingsteps_1\n",
    "else:\n",
    "    stepincrease_1 = stepincrease_1 + 4 - (remainingsteps_1 - 4)\n",
    "if remainingsteps_1 <= c:\n",
    "    stepincrease_2 += remainingsteps_2\n",
    "else:\n",
    "    stepincrease_2 = stepincrease_2 + 4 - (remainingsteps_2 - 4)\n",
    "if stepincrease_1 > stepincrease_2:\n",
    "    print('Nikky')\n",
    "elif stepincrease_2 > stepincrease_1:\n",
    "    print('Bryon')\n",
    "else:\n",
    "    print('Tied')"
   ]
  },
  {
   "cell_type": "markdown",
   "metadata": {},
   "source": [
    "Margaret has looked at the wind floating over the prairies for a long time. After these observations, she has created a formula that will describe the altitude of a weather balloon launched from her house. In particular, her equation predicts the altitude A (in metres above the ground) at hour t after launching her balloon is:\n",
    "\n",
    "$A = -6t^4 + ht^3 + 2t^2 + t$\n",
    "where h is an integer value representing the humidity as a value between 0 and 100 inclusive.\n",
    "\n",
    "Margaret is curious at what the earliest hour is (if any) that her weather balloon will hit the ground after launch, so long as it is no more than the maximum time, M, that Margaret is willing to wait. You can assume that the weather balloon touches ground when A ≤ 0.\n",
    "\n",
    "Input Format\n",
    "The input is two non-negative integers: h (0 ≤ h ≤ 100), the humidity factor, followed by M (0 < M < 240), the maximum number of hours Margaret will wait for the weather balloon to return to ground.\n",
    "\n",
    "Output Format\n",
    "The output will be one of the following possibilities:\n",
    "\n",
    "The balloon does not touch ground in the given time.\n",
    "The balloon first touches ground at hour:\n",
    "T\n",
    "where T is a positive integer value representing the earliest hour when the balloon has altitude less than or equal to zero.\n",
    "\n",
    "where T is a positive integer value representing the earliest hour when the balloon has altitude less than or equal to zero.\n",
    "\n",
    "Sample Cases\n",
    "Input\n",
    "30\n",
    "10\n",
    "\n",
    "Output\n",
    "The balloon first touches ground at hour:\n",
    "6\n",
    "Input\n",
    "70\n",
    "10\n",
    "\n",
    "Output\n",
    "The balloon does not touch ground in the given time.\n"
   ]
  },
  {
   "cell_type": "code",
   "execution_count": 4,
   "metadata": {},
   "outputs": [
    {
     "name": "stdout",
     "output_type": "stream",
     "text": [
      "30\n",
      "10\n",
      "The balloon first touches ground at hour:\n",
      "6\n"
     ]
    }
   ],
   "source": [
    "humidity = int(input())\n",
    "time = int(input())\n",
    "for t in range(1, time + 1):\n",
    "    a = ((-6) * (t ** 4)) + humidity * (t ** 3) + 2 * (t ** 2) + t\n",
    "    if a <= 0:\n",
    "        print('The balloon first touches ground at hour:')\n",
    "        print(t)\n",
    "        break\n",
    "if t == time:\n",
    "    print('The balloon does not touch ground in the given time.')"
   ]
  },
  {
   "cell_type": "code",
   "execution_count": 74,
   "metadata": {},
   "outputs": [
    {
     "data": {
      "text/html": [
       "<div>\n",
       "<style scoped>\n",
       "    .dataframe tbody tr th:only-of-type {\n",
       "        vertical-align: middle;\n",
       "    }\n",
       "\n",
       "    .dataframe tbody tr th {\n",
       "        vertical-align: top;\n",
       "    }\n",
       "\n",
       "    .dataframe thead th {\n",
       "        text-align: right;\n",
       "    }\n",
       "</style>\n",
       "<table border=\"1\" class=\"dataframe\">\n",
       "  <thead>\n",
       "    <tr style=\"text-align: right;\">\n",
       "      <th></th>\n",
       "      <th>race_date</th>\n",
       "      <th>hk_raceid</th>\n",
       "      <th>hk_starterid</th>\n",
       "      <th>registrationnumber</th>\n",
       "      <th>positionatfinish</th>\n",
       "      <th>pw_score</th>\n",
       "    </tr>\n",
       "  </thead>\n",
       "  <tbody>\n",
       "    <tr>\n",
       "      <td>0</td>\n",
       "      <td>2018-08-18</td>\n",
       "      <td>20180818ELP001</td>\n",
       "      <td>00001401366020180818ELP001</td>\n",
       "      <td>14013660</td>\n",
       "      <td>6</td>\n",
       "      <td>-3.892065</td>\n",
       "    </tr>\n",
       "    <tr>\n",
       "      <td>1</td>\n",
       "      <td>2018-08-18</td>\n",
       "      <td>20180818ELP001</td>\n",
       "      <td>00001400998920180818ELP001</td>\n",
       "      <td>14009989</td>\n",
       "      <td>7</td>\n",
       "      <td>0.000000</td>\n",
       "    </tr>\n",
       "    <tr>\n",
       "      <td>2</td>\n",
       "      <td>2018-08-18</td>\n",
       "      <td>20180818ELP002</td>\n",
       "      <td>00001501762120180818ELP002</td>\n",
       "      <td>15017621</td>\n",
       "      <td>1</td>\n",
       "      <td>0.000000</td>\n",
       "    </tr>\n",
       "    <tr>\n",
       "      <td>3</td>\n",
       "      <td>2018-08-18</td>\n",
       "      <td>20180818ELP002</td>\n",
       "      <td>00001501331720180818ELP002</td>\n",
       "      <td>15013317</td>\n",
       "      <td>2</td>\n",
       "      <td>0.000000</td>\n",
       "    </tr>\n",
       "    <tr>\n",
       "      <td>4</td>\n",
       "      <td>2018-08-18</td>\n",
       "      <td>20180818ELP002</td>\n",
       "      <td>00001401539520180818ELP002</td>\n",
       "      <td>14015395</td>\n",
       "      <td>3</td>\n",
       "      <td>1.951527</td>\n",
       "    </tr>\n",
       "  </tbody>\n",
       "</table>\n",
       "</div>"
      ],
      "text/plain": [
       "    race_date       hk_raceid                hk_starterid registrationnumber  \\\n",
       "0  2018-08-18  20180818ELP001  00001401366020180818ELP001           14013660   \n",
       "1  2018-08-18  20180818ELP001  00001400998920180818ELP001           14009989   \n",
       "2  2018-08-18  20180818ELP002  00001501762120180818ELP002           15017621   \n",
       "3  2018-08-18  20180818ELP002  00001501331720180818ELP002           15013317   \n",
       "4  2018-08-18  20180818ELP002  00001401539520180818ELP002           14015395   \n",
       "\n",
       "   positionatfinish  pw_score  \n",
       "0                 6 -3.892065  \n",
       "1                 7  0.000000  \n",
       "2                 1  0.000000  \n",
       "3                 2  0.000000  \n",
       "4                 3  1.951527  "
      ]
     },
     "execution_count": 74,
     "metadata": {},
     "output_type": "execute_result"
    }
   ],
   "source": [
    "import pandas as pd\n",
    "df = pd.read_csv('df_10_0.csv', sep='\\t')\n",
    "df.head()"
   ]
  },
  {
   "cell_type": "code",
   "execution_count": 75,
   "metadata": {},
   "outputs": [
    {
     "data": {
      "text/plain": [
       "0"
      ]
     },
     "execution_count": 75,
     "metadata": {},
     "output_type": "execute_result"
    }
   ],
   "source": [
    "df['pw_score'].isnull().sum()"
   ]
  },
  {
   "cell_type": "markdown",
   "metadata": {},
   "source": [
    "An artist wants to construct a sign whose letters will rotate freely in the breeze. In order to do this, she must only use letters that are not changed by rotation of 180 degrees: I, O, S, H, Z, X, and N.\n",
    "\n",
    "Write a program that reads a word and determines whether the word can be used on the sign.\n",
    "\n",
    "Input\n",
    "The input will consist of one word, all in uppercase letters, with no spaces. The maximum length of the word will be 30 letters, and the word will have at least one letter in it.\n",
    "\n",
    "Output\n",
    "Output YES if the input word can be used on the sign; otherwise, output NO.\n",
    "\n",
    "Sample Input 1\n",
    "SHINS\n",
    "Sample Output 1\n",
    "YES\n",
    "Sample Input 2\n",
    "NOISE\n",
    "Sample Output 2\n",
    "NO"
   ]
  },
  {
   "cell_type": "code",
   "execution_count": 84,
   "metadata": {},
   "outputs": [
    {
     "name": "stdout",
     "output_type": "stream",
     "text": [
      "NOISE\n",
      "NO\n"
     ]
    }
   ],
   "source": [
    "count = 0\n",
    "str1 = input()\n",
    "list1 = list(str1)\n",
    "list2 = ['I','O','S','H','Z','X','N']\n",
    "for x in list1:\n",
    "    if x in list2:\n",
    "        count += 1\n",
    "    else:\n",
    "        break\n",
    "if count == len(list1):\n",
    "    print('YES')\n",
    "else:\n",
    "    print('NO')"
   ]
  },
  {
   "cell_type": "markdown",
   "metadata": {},
   "source": [
    "Americans spell differently from Canadians. Americans write \"neighbor\" and \"color\" while Canadians write \"neighbour\" and \"colour\".\n",
    "\n",
    "Write a program to help Americans translate to Canadian.\n",
    "\n",
    "You should input a word (not to exceed 64 letters) and if the word appears to use American spelling, the program should echo the Canadian spelling for the same word. If the word does not appear to use American spelling, it should be output without change. When the user types \"quit!\" the program should terminate.\n",
    "\n",
    "The rules for detecting American spelling are quite naive: If the word has more than four letters and has a suffix consisting of a consonant followed by \"or\", you may assume it is an American spelling, and that the equivalent Canadian spelling replaces the \"or\" by \"our\". Note: you should treat the letter \"y\" as a vowel.\n",
    "\n",
    "Sample Input\n",
    "color\n",
    "for\n",
    "taylor\n",
    "quit!\n",
    "Sample Output\n",
    "colour\n",
    "for\n",
    "taylour"
   ]
  },
  {
   "cell_type": "code",
   "execution_count": 92,
   "metadata": {},
   "outputs": [
    {
     "name": "stdout",
     "output_type": "stream",
     "text": [
      "color\n",
      "for\n",
      "taylor\n",
      "quit!\n",
      "colour\n",
      "for\n",
      "taylour\n"
     ]
    }
   ],
   "source": [
    "list1 = []\n",
    "a = input()\n",
    "while a != 'quit!':\n",
    "    list1.append(a)\n",
    "    a = input()\n",
    "vowels = ['a', 'e', 'i', 'o', 'u']\n",
    "for x in list1:\n",
    "    if len(x) > 4:\n",
    "        if x[-2:] == 'or':\n",
    "            if x[-3] not in vowels:\n",
    "                y = x.replace('or', 'our')\n",
    "                print(y)\n",
    "            else:\n",
    "                print(x)\n",
    "        else:\n",
    "            print(x)\n",
    "    else:\n",
    "        print(x)"
   ]
  },
  {
   "cell_type": "markdown",
   "metadata": {},
   "source": [
    "Problem Description\n",
    "\n",
    "You supervise a small parking lot which has N parking spaces.\n",
    "\n",
    "Yesterday, you recorded which parking spaces were occupied by cars and which were empty.\n",
    "\n",
    "Today, you recorded the same information.\n",
    "\n",
    "How many of the parking spaces were occupied both yesterday and today?\n",
    "\n",
    "Input Specification\n",
    "\n",
    "The first line of input contains the integer N (1 ≤ N ≤ 100). The second and third lines of input\n",
    "\n",
    "contain N characters each. The second line of input records the information about yesterday’s\n",
    "\n",
    "parking spaces, and the third line of input records the information about today’s parking spaces.\n",
    "\n",
    "Each of these 2N characters will either be C to indicate an occupied space or . to indicate it was\n",
    "\n",
    "an empty parking space.\n",
    "\n",
    "Output Specification\n",
    "\n",
    "Output the number of parking spaces which were occupied yesterday and today.\n",
    "\n",
    "Sample Input 1\n",
    "\n",
    "5\n",
    "\n",
    "CC..C\n",
    "\n",
    ".CC..\n",
    "\n",
    "Output for Sample Input 1\n",
    "\n",
    "1\n",
    "\n",
    "Explanation of Output for Sample Input 1\n",
    "\n",
    "Only the second parking space from the left was occupied yesterday and today.\n",
    "\n",
    "Sample Input 2\n",
    "\n",
    "7\n",
    "\n",
    "CCCCCCC\n",
    "\n",
    "C.C.C.C\n",
    "\n",
    "Output for Sample Input 2\n",
    "\n",
    "4\n",
    "\n",
    "Explanation of Output for Sample Input 2\n",
    "\n",
    "The first, third, fifth, and seventh parking spaces were occupied yesterday and today"
   ]
  },
  {
   "cell_type": "code",
   "execution_count": 95,
   "metadata": {},
   "outputs": [
    {
     "name": "stdout",
     "output_type": "stream",
     "text": [
      "5\n",
      "CC..C\n",
      ".CC..\n",
      "1\n"
     ]
    }
   ],
   "source": [
    "n = int(input())\n",
    "park1 = input()\n",
    "park2 = input()\n",
    "count = 0\n",
    "list1 = list(park1)\n",
    "list2 = list(park2)\n",
    "for k, x in enumerate(list1):\n",
    "    if x == 'C' and list2[k] == 'C':\n",
    "        count += 1\n",
    "print(count)"
   ]
  },
  {
   "cell_type": "markdown",
   "metadata": {},
   "source": [
    "A palindrome is a word which is the same when read forwards as it is when read backwards. For example, mom and anna are two palindromes.\n",
    "\n",
    "A word which has just one letter, such as a, is also a palindrome.\n",
    "\n",
    "Given a word, what is the longest palindrome that is contained in the word? That is, what is the longest palindrome that we can obtain, if we are allowed to delete characters from the beginning and/or the end of the string?\n",
    "\n",
    "Input Format\n",
    "The input will consist of one line, containing a sequence of at least 1 and at most 40 lowercase letters.\n",
    "\n",
    "Output Format\n",
    "Output the total number of letters of the longest palindrome contained in the input word.\n",
    "\n",
    "Sample Input 1\n",
    "banana\n",
    "Sample Output 1\n",
    "5\n",
    "Explanation 1\n",
    "The palindrome anana has 5 letters.\n",
    "\n",
    "Sample Input 2\n",
    "abracadabra\n",
    "Sample Output 2\n",
    "3\n",
    "Explanation 2\n",
    "The palindromes aca and ada have 3 letters, and there are no other palindromes in the input which are longer.\n",
    "\n",
    "Sample Input 3\n",
    "abba\n",
    "Sample Output 3\n",
    "4"
   ]
  },
  {
   "cell_type": "code",
   "execution_count": 103,
   "metadata": {},
   "outputs": [],
   "source": [
    "def checkifpalindrome(list1):\n",
    "    if list1 == list1[::-1]:\n",
    "        return True\n",
    "    return False"
   ]
  },
  {
   "cell_type": "code",
   "execution_count": 107,
   "metadata": {},
   "outputs": [
    {
     "name": "stdout",
     "output_type": "stream",
     "text": [
      "abracadabra\n",
      "3\n"
     ]
    }
   ],
   "source": [
    "str1 = input()\n",
    "list1 = list(str1)\n",
    "listofpalindromes = []\n",
    "for start in range(len(list1)+1):\n",
    "    for end in range(start+1, len(list1)+1):\n",
    "        if checkifpalindrome(list1[start : end]) == True:\n",
    "            listofpalindromes.append(len(list1[start : end]))\n",
    "print(max(listofpalindromes))"
   ]
  },
  {
   "cell_type": "markdown",
   "metadata": {},
   "source": [
    "Problem Description\n",
    "Your teacher likes to give multiple choice tests. One benefit of giving these tests is that they are easy to mark, given an answer key. The other benefit is that students believe they have a one-in-five chance of getting the correct answer, assuming the multiple choice possibilities are A,B,C,D or E.\n",
    "\n",
    "Write a program that your teacher can use to grade one multiple choice test.\n",
    "\n",
    " \n",
    "\n",
    "Input Specification\n",
    "The input will contain the number N (0 < N < 10000) followed by 2N lines. The 2N lines are composed of N lines of student responses (with one of A,B,C,D or E on each line), followed by N lines of correct answers (with one of A,B,C,D or E on each line), in the same order as the student answered the questions (that is, if line i is the student response, then line N + i contains the correct answer to that question).\n",
    "\n",
    " \n",
    "\n",
    "Output Specification\n",
    "Output the integer C (0 ≤ C ≤ N ) which corresponds to the number of questions the student answered correctly.\n",
    "\n",
    " \n",
    "\n",
    "Sample Input 1\n",
    "3\n",
    "\n",
    "A B C A C B\n",
    "\n",
    " \n",
    "\n",
    "Output for Sample Input 1\n",
    "1\n",
    "\n",
    " \n",
    "\n",
    "Sample Input 2\n",
    "3\n",
    "\n",
    "A A A A B A\n",
    "\n",
    " \n",
    "\n",
    "Output for Sample Input 2\n",
    "2"
   ]
  },
  {
   "cell_type": "code",
   "execution_count": 116,
   "metadata": {},
   "outputs": [
    {
     "name": "stdout",
     "output_type": "stream",
     "text": [
      "3\n",
      "A B C A C B\n",
      "1\n"
     ]
    }
   ],
   "source": [
    "n = int(input())\n",
    "str1 = input()\n",
    "count = 0\n",
    "list1 = str1.split(' ')\n",
    "sublist1 = list1[:n]\n",
    "sublist2 = list1[n:]\n",
    "for k, x in enumerate(sublist1):\n",
    "    if x == sublist2[k]:\n",
    "        count += 1\n",
    "print(count)"
   ]
  },
  {
   "cell_type": "markdown",
   "metadata": {},
   "source": [
    "In Sweden, there is a simple child’s game similar to Pig Latin called Ro¨varspra˚ket (Robbers Lan- guage).\n",
    "\n",
    "In the CCC version of Ro¨varspra˚ket, every consonant is replaced by three letters, in the following order:\n",
    "\n",
    " \n",
    "\n",
    "•   the consonant itself;\n",
    "\n",
    "•   the vowel closest to the consonant in the alphabet (e.g., if the consonant is d, then the closest vowel is e), with the rule that if the consonant falls exactly between two vowels, then the vowel closer to the start of the alphabet will be chosen (e.g., if the consonant is c, then the closest vowel is a);\n",
    "\n",
    "•   the next consonant in the alphabet following the original consonant (e.g., if the consonant is d, then the next consonant is f) except if the original consonant is z, in which case the next consonant is z as well.\n",
    "\n",
    " \n",
    "\n",
    "Vowels in the word remain the same. (Vowels are a, e, i, o, u and all other letters are consonants.) Write a program that translates a word from English into Ro¨varspra˚ket.\n",
    "\n",
    "Input Specification\n",
    "The input consists of one word entirely composed of lower-case letters. There will be at least one letter and no more than 30 letters in this word.\n",
    "\n",
    " \n",
    "\n",
    "Output Specification\n",
    "Output the word as it would be translated into Ro¨varspra˚ket on one line.\n",
    "\n",
    " \n",
    "\n",
    "Sample Input 1\n",
    "Joy\n",
    "\n",
    " \n",
    "\n",
    "Output for Sample Input 1\n",
    "jikoyuz\n",
    "\n",
    " \n",
    "\n",
    "Sample Input 2\n",
    "ham\n",
    "\n",
    " \n",
    "\n",
    "Output for Sample Input 2\n",
    "hijamon"
   ]
  },
  {
   "cell_type": "code",
   "execution_count": 131,
   "metadata": {},
   "outputs": [
    {
     "data": {
      "text/plain": [
       "'a'"
      ]
     },
     "execution_count": 131,
     "metadata": {},
     "output_type": "execute_result"
    }
   ],
   "source": [
    "def findclosestvowel(x):\n",
    "    alphabet = 'abcdefghijklmnopqrstuvwxyz'\n",
    "    alphabet = list(alphabet)\n",
    "    vowels = ['a', 'e', 'i', 'o', 'u']\n",
    "    v_ind = [alphabet.index(s) for s in vowels]\n",
    "    k = alphabet.index(x)\n",
    "    distances = [abs(k - s) for s in v_ind]\n",
    "    amin = min(distances)\n",
    "    for m, a in enumerate(distances):\n",
    "        if amin == a:\n",
    "            return(vowels[m])\n",
    "findclosestvowel('c')"
   ]
  },
  {
   "cell_type": "code",
   "execution_count": 141,
   "metadata": {},
   "outputs": [
    {
     "name": "stdout",
     "output_type": "stream",
     "text": [
      "ham\n",
      "hijamon\n"
     ]
    }
   ],
   "source": [
    "str1 = input()\n",
    "str1 = str1.lower()\n",
    "alphabet = 'abcdefghijklmnopqrstuvwxyz'\n",
    "alphabet = list(alphabet)\n",
    "vowels = ['a', 'e', 'i', 'o', 'u']\n",
    "consonants = [x for x in alphabet if x not in vowels]\n",
    "list1 = list(str1)\n",
    "str_out = ''\n",
    "for x in list1:\n",
    "    if x in consonants:\n",
    "        str2 = x\n",
    "        a = findclosestvowel(x)\n",
    "        str2 += a\n",
    "        consonants.append('b')\n",
    "        b = consonants[consonants.index(x) + 1]\n",
    "        str2 += b\n",
    "        str_out += str2\n",
    "    else:\n",
    "        str_out += x\n",
    "print(str_out)"
   ]
  },
  {
   "cell_type": "code",
   "execution_count": null,
   "metadata": {},
   "outputs": [],
   "source": []
  },
  {
   "cell_type": "code",
   "execution_count": 63,
   "metadata": {},
   "outputs": [
    {
     "name": "stdout",
     "output_type": "stream",
     "text": [
      "1\n",
      "5\n"
     ]
    }
   ],
   "source": [
    "import math\n",
    "intArr1 = [1,2,3,4,5]\n",
    "amin = math.inf\n",
    "amax = -math.inf\n",
    "for x in intArr1:\n",
    "    if x < amin:\n",
    "        amin = x\n",
    "    if x > amax:\n",
    "        amax = x\n",
    "print(amin)\n",
    "print(amax)"
   ]
  },
  {
   "cell_type": "markdown",
   "metadata": {},
   "source": [
    "ane's family has just moved to a new city and today is her first day of school. She has a list of instructions for walking from her home to the school. Each instruction describes a turn she must make. For example, the list\n",
    "\n",
    "R\n",
    "QUEEN\n",
    "R\n",
    "FOURTH\n",
    "R\n",
    "SCHOOL\n",
    "means that she must turn right onto Queen Street, then turn right onto Fourth Street, then finally turn right into the school. Your task is to write a computer program which will create instructions for walking in the opposite direction: from her school to her home.\n",
    "\n",
    "The input and output for your program will be formatted like the samples below. You may assume that Jane's list contains at least two but at most five instructions, and you may assume that each line contains at most 10 characters, all of them capital letters. The last instruction will always be a turn into the \"SCHOOL\".\n",
    "\n",
    "Sample Input 1\n",
    "R\n",
    "QUEEN\n",
    "R\n",
    "FOURTH\n",
    "R\n",
    "SCHOOL\n",
    "Sample Output 1\n",
    "Turn LEFT onto FOURTH street.\n",
    "Turn LEFT onto QUEEN street.\n",
    "Turn LEFT into your HOME.\n",
    "Sample Input 2\n",
    "L\n",
    "MAIN\n",
    "R\n",
    "SCHOOL\n",
    "Sample Output 2\n",
    "Turn LEFT onto MAIN street.\n",
    "Turn RIGHT into your HOME."
   ]
  },
  {
   "cell_type": "code",
   "execution_count": 71,
   "metadata": {},
   "outputs": [
    {
     "name": "stdout",
     "output_type": "stream",
     "text": [
      "R\n",
      "MAIN\n",
      "R\n",
      "SCHOOL\n",
      "Turn LEFT onto MAIN street.\n",
      "Turn LEFT into your HOME.\n"
     ]
    }
   ],
   "source": [
    "list1 = []\n",
    "a = input()\n",
    "while a != 'SCHOOL':\n",
    "    list1.append(a)\n",
    "    a = input()\n",
    "list1.append(a)\n",
    "list1 = list1[::-1]\n",
    "list1 = list1[1:]\n",
    "a = list1.pop(-1)\n",
    "for k, x in enumerate(list1):\n",
    "    if x == 'R':\n",
    "        print('Turn LEFT onto', list1[k + 1], 'street.')\n",
    "    if x == 'L':\n",
    "        print('Turn RIGHT onto', list1[k + 1], 'street.')\n",
    "if a == 'R':\n",
    "    print('Turn LEFT into your HOME.')\n",
    "if a == 'L':\n",
    "    print('Turn RIGHT into your HOME.')"
   ]
  },
  {
   "cell_type": "markdown",
   "metadata": {},
   "source": [
    "Magic Squares are square arrays of numbers that have the interesting property that the numbers in each column, and in each row, all add up to the same total.\n",
    "\n",
    "Given a 4 × 4 square of numbers, determine if it is a magic square.\n",
    "\n",
    "Input Format\n",
    "The input consists of four lines, each line having 4 space-separated integers.\n",
    "\n",
    "Output Format\n",
    "Output either magic if the input is a magic square, or not magic if the input is not a magic square.\n",
    "\n",
    "Sample Input 1\n",
    "16 3 2 13\n",
    "5 10 11 8\n",
    "9 6 7 12\n",
    "4 15 14 1\n",
    "Sample Output 1\n",
    "magic\n",
    "Explanation 1\n",
    "Notice that each row adds up to 34, and each column also adds up to 34.\n",
    "\n",
    "Sample Input 2\n",
    "5 10 1 3\n",
    "10 4 2 3\n",
    "1 2 8 5\n",
    "3 3 5 0\n",
    "Sample Output 2\n",
    "not magic\n",
    "Explanation 2\n",
    "Notice that the top row adds up to 19, but the rightmost column adds up to 11."
   ]
  },
  {
   "cell_type": "code",
   "execution_count": 104,
   "metadata": {},
   "outputs": [
    {
     "name": "stdout",
     "output_type": "stream",
     "text": [
      "5 10 1 3\n",
      "10 4 2 3\n",
      "1 2 8 5\n",
      "3 3 5 0\n",
      "not magic\n"
     ]
    }
   ],
   "source": [
    "str1 = input()\n",
    "str2 = input()\n",
    "str3 = input()\n",
    "str4 = input()\n",
    "list1 = str1.split(' ')\n",
    "list2 = str2.split(' ')\n",
    "list3 = str3.split(' ')\n",
    "list4 = str4.split(' ')\n",
    "list1 = [int(s) for s in list1]\n",
    "list2 = [int(s) for s in list2]\n",
    "list3 = [int(s) for s in list3]\n",
    "list4 = [int(s) for s in list4]\n",
    "if sum(list1) == sum(list2) and sum(list2) == sum(list3) and sum(list3) == sum(list4):\n",
    "    asum = sum(list1)\n",
    "    count = 0\n",
    "    for k in range(4):\n",
    "        if list1[k] + list2[k] + list3[k] + list4[k] == asum:\n",
    "            print(list1[k] + list2[k] + list3[k] + list4[k])\n",
    "            count += 1\n",
    "    if count == 4:\n",
    "        print('magic')\n",
    "    else:\n",
    "        print('not magic')\n",
    "else:\n",
    "    print('not magic')"
   ]
  },
  {
   "cell_type": "markdown",
   "metadata": {},
   "source": [
    "In the CCC version of the game, there are 10 possible dollar amounts: $100, $500, $1,000, $5,000,\n",
    "$10,000, $25,000, $50,000, $100,000, $500,000, $1,000,000 sealed in imaginary briefcases. These dollar\n",
    "amounts are numbered 1 – 10 (i.e. 1 → $100, 2 → $500, 3 → $1,000, ..., 10 → $1,000,000). Before the\n",
    "game starts the contestant will have chosen one of the briefcases as his/hers to possibly keep. During the\n",
    "game, some of the ten possible dollar amounts have been eliminated from the game because the\n",
    "contestant has selected some of the other briefcases and revealed the amounts inside.\n",
    "At some point, the contestant will stop opening briefcases, and a “Banker” will offer the contestant cash in\n",
    "exchange for what might be contained in his/her chosen briefcase. Then the contestant is asked: “Deal or\n",
    "No Deal?”.\n",
    "Write a program that helps a player decide if he/she should choose “deal” or “no deal”, by calculating the\n",
    "average of the remaining amounts (i.e., all unopened briefcases, including his/her “own” briefcase), and\n",
    "comparing that value to the “Banker’s” offer. If the offer is higher than the average, then the player should\n",
    "”deal” otherwise, the player should say “no deal”.\n",
    "Input\n",
    "The user must input a number n (1 ≤ n < 10) which indicates how many cases have been opened so far,\n",
    "followed by a list of integers between 1 and 10 representing the values in the game that have been\n",
    "eliminated, followed by the “Banker’s” offer. For example: 3 2 5 10 300 indicates that briefcases\n",
    "containing $500, $10,000, and $1,000,000 have been eliminated and the Banker’s offer is $300. You may\n",
    "assume that no duplicate case numbers are entered for the eliminated values, and you may assume that\n",
    "the “Banker’s” offer is an integer greater than 10.\n",
    "Output\n",
    "The program will print out one of two statements: “deal” or “no deal”.\n",
    "Sample Input 1\n",
    "2\n",
    "3\n",
    "8\n",
    "198000\n",
    "Sample Output 1\n",
    "no deal\n",
    "Sample Input 2\n",
    "8\n",
    "10\n",
    "9\n",
    "8\n",
    "7\n",
    "6\n",
    "5\n",
    "4\n",
    "3\n",
    "400\n",
    "Sample Output 2\n",
    "deal"
   ]
  },
  {
   "cell_type": "code",
   "execution_count": 111,
   "metadata": {},
   "outputs": [
    {
     "name": "stdout",
     "output_type": "stream",
     "text": [
      "8\n",
      "10\n",
      "9\n",
      "8\n",
      "7\n",
      "6\n",
      "5\n",
      "4\n",
      "3\n",
      "400\n",
      "deal\n"
     ]
    }
   ],
   "source": [
    "n = int(input())\n",
    "list1 = []\n",
    "for x in range(n):\n",
    "    list1.append(int(input()))\n",
    "offer = int(input())\n",
    "dict1 = {1:100, 2:500, 3:1000, 4:5000, 5:10000, 6:25000, 7:50000, 8:100000, 9:500000, 10:1000000}\n",
    "count = 0\n",
    "for x in list1:\n",
    "    count += dict1[x]\n",
    "if count > offer:\n",
    "    print('deal')\n",
    "else:\n",
    "    print('no deal')"
   ]
  },
  {
   "cell_type": "markdown",
   "metadata": {},
   "source": [
    "The CEMC is organizing a workshop with an activity involving pairs of students. They decided to assign\n",
    "partners ahead of time. You need to determine if they did this consistently. That is, whenever A is a partner\n",
    "of B, then B is also a partner of A, and no one is a partner of themselves.\n",
    "Input\n",
    "The input consists of three lines. The first line consists of an integer N (1 < N ≤ 30), which is the number of\n",
    "students in the class. The second line contains the first names of the N students separated by single\n",
    "spaces. (Names contain only uppercase or lowercase letters, and no two students have the same first\n",
    "name). The third line contains the same N names in some order, separated by single spaces.\n",
    "The positions of the names in the last two lines indicate the assignment of partners: the i-th name on the\n",
    "second line is the assigned partner of the i-th name on the third line.\n",
    "Output\n",
    "The output will be good if the two lists of names are arranged consistently, and bad if the arrangement of\n",
    "partners is not consistent.\n",
    "Sample Input 1\n",
    "4\n",
    "Ada Alan Grace John\n",
    "John Grace Alan Ada\n",
    "Sample Output 1\n",
    "good\n",
    "Explanation for Sample 1\n",
    "Ada and John are partners, and Alan and Grace are partners. This arrangement is consistent.\n",
    "Sample Input 2\n",
    "7\n",
    "Rich Graeme Michelle Sandy Vlado Ron Jacob\n",
    "Ron Vlado Sandy Michelle Rich Graeme Jacob\n",
    "Sample Output 2\n",
    "bad\n",
    "Explanation for Sample 1\n",
    "Graeme is partnered with Vlado, but Vlado is partnered with Rich. This is not consistent. It is also\n",
    "inconsistent because Jacob is partnered with himself."
   ]
  },
  {
   "cell_type": "code",
   "execution_count": 8,
   "metadata": {},
   "outputs": [
    {
     "name": "stdout",
     "output_type": "stream",
     "text": [
      "4\n",
      "Ada Alan Grace John\n",
      "John Grace Alan Ada\n",
      "good\n"
     ]
    }
   ],
   "source": [
    "n = input()\n",
    "str1 = input()\n",
    "str2 = input()\n",
    "def assigning_partners(n, str1, str2):\n",
    "    confirmation = 0\n",
    "    list1 = str1.split(' ')\n",
    "    list2 = str2.split(' ')\n",
    "    for k, x in enumerate(list1):\n",
    "        if list2[k] == list1[(len(list1) - k - 1)]:\n",
    "            confirmation += 1\n",
    "    if confirmation == len(list1):\n",
    "        return 'good'\n",
    "    return 'bad'\n",
    "result = assigning_partners(n, str1, str2)\n",
    "print(result)"
   ]
  },
  {
   "cell_type": "markdown",
   "metadata": {},
   "source": [
    "You are trying to pass the time while at the optometrist. You notice there is a grid of four numbers:\n",
    "\n",
    " \n",
    "\n",
    "1\n",
    "\n",
    "2\n",
    "\n",
    "3\n",
    "\n",
    "4\n",
    "\n",
    " \n",
    "\n",
    "You see lots of mirrors and lenses at the optometrist, and wonder how flipping the grid horizontally or vertically would change the grid.\n",
    "\n",
    "Specifically, a “horizontal” flip (across the horizontal centre line) would take the original grid of four numbers and result in:\n",
    "\n",
    " \n",
    "\n",
    "3\n",
    "\n",
    "4\n",
    "\n",
    "1\n",
    "\n",
    "2\n",
    "\n",
    " \n",
    "\n",
    "A “vertical” flip (across the vertical centre line) would take the original grid of four numbers and result in:\n",
    "\n",
    " \n",
    "\n",
    "2\n",
    "\n",
    "1\n",
    "\n",
    "4\n",
    "\n",
    "3\n",
    "\n",
    " \n",
    "\n",
    "Your task is to determine the final orientation of the numbers in the grid after a sequence of hori- zontal and vertical flips.\n",
    "\n",
    " \n",
    "\n",
    "Input Specification\n",
    "The input consists of one line, composed of a sequence of at least one and at most 1 000 000 characters. Each character is either H, representing a horizontal flip, or V, representing a vertical flip.\n",
    "\n",
    "For 8 of the 15 available marks, there will be at most 1 000 characters in the input.\n",
    "\n",
    " \n",
    "\n",
    "Output Specification\n",
    "Output the final orientation of the four numbers. Specifically, each of the two lines of output will contain two integers, separated by one space.\n",
    "\n",
    " \n",
    "\n",
    "Sample Input 1\n",
    "HV\n",
    "\n",
    " \n",
    "\n",
    "Output for Sample Input 1\n",
    "4 3\n",
    "\n",
    "2 1\n",
    "\n",
    "\n",
    "Sample Input 2\n",
    "VVHH\n",
    "\n",
    "\n",
    "Output for Sample Input 2\n",
    "1 2\n",
    "3 4"
   ]
  },
  {
   "cell_type": "code",
   "execution_count": 12,
   "metadata": {},
   "outputs": [
    {
     "name": "stdout",
     "output_type": "stream",
     "text": [
      "VVHH\n",
      "1 2\n",
      "3 4\n"
     ]
    }
   ],
   "source": [
    "str1 = input()\n",
    "list1 = list(str1)\n",
    "matrix = [[1,2], [3,4]]\n",
    "for x in list1:\n",
    "    if x == 'H':\n",
    "        a = matrix.pop(0)\n",
    "        matrix.append(a)\n",
    "    if x == 'V':\n",
    "        matrix = [[matrix[0][1], matrix[0][0]], [matrix[1][1], matrix[1][0]]]\n",
    "for x in matrix:\n",
    "    x = [str(s) for s in x]\n",
    "    print(' '.join(x))"
   ]
  },
  {
   "cell_type": "markdown",
   "metadata": {},
   "source": [
    "**You must solve this using ArrayList**\n",
    "\n",
    "Jane's family has just moved to a new city and today is her first day of school. She has a list of instructions for walking from her home to the school. Each instruction describes a turn she must make. For example, the list\n",
    "\n",
    "R\n",
    "QUEEN\n",
    "R\n",
    "FOURTH\n",
    "R\n",
    "SCHOOL\n",
    "means that she must turn right onto Queen Street, then turn right onto Fourth Street, then finally turn right into the school. Your task is to write a computer program which will create instructions for walking in the opposite direction: from her school to her home.\n",
    "\n",
    "The input and output for your program will be formatted like the samples below. You may assume that Jane's list contains at least two but at most five instructions, and you may assume that each line contains at most 10 characters, all of them capital letters. The last instruction will always be a turn into the \"SCHOOL\".\n",
    "\n",
    "Sample Input 1\n",
    "R\n",
    "QUEEN\n",
    "R\n",
    "FOURTH\n",
    "R\n",
    "SCHOOL\n",
    "Sample Output 1\n",
    "Turn LEFT onto FOURTH street.\n",
    "Turn LEFT onto QUEEN street.\n",
    "Turn LEFT into your HOME.\n",
    "Sample Input 2\n",
    "L\n",
    "MAIN\n",
    "R\n",
    "SCHOOL\n",
    "Sample Output 2\n",
    "Turn LEFT onto MAIN street.\n",
    "Turn RIGHT into your HOME."
   ]
  },
  {
   "cell_type": "code",
   "execution_count": 18,
   "metadata": {},
   "outputs": [
    {
     "name": "stdout",
     "output_type": "stream",
     "text": [
      "R\n",
      "QUEEN\n",
      "R\n",
      "FOURTH\n",
      "R\n",
      "SCHOOL\n",
      "Turn LEFT onto FOURTH street.\n",
      "Turn LEFT onto QUEEN street.\n",
      "Turn LEFT into your HOME.\n"
     ]
    }
   ],
   "source": [
    "list1 = []\n",
    "a = input()\n",
    "while a != 'SCHOOL':\n",
    "    list1.append(a)\n",
    "    a = input()\n",
    "list1.append(a)\n",
    "list1 = list1[::-1]\n",
    "list1 = list1[1:]\n",
    "a = list1.pop(-1)\n",
    "for k, x in enumerate(list1):\n",
    "    if x == 'R':\n",
    "        print('Turn LEFT onto', list1[k + 1], 'street.')\n",
    "    if x == 'L':\n",
    "        print('Turn RIGHT onto', list1[k + 1], 'street.')\n",
    "if a == 'R':\n",
    "    print('Turn LEFT into your HOME.')\n",
    "if a == 'L':\n",
    "    print('Turn RIGHT into your HOME.')"
   ]
  },
  {
   "cell_type": "markdown",
   "metadata": {},
   "source": [
    "Write a program that will read a sentence from the user and print all the words in the sentence. You are nor allowed to use the split function in a y language.\n",
    "\n",
    "Sample input and output specifications are given below.\n",
    "\n",
    "Input\n",
    "\n",
    "the red cat sat on the mat\n",
    "\n",
    "Output\n",
    "\n",
    "the\n",
    "\n",
    "red\n",
    "\n",
    "cat\n",
    "\n",
    "sat\n",
    "\n",
    "on\n",
    "\n",
    "the\n",
    "\n",
    "mat"
   ]
  },
  {
   "cell_type": "code",
   "execution_count": 21,
   "metadata": {},
   "outputs": [
    {
     "name": "stdout",
     "output_type": "stream",
     "text": [
      "the red cat sat on the mat\n",
      "the\n",
      "red\n",
      "cat\n",
      "sat\n",
      "on\n",
      "the\n",
      "mat\n"
     ]
    }
   ],
   "source": [
    "str1 = input()\n",
    "list1 = list(str1)\n",
    "list1.append(' ')\n",
    "str1 = ''\n",
    "for x in list1:\n",
    "    if x != ' ':\n",
    "        str1 += x\n",
    "    else:\n",
    "        print(str1)\n",
    "        str1 = ''"
   ]
  },
  {
   "cell_type": "markdown",
   "metadata": {},
   "source": [
    "Problem Description You decide to go for a very long drive on a very straight road. Along this road are five cities. As you travel, you record the distance between each pair of consecutive cities. You would like to calculate a distance table that indicates the distance between any two of the cities you have encountered. Input Specification The first line contains 4 positive integers less than 1000, each representing the distances between consecutive pairs of consecutive cities: specifically, the ith integer represents the distance between city i and city i + 1. Output Specification The output should be 5 lines, with the ith line (1 ≤ i ≤ 5) containing the distance from city i to cities 1, 2, ... 5 in order, separated by one space. \n",
    "\n",
    "Sample Input \n",
    "\n",
    "3 10 12 5 \n",
    "\n",
    "Output for Sample Input\n",
    "\n",
    " 0 3 13 25 30 \n",
    "\n",
    " 3 0 10 22 27 \n",
    "\n",
    "13 10 0 12 17\n",
    "\n",
    " 25 22 12 0 5 \n",
    "\n",
    " 30 27 17 5 0 \n",
    "\n",
    "Explanation of Output for Sample Input The first line of output contains:\n",
    "\n",
    " • 0, since the distance from city 1 to city 1 is 0; \n",
    "\n",
    "• 3, since the distance between city 1 and city 2 is 3; \n",
    "\n",
    "• 13, since the distance between city 1 and city 3 is 3 + 10 = 13; \n",
    "\n",
    "• 25, since the distance between city 1 and city 4 is 3 + 10 + 12 = 25; \n",
    "\n",
    "• 30, since the distance between city 1 and city 5 is 3 + 10 + 12 + 5 = 30."
   ]
  },
  {
   "cell_type": "code",
   "execution_count": 29,
   "metadata": {},
   "outputs": [
    {
     "name": "stdout",
     "output_type": "stream",
     "text": [
      "3 10 12 5\n",
      "0 3 13 25 30 \n",
      "3 0 10 22 27 \n",
      "13 10 0 12 17 \n",
      "25 22 12 0 5 \n",
      "30 27 17 5 0 \n"
     ]
    }
   ],
   "source": [
    "str1 = input()\n",
    "list1 = str1.split()\n",
    "list1 = [int(s) for s in list1]\n",
    "for start in range(len(list1) + 1):\n",
    "    for end in range(len(list1) + 1):\n",
    "        dist = sum(list1[min(start, end) : max(start, end)])\n",
    "        print(dist, end = ' ')\n",
    "    print('\\r')"
   ]
  },
  {
   "cell_type": "markdown",
   "metadata": {},
   "source": [
    "Boring is a type of drilling, specifically, the drilling of a tunnel, well, or hole in the earth. With some recent events, such as the Deepwater Horizon oil spill and the rescue of Chilean miners, the public became aware of the sophistication of the current boring technology. Using the technique known as geosteering, drill operators can drill wells vertically, horizontally, or even on a slant angle.\n",
    "\n",
    "A well plan is prepared before drilling, which specifies a sequence of lines, representing a geometrical shape of the future well. However, as new information becomes available during drilling, the model can be updated and the well plan modified.\n",
    "\n",
    "Your task is to write a program that verifies validity of a well plan by verifying that the borehole will not intersect itself. A two-dimensional well plan is used to represent a vertical cross-section of the borehole, and this well plan includes some drilling that has occurred starting at (0, −1) and moving to (−1, −5). You will encode in your program the current well plan shown in the figure below:\n",
    "\n",
    "\n",
    "\n",
    "Input Format\n",
    "The input consists of a sequence of drilling command pairs. A drilling command pair begins with one of four direction indicators (d for down, u for up, l for left, and r for right) followed by a positive length. There is an additional drilling command indicated by q (quit) followed by any integer, which indicates the program should stop execution. You can assume that the input is such that the drill point will not:\n",
    "\n",
    "rise above the ground, nor\n",
    "be more than 200 units below ground, nor\n",
    "be more than 200 units to the left of the original starting point, nor\n",
    "be more than 200 units to the right of the original starting point.\n",
    "Output Format\n",
    "The program should continue to monitor drilling assuming that the well shown in the figure has already been made. As we can see (−1, −5) is the starting position for your program. After each command, the program must output one line with the coordinates of the new position of the drill, and one of the two comments safe, if there has been no intersection with a previous position or DANGER if there has been an intersection with a previous borehole location. After detecting and reporting a self-intersection, your program must stop.\n",
    "\n",
    "Sample Cases\n",
    "Input\n",
    "l 2\n",
    "d 2\n",
    "r 1\n",
    "q 0\n",
    " \n",
    "\n",
    "Output\n",
    "-3 -5 safe\n",
    "-3 -7 safe\n",
    "-2 -7 safe\n",
    "Input\n",
    "r 2\n",
    "d 10\n",
    "r 4\n",
    " \n",
    "\n",
    "Output\n",
    "1 -5 safe\n",
    "1 -15 DANGER\n"
   ]
  },
  {
   "cell_type": "code",
   "execution_count": 55,
   "metadata": {},
   "outputs": [
    {
     "name": "stdout",
     "output_type": "stream",
     "text": [
      "r 2\n",
      "1 -5 safe\n",
      "d 10\n",
      "1 -15 DANGER\n"
     ]
    }
   ],
   "source": [
    "b = input()\n",
    "list1 = []\n",
    "list_done = [[0,-1], [0,-2], [0,-3], [1,-3], [2,-3], [3,-3], [3,-4], [3,-5], [4,-5], [5,-5], [5,-4], [5,-3],\n",
    "           [6,-3], [7,-3], [7,-4], [7,-5], [7,-6], [7,-7], [6,-7], [5,-7], [4,-7], [3,-7], [2,-7], [1,-7],\n",
    "           [0,-7], [-1,-7], [-1,-6], [-1,-5]]\n",
    "start = [-1, -5]\n",
    "while list(b)[0] != 'q':\n",
    "    list1.append(b)\n",
    "    str1 = b\n",
    "    a = 0\n",
    "    list2 = str1.split(' ')\n",
    "    list2 = [list2[0], int(list2[1])]\n",
    "    if list2[0] == 'r':\n",
    "        for x in range(1, list2[1] + 1):\n",
    "            if [start[0] + x, start[1]] in list_done:\n",
    "                print(start[0] + list2[1], start[1], 'DANGER')\n",
    "        start = [start[0] + list2[1], start[1]]\n",
    "        print(start[0], start[1], 'safe')\n",
    "    if list2[0] == 'l':\n",
    "        for x in range(1, list2[1] + 1):\n",
    "            if [start[0] - x, start[1]] in list_done:\n",
    "                a = 1\n",
    "                print(start[0] - list2[1], start[1], 'DANGER')\n",
    "        if a == 1:\n",
    "            break\n",
    "        start = [start[0] - list2[1], start[1]]\n",
    "        print(start[0], start[1], 'safe')           \n",
    "    if list2[0] == 'd':\n",
    "        for x in range(1, list2[1] + 1):\n",
    "            if [start[0], start[1] - x] in list_done:\n",
    "                a = 1\n",
    "                print(start[0], start[1] - list2[1], 'DANGER')\n",
    "                break\n",
    "        if a == 1:\n",
    "            break\n",
    "        start = [start[0], start[1] - list2[1]]\n",
    "        print(start[0], start[1], 'safe')\n",
    "    if list2[0] == 'u':\n",
    "        for x in range(1, list2[1] + 1):\n",
    "            if [start[0], start[1] + x] in list_done:\n",
    "                a = 1\n",
    "                print(start[0], start[1] + list2[1], 'DANGER')\n",
    "                break\n",
    "        if a == 1:\n",
    "            break\n",
    "        start = [start[0], start[1] + list2[1]]\n",
    "        print(start[0], start[1], 'safe')\n",
    "    b = input()"
   ]
  },
  {
   "cell_type": "code",
   "execution_count": null,
   "metadata": {},
   "outputs": [],
   "source": [
    "l 2\n",
    "d 2\n",
    "r 1\n",
    "q 0"
   ]
  },
  {
   "cell_type": "code",
   "execution_count": 49,
   "metadata": {},
   "outputs": [
    {
     "name": "stdout",
     "output_type": "stream",
     "text": [
      "['r', 2]\n",
      "[1, -5] safe\n",
      "['d', 10]\n",
      "[1, -15] DANGER\n"
     ]
    }
   ],
   "source": [
    "list1 = ['l 2', 'd 2', 'r 1']\n",
    "list1 = ['r 2', 'd 10', 'r 4']\n",
    "\n",
    "list_done = [[0,-1], [0,-2], [0,-3], [1,-3], [2,-3], [3,-3], [3,-4], [3,-5], [4,-5], [5,-5], [5,-4], [5,-3],\n",
    "           [6,-3], [7,-3], [7,-4], [7,-5], [7,-6], [7,-7], [6,-7], [5,-7], [4,-7], [3,-7], [2,-7], [1,-7],\n",
    "           [0,-7], [-1,-7], [-1,-6], [-1,-5]]\n",
    "start = [-1, -5]\n",
    "a = 0\n",
    "for str1 in list1:\n",
    "    list2 = str1.split(' ')\n",
    "    list2 = [list2[0], int(list2[1])]\n",
    "    print(list2)\n",
    "    if list2[0] == 'r':\n",
    "        for x in range(1, list2[1] + 1):\n",
    "            if [start[0] + x, start[1]] in list_done:\n",
    "                print([start[0] + list2[1], start[1]], 'DANGER')\n",
    "        start = [start[0] + list2[1], start[1]]\n",
    "        print(start, 'safe')\n",
    "    if list2[0] == 'l':\n",
    "        for x in range(1, list2[1] + 1):\n",
    "            if [start[0] - x, start[1]] in list_done:\n",
    "                a = 1\n",
    "                print([start[0] - list2[1], start[1]], 'DANGER')\n",
    "        if a == 1:\n",
    "            break\n",
    "        start = [start[0] - list2[1], start[1]]\n",
    "        print(start, 'safe')            \n",
    "    if list2[0] == 'd':\n",
    "        for x in range(1, list2[1] + 1):\n",
    "            if [start[0], start[1] - x] in list_done:\n",
    "                a = 1\n",
    "                print([start[0], start[1] - list2[1]], 'DANGER')\n",
    "                break\n",
    "        if a == 1:\n",
    "            break\n",
    "        start = [start[0], start[1] - list2[1]]\n",
    "        print(start, 'safe')\n",
    "    if list2[0] == 'u':\n",
    "        for x in range(1, list2[1] + 1):\n",
    "            if [start[0], start[1] + x] in list_done:\n",
    "                a = 1\n",
    "                print([start[0], start[1] + list2[1]], 'DANGER')\n",
    "                break\n",
    "        if a == 1:\n",
    "            break\n",
    "        start = [start[0], start[1] + list2[1]]\n",
    "        print(start, 'safe')"
   ]
  },
  {
   "cell_type": "markdown",
   "metadata": {},
   "source": [
    "You are hosting a party and do not have room to invite all of your friends. You use the following unemotional mathematical method to determine which friends to invite.\n",
    "\n",
    "Number your friends 1, 2, …, K and place them in a list in this order. Then perform m rounds. In each round, use a number to determine which friends to remove from the ordered list.\n",
    "\n",
    "The rounds will use numbers r1, r2, …, rm. In round i remove all the remaining people in positions that are multiples of ri (that is, ri, 2ri, 3ri, …) The beginning of the list is position 1.\n",
    "\n",
    "Output the numbers of the friends that remain after this removal process.\n",
    "\n",
    "Input\n",
    "The first line of input contains the integer K (1 ≤ K ≤ 100). The second line of input contains the integer m (1 ≤ m ≤ 10), which is the number of rounds of removal. The next m lines each contain one integer. The i-th of these lines (1 ≤ i ≤ m) contains ri (2 ≤ ri ≤ 100) indicating that every person at a position which is multiple of ri should be removed.\n",
    "\n",
    "Output\n",
    "The output is the integers assigned to friends who were not removed. One integer is printed per line in increasing sorted order.\n",
    "\n",
    "Sample Input\n",
    "10\n",
    "2\n",
    "2\n",
    "3\n",
    "Sample Output\n",
    "1\n",
    "3\n",
    "7\n",
    "9\n",
    "Explanation\n",
    "Initially, our list of invitees is 1, 2, 3, 4, 5, 6, 7, 8, 9, 10. There will be two rounds of removals. After the first round of removals, we remove the even positions (i.e., every second position), which causes our list of invitees to be 1, 3, 5, 7, 9. After the second round of removals, we remove every 3rd remaining invitee: thus, we keep 1 and 3, remove 5 and keep 7 and 9, which leaves us with an invitee list of 1, 3, 7, 9."
   ]
  },
  {
   "cell_type": "code",
   "execution_count": 92,
   "metadata": {},
   "outputs": [
    {
     "name": "stdout",
     "output_type": "stream",
     "text": [
      "10\n",
      "2\n",
      "2\n",
      "3\n",
      "1\n",
      "3\n",
      "7\n",
      "9\n"
     ]
    }
   ],
   "source": [
    "n = int(input())\n",
    "m = int(input())\n",
    "list1 = []\n",
    "for x in range(m):\n",
    "    list1.append(int(input()))\n",
    "list_friends = []\n",
    "for k in range(1, n + 1):\n",
    "    list_friends.append(k)\n",
    "for a in list1:\n",
    "    list2 = []\n",
    "    for k, b in enumerate(list_friends):\n",
    "        if (k + 1) % a != 0:\n",
    "            list2.append(b)\n",
    "    list_friends = list2\n",
    "for x in list_friends:\n",
    "    print(x)"
   ]
  },
  {
   "cell_type": "markdown",
   "metadata": {},
   "source": [
    "'''\n",
    "\n",
    "Return the Nth Prime Number\n",
    "\n",
    "\n",
    "\n",
    "'''\n",
    "\n",
    "def intNthPrime(intN):\n",
    "\n",
    "    pass\n",
    "\n",
    "\n",
    "\n",
    "copy and paste the following along with your function definition to test your program\n",
    "\n",
    "print(intNthPrime(1))\n",
    "\n",
    "print(intNthPrime(2))\n",
    "\n",
    "print(intNthPrime(100))"
   ]
  },
  {
   "cell_type": "code",
   "execution_count": 105,
   "metadata": {},
   "outputs": [],
   "source": [
    "def isitprime(n):\n",
    "    for x in range(2, n):\n",
    "        if n % x == 0:\n",
    "            return False\n",
    "    return True"
   ]
  },
  {
   "cell_type": "code",
   "execution_count": 111,
   "metadata": {},
   "outputs": [],
   "source": [
    "def NthPrime(n):\n",
    "    a = 2\n",
    "    count = 0\n",
    "    while True:\n",
    "        if isitprime(a) == True:\n",
    "            count += 1\n",
    "        if count == n:\n",
    "            return a\n",
    "        a += 1"
   ]
  },
  {
   "cell_type": "markdown",
   "metadata": {},
   "source": [
    "'''\n",
    "\n",
    "Taking three string parameters str1, str2 and str3 replace\n",
    "\n",
    "every occurance of str2 in str1 by str3\n",
    "\n",
    "'''\n",
    "\n",
    "def replaceAll(str1, str2, str3):\n",
    "\n",
    "    pass\n",
    "\n",
    "Copy and paste the following test cases to test your program\n",
    "\n",
    "print(replaceAll(\"the red cat sat on the mat\", \"the\", \"tiger\"))\n",
    "\n",
    "print(replaceAll(\"the red cat sat on the mat\",\"the\", \"\"))"
   ]
  },
  {
   "cell_type": "code",
   "execution_count": 136,
   "metadata": {},
   "outputs": [
    {
     "data": {
      "text/plain": [
       "['the', 'red', 'cat', 'sat', 'on', 'the', 'mat']"
      ]
     },
     "execution_count": 136,
     "metadata": {},
     "output_type": "execute_result"
    }
   ],
   "source": [
    "def mysplit(str1):\n",
    "    list2 = []\n",
    "    list1 = list(str1)\n",
    "    list1.append(' ')\n",
    "    str1 = ''\n",
    "    for x in list1:\n",
    "        if x != ' ':\n",
    "            str1 += x\n",
    "        else:\n",
    "            list2.append(str1)\n",
    "            str1 = ''\n",
    "    return list2\n",
    "mysplit('the red cat sat on the mat')"
   ]
  },
  {
   "cell_type": "code",
   "execution_count": 139,
   "metadata": {},
   "outputs": [],
   "source": [
    "def replaceAll(str1,str2,str3):\n",
    "    list1 = mysplit(str1)\n",
    "    list2 = []\n",
    "    for x in list1:\n",
    "        if x == str2:\n",
    "            list2.append(str3)\n",
    "        else:\n",
    "            list2.append(x)\n",
    "    newstr = ' '.join(list2)\n",
    "    return newstr"
   ]
  },
  {
   "cell_type": "code",
   "execution_count": 140,
   "metadata": {},
   "outputs": [
    {
     "name": "stdout",
     "output_type": "stream",
     "text": [
      "tiger red cat sat on tiger mat\n",
      " red cat sat on  mat\n"
     ]
    }
   ],
   "source": [
    "print(replaceAll(\"the red cat sat on the mat\", \"the\", \"tiger\"))\n",
    "print(replaceAll(\"the red cat sat on the mat\",\"the\", \"\"))"
   ]
  },
  {
   "cell_type": "markdown",
   "metadata": {},
   "source": [
    "ou've been snowed in at your summer residence. And without the Internet! Unfortunately, this means you're going to have rely on using the phone to get what you need to survive: pizza, pop, and the latest video games.\n",
    "\n",
    "Often times, companies replace the digits in their phone numbers with characters to make their phone numbers more memorable. Because apparently, it's easier to remember 416-BUY-MORE than it is to remember 416-289-6673. Some companies even add extra digits or characters (like 604-PIZZABOX) but any digits after the 10th are irrelevant.\n",
    "\n",
    "Since it's getting tedious to do the conversion by hand, write a program to help change all the phone numbers in your phone book to the form xxx-xxx-xxxx, using the below image to assist you.\n",
    "\n",
    "1 ABC2 DEF3 GHI4 JKL5 MNO6 PQRS7 TUV8 WXYZ9 * 0 #\n",
    "\n",
    "Input\n",
    "Input consists of a series of test cases. The first line consists of an integer t, the number of test cases. Following this are t lines consisting of alpha-numeric characters separated by hyphens, representing valid phone numbers. All letters will be in uppercase. No line is longer than 40 characters.\n",
    "\n",
    "Output\n",
    "For each test case, output the phone number in the form xxx-xxx-xxxx to the screen.\n",
    "\n",
    "Sample Input\n",
    "5\n",
    "88-SNOW-5555\n",
    "519-888-4567\n",
    "BUY-MORE-POP\n",
    "416-PIZZA-BOX\n",
    "5059381123\n",
    "\n",
    "Sample Output\n",
    "887-669-5555\n",
    "519-888-4567\n",
    "289-667-3767\n",
    "416-749-9226\n",
    "505-938-1123"
   ]
  },
  {
   "cell_type": "code",
   "execution_count": 153,
   "metadata": {},
   "outputs": [
    {
     "name": "stdout",
     "output_type": "stream",
     "text": [
      "5\n",
      "88-SNOW-5555\n",
      "519-888-4567\n",
      "519-888-4567\n",
      "519-888-4567\n",
      "519-888-4567\n",
      "887-669-5555\n",
      "519-888-4567\n",
      "289-567-3767\n",
      "416-749-9226\n",
      "505-938-1123\n"
     ]
    }
   ],
   "source": [
    "n = int(input())\n",
    "list_phones = []\n",
    "for x in range(n):\n",
    "    list_phones.append(input())\n",
    "list_phones = ['88-SNOW-5555', '519-888-4567', 'BUY-MORE-POP', '416-PIZZA-BOX', '5059381123']\n",
    "dict1 = {'a':2, 'b':2, 'c':2, 'd':3, 'e':3, 'f':3, 'g':4, 'h':4, 'i':4, 'j':5, 'k':5, 'l':5, 'm':6, 'n':6,\n",
    "        'o':6, 'p':7, 'q':7, 'r':7, 's':7, 't':8, 'u':8, 'v':8, 'w':9, 'x':9, 'y':9, 'z':9}\n",
    "alphabet = 'abcdefghijklmnopqrstuvwxyz'\n",
    "alphabet = list(alphabet)\n",
    "for x in list_phones:\n",
    "    x = x.lower()\n",
    "    list1 = list(x)\n",
    "    for y in list1:\n",
    "        if y in alphabet:\n",
    "            x = x.replace(y, str(dict1[y]))\n",
    "    list1 = list(x)\n",
    "    list1 = [m for m in list1 if m != '-']\n",
    "    list1.insert(3, '-')\n",
    "    list1.insert(7, '-')\n",
    "    list1 = list1[:12]\n",
    "    str1 = ''.join(list1)\n",
    "    print(str1)"
   ]
  },
  {
   "cell_type": "code",
   "execution_count": 2,
   "metadata": {},
   "outputs": [],
   "source": [
    "def find_last_syllable(str1):\n",
    "    vowels = ['a', 'e', 'i', 'o', 'u']\n",
    "    list1 = list(str1)\n",
    "    list_reverse = list1[::-1]\n",
    "    count = 0\n",
    "    for b in list_reverse:\n",
    "        if b == ' ':\n",
    "            count += 1\n",
    "    if count > 0:\n",
    "        list_reverse = list_reverse[:list_reverse.index(' ')]\n",
    "        list1 = list_reverse[::-1]\n",
    "    count = 0\n",
    "    for x in list1:\n",
    "        if x not in vowels:\n",
    "            count += 1\n",
    "    if count == len(list1):\n",
    "        return str1\n",
    "    for a in list_reverse:\n",
    "        if a in vowels:\n",
    "            index = list_reverse.index(a)\n",
    "            break\n",
    "    str2 = list_reverse[:index + 1][::-1]\n",
    "    return ''.join(str2)"
   ]
  },
  {
   "cell_type": "code",
   "execution_count": 185,
   "metadata": {},
   "outputs": [],
   "source": [
    "def rhyme(str1, str2):\n",
    "    str1 = str1.lower()\n",
    "    str2 = str2.lower()\n",
    "    if find_last_syllable(str1) == find_last_syllable(str2):\n",
    "        return True\n",
    "    return False"
   ]
  },
  {
   "cell_type": "code",
   "execution_count": 189,
   "metadata": {},
   "outputs": [
    {
     "name": "stdout",
     "output_type": "stream",
     "text": [
      "1\n",
      "One plus one is small\n",
      "one hundred plus one is not\n",
      "you might be very tall\n",
      "but summer is not\n",
      "cross\n"
     ]
    }
   ],
   "source": [
    "def find_last_syllable(str1):\n",
    "    vowels = ['a', 'e', 'i', 'o', 'u']\n",
    "    list1 = list(str1)\n",
    "    list_reverse = list1[::-1]\n",
    "    count = 0\n",
    "    for b in list_reverse:\n",
    "        if b == ' ':\n",
    "            count += 1\n",
    "    if count > 0:\n",
    "        list_reverse = list_reverse[:list_reverse.index(' ')]\n",
    "        list1 = list_reverse[::-1]\n",
    "    count = 0\n",
    "    for x in list1:\n",
    "        if x not in vowels:\n",
    "            count += 1\n",
    "    if count == len(list1):\n",
    "        return str1\n",
    "    for a in list_reverse:\n",
    "        if a in vowels:\n",
    "            index = list_reverse.index(a)\n",
    "            break\n",
    "    str2 = list_reverse[:index + 1][::-1]\n",
    "    return ''.join(str2)\n",
    "def rhyme(str1, str2):\n",
    "    str1 = str1.lower()\n",
    "    str2 = str2.lower()\n",
    "    if find_last_syllable(str1) == find_last_syllable(str2):\n",
    "        return True\n",
    "    return False\n",
    "n = int(input())\n",
    "for x in range(n):\n",
    "    line1 = input()\n",
    "    line2 = input()\n",
    "    line3 = input()\n",
    "    line4 = input()\n",
    "    if rhyme(line1, line2) == True and rhyme(line2, line3) == True and rhyme(line3, line4) == True:\n",
    "        print('perfect')\n",
    "        continue\n",
    "    elif rhyme(line1, line2) == True and rhyme(line3, line4) == True:\n",
    "        print('even')\n",
    "        continue\n",
    "    elif rhyme(line1, line3) == True and rhyme(line2, line4) == True:\n",
    "        print('cross')\n",
    "        continue\n",
    "    elif rhyme(line1, line4) == True and rhyme(line2, line3) == True:\n",
    "        print('shell')\n",
    "        continue\n",
    "    else:\n",
    "        print('free')\n",
    "        continue"
   ]
  },
  {
   "cell_type": "markdown",
   "metadata": {},
   "source": [
    "Write a recursive method called nthFactorial() that will take an integer argument n and return the nth Factorial. nthFactorial = 1 * 1 * 2 * .. * n.\n",
    "\n",
    "Java: Once you finished writing your method copy and paste the following in the main to test your method\n",
    "\n",
    "System.out.println(nthFactorial(5));\n",
    "\n",
    "System.out.println(nthFactorial(3));\n",
    "\n",
    "System.out.println(nthFactorial(0));\n",
    "\n",
    "Python:\n",
    "\n",
    "print(nthFactorial(5))\n",
    "\n",
    "print(nthFactorial(3))\n",
    "\n",
    "print(nthFactorial(0))"
   ]
  },
  {
   "cell_type": "code",
   "execution_count": 8,
   "metadata": {},
   "outputs": [
    {
     "name": "stdout",
     "output_type": "stream",
     "text": [
      "120\n",
      "6\n",
      "1\n"
     ]
    }
   ],
   "source": [
    "def nthFactorial(n):\n",
    "    if n == 1 or n == 0:\n",
    "        return 1\n",
    "    else:\n",
    "        return(nthFactorial(n - 1) * n)\n",
    "print(nthFactorial(5))\n",
    "\n",
    "print(nthFactorial(3))\n",
    "\n",
    "print(nthFactorial(0))"
   ]
  },
  {
   "cell_type": "markdown",
   "metadata": {},
   "source": [
    "Read a positive integer from the user and use a recursive function convert into into a binary. \n",
    "\n",
    "Sample input and output specifications are below\n",
    "\n",
    "Input\n",
    "\n",
    "2\n",
    "\n",
    "Output\n",
    "\n",
    "10\n",
    "\n",
    "Input\n",
    "\n",
    "8\n",
    "\n",
    "Output\n",
    "\n",
    "1000"
   ]
  },
  {
   "cell_type": "code",
   "execution_count": 20,
   "metadata": {},
   "outputs": [
    {
     "name": "stdout",
     "output_type": "stream",
     "text": [
      "8\n",
      "1000\n"
     ]
    }
   ],
   "source": [
    "def decimal_to_binary(n):\n",
    "    if n == 1:\n",
    "        return '1'\n",
    "    else:\n",
    "        if n % 2 == 0:\n",
    "            return(decimal_to_binary(n // 2) + '0')\n",
    "        else:\n",
    "            return(decimal_to_binary(n // 2) + '1')\n",
    "n = int(input())\n",
    "print(int(decimal_to_binary(n)))"
   ]
  },
  {
   "cell_type": "markdown",
   "metadata": {},
   "source": [
    "Write a recursive java method called removeall() which takes two string arguments and remove every occurrence of the second string from the first string and return the first string.\n",
    "\n",
    "Java: Copy and paste the following test cases test your program in the main.\n",
    "\n",
    "System.out.println(removeAll(\"the red cat sat on the mat\", \"the\"));\n",
    "\n",
    "System.out.println(removeAll(\"the red cat sat on the mat\", \"blue\"));\n",
    "\n",
    "Python:\n",
    "print(removeAll(\"the red cat sat on the mat\", \"the\"))\n",
    "\n",
    "print(removeAll(\"the red cat sat on the mat\", \"blue\"))"
   ]
  },
  {
   "cell_type": "code",
   "execution_count": 36,
   "metadata": {},
   "outputs": [
    {
     "name": "stdout",
     "output_type": "stream",
     "text": [
      " red cat sat on  mat\n",
      "the red cat sat on the mat\n"
     ]
    }
   ],
   "source": [
    "def removeAll(str1, str2):\n",
    "    if str2 not in str1:\n",
    "        return str1\n",
    "    else:\n",
    "        index = str1.index(str2)\n",
    "        str1 = str1[:index] + str1[index + len(str2):]\n",
    "        return(removeAll(str1, str2))\n",
    "print(removeAll(\"the red cat sat on the mat\", \"the\"))\n",
    "\n",
    "print(removeAll(\"the red cat sat on the mat\", \"blue\"))"
   ]
  },
  {
   "cell_type": "markdown",
   "metadata": {},
   "source": [
    "Write a recursive java method  called nthFibonacci()that takes an integer argument n and return the nth Fibonacci number. \n",
    "\n",
    "Java: Copy and paste the following test cases in your main to test your method\n",
    "\n",
    "System.out.println(nthFibonacci(2));\n",
    "\n",
    "System.out.println(nthFibonacci(12));\n",
    "\n",
    "System.out.println(nthFibonacci(1));\n",
    "\n",
    "Pyhon:\n",
    "\n",
    "print(nthFibonacci(2))\n",
    "\n",
    "print(nthFibonacci(12))\n",
    "\n",
    "print(nthFibonacci(1))"
   ]
  },
  {
   "cell_type": "code",
   "execution_count": 35,
   "metadata": {},
   "outputs": [
    {
     "name": "stdout",
     "output_type": "stream",
     "text": [
      "1\n",
      "144\n",
      "1\n"
     ]
    }
   ],
   "source": [
    "def nthFibonacci(n):\n",
    "    if n == 1 or n == 2:\n",
    "        return 1\n",
    "    else:\n",
    "        return(nthFibonacci(n - 1) + nthFibonacci(n - 2))\n",
    "print(nthFibonacci(2))\n",
    "\n",
    "print(nthFibonacci(12))\n",
    "\n",
    "print(nthFibonacci(1))"
   ]
  },
  {
   "cell_type": "markdown",
   "metadata": {},
   "source": [
    "Write a recursive functions called isPalindrome that takes a string as a parameter and return 1 is that string is a palindrome else return false. Your program should read the input and test call the function to test it.\n",
    "\n",
    "Sample Input and Output Specification (Java)\n",
    "\n",
    "Input\n",
    "\n",
    "bananan\n",
    "\n",
    "Output\n",
    "\n",
    "0\n",
    "\n",
    "Input\n",
    "\n",
    "racecar\n",
    "\n",
    "Output\n",
    "\n",
    "1"
   ]
  },
  {
   "cell_type": "code",
   "execution_count": 44,
   "metadata": {},
   "outputs": [
    {
     "name": "stdout",
     "output_type": "stream",
     "text": [
      "bananan\n",
      "0\n"
     ]
    }
   ],
   "source": [
    "def isPalindrome(str1):\n",
    "    if len(str1) == 1 or len(str1) == 0:\n",
    "        return 1\n",
    "    else:\n",
    "        if str1[0] == str1[-1]:\n",
    "            str1 = str1[1:-1]\n",
    "            return(isPalindrome(str1))\n",
    "        else:\n",
    "            return 0\n",
    "str1 = input()\n",
    "print(isPalindrome(str1))"
   ]
  },
  {
   "cell_type": "markdown",
   "metadata": {},
   "source": [
    "Bridge transport\n",
    "\n",
    "A train of railway cars attempts to cross a bridge. The length of each car is 10 m but their weights might be different. The bridge is 40 m long (thus can hold 4 train cars at one time). The bridge will crack if the total weight of the cars on it at one time is greater than a certain weight. The cars are numbered starting at 1, going up to N, and they cross the bridge in that order (i.e., 1 immediately followed by 2, which is immediately followed by 3, and so on).\n",
    "\n",
    "What is the largest number T of railway cars such that the train of cars 1…T (in order) can cross the bridge?\n",
    "\n",
    "Input\n",
    "\n",
    "The first line of input is the maximum weight W (1 ≤ W ≤ 100000) that the bridge can hold at any particular time. The second line of input is the number N (1 ≤ N ≤ 100000) which is the number of railway cars that we wish to move across the bridge. On each of the next N lines of input, there will be a positive integer wi (1 ≤ i ≤ N, 1 ≤ wi ≤ 100000) which represents the weight of the ith railway car in the sequence.\n",
    "\n",
    "Output\n",
    "\n",
    "Your output should be a non-negative integer representing the maximum number of railway cars that can be brought across the bridge in the order specified.\n",
    "\n",
    "Sample Input 1\n",
    "\n",
    "100\n",
    "\n",
    "6\n",
    "\n",
    "50\n",
    "\n",
    "30\n",
    "\n",
    "10\n",
    "\n",
    "10\n",
    "\n",
    "40\n",
    "\n",
    "50\n",
    "\n",
    "Sample Output 1\n",
    "\n",
    "5\n",
    "\n",
    "Explanation\n",
    "\n",
    "The first four railway cars have total weight 50 + 30 + 10 + 10 = 100, which is not greater than what the bridge can hold. When the first railway car leaves, and the next comes on, we have a total weight of 30 + 10 + 10 + 40 = 90, which is not greater than what the bridge can hold. The last four cars would cause the bridge to break, since 10 + 10 + 40 + 50 = 110 which is greater than the bridge can hold. So, only the first 5 railway cars can be taken across the bridge.\n",
    "\n",
    "Sample Input 2\n",
    "\n",
    "100\n",
    "\n",
    "3\n",
    "\n",
    "150\n",
    "\n",
    "1\n",
    "\n",
    "1\n",
    "\n",
    "Sample Output 2\n",
    "\n",
    "0\n",
    "\n",
    "Explanation\n",
    "\n",
    "When the first railway car enters the bridge, its weight of 150 will exceed the maximum weight the bridge can hold. Thus, we cannot bring any railway cars across the bridge."
   ]
  },
  {
   "cell_type": "code",
   "execution_count": 13,
   "metadata": {},
   "outputs": [
    {
     "name": "stdout",
     "output_type": "stream",
     "text": [
      "100\n",
      "3\n",
      "150\n",
      "1\n",
      "1\n",
      "0\n"
     ]
    }
   ],
   "source": [
    "max_weight = int(input())\n",
    "n = int(input())\n",
    "list1 = []\n",
    "for x in range(n):\n",
    "    list1.append(int(input()))\n",
    "def bridge(max_weight, list1):\n",
    "    result = 0\n",
    "    if len(list1) < 4:\n",
    "        if list1[0] > max_weight:\n",
    "            return 0\n",
    "    for k in range(0, len(list1) - 3):\n",
    "        sublist = list1[k : k + 4]\n",
    "        result += 1\n",
    "        if sum(sublist) > max_weight:\n",
    "            if k == 0:\n",
    "                result -= 1\n",
    "            return k + result\n",
    "print(bridge(max_weight, list1))"
   ]
  },
  {
   "cell_type": "markdown",
   "metadata": {},
   "source": [
    "In order to increase your performance on the ABC (Another Buying Contest), you decide that you need a new computer. When determining which computer to buy, you narrow your search categories to:\n",
    "\n",
    "RAM (in gigabytes), denoted as R;\n",
    "CPU speed (in megahertz), denoted as S;\n",
    "disk drive space (in gigabytes), denoted as D.\n",
    "You perform some analysis and determine that the most preferred machine is the machine that has the largest value of the expression 2R+3S+D. Your task is to read a given list of computers and output the top two computers in order of preference, from highest preference to lowest preference.\n",
    "\n",
    "Input\n",
    "The first line of input will be an integer n (0 ≤ n ≤ 10000). Each of the remaining n lines of input will contain a computer specification. A computer specification is of the form:\n",
    "\n",
    "computer name (a string of less than 20 characters)\n",
    "the RAM available (an integer R with 1 ≤ R ≤ 128)\n",
    "the CPU speed (an integer S with 1 ≤ S ≤ 4000)\n",
    "the disk drive space (an integer D with 1 ≤ D ≤ 3000)\n",
    "There is one space between the name, RAM, CPU speed, and disk drive space on each line.\n",
    "\n",
    "Output\n",
    "The output is the name of the top two preferred computers, one name per line, sorted in decreasing order of preference. If there is a tie in the rankings, pick the computer(s) whose name(s) are lexicographically smallest (i.e., \"Apple\" is smaller than \"Dell\"). If there is only one computer, output that computer on one line (i.e., do not print it twice). If there are no computers, print nothing.\n",
    "\n",
    "Sample Input\n",
    "4\n",
    "ABC 13 22 1\n",
    "DEF 10 20 30\n",
    "GHI 11 2 2\n",
    "JKL 20 20 20\n",
    "Sample Output\n",
    "JKL\n",
    "DEF\n",
    "Explanation\n",
    "Computer ABC has a computed value of 93. Computer DEF has a computer value of 110. Computer GHI has a computed value of 30. Computer JKL has a computed value of 120. Therefore, computer JKL is the most preferred, followed by computer DEF."
   ]
  },
  {
   "cell_type": "code",
   "execution_count": 39,
   "metadata": {},
   "outputs": [
    {
     "name": "stdout",
     "output_type": "stream",
     "text": [
      "4\n",
      "ABC 13 22 1\n",
      "DEF 10 20 30\n",
      "GHI 11 2 2\n",
      "JKL 20 20 20\n",
      "JKL\n",
      "DEF\n"
     ]
    }
   ],
   "source": [
    "n = int(input())\n",
    "list1 = []\n",
    "for x in range(n):\n",
    "    list1.append(input())\n",
    "def computers(n, list1):\n",
    "    list2 = []\n",
    "    list3 = []\n",
    "    for x in list1:\n",
    "        x = x.split(' ')\n",
    "        list2.append(x)\n",
    "        list1 = list2\n",
    "    if len(list1) == 1:\n",
    "        return list1[0]\n",
    "    for a in list1:\n",
    "        total = 2 * int(a[1]) + 3 * int(a[2]) + int(a[3])\n",
    "        list3.append(total)\n",
    "    first = max(list3)\n",
    "    index = list3.index(first)\n",
    "    pop = list3.pop(index)\n",
    "    print(list1[index][0])\n",
    "    first = max(list3)\n",
    "    index = list3.index(first)\n",
    "    pop = list3.pop(index)\n",
    "    return list1[index][0]\n",
    "print(computers(n, list1))"
   ]
  },
  {
   "cell_type": "code",
   "execution_count": 38,
   "metadata": {},
   "outputs": [
    {
     "name": "stdout",
     "output_type": "stream",
     "text": [
      "93\n",
      "110\n",
      "30\n",
      "120\n",
      "[93, 110, 30, 120]\n",
      "JKL\n",
      "DEF\n"
     ]
    }
   ],
   "source": [
    "n = 4\n",
    "list1 = ['ABC 13 22 1', 'DEF 10 20 30', 'GHI 11 2 2', 'JKL 20 20 20']\n",
    "def computers(n, list1):\n",
    "    list2 = []\n",
    "    list3 = []\n",
    "    for x in list1:\n",
    "        x = x.split(' ')\n",
    "        list2.append(x)\n",
    "        list1 = list2\n",
    "    if len(list1) == 1:\n",
    "        return list1[0]\n",
    "    for a in list1:\n",
    "        total = 2 * int(a[1]) + 3 * int(a[2]) + int(a[3])\n",
    "        list3.append(total)\n",
    "    first = max(list3)\n",
    "    index = list3.index(first)\n",
    "    pop = list3.pop(index)\n",
    "    print(list1[index][0])\n",
    "    first = max(list3)\n",
    "    index = list3.index(first)\n",
    "    pop = list3.pop(index)\n",
    "    return list1[index][0]\n",
    "print(computers(n, list1))"
   ]
  },
  {
   "cell_type": "markdown",
   "metadata": {},
   "source": [
    "Eric likes interesting numbers like 64. It turns out that 64 is both a square and a cube, since 64 = 8^2 and 64 = 4^3. Eric calls these numbers cool.\n",
    "\n",
    "Write a program that helps Eric figure out how many integers in a given range are cool.\n",
    "\n",
    "Input Description\n",
    "\n",
    "On the first line of input, you are given an integer a such that a >=1 and a <=108. On the second line of input, you are given an integer b such that a <b and b<=108.\n",
    "\n",
    "Output Description\n",
    "\n",
    "The output should be the number of cool numbers in the range a to b (inclusively: that is, a and b would count as cool numbers in the range if they were actually cool).\n",
    "\n",
    "Sample Input 1\n",
    "\n",
    "1\n",
    "\n",
    "100\n",
    "\n",
    "Output for Sample Input 1\n",
    "\n",
    "2\n",
    "\n",
    "Sample Input 2\n",
    "\n",
    "100\n",
    "\n",
    "1000\n",
    "\n",
    "Output for Sample Input2\n",
    "\n",
    "1"
   ]
  },
  {
   "cell_type": "code",
   "execution_count": 71,
   "metadata": {},
   "outputs": [
    {
     "name": "stdout",
     "output_type": "stream",
     "text": [
      "100\n",
      "1000\n",
      "1\n"
     ]
    }
   ],
   "source": [
    "a = int(input())\n",
    "b = int(input())\n",
    "count = 0\n",
    "for x in range(a, b + 1):\n",
    "    if round(x ** (1 / 2)) ** 2 == x:\n",
    "        if round(x ** (1 / 3)) ** 3 == x:\n",
    "            count += 1\n",
    "print(count)"
   ]
  },
  {
   "cell_type": "markdown",
   "metadata": {},
   "source": [
    "Sheldon and Leonard are physicists who are fixated on the the BIG BANG theory. In order to exchange secret insights they have devised a code that encodes UPPERCASE letters by shifting their letters forward.\n",
    "\n",
    "Shifting a letter by S positions means to go forward S letters in the alphabet. For example, shifting B by S = 3 positions gives E. However, sometimes this makes us go past Z, the last letter of the alphabet. Whenever this happens we wrap around, treating A as the letter that follows Z. For example, shifting Z by S = 2 positions gives B.\n",
    "\n",
    "Sheldon and Leonard's code depends on a parameter K and also varies depending on the position of each letter in the word. For the letter at position P, they use the shift value of $S = 3P + K$.\n",
    "\n",
    "For example, here is how ZOOM is encoded when K = 3. The first letter Z has a shift value of $S = 3 \\times 1 + 3 = 6$; it wraps around and becomes the letter F. The second letter, O, has $S = 3 \\times 2 + 3 = 9$ and becomes X. The last two letters become A and B. So Sheldon sends Leonard the secret message: FXAB\n",
    "\n",
    "Write a program for Leonard that will decode messages sent by Sheldon.\n",
    "\n",
    "Input Format\n",
    "The input will be two lines. The first line will contain the positive integer K (K < 10), which is used to compute the shift value. The second line of input will be the word, which will be a sequence of consecutive uppercase characters of length at most 20.\n",
    "\n",
    "Output Format\n",
    "The output will be the decoded word of uppercase letters.\n",
    "\n",
    "Sample Input 1\n",
    "3\n",
    "FXAB\n",
    "Sample Output 1\n",
    "ZOOM\n",
    "Sample Input 2\n",
    "5\n",
    "JTUSUKG\n",
    "Sample Output 2\n",
    "BIGBANG"
   ]
  },
  {
   "cell_type": "code",
   "execution_count": 78,
   "metadata": {},
   "outputs": [
    {
     "name": "stdout",
     "output_type": "stream",
     "text": [
      "5\n",
      "JTUSUKG\n",
      "BIGBANG\n"
     ]
    }
   ],
   "source": [
    "k = int(input())\n",
    "word = input()\n",
    "list1 = list(word)\n",
    "str2 = ''\n",
    "alpha = 'ABCDEFGHIJKLMNOPQRSTUVWXYZ'\n",
    "alpha = list(alpha)\n",
    "for a, x in enumerate(list1):\n",
    "    s = 3 * (a + 1) + k\n",
    "    index = alpha.index(x)\n",
    "    letter = str(alpha[index - s])\n",
    "    str2 += letter\n",
    "print(str2)"
   ]
  },
  {
   "cell_type": "markdown",
   "metadata": {},
   "source": [
    "Most likely, you will notice that you have a mouse attached to your computer, which lets you move the cursor around the screen. Your job is to get between the mouse and the cursor.\n",
    "\n",
    "Suppose that the bottom left-hand corner of your screen is (0,0), and all points on the screen are given by integer co-ordinates (x, y) where 0 ≤ x ≤ c and 0 ≤ y ≤ r. Thus, the top-right corner of the screen is at position (c, r), bottom-right corner is (c, 0), and top-left corner is (0, r).\n",
    "\n",
    "When a mouse is moved, it sends a pair of integers (a, b), indicating that the cursor should be moved a units in the x-direction and b units in the y-direction. It is worth noting that this is relative motion (i.e., how far to move) rather than absolute motion (i.e., where to move). It is also worth noting that a and b may be positive, negative or zero.\n",
    "\n",
    "You can assume the mouse starts at position (0,0). You job is to read input messages (i.e., relative motion positions sent by the mouse) and update the cursor to the new position on the screen. Your output (to the screen) will be the position of the mouse after each move.\n",
    "\n",
    "If the mouse hits the screen boundary, it stops moving in that direction. For example, if the mouse is supposed to move (-100, -10) from its current position (30, 40), the final positions will be (0, 30): the mouse will hit the left-hand side boundary, but still manages to move down.\n",
    "\n",
    "Input is listed as pairs, the first pair being (c, r), followed by the relative motion pairs (x, y). The input is terminated when the mouse moves (0,0).\n",
    "\n",
    "Sample Input 1\n",
    "100 200\n",
    "10 40\n",
    "-5 15\n",
    "30 -30\n",
    "0 0\n",
    "Sample Output 1\n",
    "10 40\n",
    "5 55\n",
    "35 25\n",
    "Sample Input 2\n",
    "30 40\n",
    "30 40\n",
    "-100 -10\n",
    "0 0\n",
    "Sample Output 2\n",
    "30 40\n",
    "0 30"
   ]
  },
  {
   "cell_type": "code",
   "execution_count": 87,
   "metadata": {},
   "outputs": [
    {
     "name": "stdout",
     "output_type": "stream",
     "text": [
      "30 40\n",
      "30 40\n",
      "30 40\n",
      "-100 -10\n",
      "0 30\n",
      "0 0\n"
     ]
    }
   ],
   "source": [
    "list1 = []\n",
    "boundary = input()\n",
    "boundary = boundary.split(' ')\n",
    "boundary = [int(s) for s in boundary]\n",
    "a = input()\n",
    "starting = [0, 0]\n",
    "while a != '0 0':\n",
    "    a = a.split(' ')\n",
    "    a = [int(s) for s in a]\n",
    "    if starting[0] + a[0] > boundary[0]:\n",
    "        starting = [boundary[0], starting[1]]\n",
    "    elif starting[0] + a[0] < 0:\n",
    "        starting = [0, starting[1]]\n",
    "    else:\n",
    "        starting = [starting[0] + a[0], starting[1]]\n",
    "    if starting[1] + a[1] > boundary[1]:\n",
    "        starting = [starting[0], boundary[1]]\n",
    "    elif starting[1] + a[1] < 0:\n",
    "        starting = [starting[0], 0]\n",
    "    else:\n",
    "        starting = [starting[0], starting[1] + a[1]]\n",
    "    str1 = str(starting[0]) + ' ' + str(starting[1])\n",
    "    print(str1)\n",
    "    a = input()"
   ]
  },
  {
   "cell_type": "markdown",
   "metadata": {},
   "source": [
    "An anagram is a word or a phrase formed by rearranging the letters of another phrase such as “ITEM” and “TIME”. Anagrams may be several words long such as “CS AT WATERLOO” and “COOL AS WET ART”. Note that two phrases may be anagrams of each other even if each phrase has a different number of words (as in the previous example). Write a program to determine if two phrases are anagrams of each other.\n",
    "\n",
    "Input\n",
    "The program should input two phrases, each entered on a separate line. You may assume that the input only contains upper case letters and spaces.\n",
    "\n",
    "Output\n",
    "The program will print out one of two statements: ”Is an anagram.” or ”Is not an anagram.”\n",
    "\n",
    "Sample Input\n",
    "CS AT WATERLOO\n",
    "COOL AS WET ART\n",
    "\n",
    "Sample Output\n",
    "Is an anagram."
   ]
  },
  {
   "cell_type": "code",
   "execution_count": 91,
   "metadata": {},
   "outputs": [
    {
     "name": "stdout",
     "output_type": "stream",
     "text": [
      "CS AT WATERLOO\n",
      "COOL AS WET ART\n",
      "Is an anagram\n"
     ]
    }
   ],
   "source": [
    "str1 = input()\n",
    "str2 = input()\n",
    "list1 = list(str1)\n",
    "list2 = list(str2)\n",
    "list1 = sorted(list1)\n",
    "list1 = [s for s in list1 if s != ' ']\n",
    "list2 = sorted(list2)\n",
    "list2 = [s for s in list2 if s != ' ']\n",
    "if list1 == list2:\n",
    "    print('Is an anagram')\n",
    "else:\n",
    "    print('Is not an anagram.')"
   ]
  },
  {
   "cell_type": "markdown",
   "metadata": {},
   "source": [
    "Your boss has asked you to add up a sequence of positive numbers to determine how much money your company made last year.\n",
    "\n",
    "Unfortunately, your boss reads out numbers incorrectly from time to time.\n",
    "\n",
    "Fortunately, your boss realizes when an incorrect number is read and says \"zero\", meaning \"ignore the current last number.\"\n",
    "\n",
    "Unfortunately, your boss can make repeated mistakes, and says \"zero\" for each mistake.\n",
    "\n",
    "For example, your boss may say \"One, three, five, four, zero, zero, seven, zero, zero, six\", which means the total is 7 as explained in the following chart:\n",
    "\n",
    "Boss statement(s)\n",
    "\n",
    "Current numbers\n",
    "\n",
    "Explanation\n",
    "\n",
    "\"One, three, five, four\"\n",
    "\n",
    "1, 3, 5, 4\n",
    "\n",
    "Record the first four numbers.\n",
    "\n",
    "\"zero, zero\"\n",
    "\n",
    "1, 3\n",
    "\n",
    "Ignore the last two numbers.\n",
    "\n",
    "\"seven\"\n",
    "\n",
    "1, 3, 7\n",
    "\n",
    "Record the number 7 at the end of our list.\n",
    "\n",
    "\"zero, zero\"\n",
    "\n",
    "1\n",
    "\n",
    "Ignore the last two numbers.\n",
    "\n",
    "\"six\"\n",
    "\n",
    "1, 6\n",
    "\n",
    "We have read all numbers, and the total is 7.\n",
    "\n",
    "At any point, your boss will have said at least as many positive numbers as \"zero\" statements. If all positive numbers have been ignored, the sum is zero.\n",
    "\n",
    "Write a program that reads the sequence of boss statements and computes the correct sum.\n",
    "\n",
    "Input\n",
    "\n",
    "The first line of input contains the integer K (1 ≤ K ≤ 100 000) which is the number of integers (including \"zero\") your boss will say. On each of the next K lines, there will be either one integer between 1 and 100 (inclusive), or the integer 0.\n",
    "\n",
    "Output\n",
    "\n",
    "The output is one line, containing the integer which is the correct sum of the integers read, taking the \"zero\" statements into consideration. You can assume that the output will be an integer in the range 0 and 1 000 000 (inclusive).\n",
    "\n",
    "Sample Input 1\n",
    "\n",
    "4\n",
    "\n",
    "3\n",
    "\n",
    "0\n",
    "\n",
    "4\n",
    "\n",
    "0\n",
    "\n",
    "Sample Output 1\n",
    "\n",
    "0\n",
    "\n",
    "Sample Input 2\n",
    "\n",
    "10\n",
    "\n",
    "1\n",
    "\n",
    "3\n",
    "\n",
    "5\n",
    "\n",
    "4\n",
    "\n",
    "0\n",
    "\n",
    "0\n",
    "\n",
    "7\n",
    "\n",
    "0\n",
    "\n",
    "0\n",
    "\n",
    "6\n",
    "\n",
    "Sample Output 2\n",
    "\n",
    "7"
   ]
  },
  {
   "cell_type": "code",
   "execution_count": 106,
   "metadata": {},
   "outputs": [
    {
     "name": "stdout",
     "output_type": "stream",
     "text": [
      "10\n",
      "1\n",
      "3\n",
      "5\n",
      "4\n",
      "0\n",
      "0\n",
      "7\n",
      "0\n",
      "0\n",
      "6\n",
      "7\n"
     ]
    }
   ],
   "source": [
    "n = int(input())\n",
    "list1 = []\n",
    "for x in range(n):\n",
    "    list1.append(input())\n",
    "list1 = [s for s in list1 if (s != ' ') and (s != '')]\n",
    "list1 = [int(s) for s in list1]\n",
    "list2 = []\n",
    "for x in list1:\n",
    "    if x == 0:\n",
    "        list2 = list2[:-1]\n",
    "    else:\n",
    "        list2.append(x)\n",
    "print(sum(list2))"
   ]
  },
  {
   "cell_type": "markdown",
   "metadata": {},
   "source": [
    "/**\n",
    "\n",
    "     * \n",
    "\n",
    "     * @param intArr is an sorted  Integer array \n",
    "\n",
    "     * @param intTarget is a value to be found in intArr\n",
    "\n",
    "     * @return the index of intTarget if found in intArr else return -1;\n",
    "\n",
    "     */\n",
    "\n",
    "    public static int BinarySearch(int [] intArr, int intTarget){\n",
    "\n",
    "        return 1;\n",
    "\n",
    "    }\n",
    "\n",
    "\n",
    "\n",
    "Copy and paste the following test case in the main\n",
    "\n",
    " int [] intArr1 = {1,2,3,4,5,6,7,8,9,10};\n",
    "\n",
    "  System.out.println(BinarySearch(intArr1, 1));\n",
    "\n",
    " System.out.println(BinarySearch(intArr1, -100));\n",
    "\n",
    "\n",
    "Pyhhon Version\n",
    "\n",
    "\n",
    "\n",
    "def BinarySearch(intArr, intTarget):\n",
    "\n",
    " pass\n",
    "\n",
    "\n",
    "\n",
    "Python Test Case:\n",
    "\n",
    "intArr1 = [1,2,3,4,5,6,7,8,9,10]\n",
    "\n",
    "print(BinarySearch(intArr1, 1))\n",
    "\n",
    "print(BinarySearch(intArr1,-100))"
   ]
  },
  {
   "cell_type": "code",
   "execution_count": 131,
   "metadata": {},
   "outputs": [
    {
     "name": "stdout",
     "output_type": "stream",
     "text": [
      "0\n",
      "-1\n"
     ]
    }
   ],
   "source": [
    "def BinarySearch(list1, target):\n",
    "    low = 0\n",
    "    high = len(list1) - 1\n",
    "    while high>=low:\n",
    "        middle = int((low + high) / 2)\n",
    "        if list1[middle] < target:\n",
    "            low = middle + 1\n",
    "        elif list1[middle] > target:\n",
    "            high = middle - 1\n",
    "        else:\n",
    "            return middle\n",
    "    return -1\n",
    "intArr1 = [1,2,3,4,5,6,7,8,9,10]\n",
    "print(BinarySearch(intArr1, 1))\n",
    "\n",
    "print(BinarySearch(intArr1,-100))"
   ]
  },
  {
   "cell_type": "markdown",
   "metadata": {},
   "source": [
    "/**\n",
    "\n",
    "     * \n",
    "\n",
    "     * @param strArr is an sorted  String array \n",
    "\n",
    "     * @param strTarget is a value to be found in intArr\n",
    "\n",
    "     * @return the index of strTarget if found in strArr else return -1;\n",
    "\n",
    "     */\n",
    "\n",
    "    public static int BinarySearch(String []  strArr, String strTarget){\n",
    "\n",
    "        return 1;\n",
    "\n",
    "    }\n",
    "\n",
    "\n",
    "\n",
    "Copy and paste the following test case in the main\n",
    "\n",
    " int [] strArr1 = {\"A\",\"B\",\"C\",\"Z\"};\n",
    "\n",
    "  System.out.println(BinarySearch(strArr1, \"B));\n",
    "\n",
    " System.out.println(BinarySearch(strArr1, \"D));\n",
    "\n",
    "\n",
    "Python Version\n",
    "\n",
    "\n",
    "\n",
    "def BinarySearch(intArr, intTarget):\n",
    "\n",
    " pass\n",
    "\n",
    "\n",
    "\n",
    "Python Test Case:\n",
    "\n",
    "strArr1 = [\"A\",\"B\",\"C\",\"Z\"]\n",
    "\n",
    "print(BinarySearch(strArr1, \"B))\n",
    "\n",
    "print(BinarySearch(strArr1,\"D))"
   ]
  },
  {
   "cell_type": "code",
   "execution_count": 136,
   "metadata": {},
   "outputs": [
    {
     "name": "stdout",
     "output_type": "stream",
     "text": [
      "1\n",
      "-1\n"
     ]
    }
   ],
   "source": [
    "def BinarySearch(list1, target):\n",
    "    low = 0\n",
    "    high = len(list1) - 1\n",
    "    while high>=low:\n",
    "        middle = int((low + high) / 2)\n",
    "        if list1[middle] < target:\n",
    "            low = middle + 1\n",
    "        elif list1[middle] > target:\n",
    "            high = middle - 1\n",
    "        else:\n",
    "            return middle\n",
    "    return -1\n",
    "strArr1 = [\"A\",\"B\",\"C\",\"Z\"]\n",
    "print(BinarySearch(strArr1, \"B\"))\n",
    "\n",
    "print(BinarySearch(strArr1,\"D\"))"
   ]
  },
  {
   "cell_type": "markdown",
   "metadata": {},
   "source": [
    " /**\n",
    "\n",
    "     * \n",
    "\n",
    "     * @param intArr  is an unsorted array\n",
    "\n",
    "     * sort the intArr1 from least to greatest \n",
    "\n",
    "     */\n",
    "\n",
    "    public static void selectionSort(int [] intArr){\n",
    "\n",
    "        \n",
    "\n",
    "    }\n",
    "\n",
    "public static void printArray(int [] intArr){\n",
    "\n",
    "        for(int i = 0; i < intArr.length; i++){\n",
    "\n",
    "            System.out.print(intArr[i] +\" \");\n",
    "\n",
    "        }\n",
    "\n",
    "        System.out.println(\"\");\n",
    "\n",
    "    }\n",
    "\n",
    "\n",
    "\n",
    "Copy and paste the printArray method aling with the selection Sort method along with the following test cases\n",
    "\n",
    "int [] intArr1 = {10,9,8,7,6,5,4,3,2,1};\n",
    "\n",
    "int [] intArr2 = -1,-2,-3,-4,-5,-6};\n",
    "\n",
    "printArray(intArr1);\n",
    "\n",
    "printArray(intArr2);"
   ]
  },
  {
   "cell_type": "code",
   "execution_count": 154,
   "metadata": {},
   "outputs": [],
   "source": [
    "def maxnumber(list1, m):\n",
    "    n = list1[0]\n",
    "    index = 0\n",
    "    for k, x in enumerate(list1[:m]):\n",
    "        if x > n:\n",
    "            n = x\n",
    "            index = k\n",
    "    return index"
   ]
  },
  {
   "cell_type": "code",
   "execution_count": 165,
   "metadata": {},
   "outputs": [
    {
     "name": "stdout",
     "output_type": "stream",
     "text": [
      "1 2 3 4 5 6 7 8 9 10\n",
      "-6 -5 -4 -3 -2 -1\n"
     ]
    }
   ],
   "source": [
    "def SelectionSort(list1):\n",
    "    x = len(list1)\n",
    "    while x > 0:\n",
    "        n = maxnumber(list1, x)\n",
    "        a = list1[n]\n",
    "        list1[n] = list1[x - 1]\n",
    "        list1[x - 1] = a\n",
    "        x -= 1\n",
    "    list1 = [str(s) for s in list1]\n",
    "    return ' '.join(list1)\n",
    "list1 = [10,9,8,7,6,5,4,3,2,1]\n",
    "list2 = [-1,-2,-3,-4,-5,-6]\n",
    "print(SelectionSort(list1))\n",
    "\n",
    "print(SelectionSort(list2))"
   ]
  },
  {
   "cell_type": "markdown",
   "metadata": {},
   "source": [
    " /**\n",
    "\n",
    "     * \n",
    "\n",
    "     * @param intArr  is an unsorted array\n",
    "\n",
    "     * sort the intArr1 from least to greatest \n",
    "\n",
    "     */\n",
    "\n",
    "    public static void insertionSort(int [] intArr){\n",
    "\n",
    "        \n",
    "\n",
    "    }\n",
    "\n",
    "public static void printArray(int [] intArr){\n",
    "\n",
    "        for(int i = 0; i < intArr.length; i++){\n",
    "\n",
    "            System.out.print(intArr[i] +\" \");\n",
    "\n",
    "        }\n",
    "\n",
    "        System.out.println(\"\");\n",
    "\n",
    "    }\n",
    "\n",
    "\n",
    "\n",
    "Copy and paste the printArray method along with the selection Sort method along with the following test cases\n",
    "\n",
    "int [] intArr1 = {10,9,8,7,6,5,4,3,2,1};\n",
    "\n",
    "int [] intArr2 = -1,-2,-3,-4,-5,-6};\n",
    "\n",
    "insertionSort(intArr1);\n",
    "\n",
    "insertionSort(intArr2);\n",
    "\n",
    "printArray(intArr1);\n",
    "\n",
    "printArray(intArr2);"
   ]
  },
  {
   "cell_type": "code",
   "execution_count": 185,
   "metadata": {},
   "outputs": [
    {
     "data": {
      "text/plain": [
       "[1, 4, 3, 2]"
      ]
     },
     "execution_count": 185,
     "metadata": {},
     "output_type": "execute_result"
    }
   ],
   "source": [
    "def swap1(list1, ind):\n",
    "    while ind>0:\n",
    "        if list1[ind]<list1[ind-1]:\n",
    "            tmp = list1[ind]\n",
    "            list1[ind] = list1[ind-1]\n",
    "            list1[ind-1] = tmp\n",
    "        ind -= 1\n",
    "    return list1\n",
    "swap1([4, 3, 2, 1], 3)"
   ]
  },
  {
   "cell_type": "code",
   "execution_count": 188,
   "metadata": {},
   "outputs": [
    {
     "name": "stdout",
     "output_type": "stream",
     "text": [
      "1 2 3 4 5 6 7 8 9 10\n",
      "-6 -5 -4 -3 -2 -1\n"
     ]
    }
   ],
   "source": [
    "def insertion_sort(list1):\n",
    "    c = 0\n",
    "    for k in range(1, len(list1)):\n",
    "        if list1[k] < list1[k - 1]:\n",
    "            list1 = swap1(list1, k)\n",
    "    list1 = [str(s) for s in list1]\n",
    "    return ' '.join(list1)\n",
    "list1 = [10,9,8,7,6,5,4,3,2,1]\n",
    "list2 = [-1,-2,-3,-4,-5,-6]\n",
    "print(insertion_sort(list1))\n",
    "\n",
    "print(insertion_sort(list2))"
   ]
  },
  {
   "cell_type": "markdown",
   "metadata": {},
   "source": [
    "At an old railway station, you may still encounter one of the last remaining \"train swappers\". A train swapper is an employee of the railroad, whose sole job it is to rearrange the carriages of trains.\n",
    "\n",
    "Once the carriages are arranged in the optimal order, all the train driver has to do is drop the carriages off, one by one, at the stations for which the load is meant.\n",
    "\n",
    "The title \"train swapper\" stems from the first person who performed this task, at a station close to a railway bridge. Instead of opening up vertically, the bridge rotated around a piller in the center of the river. After rotating the bridge 90 degrees, boats could pass left or right. The first train swapper had discovered that the bridge could be operated with at most two carriages on it. By rotating the bridge 180 degrees, the carriages switched place, allowing him to rearrange the carriages (as a side effect, the carriages then faced the opposite directions, but train carriages can move either way, so who cares).\n",
    "\n",
    "Now that almost all train swappers have died out, the railway company would like to automate their operation. Part of the program to be developed is a routine which decides, for a given train, the least number of swaps of two adjacent carriages necessary to order the train. Your assignment is to create a routine that computes the minimal number of swaps.\n",
    "\n",
    "Input specification\n",
    "The input contains on the first line the number of test cases (N). Each test case consists of two input lines. The first line of a test case contains an integer L, determining the length of the train (0 ≤ L ≤ 50). The second line of a test case contains a permutation of the numbers 1 through L, indicating the current order of the carriages. The carriages should be ordered such that carriage 1 comes first, then 2, etc., with carriage L coming last.\n",
    "\n",
    "Output specification\n",
    "For each test case output the sentence: \"Optimal train swapping takes S swap(s).\" where S is an integer representing the minimal number of swaps to order the train.\n",
    "\n",
    "Sample input\n",
    "3\n",
    "3\n",
    "1 3 2\n",
    "4\n",
    "4 3 2 1\n",
    "2\n",
    "2 1\n",
    "Sample output\n",
    "Optimal train swapping takes 1 swap(s).\n",
    "Optimal train swapping takes 6 swap(s).\n",
    "Optimal train swapping takes 1 swap(s).\n"
   ]
  },
  {
   "cell_type": "code",
   "execution_count": 194,
   "metadata": {},
   "outputs": [
    {
     "data": {
      "text/plain": [
       "([1, 4, 3, 2], 3)"
      ]
     },
     "execution_count": 194,
     "metadata": {},
     "output_type": "execute_result"
    }
   ],
   "source": [
    "def swap1(list1, ind):\n",
    "    count = 0\n",
    "    while ind>0:\n",
    "        if list1[ind]<list1[ind-1]:\n",
    "            tmp = list1[ind]\n",
    "            list1[ind] = list1[ind-1]\n",
    "            list1[ind-1] = tmp\n",
    "            count += 1\n",
    "        ind -= 1\n",
    "    return(list1, count)\n",
    "swap1([4, 3, 2, 1], 3)"
   ]
  },
  {
   "cell_type": "code",
   "execution_count": 195,
   "metadata": {},
   "outputs": [],
   "source": [
    "def insertion_sort_count(list1):\n",
    "    c = 0\n",
    "    for k in range(1, len(list1)):\n",
    "        if list1[k] < list1[k - 1]:\n",
    "            list1, count = swap1(list1, k)\n",
    "            c += count\n",
    "    return c"
   ]
  },
  {
   "cell_type": "code",
   "execution_count": 196,
   "metadata": {},
   "outputs": [
    {
     "name": "stdout",
     "output_type": "stream",
     "text": [
      "3\n",
      "3\n",
      "1 3 2\n",
      "4\n",
      "4 3 2 1\n",
      "2\n",
      "2 1\n",
      "Optimal train swapping takes 1 swap(s).\n",
      "Optimal train swapping takes 6 swap(s).\n",
      "Optimal train swapping takes 1 swap(s).\n"
     ]
    }
   ],
   "source": [
    "n = int(input())\n",
    "list1 = []\n",
    "for x in range(n):\n",
    "    a = int(input())\n",
    "    list1.append(input())\n",
    "for k in list1:\n",
    "    list2 = k.split(' ')\n",
    "    count = insertion_sort_count(list2)\n",
    "    print('Optimal train swapping takes', count, 'swap(s).')"
   ]
  },
  {
   "cell_type": "markdown",
   "metadata": {},
   "source": [
    "Since time immemorial, the citizens of Dmojistan and Pegland have been at war. Now, they have finally signed a truce. They have decided to participate in a tandem bicycle ride to celebrate the truce. There are N citizens from each country. They must be assigned to pairs so that each pair contains one person from Dmojistan and one person from Pegland.\n",
    "\n",
    "Each citizen has a cycling speed. In a pair, the fastest person will always operate the tandem bicycle while the slower person simply enjoys the ride. In other words, if the members of a pair have speeds a and b, then the bike speed of the pair is max(a, b). The total speed is the sum of the N individual bike speeds.\n",
    "\n",
    "For this problem, in each test case, you will be asked to answer one of the two questions:\n",
    "\n",
    "Question 1: what is the minimum total speed, out of all possible assignments into pairs?\n",
    "Question 2: what is the maximum total speed, out of all possible assignments into pairs?\n",
    "Input Format\n",
    "The first line will contain the type of question you are to solve, which is either 1 or 2.\n",
    "The second line contains N (1 ≤ N ≤ 100).\n",
    "The third line contains N space-separated integers: the speeds of the citizens of Dmojistan.\n",
    "The fourth line contains N space-separated integers: the speeds of the citizens of Pegland.\n",
    "Each person's speed will be an integer between 1 and 1 000 000.\n",
    "For 8 of the 15 available marks, questions of type 1 will be asked. For 7 of the 15 available marks, questions of type 2 will be asked.\n",
    "\n",
    "Output Format\n",
    "Output the maximum and minimum total speed that answers the question asked.\n",
    "\n",
    "Sample Input 1\n",
    "1\n",
    "3\n",
    "5 1 4\n",
    "6 2 4\n",
    "Sample Output 1\n",
    "12\n",
    "Explanation 1\n",
    "There is a unique optimal solution:\n",
    "\n",
    "Pair the citizen from Dmojistan with speed 5 and the citizen from Pegland with speed 6.\n",
    "Pair the citizen from Dmojistan with speed 1 and the citizen from Pegland with speed 2.\n",
    "Pair the citizen from Dmojistan with speed 4 and the citizen from Pegland with speed 4.\n",
    "Sample Input 2\n",
    "2\n",
    "3\n",
    "5 1 4\n",
    "6 2 4\n",
    "Sample Output 2\n",
    "15\n",
    "Explanation 2\n",
    "There are multiple possible optimal solutions. Here is one optimal solution:\n",
    "\n",
    "Pair the citizen from Dmojistan with speed 5 and the citizen from Pegland with speed 2.\n",
    "Pair the citizen from Dmojistan with speed 1 and the citizen from Pegland with speed 6.\n",
    "Pair the citizen from Dmojistan with speed 4 and the citizen from Pegland with speed 4.\n",
    "Sample Input 3\n",
    "2\n",
    "5\n",
    "202 177 189 589 102\n",
    "17 78 1 496 540\n",
    "Sample Output 3\n",
    "2016\n",
    "Explanation 3\n",
    "There are multiple possible optimal solutions. Here is one optimal solution:\n",
    "\n",
    "Pair the citizen from Dmojistan with speed 202 and the citizen from Pegland with speed 1.\n",
    "Pair the citizen from Dmojistan with speed 177 and the citizen from Pegland with speed 540.\n",
    "Pair the citizen from Dmojistan with speed 189 and the citizen from Pegland with speed 17.\n",
    "Pair the citizen from Dmojistan with speed 589 and the citizen from Pegland with speed 78.\n",
    "Pair the citizen from Dmojistan with speed 102 and the citizen from Pegland with speed 496.\n",
    "This sum yields 202 + 540 + 189 + 589 + 496 = 2016."
   ]
  },
  {
   "cell_type": "code",
   "execution_count": 4,
   "metadata": {},
   "outputs": [
    {
     "name": "stdout",
     "output_type": "stream",
     "text": [
      "2\n",
      "3\n",
      "5 1 4\n",
      "6 2 4\n",
      "15\n"
     ]
    }
   ],
   "source": [
    "a = int(input())\n",
    "n = int(input())\n",
    "list1 = []\n",
    "for x in range(2):\n",
    "    list1.append(input())\n",
    "list2 = []\n",
    "count = 0\n",
    "for x in list1:\n",
    "    list2.append(x.split(' '))\n",
    "for k, b in enumerate(list2):\n",
    "    b = [int(s) for s in b]\n",
    "    if k == 1:\n",
    "        sublist1 = sorted(b)\n",
    "    else:\n",
    "        sublist2 = sorted(b)\n",
    "if a == 1:\n",
    "    for c in range(len(sublist1)):\n",
    "        count += int(max(sublist1[c], sublist2[c]))\n",
    "    print(count)\n",
    "if a == 2:\n",
    "    while sublist1:\n",
    "        if max(sublist1) > max(sublist2):\n",
    "            b = max(sublist1)\n",
    "            sublist1 = sublist1[:-1]\n",
    "            count += int(b)\n",
    "            sublist2 = sublist2[1:]\n",
    "        else:\n",
    "            b = max(sublist2)\n",
    "            sublist2 = sublist2[:-1]\n",
    "            count += int(b)\n",
    "            sublist1 = sublist1[1:]  \n",
    "    print(count)"
   ]
  },
  {
   "cell_type": "code",
   "execution_count": 1,
   "metadata": {},
   "outputs": [
    {
     "name": "stdout",
     "output_type": "stream",
     "text": [
      "2016\n"
     ]
    }
   ],
   "source": [
    "a = 2\n",
    "n = 5\n",
    "list1 = ['202 177 189 589 102', '17 78 1 496 540']\n",
    "list2 = []\n",
    "count = 0\n",
    "for x in list1:\n",
    "    list2.append(x.split(' '))\n",
    "for k, b in enumerate(list2):\n",
    "    b = [int(s) for s in b]\n",
    "    if k == 1:\n",
    "        sublist1 = sorted(b)\n",
    "    else:\n",
    "        sublist2 = sorted(b)\n",
    "if a == 1:\n",
    "    for c in range(len(sublist1)):\n",
    "        count += int(max(sublist1[c], sublist2[c]))\n",
    "    print(count)\n",
    "if a == 2:\n",
    "    while sublist1:\n",
    "        if max(sublist1) > max(sublist2):\n",
    "            b = max(sublist1)\n",
    "            sublist1 = sublist1[:-1]\n",
    "            count += int(b)\n",
    "            sublist2 = sublist2[1:]\n",
    "        else:\n",
    "            b = max(sublist2)\n",
    "            sublist2 = sublist2[:-1]\n",
    "            count += int(b)\n",
    "            sublist1 = sublist1[1:]  \n",
    "    print(count)"
   ]
  },
  {
   "cell_type": "markdown",
   "metadata": {},
   "source": [
    "You have been asked by a parental unit to do your chores.\n",
    "\n",
    "Each chore takes a certain amount of time, but you may not have enough time to do all of your chores, since you can only complete one chore at a time. You can do the chores in any order that you wish.\n",
    "\n",
    "What is the largest amount of chores you can complete in the given amount of time?\n",
    "\n",
    "Input\n",
    "The first line of input consists of an integer T (0 ≤ T ≤ 100000), which is the total number of minutes you have available to complete your chores.\n",
    "\n",
    "The second line of input consists of an integer C (0 ≤ C ≤ 100), which is the total number of chores that you may choose from. The next C lines contain the (positive integer) number of minutes required to do each of these chores. You can assume that each chore will take at most 100000 minutes.\n",
    "\n",
    "Output\n",
    "The output will be the maximum number of chores that can be completed in time T.\n",
    "\n",
    "Sample Input 1\n",
    "6\n",
    "3\n",
    "3\n",
    "6\n",
    "3\n",
    "Sample Output 1\n",
    "2\n",
    "Explanation\n",
    "Chores must be completed in at most 6 minutes. There are 3 chores available. The first chore takes 3 minutes. The second chore takes 6 minutes. The third chore takes 3 minutes. The answer is 2 since only 2 of these chores can be completed in 6 minutes of time. Specifically, the first and last chore can be completed in the allowable time. It is not possible to complete all 3 chores in 6 minutes.\n",
    "\n",
    "Sample Input 2\n",
    "6\n",
    "5\n",
    "5\n",
    "4\n",
    "3\n",
    "2\n",
    "1\n",
    "Sample Output 2\n",
    "3\n",
    "Explanation\n",
    "Tasks 3, 4, and 5 can be completed in 6 minutes. It is not possible to complete more than 3 tasks in 6 minutes."
   ]
  },
  {
   "cell_type": "code",
   "execution_count": 24,
   "metadata": {},
   "outputs": [
    {
     "name": "stdout",
     "output_type": "stream",
     "text": [
      "6\n",
      "3\n",
      "3\n",
      "6\n",
      "3\n",
      "2\n"
     ]
    }
   ],
   "source": [
    "t = int(input())\n",
    "n = int(input())\n",
    "list1 = []\n",
    "for x in range(n):\n",
    "    list1.append(int(input()))\n",
    "list1 = sorted(list1)\n",
    "count1 = 0\n",
    "count2 = 0\n",
    "for x in list1:\n",
    "    if count1 + list1[0] < t:\n",
    "        count1 += list1[0]\n",
    "        list1 = list1[1:]\n",
    "        count2 += 1\n",
    "    elif count1 + list1[0] > t:\n",
    "        break\n",
    "    else:\n",
    "        count2 += 1\n",
    "        break\n",
    "print(count2)"
   ]
  },
  {
   "cell_type": "code",
   "execution_count": 22,
   "metadata": {},
   "outputs": [
    {
     "name": "stdout",
     "output_type": "stream",
     "text": [
      "1 2 3 4 5 "
     ]
    }
   ],
   "source": [
    "intStack = [1,2,3,4,5]\n",
    "list1 = []\n",
    "while intStack:\n",
    "    list1.append(intStack.pop())\n",
    "for x in list1[::-1]:\n",
    "    print(x, end = ' ')"
   ]
  },
  {
   "cell_type": "code",
   "execution_count": 28,
   "metadata": {},
   "outputs": [
    {
     "name": "stdout",
     "output_type": "stream",
     "text": [
      "15\n"
     ]
    }
   ],
   "source": [
    "intStack = [1,2,3,4,5]\n",
    "s = 0\n",
    "while len(intStack)>0:\n",
    "    s = s + intStack.pop()\n",
    "print(s)"
   ]
  },
  {
   "cell_type": "code",
   "execution_count": 33,
   "metadata": {},
   "outputs": [],
   "source": [
    "def splitStack(stack1):\n",
    "    bottom = []\n",
    "    top = []\n",
    "    while len(stack1) > 0:\n",
    "        a = stack1.pop()\n",
    "        if a < 0:\n",
    "            bottom.append(a)\n",
    "        else:\n",
    "            top.append(a)\n",
    "    return bottom + top"
   ]
  },
  {
   "cell_type": "code",
   "execution_count": 40,
   "metadata": {},
   "outputs": [
    {
     "name": "stdout",
     "output_type": "stream",
     "text": [
      "[1, 1, 2, 2, 3, 3, 4, 4, 5, 5]\n"
     ]
    }
   ],
   "source": [
    "def shutter(stack1):\n",
    "    stack2 = []\n",
    "    while len(stack1) > 0:\n",
    "        a = stack1.pop()\n",
    "        stack2.append(a)\n",
    "        stack2.append(a)\n",
    "    return stack2[::-1]"
   ]
  },
  {
   "cell_type": "markdown",
   "metadata": {},
   "source": [
    "Your boss has asked you to add up a sequence of positive numbers to determine how much money your company made last year.\n",
    "\n",
    "Unfortunately, your boss reads out numbers incorrectly from time to time.\n",
    "\n",
    "Fortunately, your boss realizes when an incorrect number is read and says \"zero\", meaning \"ignore the current last number.\"\n",
    "\n",
    "Unfortunately, your boss can make repeated mistakes, and says \"zero\" for each mistake.\n",
    "\n",
    "For example, your boss may say \"One, three, five, four, zero, zero, seven, zero, zero, six\", which means the total is 7 as explained in the following chart:\n",
    "\n",
    "Boss statement(s)\n",
    "\n",
    "Current numbers\n",
    "\n",
    "Explanation\n",
    "\n",
    "\"One, three, five, four\"\n",
    "\n",
    "1, 3, 5, 4\n",
    "\n",
    "Record the first four numbers.\n",
    "\n",
    "\"zero, zero\"\n",
    "\n",
    "1, 3\n",
    "\n",
    "Ignore the last two numbers.\n",
    "\n",
    "\"seven\"\n",
    "\n",
    "1, 3, 7\n",
    "\n",
    "Record the number 7 at the end of our list.\n",
    "\n",
    "\"zero, zero\"\n",
    "\n",
    "1\n",
    "\n",
    "Ignore the last two numbers.\n",
    "\n",
    "\"six\"\n",
    "\n",
    "1, 6\n",
    "\n",
    "We have read all numbers, and the total is 7.\n",
    "\n",
    "At any point, your boss will have said at least as many positive numbers as \"zero\" statements. If all positive numbers have been ignored, the sum is zero.\n",
    "\n",
    "Write a program that reads the sequence of boss statements and computes the correct sum.\n",
    "\n",
    "Input\n",
    "\n",
    "The first line of input contains the integer K (1 ≤ K ≤ 100 000) which is the number of integers (including \"zero\") your boss will say. On each of the next K lines, there will be either one integer between 1 and 100 (inclusive), or the integer 0.\n",
    "\n",
    "Output\n",
    "\n",
    "The output is one line, containing the integer which is the correct sum of the integers read, taking the \"zero\" statements into consideration. You can assume that the output will be an integer in the range 0 and 1 000 000 (inclusive).\n",
    "\n",
    "Sample Input 1\n",
    "\n",
    "4\n",
    "\n",
    "3\n",
    "\n",
    "0\n",
    "\n",
    "4\n",
    "\n",
    "0\n",
    "\n",
    "Sample Output 1\n",
    "\n",
    "0\n",
    "\n",
    "Sample Input 2\n",
    "\n",
    "10\n",
    "\n",
    "1\n",
    "\n",
    "3\n",
    "\n",
    "5\n",
    "\n",
    "4\n",
    "\n",
    "0\n",
    "\n",
    "0\n",
    "\n",
    "7\n",
    "\n",
    "0\n",
    "\n",
    "0\n",
    "\n",
    "6\n",
    "\n",
    "Sample Output 2\n",
    "\n",
    "7"
   ]
  },
  {
   "cell_type": "code",
   "execution_count": 56,
   "metadata": {},
   "outputs": [
    {
     "name": "stdout",
     "output_type": "stream",
     "text": [
      "10\n",
      "1\n",
      "3\n",
      "5\n",
      "4\n",
      "0\n",
      "0\n",
      "7\n",
      "0\n",
      "0\n",
      "6\n",
      "7\n"
     ]
    }
   ],
   "source": [
    "n = int(input())\n",
    "list1 = []\n",
    "for x in range(2 * n):\n",
    "    list1.append(input())\n",
    "list1 = [int(s) for s in list1 if s != '']\n",
    "stack1 = []\n",
    "for x in list1:\n",
    "    if x == 0:\n",
    "        stack1.pop()\n",
    "    else:\n",
    "        stack1.append(x)\n",
    "print(sum(stack1))"
   ]
  },
  {
   "cell_type": "code",
   "execution_count": 63,
   "metadata": {},
   "outputs": [],
   "source": [
    "stack1 = [1,2,3,2,1]\n",
    "def isPalindrome(stack1):\n",
    "    n = stack1.copy()\n",
    "    stack2 = []\n",
    "    while len(stack1) > 0:\n",
    "        a = stack1.pop()\n",
    "        stack2.append(a)\n",
    "    if n == stack2:\n",
    "        return True\n",
    "    else:\n",
    "        return False"
   ]
  },
  {
   "cell_type": "markdown",
   "metadata": {},
   "source": [
    "In order to ensure peace and prosperity for future generations, the United Nations is creating the world’s largest candy. The ingredients must be taken in railway cars from the top of a mountain and poured into Lake Geneva. The railway system goes steeply from the mountaintop down to the lake, with a T-shaped branch in the middle as shown below.\n",
    "\n",
    "\n",
    "\n",
    "Right now, each of the N ingredients is in its own railway car. Each railway car is assigned a positive integer from 1 to N. The ingredients must be poured into the lake in the order 1, 2, 3, …, N but the railway cars are lined up in some random order. The difficulty is that, because of the especially heavy gravity today, you can only move cars downhill to the lake, or sideways on the branch line. Is it still possible to pour the ingredients into the lake in the order 1, 2, 3, …, N?\n",
    "\n",
    "\n",
    "For example, if the cars were in the order 2, 3, 1, 4, we can slide these into the lake in order as described below:\n",
    "\n",
    "Slide car 4 out to the branch\n",
    "Slide car 1 into the lake\n",
    "Slide car 3 out to the branch\n",
    "Slide car 2 into the lake\n",
    "Slide car 3 from the branch into the lake\n",
    "Slide car 4 from the branch into the lake\n",
    "Input\n",
    "The first line will contain the number T (1 ≤ T ≤ 10) which is the number of different tests that will be run. Each test has the form of an integer N (1 ≤ N ≤ 100 000) on the first line of the test, followed by a list of the N cars listed from top to bottom. The cars will always use the numbers from 1 to N in some order.\n",
    "\n",
    "Output\n",
    "For each test, output one line which will contain either Y (for \"yum\") if the recipe can be completed, and N otherwise.\n",
    "\n",
    "Sample Input\n",
    "2\n",
    "4\n",
    "2\n",
    "3\n",
    "1\n",
    "4\n",
    "4\n",
    "4\n",
    "1\n",
    "3\n",
    "2\n",
    "Sample Output\n",
    "Y\n",
    "N"
   ]
  },
  {
   "cell_type": "code",
   "execution_count": 76,
   "metadata": {},
   "outputs": [
    {
     "name": "stdout",
     "output_type": "stream",
     "text": [
      "2\n",
      "4\n",
      "2\n",
      "3\n",
      "1\n",
      "4\n",
      "Y\n",
      "4\n",
      "4\n",
      "1\n",
      "3\n",
      "2\n",
      "N\n"
     ]
    }
   ],
   "source": [
    "t = int(input())\n",
    "for x in range(t):\n",
    "    stack1 = []\n",
    "    n = int(input())\n",
    "    for a in range(n):\n",
    "        stack1.append(int(input()))\n",
    "    stack2 = []\n",
    "    for b in stack1[::-1]:\n",
    "        if b == min(stack1):\n",
    "            stack1.pop()\n",
    "        else:\n",
    "            stack2.append(stack1.pop())\n",
    "    if stack2[::-1] == sorted(stack2):\n",
    "        print('Y')\n",
    "    else:\n",
    "        print('N')"
   ]
  },
  {
   "cell_type": "markdown",
   "metadata": {},
   "source": [
    " // TODO code application logic here\n",
    "        //Read a sentence form the user and display the frequeency of each letters\n",
    "        //in that sentence. You can assume all the letters are in lower case and\n",
    "        //ignore the punctuation and space\n",
    "        //the red cat sat on the mat\n",
    "        /**\n",
    "         * a 3\n",
    "         * c 1\n",
    "         */"
   ]
  },
  {
   "cell_type": "code",
   "execution_count": 96,
   "metadata": {},
   "outputs": [
    {
     "name": "stdout",
     "output_type": "stream",
     "text": [
      "the red cat sat on the mat\n",
      "a 3\n",
      "c 1\n",
      "d 1\n",
      "e 3\n",
      "h 2\n",
      "m 1\n",
      "n 1\n",
      "o 1\n",
      "r 1\n",
      "s 1\n",
      "t 5\n"
     ]
    }
   ],
   "source": [
    "alphabet = 'abcdefghijklmnopqrstuvwxyz'\n",
    "alphabet = list(alphabet)\n",
    "sentence = input()\n",
    "sentence_list = list(sentence)\n",
    "list1 = []\n",
    "for x in alphabet:\n",
    "    list1.append([x, 0])\n",
    "for a in sentence_list:\n",
    "    if a in alphabet:\n",
    "        list1[ord(a) - 97][1] += 1\n",
    "for (a, b) in list1:\n",
    "    if b > 0:\n",
    "        print(a, b)"
   ]
  },
  {
   "cell_type": "markdown",
   "metadata": {},
   "source": [
    "Write a program that will reads 10 integers and print their mode. (You can assume there is only one mode)\n",
    "\n",
    "Sample input and output specifications are given below.\n",
    "\n",
    "Input\n",
    "\n",
    "1 1 1 2 3 4 5 6 7 8 \n",
    "\n",
    "Output\n",
    "\n",
    "1"
   ]
  },
  {
   "cell_type": "code",
   "execution_count": 104,
   "metadata": {},
   "outputs": [
    {
     "name": "stdout",
     "output_type": "stream",
     "text": [
      "1 1 1 2 3 4 5 6 7 8\n",
      "1\n"
     ]
    }
   ],
   "source": [
    "str1 = input()\n",
    "list1 = str1.split(' ')\n",
    "dict1 = {}\n",
    "for x in list1:\n",
    "    if x not in dict1:\n",
    "        dict1[x] = 1\n",
    "    else:\n",
    "        dict1[x] += 1\n",
    "m = max(dict1.values())\n",
    "for a in dict1.keys():\n",
    "    if dict1[a] == m:\n",
    "        print(a)\n",
    "        break"
   ]
  },
  {
   "cell_type": "markdown",
   "metadata": {},
   "source": [
    "Read a program that will read a sentence and print the most frequent word in the sentence. (Ignore the white spaces). Sample input and output specifications are given below. You can assume there is only word appears most of the time.\n",
    "\n",
    "Input\n",
    "\n",
    "the red cat sat on the mat\n",
    "\n",
    "Output\n",
    "\n",
    "the"
   ]
  },
  {
   "cell_type": "code",
   "execution_count": 102,
   "metadata": {},
   "outputs": [
    {
     "name": "stdout",
     "output_type": "stream",
     "text": [
      "the red cat sat on the mat\n",
      "the\n"
     ]
    }
   ],
   "source": [
    "str1 = input()\n",
    "list1 = str1.split(' ')\n",
    "dict1 = {}\n",
    "for x in list1:\n",
    "    if x not in dict1:\n",
    "        dict1[x] = 1\n",
    "    else:\n",
    "        dict1[x] += 1\n",
    "m = max(dict1.values())\n",
    "for a in dict1.keys():\n",
    "    if dict1[a] == m:\n",
    "        print(a)\n",
    "        break"
   ]
  },
  {
   "cell_type": "markdown",
   "metadata": {},
   "source": [
    "Write a program that will read 10 integers and print the number of unique integers.\n",
    "\n",
    "Sample input and output specifications are below.\n",
    "\n",
    "Input\n",
    "\n",
    "1\n",
    "\n",
    "1\n",
    "\n",
    "1\n",
    "\n",
    "1\n",
    "\n",
    "1\n",
    "\n",
    "1\n",
    "\n",
    "1\n",
    "\n",
    "2\n",
    "\n",
    "2\n",
    "\n",
    "Output\n",
    "\n",
    "2"
   ]
  },
  {
   "cell_type": "code",
   "execution_count": 106,
   "metadata": {},
   "outputs": [
    {
     "name": "stdout",
     "output_type": "stream",
     "text": [
      "1\n",
      "1\n",
      "1\n",
      "1\n",
      "1\n",
      "1\n",
      "1\n",
      "2\n",
      "2\n",
      "2\n"
     ]
    }
   ],
   "source": [
    "list1 = []\n",
    "for x in range(9):\n",
    "    list1.append(int(input()))\n",
    "dict1 = {}\n",
    "for a in list1:\n",
    "    if a not in dict1:\n",
    "        dict1[a] = 0\n",
    "    else:\n",
    "        continue\n",
    "print(len(dict1))"
   ]
  },
  {
   "cell_type": "markdown",
   "metadata": {},
   "source": [
    "It has been said that the most common letter in the English alphabet is the letter \"E\". In actual messages that is not always the case. In this program you are asked to write a program that will find the most common letter in a message, ignoring upper case or lower case, not counting any non‐ alphabetic characters such as spaces, commas or numbers. State the number of occurrences of the letter, and if there is a tie, list each letter in the tie in alphabetic order. (The input is always five lines)\n",
    "\n",
    " \n",
    "\n",
    "\n",
    "\n",
    "Sample Input\n",
    "\n",
    "Beware the Jabberwock, my son!\n",
    "\n",
    "the jaws that bite,\n",
    "\n",
    "and the claws that catch!\n",
    "\n",
    "Beware the Jujub bird, and shun \n",
    "\n",
    "This frumious Bandersnatch!\n",
    "\n",
    " \n",
    "\n",
    " \n",
    "\n",
    "Sample Output\n",
    "\n",
    "E occur(s) 4 times.  \n",
    "\n",
    "T occur(s) 4 times.  \n",
    "\n",
    "A T occur(s) 4 times.\n",
    "\n",
    "B E U occur(s) 3 times. \n",
    "\n",
    "S occur(s) 3 times."
   ]
  },
  {
   "cell_type": "code",
   "execution_count": 145,
   "metadata": {},
   "outputs": [
    {
     "name": "stdout",
     "output_type": "stream",
     "text": [
      "Beware the Jabberwock, my son!\n",
      "the jaws that bite,\n",
      "and the claws that catch!\n",
      "Beware the Jujub bird, and shun \n",
      "This frumious Bandersnatch!\n",
      "E occur(s) 4 times.\n",
      "T occur(s) 4 times.\n",
      "A T occur(s) 4 times.\n",
      "B E U occur(s) 3 times.\n",
      "S occur(s) 3 times.\n"
     ]
    }
   ],
   "source": [
    "list1 = []\n",
    "for x in range(5):\n",
    "    list1.append(input())\n",
    "alphabet = 'abcdefghijklmnopqrstuvwxyzABCDEFGHIJKLMNOPQRSTUVWXYZ'\n",
    "alphabet = list(alphabet)\n",
    "list2 = []\n",
    "for x in list1:\n",
    "    dict1 = {}\n",
    "    current_list = list(x)\n",
    "    current_list = [s.lower() for s in current_list if s in alphabet]\n",
    "    for a in current_list:\n",
    "        if a not in dict1:\n",
    "            dict1[a] = 1\n",
    "        else:\n",
    "            dict1[a] += 1\n",
    "    max_value = max(dict1.values())\n",
    "    list3 = []\n",
    "    for b in dict1:\n",
    "        if dict1[b] == max_value:\n",
    "            max_key = b\n",
    "            list3.append(max_key)\n",
    "    list3 = sorted(list3)\n",
    "    list3 = [s.upper() for s in list3]\n",
    "    str1 = ' '.join(list3)\n",
    "    list2.append(str1 + ' occur(s) ' + str(max_value) + ' times.')\n",
    "for d in list2:\n",
    "    print(d)\n",
    "    print('\\r')"
   ]
  },
  {
   "cell_type": "markdown",
   "metadata": {},
   "source": [
    "You have a sequence of lowercase characters that you want to encrypt.\n",
    "\n",
    "The first k characters will be encoded as plain-text. All characters after the first k characters will be shifted by the most frequently occuring character that appeared in the previous k characters, with ties broken by the character which occurs first in the alphabet. By \"shifted by\", we mean that if c was the most frequently occuring character, the character would be shifted ahead by 3 positions (since c is the third letter of the alphabet), modulo 26 (e.g., b becomes e, and z becomes c).\n",
    "\n",
    "Input Specification\n",
    "\n",
    "On the first line of input contains k (1 ≤ k ≤ 10 000). The next line contains c characters (1 ≤ c ≤ 100 000).\n",
    "\n",
    "Output Specification\n",
    "\n",
    "One line, containing the encrypted version of the c characters from the input.\n",
    "\n",
    "Sample Input\n",
    "\n",
    "5\n",
    "\n",
    "abbaabbacdecde\n",
    "\n",
    "Output for Sample Input\n",
    "\n",
    "abbaacdcdegdgh"
   ]
  },
  {
   "cell_type": "code",
   "execution_count": 29,
   "metadata": {},
   "outputs": [
    {
     "name": "stdout",
     "output_type": "stream",
     "text": [
      "5\n",
      "abbaabbacdecde\n",
      "abbaacdcdegdgh\n"
     ]
    }
   ],
   "source": [
    "def most_frequent(str1):\n",
    "    list1 = list(str1)\n",
    "    dict1 = {}\n",
    "    list2 = []\n",
    "    for x in list1:\n",
    "        if x not in dict1:\n",
    "            dict1[x] = 1\n",
    "        else:\n",
    "            dict1[x] += 1\n",
    "    max_value = max(dict1.values())\n",
    "    for x in dict1.keys():\n",
    "        if dict1[x] == max_value:\n",
    "            list2.append(x)\n",
    "    return min(list2)\n",
    "k = int(input())\n",
    "str1 = input()\n",
    "alphabet = 'abcdefghijklmnopqrstuvwxyzabcdefghijklmnopqrstuvwxyz'\n",
    "alphabet = list(alphabet)\n",
    "str2 = ''\n",
    "list1 = list(str1)\n",
    "for x in range(k):\n",
    "    str2 += list1[x]\n",
    "for a in range(k, len(list1)):\n",
    "    up = most_frequent(''.join(list1[a - k: a]))\n",
    "    index = alphabet.index(up)\n",
    "    new = alphabet[alphabet.index(list1[a]) + index + 1]\n",
    "    str2 += new\n",
    "print(str2)"
   ]
  },
  {
   "cell_type": "code",
   "execution_count": null,
   "metadata": {},
   "outputs": [],
   "source": [
    "n = int(input())\n",
    "list1 = []\n",
    "for x in matrix[n]:\n",
    "    if x != 0:\n",
    "        list1.append(x)\n",
    "print(len(list1))"
   ]
  },
  {
   "cell_type": "markdown",
   "metadata": {},
   "source": [
    "In a certain school, it has been decided that students are spending too much time studying and not enough time socializing. To address this situation, it has been decided to give every student a friend. Friendship is one-way. That is, if Janet is assigned to be Sarah’s friend, Janet must be friendly to Sarah, but Sarah is not required to reciprocate.\n",
    "\n",
    "The assignment of friends is done by computer using student numbers. Every student is assigned exactly one friend. Sometimes, a ‘circle of friends’ occurs. For example, if Marc is assigned Fred, Fred is assigned Lori, Lori is assigned Jean, and Jean assigned Marc, we have a circle of 4 friends containing Marc, Fred, Lori, and Jean. In the circle, we can say that Marc has a separation of 0 from Fred, of 1 from Lori, of 2 from Jean, and of 3 from Marc.\n",
    "\n",
    "Your task it to identify, given the computer assignment of friends, whether two students are in the same circle of friends, and if so, determine their separation.\n",
    "\n",
    "Input\n",
    "\n",
    "Input begins with a single integer n (2 ≤ n ≤ 9999), on a line by itself, indicating the number of students in the class. The next n lines contain the computer assignment of friendship. An assignment is of the form x y (where 1 ≤ x ≤ 9999, 1 ≤ y ≤ 9999, x ≠ y). For example, 1234 8765 is a possible friendship assignment indicating that student 1234 must be friends with student 8765.\n",
    "\n",
    "Following the friendship assignments, there are a series of lines containing two student numbers, separated by a single whitespace. These lines represent the pairs of students that you will determine if they are in same circle of friends and, if so, their separation. The last line of input can be identified by the use of the 0 0 as the friend assignment.\n",
    "\n",
    "Output\n",
    "\n",
    "For each case, you are to print, on a separate line, either Yes or No depending on whether they are in the same circle of friends. If the answer is Yes, follow the output Yes with a single whitespace and then an integer indicating the friend’s separation.\n",
    "\n",
    "Sample Input\n",
    "\n",
    "6\n",
    "1 2\n",
    "2 3\n",
    "3 1\n",
    "10 11\n",
    "100 10\n",
    "11 100\n",
    "1 100\n",
    "2 3\n",
    "0 0\n",
    "\n",
    "Sample Output\n",
    "\n",
    "No\n",
    "Yes 0"
   ]
  },
  {
   "cell_type": "code",
   "execution_count": 2,
   "metadata": {
    "scrolled": true
   },
   "outputs": [
    {
     "name": "stdout",
     "output_type": "stream",
     "text": [
      "6\n",
      "1 2\n",
      "2 3\n",
      "3 1\n",
      "10 11\n",
      "100 10\n",
      "11 100\n",
      "1 100\n",
      "2 3\n",
      "0 0\n",
      "No\n",
      "Yes 0\n"
     ]
    }
   ],
   "source": [
    "def bfs(starting_node, end_node):\n",
    "    list_visited = []\n",
    "    list_paths = []\n",
    "    list_paths.append([starting_node])\n",
    "    while list_paths:\n",
    "        current_path = list_paths.pop(0)\n",
    "        current_node = current_path[-1]\n",
    "        if current_node not in list_visited:\n",
    "            list_visited.append(current_node)\n",
    "            list_friends = friends[current_node]\n",
    "            for c in list_friends:\n",
    "                path = current_path + [c]\n",
    "                if path[-1] == end_node:\n",
    "                    return path\n",
    "                else:\n",
    "                    list_paths.append(path)\n",
    "    return None\n",
    "\n",
    "friends = {}\n",
    "n = int(input())\n",
    "str1 = input()\n",
    "list_inputs = []\n",
    "while str1 != '0 0':\n",
    "    list_inputs.append(str1)\n",
    "    str1 = input()\n",
    "\n",
    "list_inputs_1 = list_inputs[:n]\n",
    "list_inputs_2 = list_inputs[n:]\n",
    "\n",
    "for s in list_inputs_1:\n",
    "    sublist = s.split(' ')\n",
    "    if sublist[1] not in friends:\n",
    "        friends[sublist[1]] = [sublist[0]]\n",
    "    else:\n",
    "        friends[sublist[1]].append(sublist[0])\n",
    "        \n",
    "tests = list_inputs_2\n",
    "\n",
    "for x in tests:\n",
    "    sublist = x.split(' ')\n",
    "    start_node = sublist[1]\n",
    "    end_node = sublist[0]\n",
    "    shortest_path = bfs(start_node, end_node)\n",
    "    if shortest_path == None:\n",
    "        print('No')\n",
    "    else:\n",
    "        print('Yes ' + str(len(shortest_path) - 2))"
   ]
  },
  {
   "cell_type": "code",
   "execution_count": null,
   "metadata": {},
   "outputs": [],
   "source": [
    "## friends = {}\n",
    "n = int(input())\n",
    "str1 = input()\n",
    "list_inputs = []\n",
    "while str1 != '0 0':\n",
    "    list_inputs.append(str1)\n",
    "    sublist = str1.split(' ')\n",
    "\n",
    "list_inputs_1 = list_inputs[:n]\n",
    "list_inputs_2 = list_inputs[n:]\n"
   ]
  },
  {
   "cell_type": "code",
   "execution_count": 34,
   "metadata": {},
   "outputs": [
    {
     "data": {
      "text/plain": [
       "['0 0', '0 0']"
      ]
     },
     "execution_count": 34,
     "metadata": {},
     "output_type": "execute_result"
    }
   ],
   "source": [
    "tests"
   ]
  },
  {
   "cell_type": "code",
   "execution_count": 27,
   "metadata": {
    "scrolled": true
   },
   "outputs": [
    {
     "name": "stdout",
     "output_type": "stream",
     "text": [
      "No\n",
      "Yes 0\n"
     ]
    }
   ],
   "source": [
    "friends = {'2': ['1'], '3': ['2'], '1': ['3'], '11': ['10'], '10': ['100'], '100': ['11']}\n",
    "tests = ['1 100', '2 3']\n",
    "def bfs(starting_node, end_node):\n",
    "    list_visited = []\n",
    "    list_paths = []\n",
    "    list_paths.append([starting_node])\n",
    "    while list_paths:\n",
    "        current_path = list_paths.pop(0)\n",
    "        current_node = current_path[-1]\n",
    "        if current_node not in list_visited:\n",
    "            list_visited.append(current_node)\n",
    "            list_friends = friends[current_node]\n",
    "            for c in list_friends:\n",
    "                path = current_path + [c]\n",
    "                if path[-1] == end_node:\n",
    "                    return path\n",
    "                else:\n",
    "                    list_paths.append(path)\n",
    "    return None\n",
    "for x in tests:\n",
    "    sublist = x.split(' ')\n",
    "    start_node = sublist[1]\n",
    "    end_node = sublist[0]\n",
    "    shortest_path = bfs(start_node, end_node)\n",
    "    if shortest_path == None:\n",
    "        print('No')\n",
    "    else:\n",
    "        print('Yes ' + str(len(shortest_path) - 2))"
   ]
  },
  {
   "cell_type": "code",
   "execution_count": 90,
   "metadata": {
    "scrolled": true
   },
   "outputs": [
    {
     "name": "stdout",
     "output_type": "stream",
     "text": [
      "i 20 10\n",
      "i 20 9\n",
      "n 20\n",
      "f 20\n",
      "s 20 6\n",
      "q\n",
      "2\n",
      "3\n",
      "4\n"
     ]
    }
   ],
   "source": [
    "friends = {}\n",
    "friends['1'] = ['6']\n",
    "friends['2'] = ['6']\n",
    "friends['3'] = ['4', '5', '6', '15']\n",
    "friends['4'] = ['3', '5', '6']\n",
    "friends['5'] = ['3', '4', '6']\n",
    "friends['6'] = ['1', '2', '3', '4', '5', '7']\n",
    "friends['7'] = ['6', '8']\n",
    "friends['8'] = ['7', '9']\n",
    "friends['9'] = ['8', '10', '12']\n",
    "friends['10'] = ['9', '11']\n",
    "friends['11'] = ['10', '12']\n",
    "friends['12'] = ['9', '11', '13']\n",
    "friends['13'] = ['12', '14', '15']\n",
    "friends['14'] = ['13']\n",
    "friends['15'] = ['3', '13']\n",
    "friends['16'] = ['17', '18']\n",
    "friends['17'] = ['16', '18']\n",
    "friends['18'] = ['16', '17']\n",
    "def bfs(starting_node, end_node):\n",
    "    list_visited = []\n",
    "    list_paths = []\n",
    "    list_paths.append([starting_node])\n",
    "    while list_paths:\n",
    "        current_path = list_paths.pop(0)\n",
    "        current_node = current_path[-1]\n",
    "        if current_node not in list_visited:\n",
    "            list_visited.append(current_node)\n",
    "            list_friends = friends[current_node]\n",
    "            for c in list_friends:\n",
    "                path = current_path + [c]\n",
    "                if path[-1] == end_node:\n",
    "                    return path\n",
    "                else:\n",
    "                    list_paths.append(path)\n",
    "    return None\n",
    "a = input()\n",
    "list_incomplete = []\n",
    "list_input = []\n",
    "while a != 'q':\n",
    "    list_incomplete.append(a.split(' '))\n",
    "    a = input()\n",
    "for c in list_incomplete:\n",
    "    for d in c:\n",
    "        list_input.append(d)\n",
    "for k, x in enumerate(list_input):\n",
    "    if x == 'i':\n",
    "        if list_input[k + 1] not in friends:\n",
    "            friends[list_input[k + 1]] = [list_input[k + 2]]\n",
    "        else:\n",
    "            friends[list_input[k + 1]].append(list_input[k + 2])\n",
    "        if list_input[k + 2] not in friends:\n",
    "            friends[list_input[k + 2]] = [list_input[k + 1]]\n",
    "        else:\n",
    "            friends[list_input[k + 2]].append(list_input[k + 1]) \n",
    "    if x == 'd':\n",
    "        index = friends[list_input[k + 1]].index(list_input[k + 2])\n",
    "        friends[list_input[k + 1]] = friends[list_input[k + 1]][:index] + friends[list_input[k + 1]][index + 1:]\n",
    "        index = friends[list_input[k + 2]].index(list_input[k + 1])\n",
    "        friends[list_input[k + 2]] = friends[list_input[k + 2]][:index] + friends[list_input[k + 2]][index + 1:]\n",
    "    if x == 'n':\n",
    "        print(len(friends[list_input[k + 1]]))\n",
    "    if x == 'f':\n",
    "        list_of_friends = [list_input[k + 1]]\n",
    "        friends_of_friends = []\n",
    "        for a in friends[list_input[k + 1]]:\n",
    "            list_of_friends.append(a)\n",
    "        for a in friends[list_input[k + 1]]:\n",
    "            for b in friends[a]:\n",
    "                if b not in list_of_friends:\n",
    "                    friends_of_friends.append(b)\n",
    "        print(len(list(set(friends_of_friends))))\n",
    "    if x == 's':\n",
    "        print(len(bfs(list_input[k + 1], list_input[k + 2])) - 1)"
   ]
  },
  {
   "cell_type": "code",
   "execution_count": 88,
   "metadata": {
    "scrolled": false
   },
   "outputs": [
    {
     "name": "stdout",
     "output_type": "stream",
     "text": [
      "2\n",
      "3\n",
      "4\n"
     ]
    }
   ],
   "source": [
    "friends = {}\n",
    "friends['1'] = ['6']\n",
    "friends['2'] = ['6']\n",
    "friends['3'] = ['4', '5', '6', '15']\n",
    "friends['4'] = ['3', '5', '6']\n",
    "friends['5'] = ['3', '4', '6']\n",
    "friends['6'] = ['1', '2', '3', '4', '5', '7']\n",
    "friends['7'] = ['6', '8']\n",
    "friends['8'] = ['7', '9']\n",
    "friends['9'] = ['8', '10', '12']\n",
    "friends['10'] = ['9', '11']\n",
    "friends['11'] = ['10', '12']\n",
    "friends['12'] = ['9', '11', '13']\n",
    "friends['13'] = ['12', '14', '15']\n",
    "friends['14'] = ['13']\n",
    "friends['15'] = ['3', '13']\n",
    "friends['16'] = ['17', '18']\n",
    "friends['17'] = ['16', '18']\n",
    "friends['18'] = ['16', '17']\n",
    "def bfs(starting_node, end_node):\n",
    "    list_visited = []\n",
    "    list_paths = []\n",
    "    list_paths.append([starting_node])\n",
    "    while list_paths:\n",
    "        current_path = list_paths.pop(0)\n",
    "        current_node = current_path[-1]\n",
    "        if current_node not in list_visited:\n",
    "            list_visited.append(current_node)\n",
    "            list_friends = friends[current_node]\n",
    "            for c in list_friends:\n",
    "                path = current_path + [c]\n",
    "                if path[-1] == end_node:\n",
    "                    return path\n",
    "                else:\n",
    "                    list_paths.append(path)\n",
    "    return None\n",
    "list_input = ['i', '1', '2', 'd', '1', '2', 'i', '20', '10', 'i', '20', '9', 'i', '9', '8', 'i', '8', '7', \n",
    "              'i', '7', '6', 'i', '10', '11', 'i', '10', '12', 'n', '20', 'f', '20', 's', '20', '6']\n",
    "for k, x in enumerate(list_input):\n",
    "    if x == 'i':\n",
    "        if list_input[k + 1] not in friends:\n",
    "            friends[list_input[k + 1]] = [list_input[k + 2]]\n",
    "        else:\n",
    "            friends[list_input[k + 1]].append(list_input[k + 2])\n",
    "        if list_input[k + 2] not in friends:\n",
    "            friends[list_input[k + 2]] = [list_input[k + 1]]\n",
    "        else:\n",
    "            friends[list_input[k + 2]].append(list_input[k + 1]) \n",
    "    if x == 'd':\n",
    "        index = friends[list_input[k + 1]].index(list_input[k + 2])\n",
    "        friends[list_input[k + 1]] = friends[list_input[k + 1]][:index] + friends[list_input[k + 1]][index + 1:]\n",
    "        index = friends[list_input[k + 2]].index(list_input[k + 1])\n",
    "        friends[list_input[k + 2]] = friends[list_input[k + 2]][:index] + friends[list_input[k + 2]][index + 1:]\n",
    "    if x == 'n':\n",
    "        print(len(friends[list_input[k + 1]]))\n",
    "    if x == 'f':\n",
    "        list_of_friends = [list_input[k + 1]]\n",
    "        friends_of_friends = []\n",
    "        for a in friends[list_input[k + 1]]:\n",
    "            list_of_friends.append(a)\n",
    "        for a in friends[list_input[k + 1]]:\n",
    "            for b in friends[a]:\n",
    "                if b not in list_of_friends:\n",
    "                    friends_of_friends.append(b)\n",
    "        print(len(list(set(friends_of_friends))))\n",
    "    if x == 's':\n",
    "        print(len(bfs(list_input[k + 1], list_input[k + 2])) - 1)"
   ]
  },
  {
   "cell_type": "code",
   "execution_count": 24,
   "metadata": {},
   "outputs": [
    {
     "name": "stdout",
     "output_type": "stream",
     "text": [
      "['this is the first line', 'second line', 'third line', 'fourth line', 'fifth line', 'sixth line', 'seventh line', 'eighth light', 'ninth line', 'tenth line']\n"
     ]
    }
   ],
   "source": [
    "list_1=[]\n",
    "with open('11.text', 'r') as f:\n",
    "    for line in f:\n",
    "        list_1.append(line)\n",
    "list_1 = [s.strip() for s in list_1]\n",
    "print(list_1)"
   ]
  },
  {
   "cell_type": "code",
   "execution_count": 41,
   "metadata": {},
   "outputs": [
    {
     "name": "stdout",
     "output_type": "stream",
     "text": [
      "this is the first line\n",
      "second line\n",
      "third line\n",
      "fourth line\n",
      "fifth line\n",
      "sixth line\n",
      "seventh line\n",
      "eighth light\n",
      "ninth line\n",
      "tenth line\n",
      "eleventh line\n"
     ]
    }
   ],
   "source": [
    "new_line='eleventh line'\n",
    "with open('11.text', 'a') as f:\n",
    "    f.write(new_line+'\\n')\n",
    "list_1=[]\n",
    "with open('11.text', 'r') as f:\n",
    "    for line in f:\n",
    "        list_1.append(line)\n",
    "list_1 = [s.strip() for s in list_1]\n",
    "for line in list_1:\n",
    "    print(line)"
   ]
  },
  {
   "cell_type": "code",
   "execution_count": 42,
   "metadata": {},
   "outputs": [],
   "source": [
    "new_line='eleventh line'\n",
    "with open('11.text', 'w') as f:\n",
    "    f.write(new_line+'\\n')"
   ]
  },
  {
   "cell_type": "markdown",
   "metadata": {},
   "source": [
    "Freckles\n",
    "In an episode of the Dick Van Dyke show, little Richie connects the freckles on his\n",
    "Dad’s back to form a picture of the Liberty Bell. Alas, one of the freckles turns out to\n",
    "be a scar, so his Ripley’s engagement falls through.\n",
    "Consider Dick’s back to be a plane with freckles at various (x, y) locations. Your job\n",
    "is to tell Richie how to connect the dots so as to minimize the amount of ink used.\n",
    "Richie connects the dots by drawing straight lines between pairs, possibly lifting the\n",
    "pen between lines. When Richie is done there must be a sequence of connected lines\n",
    "from any freckle to any other freckle.\n",
    "Input\n",
    "The input begins with a single positive integer on a line by itself indicating the number\n",
    "of test cases, followed by a blank line.\n",
    "The first line of each test case contains 0 < n ≤ 100, giving the number of freckles on\n",
    "Dick’s back. For each freckle, a line follows; each following line contains two real numbers\n",
    "indicating the (x, y) coordinates of the freckle.\n",
    "There is a blank line between each two consecutive test cases.\n",
    "Output\n",
    "For each test case, your program must print a single real number to two decimal places:\n",
    "the minimum total length of ink lines that can connect all the freckles. The output of\n",
    "each two consecutive cases must be separated by a blank line.\n",
    "Sample Input\n",
    "1\n",
    "3\n",
    "1.0 1.0\n",
    "2.0 2.0\n",
    "2.0 4.0\n",
    "Sample Output\n",
    "3.41"
   ]
  },
  {
   "cell_type": "code",
   "execution_count": 69,
   "metadata": {
    "scrolled": false
   },
   "outputs": [
    {
     "name": "stdout",
     "output_type": "stream",
     "text": [
      "1\n",
      "\n",
      "3\n",
      "\n",
      "1.0 1.0\n",
      "\n",
      "2.0 2.0\n",
      "\n",
      "2.0 4.0\n",
      "3.41\n"
     ]
    }
   ],
   "source": [
    "def distance_formula(str1, str2):\n",
    "    list1 = str1.split()\n",
    "    list2 = str2.split()\n",
    "    list1 = [float(s) for s in list1]\n",
    "    list2 = [float(s) for s in list2]\n",
    "    distance = (((list2[0] - list1[0])**2) + ((list2[1] - list1[1])**2)) ** (1/2)\n",
    "    return distance\n",
    "def min_cost_neighbour(graph, visited_nodes):\n",
    "    min_cost = float('inf')\n",
    "    min_node = None\n",
    "    for x in visited_nodes:\n",
    "        for y in graph[x].keys():\n",
    "            if graph[x][y] < min_cost and y not in visited_nodes:\n",
    "                min_cost = graph[x][y]\n",
    "                min_node_start = x\n",
    "                min_node_end = y\n",
    "    return (min_node_start, min_node_end)\n",
    "def prim(graph):\n",
    "    while len(visited) != len(graph.keys()):\n",
    "        min_node_start, min_node_end = min_cost_neighbour(graph, visited)\n",
    "        visited.append(min_node_end)\n",
    "        parents[min_node_end] = min_node_start\n",
    "    s = 0\n",
    "    for k, v in parents.items():\n",
    "        s += graph[v][k]\n",
    "    return s\n",
    "cases = int(input())\n",
    "for x in range(cases):\n",
    "    hello = input()\n",
    "    freckles = int(input())\n",
    "    list_coordinates = []\n",
    "    for a in range(freckles):\n",
    "        hello = input()\n",
    "        list_coordinates.append(input())\n",
    "    visited = [list_coordinates[0]]\n",
    "    parents = {}\n",
    "    graph = {}\n",
    "    for b in list_coordinates:\n",
    "        for c in list_coordinates:\n",
    "            if b == c:\n",
    "                continue\n",
    "            if b not in graph:\n",
    "                graph[b] = {}\n",
    "                graph[b][c] = distance_formula(b, c)\n",
    "            else:\n",
    "                graph[b][c] = distance_formula(b, c)\n",
    "            if c not in graph:\n",
    "                graph[c] = {}\n",
    "                graph[c][b] = distance_formula(c, b)\n",
    "            else:\n",
    "                graph[c][b] = distance_formula(c, b)\n",
    "    print(round(prim(graph), 2))\n",
    "    if x != cases - 1:\n",
    "        print('\\r')"
   ]
  },
  {
   "cell_type": "code",
   "execution_count": 108,
   "metadata": {},
   "outputs": [],
   "source": [
    "with open('a.txt', 'w') as t:\n",
    "    t.write('Hi daddy!\\n')"
   ]
  },
  {
   "cell_type": "code",
   "execution_count": 109,
   "metadata": {},
   "outputs": [],
   "source": [
    "with open('a.txt', 'a') as t:\n",
    "    for x in range(2):\n",
    "        t.write('Hi daddy!\\n')"
   ]
  },
  {
   "cell_type": "code",
   "execution_count": 115,
   "metadata": {},
   "outputs": [],
   "source": [
    "list1 = []\n",
    "with open('a.txt', 'r') as t:\n",
    "    for line in t:\n",
    "        list1.append(line.strip())"
   ]
  },
  {
   "cell_type": "code",
   "execution_count": 116,
   "metadata": {},
   "outputs": [
    {
     "data": {
      "text/plain": [
       "['Hi daddy!', 'Hi daddy!', 'Hi daddy!']"
      ]
     },
     "execution_count": 116,
     "metadata": {},
     "output_type": "execute_result"
    }
   ],
   "source": [
    "list1"
   ]
  },
  {
   "cell_type": "code",
   "execution_count": 119,
   "metadata": {},
   "outputs": [
    {
     "name": "stdout",
     "output_type": "stream",
     "text": [
      "223455\n"
     ]
    }
   ],
   "source": [
    "count = 0\n",
    "with open('mobi.txt', 'r') as t:\n",
    "    for line in t:\n",
    "        count += len(line.split(' '))\n",
    "print(count)"
   ]
  },
  {
   "cell_type": "code",
   "execution_count": 125,
   "metadata": {},
   "outputs": [
    {
     "name": "stdout",
     "output_type": "stream",
     "text": [
      "Error\n"
     ]
    }
   ],
   "source": [
    "list1 = []\n",
    "with open('j1/j1.1.in', 'r') as t:\n",
    "    for line in t:\n",
    "        list1.append(line.strip())\n",
    "list1 = [int(s) for s in list1]\n",
    "if sum(list1) != 180:\n",
    "    print('Error')\n",
    "elif list1[0] == list1[1] and list1[1] == list1[2]:\n",
    "    print('Equilateral')\n",
    "elif list1[0] == list1[1] or list1[0] == list1[2] or list1[1] == list1[2]:\n",
    "    print('Isosceles')\n",
    "else:\n",
    "    print('Scalene')"
   ]
  },
  {
   "cell_type": "code",
   "execution_count": 152,
   "metadata": {},
   "outputs": [
    {
     "name": "stdout",
     "output_type": "stream",
     "text": [
      "94\n",
      "100\n",
      "You got that right!\n",
      "100\n",
      "83\n",
      "You got that right!\n",
      "100\n",
      "100\n",
      "You got that right!\n",
      "90\n",
      "89\n",
      "You got that right!\n",
      "80\n",
      "100\n",
      "You got that right!\n",
      "You got 5 out of 5 inputs right!\n"
     ]
    }
   ],
   "source": [
    "count = 0\n",
    "for x in range(1, 6):\n",
    "    file_name_in = 'j3/j3.{}.in'.format(x)\n",
    "    file_name_out = 'j3/j3.{}.out'.format(x)\n",
    "    list1 = []\n",
    "    with open(file_name_in, 'r') as t:\n",
    "        for line in t:\n",
    "            list1.append(line.strip())\n",
    "    a = list1.pop(0)\n",
    "    p1 = 100\n",
    "    p2 = 100\n",
    "    for x in range(int(a)):\n",
    "        numbers = list1[x].split(' ')\n",
    "        if int(numbers[0]) > int(numbers[1]):\n",
    "            p2 -= int(numbers[0])\n",
    "        if int(numbers[1]) > int(numbers[0]):\n",
    "            p1 -= int(numbers[1])\n",
    "    print(p1)\n",
    "    print(p2)\n",
    "    with open(file_name_out, 'r') as t:\n",
    "        list1 = [str(p1), str(p2)]\n",
    "        for line in t:\n",
    "            list1.append(line.strip())\n",
    "    if list1[:2] == list1[2:]:\n",
    "        count += 1\n",
    "        print('You got that right!')\n",
    "print('You got ' + str(count) + ' out of 5 inputs right!')"
   ]
  },
  {
   "cell_type": "markdown",
   "metadata": {},
   "source": [
    "wo important stats in baseball are the team batting average and the team slugging average. Batting average is defined as the total number of hits (this includes 1 base hits, 2 base hits, 3 base hits and home runs combined) divided by the total number of times at bat (“at bats”) for all players on the team. The team slugging average is defined using the following equation:\n",
    "\n",
    "Sa = (A + 2B + 3C + 4*D )/E\n",
    "\n",
    "Where A is the number of 1 base hits, B is 2 base hits, C is 3 base hits, D is home runs, and E is the number of at bats for all players on the team. Both slugging and batting averages are always presented as decimals rounded to 3 places, leaving off the leading 0 (in theory batting averages can be as high as 1.000, and slugging averages as high as 4.000 but in practice they are both usually well below 1).\n",
    "\n",
    "The input contains the raw data on the top 10 teams during a regular season of Major League Baseball. The first line is the season name, followed by 10 lines for each of the top 10 teams. Each of these lines starts with a team name (single word) followed by 7 integers: Games Played, At Bats, Runs, Hits (total), two-base hits, three-base hits, and home runs. One space character separates each item on each line.\n",
    "\n",
    "Write a program to produce a report showing the batting and slugging averages for each team in the order they appeared in the input file, and formatted EXACTLY as shown below, including all punctuation and matching upper and lower case exactly. All spacing is done with a single space character. All batting and slugging averages will be less than 1. The final line shows the same averages for all 10 teams combined (computed from the sum of all at bats, hits, etc. for all 10 teams). Note that the two lines of “=” characters each contain 20 characters.\n",
    "\n",
    "2011 Regular Season\n",
    "\n",
    "Boston 162 5710 875 1600 352 35 203\n",
    "\n",
    "NY_Yankees 162 5518 867 1452 267 33 222\n",
    "\n",
    "Texas 162 5659 855 1599 310 32 210\n",
    "\n",
    "Detroit 162 5563 787 1540 297 34 169\n",
    "\n",
    "St.Louis 162 5532 762 1513 308 22 162\n",
    "\n",
    "Toronto 162 5559 743 1384 285 34 186\n",
    "\n",
    "Cincinnati 162 5612 735 1438 264 19 183\n",
    "\n",
    "Colorado 162 5544 735 1429 274 40 163\n",
    "\n",
    "Arizona 162 5421 731 1357 293 37 172\n",
    "\n",
    "Kansas_City 162 5672 730 1560 325 41 129\n",
    "\n",
    "Output\n",
    "\n",
    "2011 Regular Season\n",
    "\n",
    "====================\n",
    "\n",
    "Boston: .280 .461\n",
    "\n",
    "NY_Yankees: .263 .444\n",
    "\n",
    "Texas: .283 .460\n",
    "\n",
    "Detroit: .277 .434\n",
    "\n",
    "St.Louis: .273 .425\n",
    "\n",
    "Toronto: .249 .413\n",
    "\n",
    "Cincinnati: .256 .408\n",
    "\n",
    "Colorado: .258 .410\n",
    "\n",
    "Arizona: .250 .413\n",
    "\n",
    "Kansas_City: .275 .415\n",
    "\n",
    "Big 10 Av: .267 .428\n"
   ]
  },
  {
   "cell_type": "code",
   "execution_count": 341,
   "metadata": {
    "scrolled": false
   },
   "outputs": [
    {
     "ename": "KeyboardInterrupt",
     "evalue": "",
     "output_type": "error",
     "traceback": [
      "\u001b[0;31m---------------------------------------------------------------------------\u001b[0m",
      "\u001b[0;31mKeyboardInterrupt\u001b[0m                         Traceback (most recent call last)",
      "\u001b[0;32m/anaconda3/lib/python3.7/site-packages/ipykernel/kernelbase.py\u001b[0m in \u001b[0;36m_input_request\u001b[0;34m(self, prompt, ident, parent, password)\u001b[0m\n\u001b[1;32m    877\u001b[0m             \u001b[0;32mtry\u001b[0m\u001b[0;34m:\u001b[0m\u001b[0;34m\u001b[0m\u001b[0;34m\u001b[0m\u001b[0m\n\u001b[0;32m--> 878\u001b[0;31m                 \u001b[0mident\u001b[0m\u001b[0;34m,\u001b[0m \u001b[0mreply\u001b[0m \u001b[0;34m=\u001b[0m \u001b[0mself\u001b[0m\u001b[0;34m.\u001b[0m\u001b[0msession\u001b[0m\u001b[0;34m.\u001b[0m\u001b[0mrecv\u001b[0m\u001b[0;34m(\u001b[0m\u001b[0mself\u001b[0m\u001b[0;34m.\u001b[0m\u001b[0mstdin_socket\u001b[0m\u001b[0;34m,\u001b[0m \u001b[0;36m0\u001b[0m\u001b[0;34m)\u001b[0m\u001b[0;34m\u001b[0m\u001b[0;34m\u001b[0m\u001b[0m\n\u001b[0m\u001b[1;32m    879\u001b[0m             \u001b[0;32mexcept\u001b[0m \u001b[0mException\u001b[0m\u001b[0;34m:\u001b[0m\u001b[0;34m\u001b[0m\u001b[0;34m\u001b[0m\u001b[0m\n",
      "\u001b[0;32m/anaconda3/lib/python3.7/site-packages/jupyter_client/session.py\u001b[0m in \u001b[0;36mrecv\u001b[0;34m(self, socket, mode, content, copy)\u001b[0m\n\u001b[1;32m    802\u001b[0m         \u001b[0;32mtry\u001b[0m\u001b[0;34m:\u001b[0m\u001b[0;34m\u001b[0m\u001b[0;34m\u001b[0m\u001b[0m\n\u001b[0;32m--> 803\u001b[0;31m             \u001b[0mmsg_list\u001b[0m \u001b[0;34m=\u001b[0m \u001b[0msocket\u001b[0m\u001b[0;34m.\u001b[0m\u001b[0mrecv_multipart\u001b[0m\u001b[0;34m(\u001b[0m\u001b[0mmode\u001b[0m\u001b[0;34m,\u001b[0m \u001b[0mcopy\u001b[0m\u001b[0;34m=\u001b[0m\u001b[0mcopy\u001b[0m\u001b[0;34m)\u001b[0m\u001b[0;34m\u001b[0m\u001b[0;34m\u001b[0m\u001b[0m\n\u001b[0m\u001b[1;32m    804\u001b[0m         \u001b[0;32mexcept\u001b[0m \u001b[0mzmq\u001b[0m\u001b[0;34m.\u001b[0m\u001b[0mZMQError\u001b[0m \u001b[0;32mas\u001b[0m \u001b[0me\u001b[0m\u001b[0;34m:\u001b[0m\u001b[0;34m\u001b[0m\u001b[0;34m\u001b[0m\u001b[0m\n",
      "\u001b[0;32m/anaconda3/lib/python3.7/site-packages/zmq/sugar/socket.py\u001b[0m in \u001b[0;36mrecv_multipart\u001b[0;34m(self, flags, copy, track)\u001b[0m\n\u001b[1;32m    466\u001b[0m         \"\"\"\n\u001b[0;32m--> 467\u001b[0;31m         \u001b[0mparts\u001b[0m \u001b[0;34m=\u001b[0m \u001b[0;34m[\u001b[0m\u001b[0mself\u001b[0m\u001b[0;34m.\u001b[0m\u001b[0mrecv\u001b[0m\u001b[0;34m(\u001b[0m\u001b[0mflags\u001b[0m\u001b[0;34m,\u001b[0m \u001b[0mcopy\u001b[0m\u001b[0;34m=\u001b[0m\u001b[0mcopy\u001b[0m\u001b[0;34m,\u001b[0m \u001b[0mtrack\u001b[0m\u001b[0;34m=\u001b[0m\u001b[0mtrack\u001b[0m\u001b[0;34m)\u001b[0m\u001b[0;34m]\u001b[0m\u001b[0;34m\u001b[0m\u001b[0;34m\u001b[0m\u001b[0m\n\u001b[0m\u001b[1;32m    468\u001b[0m         \u001b[0;31m# have first part already, only loop while more to receive\u001b[0m\u001b[0;34m\u001b[0m\u001b[0;34m\u001b[0m\u001b[0;34m\u001b[0m\u001b[0m\n",
      "\u001b[0;32mzmq/backend/cython/socket.pyx\u001b[0m in \u001b[0;36mzmq.backend.cython.socket.Socket.recv\u001b[0;34m()\u001b[0m\n",
      "\u001b[0;32mzmq/backend/cython/socket.pyx\u001b[0m in \u001b[0;36mzmq.backend.cython.socket.Socket.recv\u001b[0;34m()\u001b[0m\n",
      "\u001b[0;32mzmq/backend/cython/socket.pyx\u001b[0m in \u001b[0;36mzmq.backend.cython.socket._recv_copy\u001b[0;34m()\u001b[0m\n",
      "\u001b[0;32m/anaconda3/lib/python3.7/site-packages/zmq/backend/cython/checkrc.pxd\u001b[0m in \u001b[0;36mzmq.backend.cython.checkrc._check_rc\u001b[0;34m()\u001b[0m\n",
      "\u001b[0;31mKeyboardInterrupt\u001b[0m: ",
      "\nDuring handling of the above exception, another exception occurred:\n",
      "\u001b[0;31mKeyboardInterrupt\u001b[0m                         Traceback (most recent call last)",
      "\u001b[0;32m<ipython-input-341-1611de7add07>\u001b[0m in \u001b[0;36m<module>\u001b[0;34m\u001b[0m\n\u001b[1;32m      1\u001b[0m \u001b[0;32mimport\u001b[0m \u001b[0mmath\u001b[0m\u001b[0;34m\u001b[0m\u001b[0;34m\u001b[0m\u001b[0m\n\u001b[1;32m      2\u001b[0m \u001b[0;31m#Games Played, At Bats, Runs, Hits (total), two-base hits, three-base hits, and home runs\u001b[0m\u001b[0;34m\u001b[0m\u001b[0;34m\u001b[0m\u001b[0;34m\u001b[0m\u001b[0m\n\u001b[0;32m----> 3\u001b[0;31m \u001b[0mseason\u001b[0m \u001b[0;34m=\u001b[0m \u001b[0minput\u001b[0m\u001b[0;34m(\u001b[0m\u001b[0;34m)\u001b[0m\u001b[0;34m\u001b[0m\u001b[0;34m\u001b[0m\u001b[0m\n\u001b[0m\u001b[1;32m      4\u001b[0m \u001b[0mprint\u001b[0m\u001b[0;34m(\u001b[0m\u001b[0mseason\u001b[0m\u001b[0;34m)\u001b[0m\u001b[0;34m\u001b[0m\u001b[0;34m\u001b[0m\u001b[0m\n\u001b[1;32m      5\u001b[0m \u001b[0mprint\u001b[0m\u001b[0;34m(\u001b[0m\u001b[0;34m'===================='\u001b[0m\u001b[0;34m)\u001b[0m\u001b[0;34m\u001b[0m\u001b[0;34m\u001b[0m\u001b[0m\n",
      "\u001b[0;32m/anaconda3/lib/python3.7/site-packages/ipykernel/kernelbase.py\u001b[0m in \u001b[0;36mraw_input\u001b[0;34m(self, prompt)\u001b[0m\n\u001b[1;32m    851\u001b[0m             \u001b[0mself\u001b[0m\u001b[0;34m.\u001b[0m\u001b[0m_parent_ident\u001b[0m\u001b[0;34m,\u001b[0m\u001b[0;34m\u001b[0m\u001b[0;34m\u001b[0m\u001b[0m\n\u001b[1;32m    852\u001b[0m             \u001b[0mself\u001b[0m\u001b[0;34m.\u001b[0m\u001b[0m_parent_header\u001b[0m\u001b[0;34m,\u001b[0m\u001b[0;34m\u001b[0m\u001b[0;34m\u001b[0m\u001b[0m\n\u001b[0;32m--> 853\u001b[0;31m             \u001b[0mpassword\u001b[0m\u001b[0;34m=\u001b[0m\u001b[0;32mFalse\u001b[0m\u001b[0;34m,\u001b[0m\u001b[0;34m\u001b[0m\u001b[0;34m\u001b[0m\u001b[0m\n\u001b[0m\u001b[1;32m    854\u001b[0m         )\n\u001b[1;32m    855\u001b[0m \u001b[0;34m\u001b[0m\u001b[0m\n",
      "\u001b[0;32m/anaconda3/lib/python3.7/site-packages/ipykernel/kernelbase.py\u001b[0m in \u001b[0;36m_input_request\u001b[0;34m(self, prompt, ident, parent, password)\u001b[0m\n\u001b[1;32m    881\u001b[0m             \u001b[0;32mexcept\u001b[0m \u001b[0mKeyboardInterrupt\u001b[0m\u001b[0;34m:\u001b[0m\u001b[0;34m\u001b[0m\u001b[0;34m\u001b[0m\u001b[0m\n\u001b[1;32m    882\u001b[0m                 \u001b[0;31m# re-raise KeyboardInterrupt, to truncate traceback\u001b[0m\u001b[0;34m\u001b[0m\u001b[0;34m\u001b[0m\u001b[0;34m\u001b[0m\u001b[0m\n\u001b[0;32m--> 883\u001b[0;31m                 \u001b[0;32mraise\u001b[0m \u001b[0mKeyboardInterrupt\u001b[0m\u001b[0;34m\u001b[0m\u001b[0;34m\u001b[0m\u001b[0m\n\u001b[0m\u001b[1;32m    884\u001b[0m             \u001b[0;32melse\u001b[0m\u001b[0;34m:\u001b[0m\u001b[0;34m\u001b[0m\u001b[0;34m\u001b[0m\u001b[0m\n\u001b[1;32m    885\u001b[0m                 \u001b[0;32mbreak\u001b[0m\u001b[0;34m\u001b[0m\u001b[0;34m\u001b[0m\u001b[0m\n",
      "\u001b[0;31mKeyboardInterrupt\u001b[0m: "
     ]
    }
   ],
   "source": [
    "import math\n",
    "#Games Played, At Bats, Runs, Hits (total), two-base hits, three-base hits, and home runs\n",
    "season = input()\n",
    "print(season)\n",
    "print('====================')\n",
    "list1 = []\n",
    "batting = []\n",
    "sluggish = []\n",
    "for x in range(12):\n",
    "    list1.append(input())\n",
    "for k, x in enumerate(list1):\n",
    "    if k == 2 or k == 7:\n",
    "        continue\n",
    "    sublist = x.split(' ')\n",
    "    b = int(sublist[5])\n",
    "    c = int(sublist[6])\n",
    "    d = int(sublist[7])\n",
    "    a = int(sublist[4]) - b - c - d\n",
    "    e = int(sublist[2])\n",
    "    ba = (int(sublist[4]))/e\n",
    "    sa = (a + 2*b + 3*c + 4*d )/e\n",
    "    batting.append(ba)\n",
    "    sluggish.append(sa)\n",
    "    ba = round(ba, 3)\n",
    "    sa = round(sa, 3)\n",
    "    str1 = str(ba)\n",
    "    str1 = str1[1:]\n",
    "    if len(str1) == 3:\n",
    "        str1 += '0'\n",
    "    if len(str1) == 2:\n",
    "        str1 += '00'\n",
    "    str2 = str(sa)\n",
    "    str2 = str2[1:]\n",
    "    if len(str2) == 3:\n",
    "        str2 += '0'\n",
    "    if len(str2) == 2:\n",
    "        str2 += '00'\n",
    "    print(sublist[0] + ':', str1, str2)\n",
    "batting_score = (sum(batting))/10\n",
    "batting_score = math.ceil(batting_score * 1000)/1000\n",
    "sluggish_score = (sum(sluggish))/10\n",
    "sluggish_score = round(sluggish_score, 3)\n",
    "str1 = str(batting_score)\n",
    "str1 = str1[1:]\n",
    "if len(str1) == 3:\n",
    "    str1 += '0'\n",
    "if len(str1) == 2:\n",
    "    str1 += '00'\n",
    "str2 = str(sluggish_score)\n",
    "str2 = str2[1:]\n",
    "if len(str2) == 3:\n",
    "    str2 += '0'\n",
    "if len(str2) == 2:\n",
    "    str2 += '00'\n",
    "print('Big 10 Av:', str1, str2)"
   ]
  },
  {
   "cell_type": "markdown",
   "metadata": {},
   "source": [
    "Given a sequence of m words from a newspaper article and an integer k, find the kth most common word.\n",
    "\n",
    "Input Specification\n",
    "\n",
    "Input will consist of an integer n followed by n data sets. Each data set begins with a line containing m and k, followed by m lines, each containing a word of up to 20 lower case letters. There will be no more than 1000 words per data set.\n",
    "\n",
    "Output Specification\n",
    "\n",
    "For each input data set, determine the kth most common word(s). To be precise, a word w is the kth most common if exactly k-1 distinct words occur more frequently than w in the data set. Note that w might be multiply defined (i.e. there is a tie for the kth most common word) or w might not exist (i.e. there is no kth most common word). For each data set, print a title line indicating k using normal ordinal notation (1st, 2nd, 3rd, 4th, 5th, ...) followed by a number of lines giving all the possible values for the kth most common word. A blank line should follow the last word for each data set.\n",
    "\n",
    "Sample Input\n",
    "\n",
    "3\n",
    "\n",
    "7 2\n",
    "\n",
    "the\n",
    "\n",
    "brown\n",
    "\n",
    "the\n",
    "\n",
    "fox\n",
    "\n",
    "red\n",
    "\n",
    "the\n",
    "\n",
    "red\n",
    "\n",
    "1 3\n",
    "\n",
    "the\n",
    "\n",
    "2 1\n",
    "\n",
    "the\n",
    "\n",
    "wash\n",
    "\n",
    "Output for Sample Input\n",
    "\n",
    "2nd most common word(s):\n",
    "\n",
    "red\n",
    "\n",
    "\n",
    "\n",
    "3rd most common word(s):\n",
    "\n",
    "\n",
    "\n",
    "1st most common word(s):\n",
    "\n",
    "the\n",
    "\n",
    "wash"
   ]
  },
  {
   "cell_type": "code",
   "execution_count": 27,
   "metadata": {
    "scrolled": true
   },
   "outputs": [
    {
     "name": "stdout",
     "output_type": "stream",
     "text": [
      "3\n",
      "7 2\n",
      "the\n",
      "brown\n",
      "\n",
      "the\n",
      "fox\n",
      "red\n",
      "\n",
      "the\n",
      "red\n",
      "2nd most common word(s):\n",
      "red\n",
      "1 3\n",
      "the\n",
      "3rd most common word(s):\n",
      "\n",
      "\n",
      "2 1\n",
      "the\n",
      "wash\n",
      "1st most common word(s):\n",
      "the\n",
      "wash\n",
      "\n"
     ]
    }
   ],
   "source": [
    "n = int(input())\n",
    "aa = True\n",
    "while aa:\n",
    "    str1 = input()\n",
    "    if str1=='':\n",
    "        continue\n",
    "    else:\n",
    "        n = n-1\n",
    "        if n==0:\n",
    "            aa=False\n",
    "                \n",
    "    list_input = str1.split(' ')\n",
    "    m, k = int(list_input[0]), int(list_input[1])\n",
    "    dict1 = {}\n",
    "    list1 = []\n",
    "    do = True\n",
    "    while do:\n",
    "        word = input()\n",
    "        if word=='':\n",
    "            continue\n",
    "        else:\n",
    "            m = m-1\n",
    "            if m==0:\n",
    "                do=False\n",
    "                \n",
    "        if word not in dict1:\n",
    "            dict1[word] = 1\n",
    "        else:\n",
    "            dict1[word] += 1\n",
    "    if k == 1:\n",
    "        print('1st most common word(s):')\n",
    "    elif k == 2:\n",
    "        print('2nd most common word(s):')\n",
    "    elif k == 3:\n",
    "        print('3rd most common word(s):')\n",
    "    else:\n",
    "        print(str(k) + 'th most common word(s):')\n",
    "    list2 = sorted(dict1.values(), reverse = True)\n",
    "    if k > len(list2):\n",
    "        print('\\r')\n",
    "        continue\n",
    "    for key, value in dict1.items():\n",
    "        if value == list2[k - 1]:\n",
    "            print(key)\n",
    "    if do==False:\n",
    "        print('\\r')"
   ]
  },
  {
   "cell_type": "markdown",
   "metadata": {},
   "source": [
    "You might be surprised to know that 2013 is the first year since 1987 with distinct digits. The years 2014, 2015, 2016, 2017, 2018, 2019 each have distinct digits. 2012 does not have distinct digits, since the digit 2 is repeated.\n",
    "\n",
    "Given a year, what is the next year with distinct digits?\n",
    "\n",
    "Input\n",
    "The input consists of one integer Y (0 ≤ Y ≤ 10000), representing the starting year.\n",
    "\n",
    "Output\n",
    "The output will be the single integer D, which is the next year after Y with distinct digits.\n",
    "\n",
    "Sample Input 1\n",
    "1987\n",
    "Sample Output 1\n",
    "2013\n",
    "Sample Input 2\n",
    "999\n",
    "Sample Output 2\n",
    "1023"
   ]
  },
  {
   "cell_type": "code",
   "execution_count": 30,
   "metadata": {},
   "outputs": [
    {
     "name": "stdout",
     "output_type": "stream",
     "text": [
      "999\n",
      "1023\n"
     ]
    }
   ],
   "source": [
    "year = int(input())\n",
    "year += 1\n",
    "while len(list(set(list(str(year))))) != 4:\n",
    "    year += 1\n",
    "print(year)"
   ]
  },
  {
   "cell_type": "markdown",
   "metadata": {},
   "source": [
    "You are a mouse that lives in a cage in a large laboratory. The laboratory is composed of one rectangular grid of square cages, with a total of R rows and C columns of cages.\n",
    "\n",
    "To get your exercise, the laboratory owners allow you to move between cages. You can move between cages either by moving right between two adjacent cages in the same row, or by moving down between two adjacent cages in the same column. You cannot move diagonally, left or up.\n",
    "\n",
    "Your cage is in one corner of the laboratory, which has the label (1,1) (to indicate top-most row, left-most column). You would like to visit your brother who lives in the cage labelled (R,C) (bottom-most row, right-most column), which is in the other corner diagonally. However, there are some cages which you cannot pass through, since they contain cats.\n",
    "\n",
    "Your brother, who loves numbers, would like to know how many different paths there are between your cage and his that do not pass through any cat cage. Write a program to compute this number of cat-free paths.\n",
    "\n",
    "Input Format\n",
    "The first line of input contains two integers R and C (1 ≤ R, C ≤ 25), separated by one space representing the number of rows and columns (respectively). On the second line of input is the integer K, the number of cages that contain cats. The next K lines each contain the row and column positions (in that order) for a cage that contains a cat. None of the K cat cages are repeated, and all cages are valid positions. Note that (1,1) and (R,C) will not be cat cages.\n",
    "\n",
    "Output Format\n",
    "Output the non-negative integer value representing the number of paths between your cat cage at position (1,1) and your brother's cage at position (R,C). You can assume the output will be strictly less than 109.\n",
    "\n",
    "Sample Input 1\n",
    "2 3\n",
    "1\n",
    "2 1\n",
    "Sample Output 1\n",
    "2\n",
    "Sample Input 2\n",
    "3 4\n",
    "3\n",
    "2 3\n",
    "2 1\n",
    "1 4\n",
    "Sample Output 2\n",
    "1"
   ]
  },
  {
   "cell_type": "code",
   "execution_count": 51,
   "metadata": {},
   "outputs": [
    {
     "name": "stdout",
     "output_type": "stream",
     "text": [
      "3 4\n",
      "3\n",
      "2 3\n",
      "2 1\n",
      "1 4\n",
      "1\n"
     ]
    }
   ],
   "source": [
    "str1 = input()\n",
    "list1 = str1.split(' ')\n",
    "rows = int(list1[0])\n",
    "cols = int(list1[1])\n",
    "num_cats = int(input())\n",
    "list_cats = []\n",
    "for x in range(num_cats):\n",
    "    list_cats.append(input())\n",
    "list_arr = []\n",
    "for m in range(rows):\n",
    "    lis_tmp = [0]*cols\n",
    "    list_arr.append(lis_tmp)\n",
    "list_arr[0][0]=1\n",
    "for m in range(rows):\n",
    "    for n in range(cols):\n",
    "        current_cell = str(m+1)+' '+str(n+1)\n",
    "        if current_cell in list_cats:\n",
    "            list_arr[m][n]=0\n",
    "        elif current_cell=='1 1':\n",
    "            list_arr[m][n]=1\n",
    "        else:\n",
    "            left_cell_row = m\n",
    "            left_cell_col = n-1\n",
    "            upper_cell_row = m-1\n",
    "            upper_cell_col = n\n",
    "            if left_cell_row>=0 and left_cell_row<rows and left_cell_col>=0 and left_cell_col<cols:\n",
    "                left_value = list_arr[left_cell_row][left_cell_col]\n",
    "            else:\n",
    "                left_value = 0\n",
    "            if upper_cell_row>=0 and upper_cell_row<rows and upper_cell_col>=0 and upper_cell_col<cols:\n",
    "                upper_value = list_arr[upper_cell_row][upper_cell_col]\n",
    "            else:\n",
    "                upper_value = 0  \n",
    "            list_arr[m][n] = left_value + upper_value\n",
    "print(list_arr[rows-1][cols-1])"
   ]
  },
  {
   "cell_type": "code",
   "execution_count": 46,
   "metadata": {},
   "outputs": [
    {
     "name": "stdout",
     "output_type": "stream",
     "text": [
      "[[0, 0, 0], [0, 0, 0]]\n"
     ]
    }
   ],
   "source": [
    "list_arr = []\n",
    "for m in range(rows):\n",
    "    lis_tmp = [0]*cols\n",
    "    list_arr.append(lis_tmp)\n",
    "print(list_arr)\n",
    "list_arr[0][0]=1\n"
   ]
  },
  {
   "cell_type": "code",
   "execution_count": 47,
   "metadata": {},
   "outputs": [
    {
     "name": "stdout",
     "output_type": "stream",
     "text": [
      "1 0 cat\n",
      "2\n"
     ]
    }
   ],
   "source": [
    "for m in range(rows):\n",
    "    for n in range(cols):\n",
    "        current_cell = str(m+1)+' '+str(n+1)\n",
    "        if current_cell in list_cats:\n",
    "            print(m, n, 'cat')\n",
    "            list_arr[m][n]=0\n",
    "        elif current_cell=='1 1':\n",
    "            list_arr[m][n]=1\n",
    "        else:\n",
    "            left_cell_row = m\n",
    "            left_cell_col = n-1\n",
    "            upper_cell_row = m-1\n",
    "            upper_cell_col = n\n",
    "            if left_cell_row>=0 and left_cell_row<rows and left_cell_col>=0 and left_cell_col<cols:\n",
    "                left_value = list_arr[left_cell_row][left_cell_col]\n",
    "            else:\n",
    "                left_value = 0\n",
    "            if upper_cell_row>=0 and upper_cell_row<rows and upper_cell_col>=0 and upper_cell_col<cols:\n",
    "                upper_value = list_arr[upper_cell_row][upper_cell_col]\n",
    "            else:\n",
    "                upper_value = 0  \n",
    "            list_arr[m][n] = left_value + upper_value\n",
    "print(list_arr[rows-1][cols-1])"
   ]
  },
  {
   "cell_type": "code",
   "execution_count": 48,
   "metadata": {},
   "outputs": [
    {
     "name": "stdout",
     "output_type": "stream",
     "text": [
      "0 0 1\n",
      "0 1 1\n",
      "0 2 1\n",
      "1 0 0\n",
      "1 1 1\n",
      "1 2 2\n"
     ]
    }
   ],
   "source": [
    "for m in range(rows):\n",
    "    for n in range(cols):\n",
    "        print(m, n, list_arr[m][n])"
   ]
  },
  {
   "cell_type": "markdown",
   "metadata": {},
   "source": [
    "Messages can be ciphered (encrypted) by systematically replacing letters of the alphabet by other letters. A simple cipher known as the Caesar cipher replaces each letter in the alphabet by the letter k positions later in the alphabet, where A is considered to follow Z . For example, if k = 6, A, B, C, D, E, F, G, H, I, J, K, L, M, N, O, P, Q, R, S, T, U, V, W, X, Y, and Z would be replaced by G, H, I, J, K, L, M, N, O, P, Q, R, S, T, U, V, W, X, Y, Z, A, B, C, D, E, and F respecively. The message\n",
    "\n",
    "\n",
    "\n",
    "\n",
    "\n",
    "\n",
    "\n",
    "   THE FULL MOON RISING IS A BAD SIGN\n",
    "\n",
    "\n",
    "\n",
    "would be ciphered as\n",
    "\n",
    "\n",
    "\n",
    "   ZNK LARR SUUT XOYOTM OY G HGJ YOMT\n",
    "\n",
    "\n",
    "\n",
    "The inverse of the cipher is again a Caesar cipher with 26-k replacing k.\n",
    "\n",
    "\n",
    "\n",
    "Your job as cryptanalist is to decode lines of text that have been encoded with a Ceasar cipher, each using a different unknown value of k. For example, if the input were\n",
    "\n",
    "\n",
    "\n",
    "\n",
    "\n",
    "\n",
    "\n",
    "   ZNK LARR SUUT XOYOTM OY G HGJ YOMT\n",
    "\n",
    "\n",
    "\n",
    "   FA NQ AD ZAF FA NQ FTMF UE FTQ CGQEFUAZ\n",
    "\n",
    "\n",
    "\n",
    "the output would be\n",
    "\n",
    "\n",
    "\n",
    "   THE FULL MOON RISING IS A BAD SIGN\n",
    "\n",
    "\n",
    "\n",
    "   TO BE OR NOT TO BE THAT IS THE QUESTION\n",
    "\n",
    "\n",
    "\n",
    "(the first line was ciphered with k=6 and the second line with k=12).\n",
    "\n",
    "\n",
    "\n",
    "Of course there are 26 possible values of k and therefore 26 possible ciphers, so you will have to \"guess\" by selecting the most probable deciphering. The probability of a particular deciphering can be estimated using the probabilities of the letters it contains. In English, E is the most common letter, with probability 0.127, T is the next more common with probability 0.091, and so on. A complete table of letter probabilities is given below. The probability of a complete line of text can be approximated by the product of the probabilities of the letters it contains.\n",
    "\n",
    "\n",
    "\n",
    "\n",
    "\n",
    "\n",
    "\n",
    "Input Specification\n",
    "\n",
    "\n",
    "\n",
    "The input to your program consists of a line containing a positive integer n, followed by n lines each consisting of of upper case letters and spaces only. Each line is an English phrase or sentence, encrypted with a Caesar cipher with unknown k.\n",
    "\n",
    "\n",
    "\n",
    "Output Specification\n",
    "\n",
    "\n",
    "\n",
    "For each line of input, give the most probable deciphering.\n",
    "\n",
    "\n",
    "\n",
    "Sample Input\n",
    "\n",
    "\n",
    "\n",
    "2\n",
    "\n",
    "ZNK LARR SUUT XOYOTM OY G HGJ YOMT\n",
    "\n",
    "FA NQ AD ZAF FA NQ FTMF UE FTQ CGQEFUAZ\n",
    "\n",
    "\n",
    "\n",
    "Output for Sample Input\n",
    "\n",
    "THE FULL MOON RISING IS A BAD SIGN\n",
    "\n",
    "TO BE OR NOT TO BE THAT IS THE QUESTION\n",
    "\n",
    "\n",
    "\n",
    "Probabilities of Letters in English Text\n",
    "\n",
    "\n",
    "\n",
    "       Letter     Probability       Letter   Probability\n",
    "\n",
    "\n",
    "\n",
    "          A          .082             N          .067\n",
    "\n",
    "\n",
    "\n",
    "          B          .015             O          .075\n",
    "\n",
    "\n",
    "\n",
    "          C          .028             P          .019\n",
    "\n",
    "\n",
    "\n",
    "          D          .043             Q          .001\n",
    "\n",
    "\n",
    "\n",
    "          E          .127             R          .060\n",
    "\n",
    "\n",
    "\n",
    "          F          .022             S          .063\n",
    "\n",
    "\n",
    "\n",
    "          G          .020             T          .091\n",
    "\n",
    "\n",
    "\n",
    "          H          .061             U          .028\n",
    "\n",
    "\n",
    "\n",
    "          I          .070             V          .010\n",
    "\n",
    "\n",
    "\n",
    "          J          .002             W          .023\n",
    "\n",
    "\n",
    "\n",
    "          K          .008             X          .001\n",
    "\n",
    "\n",
    "\n",
    "          L          .040             Y          .020\n",
    "\n",
    "\n",
    "\n",
    "          M          .024             Z          .001"
   ]
  },
  {
   "cell_type": "code",
   "execution_count": 62,
   "metadata": {},
   "outputs": [
    {
     "name": "stdout",
     "output_type": "stream",
     "text": [
      "{'A': 0.082, 'N': 0.067, 'B': 0.015, 'O': 0.075, 'C': 0.028, 'P': 0.019, 'D': 0.043, 'Q': 0.001, 'E': 0.127, 'R': 0.06, 'F': 0.022, 'S': 0.063, 'G': 0.02, 'T': 0.091, 'H': 0.061, 'U': 0.028, 'I': 0.07, 'V': 0.01, 'J': 0.002, 'W': 0.023, 'K': 0.008, 'X': 0.001, 'L': 0.04, 'Y': 0.02, 'M': 0.024, 'Z': 0.001}\n"
     ]
    }
   ],
   "source": [
    "dict_p = {'A': 0.082, 'N': 0.067, 'B': 0.015, 'O': 0.075, 'C': 0.028, 'P': 0.019, 'D': 0.043, 'Q': 0.001, 'E': 0.127, 'R': 0.06, 'F': 0.022, 'S': 0.063, 'G': 0.02, 'T': 0.091, 'H': 0.061, 'U': 0.028, 'I': 0.07, 'V': 0.01, 'J': 0.002, 'W': 0.023, 'K': 0.008, 'X': 0.001, 'L': 0.04, 'Y': 0.02, 'M': 0.024, 'Z': 0.001}\n",
    "print(dict_p)"
   ]
  },
  {
   "cell_type": "code",
   "execution_count": 81,
   "metadata": {},
   "outputs": [
    {
     "name": "stdout",
     "output_type": "stream",
     "text": [
      "2\n",
      "ZNK LARR SUUT XOYOTM OY G HGJ YOMT\n",
      "FA NQ AD ZAF FA NQ FTMF UE FTQ CGQEFUAZ\n",
      "THE FULL MOON RISING IS A BAD SIGN\n",
      "TO BE OR NOT TO BE THAT IS THE QUESTION\n"
     ]
    }
   ],
   "source": [
    "dict_p = {'A': 0.082, 'N': 0.067, 'B': 0.015, 'O': 0.075, 'C': 0.028, 'P': 0.019, 'D': 0.043, 'Q': 0.001, 'E': 0.127, 'R': 0.06, 'F': 0.022, 'S': 0.063, 'G': 0.02, 'T': 0.091, 'H': 0.061, 'U': 0.028, 'I': 0.07, 'V': 0.01, 'J': 0.002, 'W': 0.023, 'K': 0.008, 'X': 0.001, 'L': 0.04, 'Y': 0.02, 'M': 0.024, 'Z': 0.001}\n",
    "alphabet = 'ABCDEFGHIJKLMNOPQRSTUVWXYZABCDEFGHIJKLMNOPQRSTUVWXYZ'\n",
    "alphabet = list(alphabet)\n",
    "list_r = []\n",
    "n = int(input())\n",
    "hi = input()\n",
    "for x in range(n):\n",
    "    str1 = input()\n",
    "    list2 = []\n",
    "    possible_ciphers = []\n",
    "    list_compare = []\n",
    "    for k in range(1,27):\n",
    "        list_original = list(str1)\n",
    "        list_encoded =  []\n",
    "        for s in list_original:\n",
    "            if s!=' ':\n",
    "                encoded_char = alphabet[alphabet.index(s)+k]\n",
    "            else:\n",
    "                encoded_char = ' '\n",
    "            list_encoded.append(encoded_char)\n",
    "        product = 1\n",
    "        for a in list_encoded:\n",
    "            if a != ' ':\n",
    "                product *= dict_p[a]\n",
    "        possible_ciphers.append(list_encoded)\n",
    "        list_compare.append(product)\n",
    "    index = list_compare.index(max(list_compare))\n",
    "    list_r.append(possible_ciphers[index])\n",
    "for b in list_r:\n",
    "    print(''.join(b))"
   ]
  },
  {
   "cell_type": "markdown",
   "metadata": {},
   "source": [
    "In Doubleclickland, there are N cities (N ≤ 5,000), with each city having various trade routes to other cities. In total, there are T trade routes (0 ≤ T ≤ 25,000,000). in Doubleclickland. For each trade route between two cities x and y, there is a transportation cost C(x; y) to ship between the cities, where C(x, y) > 0, C(x, y) ≤ 10,000 and C(x, y) = C(y, x). Out of the N cities, K (1 ≤ K ≤ N) of these cities have stores with really nice pencils that can be purchased on-line. The price for each pencil in city x is Px (0 ≤ Px ≤ 10,000).\n",
    "\n",
    "Find the minimal price to purchase one pencil on-line and have it shipped to a particular city D (1 ≤ D ≤ N) using the cheapest possible trade-route sequence. Notice that it is possible to purchase the pencil in city D and thus require no shipping charges.\n",
    "\n",
    "Input\n",
    "The first line of input contains N, the number of cities. You can assume the cities are numbered from 1 to N. The second line of input contains T, the number of trade routes. The next T lines each contain 3 integers, x y C(x, y), to denote the cost of using the trade route between cities x and y is C(x, y). The next line contains the integer K, the number of cities with a store that sells really nice pencils on-line. The next K lines contains two integers, z and Pz, to denote that the cost of a pencil in city z is Pz. The last line contains the integer D, the destination city.\n",
    "\n",
    "Output\n",
    "Output the minimal total cost of purchasing a pencil on-line and shipping it to city D.\n",
    "\n",
    "Sample Input\n",
    "3\n",
    "3\n",
    "1 2 4\n",
    "2 3 2\n",
    "1 3 3\n",
    "3\n",
    "1 14\n",
    "2 8\n",
    "3 3\n",
    "1\n",
    "Sample Output\n",
    "6"
   ]
  },
  {
   "cell_type": "code",
   "execution_count": 20,
   "metadata": {},
   "outputs": [
    {
     "name": "stdout",
     "output_type": "stream",
     "text": [
      "3\n",
      "3\n",
      "1 2 4\n",
      "2 3 2\n",
      "1 3 3\n",
      "3\n",
      "1 14\n",
      "2 8\n",
      "3 3\n",
      "1\n",
      "6\n"
     ]
    }
   ],
   "source": [
    "def find_lowest_cost_node(costs, processed):\n",
    "    list_pairs = costs.items()\n",
    "    list_valid_pairs = [s for s in list_pairs if s[0] not in processed]\n",
    "    if len(list_valid_pairs)>0:\n",
    "        lowest_cost_node = min(list_valid_pairs, key=lambda x: x[1])\n",
    "        return lowest_cost_node[0]\n",
    "    return None\n",
    "def min_cost(start, end, graph):\n",
    "    costs = {}\n",
    "    for x in list_nodes:\n",
    "        if x != start:\n",
    "            costs[x] = float('inf')\n",
    "    costs[start] = 0\n",
    "    parents = {}\n",
    "    processed = []   \n",
    "    node = find_lowest_cost_node(costs, processed)\n",
    "    while node is not None:\n",
    "        cost = costs[node]\n",
    "        neighbours = graph[node]\n",
    "        for n in neighbours.keys():\n",
    "            new_cost = cost + neighbours[n]\n",
    "            if new_cost < costs[n]:\n",
    "                costs[n] = new_cost\n",
    "                parents[n] = node\n",
    "        processed.append(node)\n",
    "        node = find_lowest_cost_node(costs, processed)\n",
    "    return costs[end]\n",
    "cities = int(input())\n",
    "trade_routes = int(input())\n",
    "graph = {}\n",
    "for x in range(trade_routes):\n",
    "    a = input()\n",
    "    a = a.split(' ')\n",
    "    a = [int(s) for s in a]\n",
    "    if a[0] not in graph:\n",
    "        graph[a[0]] = {}\n",
    "    graph[a[0]][a[1]] = a[2]\n",
    "    if a[1] not in graph:\n",
    "        graph[a[1]] = {}\n",
    "    graph[a[1]][a[0]] = a[2]\n",
    "num_pencil_costs = int(input())\n",
    "pencil_costs = {}\n",
    "for a in range(num_pencil_costs):\n",
    "    b = input()\n",
    "    b = b.split()\n",
    "    b = [int(s) for s in b]\n",
    "    pencil_costs[b[0]] = b[1]\n",
    "destination = int(input())\n",
    "list_nodes = graph.keys()\n",
    "total_costs = []\n",
    "for c in list_nodes:\n",
    "    if c != destination:\n",
    "        cost = min_cost(c, destination, graph)\n",
    "        total_costs.append(cost + pencil_costs[c])\n",
    "print(min(total_costs))"
   ]
  },
  {
   "cell_type": "code",
   "execution_count": 15,
   "metadata": {},
   "outputs": [],
   "source": [
    "def find_lowest_cost_node(costs, processed):\n",
    "    list_pairs = costs.items()\n",
    "    list_valid_pairs = [s for s in list_pairs if s[0] not in processed]\n",
    "    if len(list_valid_pairs)>0:\n",
    "        lowest_cost_node = min(list_valid_pairs, key=lambda x: x[1])\n",
    "        return lowest_cost_node[0]\n",
    "    return None\n",
    "def min_cost(start, end, graph):\n",
    "    costs = {}\n",
    "    for x in list_nodes:\n",
    "        if x != start:\n",
    "            costs[x] = float('inf')\n",
    "    costs[start] = 0\n",
    "    parents = {}\n",
    "    processed = []   \n",
    "    node = find_lowest_cost_node(costs, processed)\n",
    "    while node is not None:\n",
    "        cost = costs[node]\n",
    "        neighbours = graph[node]\n",
    "        for n in neighbours.keys():\n",
    "            new_cost = cost + neighbours[n]\n",
    "            if new_cost < costs[n]:\n",
    "                costs[n] = new_cost\n",
    "                parents[n] = node\n",
    "        processed.append(node)\n",
    "        node = find_lowest_cost_node(costs, processed)\n",
    "    return costs[end]"
   ]
  },
  {
   "cell_type": "code",
   "execution_count": 18,
   "metadata": {},
   "outputs": [
    {
     "name": "stdout",
     "output_type": "stream",
     "text": [
      "6\n"
     ]
    }
   ],
   "source": [
    "graph = {1: {2: 4, 3: 3}, 2: {1: 4, 3: 2}, 3: {2: 2, 1: 3}}\n",
    "pencil_costs = {1: 14, 2: 8, 3: 3}\n",
    "destination = 1\n",
    "list_nodes = graph.keys()\n",
    "total_costs = []\n",
    "for c in list_nodes:\n",
    "    if c != destination:\n",
    "        cost = min_cost(c, destination, graph)\n",
    "        total_costs.append(cost + pencil_costs[c])\n",
    "print(min(total_costs))"
   ]
  },
  {
   "cell_type": "code",
   "execution_count": 170,
   "metadata": {},
   "outputs": [
    {
     "name": "stdout",
     "output_type": "stream",
     "text": [
      "abc\n",
      "['abc', 'bc', 'c', 'ab', 'a', 'b']\n"
     ]
    }
   ],
   "source": [
    "str1 = input()\n",
    "list1 = []\n",
    "for a in range(len(str1)):\n",
    "    for b in range(a + 1, len(str1) + 1):\n",
    "        list1.append(str1[a:b])\n",
    "print(list(set(list1)))"
   ]
  },
  {
   "cell_type": "markdown",
   "metadata": {},
   "source": [
    "How many distinct substrings does a given string SS have?\n",
    "\n",
    "For example, if SS= abc, SS has 7 distinct substrings: , a, b, c, ab, bc, abc. Note that the empty string and SS itself are considered substrings of SS.\n",
    "\n",
    "On the other hand, if SS= aaa. SS has only 4 distinct substrings: , a, aa, aaa.\n",
    "\n",
    "Input Specification\n",
    "The first line of the input file contains NN, the number of test cases. For each test case, a line follows giving SS, a string of from 11 to 50005000 alphanumeric characters.\n",
    "\n",
    "Output Specification\n",
    "Your output consists of one line per case, giving the number of distinct substrings of SS.\n",
    "\n",
    "Grading\n",
    "50% of test cases will have ll (the length of the string) where l≤1000l≤1000. For all cases, l≤5000l≤5000.\n",
    "\n",
    "Sample Input\n",
    "2\n",
    "abc\n",
    "aaa\n",
    "Output for Sample Input\n",
    "7\n",
    "4"
   ]
  },
  {
   "cell_type": "code",
   "execution_count": 174,
   "metadata": {},
   "outputs": [
    {
     "name": "stdout",
     "output_type": "stream",
     "text": [
      "2\n",
      "abc\n",
      "7\n",
      "aaa\n",
      "4\n"
     ]
    }
   ],
   "source": [
    "num = int(input())\n",
    "for x in range(num):\n",
    "    str1 = input()\n",
    "    list1 = []\n",
    "    for a in range(len(str1)):\n",
    "        for b in range(a + 1, len(str1) + 1):\n",
    "            list1.append(str1[a:b])\n",
    "    print(len(list(set(list1))) + 1)"
   ]
  },
  {
   "cell_type": "markdown",
   "metadata": {},
   "source": [
    "Given a list of unique words, print the all the possible palindrome pairs\n",
    "\n",
    "The input will start with an integer n followed by n words. \n",
    "\n",
    "The output will consist of all the palindrome pairs\n",
    "\n",
    "Example 1:\n",
    "\n",
    "Input: words \"abcd\",\"dcba\",\"lls\",\"s\",\"sssll\"\n",
    "The palindromes are \"dcbaabcd\",\"abcddcba\",\"slls\",\"llssssll\"\n",
    "Input Specification\n",
    "5\n",
    "\n",
    "abcd\n",
    "\n",
    "dcba\n",
    "\n",
    "lls\n",
    "\n",
    "s\n",
    "\n",
    "sssll\n",
    "\n",
    "Output\n",
    "\n",
    "dcbaabcd\n",
    "abcddcba\n",
    "slls\n",
    "llssssll"
   ]
  },
  {
   "cell_type": "code",
   "execution_count": 185,
   "metadata": {
    "scrolled": true
   },
   "outputs": [
    {
     "name": "stdout",
     "output_type": "stream",
     "text": [
      "5\n",
      "abcd\n",
      "dcba\n",
      "lls\n",
      "s\n",
      "sssll\n",
      "dcbaabcd\n",
      "abcddcba\n",
      "slls\n",
      "llssssll\n"
     ]
    }
   ],
   "source": [
    "def check_palindrome(str1):\n",
    "    if str1 == str1[::-1]:\n",
    "        return True\n",
    "    return False\n",
    "num = int(input())\n",
    "words = []\n",
    "for x in range(num):\n",
    "    words.append(input())\n",
    "for a in range(len(words) - 1):\n",
    "    for b in range(a+1, len(words)):\n",
    "        if a == b:\n",
    "            continue\n",
    "        if check_palindrome(words[b] + words[a]) == True:\n",
    "            print(words[b] + words[a])\n",
    "        if check_palindrome(words[a] + words[b]) == True:\n",
    "            print(words[a] + words[b])"
   ]
  },
  {
   "cell_type": "markdown",
   "metadata": {},
   "source": [
    "A string is a palindrome if and only if it reads the same forwards and backwards.\n",
    "\n",
    "\n",
    "\n",
    "A substring of a string s is a nonempty sequence of consecutive characters from s.\n",
    "\n",
    "\n",
    "\n",
    "Define a string to be odd if and only if all substrings of the string that are palindromes have odd length.\n",
    "\n",
    "\n",
    "\n",
    "Given a string s, determine if it is odd.\n",
    "\n",
    "\n",
    "\n",
    "Constraints\n",
    "\n",
    "1≤|S|≤100\n",
    "\n",
    "\n",
    "\n",
    "S will only contain lowercase ASCII letters.\n",
    "\n",
    "\n",
    "\n",
    "Input Specification\n",
    "\n",
    "The input consists of a single line containing the string s\n",
    "\n",
    "\n",
    "\n",
    "Output Specification\n",
    "\n",
    "Print on a single line, if the string is odd, Odd; if not, Even.\n",
    "\n",
    "\n",
    "\n",
    "Sample Input\n",
    "\n",
    "amanaplanacanalpanama\n",
    "\n",
    "Sample Output\n",
    "\n",
    "odd\n",
    "\n",
    "Sample Input\n",
    "\n",
    "madamimadam\n",
    "\n",
    "Sample Output\n",
    "\n",
    "odd\n",
    "\n",
    "Sample Input\n",
    "\n",
    "annamyfriend\n",
    "\n",
    "Sample Output\n",
    "\n",
    "even\n",
    "\n",
    "Sample Input\n",
    "\n",
    "nopalindromes\n",
    "\n",
    "Sample Output\n",
    "\n",
    "odd"
   ]
  },
  {
   "cell_type": "code",
   "execution_count": 201,
   "metadata": {},
   "outputs": [
    {
     "name": "stdout",
     "output_type": "stream",
     "text": [
      "nopalindromes\n",
      "odd\n"
     ]
    }
   ],
   "source": [
    "def check_palindrome(str1):\n",
    "    if str1 == str1[::-1]:\n",
    "        return True\n",
    "    return False\n",
    "str1 = input()\n",
    "list1 = []\n",
    "for a in range(len(str1)):\n",
    "    for b in range(a + 1, len(str1) + 1):\n",
    "        list1.append(str1[a:b])\n",
    "test = 0\n",
    "list2 = []\n",
    "for x in list1:\n",
    "    if check_palindrome(x) == True:\n",
    "        list2.append(x)\n",
    "for c in list2:\n",
    "    if len(c) % 2 == 1:\n",
    "        test += 1\n",
    "if test == len(list2):\n",
    "    print('odd')\n",
    "else:\n",
    "    print('even')"
   ]
  },
  {
   "cell_type": "markdown",
   "metadata": {},
   "source": [
    "Your new cellphone plan charges you for every character you send from your phone. Since you\n",
    "\n",
    "tend to send sequences of symbols in your messages, you have come up with the following compression technique: for each symbol, write down the number of times it appears consecutively,\n",
    "\n",
    "followed by the symbol itself. This compression technique is called run-length encoding.\n",
    "\n",
    "More formally, a block is a substring of identical symbols that is as long as possible. A block will\n",
    "\n",
    "be represented in compressed form as the length of the block followed by the symbol in that block.\n",
    "\n",
    "The encoding of a string is the representation of each block in the string in the order in which they\n",
    "\n",
    "appear in the string.\n",
    "\n",
    "Given a sequence of characters, write a program to encode them in this format.\n",
    "\n",
    "Input Specification\n",
    "\n",
    "The first line of input contains the number N, which is the number of lines that follow. The next\n",
    "\n",
    "N lines will contain at least one and at most 80 characters, none of which are spaces.\n",
    "\n",
    "Output Specification\n",
    "\n",
    "Output will be N lines. Line i of the output will be the encoding of the line i + 1 of the input.\n",
    "\n",
    "The encoding of a line will be a sequence of pairs, separated by a space, where each pair is an\n",
    "\n",
    "integer (representing the number of times the character appears consecutively) followed by a space,\n",
    "\n",
    "followed by the character.\n",
    "\n",
    "Sample Input\n",
    "\n",
    "4\n",
    "\n",
    "+++===!!!!\n",
    "\n",
    "777777......TTTTTTTTTTTT\n",
    "\n",
    "(AABBC)\n",
    "\n",
    "3.1415555\n",
    "\n",
    "Output for Sample Input\n",
    "\n",
    "3 + 3 = 4 !\n",
    "\n",
    "6 7 6 . 12 T\n",
    "\n",
    "1 ( 2 A 2 B 1 C 1 )\n",
    "\n",
    "1 3 1 . 1 1 1 4 1 1 4 5\n",
    "\n",
    "Explanation of Output for Sample Input\n",
    "\n",
    "To see how the first message (on the second line of input) is encoded, notice that there are 3 +\n",
    "\n",
    "symbols, followed by 3 = symbols, followed by 4 ! symbols."
   ]
  },
  {
   "cell_type": "code",
   "execution_count": 276,
   "metadata": {},
   "outputs": [
    {
     "name": "stdout",
     "output_type": "stream",
     "text": [
      "1\n",
      "3.1415555\n",
      "1 3 1 . 1 1 1 4 1 1 4 5\n"
     ]
    }
   ],
   "source": [
    "n = int(input())\n",
    "for x in range(n):\n",
    "    line = input()\n",
    "    list1 = list(line)\n",
    "    list2 = []\n",
    "    current = 0\n",
    "    while True:\n",
    "        unique_char = list1[current]\n",
    "        list_c = []\n",
    "        for k in range(current, len(list1)):\n",
    "            if list1[k] != unique_char:\n",
    "                break\n",
    "            list_c.append(list1[k])\n",
    "        if k == (len(list1) - 1):\n",
    "            if list1[k] == unique_char:\n",
    "                list2.append(list_c)\n",
    "                break\n",
    "            else:\n",
    "                current = k\n",
    "                list2.append(list_c)\n",
    "        if k != (len(list1) - 1):\n",
    "            current = k\n",
    "            list2.append(list_c)\n",
    "    for x in list2[:len(list2) - 1]:\n",
    "        print(str(len(x)) + ' ' + str(x[0]), end = ' ')\n",
    "    print(str(len(list2[-1])) + ' ' + str(list2[-1][0]))"
   ]
  },
  {
   "cell_type": "code",
   "execution_count": 279,
   "metadata": {},
   "outputs": [
    {
     "name": "stdout",
     "output_type": "stream",
     "text": [
      "abba\n",
      "4\n"
     ]
    }
   ],
   "source": [
    "def is_palindrome(str1):\n",
    "    if str1 == str1[::-1]:\n",
    "        return True\n",
    "    return False\n",
    "str1 = input()\n",
    "list1 = []\n",
    "for a in range(len(str1)):\n",
    "    for b in range(a + 1, len(str1) + 1):\n",
    "        list1.append(str1[a:b])\n",
    "list2 = []\n",
    "for x in list1:\n",
    "    if is_palindrome(x) == True:\n",
    "        list2.append(len(x))\n",
    "print(max(list2))"
   ]
  },
  {
   "cell_type": "code",
   "execution_count": 304,
   "metadata": {},
   "outputs": [
    {
     "name": "stdout",
     "output_type": "stream",
     "text": [
      "O S, GOMR YPFSU/\n",
      "I AM FINE TODAY.\n"
     ]
    }
   ],
   "source": [
    "list_chars = [['1', '2', '3', '4', '5', '6', '7', '8', '9', '0', '-', '='], ['Q', 'W', 'E', 'R', 'T', 'Y', 'U', 'I', 'O', 'P', '[', ']', '\\\\'], ['A', 'S', 'D', 'F', 'G', 'H', 'J', 'K', 'L', ';', '‘'], ['Z', 'X', 'C', 'V', 'B', 'N', 'M', ',', '.', '/']]\n",
    "str1 = input()\n",
    "list1 = list(str1)\n",
    "str2 = ''\n",
    "for x in list1:\n",
    "    if x == ' ':\n",
    "        str2 += ' '\n",
    "        continue\n",
    "    for a in list_chars:\n",
    "        if x in a:\n",
    "            index = a.index(x)\n",
    "            new = a[index - 1]\n",
    "            str2 += new\n",
    "            break\n",
    "print(str2)"
   ]
  },
  {
   "cell_type": "code",
   "execution_count": 302,
   "metadata": {},
   "outputs": [
    {
     "name": "stdout",
     "output_type": "stream",
     "text": [
      "[['1', '2', '3', '4', '5', '6', '7', '8', '9', '0', '-', '='], ['Q', 'W', 'E', 'R', 'T', 'Y', 'U', 'I', 'O', 'P', '[', ']', '\\\\'], ['A', 'S', 'D', 'F', 'G', 'H', 'J', 'K', 'L', ';', '‘'], ['Z', 'X', 'C', 'V', 'B', 'N', 'M', ',', '.', '/'], [' ']]\n"
     ]
    }
   ],
   "source": [
    "list_chars = [['1', '2', '3', '4', '5', '6', '7', '8', '9', '0', '-', '='], ['Q', 'W', 'E', 'R', 'T', 'Y', 'U', 'I', 'O', 'P', '[', ']', '\\\\'], ['A', 'S', 'D', 'F', 'G', 'H', 'J', 'K', 'L', ';', '‘'], ['Z', 'X', 'C', 'V', 'B', 'N', 'M', ',', '.', '/'], \n",
    "              [' ']]\n",
    "print(list_chars)"
   ]
  },
  {
   "cell_type": "markdown",
   "metadata": {},
   "source": [
    "Jane's family has just moved to a new city and today is her first day of school. She has a list of instructions for walking from her home to the school. Each instruction describes a turn she must make. For example, the list\n",
    "\n",
    "R\n",
    "QUEEN\n",
    "R\n",
    "FOURTH\n",
    "R\n",
    "SCHOOL\n",
    "means that she must turn right onto Queen Street, then turn right onto Fourth Street, then finally turn right into the school. Your task is to write a computer program which will create instructions for walking in the opposite direction: from her school to her home.\n",
    "\n",
    "The input and output for your program will be formatted like the samples below. You may assume that Jane's list contains at least two but at most five instructions, and you may assume that each line contains at most 10 characters, all of them capital letters. The last instruction will always be a turn into the \"SCHOOL\".\n",
    "\n",
    "Sample Input 1\n",
    "R\n",
    "QUEEN\n",
    "R\n",
    "FOURTH\n",
    "R\n",
    "SCHOOL\n",
    "Sample Output 1\n",
    "Turn LEFT onto FOURTH street.\n",
    "Turn LEFT onto QUEEN street.\n",
    "Turn LEFT into your HOME.\n",
    "Sample Input 2\n",
    "L\n",
    "MAIN\n",
    "R\n",
    "SCHOOL\n",
    "Sample Output 2\n",
    "Turn LEFT onto MAIN street.\n",
    "Turn RIGHT into your HOME."
   ]
  },
  {
   "cell_type": "code",
   "execution_count": 2,
   "metadata": {},
   "outputs": [
    {
     "name": "stdout",
     "output_type": "stream",
     "text": [
      "L\n",
      "MAIN\n",
      "R\n",
      "SCHOOL\n",
      "Turn LEFT onto MAIN street.\n",
      "Turn RIGHT into your HOME.\n"
     ]
    }
   ],
   "source": [
    "list1 = []\n",
    "a = input()\n",
    "while a != 'SCHOOL':\n",
    "    list1.append(a)\n",
    "    a = input()\n",
    "list1.append(a)\n",
    "list1 = list1[::-1]\n",
    "list1 = list1[1:]\n",
    "a = list1.pop(-1)\n",
    "for k, x in enumerate(list1):\n",
    "    if x == 'R':\n",
    "        print('Turn LEFT onto', list1[k + 1], 'street.')\n",
    "    if x == 'L':\n",
    "        print('Turn RIGHT onto', list1[k + 1], 'street.')\n",
    "if a == 'R':\n",
    "    print('Turn LEFT into your HOME.')\n",
    "if a == 'L':\n",
    "    print('Turn RIGHT into your HOME.')"
   ]
  },
  {
   "cell_type": "code",
   "execution_count": 20,
   "metadata": {},
   "outputs": [
    {
     "name": "stdout",
     "output_type": "stream",
     "text": [
      "Copy\n",
      "Copy\n",
      "3\n",
      "1\n",
      "0001\n",
      "10\n",
      "1010\n",
      "255\n",
      "1111 1111 \n"
     ]
    }
   ],
   "source": [
    "def binary(n):\n",
    "    if n == 1:\n",
    "        return [1]\n",
    "    else:\n",
    "        child = n // 2\n",
    "        remainder = n % 2\n",
    "        return binary(child) + [remainder]\n",
    "num = int(input())\n",
    "for b in range(num):\n",
    "    c = int(input())\n",
    "    list1 = binary(c)\n",
    "    if len(list1) <= 4:\n",
    "        length = len(list1)\n",
    "        list2 = [0] * (4 - length) + list1\n",
    "        list2 = [str(s) for s in list2]\n",
    "        str1 = ''.join(list2)\n",
    "        print(str1)\n",
    "    if len(list1) > 4:\n",
    "        list2 = [list1[i:i + 4] for i in range(0, len(list1), 4)]\n",
    "        str2 = ''\n",
    "        for list1 in list2:\n",
    "            list1 = [str(s) for s in list1]\n",
    "            str1 = ''.join(list1)\n",
    "            str2 += str1\n",
    "            str2 += ' '\n",
    "        print(str2)"
   ]
  },
  {
   "cell_type": "markdown",
   "metadata": {},
   "source": [
    "We are familiar with infix notation for representing expressions, where the operator is placed infix between the operands, as in 5 * 5 . Given an expression in postfix notation, such as 5 5 * , evaluate the expression and print it to standard output, rounded to one decimal place. Valid operands are * (multiplication), / (division), + (addition), - (subtraction), % (mod), and ^ (exponentiation).\n",
    "\n",
    "Input Format\n",
    "\n",
    "A valid postfix expression. The input will have no more than characters, and the value of each number in the input\n",
    "\n",
    "and each intermediate result will be less than or equal to .\n",
    "\n",
    "Output Format\n",
    "\n",
    "The result of the evaluation. The answer will be considered correct if its absolute or relative error does not exceed .\n",
    "\n",
    "Sample Input\n",
    "\n",
    "5 5 +\n",
    "\n",
    "Sample Output\n",
    "\n",
    "10.0\n",
    "\n",
    "Sample Input\n",
    "\n",
    "5 5 + 6 * 8 -\n",
    "\n",
    "Sample Output\n",
    "\n",
    "52.0"
   ]
  },
  {
   "cell_type": "code",
   "execution_count": 44,
   "metadata": {},
   "outputs": [
    {
     "name": "stdout",
     "output_type": "stream",
     "text": [
      "5 5 +\n",
      "10.0\n"
     ]
    }
   ],
   "source": [
    "str1 = input()\n",
    "list1 = str1.split(' ')\n",
    "list2 = ['+', '-', '*', '/', '%', '^']\n",
    "for k, x in enumerate(list1):\n",
    "    if x not in list2:\n",
    "        list1[k] = int(x)\n",
    "stack = []\n",
    "for a in list1:\n",
    "    if type(a) == int:\n",
    "        stack.append(a)\n",
    "    else:\n",
    "        if a == '+':\n",
    "            count = 0\n",
    "            count += stack.pop(-1)\n",
    "            count += stack.pop(-1)\n",
    "        if a == '-':\n",
    "            count = stack.pop(-1)\n",
    "            count = stack.pop(-1) - count\n",
    "        if a == '*':\n",
    "            count = 1\n",
    "            count *= stack.pop(-1)\n",
    "            count *= stack.pop(-1)\n",
    "        if a == '/':\n",
    "            count = stack.pop(-1)\n",
    "            count = stack.pop(-1) / count\n",
    "        if a == '%':\n",
    "            number1 = stack.pop(-1)\n",
    "            number2 = stack.pop(-1)\n",
    "            count = number2 % number1\n",
    "        if a == '^':\n",
    "            number1 = stack.pop(-1)\n",
    "            number2 = stack.pop(-1)\n",
    "            count = number2 ^ number1\n",
    "        stack.append(count)\n",
    "print(float(stack[0]))"
   ]
  },
  {
   "cell_type": "markdown",
   "metadata": {},
   "source": [
    "Standard web browsers contain features to move backward and forward among the pages recently visited.\n",
    "\n",
    "One way to implement these features is to use two stacks to keep track of the pages that can be reached by\n",
    "\n",
    "moving backward and forward. In this problem, you are asked to implement this.\n",
    "\n",
    "The following commands need to be supported:\n",
    "\n",
    "BACK: Push the current page on the top of the forward stack. Pop the page from the top of the backward\n",
    "\n",
    "stack, making it the new current page. If the backward stack is empty, the command is ignored.\n",
    "\n",
    "FORWARD: Push the current page on the top of the backward stack. Pop the page from the top of the\n",
    "\n",
    "forward stack, making it the new current page. If the forward stack is empty, the command is ignored.\n",
    "\n",
    "VISIT : Push the current page on the top of the backward stack, and make the URL specified the new\n",
    "\n",
    "current page. The forward stack is emptied.\n",
    "\n",
    "QUIT: Quit the browser.\n",
    "\n",
    "Assume that the browser initially loads the web page at the URL http://www.acm.org/\n",
    "\n",
    "Input Specification\n",
    "\n",
    "Input is a sequence of commands. The command keywords BACK, FORWARD, VISIT, and QUIT are\n",
    "\n",
    "all in uppercase. URLs have no whitespace and have at most 70 characters. You may assume that no\n",
    "\n",
    "problem instance requires more than 100 elements in each stack at any time. The end of input is indicated\n",
    "\n",
    "by the QUIT command.\n",
    "\n",
    "Output Specification\n",
    "\n",
    "For each command other than QUIT, print the URL of the current page after the command is executed if\n",
    "\n",
    "the command is not ignored. Otherwise, print \"Ignored\". The output for each command should be printed\n",
    "\n",
    "on its own line. No output is produced for the QUIT command.\n",
    "\n",
    "Sample Input\n",
    "\n",
    "VISIT http://acm.ashland.edu/\n",
    "\n",
    "VISIT http://acm.baylor.edu/acmicpc/\n",
    "\n",
    "BACK\n",
    "\n",
    "BACK\n",
    "\n",
    "BACK\n",
    "\n",
    "FORWARD\n",
    "\n",
    "VISIT http://www.ibm.com/\n",
    "\n",
    "BACK\n",
    "\n",
    "BACK\n",
    "\n",
    "FORWARD\n",
    "\n",
    "FORWARD\n",
    "\n",
    "FORWARD\n",
    "\n",
    "QUIT\n",
    "\n",
    "Sample Output\n",
    "\n",
    "http://acm.ashland.edu/\n",
    "\n",
    "http://acm.baylor.edu/acmicpc/\n",
    "\n",
    "http://acm.ashland.edu/\n",
    "\n",
    "http://www.acm.org/\n",
    "\n",
    "Ignored\n",
    "\n",
    "http://acm.ashland.edu/\n",
    "\n",
    "http://www.ibm.com/\n",
    "\n",
    "http://acm.ashland.edu/\n",
    "\n",
    "http://www.acm.org/\n",
    "\n",
    "http://acm.ashland.edu/\n",
    "\n",
    "http://www.ibm.com/\n",
    "\n",
    "Ignored"
   ]
  },
  {
   "cell_type": "code",
   "execution_count": 166,
   "metadata": {},
   "outputs": [
    {
     "name": "stdout",
     "output_type": "stream",
     "text": [
      "VISIT http://acm.ashland.edu/\n",
      "VISIT http://acm.baylor.edu/acmicpc/\n",
      "BACK\n",
      "BACK\n",
      "BACK\n",
      "FORWARD\n",
      "VISIT http://www.ibm.com/\n",
      "BACK\n",
      "BACK\n",
      "FORWARD\n",
      "FORWARD\n",
      "FORWARD\n",
      "QUIT\n",
      "http://acm.ashland.edu/\n",
      "\n",
      "http://acm.baylor.edu/acmicpc/\n",
      "\n",
      "http://acm.ashland.edu/\n",
      "\n",
      "http://www.acm.org/\n",
      "\n",
      "Ignored\n",
      "\n",
      "http://acm.ashland.edu/\n",
      "\n",
      "http://www.ibm.com/\n",
      "\n",
      "http://acm.ashland.edu/\n",
      "\n",
      "http://www.acm.org/\n",
      "\n",
      "http://acm.ashland.edu/\n",
      "\n",
      "http://www.ibm.com/\n",
      "\n",
      "Ignored\n",
      "\n"
     ]
    }
   ],
   "source": [
    "a = input()\n",
    "list_input = []\n",
    "while a != 'QUIT':\n",
    "    list_input.append(a)\n",
    "    a = input()\n",
    "backward = ['http://www.acm.org/']\n",
    "forward = []\n",
    "current = 'http://www.acm.org/'\n",
    "for x in list_input:\n",
    "    if x[:5] == 'VISIT':\n",
    "        backward.append(x[6:])\n",
    "        current = x[6:]\n",
    "        forward = [current]\n",
    "        print(x[6:])\n",
    "    if x == 'BACK':\n",
    "        if len(backward)<=1:\n",
    "            print('Ignored')\n",
    "        else:\n",
    "            a = backward.pop(-1)\n",
    "            current = backward[-1]\n",
    "            forward.append(current)\n",
    "            print(current)\n",
    "    if x == 'FORWARD':\n",
    "        if len(forward)<=1:\n",
    "            print('Ignored')\n",
    "        else:\n",
    "            a = forward.pop(-1)\n",
    "            current = forward[-1]\n",
    "            backward.append(current)\n",
    "            print(current)"
   ]
  },
  {
   "cell_type": "code",
   "execution_count": null,
   "metadata": {},
   "outputs": [],
   "source": [
    "VISIT http://acm.ashland.edu/\n",
    "\n",
    "VISIT http://acm.baylor.edu/acmicpc/\n",
    "\n",
    "BACK\n",
    "\n",
    "BACK\n",
    "\n",
    "BACK\n",
    "\n",
    "FORWARD\n",
    "\n",
    "VISIT http://www.ibm.com/\n",
    "\n",
    "BACK\n",
    "\n",
    "BACK\n",
    "\n",
    "FORWARD\n",
    "\n",
    "FORWARD\n",
    "\n",
    "FORWARD\n",
    "\n",
    "QUIT"
   ]
  },
  {
   "cell_type": "code",
   "execution_count": 163,
   "metadata": {
    "scrolled": false
   },
   "outputs": [
    {
     "name": "stdout",
     "output_type": "stream",
     "text": [
      "http://acm.ashland.edu/\n",
      "\r\n",
      "http://acm.baylor.edu/acmicpc/\n",
      "\r\n",
      "http://acm.ashland.edu/\n",
      "\r\n",
      "http://www.acm.org/\n",
      "\r\n",
      "Ignored\n",
      "\r\n",
      "http://acm.ashland.edu/\n",
      "\r\n",
      "http://www.ibm.com/\n",
      "\r\n",
      "http://acm.ashland.edu/\n",
      "\r\n",
      "http://www.acm.org/\n",
      "\r\n",
      "http://acm.ashland.edu/\n",
      "\r\n",
      "http://www.ibm.com/\n",
      "\r\n",
      "Ignored\n",
      "\r\n"
     ]
    }
   ],
   "source": [
    "list_input = ['VISIT http://acm.ashland.edu/', 'VISIT http://acm.baylor.edu/acmicpc/', 'BACK', 'BACK', \n",
    "              'BACK', 'FORWARD', 'VISIT http://www.ibm.com/', 'BACK', 'BACK', 'FORWARD', 'FORWARD', 'FORWARD']\n",
    "backward = ['http://www.acm.org/']\n",
    "forward = []\n",
    "current = 'http://www.acm.org/'\n",
    "for x in list_input:\n",
    "    if x[:5] == 'VISIT':\n",
    "        backward.append(x[6:])\n",
    "        current = x[6:]\n",
    "        forward = [current]\n",
    "        print(x[6:])\n",
    "        print('\\r')\n",
    "    if x == 'BACK':\n",
    "        if len(backward)<=1:\n",
    "            print('Ignored')\n",
    "            print('\\r')\n",
    "        else:\n",
    "            a = backward.pop(-1)\n",
    "            current = backward[-1]\n",
    "            forward.append(current)\n",
    "            print(current)\n",
    "            print('\\r')\n",
    "    if x == 'FORWARD':\n",
    "        if len(forward)<=1:\n",
    "            print('Ignored')\n",
    "            print('\\r')\n",
    "        else:\n",
    "            a = forward.pop(-1)\n",
    "            current = forward[-1]\n",
    "            backward.append(current)\n",
    "            print(current)\n",
    "            print('\\r')"
   ]
  }
 ],
 "metadata": {
  "kernelspec": {
   "display_name": "Python 3",
   "language": "python",
   "name": "python3"
  },
  "language_info": {
   "codemirror_mode": {
    "name": "ipython",
    "version": 3
   },
   "file_extension": ".py",
   "mimetype": "text/x-python",
   "name": "python",
   "nbconvert_exporter": "python",
   "pygments_lexer": "ipython3",
   "version": "3.7.1"
  }
 },
 "nbformat": 4,
 "nbformat_minor": 2
}
