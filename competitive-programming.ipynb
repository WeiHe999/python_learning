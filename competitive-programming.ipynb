{
 "cells": [
  {
   "cell_type": "markdown",
   "metadata": {},
   "source": [
    "## Heap"
   ]
  },
  {
   "cell_type": "code",
   "execution_count": 151,
   "metadata": {},
   "outputs": [],
   "source": [
    "class MinHeap:\n",
    "    def __init__(self):\n",
    "        self.data = [None]\n",
    "        self.cap = 100\n",
    "        self.size = 0\n",
    "        \n",
    "    def heapify(self):\n",
    "        current_data = self.data[-1]\n",
    "        current_id = self.data.index(current_data)\n",
    "        while True:\n",
    "            parent_id = current_id // 2\n",
    "            if parent_id == 0:\n",
    "                break\n",
    "            if current_data < self.data[parent_id]:\n",
    "                parent_data = self.data[parent_id]\n",
    "                self.data[current_id], self.data[parent_id] = parent_data, current_data\n",
    "                current_id = parent_id\n",
    "                if current_id == 1:\n",
    "                    break\n",
    "            else:\n",
    "                break\n",
    "\n",
    "    def bubble_down(self):\n",
    "        current_id = 1\n",
    "        while True:\n",
    "            current_data = self.data[current_id]\n",
    "            # case 1: no children\n",
    "            if (current_id * 2) + 1 > self.size - 1:\n",
    "                break\n",
    "            # case 2: only left child\n",
    "            elif current_id * 2 == self.size - 1:\n",
    "                min_index = left_child_index\n",
    "            #case 3: both children\n",
    "            else:\n",
    "                left_child_index = current_id * 2\n",
    "                right_child_index = (current_id * 2) + 1\n",
    "                min_index = left_child_index\n",
    "                if self.data[left_child_index] > self.data[right_child_index]:\n",
    "                    min_index = right_child_index\n",
    "            if current_data > self.data[min_index]:\n",
    "                minimum = self.data[min_index]\n",
    "                self.data[current_id], self.data[min_index] = minimum, current_data\n",
    "                current_id = min_index\n",
    "            else:\n",
    "                break\n",
    "\n",
    "    def add(self, node):\n",
    "        self.data.append(node)\n",
    "        self.heapify()\n",
    "        self.size += 1\n",
    "        \n",
    "    def remove(self):\n",
    "        temp = self.data[1]\n",
    "        self.data[1] = self.data[-1]\n",
    "        self.data = self.data[:-1]\n",
    "        self.size -= 1\n",
    "        if self.size > 0:\n",
    "            self.bubble_down()\n",
    "        return temp\n",
    "        \n",
    "    def printing(self):\n",
    "        for x in self.data[1:]:\n",
    "            print(x, end = ' ')\n",
    "        print('')"
   ]
  },
  {
   "cell_type": "markdown",
   "metadata": {},
   "source": [
    "## Heap sort"
   ]
  },
  {
   "cell_type": "code",
   "execution_count": 152,
   "metadata": {},
   "outputs": [
    {
     "name": "stdout",
     "output_type": "stream",
     "text": [
      "[-10, 100, 23, 45, 123, 67, 89]\n",
      "[-10, 23, 45, 67, 100, 89, 123]\n"
     ]
    }
   ],
   "source": [
    "list1 = [-10,100,23,45,123,67,89]\n",
    "heap = MinHeap()\n",
    "list2 = []\n",
    "for x in list1:\n",
    "    heap.add(x)\n",
    "for x in range(len(list1)):\n",
    "    list2.append(heap.remove())\n",
    "print(list1)\n",
    "print(list2)"
   ]
  },
  {
   "cell_type": "markdown",
   "metadata": {},
   "source": [
    "## use Max Heap to sort a list from greatest to least"
   ]
  },
  {
   "cell_type": "code",
   "execution_count": 164,
   "metadata": {},
   "outputs": [
    {
     "name": "stdout",
     "output_type": "stream",
     "text": [
      "[137, 98, 76, 9, 34, 12]\n"
     ]
    }
   ],
   "source": [
    "class MaxHeap:\n",
    "    def __init__(self):\n",
    "        self.data = [None]\n",
    "        self.cap = 100\n",
    "        self.size = 0\n",
    "    \n",
    "    def heapify(self):\n",
    "        current = self.data[-1]\n",
    "        current_index = len(self.data) - 1\n",
    "        while True:\n",
    "            parent_index = current_index // 2\n",
    "            if parent_index == 0:\n",
    "                break\n",
    "            parent = self.data[parent_index]\n",
    "            if current > parent:\n",
    "                self.data[current_index], self.data[parent_index] = parent, current\n",
    "                current_index = parent_index\n",
    "                if current_index == 1:\n",
    "                    break\n",
    "            else:\n",
    "                break\n",
    "          \n",
    "    def bubble_down(self):\n",
    "        current_id = 1\n",
    "        while True:\n",
    "            current_data = self.data[current_id]\n",
    "            left_child_index = current_id * 2\n",
    "            right_child_index = (current_id * 2) + 1\n",
    "            if right_child_index > self.size - 1:\n",
    "                break\n",
    "            elif left_child_index == self.size - 1:\n",
    "                max_index = left_child_index\n",
    "            else:\n",
    "                max_index = left_child_index\n",
    "                if self.data[right_child_index] > self.data[max_index]:\n",
    "                    max_index = right_child_index\n",
    "            if self.data[max_index] > current_data:\n",
    "                tmp = self.data[max_index]\n",
    "                self.data[max_index] = current_data\n",
    "                self.data[current_id] = tmp\n",
    "            else:\n",
    "                break\n",
    "\n",
    "    def add(self, node):\n",
    "        self.data.append(node)\n",
    "        self.heapify()\n",
    "        self.size += 1\n",
    "\n",
    "    def remove(self):\n",
    "        temp = self.data[1]\n",
    "        self.data[1] = self.data[-1]\n",
    "        self.data = self.data[:-1]\n",
    "        self.size -= 1\n",
    "        if self.size > 0:\n",
    "            self.bubble_down()\n",
    "        return temp\n",
    "\n",
    "    def printing(self):\n",
    "        for x in self.data[1:]:\n",
    "            print(x, end = ' ')\n",
    "        print('')\n",
    "\n",
    "list1 = [76, 12, 34, 9, 137, 98]\n",
    "heap = MaxHeap()\n",
    "for x in list1:\n",
    "    heap.add(x)\n",
    "list2 = []\n",
    "for a in range(len(list1)):\n",
    "    list2.append(heap.remove())\n",
    "print(list2)"
   ]
  },
  {
   "cell_type": "markdown",
   "metadata": {},
   "source": [
    "## Floyd-Warshall algorithm"
   ]
  },
  {
   "cell_type": "code",
   "execution_count": 22,
   "metadata": {},
   "outputs": [],
   "source": [
    "graph = {}\n",
    "graph['a'] = {}\n",
    "graph['a']['b'] = 3\n",
    "graph['a']['d'] = 7\n",
    "graph['b'] = {}\n",
    "graph['b']['c'] = 2\n",
    "graph['b']['a'] = 8\n",
    "graph['c'] = {}\n",
    "graph['c']['a'] = 5\n",
    "graph['c']['d'] = 1\n",
    "graph['d'] = {}\n",
    "graph['d']['a'] = 2"
   ]
  },
  {
   "cell_type": "code",
   "execution_count": 23,
   "metadata": {},
   "outputs": [
    {
     "name": "stdout",
     "output_type": "stream",
     "text": [
      "{'a': 0, 'b': 3, 'c': 5, 'd': 6}\n"
     ]
    },
    {
     "data": {
      "text/plain": [
       "6"
      ]
     },
     "execution_count": 23,
     "metadata": {},
     "output_type": "execute_result"
    }
   ],
   "source": [
    "# use Dijkstra's algorithm to find all pairs of shortest paths\n",
    "def find_min_node(costs, visited):\n",
    "    minimum_node = None\n",
    "    minimum_cost = float('inf')\n",
    "    for x in costs.keys():\n",
    "        if x not in visited and costs[x] < minimum_cost:\n",
    "            minimum_node = x\n",
    "            minimum_cost = costs[x]\n",
    "    return minimum_node\n",
    "def dijkstra(start_node, end_node, graph):\n",
    "    list_nodes = sorted(list(graph.keys()))\n",
    "    costs = {}\n",
    "    for x in graph.keys():\n",
    "        if x == start_node:\n",
    "            costs[x] = 0\n",
    "        else:\n",
    "            costs[x] = float('inf')\n",
    "    parents = {}\n",
    "    parents[start_node] = None\n",
    "    visited = []\n",
    "    while True:\n",
    "        min_node = find_min_node(costs, visited) \n",
    "        if min_node == None:\n",
    "            break\n",
    "        visited.append(min_node)\n",
    "        for x in graph[min_node].keys():\n",
    "            c = costs[min_node] + graph[min_node][x]\n",
    "            if c < costs[x]:\n",
    "                costs[x] = c\n",
    "                parents[x] = min_node\n",
    "    print(costs)\n",
    "    return costs[end_node]\n",
    "dijkstra('a', 'd', graph)"
   ]
  },
  {
   "cell_type": "code",
   "execution_count": 30,
   "metadata": {},
   "outputs": [
    {
     "name": "stdout",
     "output_type": "stream",
     "text": [
      "1\n",
      "2 0 0 1\n",
      "Case #1: unreachable\n"
     ]
    }
   ],
   "source": [
    "import copy\n",
    "def find_min_node(costs, visited):\n",
    "    minimum_node = None\n",
    "    minimum_cost = float('inf')\n",
    "    for x in costs.keys():\n",
    "        if x not in visited and costs[x] < minimum_cost:\n",
    "            minimum_node = x\n",
    "            minimum_cost = costs[x]\n",
    "    return minimum_node\n",
    "\n",
    "def dijkstra(start_node, end_node, graph):\n",
    "    list_nodes = sorted(list(graph.keys()))\n",
    "    costs = {}\n",
    "    for x in graph.keys():\n",
    "        if x == start_node:\n",
    "            costs[x] = 0\n",
    "        else:\n",
    "            costs[x] = float('inf')\n",
    "    parents = {}\n",
    "    parents[start_node] = None\n",
    "    visited = []\n",
    "    while True:\n",
    "        min_node = find_min_node(costs, visited) \n",
    "        if min_node == None:\n",
    "            break\n",
    "        visited.append(min_node)\n",
    "        for x in graph[min_node].keys():\n",
    "            c = costs[min_node] + graph[min_node][x]\n",
    "            if c < costs[x]:\n",
    "                costs[x] = c\n",
    "                parents[x] = min_node\n",
    "    return costs[end_node]\n",
    "\n",
    "n = int(input())\n",
    "for x in range(1, n + 1):\n",
    "    line = input()\n",
    "    line = [int(s) for s in line.split(' ')]\n",
    "    num_nodes = line[0]\n",
    "    num_edges = line[1]\n",
    "    start_node = line[2]\n",
    "    end_node = line[3]\n",
    "    graph = {}\n",
    "    if num_edges == 0:\n",
    "        print('Case #' + str(x) + ': unreachable')\n",
    "        continue\n",
    "    for a in range(num_edges):\n",
    "        line = input()\n",
    "        line = [int(s) for s in line.split(' ')]\n",
    "        if line[0] not in graph:\n",
    "            graph[line[0]] = {}\n",
    "        graph[line[0]][line[1]] = line[2]\n",
    "        if line[1] not in graph:\n",
    "            graph[line[1]] = {}\n",
    "        graph[line[1]][line[0]] = line[2]\n",
    "    cost = dijkstra(start_node, end_node, graph)\n",
    "    if cost != float('inf'):\n",
    "        print('Case #' + str(x) + ': ' + str(cost))\n",
    "    else:\n",
    "        print('Case #' + str(x) + ': unreachable')"
   ]
  },
  {
   "cell_type": "code",
   "execution_count": 160,
   "metadata": {},
   "outputs": [
    {
     "data": {
      "text/plain": [
       "[[0, 3, inf, 7], [8, 0, 2, inf], [5, inf, 0, 1], [2, inf, inf, 0]]"
      ]
     },
     "execution_count": 160,
     "metadata": {},
     "output_type": "execute_result"
    }
   ],
   "source": [
    "def convert_to_matrix(graph):\n",
    "    list_nodes = sorted(graph.keys())\n",
    "    list1 = []\n",
    "    for a in list_nodes:\n",
    "        list1.append([])\n",
    "        for b in list_nodes:\n",
    "            if a == b:\n",
    "                list1[-1].append(0)\n",
    "            elif b not in graph[a].keys():\n",
    "                list1[-1].append(float('inf'))\n",
    "            else:\n",
    "                list1[-1].append(graph[a][b])\n",
    "    return list1\n",
    "convert_to_matrix(graph)"
   ]
  },
  {
   "cell_type": "code",
   "execution_count": 25,
   "metadata": {},
   "outputs": [
    {
     "name": "stdout",
     "output_type": "stream",
     "text": [
      "[[0, 3, 5, 6], [5, 0, 2, 3], [3, 6, 0, 1], [2, 5, 7, 0]]\n"
     ]
    }
   ],
   "source": [
    "import copy\n",
    "def convert_to_matrix(graph):\n",
    "    list_nodes = sorted(graph.keys())\n",
    "    list1 = []\n",
    "    for a in list_nodes:\n",
    "        list1.append([])\n",
    "        for b in list_nodes:\n",
    "            if a == b:\n",
    "                list1[-1].append(0)\n",
    "            elif b not in graph[a].keys():\n",
    "                list1[-1].append(float('inf'))\n",
    "            else:\n",
    "                list1[-1].append(graph[a][b])\n",
    "    return list1\n",
    "\n",
    "graph = {}\n",
    "graph['a'] = {}\n",
    "graph['a']['b'] = 3\n",
    "graph['a']['d'] = 7\n",
    "graph['b'] = {}\n",
    "graph['b']['c'] = 2\n",
    "graph['b']['a'] = 8\n",
    "graph['c'] = {}\n",
    "graph['c']['a'] = 5\n",
    "graph['c']['d'] = 1\n",
    "graph['d'] = {}\n",
    "graph['d']['a'] = 2\n",
    "list1 = convert_to_matrix(graph)\n",
    "v = len(list1)\n",
    "for a in range(v):\n",
    "    list2 = copy.deepcopy(list1)\n",
    "    for start_id in range(v):\n",
    "        for end_id in range(v):\n",
    "            for mid_id in range(v):\n",
    "                if list1[start_id][mid_id] + list1[mid_id][end_id] < list2[start_id][end_id]:\n",
    "                    list2[start_id][end_id] = list1[start_id][mid_id] + list1[mid_id][end_id]\n",
    "    list1 = list2\n",
    "print(list2)"
   ]
  },
  {
   "cell_type": "markdown",
   "metadata": {},
   "source": [
    "## Union Find and Kruskals algorithm"
   ]
  },
  {
   "cell_type": "code",
   "execution_count": 1,
   "metadata": {},
   "outputs": [],
   "source": [
    "# Function to find root for a node\n",
    "def find_root(node):\n",
    "    x = dict_mapping[node]\n",
    "    list1 = []\n",
    "    while x != list_parents[x]:\n",
    "        list1.append(x)\n",
    "        x = list_parents[x]\n",
    "    # path compression\n",
    "    for y in list1:\n",
    "        list_parents[y] = x\n",
    "    return x\n",
    "\n",
    "# Function to merge two nodes\n",
    "def union(node1, node2):\n",
    "    # find the roots \n",
    "    # if they are the same, return the root\n",
    "    # if not the same, find which one has larger size, merge small component to larger component\n",
    "    # update component size\n",
    "    root1 = find_root(node1)\n",
    "    root2 = find_root(node2)\n",
    "    if root1 == root2:\n",
    "        return [root1, root2]\n",
    "    elif dict_comp_sizes[root2] > dict_comp_sizes[root1]:\n",
    "        list_parents[root1] = root2\n",
    "        dict_comp_sizes[root2] += dict_comp_sizes[root1]\n",
    "        dict_comp_sizes[root1] = 0\n",
    "        keep_edges.append((node1, node2))\n",
    "        return root2\n",
    "    else:\n",
    "        list_parents[root2] = root1\n",
    "        dict_comp_sizes[root1] += dict_comp_sizes[root2]\n",
    "        dict_comp_sizes[root2] = 0\n",
    "        keep_edges.append((node1, node2))\n",
    "        return root1\n",
    "\n",
    "# Function to find minimum spanning tree using Kruskal's algorithm\n",
    "def kruskal(graph):\n",
    "    list1 = []\n",
    "    for x in graph.keys():\n",
    "        for y in graph[x].keys():\n",
    "            list1.append([x, y, graph[x][y]])\n",
    "    list1 = sorted(list1, key=lambda s:s[2])\n",
    "    for a in list1:\n",
    "        if max(dict_comp_sizes.values())==len(list(set(list_nodes))):\n",
    "            break\n",
    "        parent = union(a[0], a[1])\n",
    "    return parent    "
   ]
  },
  {
   "cell_type": "code",
   "execution_count": 80,
   "metadata": {},
   "outputs": [
    {
     "name": "stdout",
     "output_type": "stream",
     "text": [
      "root node: 0\n",
      "Spanning edges:\n",
      "[(0, 1), (1, 2), (2, 3)]\n",
      "Total cost: 6\n"
     ]
    }
   ],
   "source": [
    "# step 1: define the graph\n",
    "graph = {}\n",
    "graph[0] = {}\n",
    "graph[0][1] = 1\n",
    "graph[0][2] = 6\n",
    "graph[1] = {}\n",
    "graph[1][2] = 2\n",
    "graph[2] = {}\n",
    "graph[2][3] = 3\n",
    "graph[3] = {}\n",
    "graph[3][0] = 5\n",
    "\n",
    "# step 2: mapping node to node_id\n",
    "list_nodes = sorted(graph.keys())\n",
    "dict_mapping = {}\n",
    "for k, x in enumerate(list_nodes):\n",
    "    dict_mapping[x] = k\n",
    "\n",
    "# step 3: init list_parents, and dict_comp_sizes\n",
    "list_parents = []\n",
    "for x in range(len(list_nodes)):\n",
    "    list_parents.append(x)\n",
    "dict_comp_sizes = {}\n",
    "for a in list_parents:\n",
    "    dict_comp_sizes[a] = 1\n",
    "    \n",
    "# step 4: minimum spanning tree\n",
    "keep_edges = []\n",
    "root = kruskal(graph)\n",
    "print('root node: {}'.format(root))\n",
    "print('Spanning edges:')\n",
    "print(keep_edges)\n",
    "min_cost = 0\n",
    "for x in keep_edges:\n",
    "    min_cost += graph[x[0]][x[1]]\n",
    "print('Total cost: {}'.format(min_cost))"
   ]
  },
  {
   "cell_type": "markdown",
   "metadata": {},
   "source": [
    "## Union find to detect graph cycle"
   ]
  },
  {
   "cell_type": "code",
   "execution_count": 274,
   "metadata": {},
   "outputs": [
    {
     "name": "stdout",
     "output_type": "stream",
     "text": [
      "graph contains cycle\n"
     ]
    }
   ],
   "source": [
    "# step 1: graph\n",
    "graph = {}\n",
    "graph[0] = {}\n",
    "graph[0][1] = 1\n",
    "graph[0][2] = 3\n",
    "graph[1] = {}\n",
    "graph[1][0] = 1\n",
    "graph[1][2] = 2\n",
    "graph[2] = {}\n",
    "graph[2][1] = 2\n",
    "graph[2][0] = 3\n",
    "# step 2: mapping node to node_id\n",
    "list_nodes = sorted(graph.keys())\n",
    "dict_mapping = {}\n",
    "for k, x in enumerate(list_nodes):\n",
    "    dict_mapping[x] = k\n",
    "# step 3: init list_parents, and dict_comp_sizes\n",
    "list_parents = []\n",
    "for x in range(len(list_nodes)):\n",
    "    list_parents.append(x)\n",
    "dict_comp_sizes = {}\n",
    "for a in list_parents:\n",
    "    dict_comp_sizes[a] = 1\n",
    "# step 4: def find_parent(x)\n",
    "def find_root(node):\n",
    "    x = dict_mapping[node]\n",
    "    list1 = []\n",
    "    while x != list_parents[x]:\n",
    "        list1.append(x)\n",
    "        x = list_parents[x]\n",
    "    # path compression\n",
    "    for y in list1:\n",
    "        list_parents[y] = x\n",
    "    return x\n",
    "# step 5: def union(x, y)\n",
    "def union(node1, node2):\n",
    "    # find the roots \n",
    "    # if they are the same, return the root\n",
    "    # if not the same, find which one has larger size, merge small component to larger component\n",
    "    # update component size\n",
    "    root1 = find_root(node1)\n",
    "    root2 = find_root(node2)\n",
    "    if root1 == root2:\n",
    "        return [root1, root2]\n",
    "    elif dict_comp_sizes[root2] > dict_comp_sizes[root1]:\n",
    "        list_parents[root1] = root2\n",
    "        dict_comp_sizes[root2] += dict_comp_sizes[root1]\n",
    "        dict_comp_sizes[root1] = 0\n",
    "        keep_edges.append((node1, node2))\n",
    "        return root2\n",
    "    else:\n",
    "        list_parents[root2] = root1\n",
    "        dict_comp_sizes[root1] += dict_comp_sizes[root2]\n",
    "        dict_comp_sizes[root2] = 0\n",
    "        keep_edges.append((node1, node2))\n",
    "        return root1\n",
    "\n",
    "test = 0\n",
    "list1 = []\n",
    "for x in graph.keys():\n",
    "    for y in graph[x].keys():\n",
    "        list1.append([x, y, graph[x][y]])\n",
    "list1 = sorted(list1, key=lambda s:s[2])\n",
    "for a in list1:\n",
    "    root1 = find_root(a[0])\n",
    "    root2 = find_root(a[1])\n",
    "    if root1 == root2:\n",
    "        test += 1\n",
    "        print('graph contains cycle')\n",
    "        break\n",
    "    else:\n",
    "        union(a[0], a[1])\n",
    "if test == 0:\n",
    "    print('graph does not contain cycle')    "
   ]
  },
  {
   "cell_type": "markdown",
   "metadata": {},
   "source": [
    "## Priority queue"
   ]
  },
  {
   "cell_type": "code",
   "execution_count": 277,
   "metadata": {},
   "outputs": [
    {
     "name": "stdout",
     "output_type": "stream",
     "text": [
      "12 1 14 7\n",
      "14\n",
      "12\n",
      "7\n",
      "1\n"
     ]
    }
   ],
   "source": [
    "# A simple implementation of Priority Queue\n",
    "# using Queue.\n",
    "class PriorityQueue(object):\n",
    "    def __init__(self):\n",
    "        self.queue = []\n",
    "\n",
    "    def __str__(self):\n",
    "        return ' '.join([str(i) for i in self.queue])\n",
    "\n",
    "    # for checking if the queue is empty\n",
    "    def isEmpty(self):\n",
    "        return len(self.queue) == 0\n",
    "\n",
    "    # for inserting an element in the queue\n",
    "    def insert(self, data):\n",
    "        self.queue.append(data)\n",
    "\n",
    "    # for popping an element based on Priority\n",
    "    def delete(self):\n",
    "        try:\n",
    "            max = 0\n",
    "            for i in range(len(self.queue)):\n",
    "                if self.queue[i] > self.queue[max]:\n",
    "                    max = i\n",
    "            item = self.queue[max]\n",
    "            del self.queue[max]\n",
    "            return item\n",
    "        except IndexError:\n",
    "            print()\n",
    "            exit()\n",
    "\n",
    "if __name__ == '__main__':\n",
    "    myQueue = PriorityQueue()\n",
    "    myQueue.insert(12)\n",
    "    myQueue.insert(1)\n",
    "    myQueue.insert(14)\n",
    "    myQueue.insert(7)\n",
    "    print(myQueue)\n",
    "    while not myQueue.isEmpty():\n",
    "        print(myQueue.delete())\n"
   ]
  },
  {
   "cell_type": "code",
   "execution_count": 286,
   "metadata": {},
   "outputs": [
    {
     "name": "stdout",
     "output_type": "stream",
     "text": [
      "[-10, 23, 45, 67, 98, 100, 234]\n"
     ]
    }
   ],
   "source": [
    "import heapq\n",
    "list1 = [-10,100,23,45,67,98,234]\n",
    "list2 = []\n",
    "while list1:\n",
    "    heapq.heapify(list1)\n",
    "    a = list1.pop(0)\n",
    "    list2.append(a)\n",
    "print(list2)"
   ]
  },
  {
   "cell_type": "markdown",
   "metadata": {},
   "source": [
    "## segment tree"
   ]
  },
  {
   "cell_type": "markdown",
   "metadata": {},
   "source": [
    "### min range"
   ]
  },
  {
   "cell_type": "code",
   "execution_count": 4,
   "metadata": {},
   "outputs": [],
   "source": [
    "import math\n",
    "# step-1: define a function to initialize list_seg_tree\n",
    "def init_list_seg_tree_v1(list_data):\n",
    "    return [float('inf')] * ((2 ** math.ceil((math.log(len(list_data), 2) + 1))) - 1)\n",
    "# step-2: define a function to construct seg tree\n",
    "def construct_seg_tree_v1(list_data, list_seg_tree, low, high, node_id):\n",
    "    if low == high:\n",
    "        list_seg_tree[node_id] = list_data[low]\n",
    "        return list_seg_tree[node_id]\n",
    "    left_id = node_id * 2 + 1\n",
    "    right_id = left_id + 1\n",
    "    l_low = low\n",
    "    l_high = (low + high) // 2\n",
    "    r_low = l_high + 1\n",
    "    r_high = high\n",
    "    a = min(construct_seg_tree_v1(list_data, list_seg_tree, l_low, l_high, left_id), construct_seg_tree_v1(list_data, list_seg_tree, r_low, r_high, right_id))\n",
    "    list_seg_tree[node_id] = a\n",
    "    return a\n",
    "def query_seg_tree_v1(list_seg_tree, q_low, q_high, low, high, node_id):\n",
    "    # base case 1: data range is totally inside of query range\n",
    "    if q_low <= low and q_high >= high:\n",
    "        return list_seg_tree[node_id]\n",
    "    # base case 2: query range and data range are completely disjoint\n",
    "    if low > q_high or high < q_low:\n",
    "        return float('inf')\n",
    "    # recursive case: ask left child and right child, and then return the min of both children\n",
    "    l = query_seg_tree_v1(list_seg_tree, q_low, q_high, low, (low + high) // 2, 2 * node_id + 1)\n",
    "    r = query_seg_tree_v1(list_seg_tree, q_low, q_high, (low + high) // 2 + 1, high, 2 * node_id + 2)\n",
    "    return min(l, r)"
   ]
  },
  {
   "cell_type": "code",
   "execution_count": 5,
   "metadata": {},
   "outputs": [
    {
     "name": "stdout",
     "output_type": "stream",
     "text": [
      "[inf, inf, inf, inf, inf, inf, inf]\n",
      "[-1, -1, 0, -1, 2, 4, 0]\n"
     ]
    },
    {
     "data": {
      "text/plain": [
       "-1"
      ]
     },
     "execution_count": 5,
     "metadata": {},
     "output_type": "execute_result"
    }
   ],
   "source": [
    "list_data = [-1, 2, 4, 0]\n",
    "list_seg_tree = init_list_seg_tree_v1(list_data)\n",
    "print(list_seg_tree)\n",
    "construct_seg_tree_v1(list_data, list_seg_tree, 0, len(list_data) - 1, 0)\n",
    "print(list_seg_tree)\n",
    "# query\n",
    "q_low = 0\n",
    "q_high = 3\n",
    "query_seg_tree_v1(list_seg_tree, q_low, q_high, 0, len(list_data)-1, 0)"
   ]
  },
  {
   "cell_type": "markdown",
   "metadata": {},
   "source": [
    "## max range segment tree"
   ]
  },
  {
   "cell_type": "code",
   "execution_count": 251,
   "metadata": {},
   "outputs": [],
   "source": [
    "def init_list_seg_tree_v2(list_data):\n",
    "    return [-1*float('inf')] * ((2 ** math.ceil((math.log(len(list_data), 2) + 1))) - 1)\n",
    "# step-2: define a function to construct seg tree\n",
    "def construct_seg_tree_v2(list_data, list_seg_tree, low, high, node_id):\n",
    "    if low == high:\n",
    "        list_seg_tree[node_id] = list_data[low]\n",
    "        return list_seg_tree[node_id]\n",
    "    left_id = node_id * 2 + 1\n",
    "    right_id = left_id + 1\n",
    "    l_low = low\n",
    "    l_high = (low + high) // 2\n",
    "    r_low = l_high + 1\n",
    "    r_high = high\n",
    "    a = max(construct_seg_tree_v2(list_data, list_seg_tree, l_low, l_high, left_id), construct_seg_tree_v2(list_data, list_seg_tree, r_low, r_high, right_id))\n",
    "    list_seg_tree[node_id] = a\n",
    "    return a\n",
    "def query_seg_tree_v2(list_seg_tree, q_low, q_high, low, high, node_id):\n",
    "    # base case 1: data range is totally inside of query range\n",
    "    if q_low <= low and q_high >= high:\n",
    "        return list_seg_tree[node_id]\n",
    "    # base case 2: query range and data range are completely disjoint\n",
    "    if low > q_high or high < q_low:\n",
    "        return -1 * float('inf')\n",
    "    # recursive case: ask left child and right child, and then return the min of both children\n",
    "    l = query_seg_tree_v2(list_seg_tree, q_low, q_high, low, (low + high) // 2, 2 * node_id + 1)\n",
    "    r = query_seg_tree_v2(list_seg_tree, q_low, q_high, (low + high) // 2 + 1, high, 2 * node_id + 2)\n",
    "    return max(l, r)"
   ]
  },
  {
   "cell_type": "code",
   "execution_count": 252,
   "metadata": {},
   "outputs": [
    {
     "name": "stdout",
     "output_type": "stream",
     "text": [
      "[-inf, -inf, -inf, -inf, -inf, -inf, -inf]\n",
      "[4, 2, 4, -1, 2, 4, 0]\n"
     ]
    },
    {
     "data": {
      "text/plain": [
       "4"
      ]
     },
     "execution_count": 252,
     "metadata": {},
     "output_type": "execute_result"
    }
   ],
   "source": [
    "list_data = [-1, 2, 4, 0]\n",
    "list_seg_tree = init_list_seg_tree_v2(list_data)\n",
    "print(list_seg_tree)\n",
    "construct_seg_tree_v2(list_data, list_seg_tree, 0, len(list_data) - 1, 0)\n",
    "print(list_seg_tree)\n",
    "# query\n",
    "q_low = 1\n",
    "q_high = 2\n",
    "query_seg_tree_v2(list_seg_tree, q_low, q_high, 0, len(list_data)-1, 0)"
   ]
  },
  {
   "cell_type": "markdown",
   "metadata": {},
   "source": [
    "## sum range segment tree"
   ]
  },
  {
   "cell_type": "code",
   "execution_count": 249,
   "metadata": {},
   "outputs": [],
   "source": [
    "def init_list_seg_tree_v3(list_data):\n",
    "    return [0] * ((2 ** math.ceil((math.log(len(list_data), 2) + 1))) - 1)\n",
    "# step-2: define a function to construct seg tree\n",
    "def construct_seg_tree_v3(list_data, list_seg_tree, low, high, node_id):\n",
    "    if low == high:\n",
    "        list_seg_tree[node_id] = list_data[low]\n",
    "        return list_seg_tree[node_id]\n",
    "    left_id = node_id * 2 + 1\n",
    "    right_id = left_id + 1\n",
    "    l_low = low\n",
    "    l_high = (low + high) // 2\n",
    "    r_low = l_high + 1\n",
    "    r_high = high\n",
    "    a = construct_seg_tree_v3(list_data, list_seg_tree, l_low, l_high, left_id) + construct_seg_tree_v3(list_data, list_seg_tree, r_low, r_high, right_id)\n",
    "    list_seg_tree[node_id] = a\n",
    "    return a\n",
    "def query_seg_tree_v3(list_seg_tree, q_low, q_high, low, high, node_id):\n",
    "    # base case 1: data range is totally inside of query range\n",
    "    if q_low <= low and q_high >= high:\n",
    "        return list_seg_tree[node_id]\n",
    "    # base case 2: query range and data range are completely disjoint\n",
    "    if low > q_high or high < q_low:\n",
    "        return 0\n",
    "    # recursive case: ask left child and right child, and then return the min of both children\n",
    "    l = query_seg_tree_v3(list_seg_tree, q_low, q_high, low, (low + high) // 2, 2 * node_id + 1)\n",
    "    r = query_seg_tree_v3(list_seg_tree, q_low, q_high, (low + high) // 2 + 1, high, 2 * node_id + 2)\n",
    "    return l + r"
   ]
  },
  {
   "cell_type": "code",
   "execution_count": 250,
   "metadata": {},
   "outputs": [
    {
     "name": "stdout",
     "output_type": "stream",
     "text": [
      "[0, 0, 0, 0, 0, 0, 0]\n",
      "[5, 1, 4, -1, 2, 4, 0]\n"
     ]
    },
    {
     "data": {
      "text/plain": [
       "1"
      ]
     },
     "execution_count": 250,
     "metadata": {},
     "output_type": "execute_result"
    }
   ],
   "source": [
    "list_data = [-1, 2, 4, 0]\n",
    "list_seg_tree = init_list_seg_tree_v3(list_data)\n",
    "print(list_seg_tree)\n",
    "construct_seg_tree_v3(list_data, list_seg_tree, 0, len(list_data) - 1, 0)\n",
    "print(list_seg_tree)\n",
    "# query\n",
    "q_low = 0\n",
    "q_high = 1\n",
    "query_seg_tree_v3(list_seg_tree, q_low, q_high, 0, len(list_data)-1, 0)"
   ]
  },
  {
   "cell_type": "markdown",
   "metadata": {},
   "source": [
    "## Dynamic programming"
   ]
  },
  {
   "cell_type": "markdown",
   "metadata": {},
   "source": [
    "### tiling"
   ]
  },
  {
   "cell_type": "code",
   "execution_count": 200,
   "metadata": {},
   "outputs": [
    {
     "data": {
      "text/plain": [
       "8"
      ]
     },
     "execution_count": 200,
     "metadata": {},
     "output_type": "execute_result"
    }
   ],
   "source": [
    "memo = {}\n",
    "def tiling(n):\n",
    "    if n in memo:\n",
    "        return memo[n]\n",
    "    if n == 0 or n == 1:\n",
    "        memo[n] = 1\n",
    "        return 1\n",
    "    return tiling(n - 1) + tiling(n - 2)\n",
    "tiling(5)"
   ]
  },
  {
   "cell_type": "markdown",
   "metadata": {},
   "source": [
    "Palindrome: A positive integer is said to be a palindrome with respect to base b, if its\n",
    "representation in base b reads the same from left to right as from right to left. Palindromes are\n",
    "formed as follows:\n",
    "Given a number, reverse its digits and add the resulting number to the original number. If\n",
    "the result isn't a palindrome, repeat the process. For example, start with 87 base 10.\n",
    "Applying this process, we obtain:\n",
    "87 + 78 = 165\n",
    "165 + 561 = 726\n",
    "726 + 627 = 1353\n",
    "1353 + 3531 = 4884, a palindrome\n",
    "Whether all numbers eventually become palindromes under this process is unproved, but all base\n",
    "10 numbers less than 10,000 have been tested. Every one becomes a palindrome in a relatively\n",
    "small number of steps (of the 900 3-digit numbers, 90 are palindromes to start with and 735 of\n",
    "the remainder take fewer than 5 reversals and additions to yield a palindrome). Except, that is,\n",
    "for 196. Although no proof exists that it will not produce a palindrome, this number has been\n",
    "carried through to produce a 2 million-digit number without producing a palindrome.\n",
    "INPUT: 5 sets of data. Each set will consist of a positive integer and its base. Bases will be in\n",
    "the range 10 – 16.\n",
    "OUTPUT: Print the palindrome produced. If no palindrome is produced after 10 additions, print\n",
    "the word “none” and the last sum.\n",
    "SAMPLE DATA SAMPLE OUTPUT\n",
    "1. A23, 16 1. D4D # \t\n",
    "A345 12\n",
    "2. A345, 12 2. 9B4B9\n",
    "3. 196, 10 3. NONE, 18211171\n",
    "Test Data Test Output\n",
    "1. 6A, 16 1. 121\n",
    "2. 5896, 13 2. BB8AA8BB\n",
    "3. 8769, 15 3. 45522554\n",
    "4. 46894, 10 4. NONE, 1317544822\n",
    "5. AAB4, 12 5. 3A88A3"
   ]
  },
  {
   "cell_type": "code",
   "execution_count": 209,
   "metadata": {},
   "outputs": [
    {
     "name": "stdout",
     "output_type": "stream",
     "text": [
      "NONE 18211171\n"
     ]
    }
   ],
   "source": [
    "def to_decimal(n, base):\n",
    "    dict1 = {'A' : '10', 'B' : '11', 'C' : '12', 'D' : '13', 'E' : '14', 'F' : '15'}\n",
    "    list1 = list(n)\n",
    "    length = len(list1)\n",
    "    sum1 = 0\n",
    "    for k, x in enumerate(list1[::-1]):\n",
    "        if x in dict1.keys():\n",
    "            x = dict1[x]\n",
    "        sum1 += int(x) * (base ** k)\n",
    "    return sum1\n",
    "\n",
    "def from_decimal(n, base):\n",
    "    dict1 = {'A' : '10', 'B' : '11', 'C' : '12', 'D' : '13', 'E' : '14', 'F' : '15'}\n",
    "    dict2 = {v:k for k,v in dict1.items()}\n",
    "    list1 = []\n",
    "    while n != 0:\n",
    "        remainder = n % base\n",
    "        if remainder > 9:\n",
    "            remainder = dict2[str(remainder)]\n",
    "        list1.append(str(remainder))\n",
    "        n = n // base\n",
    "    return ''.join(list1[::-1])\n",
    "\n",
    "n = 0\n",
    "str1 = input()\n",
    "while n != 10:\n",
    "    list1 = str1.split(' ')\n",
    "    a = to_decimal(list1[0], int(list1[1]))\n",
    "    b = to_decimal(list1[0][::-1], int(list1[1]))\n",
    "    str2 = str(from_decimal(a + b, int(list1[1])))\n",
    "    if str2[::-1] == str2:\n",
    "        break\n",
    "    str1 = str2 + ' ' + list1[1]\n",
    "    n += 1\n",
    "if n == 10:\n",
    "    print('NONE ' + str2)\n",
    "else:\n",
    "    print(str2)"
   ]
  },
  {
   "cell_type": "markdown",
   "metadata": {},
   "source": [
    "WRAP AROUND CODE\n",
    "This is yet another in a long list of ACSL code programs. You would think we would have run\n",
    "out of them by now. In this program you will be given a set of letters to encode. The difference\n",
    "here is that different rules are used for different letters and the counting process starts where the\n",
    "last letter ends. Using the numerical value of each letter (A=1, B=2, … Z= 26) the rules are as\n",
    "follows:\n",
    "The number of letters to count is given by:\n",
    "RULE 1 Multiply its numerical value by 2\n",
    "RULE 2 Divide its numerical value by 3. Multiply the integer\n",
    "remainder by 5\n",
    "RULE 3 Divide its numerical value by 4. Multiply the integer part of\n",
    "the quotient by –8.\n",
    "RULE 4 Take the square root of the numerical value. Truncate the\n",
    "decimal part of the answer. Multiply the resulting integer by\n",
    "–12.\n",
    "RULE 5 Find the sum of the factors of its numerical value. Multiply\n",
    "by 10.\n",
    "For the first letter of each set, if the computed value is non-negative, starting at A count the\n",
    "computed value to the right. For each additional letter start at the current encoded letter. If the\n",
    "first computed value is negative, starting at A count to the left which means wrapping around to\n",
    "the end of the alphabet. For each additional letter start at the current encoded letter. As an\n",
    "example, the input C, 1, B, 2, F, 3, $ would produce the encoded letters GQI. The C with a\n",
    "numerical value of 3 evaluates to a 6, using rule 1. Always starting each new set at A, and\n",
    "counting 6 letters to the right, the C encodes to an G. The B with a numerical value of 2\n",
    "evaluates to a 10. Counting down the alphabet 10 letters from G encodes the B to a Q. The F\n",
    "with a numerical value of 6 evaluates to a –8, using rule 3. Counting to the left 8 letters from Q\n",
    "encodes the F to an I. The final encoded value is GQI.\n",
    "INPUT: There will be 5 input lines. Each line will consist of a series of upper case letters each\n",
    "followed by a rule number. The line will end with a $. You may enter the letters and numbers\n",
    "one at a time. The commas shown are for clarification and do not have to be entered. The $ is not\n",
    "encoded.\n",
    "OUTPUT: For each input line, print the encoded string it produces.\n",
    "SAMPLE INPUT SAMPLE OUTPUT\n",
    "1. C, 1, B,2, F,3, $ 1. GQI\n",
    "2. A,1,A,1,A,1,$ 2. CEG\n",
    "3. A,1,H,2,D,3,$ 3. CME\n",
    "4. T,5,S,4,$ 4. EI\n",
    "TEST INPUT TEST OUTPUT\n",
    "1. A,1,B,1,C,1,$ 1. CGM\n",
    "2. A,2,C,4,S,5,L,3,$ 2. FTLN\n",
    "3. C,5, P,4,L,3,U,2,S,1,$ 3. OSUUG\n",
    "4. C,2,H,3,P,4,$ 4. AKO\n",
    "5. M,1,O,2,N,3,T,4,R,5,E,1,A,2,L,3,$ 5. AACGGQVX"
   ]
  },
  {
   "cell_type": "code",
   "execution_count": 211,
   "metadata": {
    "scrolled": true
   },
   "outputs": [
    {
     "name": "stdout",
     "output_type": "stream",
     "text": [
      "GQI\n"
     ]
    }
   ],
   "source": [
    "alphabet = 'abcdefghijklmnopqrstuvwxyz'\n",
    "list1 = list(alphabet)\n",
    "list2 = [1, 2, 3, 4, 5, 6, 7, 8, 9, 10, 11, 12, 13, 14, 15, 16, 17, 18, 19, 20, 21, 22, 23, 24, 25, 26]\n",
    "dict1 = {}\n",
    "for k, x in enumerate(list1):\n",
    "    dict1[x] = list2[k]\n",
    "dict2 = {v:k for k,v in dict1.items()}\n",
    "str1 = input()\n",
    "list1 = str1.split(' ')[:-1]\n",
    "list1 = [s.strip() for s in list1]\n",
    "list2 = []\n",
    "for x in range(0, len(list1), 2):\n",
    "    list2.append(list1[x : x + 2])\n",
    "current = 1\n",
    "str1 = ''\n",
    "for a in list2:\n",
    "    if a[1] == '1':\n",
    "        current = current + dict1[a[0].lower()] * 2\n",
    "        current = current % 26\n",
    "        str1 += dict2[current].upper()\n",
    "    if a[1] == '2':\n",
    "        current = current + ((dict1[a[0].lower()] % 3) * 5)\n",
    "        current = current % 26\n",
    "        str1 += dict2[current].upper()\n",
    "    if a[1] == '3':\n",
    "        current = current + ((dict1[a[0].lower()] // 4) * -8)\n",
    "        current = current % 26\n",
    "        str1 += dict2[current].upper()\n",
    "    if a[1] == '4':\n",
    "        current = current + (int(dict1[a[0].lower()] ** (1/2)) * (-12))\n",
    "        current = current % 26\n",
    "        str1 += dict2[current%26].upper()\n",
    "    if a[1] == '5':\n",
    "        count = 0\n",
    "        for x in range(1, int(dict1[a[0].lower()]) + 1):\n",
    "            if dict1[a[0].lower()] % x == 0:\n",
    "                count += x\n",
    "        current = current + (count * 10)\n",
    "        current = current % 26\n",
    "        str1 += dict2[current].upper()\n",
    "print(str1)"
   ]
  },
  {
   "cell_type": "code",
   "execution_count": 179,
   "metadata": {},
   "outputs": [
    {
     "name": "stdout",
     "output_type": "stream",
     "text": [
      "1\n",
      "2\n",
      "1 2 3 4\n",
      "5 6 7 8\n",
      "9 10 11 12\n",
      "13 14 15 16\n",
      "3\n",
      "1 2 5 4\n",
      "3 11 6 15\n",
      "9 10 7 12\n",
      "13 14 8 16\n",
      "Case 1: 7\n"
     ]
    }
   ],
   "source": [
    "n = int(input())\n",
    "for x in range(1, n + 1):\n",
    "    row1 = int(input())\n",
    "    for a in range(4):\n",
    "        line = input()\n",
    "        if a + 1 == row1:\n",
    "            line = [int(s) for s in line.split(' ')]\n",
    "            list1 = line\n",
    "    row2 = int(input())\n",
    "    for b in range(4):\n",
    "        line = input()\n",
    "        if b + 1 == row2:\n",
    "            line = [int(s) for s in line.split(' ')]\n",
    "            list2 = line\n",
    "    count = 0\n",
    "    number = None\n",
    "    for c in list1:\n",
    "        if c in list2:\n",
    "            number = c\n",
    "            count += 1\n",
    "    if count == 1:\n",
    "        print('Case ' + str(x) + ': ' + str(number))\n",
    "    elif count > 1:\n",
    "        print('Case ' + str(x) + ': Bad Magician!')\n",
    "    else:\n",
    "        print('Case ' + str(x) + ': Volunteer Cheated!')"
   ]
  },
  {
   "cell_type": "code",
   "execution_count": 10,
   "metadata": {
    "scrolled": true
   },
   "outputs": [
    {
     "data": {
      "text/plain": [
       "[[0, 3, 5, 6], [5, 0, 2, 3], [3, 6, 0, 1], [2, 5, 7, 0]]"
      ]
     },
     "execution_count": 10,
     "metadata": {},
     "output_type": "execute_result"
    }
   ],
   "source": [
    "import copy\n",
    "inf = float('inf')\n",
    "list1 = [[0, 3, inf, 7], [8, 0, 2, inf], [5, inf, 0, 1], [2, inf, inf, 0]]\n",
    "def floyd_warshall(list1):\n",
    "    v = len(list1)\n",
    "    list2 = copy.deepcopy(list1)\n",
    "    for a in range(v):\n",
    "        for start in range(v):\n",
    "            for end in range(v):\n",
    "                for mid in range(v):\n",
    "                    if list1[start][mid] + list1[mid][end] < list2[start][end]:\n",
    "                        list2[start][end] = list1[start][mid] + list1[mid][end]\n",
    "        list1 = copy.deepcopy(list2)\n",
    "    return list2\n",
    "floyd_warshall(list1)\n",
    "#[[0, 3, 5, 6], [5, 0, 2, 3], [3, 6, 0, 1], [2, 5, 7, 0]]"
   ]
  },
  {
   "cell_type": "markdown",
   "metadata": {},
   "source": [
    "Can Shahir even get there?!\n",
    "Shahir was already taped shut in the box when it occurred to him that he didn't know if it was possible to get from his\n",
    "house to his prom date's. That's no problem: he asks one of the friends that will deliver him, Dhruvit, to check.\n",
    "There are houses in Shahir's neighbourhood, and roads that connect those houses. Each road connects two\n",
    "houses. All roads can be traveled down both directions. Each house is distinctly numbered and identified by a number in\n",
    "the range .\n",
    "Shahir lives in house . His date lives in house . Is there a path of roads to follow such that Dhruvit can drive the\n",
    "packaged Shahir from house to house ? Dhruvit wrote (and you, vicariously, will write) a program to answer that\n",
    "question.\n",
    "Input Specification\n",
    "The first line will contain four integers, separated by spaces:\n",
    ": The number of houses in Shahir's neighbourhood.\n",
    ": The number of roads in Shahir's neighbourhood.\n",
    ": Shahir lives in house A.\n",
    ": Shahir's date lives in house B.\n",
    "The next lines contain two space-separated integers and , denoting a road that connects\n",
    "house with house . Two roads will never connect the same two houses.\n",
    "Output Specification\n",
    "On a single line, print GO SHAHIR! if Shahir can make it to his date's house. Otherwise, print NO SHAHIR! .\n",
    "Sample Input 1\n",
    "6 7 1 6\n",
    "1 2\n",
    "2 3\n",
    "2 5\n",
    "5 1\n",
    "3 4\n",
    "4 5\n",
    "4 6\n",
    "Sample Output 1\n",
    "N M N\n",
    "1..N\n",
    "A B\n",
    "A B\n",
    "N (1 ≤ N ≤ 2000)\n",
    "M (0 ≤ M ≤ N)\n",
    "A (1 ≤ A ≤ N)\n",
    "B (1 ≤ B ≤ N)\n",
    "M X Y (1 ≤ X, Y ≤ N)\n",
    "X Y\n",
    "CCC Level 1 W21 Class 14 HW.\n",
    "Write a Program to solve each one of the following problems. Name each question as mention in the question. Submit a zip\n",
    "file named as lastnamefirstnamec15HW contains the solution for each question.\n",
    "Page 2 of 2\n",
    "GO SHAHIR!\n",
    "Explanation for Sample 1\n",
    "Here is the graph of Shahir's neighbourhood:\n",
    "Shahir's house is house . His date's house is at house . Dhruvit can drive Jeffrey from houses to by following the\n",
    "path or .\n",
    "Sample Input 2\n",
    "6 6 1 6\n",
    "1 2\n",
    "2 3\n",
    "2 5\n",
    "5 1\n",
    "3 4\n",
    "4 5\n",
    "Sample Output 2\n",
    "NO SHAHIR!\n",
    "Explanation for Sample 2\n",
    "This map of Shahir's neighbourhood is the same as the one in Sample 1, but the edge between houses and is\n",
    "removed. As a result, Dhruvit can no longer drive Shahir to his date's house."
   ]
  },
  {
   "cell_type": "code",
   "execution_count": 148,
   "metadata": {},
   "outputs": [
    {
     "name": "stdout",
     "output_type": "stream",
     "text": [
      "6 6 1 6\n",
      "1 2\n",
      "2 3\n",
      "2 5\n",
      "5 1\n",
      "3 4\n",
      "4 5\n",
      "NO SHAHIR\n"
     ]
    }
   ],
   "source": [
    "line = input()\n",
    "line = [int(s) for s in line.split(' ')]\n",
    "houses = line[0]\n",
    "roads = line[1]\n",
    "house1 = line[2]\n",
    "house2 = line[3]\n",
    "graph = {}\n",
    "for x in range(roads):\n",
    "    line = input()\n",
    "    line = [int(s) for s in line.split(' ')]\n",
    "    if line[0] not in graph:\n",
    "        graph[line[0]] = []\n",
    "    graph[line[0]].append(line[1])\n",
    "    if line[1] not in graph:\n",
    "        graph[line[1]] = []\n",
    "    graph[line[1]].append(line[0])\n",
    "parents = {}\n",
    "for a in range(1, houses + 1):\n",
    "    if a not in graph:\n",
    "        graph[a] = []\n",
    "parents[1] = None\n",
    "start_node = house1\n",
    "end_node = house2\n",
    "visited = []\n",
    "def dfs(node):\n",
    "    if node not in visited:\n",
    "        visited.append(node)\n",
    "        neighbours = graph[node]\n",
    "        for x in neighbours:\n",
    "            dfs(x)\n",
    "dfs(1)\n",
    "if end_node in visited:\n",
    "    print('GO SHAHIR!')\n",
    "else:\n",
    "    print('NO SHAHIR!')"
   ]
  },
  {
   "cell_type": "code",
   "execution_count": 150,
   "metadata": {},
   "outputs": [
    {
     "name": "stdout",
     "output_type": "stream",
     "text": [
      "10\n",
      "-2 8 -100 19 -2 -2 8 -100 8 8\n",
      "5\n",
      "6\n",
      "8 4\n",
      "8\n",
      "8 4\n",
      "17\n",
      "19 1\n",
      "-1000\n",
      "-100 2\n",
      "-10\n",
      "-2 3\n"
     ]
    }
   ],
   "source": [
    "n = int(input())\n",
    "line = input()\n",
    "list1 = [int(s) for s in line.split(' ')]\n",
    "a = int(input())\n",
    "for x in range(a):\n",
    "    b = int(input())\n",
    "    minimum = float('inf')\n",
    "    for x in list1:\n",
    "        if x >= b and x < minimum:\n",
    "            minimum = x\n",
    "    c = list1.count(minimum)\n",
    "    print(minimum, c)"
   ]
  },
  {
   "cell_type": "markdown",
   "metadata": {},
   "source": [
    "There are n SMTP servers connected by network cables. Each of the m cables connects two computers and has a certain latency measured in milliseconds required to send an email message. What is the shortest time required to send a message from server S to server T along a sequence of cables?\n",
    "\n",
    "Assume that there is no delay incurred at any of the servers.\n",
    "\n",
    "Input\n",
    "\n",
    "The first line of input gives the number of cases, N. N test cases follow. Each one starts with a line\n",
    "\n",
    "containing n (2 ≤ n ≤ 20000), m (0 ≤ m ≤ 50000), S (0 ≤ S < n) and T (0 ≤ T < n). S ̸= T. The\n",
    "\n",
    "next m lines will each contain 3 integers: 2 different servers (in the range [0, n − 1]) that are connected\n",
    "\n",
    "by a bidirectional cable and the latency, w, along this cable (0 ≤ w ≤ 10000).\n",
    "\n",
    "Output\n",
    "\n",
    "For each test case, output the line ‘Case #x:’ followed by the number of milliseconds required to send\n",
    "\n",
    "a message from S to T. Print ‘unreachable’ if there is no route from S to T.\n",
    "\n",
    "Sample Input\n",
    "\n",
    "3\n",
    "\n",
    "2 1 0 1\n",
    "\n",
    "0 1 100\n",
    "\n",
    "3 3 2 0\n",
    "\n",
    "0 1 100\n",
    "\n",
    "0 2 200\n",
    "\n",
    "1 2 50\n",
    "\n",
    "2 0 0 1\n",
    "\n",
    "Sample Output\n",
    "\n",
    "Case #1: 100\n",
    "\n",
    "Case #2: 150\n",
    "\n",
    "Case #3: unreachable"
   ]
  },
  {
   "cell_type": "code",
   "execution_count": 165,
   "metadata": {},
   "outputs": [
    {
     "name": "stdout",
     "output_type": "stream",
     "text": [
      "3\n",
      "2 1 0 1\n",
      "0 1 100\n",
      "Case #1: 100\n",
      "3 3 2 0\n",
      "0 1 100\n",
      "0 2 200\n",
      "1 2 50\n",
      "Case #2: 150\n",
      "2 0 0 1\n",
      "Case #3: unreachable\n"
     ]
    }
   ],
   "source": [
    "import copy\n",
    "def convert_to_matrix(graph):\n",
    "    list_nodes = sorted(graph.keys())\n",
    "    list1 = []\n",
    "    for a in list_nodes:\n",
    "        list1.append([])\n",
    "        for b in list_nodes:\n",
    "            if a == b:\n",
    "                list1[-1].append(0)\n",
    "            elif b not in graph[a].keys():\n",
    "                list1[-1].append(float('inf'))\n",
    "            else:\n",
    "                list1[-1].append(graph[a][b])\n",
    "    return list1\n",
    "\n",
    "n = int(input())\n",
    "for x in range(1, n + 1):\n",
    "    line = input()\n",
    "    line = [int(s) for s in line.split(' ')]\n",
    "    num_nodes = line[0]\n",
    "    num_edges = line[1]\n",
    "    start_node = line[2]\n",
    "    end_node = line[3]\n",
    "    graph = {}\n",
    "    if num_edges == 0:\n",
    "        print('Case #' + str(x) + ': unreachable')\n",
    "        continue\n",
    "    for a in range(num_edges):\n",
    "        line = input()\n",
    "        line = [int(s) for s in line.split(' ')]\n",
    "        if line[0] not in graph:\n",
    "            graph[line[0]] = {}\n",
    "        graph[line[0]][line[1]] = line[2]\n",
    "        if line[1] not in graph:\n",
    "            graph[line[1]] = {}\n",
    "        graph[line[1]][line[0]] = line[2]\n",
    "    list1 = convert_to_matrix(graph)\n",
    "    v = len(list1)\n",
    "    for a in range(v):\n",
    "        list2 = copy.deepcopy(list1)\n",
    "        for start_id in range(v):\n",
    "            for end_id in range(v):\n",
    "                for mid_id in range(v):\n",
    "                    if list1[start_id][mid_id] + list1[mid_id][end_id] < list2[start_id][end_id]:\n",
    "                        list2[start_id][end_id] = list1[start_id][mid_id] + list1[mid_id][end_id]\n",
    "        list1 = list2\n",
    "    if list2[start_node][end_node] != float('inf'):\n",
    "        print('Case #' + str(x) + ': ' + str(list2[start_node][end_node]))\n",
    "    else:\n",
    "        print('Case #' + str(x) + ': unreachable')"
   ]
  },
  {
   "cell_type": "markdown",
   "metadata": {},
   "source": [
    "Q1) Special Node\n",
    "You are given a weighted graph with N nodes and M edges. Some of the nodes are marked\n",
    "as special nodes. Your task is to find the shortest pairwise distance between any two\n",
    "different special nodes.\n",
    "Input\n",
    "The first line of the input contains three space-separated integers N, M and K denoting the\n",
    "number of nodes, the number of edges, and the number of special nodes.\n",
    "The following line contains K space-separated distinct integers A1, A2, ..., AK , denoting the\n",
    "special nodes.\n",
    "Each of the following M lines (say, the j\n",
    "th) contains a triple Xj Yj Zj, denoting the edge\n",
    "connecting the nodes Xj and Yj, and having the weight of Zj.\n",
    "Output\n",
    "Output the shortest pairwise distance between any two different special nodes.\n",
    "Constraints\n",
    "• 2 ≤ K ≤ N\n",
    "• The given graph is connected.\n",
    "• The given graph doesn't contain self loops and multiple edges.\n",
    "• 1 ≤ Ai ≤ N\n",
    "• 1 ≤ Zj ≤ 104\n",
    "• 1 ≤ Xj, Yj ≤ N\n",
    "Subtasks\n",
    "• Subtask #1 (20 points): 2 ≤ N ≤ 300, N-1 ≤ M ≤ N*(N-1)/2, 2 ≤ K ≤ N\n",
    "• Subtask #2 (25 points): 2 ≤ N ≤ 105\n",
    ", N-1 ≤ M ≤ 105\n",
    ", 2 ≤ K ≤ 10\n",
    "• Subtask #3 (55 points): 2 ≤ N ≤ 105\n",
    ", N-1 ≤ M ≤ 3 * 105\n",
    ", 2 ≤ K ≤ 104\n",
    "Example\n",
    "Input:\n",
    "5 5 3\n",
    "1 3 5\n",
    "1 2 3\n",
    "2 3 4\n",
    "3 4 1\n",
    "4 5 8\n",
    "1 5 19\n",
    "Output:\n",
    "7\n",
    "Explanation\n",
    "Nodes 1, 3 and 5 are special nodes. Shortest distance between nodes 1 and 3 is 7 and that\n",
    "between nodes 3 and 5 is 9. Shortest distance between nodes 1 and 5 is 16. Minimum of\n",
    "these distances is 7. Hence answer is 7."
   ]
  },
  {
   "cell_type": "code",
   "execution_count": null,
   "metadata": {},
   "outputs": [],
   "source": []
  },
  {
   "cell_type": "code",
   "execution_count": 182,
   "metadata": {},
   "outputs": [
    {
     "name": "stdout",
     "output_type": "stream",
     "text": [
      "5 5 3\n",
      "1 3 5\n",
      "1 2 3\n",
      "2 3 4\n",
      "3 4 1\n",
      "4 5 8\n",
      "1 5 19\n",
      "7\n"
     ]
    }
   ],
   "source": [
    "import copy\n",
    "def convert_to_matrix(graph):\n",
    "    list1 = []\n",
    "    for a in list_nodes:\n",
    "        list1.append([])\n",
    "        for b in list_nodes:\n",
    "            if a == b:\n",
    "                list1[-1].append(0)\n",
    "            elif b not in graph[a].keys():\n",
    "                list1[-1].append(float('inf'))\n",
    "            else:\n",
    "                list1[-1].append(graph[a][b])\n",
    "    return list1\n",
    "\n",
    "line = input()\n",
    "line = [int(s) for s in line.split(' ')]\n",
    "num_nodes = line[0]\n",
    "num_edges = line[1]\n",
    "num_special_nodes = line[2]\n",
    "line = input()\n",
    "special = []\n",
    "for x in [int(s) for s in line.split(' ')]:\n",
    "    special.append(x)\n",
    "graph = {}\n",
    "for x in range(num_edges):\n",
    "    line = input()\n",
    "    line = [int(s) for s in line.split(' ')]\n",
    "    if line[0] not in graph:\n",
    "        graph[line[0]] = {}\n",
    "    graph[line[0]][line[1]] = line[2]\n",
    "list_nodes = []\n",
    "for a in range(1, num_edges + 1):\n",
    "    list_nodes.append(a)\n",
    "for a in list_nodes:\n",
    "    if a not in graph:\n",
    "        graph[a] = {}\n",
    "\n",
    "list1 = convert_to_matrix(graph)\n",
    "v = len(list1)\n",
    "for a in range(v):\n",
    "    list2 = copy.deepcopy(list1)\n",
    "    for start_id in range(v):\n",
    "        for end_id in range(v):\n",
    "            for mid_id in range(v):\n",
    "                if list1[start_id][mid_id] + list1[mid_id][end_id] < list2[start_id][end_id]:\n",
    "                    list2[start_id][end_id] = list1[start_id][mid_id] + list1[mid_id][end_id]\n",
    "    list1 = list2\n",
    "minimum = float('inf')\n",
    "for a in special:\n",
    "    for b in special:\n",
    "        if a != b:\n",
    "            if list2[a - 1][b - 1] < minimum:\n",
    "                minimum = list2[a - 1][b - 1]\n",
    "            if list2[b - 1][a - 1] < minimum:\n",
    "                minimum = list2[b - 1][a - 1]\n",
    "print(minimum)"
   ]
  },
  {
   "cell_type": "markdown",
   "metadata": {},
   "source": [
    "Q1) Substring\n",
    "How many distinct substrings does a given string S have?\n",
    "For example, if S = \"abc\", S has 7 distinct substrings: {\"\",\"a\",\"b\",\"c\",\"ab\",\"bc\",\"abc\"}. Note that\n",
    "the empty string and S itself are considered substrings of S.\n",
    "On the other hand, if S = \"aaa\", S has only 4 distinct substrings: {\"\",\"a\",\"aa\",\"aaa\"}.\n",
    "The first line of the input file contains N, the number of test cases. For each test case, a line\n",
    "follows giving S, a string of from 1 to 1000 alphanumeric characters. Your output consists of one\n",
    "line per case, giving the number of distinct substrings of S. Try to write an efficient program.\n",
    "Sample Input\n",
    "2\n",
    "abc\n",
    "aaa\n",
    "Output for Sample Input\n",
    "7\n",
    "4"
   ]
  },
  {
   "cell_type": "code",
   "execution_count": 316,
   "metadata": {},
   "outputs": [
    {
     "name": "stdout",
     "output_type": "stream",
     "text": [
      "2\n",
      "abc\n",
      "7\n",
      "aaa\n",
      "4\n"
     ]
    }
   ],
   "source": [
    "n = int(input())\n",
    "for x in range(n):\n",
    "    str1 = input()\n",
    "    list1 = list(str1)\n",
    "    list2 = []\n",
    "    for k1 in range(len(list1)):\n",
    "        for k2 in range(len(list1) + 1):\n",
    "            list2.append(''.join(list1[k1:k2]))\n",
    "    print(len(list(set(list2))))"
   ]
  },
  {
   "cell_type": "markdown",
   "metadata": {},
   "source": [
    "Aromatic Numbers\n",
    "This question involves calculating the value of aromatic numbers which are a combination of Arabic\n",
    "digits and Roman numerals.\n",
    "An aromatic number is of the form ARARAR...AR, where each A is an Arabic digit, and each R is a\n",
    "Roman numeral. Each pair ARcontributes a value described below, and by adding or subtracting these\n",
    "values together we get the value of the entire aromatic number.\n",
    "An Arabic digit A, can be 0, 1, 2, 3, 4, 5, 6, 7, 8, or 9. A Roman numeral R is one of the seven letters I, V,\n",
    "X, L, C, D, or M. Each Roman numeral has a base value:\n",
    "Symbol I V X L C D M\n",
    "Base value 1 5 10 50 100 500 1000\n",
    "The value of a pair AR is A times the base value of R. Normally, you add up the values of the pairs to get\n",
    "the overall value. However, wherever there are consecutive symbols ARA'R' with R' having a strictly\n",
    "bigger base value than R, the value of pair AR must be subtractedfrom the total, instead of being\n",
    "added.\n",
    "For example, the number 3M1D2C has the value 3×1000 + 1×500 + 2*100 = 3700 and 3X2I4X has the\n",
    "value 3×10 - 2×1 + 4×10 = 68.\n",
    "Write a program that computes the values of aromatic numbers.\n",
    "Input Format\n",
    "The input is a valid aromatic number consisting of between 2 and 20 symbols.\n",
    "Output Format\n",
    "The output is the decimal value of the given aromatic number.\n",
    "Sample Input 1\n",
    "3M1D2C\n",
    "Sample Output 1\n",
    "3700\n",
    "Sample Input 2\n",
    "2I3I2X9V1X\n",
    "Sample Output 2\n",
    "-16"
   ]
  },
  {
   "cell_type": "code",
   "execution_count": 351,
   "metadata": {},
   "outputs": [
    {
     "name": "stdout",
     "output_type": "stream",
     "text": [
      "2I3I2X9V1X\n",
      "-16\n"
     ]
    }
   ],
   "source": [
    "str1 = input()\n",
    "roman = {}\n",
    "roman['I'] = 1\n",
    "roman['V'] = 5\n",
    "roman['X'] = 10\n",
    "roman['L'] = 50\n",
    "roman['C'] = 100\n",
    "roman['D'] = 500\n",
    "roman['M'] = 1000\n",
    "list1 = list(str1)\n",
    "count = 0\n",
    "for k, x in enumerate(list1):\n",
    "    if k % 2 == 0:\n",
    "        if k != 0:\n",
    "            if roman[list1[k - 1]] < roman[list1[k + 1]]:\n",
    "                count -= 2 * int(list1[k - 2]) * roman[list1[k - 1]]\n",
    "            count += int(x) * roman[list1[k + 1]]\n",
    "        else:\n",
    "            count += int(x) * roman[list1[k + 1]]\n",
    "print(count)"
   ]
  },
  {
   "cell_type": "markdown",
   "metadata": {},
   "source": [
    "In an episode of the Dick Van Dyke show, little Richie connects the freckles on his\n",
    "\n",
    "\n",
    "\n",
    "Dad’s back to form a picture of the Liberty Bell. Alas, one of the freckles turns out to\n",
    "\n",
    "\n",
    "\n",
    "be a scar, so his Ripley’s engagement falls through.\n",
    "\n",
    "\n",
    "\n",
    "Consider Dick’s back to be a plane with freckles at various (x, y) locations. Your job\n",
    "\n",
    "\n",
    "\n",
    "is to tell Richie how to connect the dots so as to minimize the amount of ink used.\n",
    "\n",
    "\n",
    "\n",
    "Richie connects the dots by drawing straight lines between pairs, possibly lifting the\n",
    "\n",
    "\n",
    "\n",
    "pen between lines. When Richie is done there must be a sequence of connected lines\n",
    "\n",
    "\n",
    "\n",
    "from any freckle to any other freckle.\n",
    "\n",
    "\n",
    "\n",
    "Input\n",
    "\n",
    "\n",
    "\n",
    "The input begins with a single positive integer on a line by itself indicating the number\n",
    "\n",
    "\n",
    "\n",
    "of test cases, followed by a blank line.\n",
    "\n",
    "\n",
    "\n",
    "The first line of each test case contains 0 < n ≤ 100, giving the number of freckles on\n",
    "\n",
    "\n",
    "\n",
    "Dick’s back. For each freckle, a line follows; each following line contains two real numbers\n",
    "\n",
    "\n",
    "\n",
    "indicating the (x, y) coordinates of the freckle.\n",
    "\n",
    "\n",
    "\n",
    "There is a blank line between each two consecutive test cases.\n",
    "\n",
    "\n",
    "\n",
    "Output\n",
    "\n",
    "\n",
    "\n",
    "For each test case, your program must print a single real number to two decimal places:\n",
    "\n",
    "\n",
    "\n",
    "the minimum total length of ink lines that can connect all the freckles. The output of\n",
    "\n",
    "\n",
    "\n",
    "each two consecutive cases must be separated by a blank line.\n",
    "\n",
    "\n",
    "\n",
    "Sample Input\n",
    "\n",
    "\n",
    "\n",
    "1\n",
    "\n",
    "3\n",
    "\n",
    "1.0 1.0\n",
    "\n",
    "2.0 2.0\n",
    "\n",
    "2.0 4.0\n",
    "\n",
    "Sample Output\n",
    "\n",
    "3.41"
   ]
  },
  {
   "cell_type": "code",
   "execution_count": 88,
   "metadata": {},
   "outputs": [
    {
     "ename": "KeyboardInterrupt",
     "evalue": "",
     "output_type": "error",
     "traceback": [
      "\u001b[0;31m---------------------------------------------------------------------------\u001b[0m",
      "\u001b[0;31mKeyboardInterrupt\u001b[0m                         Traceback (most recent call last)",
      "\u001b[0;32m/anaconda3/lib/python3.7/site-packages/ipykernel/kernelbase.py\u001b[0m in \u001b[0;36m_input_request\u001b[0;34m(self, prompt, ident, parent, password)\u001b[0m\n\u001b[1;32m    877\u001b[0m             \u001b[0;32mtry\u001b[0m\u001b[0;34m:\u001b[0m\u001b[0;34m\u001b[0m\u001b[0;34m\u001b[0m\u001b[0m\n\u001b[0;32m--> 878\u001b[0;31m                 \u001b[0mident\u001b[0m\u001b[0;34m,\u001b[0m \u001b[0mreply\u001b[0m \u001b[0;34m=\u001b[0m \u001b[0mself\u001b[0m\u001b[0;34m.\u001b[0m\u001b[0msession\u001b[0m\u001b[0;34m.\u001b[0m\u001b[0mrecv\u001b[0m\u001b[0;34m(\u001b[0m\u001b[0mself\u001b[0m\u001b[0;34m.\u001b[0m\u001b[0mstdin_socket\u001b[0m\u001b[0;34m,\u001b[0m \u001b[0;36m0\u001b[0m\u001b[0;34m)\u001b[0m\u001b[0;34m\u001b[0m\u001b[0;34m\u001b[0m\u001b[0m\n\u001b[0m\u001b[1;32m    879\u001b[0m             \u001b[0;32mexcept\u001b[0m \u001b[0mException\u001b[0m\u001b[0;34m:\u001b[0m\u001b[0;34m\u001b[0m\u001b[0;34m\u001b[0m\u001b[0m\n",
      "\u001b[0;32m/anaconda3/lib/python3.7/site-packages/jupyter_client/session.py\u001b[0m in \u001b[0;36mrecv\u001b[0;34m(self, socket, mode, content, copy)\u001b[0m\n\u001b[1;32m    802\u001b[0m         \u001b[0;32mtry\u001b[0m\u001b[0;34m:\u001b[0m\u001b[0;34m\u001b[0m\u001b[0;34m\u001b[0m\u001b[0m\n\u001b[0;32m--> 803\u001b[0;31m             \u001b[0mmsg_list\u001b[0m \u001b[0;34m=\u001b[0m \u001b[0msocket\u001b[0m\u001b[0;34m.\u001b[0m\u001b[0mrecv_multipart\u001b[0m\u001b[0;34m(\u001b[0m\u001b[0mmode\u001b[0m\u001b[0;34m,\u001b[0m \u001b[0mcopy\u001b[0m\u001b[0;34m=\u001b[0m\u001b[0mcopy\u001b[0m\u001b[0;34m)\u001b[0m\u001b[0;34m\u001b[0m\u001b[0;34m\u001b[0m\u001b[0m\n\u001b[0m\u001b[1;32m    804\u001b[0m         \u001b[0;32mexcept\u001b[0m \u001b[0mzmq\u001b[0m\u001b[0;34m.\u001b[0m\u001b[0mZMQError\u001b[0m \u001b[0;32mas\u001b[0m \u001b[0me\u001b[0m\u001b[0;34m:\u001b[0m\u001b[0;34m\u001b[0m\u001b[0;34m\u001b[0m\u001b[0m\n",
      "\u001b[0;32m/anaconda3/lib/python3.7/site-packages/zmq/sugar/socket.py\u001b[0m in \u001b[0;36mrecv_multipart\u001b[0;34m(self, flags, copy, track)\u001b[0m\n\u001b[1;32m    466\u001b[0m         \"\"\"\n\u001b[0;32m--> 467\u001b[0;31m         \u001b[0mparts\u001b[0m \u001b[0;34m=\u001b[0m \u001b[0;34m[\u001b[0m\u001b[0mself\u001b[0m\u001b[0;34m.\u001b[0m\u001b[0mrecv\u001b[0m\u001b[0;34m(\u001b[0m\u001b[0mflags\u001b[0m\u001b[0;34m,\u001b[0m \u001b[0mcopy\u001b[0m\u001b[0;34m=\u001b[0m\u001b[0mcopy\u001b[0m\u001b[0;34m,\u001b[0m \u001b[0mtrack\u001b[0m\u001b[0;34m=\u001b[0m\u001b[0mtrack\u001b[0m\u001b[0;34m)\u001b[0m\u001b[0;34m]\u001b[0m\u001b[0;34m\u001b[0m\u001b[0;34m\u001b[0m\u001b[0m\n\u001b[0m\u001b[1;32m    468\u001b[0m         \u001b[0;31m# have first part already, only loop while more to receive\u001b[0m\u001b[0;34m\u001b[0m\u001b[0;34m\u001b[0m\u001b[0;34m\u001b[0m\u001b[0m\n",
      "\u001b[0;32mzmq/backend/cython/socket.pyx\u001b[0m in \u001b[0;36mzmq.backend.cython.socket.Socket.recv\u001b[0;34m()\u001b[0m\n",
      "\u001b[0;32mzmq/backend/cython/socket.pyx\u001b[0m in \u001b[0;36mzmq.backend.cython.socket.Socket.recv\u001b[0;34m()\u001b[0m\n",
      "\u001b[0;32mzmq/backend/cython/socket.pyx\u001b[0m in \u001b[0;36mzmq.backend.cython.socket._recv_copy\u001b[0;34m()\u001b[0m\n",
      "\u001b[0;32m/anaconda3/lib/python3.7/site-packages/zmq/backend/cython/checkrc.pxd\u001b[0m in \u001b[0;36mzmq.backend.cython.checkrc._check_rc\u001b[0;34m()\u001b[0m\n",
      "\u001b[0;31mKeyboardInterrupt\u001b[0m: ",
      "\nDuring handling of the above exception, another exception occurred:\n",
      "\u001b[0;31mKeyboardInterrupt\u001b[0m                         Traceback (most recent call last)",
      "\u001b[0;32m<ipython-input-88-34110fcdc966>\u001b[0m in \u001b[0;36m<module>\u001b[0;34m\u001b[0m\n\u001b[1;32m     39\u001b[0m     \u001b[0;32mreturn\u001b[0m \u001b[0;34m(\u001b[0m\u001b[0;34m(\u001b[0m\u001b[0;34m(\u001b[0m\u001b[0my\u001b[0m\u001b[0;34m[\u001b[0m\u001b[0;36m0\u001b[0m\u001b[0;34m]\u001b[0m \u001b[0;34m-\u001b[0m \u001b[0mx\u001b[0m\u001b[0;34m[\u001b[0m\u001b[0;36m0\u001b[0m\u001b[0;34m]\u001b[0m\u001b[0;34m)\u001b[0m \u001b[0;34m**\u001b[0m \u001b[0;36m2\u001b[0m\u001b[0;34m)\u001b[0m \u001b[0;34m+\u001b[0m \u001b[0;34m(\u001b[0m\u001b[0;34m(\u001b[0m\u001b[0my\u001b[0m\u001b[0;34m[\u001b[0m\u001b[0;36m1\u001b[0m\u001b[0;34m]\u001b[0m \u001b[0;34m-\u001b[0m \u001b[0mx\u001b[0m\u001b[0;34m[\u001b[0m\u001b[0;36m1\u001b[0m\u001b[0;34m]\u001b[0m\u001b[0;34m)\u001b[0m \u001b[0;34m**\u001b[0m \u001b[0;36m2\u001b[0m\u001b[0;34m)\u001b[0m\u001b[0;34m)\u001b[0m \u001b[0;34m**\u001b[0m \u001b[0;34m(\u001b[0m\u001b[0;36m1\u001b[0m\u001b[0;34m/\u001b[0m\u001b[0;36m2\u001b[0m\u001b[0;34m)\u001b[0m\u001b[0;34m\u001b[0m\u001b[0;34m\u001b[0m\u001b[0m\n\u001b[1;32m     40\u001b[0m \u001b[0;34m\u001b[0m\u001b[0m\n\u001b[0;32m---> 41\u001b[0;31m \u001b[0mtest_cases\u001b[0m \u001b[0;34m=\u001b[0m \u001b[0mint\u001b[0m\u001b[0;34m(\u001b[0m\u001b[0minput\u001b[0m\u001b[0;34m(\u001b[0m\u001b[0;34m)\u001b[0m\u001b[0;34m)\u001b[0m\u001b[0;34m\u001b[0m\u001b[0;34m\u001b[0m\u001b[0m\n\u001b[0m\u001b[1;32m     42\u001b[0m \u001b[0;32mfor\u001b[0m \u001b[0mx\u001b[0m \u001b[0;32min\u001b[0m \u001b[0mrange\u001b[0m\u001b[0;34m(\u001b[0m\u001b[0mtest_cases\u001b[0m\u001b[0;34m)\u001b[0m\u001b[0;34m:\u001b[0m\u001b[0;34m\u001b[0m\u001b[0;34m\u001b[0m\u001b[0m\n\u001b[1;32m     43\u001b[0m     \u001b[0mlist1\u001b[0m \u001b[0;34m=\u001b[0m \u001b[0;34m[\u001b[0m\u001b[0;34m]\u001b[0m\u001b[0;34m\u001b[0m\u001b[0;34m\u001b[0m\u001b[0m\n",
      "\u001b[0;32m/anaconda3/lib/python3.7/site-packages/ipykernel/kernelbase.py\u001b[0m in \u001b[0;36mraw_input\u001b[0;34m(self, prompt)\u001b[0m\n\u001b[1;32m    851\u001b[0m             \u001b[0mself\u001b[0m\u001b[0;34m.\u001b[0m\u001b[0m_parent_ident\u001b[0m\u001b[0;34m,\u001b[0m\u001b[0;34m\u001b[0m\u001b[0;34m\u001b[0m\u001b[0m\n\u001b[1;32m    852\u001b[0m             \u001b[0mself\u001b[0m\u001b[0;34m.\u001b[0m\u001b[0m_parent_header\u001b[0m\u001b[0;34m,\u001b[0m\u001b[0;34m\u001b[0m\u001b[0;34m\u001b[0m\u001b[0m\n\u001b[0;32m--> 853\u001b[0;31m             \u001b[0mpassword\u001b[0m\u001b[0;34m=\u001b[0m\u001b[0;32mFalse\u001b[0m\u001b[0;34m,\u001b[0m\u001b[0;34m\u001b[0m\u001b[0;34m\u001b[0m\u001b[0m\n\u001b[0m\u001b[1;32m    854\u001b[0m         )\n\u001b[1;32m    855\u001b[0m \u001b[0;34m\u001b[0m\u001b[0m\n",
      "\u001b[0;32m/anaconda3/lib/python3.7/site-packages/ipykernel/kernelbase.py\u001b[0m in \u001b[0;36m_input_request\u001b[0;34m(self, prompt, ident, parent, password)\u001b[0m\n\u001b[1;32m    881\u001b[0m             \u001b[0;32mexcept\u001b[0m \u001b[0mKeyboardInterrupt\u001b[0m\u001b[0;34m:\u001b[0m\u001b[0;34m\u001b[0m\u001b[0;34m\u001b[0m\u001b[0m\n\u001b[1;32m    882\u001b[0m                 \u001b[0;31m# re-raise KeyboardInterrupt, to truncate traceback\u001b[0m\u001b[0;34m\u001b[0m\u001b[0;34m\u001b[0m\u001b[0;34m\u001b[0m\u001b[0m\n\u001b[0;32m--> 883\u001b[0;31m                 \u001b[0;32mraise\u001b[0m \u001b[0mKeyboardInterrupt\u001b[0m\u001b[0;34m\u001b[0m\u001b[0;34m\u001b[0m\u001b[0m\n\u001b[0m\u001b[1;32m    884\u001b[0m             \u001b[0;32melse\u001b[0m\u001b[0;34m:\u001b[0m\u001b[0;34m\u001b[0m\u001b[0;34m\u001b[0m\u001b[0m\n\u001b[1;32m    885\u001b[0m                 \u001b[0;32mbreak\u001b[0m\u001b[0;34m\u001b[0m\u001b[0;34m\u001b[0m\u001b[0m\n",
      "\u001b[0;31mKeyboardInterrupt\u001b[0m: "
     ]
    }
   ],
   "source": [
    "def find_root(node):\n",
    "    x = dict_mapping[node]\n",
    "    list1 = []\n",
    "    while x != list_parents[x]:\n",
    "        list1.append(x)\n",
    "        x = list_parents[x]\n",
    "    for y in list1:\n",
    "        list_parents[y] = x\n",
    "    return x\n",
    "def union(node1, node2):\n",
    "    root1 = find_root(node1)\n",
    "    root2 = find_root(node2)\n",
    "    if root1 == root2:\n",
    "        return [root1, root2]\n",
    "    elif dict_comp_sizes[root2] > dict_comp_sizes[root1]:\n",
    "        list_parents[root1] = root2\n",
    "        dict_comp_sizes[root2] += dict_comp_sizes[root1]\n",
    "        dict_comp_sizes[root1] = 0\n",
    "        keep_edges.append((node1, node2))\n",
    "        return root2\n",
    "    else:\n",
    "        list_parents[root2] = root1\n",
    "        dict_comp_sizes[root1] += dict_comp_sizes[root2]\n",
    "        dict_comp_sizes[root2] = 0\n",
    "        keep_edges.append((node1, node2))\n",
    "        return root1 \n",
    "def kruskal(graph):\n",
    "    list1 = []\n",
    "    for x in graph.keys():\n",
    "        for y in graph[x].keys():\n",
    "            list1.append([x, y, graph[x][y]])\n",
    "    list1 = sorted(list1, key=lambda s:s[2])\n",
    "    for a in list1:\n",
    "        if max(dict_comp_sizes.values())==len(list(set(list_nodes))):\n",
    "            break\n",
    "        parent = union(a[0], a[1])\n",
    "    return parent\n",
    "def distance(x, y):\n",
    "    return (((y[0] - x[0]) ** 2) + ((y[1] - x[1]) ** 2)) ** (1/2)\n",
    "\n",
    "test_cases = int(input())\n",
    "for x in range(test_cases):\n",
    "    list1 = []\n",
    "    freckles = int(input())\n",
    "    for a in range(freckles):\n",
    "        line = input()\n",
    "        line = line.split(' ')\n",
    "        line = [float(s) for s in line]\n",
    "        line = tuple(line)\n",
    "        list1.append(line)\n",
    "    graph = {}\n",
    "    for a in list1:\n",
    "        graph[a] = {}\n",
    "        for b in list1:\n",
    "            if a != b:\n",
    "                graph[a][b] = distance(a, b)\n",
    "start_node = list1[0]\n",
    "visited = [start_node]\n",
    "parents = {start_node: None}\n",
    "total_cost = 0\n",
    "list_nodes = sorted(graph.keys())\n",
    "dict_mapping = {}\n",
    "for k, x in enumerate(list_nodes):\n",
    "    dict_mapping[x] = k\n",
    "list_parents = []\n",
    "for x in range(len(list_nodes)):\n",
    "    list_parents.append(x)\n",
    "dict_comp_sizes = {}\n",
    "for a in list_parents:\n",
    "    dict_comp_sizes[a] = 1\n",
    "keep_edges = []\n",
    "list_nodes = sorted(graph.keys())\n",
    "dict_mapping = {}\n",
    "for k, x in enumerate(list_nodes):\n",
    "    dict_mapping[x] = k\n",
    "list_parents = []\n",
    "for x in range(len(list_nodes)):\n",
    "    list_parents.append(x)\n",
    "dict_comp_sizes = {}\n",
    "for a in list_parents:\n",
    "    dict_comp_sizes[a] = 1\n",
    "root = kruskal(graph)\n",
    "dict_mapping_inv = {v:k for k, v in dict_mapping.items()}\n",
    "parents = {}\n",
    "root = dict_mapping_inv[root]   \n",
    "cost = 0\n",
    "for x in keep_edges:\n",
    "    cost += graph[x[0]][x[1]]\n",
    "print(round(cost, 2))"
   ]
  },
  {
   "cell_type": "code",
   "execution_count": 17,
   "metadata": {},
   "outputs": [
    {
     "name": "stdout",
     "output_type": "stream",
     "text": [
      "3.41\n"
     ]
    }
   ],
   "source": [
    "graph = {(1.0, 1.0): {(2.0, 2.0): 1.4142135623730951, (2.0, 4.0): 3.1622776601683795}, (2.0, 2.0): {(1.0, 1.0): 1.4142135623730951, (2.0, 4.0): 2.0}, (2.0, 4.0): {(1.0, 1.0): 3.1622776601683795, (2.0, 2.0): 2.0}}\n",
    "[((1.0, 1.0), (2.0, 2.0)), ((2.0, 2.0), (2.0, 4.0))]\n",
    "start_node = list1[0]\n",
    "visited = [start_node]\n",
    "parents = {start_node: None}\n",
    "total_cost = 0\n",
    "list_nodes = sorted(graph.keys())\n",
    "dict_mapping = {}\n",
    "for k, x in enumerate(list_nodes):\n",
    "    dict_mapping[x] = k\n",
    "list_parents = []\n",
    "for x in range(len(list_nodes)):\n",
    "    list_parents.append(x)\n",
    "dict_comp_sizes = {}\n",
    "for a in list_parents:\n",
    "    dict_comp_sizes[a] = 1\n",
    "keep_edges = []\n",
    "list_nodes = sorted(graph.keys())\n",
    "dict_mapping = {}\n",
    "for k, x in enumerate(list_nodes):\n",
    "    dict_mapping[x] = k\n",
    "list_parents = []\n",
    "for x in range(len(list_nodes)):\n",
    "    list_parents.append(x)\n",
    "dict_comp_sizes = {}\n",
    "for a in list_parents:\n",
    "    dict_comp_sizes[a] = 1\n",
    "root = kruskal(graph)\n",
    "dict_mapping_inv = {v:k for k, v in dict_mapping.items()}\n",
    "parents = {}\n",
    "root = dict_mapping_inv[root]   \n",
    "cost = 0\n",
    "for x in keep_edges:\n",
    "    cost += graph[x[0]][x[1]]\n",
    "print(round(cost, 2))"
   ]
  },
  {
   "cell_type": "markdown",
   "metadata": {},
   "source": [
    "Q1)Email\n",
    "A seldom-known fact about email addresses is that you can format a given address in several\n",
    "different ways. In particular:\n",
    "• The entire address is case-insensitive.\n",
    "• Dots (‘.’) before the at-sign (‘@’) sign are ignored.\n",
    "• A plus (‘+’) followed by any string can be added before the at-sign (‘@’). The plus and\n",
    "following string are ignored.\n",
    "For example, “foo@bar.com” and “fO.o+baz123@bAR.com” refer to the same email address.\n",
    "John runs a service where users sign up with their email address. He has noticed that some users have\n",
    "signed up multiple times using different representations of the same address. He has asked for your\n",
    "help to determine the number of unique email addresses that have signed up on his site.\n",
    "Input Specifications\n",
    "DATA11.txt (DATA12.txt for the second try) will contain 10 datasets. Each dataset begins with a line\n",
    "containing an integer N (1 ≤ N ≤ 100,000), the number of email addresses. The next N lines each\n",
    "contain an email address S (1 ≤ |S| ≤ 30). The email address will be formatted as a non-empty user\n",
    "part consisting of letters, numbers, dots, and pluses followed by a single at-sign followed by a nonempty domain part consisting of letters, numbers, and dots.\n",
    "For the first 6 cases, N ≤ 100.\n",
    "Output Specifications\n",
    "For each dataset, output the number of unique email addresses in the dataset.\n",
    "Sample Input (Two Datasets Shown)\n",
    "3\n",
    "foo@bar.com\n",
    "fO.o+baz123@bAR.com\n",
    "foo@bar..com\n",
    "3\n",
    "c++@foo.com\n",
    "c...@Foo.com\n",
    ".c+c@FOO.COM"
   ]
  },
  {
   "cell_type": "code",
   "execution_count": 2,
   "metadata": {
    "scrolled": true
   },
   "outputs": [
    {
     "name": "stdout",
     "output_type": "stream",
     "text": [
      "3\n",
      "c++@foo.com\n",
      "c...@Foo.com\n",
      ".c+c@FOO.COM\n",
      "1\n"
     ]
    }
   ],
   "source": [
    "n = int(input())\n",
    "list1 = []\n",
    "for x in range(n):\n",
    "    line = input()\n",
    "    list1.append(line)\n",
    "list_all = []\n",
    "for a in list1:\n",
    "    list2 = list(a)\n",
    "    divider = list2.index('@')\n",
    "    for k, b in enumerate(list2):\n",
    "        list2[k] = b.lower()\n",
    "    while list2.index('.') < list2.index('@'):\n",
    "        index1 = list2.index('.')\n",
    "        if index1<divider:\n",
    "            list2.pop(index1)\n",
    "    list3 = list2\n",
    "    if '+' in list2:\n",
    "        index = list2.index('+')\n",
    "        if index < divider:\n",
    "            divider = list2.index('@')\n",
    "            list3 = list2[:index] + list2[divider:]\n",
    "    list_all.append(''.join(list3))\n",
    "print(len(list(set(list_all))))"
   ]
  },
  {
   "cell_type": "code",
   "execution_count": 1,
   "metadata": {},
   "outputs": [
    {
     "name": "stdout",
     "output_type": "stream",
     "text": [
      "9\n",
      "2 8 "
     ]
    }
   ],
   "source": [
    "def from_decimal(n, base):\n",
    "    dict1 = {'A' : '10', 'B' : '11', 'C' : '12', 'D' : '13', 'E' : '14', 'F' : '15'}\n",
    "    dict2 = {v:k for k,v in dict1.items()}\n",
    "    list1 = []\n",
    "    while n != 0:\n",
    "        remainder = n % base\n",
    "        if remainder > 9:\n",
    "            remainder = dict2[str(remainder)]\n",
    "        list1.append(str(remainder))\n",
    "        n = n // base\n",
    "    return ''.join(list1[::-1])\n",
    "n = int(input())\n",
    "list1 = []\n",
    "for x in range(2, n):\n",
    "    if from_decimal(n, x) == from_decimal(n, x)[::-1]:\n",
    "        list1.append(x)\n",
    "for a in list1:\n",
    "    print(a, end = ' ')"
   ]
  },
  {
   "cell_type": "code",
   "execution_count": 33,
   "metadata": {},
   "outputs": [
    {
     "name": "stdout",
     "output_type": "stream",
     "text": [
      "Nope\n"
     ]
    }
   ],
   "source": [
    "list1 = [-2, 4, 2, -1, 7, 5]\n",
    "list2 = []\n",
    "for a in range(len(list1)):\n",
    "    list3 = []\n",
    "    for b in range(len(list1)):\n",
    "        if b < a:\n",
    "            list3.append('Invalid')\n",
    "        else:\n",
    "            list3.append(min(list1[a : b + 1]))\n",
    "    list2.append(list3)\n",
    "for c in list2:\n",
    "    print(c)"
   ]
  },
  {
   "cell_type": "code",
   "execution_count": 86,
   "metadata": {},
   "outputs": [
    {
     "name": "stdout",
     "output_type": "stream",
     "text": [
      "1\n",
      "4 6 10 1\n",
      "3\n",
      "1 2 4\n",
      "1 3 8\n",
      "1 4 1\n",
      "2 3 2\n",
      "2 4 5\n",
      "3 4 20\n",
      "37\n"
     ]
    }
   ],
   "source": [
    "def find_root(node):\n",
    "    x = dict_mapping[node]\n",
    "    list1 = []\n",
    "    while x != list_parents[x]:\n",
    "        list1.append(x)\n",
    "        x = list_parents[x]\n",
    "    for y in list1:\n",
    "        list_parents[y] = x\n",
    "    return x\n",
    "\n",
    "def union(node1, node2):\n",
    "    root1 = find_root(node1)\n",
    "    root2 = find_root(node2)\n",
    "    if root1 == root2:\n",
    "        return [root1, root2]\n",
    "    elif dict_comp_sizes[root2] > dict_comp_sizes[root1]:\n",
    "        list_parents[root1] = root2\n",
    "        dict_comp_sizes[root2] += dict_comp_sizes[root1]\n",
    "        dict_comp_sizes[root1] = 0\n",
    "        keep_edges.append((node1, node2))\n",
    "        return root2\n",
    "    else:\n",
    "        list_parents[root2] = root1\n",
    "        dict_comp_sizes[root1] += dict_comp_sizes[root2]\n",
    "        dict_comp_sizes[root2] = 0\n",
    "        keep_edges.append((node1, node2))\n",
    "        return root1\n",
    "\n",
    "def kruskal(graph):\n",
    "    list1 = []\n",
    "    for x in graph.keys():\n",
    "        for y in graph[x].keys():\n",
    "            list1.append([x, y, graph[x][y]])\n",
    "    list1 = sorted(list1, key=lambda s:s[2])\n",
    "    for a in list1:\n",
    "        if max(dict_comp_sizes.values())==len(list(set(list_nodes))):\n",
    "            break\n",
    "        parent = union(a[0], a[1])\n",
    "    return parent    \n",
    "a = int(input())\n",
    "for x in range(a):\n",
    "    line = input()\n",
    "    line = [int(s) for s in line.split()]\n",
    "    n = line[0]\n",
    "    m = line[1]\n",
    "    l = line[2]\n",
    "    s = line[3]\n",
    "    start = int(input())\n",
    "    graph = {}\n",
    "    for b in range(m):\n",
    "        line = input()\n",
    "        line = [int(s) for s in line.split()]\n",
    "        if line[0] not in graph:\n",
    "            graph[line[0]] = {}\n",
    "        graph[line[0]][line[1]] = line[2] + l\n",
    "        if line[1] not in graph:\n",
    "            graph[line[1]] = {}\n",
    "        graph[line[1]][line[0]] = line[2] + l\n",
    "    for c in range(len(graph.keys())):\n",
    "        if c not in graph:\n",
    "            graph[c] = {}\n",
    "    list_nodes = sorted(graph.keys())\n",
    "    dict_mapping = {}\n",
    "    for k, x in enumerate(list_nodes):\n",
    "        dict_mapping[x] = k\n",
    "    list_parents = []\n",
    "    for x in range(len(list_nodes)):\n",
    "        list_parents.append(x)\n",
    "    dict_comp_sizes = {}\n",
    "    for a in list_parents:\n",
    "        dict_comp_sizes[a] = 1\n",
    "    keep_edges = []\n",
    "    root = kruskal(graph)\n",
    "    min_cost = 0\n",
    "    for x in keep_edges:\n",
    "        min_cost += graph[x[0]][x[1]]\n",
    "    print(min_cost)"
   ]
  },
  {
   "cell_type": "code",
   "execution_count": 87,
   "metadata": {},
   "outputs": [
    {
     "data": {
      "text/plain": [
       "[(1, 4), (2, 3), (1, 2)]"
      ]
     },
     "execution_count": 87,
     "metadata": {},
     "output_type": "execute_result"
    }
   ],
   "source": [
    "keep_edges"
   ]
  },
  {
   "cell_type": "code",
   "execution_count": 71,
   "metadata": {},
   "outputs": [
    {
     "data": {
      "text/plain": [
       "{1: {2: 4, 3: 8, 4: 1}, 2: {3: 2, 4: 5}, 3: {4: 20}}"
      ]
     },
     "execution_count": 71,
     "metadata": {},
     "output_type": "execute_result"
    }
   ],
   "source": [
    "1\n",
    "4 6 10 1\n",
    "3\n",
    "1 2 4\n",
    "1 3 8\n",
    "1 4 1\n",
    "2 3 2\n",
    "2 4 5\n",
    "3 4 20"
   ]
  },
  {
   "cell_type": "code",
   "execution_count": null,
   "metadata": {},
   "outputs": [],
   "source": [
    "'1 2 4', '1 3 8', '1 4 1', '2 3 2', '2 4 5', '3 4 20'"
   ]
  },
  {
   "cell_type": "code",
   "execution_count": null,
   "metadata": {},
   "outputs": [],
   "source": []
  },
  {
   "cell_type": "code",
   "execution_count": null,
   "metadata": {},
   "outputs": [],
   "source": []
  },
  {
   "cell_type": "code",
   "execution_count": null,
   "metadata": {},
   "outputs": [],
   "source": []
  },
  {
   "cell_type": "code",
   "execution_count": 158,
   "metadata": {},
   "outputs": [],
   "source": [
    "def get_max_util(ss, se, qs, qe, si):\n",
    "    #        Three Cases to consider\n",
    "    #        Case 1: If qs and qe are complteley overalap with ss and se\n",
    "    #        then return the value either segment tree at st[si] or st[se]\n",
    "    if ss >= qs and se <= qe:\n",
    "        return list_seg_tree[si]\n",
    "    #        Case 2: if qs and qe are completely outside then return inf\n",
    "    if qe < ss or se < qs:\n",
    "        return -1 * float('inf')\n",
    "    #        Case 3: Partially overlap\n",
    "    l_low = ss\n",
    "    l_high = (ss + se) // 2\n",
    "    r_low = l_high + 1\n",
    "    r_high = se\n",
    "    return max(get_max_util(l_low, l_high, qs, qe, si * 2 + 1), get_min_util(r_low, r_high, qs, qe, si * 2 + 2))\n",
    "    #        Recurse to the left chold at si and right child at si and \n",
    "    #        return the min of those values"
   ]
  },
  {
   "cell_type": "markdown",
   "metadata": {},
   "source": [
    "Q1)Highway\n",
    "A number of cities are connected by a network of highways. Each highway is bidirectional and connects two cities, with a\n",
    "given travel time. What is the shortest time to get from a given city to another given city?\n",
    "Input\n",
    "The first line of input contains the number of test cases.\n",
    "Each test case starts with a line containing the number of cities n (2 ≤ n ≤ 100000), the number of highways m (1 ≤ m ≤\n",
    "100000), the starting city and the ending city. Cities are numbered from 1 to n.\n",
    "Then m lines follow, each describing one highway. The description consists of the two distinct city numbers and the time\n",
    "in minutes to travel along the highway. The time will be between 1 and 1000.\n",
    "Output\n",
    "For each test case output a single line containing the minimum time it takes to get from the start to the destination. If no\n",
    "connection exists, output NONE."
   ]
  },
  {
   "cell_type": "code",
   "execution_count": 16,
   "metadata": {},
   "outputs": [
    {
     "name": "stdout",
     "output_type": "stream",
     "text": [
      "2\n",
      "4 2 1 4\n",
      "1 2 5\n",
      "3 4 5\n",
      "NONE\n",
      "4 4 1 4\n",
      "1 2 5\n",
      "2 3 5\n",
      "3 4 5\n",
      "4 2 6\n",
      "11\n"
     ]
    }
   ],
   "source": [
    "def find_min_node(costs, visited):\n",
    "    minimum_node = None\n",
    "    minimum_cost = float('inf')\n",
    "    for x in costs.keys():\n",
    "        if x not in visited and costs[x] < minimum_cost:\n",
    "            minimum_node = x\n",
    "            minimum_cost = costs[x]\n",
    "    return minimum_node\n",
    "a = int(input())\n",
    "for x in range(a):\n",
    "    line = input()\n",
    "    line = [int(s) for s in line.split()]\n",
    "    n = line[0]\n",
    "    m = line[1]\n",
    "    start = line[2]\n",
    "    end = line[3]\n",
    "    graph = {}\n",
    "    for b in range(m):\n",
    "        line = input()\n",
    "        line = list1[b]\n",
    "        line = [int(s) for s in line.split()]\n",
    "        if line[0] not in graph:\n",
    "            graph[line[0]] = {}\n",
    "        graph[line[0]][line[1]] = line[2]\n",
    "        if line[1] not in graph:\n",
    "            graph[line[1]] = {}\n",
    "        graph[line[1]][line[0]] = line[2]\n",
    "    for b in range(1, n + 1):\n",
    "        if b not in graph:\n",
    "            graph[b] = {}\n",
    "    list_nodes = sorted(list(graph.keys()))\n",
    "    costs = {}\n",
    "    for x in graph.keys():\n",
    "        if x == start:\n",
    "            costs[x] = 0\n",
    "        else:\n",
    "            costs[x] = float('inf')\n",
    "    parents = {}\n",
    "    parents[start] = None\n",
    "    visited = []\n",
    "    while True:\n",
    "        min_node = find_min_node(costs, visited) \n",
    "        if min_node == None:\n",
    "            break\n",
    "        visited.append(min_node)\n",
    "        for x in graph[min_node].keys():\n",
    "            c = costs[min_node] + graph[min_node][x]\n",
    "            if c < costs[x]:\n",
    "                costs[x] = c\n",
    "                parents[x] = min_node\n",
    "    if costs[end] == float('inf'):\n",
    "        print('NONE')\n",
    "    else:\n",
    "        print(costs[end])"
   ]
  },
  {
   "cell_type": "code",
   "execution_count": null,
   "metadata": {},
   "outputs": [],
   "source": [
    "2\n",
    "4 2 1 4\n",
    "1 2 5\n",
    "3 4 5\n",
    "4 4 1 4\n",
    "1 2 5\n",
    "2 3 5\n",
    "3 4 5\n",
    "4 2 6"
   ]
  },
  {
   "cell_type": "code",
   "execution_count": 43,
   "metadata": {},
   "outputs": [
    {
     "name": "stdout",
     "output_type": "stream",
     "text": [
      "[0, 1, 3, 2, 4]\n"
     ]
    }
   ],
   "source": [
    "visited = []\n",
    "def dfs(node):\n",
    "    if node not in visited:\n",
    "        visited.append(node)\n",
    "        neighbours = graph[node]\n",
    "        for x in neighbours:\n",
    "            dfs(x)\n",
    "dfs(0)\n",
    "print(visited)"
   ]
  },
  {
   "cell_type": "code",
   "execution_count": 42,
   "metadata": {},
   "outputs": [
    {
     "name": "stdout",
     "output_type": "stream",
     "text": [
      "{0: [1, 2], 1: [0, 3, 4], 2: [0, 3], 3: [1, 2, 4], 4: [1, 3], 5: [6, 7], 6: [5, 8], 7: [5, 8], 8: [6, 7]}\n"
     ]
    }
   ],
   "source": [
    "graph = {}\n",
    "graph[0] = [1, 2]\n",
    "graph[1] = [0, 3, 4]\n",
    "graph[2] = [0, 3]\n",
    "graph[3] = [1, 2, 4]\n",
    "graph[4] = [1, 3]\n",
    "graph[5] = [6, 7]\n",
    "graph[6] = [5, 8]\n",
    "graph[7] = [5, 8]\n",
    "graph[8] = [6, 7]\n",
    "print(graph)"
   ]
  },
  {
   "cell_type": "code",
   "execution_count": 91,
   "metadata": {},
   "outputs": [
    {
     "name": "stdout",
     "output_type": "stream",
     "text": [
      "10 3\n",
      "3 8\n",
      "2 8\n",
      "3 4\n",
      "3 2\n",
      "unknown\n"
     ]
    }
   ],
   "source": [
    "def dfs(graph, node):\n",
    "    if node not in visited:\n",
    "        visited.append(node)\n",
    "        neighbours = graph[node]\n",
    "        for x in neighbours:\n",
    "            dfs(graph, x)\n",
    "\n",
    "line = input()\n",
    "line = line.split(' ')\n",
    "n = int(line[0])\n",
    "m = int(line[1])\n",
    "graph = {}\n",
    "\n",
    "for a in range(1, n + 1):\n",
    "    if a not in graph:\n",
    "        graph[a] = []\n",
    "for x in range(m):\n",
    "    line = input()\n",
    "    line = line.split(' ')\n",
    "    graph[int(line[0])].append(int(line[1]))\n",
    "line = input()\n",
    "line = line.split(' ')\n",
    "visited = []\n",
    "dfs(graph, int(line[0]))\n",
    "if int(line[1]) in visited:\n",
    "    print('yes')\n",
    "else:\n",
    "    visited = []\n",
    "    dfs(graph, int(line[1]))\n",
    "    if int(line[0]) in visited:\n",
    "        print('no')\n",
    "    else:\n",
    "        print('unknown')"
   ]
  },
  {
   "cell_type": "markdown",
   "metadata": {},
   "source": [
    "## Graph algorithms review"
   ]
  },
  {
   "cell_type": "markdown",
   "metadata": {},
   "source": [
    "### dijkstra"
   ]
  },
  {
   "cell_type": "code",
   "execution_count": 77,
   "metadata": {},
   "outputs": [
    {
     "data": {
      "text/plain": [
       "11"
      ]
     },
     "execution_count": 77,
     "metadata": {},
     "output_type": "execute_result"
    }
   ],
   "source": [
    "def find_min_node(costs, visited):\n",
    "    minimum_node = None\n",
    "    minimum_cost = float('inf')\n",
    "    for x in costs.keys():\n",
    "        if x not in visited and costs[x] < minimum_cost:\n",
    "            minimum_node = x\n",
    "            minimum_cost = costs[x]\n",
    "    return minimum_node\n",
    "\n",
    "def dijkstra(start_node, end_node, graph):\n",
    "    list_nodes = sorted(list(graph.keys()))\n",
    "    costs = {}\n",
    "    for x in graph.keys():\n",
    "        if x == start_node:\n",
    "            costs[x] = 0\n",
    "        else:\n",
    "            costs[x] = float('inf')\n",
    "    parents = {}\n",
    "    parents[start_node] = None\n",
    "    visited = []\n",
    "    while True:\n",
    "        min_node = find_min_node(costs, visited) \n",
    "        if min_node == None:\n",
    "            break\n",
    "        visited.append(min_node)\n",
    "        for x in graph[min_node].keys():\n",
    "            c = costs[min_node] + graph[min_node][x]\n",
    "            if c < costs[x]:\n",
    "                costs[x] = c\n",
    "                parents[x] = min_node\n",
    "    return costs[end_node]\n",
    "\n",
    "# test case\n",
    "graph = {}\n",
    "graph['A'] = {}\n",
    "graph['A']['B'] = 3\n",
    "graph['A']['C'] = 6\n",
    "graph['B'] = {}\n",
    "graph['B']['C'] = 4\n",
    "graph['B']['D'] = 4\n",
    "graph['B']['E'] = 11\n",
    "graph['C'] = {}\n",
    "graph['C']['D'] = 8\n",
    "graph['D'] = {}\n",
    "graph['D']['E'] = 4\n",
    "graph['D']['F'] = 5\n",
    "graph['D']['G'] = 2\n",
    "graph['E'] = {}\n",
    "graph['E']['H'] = 9\n",
    "graph['F'] = {}\n",
    "graph['F']['H'] = 1\n",
    "graph['G'] = {}\n",
    "graph['G']['H'] = 2\n",
    "graph['H'] = {}\n",
    "dijkstra('A', 'H', graph)"
   ]
  },
  {
   "cell_type": "markdown",
   "metadata": {},
   "source": [
    "### prim's algorithm"
   ]
  },
  {
   "cell_type": "code",
   "execution_count": 78,
   "metadata": {},
   "outputs": [
    {
     "data": {
      "text/plain": [
       "12"
      ]
     },
     "execution_count": 78,
     "metadata": {},
     "output_type": "execute_result"
    }
   ],
   "source": [
    "#prim\n",
    "def find_min_node(visited):\n",
    "    min_cost = float('inf')\n",
    "    min_node = None\n",
    "    for x in visited:\n",
    "        for y in graph[x].keys():\n",
    "            if y not in visited:\n",
    "                if min_cost > graph[x][y]:\n",
    "                    min_cost = graph[x][y]\n",
    "                    min_node = y\n",
    "                    parent = x\n",
    "    parents[min_node] = parent\n",
    "    return min_node, min_cost, parent\n",
    "\n",
    "def prim(graph, start_node):\n",
    "    start_node = list(graph.keys())[0]\n",
    "    visited = [start_node]\n",
    "    parents = {start_node : None}\n",
    "    total_cost = 0\n",
    "    while len(visited) != len(graph.keys()):\n",
    "        min_node, min_cost, parent = find_min_node(visited)\n",
    "        if min_node == None:\n",
    "            break\n",
    "        visited.append(min_node)\n",
    "        total_cost += min_cost\n",
    "    return total_cost\n",
    "\n",
    "# test\n",
    "graph = {}\n",
    "graph['A'] = {}\n",
    "graph['A']['B'] = 8\n",
    "graph['A']['C'] = 6\n",
    "graph['A']['D'] = 5\n",
    "graph['B'] = {}\n",
    "graph['B']['A'] = 8\n",
    "graph['B']['D'] = 4\n",
    "graph['C'] = {}\n",
    "graph['C']['A'] = 6\n",
    "graph['C']['D'] = 3\n",
    "graph['D'] = {}\n",
    "graph['D']['A'] = 5\n",
    "graph['D']['B'] = 4\n",
    "graph['D']['C'] = 3\n",
    "prim(graph, 'A')"
   ]
  },
  {
   "cell_type": "markdown",
   "metadata": {},
   "source": [
    "### DFS"
   ]
  },
  {
   "cell_type": "code",
   "execution_count": 79,
   "metadata": {},
   "outputs": [
    {
     "name": "stdout",
     "output_type": "stream",
     "text": [
      "[0, 1, 3, 2, 4]\n"
     ]
    }
   ],
   "source": [
    "# note: need to define a global list: visited=[]\n",
    "def dfs(graph, node):\n",
    "    if node not in visited:\n",
    "        visited.append(node)\n",
    "        neighbours = graph[node]\n",
    "        for x in neighbours:\n",
    "            dfs(graph, x)\n",
    "\n",
    "# test\n",
    "graph = {}\n",
    "graph[0] = [1, 2]\n",
    "graph[1] = [0, 3, 4]\n",
    "graph[2] = [0, 3]\n",
    "graph[3] = [1, 2, 4]\n",
    "graph[4] = [1, 3]\n",
    "graph[5] = [6, 7]\n",
    "graph[6] = [5, 8]\n",
    "graph[7] = [5, 8]\n",
    "graph[8] = [6, 7]\n",
    "\n",
    "visited = []\n",
    "dfs(graph, 0)\n",
    "print(visited)"
   ]
  },
  {
   "cell_type": "markdown",
   "metadata": {},
   "source": [
    "### BFS"
   ]
  },
  {
   "cell_type": "code",
   "execution_count": 89,
   "metadata": {},
   "outputs": [
    {
     "name": "stdout",
     "output_type": "stream",
     "text": [
      "['1', '3', '2']\n"
     ]
    }
   ],
   "source": [
    "def bfs(start_node, end_node, graph):\n",
    "    visited = []\n",
    "    paths = []\n",
    "    paths.append([start_node])\n",
    "    while paths:\n",
    "        current_path = paths.pop(0)\n",
    "        current_node = current_path[-1]\n",
    "        if current_node not in visited:\n",
    "            visited.append(current_node)\n",
    "            neighbors = graph[current_node]\n",
    "            for node in neighbors:\n",
    "                path = current_path + [node]\n",
    "                if path[-1] == end_node:\n",
    "                    return path\n",
    "                else:\n",
    "                    paths.append(path)\n",
    "    return None\n",
    "\n",
    "# test case\n",
    "graph = {'2': ['1'], '3': ['2'], '1': ['3'], '11': ['10'], '10': ['100'], '100': ['11']}\n",
    "shortest_path = bfs('1', '2', graph)\n",
    "print(shortest_path)"
   ]
  },
  {
   "cell_type": "code",
   "execution_count": null,
   "metadata": {},
   "outputs": [],
   "source": []
  }
 ],
 "metadata": {
  "kernelspec": {
   "display_name": "Python 3",
   "language": "python",
   "name": "python3"
  },
  "language_info": {
   "codemirror_mode": {
    "name": "ipython",
    "version": 3
   },
   "file_extension": ".py",
   "mimetype": "text/x-python",
   "name": "python",
   "nbconvert_exporter": "python",
   "pygments_lexer": "ipython3",
   "version": "3.7.1"
  }
 },
 "nbformat": 4,
 "nbformat_minor": 2
}
