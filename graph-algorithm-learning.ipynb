{
 "cells": [
  {
   "cell_type": "markdown",
   "metadata": {},
   "source": [
    "## depth first search (DFS)"
   ]
  },
  {
   "cell_type": "code",
   "execution_count": 151,
   "metadata": {},
   "outputs": [
    {
     "name": "stdout",
     "output_type": "stream",
     "text": [
      "{0: [1, 2], 1: [0, 3, 4], 2: [0, 3], 3: [1, 2, 4], 4: [1, 3], 5: [6, 7], 6: [5, 8], 7: [5, 8], 8: [6, 7]}\n"
     ]
    }
   ],
   "source": [
    "graph = {}\n",
    "graph[0] = [1, 2]\n",
    "graph[1] = [0, 3, 4]\n",
    "graph[2] = [0, 3]\n",
    "graph[3] = [1, 2, 4]\n",
    "graph[4] = [1, 3]\n",
    "graph[5] = [6, 7]\n",
    "graph[6] = [5, 8]\n",
    "graph[7] = [5, 8]\n",
    "graph[8] = [6, 7]\n",
    "print(graph)"
   ]
  },
  {
   "cell_type": "code",
   "execution_count": 152,
   "metadata": {},
   "outputs": [
    {
     "name": "stdout",
     "output_type": "stream",
     "text": [
      "[0, 1, 3, 2, 4]\n"
     ]
    }
   ],
   "source": [
    "n = len(graph.keys())\n",
    "visited = []\n",
    "def dfs(node):\n",
    "    if node not in visited:\n",
    "        visited.append(node)\n",
    "        neighbours = graph[node]\n",
    "        for x in neighbours:\n",
    "            dfs(x)\n",
    "dfs(0)\n",
    "print(visited)"
   ]
  },
  {
   "cell_type": "markdown",
   "metadata": {},
   "source": [
    "## count number of components using dfs"
   ]
  },
  {
   "cell_type": "code",
   "execution_count": 4,
   "metadata": {},
   "outputs": [
    {
     "name": "stdout",
     "output_type": "stream",
     "text": [
      "[[0, 1, 3, 2, 4], [5, 6, 8, 7]]\n"
     ]
    }
   ],
   "source": [
    "graph = {}\n",
    "graph[0] = [1, 2]\n",
    "graph[1] = [0, 3, 4]\n",
    "graph[2] = [0, 3]\n",
    "graph[3] = [1, 2, 4]\n",
    "graph[4] = [1, 3]\n",
    "graph[5] = [6, 7]\n",
    "graph[6] = [5, 8]\n",
    "graph[7] = [5, 8]\n",
    "graph[8] = [6, 7]\n",
    "n = len(graph.keys())\n",
    "visited = []\n",
    "def dfs(node):\n",
    "    if node not in visited:\n",
    "        visited.append(node)\n",
    "        neighbours = graph[node]\n",
    "        for x in neighbours:\n",
    "            dfs(x)\n",
    "list_r = []\n",
    "for a in graph.keys():\n",
    "    if a not in visited:\n",
    "        visited = []\n",
    "        dfs(a)\n",
    "        list_r.append(visited)\n",
    "print(list_r)"
   ]
  },
  {
   "cell_type": "markdown",
   "metadata": {},
   "source": [
    "## Tree"
   ]
  },
  {
   "cell_type": "markdown",
   "metadata": {},
   "source": [
    "### find the height of a tree"
   ]
  },
  {
   "cell_type": "code",
   "execution_count": 1,
   "metadata": {},
   "outputs": [
    {
     "name": "stdout",
     "output_type": "stream",
     "text": [
      "2\n"
     ]
    }
   ],
   "source": [
    "graph = {}\n",
    "graph[0] = [1, 2]\n",
    "graph[1] = [3, 4]\n",
    "graph[2] = []\n",
    "graph[3] = []\n",
    "graph[4] = []\n",
    "def treeheight(node):\n",
    "    if node == None:\n",
    "        return -1\n",
    "    if graph[node] == []:\n",
    "        return 0\n",
    "    m = 0\n",
    "    for x in graph[node]:\n",
    "        n = treeheight(x)\n",
    "        if n > m:\n",
    "            m = n\n",
    "    return (m + 1)\n",
    "print(treeheight(0))"
   ]
  },
  {
   "cell_type": "markdown",
   "metadata": {},
   "source": [
    "### rooting a tree"
   ]
  },
  {
   "cell_type": "code",
   "execution_count": 6,
   "metadata": {},
   "outputs": [
    {
     "name": "stdout",
     "output_type": "stream",
     "text": [
      "{0: [1], 1: [3], 2: [], 3: [2, 4], 4: []}\n"
     ]
    }
   ],
   "source": [
    "graph = {}\n",
    "graph[0] = [1, 2]\n",
    "graph[1] = [0, 3, 4]\n",
    "graph[2] = [0, 3]\n",
    "graph[3] = [1, 2, 4]\n",
    "graph[4] = [1, 3]\n",
    "graph_2 = {}\n",
    "for a in graph.keys():\n",
    "    graph_2[a] = []\n",
    "root = 0\n",
    "visited = []\n",
    "def build_tree(node):\n",
    "    if node not in visited:\n",
    "        visited.append(node)\n",
    "        for child in graph[node]:\n",
    "            if child not in visited:\n",
    "                graph_2[node].append(child)\n",
    "                build_tree(child)\n",
    "build_tree(root)\n",
    "print(graph_2)"
   ]
  },
  {
   "cell_type": "markdown",
   "metadata": {},
   "source": [
    "### find the centers of an undirected graph"
   ]
  },
  {
   "cell_type": "code",
   "execution_count": 34,
   "metadata": {},
   "outputs": [
    {
     "name": "stdout",
     "output_type": "stream",
     "text": [
      "{1: [2], 2: [1]}\n"
     ]
    }
   ],
   "source": [
    "graph = {}\n",
    "graph[0] = [1]\n",
    "graph[1] = [0, 2, 4]\n",
    "graph[2] = [1, 3, 5]\n",
    "graph[3] = [2]\n",
    "graph[4] = [1, 7]\n",
    "graph[5] = [2, 6]\n",
    "graph[6] = [5]\n",
    "graph[7] = [4]\n",
    "graph_2 = graph.copy()\n",
    "while len(graph_2.keys()) >= 3:\n",
    "    list_cut = []\n",
    "    for x in graph_2.keys():\n",
    "        if len(graph_2[x]) == 1:\n",
    "            list_cut.append(x)\n",
    "    for c in list_cut:\n",
    "        del graph_2[c]\n",
    "    for a in graph_2.keys():\n",
    "        for b in list_cut:\n",
    "            if b in graph_2[a]:\n",
    "                index = graph_2[a].index(b)\n",
    "                graph_2[a] = graph_2[a][:index] + graph_2[a][index + 1:]\n",
    "print(graph_2)"
   ]
  },
  {
   "cell_type": "markdown",
   "metadata": {},
   "source": [
    "### identify if two trees are isomorphic"
   ]
  },
  {
   "cell_type": "code",
   "execution_count": 42,
   "metadata": {},
   "outputs": [
    {
     "name": "stdout",
     "output_type": "stream",
     "text": [
      "{1: [2, 3], 2: [], 3: [4, 5], 4: [], 5: []} {1: [], 2: [], 3: [4, 5], 4: [1, 2], 5: []}\n"
     ]
    }
   ],
   "source": [
    "# check if graph_1 and graph_2 are isomorphic\n",
    "graph_1 = {}\n",
    "graph_1[1] = [2, 3]\n",
    "graph_1[2] = []\n",
    "graph_1[3] = [4, 5]\n",
    "graph_1[4] = []\n",
    "graph_1[5] = []\n",
    "graph_2 = {}\n",
    "graph_2[1] = []\n",
    "graph_2[2] = []\n",
    "graph_2[3] = [4, 5]\n",
    "graph_2[4] = [1, 2]\n",
    "graph_2[5] = []\n",
    "print(graph_1, graph_2)"
   ]
  },
  {
   "cell_type": "code",
   "execution_count": 57,
   "metadata": {},
   "outputs": [],
   "source": [
    "def encode_tree(node, graph):\n",
    "    if graph[node] == []:\n",
    "        return '()'\n",
    "    list1 = []\n",
    "    for x in graph[node]:\n",
    "        list1.append(encode_tree(x, graph))\n",
    "    list1 = sorted(list1, key=lambda x: len(x), reverse = True)\n",
    "    str1 = '('\n",
    "    for a in list1:\n",
    "        str1 += a\n",
    "    str1 += ')'\n",
    "    return str1"
   ]
  },
  {
   "cell_type": "code",
   "execution_count": 58,
   "metadata": {},
   "outputs": [],
   "source": [
    "list_r1 = []\n",
    "list_r2 = []\n",
    "for node in graph_1.keys():\n",
    "    list_r1.append(encode_tree(node, graph_1))\n",
    "for node in graph_2.keys():\n",
    "    list_r2.append(encode_tree(node, graph_2))"
   ]
  },
  {
   "cell_type": "code",
   "execution_count": 59,
   "metadata": {},
   "outputs": [
    {
     "name": "stdout",
     "output_type": "stream",
     "text": [
      "isomorphic\n"
     ]
    }
   ],
   "source": [
    "if sorted(list_r1) == sorted(list_r2):\n",
    "    print('isomorphic')"
   ]
  },
  {
   "cell_type": "markdown",
   "metadata": {},
   "source": [
    "### binary tree"
   ]
  },
  {
   "cell_type": "code",
   "execution_count": null,
   "metadata": {},
   "outputs": [],
   "source": [
    "'''\n",
    "Binary Trees in Python: Introduction and Traversal Algorithms\n",
    "https://www.youtube.com/watch?v=6oL-0TdVy28\n",
    "insertion and search\n",
    "https://www.youtube.com/watch?v=yC83Kp2xig8\n",
    "binary tree: remove a node\n",
    "https://www.youtube.com/watch?v=YlgPi75hIBc&t=299s\n",
    "'''"
   ]
  },
  {
   "cell_type": "markdown",
   "metadata": {},
   "source": [
    "#### create a binary tree and then print pre-order, in-order, and post-order traversal"
   ]
  },
  {
   "cell_type": "code",
   "execution_count": null,
   "metadata": {},
   "outputs": [],
   "source": [
    "'''\n",
    "create a binary tree and then print pre-order, in-order, and post-order traversal\n",
    "            1\n",
    "           / \\\n",
    "          2   3\n",
    "         / \\   \\\n",
    "        4  5    6\n",
    "pre-order(root-left-right): 1-2-4-5-3-6\n",
    "in-order (left-root-right): 4-2-5-1-3-6\n",
    "post-order (left-right-root): 4-5-2-6-3-1\n",
    "'''"
   ]
  },
  {
   "cell_type": "code",
   "execution_count": 95,
   "metadata": {
    "scrolled": true
   },
   "outputs": [],
   "source": [
    "def pre_order(node):\n",
    "    if graph[node] == [None, None]:\n",
    "        return [node]\n",
    "    if graph[node][0] != None:\n",
    "        left = pre_order(graph[node][0])\n",
    "    else:\n",
    "        left = []\n",
    "    if graph[node][1] != None:\n",
    "        right = pre_order(graph[node][1])\n",
    "    else:\n",
    "        right = []\n",
    "    return [node] + left + right"
   ]
  },
  {
   "cell_type": "code",
   "execution_count": 96,
   "metadata": {},
   "outputs": [],
   "source": [
    "def in_order(node):\n",
    "    if graph[node] == [None, None]:\n",
    "        return [node]\n",
    "    if graph[node][0] != None:\n",
    "        left = in_order(graph[node][0])\n",
    "    else:\n",
    "        left = []\n",
    "    if graph[node][1] != None:\n",
    "        right = in_order(graph[node][1])\n",
    "    else:\n",
    "        right = []\n",
    "    return left + [node] + right"
   ]
  },
  {
   "cell_type": "code",
   "execution_count": 97,
   "metadata": {},
   "outputs": [],
   "source": [
    "def post_order(node):\n",
    "    if graph[node] == [None, None]:\n",
    "        return [node]\n",
    "    if graph[node][0] != None:\n",
    "        left = post_order(graph[node][0])\n",
    "    else:\n",
    "        left = []\n",
    "    if graph[node][1] != None:\n",
    "        right = post_order(graph[node][1])\n",
    "    else:\n",
    "        right = []\n",
    "    return left + right + [node]"
   ]
  },
  {
   "cell_type": "code",
   "execution_count": 98,
   "metadata": {},
   "outputs": [
    {
     "name": "stdout",
     "output_type": "stream",
     "text": [
      "Pre-order: [1, 2, 4, 5, 3, 6]\n",
      "In-order: [4, 2, 5, 1, 3, 6]\n",
      "Post-order: [4, 5, 2, 6, 3, 1]\n"
     ]
    }
   ],
   "source": [
    "graph = {}\n",
    "graph[1] = [2, 3]\n",
    "graph[2] = [4, 5]\n",
    "graph[3] = [None, 6]\n",
    "graph[4] = [None, None]\n",
    "graph[5] = [None, None]\n",
    "graph[6] = [None, None]\n",
    "print('Pre-order:', pre_order(1))\n",
    "print('In-order:', in_order(1))\n",
    "print('Post-order:', post_order(1))"
   ]
  },
  {
   "cell_type": "markdown",
   "metadata": {},
   "source": [
    "#### binary search tree, insert data"
   ]
  },
  {
   "cell_type": "code",
   "execution_count": 209,
   "metadata": {},
   "outputs": [
    {
     "name": "stdout",
     "output_type": "stream",
     "text": [
      "{5: [3, 6], 3: [2, 4], 6: [None, 9], 4: [None, None], 2: [1, None], 1: [None, None], 9: [8, None], 8: [None, None]}\n"
     ]
    }
   ],
   "source": [
    "# build a binary search tree using the list below, insert node one by one\n",
    "list_data = [5, 3, 6, 4, 2, 1, 9, 8]\n",
    "graph = {}\n",
    "root = list_data[0]\n",
    "graph[root] = [None, None]\n",
    "for insert_data in list_data[1:]:\n",
    "    done=0\n",
    "    root = list_data[0]\n",
    "    while True:\n",
    "        while insert_data<root:\n",
    "            if graph[root][0] == None:\n",
    "                graph[root][0] = insert_data\n",
    "                graph[insert_data] = [None, None]\n",
    "                done = 1\n",
    "                break\n",
    "            root = graph[root][0]\n",
    "        while root!=None and insert_data>root:\n",
    "            if graph[root][1] == None:\n",
    "                graph[root][1] = insert_data\n",
    "                graph[insert_data] = [None, None]\n",
    "                done = 1\n",
    "                break\n",
    "            root = graph[root][1]\n",
    "        if done==1:\n",
    "            break\n",
    "print(graph)"
   ]
  },
  {
   "cell_type": "markdown",
   "metadata": {},
   "source": [
    "#### binary search tree: find the min and max item"
   ]
  },
  {
   "cell_type": "code",
   "execution_count": 222,
   "metadata": {},
   "outputs": [
    {
     "name": "stdout",
     "output_type": "stream",
     "text": [
      "1\n",
      "9\n"
     ]
    }
   ],
   "source": [
    "graph = {5: [3, 6], 3: [2, 4], 6: [None, 9], 4: [None, None], 2: [1, None], 1: [None, None], 9: [8, None], 8: [None, None]}\n",
    "root = 5\n",
    "amin = float('inf')\n",
    "amax = float('-inf')\n",
    "while True:\n",
    "    if graph[root][0] == None:\n",
    "        break\n",
    "    if graph[root][0] < amin:\n",
    "        root = graph[root][0]\n",
    "        amin = root\n",
    "print(amin)\n",
    "root = 5\n",
    "while True:\n",
    "    if graph[root][1] == None:\n",
    "        break\n",
    "    if graph[root][1] > amax:\n",
    "        root = graph[root][1]\n",
    "        amax = root\n",
    "print(amax)"
   ]
  },
  {
   "cell_type": "code",
   "execution_count": 225,
   "metadata": {},
   "outputs": [
    {
     "name": "stdout",
     "output_type": "stream",
     "text": [
      "1\n",
      "9\n"
     ]
    }
   ],
   "source": [
    "graph = {5: [3, 6], 3: [2, 4], 6: [None, 9], 4: [None, None], 2: [1, None], 1: [None, None], 9: [8, None], 8: [None, None]}\n",
    "root = 5\n",
    "def find_min(node):\n",
    "    if graph[node][0] == None:\n",
    "        return node\n",
    "    return find_min(graph[node][0])\n",
    "print(find_min(root))\n",
    "def find_max(node):\n",
    "    if graph[node][1] == None:\n",
    "        return node\n",
    "    return find_max(graph[node][1])\n",
    "print(find_max(root))"
   ]
  },
  {
   "cell_type": "markdown",
   "metadata": {},
   "source": [
    "#### binary search tree: seach for a data item"
   ]
  },
  {
   "cell_type": "code",
   "execution_count": 235,
   "metadata": {},
   "outputs": [
    {
     "name": "stdout",
     "output_type": "stream",
     "text": [
      "Found it!\n"
     ]
    }
   ],
   "source": [
    "graph = {5: [3, 6], 3: [2, 4], 6: [None, 9], 4: [None, None], 2: [1, None], 1: [None, None], 9: [8, None], 8: [None, None]}\n",
    "find = 8\n",
    "root = 5\n",
    "while True:\n",
    "    if find < root:\n",
    "        if graph[root][0] == None:\n",
    "            print('Did not find the element')\n",
    "            break\n",
    "        root = graph[root][0]\n",
    "        continue\n",
    "    if find > root:\n",
    "        if graph[root][1] == None:\n",
    "            print('Did not find the element')\n",
    "            break\n",
    "        root = graph[root][1]\n",
    "        continue\n",
    "    else:\n",
    "        print('Found it!')\n",
    "        break"
   ]
  },
  {
   "cell_type": "markdown",
   "metadata": {},
   "source": [
    "#### binary search tree, remove a data item"
   ]
  },
  {
   "cell_type": "code",
   "execution_count": 35,
   "metadata": {},
   "outputs": [],
   "source": [
    "def find_min(node):\n",
    "    if graph[node][0] == None:\n",
    "        return node\n",
    "    return find_min(graph[node][0])\n",
    "\n",
    "def delete_leaf(root, node, graph):\n",
    "    if graph[node] == [None, None]:\n",
    "        graph.pop(node)\n",
    "        index = graph[parents[node]].index(node)\n",
    "        graph[parents[node]][index] = None\n",
    "        return graph \n",
    "    return \"Invalid\"\n",
    "\n",
    "def delete_sigle_child_node(root, node, graph):\n",
    "    if graph[node][0] == None:\n",
    "        index = graph[parents[node]].index(node)\n",
    "        graph[parents[node]][index] = graph[node][1]\n",
    "        graph.pop(node)\n",
    "        return graph\n",
    "    if graph[node][1] == None:\n",
    "        index = graph[parents[node]].index(node)\n",
    "        graph[parents[node]][index] = graph[node][0]\n",
    "        graph.pop(node)\n",
    "        return graph\n",
    "    return \"Invalid\"\n",
    "\n",
    "def delete_node(root, node, graph):\n",
    "    if graph[node] == [None, None]:\n",
    "        return delete_leaf(root, node, graph)\n",
    "    if graph[node][0] == None or graph[node][1] == None:\n",
    "        return delete_sigle_child_node(root, node, graph)\n",
    "    \n",
    "    # find the min from right sub-tree\n",
    "    temp = find_min(graph[node][1])\n",
    "    # deletet the min-node\n",
    "    if graph[temp] == [None, None]:\n",
    "        graph = delete_leaf(root, temp, graph)\n",
    "    else:\n",
    "        if graph[temp][0] == None or graph[temp][1] == None:\n",
    "            graph = delete_sigle_child_node(root, temp, graph) \n",
    "    # repalce node with min-node\n",
    "    p = parents[node]\n",
    "    index = graph[p].index(node)\n",
    "    graph[p][index] = temp\n",
    "    graph[temp] = graph[node]\n",
    "    graph.pop(node)\n",
    "    \n",
    "    return graph"
   ]
  },
  {
   "cell_type": "code",
   "execution_count": 36,
   "metadata": {},
   "outputs": [
    {
     "name": "stdout",
     "output_type": "stream",
     "text": [
      "{5: [3, 6], 3: [2, 4], 6: [5.5, 9], 4: [None, None], 2: [1, None], 1: [None, None], 9: [8, None], 8: [None, None], 5.5: [None, None]}\n",
      "{3: 5, 6: 5, 2: 3, 4: 3, 5.5: 6, 9: 6, 1: 2, 8: 9}\n"
     ]
    }
   ],
   "source": [
    "graph = {5: [3, 6], 3: [2, 4], 6: [5.5, 9], 4: [None, None], 2: [1, None], 1: [None, None], 9: [8, None], 8: [None, None], 5.5: [None, None]}\n",
    "parents = {}\n",
    "print(graph)\n",
    "for node in graph.keys():\n",
    "    list_children = graph[node]\n",
    "    for child in list_children:\n",
    "        if child != None:\n",
    "            if child not in parents:\n",
    "                parents[child] = node\n",
    "print(parents)"
   ]
  },
  {
   "cell_type": "code",
   "execution_count": 38,
   "metadata": {},
   "outputs": [
    {
     "name": "stdout",
     "output_type": "stream",
     "text": [
      "{5: [3, 8], 3: [2, None], 2: [1, None], 1: [None, None], 9: [None, None], 5.5: [None, None], 8: [5.5, 9]}\n"
     ]
    }
   ],
   "source": [
    "graph = delete_node(5, 6, graph)\n",
    "print(graph)"
   ]
  },
  {
   "cell_type": "markdown",
   "metadata": {},
   "source": [
    "### Lowest Common Ancestor"
   ]
  },
  {
   "cell_type": "code",
   "execution_count": 122,
   "metadata": {},
   "outputs": [],
   "source": [
    "graph = {5: [3, 6], 3: [2, 4], 6: [None, 9], 4: [None, None], 2: [1, None], 1: [None, None], 9: [8, None], 8: [None, None]}"
   ]
  },
  {
   "cell_type": "code",
   "execution_count": 132,
   "metadata": {},
   "outputs": [
    {
     "name": "stdout",
     "output_type": "stream",
     "text": [
      "[4, 3, 5] [1, 2, 3, 5]\n"
     ]
    },
    {
     "data": {
      "text/plain": [
       "3"
      ]
     },
     "execution_count": 132,
     "metadata": {},
     "output_type": "execute_result"
    }
   ],
   "source": [
    "def get_ancestors(node, root):\n",
    "    list1 = []\n",
    "    while root != None:\n",
    "        list1.append(root)\n",
    "        if node == root:\n",
    "            return list1[::-1]\n",
    "        if node < root:\n",
    "            root = graph[root][0]\n",
    "        else:\n",
    "            root = graph[root][1]\n",
    "    return []\n",
    "\n",
    "def lca(node1, node2, root):\n",
    "    list1 = get_ancestors(node1, root)\n",
    "    list2 = get_ancestors(node2, root)\n",
    "    if list1 == [] or list2 == []:\n",
    "        return 'Not in graph'\n",
    "    print(list1, list2)\n",
    "    for x in list1:\n",
    "        if x in list2:\n",
    "            return x\n",
    "lca(4, 1, 5)"
   ]
  },
  {
   "cell_type": "markdown",
   "metadata": {},
   "source": [
    "### binary search tree using node\n",
    "#### https://www.youtube.com/watch?v=yC83Kp2xig8&t=558s"
   ]
  },
  {
   "cell_type": "code",
   "execution_count": 165,
   "metadata": {
    "scrolled": false
   },
   "outputs": [
    {
     "name": "stdout",
     "output_type": "stream",
     "text": [
      "5-3-2-1-8-6-9\n",
      "1-2-3-5-6-8-9\n",
      "1-2-3-6-9-8-5\n",
      "True\n",
      "False\n",
      "4\n",
      "4\n",
      "2\n",
      "1\n",
      "9\n"
     ]
    }
   ],
   "source": [
    "class Node(object):\n",
    "    def __init__(self, data):\n",
    "        self.data = data\n",
    "        self.left = None\n",
    "        self.right = None\n",
    "class Binary_tree(object):\n",
    "    def __init__(self):\n",
    "        self.root = None\n",
    "        \n",
    "    def _insert_node(self, node, data):\n",
    "        if data < node.data:\n",
    "            if node.left == None:\n",
    "                node.left = Node(data)\n",
    "            else:\n",
    "                self._insert_node(node.left, data)\n",
    "        elif data > node.data:\n",
    "            if node.right == None:\n",
    "                node.right = Node(data)\n",
    "            else:\n",
    "                self._insert_node(node.right, data)\n",
    "        else:\n",
    "            print('Already exists')\n",
    "    def insert_node(self, data):\n",
    "        if self.root == None:\n",
    "            self.root = Node(data)\n",
    "        else:\n",
    "            self._insert_node(self.root, data)\n",
    "            \n",
    "    def pre_order(self, node):\n",
    "        if node==None:\n",
    "            return []\n",
    "        return [node.data] + self.pre_order(node.left) + self.pre_order(node.right)\n",
    "    \n",
    "    def in_order(self, node):\n",
    "        if node==None:\n",
    "            return []\n",
    "        return self.in_order(node.left) + [node.data] + self.in_order(node.right)\n",
    "    \n",
    "    def post_order(self, node):\n",
    "        if node==None:\n",
    "            return []\n",
    "        return self.post_order(node.left) + self.post_order(node.right) + [node.data]\n",
    "    \n",
    "    def print_tree(self, order):\n",
    "        if order not in [0, 1, 2]:\n",
    "            print('order should be 0, 1, or 2')\n",
    "        else:\n",
    "            if order==0:\n",
    "                list_nodes = self.pre_order(self.root)\n",
    "            elif order==1:\n",
    "                list_nodes = self.in_order(self.root) \n",
    "            else:\n",
    "                list_nodes = self.post_order(self.root) \n",
    "            list_nodes = [str(s) for s in list_nodes]\n",
    "            print('-'.join(list_nodes))\n",
    "    def find(self, data):\n",
    "        root = self.root\n",
    "        while root != None:\n",
    "            if data == root.data:\n",
    "                print(True)\n",
    "                break\n",
    "            elif data < root.data:\n",
    "                root = root.left\n",
    "            else:\n",
    "                root = root.right\n",
    "        if root == None:   \n",
    "            print(False)\n",
    "    def height(self):\n",
    "        root = self.root\n",
    "        print(self._height(root))\n",
    "    def _height(self, node):\n",
    "        if node == None:\n",
    "            return 0\n",
    "        else:\n",
    "            return max(self._height(node.left), self._height(node.right)) + 1\n",
    "    def height2(self, root):\n",
    "        if root == None:\n",
    "            return 0\n",
    "        else:\n",
    "            return max(self.height2(root.left), self.height2(root.right)) + 1\n",
    "    def depth(self, data):\n",
    "        count = 0\n",
    "        root = self.root\n",
    "        while root != None:\n",
    "            if root.data == data:\n",
    "                return count\n",
    "            elif root.data > data:\n",
    "                root = root.left\n",
    "            else:\n",
    "                root = root.right\n",
    "            count += 1\n",
    "        return -1\n",
    "    def depth2(self, data, root, count=0):\n",
    "        if root.data == data:\n",
    "            return count\n",
    "        elif root.data > data:\n",
    "            return self.depth2(data, root.left, count + 1)\n",
    "        else:\n",
    "            return self.depth2(data, root.right, count + 1)\n",
    "    def max_value(self, node):\n",
    "        if node.right == None:\n",
    "            return node.data\n",
    "        else:\n",
    "            return self.max_value(node.right)\n",
    "bst_tree = Binary_tree()\n",
    "bst_tree.insert_node(5)\n",
    "bst_tree.insert_node(3)\n",
    "bst_tree.insert_node(8)\n",
    "bst_tree.insert_node(2)\n",
    "bst_tree.insert_node(1)\n",
    "bst_tree.insert_node(9)\n",
    "bst_tree.insert_node(6)\n",
    "bst_tree.print_tree(0)\n",
    "bst_tree.print_tree(1)\n",
    "bst_tree.print_tree(2)\n",
    "bst_tree.find(6)\n",
    "bst_tree.find(-1)\n",
    "bst_tree.height()\n",
    "print(bst_tree.height2(bst_tree.root))\n",
    "print(bst_tree.depth(6))\n",
    "print(bst_tree.depth2(8, bst_tree.root))\n",
    "print(bst_tree.max_value(bst_tree.root))"
   ]
  },
  {
   "cell_type": "markdown",
   "metadata": {},
   "source": [
    "### heap"
   ]
  },
  {
   "cell_type": "code",
   "execution_count": null,
   "metadata": {},
   "outputs": [],
   "source": [
    "'''\n",
    "heap animation\n",
    "https://www.youtube.com/watch?v=AE5I0xACpZs\n",
    "heap series\n",
    "https://www.youtube.com/watch?v=WCm3TqScBM8&list=PLSVu1-lON6Lwqj5nDqg8YyD7f4tjLMMBN\n",
    "heap using python library\n",
    "https://www.youtube.com/watch?v=3Z8QDJynDgo\n",
    "'''"
   ]
  },
  {
   "cell_type": "code",
   "execution_count": 39,
   "metadata": {},
   "outputs": [],
   "source": [
    "import heapq"
   ]
  },
  {
   "cell_type": "markdown",
   "metadata": {},
   "source": [
    "## topological sort"
   ]
  },
  {
   "cell_type": "code",
   "execution_count": 221,
   "metadata": {},
   "outputs": [
    {
     "data": {
      "text/plain": [
       "''"
      ]
     },
     "execution_count": 221,
     "metadata": {},
     "output_type": "execute_result"
    }
   ],
   "source": [
    "\"\"\"\n",
    "https://www.youtube.com/watch?v=eL-KzMXSXXI&list=PLDV1Zeh2NRsDGO4--qE8yH72HFL1Km93P&index=15\n",
    "\"\"\""
   ]
  },
  {
   "cell_type": "code",
   "execution_count": 237,
   "metadata": {},
   "outputs": [],
   "source": [
    "graph = {'A' : ['D'], 'B' : ['D'], 'C' : ['A', 'B'], 'D' : [], 'E' : ['A', 'D']}\n",
    "list_nodes = graph.keys()"
   ]
  },
  {
   "cell_type": "code",
   "execution_count": 238,
   "metadata": {},
   "outputs": [],
   "source": [
    "def dfs(start_node):\n",
    "    if start_node not in visited:\n",
    "        visited.append(start_node)\n",
    "        for x in graph[start_node]:\n",
    "            dfs(x)"
   ]
  },
  {
   "cell_type": "code",
   "execution_count": 242,
   "metadata": {},
   "outputs": [
    {
     "name": "stdout",
     "output_type": "stream",
     "text": [
      "['A', 'D', 'B', 'C', 'E']\n"
     ]
    }
   ],
   "source": [
    "visited2 = []\n",
    "for node in list_nodes:\n",
    "    if node not in visited2:\n",
    "        visited = []\n",
    "        dfs(node)\n",
    "        for s in visited:\n",
    "            if s not in visited2:\n",
    "                visited2.append(s)\n",
    "print(visited2)"
   ]
  },
  {
   "cell_type": "markdown",
   "metadata": {},
   "source": [
    "## shortest path to all nodes using topological sort"
   ]
  },
  {
   "cell_type": "code",
   "execution_count": 14,
   "metadata": {},
   "outputs": [
    {
     "name": "stdout",
     "output_type": "stream",
     "text": [
      "['A', 'B', 'C', 'D', 'E', 'H', 'F', 'G']\n"
     ]
    }
   ],
   "source": [
    "def dfs(start_node):\n",
    "    if start_node not in visited:\n",
    "        visited.append(start_node)\n",
    "        for x in graph[start_node].keys():\n",
    "            dfs(x)\n",
    "\n",
    "graph = {}\n",
    "graph['A'] = {}\n",
    "graph['A']['B'] = 3\n",
    "graph['A']['C'] = 6\n",
    "graph['B'] = {}\n",
    "graph['B']['C'] = 4\n",
    "graph['B']['D'] = 4\n",
    "graph['B']['E'] = 11\n",
    "graph['C'] = {}\n",
    "graph['C']['D'] = 8\n",
    "graph['D'] = {}\n",
    "graph['D']['E'] = 4\n",
    "graph['D']['F'] = 5\n",
    "graph['D']['G'] = 2\n",
    "graph['E'] = {}\n",
    "graph['E']['H'] = 9\n",
    "graph['F'] = {}\n",
    "graph['F']['H'] = 1\n",
    "graph['G'] = {}\n",
    "graph['G']['H'] = 2\n",
    "graph['H'] = {}\n",
    "\n",
    "visited2 = []\n",
    "list_nodes = graph.keys()\n",
    "for node in list_nodes:\n",
    "    if node not in visited2:\n",
    "        visited = []\n",
    "        dfs(node)\n",
    "        for s in visited:\n",
    "            if s not in visited2:\n",
    "                visited2.append(s)\n",
    "print(visited2)"
   ]
  },
  {
   "cell_type": "code",
   "execution_count": 15,
   "metadata": {},
   "outputs": [
    {
     "name": "stdout",
     "output_type": "stream",
     "text": [
      "{'A': 0, 'B': 3, 'C': 6, 'D': 7, 'E': 11, 'F': 12, 'G': 9, 'H': 11}\n"
     ]
    }
   ],
   "source": [
    "start_node = 'A'\n",
    "costs = {}\n",
    "for x in graph.keys():\n",
    "    if x == start_node:\n",
    "        costs[x] = 0\n",
    "    else:\n",
    "        costs[x] = float('inf')\n",
    "for node in visited2:\n",
    "    neighbours = graph[node].keys()\n",
    "    for a in neighbours:\n",
    "        c = costs[node] + graph[node][a]\n",
    "        if c < costs[a]:\n",
    "            costs[a] = c\n",
    "print(costs)"
   ]
  },
  {
   "cell_type": "markdown",
   "metadata": {},
   "source": [
    "## longest path"
   ]
  },
  {
   "cell_type": "code",
   "execution_count": 250,
   "metadata": {},
   "outputs": [
    {
     "name": "stdout",
     "output_type": "stream",
     "text": [
      "['A', 'B', 'C', 'D', 'E', 'H', 'F', 'G']\n",
      "{'A': 0, 'B': 3, 'C': 7, 'D': 15, 'E': 14, 'F': 20, 'G': 17, 'H': 23}\n"
     ]
    }
   ],
   "source": [
    "def dfs(start_node):\n",
    "    if start_node not in visited:\n",
    "        visited.append(start_node)\n",
    "        for x in graph[start_node].keys():\n",
    "            dfs(x)\n",
    "\n",
    "graph = {}\n",
    "graph['A'] = {}\n",
    "graph['A']['B'] = 3\n",
    "graph['A']['C'] = 6\n",
    "graph['B'] = {}\n",
    "graph['B']['C'] = 4\n",
    "graph['B']['D'] = 4\n",
    "graph['B']['E'] = 11\n",
    "graph['C'] = {}\n",
    "graph['C']['D'] = 8\n",
    "graph['D'] = {}\n",
    "graph['D']['E'] = -4\n",
    "graph['D']['F'] = 5\n",
    "graph['D']['G'] = 2\n",
    "graph['E'] = {}\n",
    "graph['E']['H'] = 9\n",
    "graph['F'] = {}\n",
    "graph['F']['H'] = 1\n",
    "graph['G'] = {}\n",
    "graph['G']['H'] = 2\n",
    "graph['H'] = {}\n",
    "\n",
    "visited2 = []\n",
    "for node in list_nodes:\n",
    "    if node not in visited2:\n",
    "        visited = []\n",
    "        dfs(node)\n",
    "        for s in visited:\n",
    "            if s not in visited2:\n",
    "                visited2.append(s)\n",
    "print(visited2)\n",
    "\n",
    "start_node = 'A'\n",
    "costs = {}\n",
    "for x in graph.keys():\n",
    "    if x == start_node:\n",
    "        costs[x] = 0\n",
    "    else:\n",
    "        costs[x] = float('inf')\n",
    "for node in visited2:\n",
    "    neighbours = graph[node].keys()\n",
    "    for a in neighbours:\n",
    "        c = costs[node] - graph[node][a]\n",
    "        if c < costs[a]:\n",
    "            costs[a] = c\n",
    "for b in costs.keys():\n",
    "    costs[b] *= -1\n",
    "print(costs)"
   ]
  },
  {
   "cell_type": "markdown",
   "metadata": {},
   "source": [
    "## Dijkstra's algorithm"
   ]
  },
  {
   "cell_type": "code",
   "execution_count": 269,
   "metadata": {},
   "outputs": [],
   "source": [
    "def find_min_node(costs, visited):\n",
    "    minimum_node = None\n",
    "    minimum_cost = float('inf')\n",
    "    for x in costs.keys():\n",
    "        if x not in visited and costs[x] < minimum_cost:\n",
    "            minimum_node = x\n",
    "            minimum_cost = costs[x]\n",
    "    return minimum_node\n",
    "\n",
    "graph = {}\n",
    "graph['A'] = {}\n",
    "graph['A']['B'] = 3\n",
    "graph['A']['C'] = 6\n",
    "graph['B'] = {}\n",
    "graph['B']['C'] = 4\n",
    "graph['B']['D'] = 4\n",
    "graph['B']['E'] = 11\n",
    "graph['C'] = {}\n",
    "graph['C']['D'] = 8\n",
    "graph['D'] = {}\n",
    "graph['D']['E'] = 4\n",
    "graph['D']['F'] = 5\n",
    "graph['D']['G'] = 2\n",
    "graph['E'] = {}\n",
    "graph['E']['H'] = 9\n",
    "graph['F'] = {}\n",
    "graph['F']['H'] = 1\n",
    "graph['G'] = {}\n",
    "graph['G']['H'] = 2\n",
    "graph['H'] = {}\n",
    "\n",
    "start_node = 'A'\n",
    "\n",
    "costs = {}\n",
    "for x in graph.keys():\n",
    "    if x == start_node:\n",
    "        costs[x] = 0\n",
    "    else:\n",
    "        costs[x] = float('inf')\n",
    "\n",
    "parents = {}\n",
    "parents[start_node] = None\n",
    "\n",
    "visited = []"
   ]
  },
  {
   "cell_type": "code",
   "execution_count": 271,
   "metadata": {},
   "outputs": [
    {
     "name": "stdout",
     "output_type": "stream",
     "text": [
      "{'A': 0, 'B': 3, 'C': 6, 'D': 7, 'E': 11, 'F': 12, 'G': 9, 'H': 11}\n"
     ]
    }
   ],
   "source": [
    "while True:\n",
    "    min_node = find_min_node(costs, visited) \n",
    "    if min_node == None:\n",
    "        break\n",
    "    visited.append(min_node)\n",
    "    for x in graph[min_node].keys():\n",
    "        c = costs[min_node] + graph[min_node][x]\n",
    "        if c < costs[x]:\n",
    "            costs[x] = c\n",
    "            parents[x] = min_node\n",
    "print(costs)"
   ]
  },
  {
   "cell_type": "markdown",
   "metadata": {},
   "source": [
    "## strongly connected component for undirected graph using DFS"
   ]
  },
  {
   "cell_type": "code",
   "execution_count": 26,
   "metadata": {},
   "outputs": [],
   "source": [
    "graph = {}\n",
    "graph['A'] = ['B', 'C']\n",
    "graph['B'] = ['A', 'D']\n",
    "graph['C'] = ['A', 'D']\n",
    "graph['D'] = ['B', 'C']\n",
    "graph['E'] = ['F']\n",
    "graph['F'] = ['E']"
   ]
  },
  {
   "cell_type": "code",
   "execution_count": 322,
   "metadata": {},
   "outputs": [],
   "source": [
    "# find strongly connected components\n",
    "# expected output: list_output = [['A', 'B', 'C', 'D'], ['E', 'F']]\n"
   ]
  },
  {
   "cell_type": "code",
   "execution_count": 28,
   "metadata": {},
   "outputs": [
    {
     "name": "stdout",
     "output_type": "stream",
     "text": [
      "[['A', 'B', 'D', 'C'], ['E', 'F']]\n"
     ]
    }
   ],
   "source": [
    "def dfs(start_node):\n",
    "    if start_node not in visited2:\n",
    "        visited2.append(start_node)\n",
    "        for x in graph[start_node]:\n",
    "            dfs(x)\n",
    "\n",
    "list1 = []\n",
    "visited1 = []\n",
    "for x in graph.keys():\n",
    "    if x not in visited1:\n",
    "        visited2 = []\n",
    "        dfs(x)\n",
    "        for a in visited2:\n",
    "            visited1.append(a)\n",
    "        list1.append(visited2)\n",
    "print(list1)"
   ]
  },
  {
   "cell_type": "markdown",
   "metadata": {},
   "source": [
    "## strongly connected component for directed graph using Tarjan algorithm"
   ]
  },
  {
   "cell_type": "code",
   "execution_count": 32,
   "metadata": {},
   "outputs": [],
   "source": [
    "graph = {}\n",
    "graph[0] = [1]\n",
    "graph[1] = [2]\n",
    "graph[2] = [0]\n",
    "graph[3] = [4, 7]\n",
    "graph[4] = [5]\n",
    "graph[5] = [0, 6]\n",
    "graph[6] = [0, 2, 4]\n",
    "graph[7] = [3, 5]"
   ]
  },
  {
   "cell_type": "code",
   "execution_count": 38,
   "metadata": {},
   "outputs": [
    {
     "name": "stdout",
     "output_type": "stream",
     "text": [
      "{0: 0, 1: 0, 2: 0, 3: 3, 4: 4, 5: 4, 6: 4, 7: 3}\n"
     ]
    }
   ],
   "source": [
    "def dfs1(start_node):\n",
    "    if start_node not in visited2:\n",
    "        visited2.append(start_node)\n",
    "        for x in graph[start_node]:\n",
    "            dfs1(x)\n",
    "        list1 = []\n",
    "        for a in graph[start_node]:\n",
    "            if a not in visited1:\n",
    "                list1.append(lowlink[a])\n",
    "        lowlink[start_node] = min(list1 + [lowlink[start_node]])\n",
    "\n",
    "visited1 = []\n",
    "lowlink = {}\n",
    "for k in graph.keys():\n",
    "    lowlink[k] = k\n",
    "for x in graph.keys():\n",
    "    if x not in visited1:\n",
    "        visited2 = []\n",
    "        dfs1(x)\n",
    "        for a in visited2:\n",
    "            visited1.append(a)\n",
    "print(lowlink)"
   ]
  },
  {
   "cell_type": "code",
   "execution_count": 39,
   "metadata": {},
   "outputs": [
    {
     "name": "stdout",
     "output_type": "stream",
     "text": [
      "3\n"
     ]
    }
   ],
   "source": [
    "lowlinks = lowlink.values()\n",
    "list1 = []\n",
    "for x in lowlinks:\n",
    "    if x not in list1:\n",
    "        list1.append(x)\n",
    "print(len(list1))"
   ]
  },
  {
   "cell_type": "code",
   "execution_count": 45,
   "metadata": {},
   "outputs": [
    {
     "name": "stdout",
     "output_type": "stream",
     "text": [
      "{0: [0, 1, 2], 3: [3, 7], 4: [4, 5, 6]}\n"
     ]
    }
   ],
   "source": [
    "dict1 = {}\n",
    "for a in list1:\n",
    "    dict1[a] = []\n",
    "    for x in lowlink.keys():\n",
    "        if lowlink[x] == a:\n",
    "            dict1[a].append(x)\n",
    "print(dict1)"
   ]
  },
  {
   "cell_type": "markdown",
   "metadata": {},
   "source": [
    "## Eulerian path"
   ]
  },
  {
   "cell_type": "code",
   "execution_count": 68,
   "metadata": {},
   "outputs": [],
   "source": [
    "graph = {}\n",
    "graph[0] = []\n",
    "graph[1] = [2, 3]\n",
    "graph[2] = [2, 4, 4]\n",
    "graph[3] = [1, 2, 5]\n",
    "graph[4] = [3, 6]\n",
    "graph[5] = [6]\n",
    "graph[6] = [3]"
   ]
  },
  {
   "cell_type": "code",
   "execution_count": 69,
   "metadata": {},
   "outputs": [
    {
     "name": "stdout",
     "output_type": "stream",
     "text": [
      "{0: 0, 1: 1, 2: 3, 3: 3, 4: 2, 5: 1, 6: 2}\n",
      "{0: 0, 1: 2, 2: 3, 3: 3, 4: 2, 5: 1, 6: 1}\n"
     ]
    }
   ],
   "source": [
    "def count_in_out_degrees(graph):\n",
    "    dict_in = {}\n",
    "    dict_out = {}\n",
    "    for x in graph.keys():\n",
    "        dict_in[x] = []\n",
    "        dict_out[x] = []\n",
    "        for a in graph[x]:\n",
    "            dict_out[x].append(a)\n",
    "    for x in dict_out:\n",
    "        for a in dict_out[x]:\n",
    "            dict_in[a].append(x)\n",
    "    for b in graph.keys():\n",
    "        dict_in[b] = len(dict_in[b])\n",
    "        dict_out[b] = len(dict_out[b])\n",
    "    return dict_in, dict_out\n",
    "dict_in, dict_out = count_in_out_degrees(graph)\n",
    "print(dict_in)\n",
    "print(dict_out)"
   ]
  },
  {
   "cell_type": "code",
   "execution_count": 70,
   "metadata": {},
   "outputs": [
    {
     "data": {
      "text/plain": [
       "True"
      ]
     },
     "execution_count": 70,
     "metadata": {},
     "output_type": "execute_result"
    }
   ],
   "source": [
    "def get_dict_diff(graph):\n",
    "    dict_diff = {}\n",
    "    dict_in, dict_out = count_in_out_degrees(graph)\n",
    "    for x in graph.keys():\n",
    "        dict_diff[x] = dict_in[x] - dict_out[x]\n",
    "    return dict_diff\n",
    "\n",
    "def eulerian_path_exist(graph):\n",
    "    dict_diff = get_dict_diff(graph)\n",
    "    count1 = 0\n",
    "    count2 = 0\n",
    "    for x in dict_diff.keys():\n",
    "        if dict_diff[x] < -1 or dict_diff[x] > 1:\n",
    "            return False\n",
    "        if dict_diff[x] == 1:\n",
    "            count1 += 1\n",
    "        if dict_diff[x] == -1:\n",
    "            count2 += 1\n",
    "    if count1 > 1 or count2 > 1:\n",
    "        return False\n",
    "    return True\n",
    "eulerian_path_exist(graph)"
   ]
  },
  {
   "cell_type": "code",
   "execution_count": 71,
   "metadata": {},
   "outputs": [
    {
     "data": {
      "text/plain": [
       "1"
      ]
     },
     "execution_count": 71,
     "metadata": {},
     "output_type": "execute_result"
    }
   ],
   "source": [
    "def find_eulerian_path_start_node(graph):\n",
    "    dict_diff = get_dict_diff(graph)\n",
    "    boolean = eulerian_path_exist(graph)\n",
    "    if boolean == True:\n",
    "        if dict_diff.values() == ([0] * len(dict_diff.values())):\n",
    "            return dict_diff.keys[0]\n",
    "        else:\n",
    "            for x in dict_diff.keys():\n",
    "                if dict_diff[x] == -1:\n",
    "                    return x\n",
    "    return 'Eulerian Path does not exist.'\n",
    "find_eulerian_path_start_node(graph)"
   ]
  },
  {
   "cell_type": "code",
   "execution_count": 72,
   "metadata": {},
   "outputs": [
    {
     "name": "stdout",
     "output_type": "stream",
     "text": [
      "{0: {0: 0, 1: 0, 2: 0, 3: 0, 4: 0, 5: 0, 6: 0}, 1: {0: 0, 1: 0, 2: 1, 3: 1, 4: 0, 5: 0, 6: 0}, 2: {0: 0, 1: 0, 2: 1, 3: 0, 4: 2, 5: 0, 6: 0}, 3: {0: 0, 1: 1, 2: 1, 3: 0, 4: 0, 5: 1, 6: 0}, 4: {0: 0, 1: 0, 2: 0, 3: 1, 4: 0, 5: 0, 6: 1}, 5: {0: 0, 1: 0, 2: 0, 3: 0, 4: 0, 5: 0, 6: 1}, 6: {0: 0, 1: 0, 2: 0, 3: 1, 4: 0, 5: 0, 6: 0}}\n"
     ]
    }
   ],
   "source": [
    "def get_all_links(graph):\n",
    "    dict_links = {}\n",
    "    for x in graph.keys():\n",
    "        dict_links[x] = {}\n",
    "        for y in graph.keys():\n",
    "            count = 0\n",
    "            for a in graph[x]:\n",
    "                if a == y:\n",
    "                    count += 1\n",
    "            dict_links[x][y] = count\n",
    "    return dict_links\n",
    "dict_links = get_all_links(graph)\n",
    "print(dict_links)"
   ]
  },
  {
   "cell_type": "code",
   "execution_count": 73,
   "metadata": {},
   "outputs": [
    {
     "name": "stdout",
     "output_type": "stream",
     "text": [
      "2\n"
     ]
    }
   ],
   "source": [
    "def select_unvisited_link(graph, start_node, dict_links):\n",
    "    for a in dict_links[start_node].keys():\n",
    "        if dict_links[start_node][a] > 0:\n",
    "            return a\n",
    "    return None\n",
    "print(select_unvisited_link(graph, 2, dict_links))"
   ]
  },
  {
   "cell_type": "code",
   "execution_count": 170,
   "metadata": {},
   "outputs": [
    {
     "data": {
      "text/plain": [
       "dict_values([[], [2, 3], [2, 4, 4], [1, 2, 5], [3, 6], [6], [3]])"
      ]
     },
     "execution_count": 170,
     "metadata": {},
     "output_type": "execute_result"
    }
   ],
   "source": [
    "'''\n",
    "def count_in_out_degrees(graph)\n",
    "def eulerian_path_exist(graph)\n",
    "def find_eulerian_path_start_node(graph)\n",
    "def find_eulerian_path(graph)\n",
    "def get_all_links(graph)\n",
    "def select_unvisited_link(graph, start_node)\n",
    "'''"
   ]
  },
  {
   "cell_type": "code",
   "execution_count": 74,
   "metadata": {},
   "outputs": [],
   "source": [
    "def dfs3(start_node):\n",
    "    while dict_out[start_node] > 0:\n",
    "        dict_out[start_node] = dict_out[start_node] - 1\n",
    "        neighbour_node = select_unvisited_link(graph, start_node, dict_links)\n",
    "        if neighbour_node != None:\n",
    "            dict_links[start_node][neighbour_node] -= 1\n",
    "            dfs3(neighbour_node)\n",
    "    visited2.insert(0, start_node)"
   ]
  },
  {
   "cell_type": "markdown",
   "metadata": {},
   "source": [
    "### Find Eulerian path from a graph"
   ]
  },
  {
   "cell_type": "code",
   "execution_count": 75,
   "metadata": {},
   "outputs": [
    {
     "name": "stdout",
     "output_type": "stream",
     "text": [
      "[1, 2, 2, 4, 3, 1, 3, 2, 4, 6, 3, 5, 6]\n"
     ]
    }
   ],
   "source": [
    "# step 1: check if Enlerian path exist\n",
    "if eulerian_path_exist(graph) != True:\n",
    "    print('There is no Eulerian Path.')\n",
    "else:\n",
    "    start_node = find_eulerian_path_start_node(graph)\n",
    "    dict_in, dict_out = count_in_out_degrees(graph)\n",
    "    dict_links = get_all_links(graph)\n",
    "    visited2 = []\n",
    "    dfs3(start_node)\n",
    "    print(visited2)"
   ]
  },
  {
   "cell_type": "markdown",
   "metadata": {},
   "source": [
    "## Minimum spanning tree (Prim's algorithm)\n",
    "\n",
    "https://www.youtube.com/watch?v=MaaSoZUEoos&t=42s"
   ]
  },
  {
   "cell_type": "code",
   "execution_count": 8,
   "metadata": {},
   "outputs": [
    {
     "name": "stdout",
     "output_type": "stream",
     "text": [
      "12\n",
      "{'A': None, 'D': 'A', 'C': 'D', 'B': 'D'}\n"
     ]
    }
   ],
   "source": [
    "def find_min_node(visited):\n",
    "    min_cost = float('inf')\n",
    "    min_node = None\n",
    "    for x in visited:\n",
    "        for y in graph[x].keys():\n",
    "            if y not in visited:\n",
    "                if min_cost > graph[x][y]:\n",
    "                    min_cost = graph[x][y]\n",
    "                    min_node = y\n",
    "                    parent = x\n",
    "    parents[min_node] = parent\n",
    "    return min_node, min_cost, parent\n",
    "    \n",
    "graph = {}\n",
    "graph['A'] = {}\n",
    "graph['A']['B'] = 8\n",
    "graph['A']['C'] = 6\n",
    "graph['A']['D'] = 5\n",
    "graph['B'] = {}\n",
    "graph['B']['A'] = 8\n",
    "graph['B']['D'] = 4\n",
    "graph['C'] = {}\n",
    "graph['C']['A'] = 6\n",
    "graph['C']['D'] = 3\n",
    "graph['D'] = {}\n",
    "graph['D']['A'] = 5\n",
    "graph['D']['B'] = 4\n",
    "graph['D']['C'] = 3\n",
    "\n",
    "start_node = 'A'\n",
    "visited = [start_node]\n",
    "parents = {'A': None}\n",
    "total_cost = 0\n",
    "\n",
    "while len(visited) != len(graph.keys()):\n",
    "    min_node, min_cost, parent = find_min_node(visited)\n",
    "    if min_node == None:\n",
    "        break\n",
    "    visited.append(min_node)\n",
    "    total_cost += min_cost\n",
    "print(total_cost)\n",
    "print(parents)"
   ]
  },
  {
   "cell_type": "markdown",
   "metadata": {},
   "source": [
    "## Max flow using the Ford-Fulkerson algorithm\n",
    "\n",
    "https://downey.io/blog/max-flow-ford-fulkerson-algorithm-explanation/\n",
    "https://www.youtube.com/watch?v=LdOnanfc5TM&t=625s"
   ]
  },
  {
   "cell_type": "code",
   "execution_count": 41,
   "metadata": {},
   "outputs": [],
   "source": [
    "graph = {}\n",
    "graph['s'] = {}\n",
    "graph['s']['0'] = 10\n",
    "graph['s']['1'] = 10\n",
    "graph['0'] = {}\n",
    "graph['0']['2'] = 25\n",
    "graph['1'] = {}\n",
    "graph['1']['3'] = 15\n",
    "graph['2'] = {}\n",
    "graph['2']['t'] = 10\n",
    "graph['3'] = {}\n",
    "graph['3']['t'] = 10\n",
    "graph['3']['0'] = 6\n",
    "graph['t'] = {}\n",
    "graph_res = graph.copy()"
   ]
  },
  {
   "cell_type": "code",
   "execution_count": 42,
   "metadata": {},
   "outputs": [],
   "source": [
    "import copy\n",
    "graph = {}\n",
    "graph['s'] = {}\n",
    "graph['s']['A'] = 3\n",
    "graph['s']['B'] = 2\n",
    "graph['A'] = {}\n",
    "graph['A']['B'] = 5\n",
    "graph['A']['t'] = 2\n",
    "graph['B'] = {}\n",
    "graph['B']['t'] = 3\n",
    "graph['t'] = {}\n",
    "graph_res = copy.deepcopy(graph)"
   ]
  },
  {
   "cell_type": "code",
   "execution_count": 43,
   "metadata": {},
   "outputs": [],
   "source": [
    "def dfs1(start_node):\n",
    "    if start_node not in visited1:\n",
    "        visited1.append(start_node)\n",
    "        for x in graph_res[start_node]:\n",
    "            if graph_res[start_node][x] > 0:\n",
    "                dfs1(x)\n",
    "            \n",
    "# find the bottle neck for a path\n",
    "def find_bottleneck_for_path(graph_res, path):\n",
    "    min_value = float('inf')\n",
    "    node = 's'\n",
    "    index = path.index(node)\n",
    "    while path[index + 1] != 't':\n",
    "        value = graph_res[node][path[index + 1]]\n",
    "        if value < min_value:\n",
    "            min_value = value\n",
    "        node = path[index + 1]\n",
    "        index = path.index(node)\n",
    "    return min_value # a float\n",
    "\n",
    "# constuct residual graph\n",
    "def update_res_graph(graph_res, path, bottleneck):\n",
    "    for k, x in enumerate(path):\n",
    "        if x == 't':\n",
    "            break\n",
    "        graph_res[x][path[k + 1]] = graph_res[x][path[k + 1]] - bottleneck\n",
    "    path1 = path[::-1]\n",
    "    for k, x in enumerate(path1):\n",
    "        if x == 's':\n",
    "            continue\n",
    "        if x in graph_res:\n",
    "            if path1[k + 1] in graph_res[x]:\n",
    "                graph_res[x][path1[k + 1]] = graph_res[x][path1[k + 1]] + bottleneck\n",
    "            else:\n",
    "                graph_res[x][path1[k + 1]] = bottleneck\n",
    "        else:\n",
    "            graph_res[x][path1[k + 1]] = bottleneck\n",
    "    return graph_res"
   ]
  },
  {
   "cell_type": "code",
   "execution_count": 44,
   "metadata": {},
   "outputs": [
    {
     "name": "stdout",
     "output_type": "stream",
     "text": [
      "{'s': {'A': 3, 'B': 2}, 'A': {'B': 5, 't': 2}, 'B': {'t': 3}, 't': {}}\n",
      "{'s': {'A': 0, 'B': 0}, 'A': {'B': 4, 't': 0, 's': 3}, 'B': {'t': 0, 'A': 1, 's': 2}, 't': {'B': 3, 'A': 2}}\n",
      "CPU times: user 228 µs, sys: 148 µs, total: 376 µs\n",
      "Wall time: 297 µs\n"
     ]
    }
   ],
   "source": [
    "%%time\n",
    "# find the path from s to t using dfs\n",
    "start_node = 's'\n",
    "while True:\n",
    "    visited1 = []\n",
    "    dfs1(start_node)\n",
    "    if 't' not in visited1:\n",
    "        break\n",
    "    index = visited1.index('t')\n",
    "    visited1 = visited1[:index + 1]\n",
    "    bottleneck = find_bottleneck_for_path(graph_res, visited1)\n",
    "    graph_res = update_res_graph(graph_res, visited1, bottleneck)\n",
    "print(graph)\n",
    "print(graph_res)"
   ]
  },
  {
   "cell_type": "code",
   "execution_count": 241,
   "metadata": {},
   "outputs": [
    {
     "name": "stdout",
     "output_type": "stream",
     "text": [
      "{'s': {'A': 3, 'B': 2}, 'A': {'B': 1, 't': 2}, 'B': {'t': 3}, 't': {}}\n",
      "Max Flow is 5\n"
     ]
    }
   ],
   "source": [
    "dict_flow = {}\n",
    "for x in graph.keys():\n",
    "    dict_flow[x] = {}\n",
    "    for y in graph[x].keys():\n",
    "        difference = graph[x][y] - graph_res[x][y]\n",
    "        dict_flow[x][y] = difference\n",
    "print(dict_flow)\n",
    "count = 0\n",
    "for a in dict_flow['s'].keys():\n",
    "    count += dict_flow['s'][a]\n",
    "print('Max Flow is', count)"
   ]
  },
  {
   "cell_type": "markdown",
   "metadata": {},
   "source": [
    "## Max flow using the capacity scaling algorithm\n"
   ]
  },
  {
   "cell_type": "code",
   "execution_count": 53,
   "metadata": {},
   "outputs": [],
   "source": [
    "graph = {}\n",
    "graph['s'] = {}\n",
    "graph['s']['0'] = 10\n",
    "graph['s']['1'] = 10\n",
    "graph['0'] = {}\n",
    "graph['0']['2'] = 25\n",
    "graph['1'] = {}\n",
    "graph['1']['3'] = 15\n",
    "graph['2'] = {}\n",
    "graph['2']['t'] = 10\n",
    "graph['3'] = {}\n",
    "graph['3']['t'] = 10\n",
    "graph['3']['0'] = 6\n",
    "graph['t'] = {}\n",
    "graph_res = graph.copy()"
   ]
  },
  {
   "cell_type": "code",
   "execution_count": 54,
   "metadata": {},
   "outputs": [],
   "source": [
    "import copy\n",
    "graph = {}\n",
    "graph['s'] = {}\n",
    "graph['s']['A'] = 3\n",
    "graph['s']['B'] = 2\n",
    "graph['A'] = {}\n",
    "graph['A']['B'] = 5\n",
    "graph['A']['t'] = 2\n",
    "graph['B'] = {}\n",
    "graph['B']['t'] = 3\n",
    "graph['t'] = {}\n",
    "graph_res = copy.deepcopy(graph)"
   ]
  },
  {
   "cell_type": "code",
   "execution_count": 55,
   "metadata": {},
   "outputs": [],
   "source": [
    "def dfs2(start_node):\n",
    "    if start_node not in visited1:\n",
    "        visited1.append(start_node)\n",
    "        for x in graph_res[start_node]:\n",
    "            if graph_res[start_node][x] > minimum:\n",
    "                dfs1(x)\n",
    "            \n",
    "# find the bottle neck for a path\n",
    "def find_bottleneck_for_path(graph_res, path):\n",
    "    min_value = float('inf')\n",
    "    node = 's'\n",
    "    index = path.index(node)\n",
    "    while path[index + 1] != 't':\n",
    "        value = graph_res[node][path[index + 1]]\n",
    "        if value < min_value:\n",
    "            min_value = value\n",
    "        node = path[index + 1]\n",
    "        index = path.index(node)\n",
    "    return min_value # a float\n",
    "\n",
    "# constuct residual graph\n",
    "def update_res_graph(graph_res, path, bottleneck):\n",
    "    for k, x in enumerate(path):\n",
    "        if x == 't':\n",
    "            break\n",
    "        graph_res[x][path[k + 1]] = graph_res[x][path[k + 1]] - bottleneck\n",
    "    path1 = path[::-1]\n",
    "    for k, x in enumerate(path1):\n",
    "        if x == 's':\n",
    "            continue\n",
    "        if x in graph_res:\n",
    "            if path1[k + 1] in graph_res[x]:\n",
    "                graph_res[x][path1[k + 1]] = graph_res[x][path1[k + 1]] + bottleneck\n",
    "            else:\n",
    "                graph_res[x][path1[k + 1]] = bottleneck\n",
    "        else:\n",
    "            graph_res[x][path1[k + 1]] = bottleneck\n",
    "    return graph_res\n",
    "\n",
    "def find_max_link_cap(graph_res):\n",
    "    maximum_cap = 0\n",
    "    for x in graph_res.keys():\n",
    "        for y in graph_res[x]:\n",
    "            if graph_res[x][y] > maximum_cap:\n",
    "                maximum_cap = graph_res[x][y]\n",
    "    return maximum_cap"
   ]
  },
  {
   "cell_type": "code",
   "execution_count": 56,
   "metadata": {},
   "outputs": [
    {
     "name": "stdout",
     "output_type": "stream",
     "text": [
      "{'s': {'A': 3, 'B': 2}, 'A': {'B': 5, 't': 2}, 'B': {'t': 3}, 't': {}}\n",
      "{'s': {'A': 0, 'B': 0}, 'A': {'B': 4, 't': 0, 's': 3}, 'B': {'t': 0, 'A': 1, 's': 2}, 't': {'B': 3, 'A': 2}}\n"
     ]
    }
   ],
   "source": [
    "start_node = 's'\n",
    "max_value = find_max_link_cap(graph_res)\n",
    "minimum = 1\n",
    "while minimum * 2 <= max_value:\n",
    "    minimum *= 2\n",
    "while True:\n",
    "    visited1 = []\n",
    "    dfs2(start_node)\n",
    "    if 't' not in visited1:\n",
    "        if minimum == 1:\n",
    "            break\n",
    "        minimum = minimum / 2\n",
    "        continue\n",
    "    index = visited1.index('t')\n",
    "    visited1 = visited1[:index + 1]\n",
    "    bottleneck = find_bottleneck_for_path(graph_res, visited1)\n",
    "    graph_res = update_res_graph(graph_res, visited1, bottleneck)\n",
    "print(graph)\n",
    "print(graph_res)"
   ]
  },
  {
   "cell_type": "code",
   "execution_count": 57,
   "metadata": {},
   "outputs": [
    {
     "name": "stdout",
     "output_type": "stream",
     "text": [
      "Max Flow is 5\n"
     ]
    }
   ],
   "source": [
    "dict_flow = {}\n",
    "for x in graph.keys():\n",
    "    dict_flow[x] = {}\n",
    "    for y in graph[x].keys():\n",
    "        difference = graph[x][y] - graph_res[x][y]\n",
    "        dict_flow[x][y] = difference\n",
    "count = 0\n",
    "for a in dict_flow['s'].keys():\n",
    "    count += dict_flow['s'][a]\n",
    "print('Max Flow is', count)"
   ]
  },
  {
   "cell_type": "markdown",
   "metadata": {},
   "source": [
    "## Max flow using Edmonds-Karp Algorithm"
   ]
  },
  {
   "cell_type": "code",
   "execution_count": 32,
   "metadata": {},
   "outputs": [],
   "source": [
    "graph = {}\n",
    "graph['s'] = {}\n",
    "graph['s']['0'] = 10\n",
    "graph['s']['1'] = 10\n",
    "graph['0'] = {}\n",
    "graph['0']['2'] = 25\n",
    "graph['1'] = {}\n",
    "graph['1']['3'] = 15\n",
    "graph['2'] = {}\n",
    "graph['2']['t'] = 10\n",
    "graph['3'] = {}\n",
    "graph['3']['t'] = 10\n",
    "graph['3']['0'] = 6\n",
    "graph['t'] = {}\n",
    "graph_res = graph.copy()"
   ]
  },
  {
   "cell_type": "code",
   "execution_count": 33,
   "metadata": {},
   "outputs": [],
   "source": [
    "import copy\n",
    "graph = {}\n",
    "graph['s'] = {}\n",
    "graph['s']['A'] = 3\n",
    "graph['s']['B'] = 2\n",
    "graph['A'] = {}\n",
    "graph['A']['B'] = 5\n",
    "graph['A']['t'] = 2\n",
    "graph['B'] = {}\n",
    "graph['B']['t'] = 3\n",
    "graph['t'] = {}\n",
    "graph_res = copy.deepcopy(graph)"
   ]
  },
  {
   "cell_type": "code",
   "execution_count": 34,
   "metadata": {},
   "outputs": [],
   "source": [
    "def bfs(graph_res, start_node):\n",
    "    visited1 = []\n",
    "    visited1.append(start_node)\n",
    "    paths = [[start_node]]\n",
    "    while paths:\n",
    "        current_path = paths.pop(0)\n",
    "        current_node = current_path[-1]\n",
    "        for x in graph_res[current_node]:\n",
    "            if graph_res[current_node][x]>0:\n",
    "                if x not in visited1:\n",
    "                    if x == 't':\n",
    "                        return current_path + [x]\n",
    "                    visited1.append(x)\n",
    "                    paths.append(current_path + [x])\n",
    "    return None\n",
    "# find the bottle neck for a path\n",
    "def find_bottleneck_for_path(graph_res, path):\n",
    "    min_value = float('inf')\n",
    "    node = 's'\n",
    "    index = path.index(node)\n",
    "    while path[index + 1] != 't':\n",
    "        value = graph_res[node][path[index + 1]]\n",
    "        if value < min_value:\n",
    "            min_value = value\n",
    "        node = path[index + 1]\n",
    "        index = path.index(node)\n",
    "    return min_value # a float\n",
    "\n",
    "# constuct residual graph\n",
    "def update_res_graph(graph_res, path, bottleneck):\n",
    "    for k, x in enumerate(path):\n",
    "        if x == 't':\n",
    "            break\n",
    "        graph_res[x][path[k + 1]] = graph_res[x][path[k + 1]] - bottleneck\n",
    "    path1 = path[::-1]\n",
    "    for k, x in enumerate(path1):\n",
    "        if x == 's':\n",
    "            continue\n",
    "        if x in graph_res:\n",
    "            if path1[k + 1] in graph_res[x]:\n",
    "                graph_res[x][path1[k + 1]] = graph_res[x][path1[k + 1]] + bottleneck\n",
    "            else:\n",
    "                graph_res[x][path1[k + 1]] = bottleneck\n",
    "        else:\n",
    "            graph_res[x][path1[k + 1]] = bottleneck\n",
    "    return graph_res\n",
    "\n"
   ]
  },
  {
   "cell_type": "code",
   "execution_count": 35,
   "metadata": {},
   "outputs": [
    {
     "name": "stdout",
     "output_type": "stream",
     "text": [
      "['s', 'A', 't']\n",
      "['s', 'B', 't']\n",
      "{'s': {'A': 3, 'B': 2}, 'A': {'B': 5, 't': 2}, 'B': {'t': 3}, 't': {}}\n",
      "{'s': {'A': 0, 'B': 0}, 'A': {'B': 5, 't': -1, 's': 3}, 'B': {'t': 1, 's': 2}, 't': {'A': 3, 'B': 2}}\n",
      "CPU times: user 222 µs, sys: 89 µs, total: 311 µs\n",
      "Wall time: 247 µs\n"
     ]
    }
   ],
   "source": [
    "%%time\n",
    "# find the path from s to t using dfs\n",
    "start_node = 's'\n",
    "while True:\n",
    "    path = bfs(graph_res, start_node)\n",
    "    if path==None:\n",
    "        break\n",
    "    print(path)\n",
    "    bottleneck = find_bottleneck_for_path(graph_res, path)\n",
    "    graph_res = update_res_graph(graph_res, path, bottleneck)\n",
    "print(graph)\n",
    "print(graph_res)"
   ]
  },
  {
   "cell_type": "code",
   "execution_count": 31,
   "metadata": {},
   "outputs": [
    {
     "name": "stdout",
     "output_type": "stream",
     "text": [
      "Max Flow is 5\n"
     ]
    }
   ],
   "source": [
    "dict_flow = {}\n",
    "for x in graph.keys():\n",
    "    dict_flow[x] = {}\n",
    "    for y in graph[x].keys():\n",
    "        difference = graph[x][y] - graph_res[x][y]\n",
    "        dict_flow[x][y] = difference\n",
    "count = 0\n",
    "for a in dict_flow['s'].keys():\n",
    "    count += dict_flow['s'][a]\n",
    "print('Max Flow is', count)"
   ]
  },
  {
   "cell_type": "markdown",
   "metadata": {},
   "source": [
    "## max flow using Dicnic algorithm"
   ]
  },
  {
   "cell_type": "code",
   "execution_count": 124,
   "metadata": {},
   "outputs": [],
   "source": [
    "import copy\n",
    "graph = {}\n",
    "graph['s'] = {}\n",
    "graph['s']['A'] = 3\n",
    "graph['s']['B'] = 2\n",
    "graph['A'] = {}\n",
    "graph['A']['B'] = 5\n",
    "graph['A']['C'] = 4\n",
    "graph['A']['t'] = 2\n",
    "graph['B'] = {}\n",
    "graph['B']['t'] = 3\n",
    "graph['C'] = {}\n",
    "graph['C']['t'] = 6\n",
    "graph['t'] = {}\n",
    "graph_res = copy.deepcopy(graph)"
   ]
  },
  {
   "cell_type": "code",
   "execution_count": 126,
   "metadata": {},
   "outputs": [
    {
     "name": "stdout",
     "output_type": "stream",
     "text": [
      "2\n"
     ]
    },
    {
     "data": {
      "text/plain": [
       "{'s': 0, 't': 2, 'A': 1, 'B': 1, 'C': 2}"
      ]
     },
     "execution_count": 126,
     "metadata": {},
     "output_type": "execute_result"
    }
   ],
   "source": [
    "def find_level_graph(graph_res):\n",
    "    levels = {'s' : 0, 't' : float('inf')}\n",
    "    visited = []\n",
    "    paths = [['s']]\n",
    "    while paths:\n",
    "        current_path = paths.pop(0)\n",
    "        current_node = current_path[-1]\n",
    "        if current_node not in visited:\n",
    "            visited.append(current_node)\n",
    "            if current_node != 's':\n",
    "                levels[current_node] = levels[current_path[-2]] + 1\n",
    "            for x in graph_res[current_node].keys():\n",
    "                if graph_res[current_node][x] > 0:\n",
    "                    if x != 't':\n",
    "                        paths.append(current_path + [x])\n",
    "                    else:\n",
    "                        if levels[current_node] + 1 < levels['t']:\n",
    "                            levels['t'] = levels[current_node] + 1\n",
    "                            print(levels['t'])\n",
    "                        if len(levels.keys()) == len(graph_res.keys()):\n",
    "                            return levels\n",
    "    return None\n",
    "find_level_graph(graph_res)"
   ]
  },
  {
   "cell_type": "code",
   "execution_count": null,
   "metadata": {},
   "outputs": [],
   "source": []
  },
  {
   "cell_type": "code",
   "execution_count": null,
   "metadata": {},
   "outputs": [],
   "source": []
  },
  {
   "cell_type": "code",
   "execution_count": null,
   "metadata": {},
   "outputs": [],
   "source": []
  },
  {
   "cell_type": "markdown",
   "metadata": {},
   "source": [
    "## breadth first search (BFS)"
   ]
  },
  {
   "cell_type": "code",
   "execution_count": 58,
   "metadata": {},
   "outputs": [],
   "source": [
    "graph = {}\n",
    "graph['s'] = {}\n",
    "graph['s']['Tom'] = 7\n",
    "graph['s']['Jerry'] = 7\n",
    "graph['s']['Mike'] = 7\n",
    "graph['s']['Jack'] = 7\n",
    "graph['Tom'] = {}\n",
    "graph['Tom']['A'] = 1\n",
    "graph['Tom']['B'] = 1\n",
    "graph['Tom']['D'] = 1\n",
    "graph['Jerry'] = {}\n",
    "graph['Jerry']['B'] = 1\n",
    "graph['Jerry']['C'] = 1\n",
    "graph['Jerry']['D'] = 1\n",
    "graph['Mike'] = {}\n",
    "graph['Mike']['A'] = 1\n",
    "graph['Mike']['C'] = 1\n",
    "graph['Mike']['E'] = 1\n",
    "graph['Jack'] = {}\n",
    "graph['Jack']['C'] = 1\n",
    "graph['Jack']['D'] = 1\n",
    "graph['Jack']['E'] = 1\n",
    "graph['A'] = {}\n",
    "graph['B'] = {}\n",
    "graph['C'] = {}\n",
    "graph['D'] = {}\n",
    "graph['E'] = {}\n",
    "graph['A']['t'] = 1\n",
    "graph['B']['t'] = 2\n",
    "graph['C']['t'] = 2\n",
    "graph['D']['t'] = 1\n",
    "graph['E']['t'] = 1\n",
    "graph['t'] = {}"
   ]
  },
  {
   "cell_type": "code",
   "execution_count": 59,
   "metadata": {},
   "outputs": [],
   "source": [
    "def bfs_all(graph, start_node, end_node):\n",
    "    visited = []\n",
    "    paths = [[start_node]]\n",
    "    list_r = []\n",
    "    while paths:\n",
    "        current_path = paths.pop(0)\n",
    "        current_node = current_path[-1]\n",
    "        if current_node not in visited:\n",
    "            visited.append(current_node)\n",
    "            for x in graph[current_node].keys():\n",
    "                if graph[current_node][x] > 0:\n",
    "                    if x == end_node:\n",
    "                        list_r.append(current_path + [x])\n",
    "                        visited = []\n",
    "                    else:\n",
    "                        paths.append(current_path + [x])\n",
    "    return list_r"
   ]
  },
  {
   "cell_type": "code",
   "execution_count": 60,
   "metadata": {},
   "outputs": [
    {
     "data": {
      "text/plain": [
       "[['s', 'Tom', 'A', 't'],\n",
       " ['s', 'Tom', 'B', 't'],\n",
       " ['s', 'Tom', 'D', 't'],\n",
       " ['s', 'Jerry', 'B', 't'],\n",
       " ['s', 'Jerry', 'C', 't'],\n",
       " ['s', 'Jerry', 'D', 't'],\n",
       " ['s', 'Mike', 'A', 't'],\n",
       " ['s', 'Mike', 'C', 't'],\n",
       " ['s', 'Mike', 'E', 't'],\n",
       " ['s', 'Jack', 'C', 't'],\n",
       " ['s', 'Jack', 'D', 't'],\n",
       " ['s', 'Jack', 'E', 't']]"
      ]
     },
     "execution_count": 60,
     "metadata": {},
     "output_type": "execute_result"
    }
   ],
   "source": [
    "bfs_all(graph, start_node, end_node)"
   ]
  },
  {
   "cell_type": "code",
   "execution_count": 61,
   "metadata": {},
   "outputs": [],
   "source": [
    "def bfs_single(graph, start_node, end_node):\n",
    "    paths = [[start_node]]\n",
    "    visited = []\n",
    "    while len(paths)>0:\n",
    "        current_path = paths.pop(0)\n",
    "        current_node = current_path[-1]\n",
    "        if current_node not in visited:\n",
    "            visited.append(current_node)\n",
    "        for node in graph[current_node].keys():\n",
    "            if node=='t':\n",
    "                return current_path+[node]\n",
    "            else:\n",
    "                paths.append(current_path+[node]) \n",
    "    return []"
   ]
  },
  {
   "cell_type": "code",
   "execution_count": 62,
   "metadata": {},
   "outputs": [],
   "source": [
    "def bfs(graph, start_node):\n",
    "    visited = []\n",
    "    visited.append(start_node)\n",
    "    paths = [[start_node]]\n",
    "    while paths:\n",
    "        current_path = paths.pop(0)\n",
    "        current_node = current_path[-1]\n",
    "        for x in graph[current_node]:\n",
    "            if x not in visited:\n",
    "                visited.append(x)\n",
    "                paths.append(current_path+[x])\n",
    "    return visited"
   ]
  },
  {
   "cell_type": "code",
   "execution_count": 63,
   "metadata": {},
   "outputs": [
    {
     "name": "stdout",
     "output_type": "stream",
     "text": [
      "['s', 'Tom', 'A', 't']\n"
     ]
    }
   ],
   "source": [
    "single_results = bfs_single(graph, start_node, end_node)\n",
    "print(single_results)"
   ]
  },
  {
   "cell_type": "code",
   "execution_count": 65,
   "metadata": {},
   "outputs": [
    {
     "data": {
      "text/plain": [
       "['s', 'Tom', 'Jerry', 'Mike', 'Jack', 'A', 'B', 'D', 'C', 'E', 't']"
      ]
     },
     "execution_count": 65,
     "metadata": {},
     "output_type": "execute_result"
    }
   ],
   "source": [
    "bfs(graph, start_node)"
   ]
  },
  {
   "cell_type": "code",
   "execution_count": 66,
   "metadata": {},
   "outputs": [
    {
     "data": {
      "text/plain": [
       "[['s', 'Tom', 'A', 't'],\n",
       " ['s', 'Tom', 'B', 't'],\n",
       " ['s', 'Tom', 'D', 't'],\n",
       " ['s', 'Jerry', 'B', 't'],\n",
       " ['s', 'Jerry', 'C', 't'],\n",
       " ['s', 'Jerry', 'D', 't'],\n",
       " ['s', 'Mike', 'A', 't'],\n",
       " ['s', 'Mike', 'C', 't'],\n",
       " ['s', 'Mike', 'E', 't'],\n",
       " ['s', 'Jack', 'C', 't'],\n",
       " ['s', 'Jack', 'D', 't'],\n",
       " ['s', 'Jack', 'E', 't']]"
      ]
     },
     "execution_count": 66,
     "metadata": {},
     "output_type": "execute_result"
    }
   ],
   "source": [
    "bfs_all(graph, 's', 't')"
   ]
  },
  {
   "cell_type": "markdown",
   "metadata": {},
   "source": [
    "## Unweighted Bipartite Matching using Edmonds-Karp Algorithm"
   ]
  },
  {
   "cell_type": "code",
   "execution_count": 69,
   "metadata": {},
   "outputs": [
    {
     "data": {
      "text/plain": [
       "'\\nFour students named Tom, Jerry, Mike, Jack to borrow books from library \\nwhich has 6 books named A (1), B (2), C (2), D (1), E (1) \\n(integer in bracket represents the number of copies for the book).\\nTom is interested in books A, B, D,\\nJerry is interested in books B, C, and D\\nMike is interested in books A, C, E,\\nJack is interested in books C, D, E\\nWhat is the maximum number of books that can be borrowed by the 4 students from library?\\n'"
      ]
     },
     "execution_count": 69,
     "metadata": {},
     "output_type": "execute_result"
    }
   ],
   "source": [
    "'''\n",
    "Four students named Tom, Jerry, Mike, Jack to borrow books from library \n",
    "which has 6 books named A (1), B (2), C (2), D (1), E (1) \n",
    "(integer in bracket represents the number of copies for the book).\n",
    "Tom is interested in books A, B, D,\n",
    "Jerry is interested in books B, C, and D\n",
    "Mike is interested in books A, C, E,\n",
    "Jack is interested in books C, D, E\n",
    "What is the maximum number of books that can be borrowed by the 4 students from library?\n",
    "'''"
   ]
  },
  {
   "cell_type": "code",
   "execution_count": 35,
   "metadata": {},
   "outputs": [
    {
     "name": "stdout",
     "output_type": "stream",
     "text": [
      "{'s': {'Tom': 7, 'Jerry': 7, 'Mike': 7, 'Jack': 7}, 'Tom': {'A': 1, 'B': 1, 'D': 1}, 'Jerry': {'B': 1, 'C': 1, 'D': 1}, 'Mike': {'A': 1, 'C': 1, 'E': 1}, 'Jack': {'C': 1, 'D': 1, 'E': 1}, 'A': {'t': 1}, 'B': {'t': 2}, 'C': {'t': 2}, 'D': {'t': 1}, 'E': {'t': 1}, 't': {}}\n"
     ]
    }
   ],
   "source": [
    "import copy\n",
    "graph = {}\n",
    "graph['s'] = {}\n",
    "graph['s']['Tom'] = 7\n",
    "graph['s']['Jerry'] = 7\n",
    "graph['s']['Mike'] = 7\n",
    "graph['s']['Jack'] = 7\n",
    "graph['Tom'] = {}\n",
    "graph['Tom']['A'] = 1\n",
    "graph['Tom']['B'] = 1\n",
    "graph['Tom']['D'] = 1\n",
    "graph['Jerry'] = {}\n",
    "graph['Jerry']['B'] = 1\n",
    "graph['Jerry']['C'] = 1\n",
    "graph['Jerry']['D'] = 1\n",
    "graph['Mike'] = {}\n",
    "graph['Mike']['A'] = 1\n",
    "graph['Mike']['C'] = 1\n",
    "graph['Mike']['E'] = 1\n",
    "graph['Jack'] = {}\n",
    "graph['Jack']['C'] = 1\n",
    "graph['Jack']['D'] = 1\n",
    "graph['Jack']['E'] = 1\n",
    "graph['A'] = {}\n",
    "graph['B'] = {}\n",
    "graph['C'] = {}\n",
    "graph['D'] = {}\n",
    "graph['E'] = {}\n",
    "graph['A']['t'] = 1\n",
    "graph['B']['t'] = 2\n",
    "graph['C']['t'] = 2\n",
    "graph['D']['t'] = 1\n",
    "graph['E']['t'] = 1\n",
    "graph['t'] = {}\n",
    "graph_res = copy.deepcopy(graph)\n",
    "print(graph)"
   ]
  },
  {
   "cell_type": "code",
   "execution_count": 36,
   "metadata": {},
   "outputs": [],
   "source": [
    "def bfs(graph_res, start_node):\n",
    "    visited1 = []\n",
    "    visited1.append(start_node)\n",
    "    paths = [[start_node]]\n",
    "    while paths:\n",
    "        current_path = paths.pop(0)\n",
    "        current_node = current_path[-1]\n",
    "        for x in graph_res[current_node]:\n",
    "            if graph_res[current_node][x]>0:\n",
    "                if x not in visited1:\n",
    "                    if x == 't':\n",
    "                        return current_path + [x]\n",
    "                    visited1.append(x)\n",
    "                    paths.append(current_path + [x])\n",
    "    return None\n",
    "# find the bottle neck for a path\n",
    "def find_bottleneck_for_path(graph_res, path):\n",
    "    min_value = float('inf')\n",
    "    node = 's'\n",
    "    index = path.index(node)\n",
    "    while path[index + 1] != 't':\n",
    "        value = graph_res[node][path[index + 1]]\n",
    "        if value < min_value:\n",
    "            min_value = value\n",
    "        node = path[index + 1]\n",
    "        index = path.index(node)\n",
    "    return min_value # a float\n",
    "\n",
    "# constuct residual graph\n",
    "def update_res_graph(graph_res, path, bottleneck):\n",
    "    for k, x in enumerate(path):\n",
    "        if x == 't':\n",
    "            break\n",
    "        graph_res[x][path[k + 1]] = graph_res[x][path[k + 1]] - bottleneck\n",
    "    path1 = path[::-1]\n",
    "    for k, x in enumerate(path1):\n",
    "        if x == 's':\n",
    "            continue\n",
    "        if x in graph_res:\n",
    "            if path1[k + 1] in graph_res[x]:\n",
    "                graph_res[x][path1[k + 1]] = graph_res[x][path1[k + 1]] + bottleneck\n",
    "            else:\n",
    "                graph_res[x][path1[k + 1]] = bottleneck\n",
    "        else:\n",
    "            graph_res[x][path1[k + 1]] = bottleneck\n",
    "    return graph_res"
   ]
  },
  {
   "cell_type": "code",
   "execution_count": 37,
   "metadata": {},
   "outputs": [
    {
     "name": "stdout",
     "output_type": "stream",
     "text": [
      "Tom borrowed book A!\n",
      "Tom borrowed book B!\n",
      "Tom borrowed book D!\n",
      "Jerry borrowed book B!\n",
      "Jerry borrowed book C!\n",
      "Mike borrowed book C!\n",
      "Mike borrowed book E!\n"
     ]
    }
   ],
   "source": [
    "start_node = 's'\n",
    "paths = []\n",
    "while True:\n",
    "    path = bfs(graph_res, start_node)\n",
    "    if path==None:\n",
    "        break\n",
    "    paths.append(path)\n",
    "    bottleneck = find_bottleneck_for_path(graph_res, path)\n",
    "    graph_res = update_res_graph(graph_res, path, bottleneck)\n",
    "for x in paths:\n",
    "    print(x[1] + ' borrowed book ' + x[2] + '!')"
   ]
  },
  {
   "cell_type": "code",
   "execution_count": null,
   "metadata": {},
   "outputs": [],
   "source": []
  },
  {
   "cell_type": "code",
   "execution_count": null,
   "metadata": {},
   "outputs": [],
   "source": []
  },
  {
   "cell_type": "code",
   "execution_count": null,
   "metadata": {},
   "outputs": [],
   "source": []
  },
  {
   "cell_type": "code",
   "execution_count": null,
   "metadata": {},
   "outputs": [],
   "source": []
  },
  {
   "cell_type": "markdown",
   "metadata": {},
   "source": [
    "## Link list"
   ]
  },
  {
   "cell_type": "code",
   "execution_count": null,
   "metadata": {},
   "outputs": [],
   "source": [
    "'''\n",
    "Introduction to Linked Lists (Data Structures & Algorithms #5)\n",
    "https://www.youtube.com/watch?v=WwfhLC16bis\n",
    "Python: Linked Lists (fast)\n",
    "https://www.youtube.com/watch?v=Ast5sKQXxEU\n",
    "'''"
   ]
  },
  {
   "cell_type": "code",
   "execution_count": 43,
   "metadata": {},
   "outputs": [
    {
     "name": "stdout",
     "output_type": "stream",
     "text": [
      "2\n",
      "4\n",
      "7\n",
      "1\n"
     ]
    }
   ],
   "source": [
    "class Node(object):\n",
    "    def __init__(self, d, n = None):\n",
    "        self.data = d\n",
    "        self.next_node = n\n",
    "class Linklist(object):\n",
    "    def __init__(self, r = None):\n",
    "        self.root = r\n",
    "        self.size = 0\n",
    "    def add(self, d):\n",
    "        node = Node(d, self.root)\n",
    "        self.root = node\n",
    "        self.size += 1\n",
    "    def print_linklist(self):\n",
    "        node = self.root\n",
    "        while node != None:\n",
    "            print(node.data)\n",
    "            node = node.next_node\n",
    "linklist = Linklist()\n",
    "list1 = [2, 4, 7, 1]\n",
    "for x in list1[::-1]:\n",
    "    linklist.add(x)\n",
    "linklist.print_linklist()"
   ]
  },
  {
   "cell_type": "code",
   "execution_count": null,
   "metadata": {},
   "outputs": [],
   "source": [
    "# remove node with value=7"
   ]
  },
  {
   "cell_type": "code",
   "execution_count": 58,
   "metadata": {},
   "outputs": [
    {
     "name": "stdout",
     "output_type": "stream",
     "text": [
      "2 4 7 1 \n",
      "2 1 4 7 \n"
     ]
    }
   ],
   "source": [
    "class Node(object):\n",
    "    def __init__(self, d, n = None):\n",
    "        self.data = d\n",
    "        self.next_node = n\n",
    "class Linklist(object):\n",
    "    def __init__(self, r = None):\n",
    "        self.root = r\n",
    "        self.size = 0\n",
    "    def add(self, d):\n",
    "        node = Node(d, self.root)\n",
    "        self.root = node\n",
    "        self.size += 1\n",
    "    def print_linklist(self):\n",
    "        node = self.root\n",
    "        str1 = ''\n",
    "        while node != None:\n",
    "            str1 += str(node.data)\n",
    "            str1 += ' '\n",
    "            node = node.next_node\n",
    "        print(str1)\n",
    "    def remove_node(self, find_node):\n",
    "        node = self.root\n",
    "        if node.data == find_node:\n",
    "            self.root = node.next_node\n",
    "        else:\n",
    "            while node.next_node != None:\n",
    "                if node.next_node.data == find_node:\n",
    "                    node.next_node = node.next_node.next_node\n",
    "                    break\n",
    "                node = node.next_node\n",
    "    def insert_node(self, insert_data, index):\n",
    "        node = self.root\n",
    "        new_node = Node(insert_data)\n",
    "        if index == node.data:\n",
    "            old_root = self.root\n",
    "            self.root = new_node\n",
    "            new_node.next_node = old_root\n",
    "        else:\n",
    "            while node.next_node != None:\n",
    "                if index == node.next_node.data:\n",
    "                    old_node = node.next_node\n",
    "                    node.next_node = new_node\n",
    "                    new_node.next_node = old_node\n",
    "                    break\n",
    "                node = node.next_node\n",
    "linklist = Linklist()\n",
    "list1 = [2, 4, 7, 1]\n",
    "for x in list1[::-1]:\n",
    "    linklist.add(x)\n",
    "linklist.print_linklist()\n",
    "linklist.remove_node(1)\n",
    "linklist.insert_node(1, 4)\n",
    "linklist.print_linklist()"
   ]
  },
  {
   "cell_type": "code",
   "execution_count": 84,
   "metadata": {},
   "outputs": [
    {
     "name": "stdout",
     "output_type": "stream",
     "text": [
      "[-1, 1, 2, 5, 7, 8, 9, 16]\n"
     ]
    }
   ],
   "source": [
    "def merge(result, left, right):\n",
    "    index1 = 0\n",
    "    index2 = 0\n",
    "    while index1 < len(left) and index2 < len(right):\n",
    "        a = left[index1]\n",
    "        b = right[index2]\n",
    "        if a < b:\n",
    "            result.append(a)\n",
    "            index1 += 1\n",
    "        else:\n",
    "            result.append(b)\n",
    "            index2 += 1\n",
    "    if index1 == len(left):\n",
    "        for x in right[index2:]:\n",
    "            result.append(x)\n",
    "    else:\n",
    "        for x in left[index1:]:\n",
    "            result.append(x)\n",
    "    return result\n",
    "result = []\n",
    "left = [1,5,7,9]\n",
    "right = [-1,2,8,16]\n",
    "result = merge(result, left, right)\n",
    "print(result)"
   ]
  },
  {
   "cell_type": "code",
   "execution_count": 83,
   "metadata": {},
   "outputs": [
    {
     "name": "stdout",
     "output_type": "stream",
     "text": [
      "[3, 2, 1, 5, 4]\n"
     ]
    }
   ],
   "source": [
    "def mergesort(list1):\n",
    "    if len(list1) >= 2:\n",
    "        result = []\n",
    "        left = list1[:(len(list1)//2)]\n",
    "        right = list1[(len(list1)//2):]\n",
    "        mergesort(left)\n",
    "        mergesort(right)\n",
    "        merge(result, left, right)\n",
    "        return result\n",
    "    else:\n",
    "        return list1\n",
    "list1 = [5,4,3,2,1]\n",
    "a=mergesort(list1)\n",
    "print(a)"
   ]
  },
  {
   "cell_type": "markdown",
   "metadata": {},
   "source": [
    "Professors lead very busy lives with full schedules of work and appointments. Professor P likes to nap during the day, but his schedule is so busy that he doesn’t have many chances to do so.\n",
    "\n",
    "He really wants to take one nap every day, however. Naturally, he wants to take the longest nap possible given his schedule. Write a program to help him with the task.\n",
    "\n",
    "Input\n",
    "\n",
    "The input consists of an arbitrary number of test cases, where each test case represents one day. The first line of each case contains a positive integer s ≤ 100, representing the number\n",
    "\n",
    "of scheduled appointments for that day. The next s lines contain the appointments in the format time1 time2 appointment, where time1 represents the time which the appointment starts and time2 the time it ends. All times will be in the hh:mm format; the ending time will always be strictly after the starting time, and separated by a single space.\n",
    "\n",
    "All times will be greater than or equal to 10:00 and less than or equal to 18:00. Thus your response must be in this interval as well; i.e., no nap can start before 10:00 and last after 18:00.\n",
    "\n",
    "The appointment can be any sequence of characters, but will always be on the same line. You can assume that no line is be longer than 255 characters, that 10 ≤ hh ≤ 18 and that 0 ≤ mm < 60. You cannot assume, however, that the input will be in any specific order, and must read the input until you reach the end of file.\n",
    "\n",
    "Output\n",
    "\n",
    "For each test case, you must print the following line:\n",
    "\n",
    "Day #d: the longest nap starts at hh : mm and will last for [H hours and] M minutes. where d stands for the number of the test case (starting from 1) and hh : mm is the time when the nap can start. To display the length of the nap, follow these rules:\n",
    "\n",
    "1. If the total time X is less than 60 minutes, just print “X minutes.”\n",
    "\n",
    "2. If the total duration X is at least 60 minutes, print “H hours and M minutes,”\n",
    "\n",
    "where\n",
    "\n",
    "H = X ÷ 60 (integer division, of course) and M = X mod 60. You don’t have to worry about correct pluralization; i.e., you must print “1 minutes” or “1 hours” if that is the case. The duration of the nap is calculated by the difference between the ending time and the beginning time. That is, if an appointment ends at 14:00 and the next one starts at 14:47, then you have 14:47 – 14:00 = 47 minutes of possible napping.\n",
    "\n",
    "If there is more than one longest nap with the same duration, print the earliest one. You can assume the professor won’t be busy all day, so there is always time for at least one possible nap.\n",
    "\n",
    "Sample Input\n",
    "\n",
    "4\n",
    "\n",
    "10:00 12:00 Lectures\n",
    "\n",
    "12:00 13:00 Lunch, like always.\n",
    "\n",
    "13:00 15:00 Boring lectures...\n",
    "\n",
    "15:30 17:45 Reading\n",
    "\n",
    "4\n",
    "\n",
    "10:00 12:00 Lectures\n",
    "\n",
    "12:00 13:00 Lunch, just lunch.\n",
    "\n",
    "13:00 15:00 Lectures, lectures... oh, no!\n",
    "\n",
    "16:45 17:45 Reading (to be or not to be?)\n",
    "\n",
    "4\n",
    "\n",
    "10:00 12:00 Lectures, as everyday.\n",
    "\n",
    "12:00 13:00 Lunch, again!!!\n",
    "\n",
    "13:00 15:00 Lectures, more lectures!\n",
    "\n",
    "15:30 17:15 Reading (I love reading, but should I schedule it?)\n",
    "\n",
    "1\n",
    "\n",
    "12:00 13:00 I love lunch! Have you ever noticed it? smile\n",
    "\n",
    "Sample Output\n",
    "\n",
    "Day #1: the longest nap starts at 15:00 and will last for 30 minutes.\n",
    "\n",
    "Day #2: the longest nap starts at 15:00 and will last for 1 hours and 45 minutes.\n",
    "\n",
    "Day #3: the longest nap starts at 17:15 and will last for 45 minutes.\n",
    "\n",
    "Day #4: the longest nap starts at 13:00 and will last for 5 hours and 0 minutes."
   ]
  },
  {
   "cell_type": "code",
   "execution_count": 97,
   "metadata": {},
   "outputs": [
    {
     "data": {
      "text/plain": [
       "431"
      ]
     },
     "execution_count": 97,
     "metadata": {},
     "output_type": "execute_result"
    }
   ],
   "source": [
    "def find_interval(str1, str2):\n",
    "    list1 = str1.split(':')\n",
    "    list2 = str2.split(':')\n",
    "    first_total = (int(list1[0]) * 60) + int(list1[1])\n",
    "    second_total = (int(list2[0]) * 60) + int(list2[1])\n",
    "    total = second_total - first_total\n",
    "    return total\n",
    "find_interval('10:45', '17:56')"
   ]
  },
  {
   "cell_type": "code",
   "execution_count": 111,
   "metadata": {},
   "outputs": [
    {
     "name": "stdout",
     "output_type": "stream",
     "text": [
      "4\n",
      "10:00 12:00 Lectures\n",
      "12:00 13:00 Lunch, like always.\n",
      "13:00 15:00 Boring lectures...\n",
      "15:30 17:45 Reading\n",
      "Day #1: the longest nap starts at 15:00 and will last for 30 minutes.\n",
      "4\n",
      "10:00 12:00 Lectures\n",
      "12:00 13:00 Lunch, just lunch.\n",
      "13:00 15:00 Lectures, lectures... oh, no!\n",
      "16:45 17:45 Reading (to be or not to be?)\n",
      "Day #2: the longest nap starts at 15:00 and will last for 1 hours and 45 minutes.\n",
      "4\n",
      "10:00 12:00 Lectures, as everyday.\n",
      "12:00 13:00 Lunch, again!!!\n",
      "13:00 15:00 Lectures, more lectures!\n",
      "15:30 17:15 Reading (I love reading, but should I schedule it?)\n",
      "Day #3: the longest nap starts at 17:15 and will last for 45 minutes.\n",
      "1\n",
      "12:00 13:00 I love lunch! Have you ever noticed it? smile\n",
      "Day #4: the longest nap starts at 13:00 and will last for 5 hours and 0 minutes.\n"
     ]
    }
   ],
   "source": [
    "def find_interval(str1, str2):\n",
    "    list1 = str1.split(':')\n",
    "    list2 = str2.split(':')\n",
    "    first_total = (int(list1[0]) * 60) + int(list1[1])\n",
    "    second_total = (int(list2[0]) * 60) + int(list2[1])\n",
    "    total = second_total - first_total\n",
    "    return total\n",
    "find_interval('10:45', '17:56')\n",
    "for x in range(4):\n",
    "    num = x + 1\n",
    "    n = int(input())\n",
    "    list1 = []\n",
    "    naptime = []\n",
    "    for a in range(n):\n",
    "        line = input()\n",
    "        line = line.split()\n",
    "        list1.append(line)\n",
    "        if a == 0:\n",
    "            if line[0] != '10:00':\n",
    "                interval = find_interval('10:00', line[0])\n",
    "                naptime.append([interval, '10:00'])\n",
    "        if a == (n - 1):\n",
    "            if line[1] != '18:00':\n",
    "                interval = find_interval(line[1], '18:00')\n",
    "                naptime.append([interval, line[1]])\n",
    "    for k, b in enumerate(list1):\n",
    "        if k != len(list1) - 1:\n",
    "            if b[1] != list1[k + 1][0]:\n",
    "                interval = find_interval(b[1], list1[k + 1][0])\n",
    "                naptime.append([interval, b[1]])\n",
    "    choose_list = [c[0] for c in naptime]\n",
    "    choose = int(max(choose_list))\n",
    "    for d in naptime:\n",
    "        if d[0] == choose:\n",
    "            start = d[1]\n",
    "            break\n",
    "    hours = choose // 60\n",
    "    minutes = choose % 60\n",
    "    if hours == 0:\n",
    "        print('Day #' + str(num) + ':' + ' the longest nap starts at ' + str(start) + ' and will last for ' + str(minutes) + ' minutes.')\n",
    "    else:\n",
    "        print('Day #' + str(num) + ':' + ' the longest nap starts at ' + str(start) + ' and will last for ' + str(hours) + ' hours and ' + str(minutes) + ' minutes.')"
   ]
  },
  {
   "cell_type": "markdown",
   "metadata": {},
   "source": [
    "FatalEagle is playing with blocks with each with a distinct number on them. He is trying to learn how to sort the blocks in ascending order with bubble sort. He would like you to show him the steps to sort his blocks.\n",
    "\n",
    "\n",
    "\n",
    "Input Specification\n",
    "\n",
    "The first line will have the integer .\n",
    "\n",
    "The next line have integers, each separated with a space.\n",
    "\n",
    "Output Specification\n",
    "\n",
    "Print the initial block sequence, then after each time bubble sort swaps two elements, print the current block sequence.\n",
    "\n",
    "Sample Input 1\n",
    "\n",
    "2\n",
    "\n",
    "2 1\n",
    "\n",
    "Sample Output 2\n",
    "\n",
    "2 1\n",
    "\n",
    "1 2\n",
    "\n",
    "Sample Input 2\n",
    "\n",
    "6\n",
    "\n",
    "9 1 2 6 4 7\n",
    "\n",
    "Sample Output 2\n",
    "\n",
    "9 1 2 6 4 7\n",
    "\n",
    "1 9 2 6 4 7\n",
    "\n",
    "1 2 9 6 4 7\n",
    "\n",
    "1 2 6 9 4 7\n",
    "\n",
    "1 2 6 4 9 7\n",
    "\n",
    "1 2 6 4 7 9\n",
    "\n",
    "1 2 4 6 7 9"
   ]
  },
  {
   "cell_type": "code",
   "execution_count": 1,
   "metadata": {},
   "outputs": [
    {
     "name": "stdout",
     "output_type": "stream",
     "text": [
      "6\n",
      "9 1 2 6 4 7\n",
      "9 1 2 6 4 7 \n",
      "1 9 2 6 4 7 \n",
      "1 2 9 6 4 7 \n",
      "1 2 6 9 4 7 \n",
      "1 2 6 4 9 7 \n",
      "1 2 6 4 7 9 \n",
      "1 2 4 6 7 9 \n"
     ]
    }
   ],
   "source": [
    "n = int(input())\n",
    "line = input()\n",
    "list1 = [int(s) for s in line.split()]\n",
    "str1 = ''\n",
    "for a in list1:\n",
    "    str1 += str(a)\n",
    "    str1 += ' '\n",
    "print(str1)\n",
    "for x in range(len(list1)):\n",
    "    for y in range(0, len(list1) - 1 - x): \n",
    "        if list1[y] > list1[y + 1]: \n",
    "            temp = list1[y]\n",
    "            list1[y] = list1[y + 1]\n",
    "            list1[y + 1] = temp\n",
    "            str1 = ''\n",
    "            for a in list1:\n",
    "                str1 += str(a)\n",
    "                str1 += ' '\n",
    "            print(str1)"
   ]
  },
  {
   "cell_type": "code",
   "execution_count": 120,
   "metadata": {},
   "outputs": [
    {
     "name": "stdout",
     "output_type": "stream",
     "text": [
      "5-3-2-1-8-6-9\n",
      "1-2-3-5-6-8-9\n",
      "1-2-3-6-9-8-5\n",
      "True\n",
      "False\n",
      "4\n"
     ]
    }
   ],
   "source": [
    "class Node(object):\n",
    "    def __init__(self, data):\n",
    "        self.data = data\n",
    "        self.left = None\n",
    "        self.right = None\n",
    "class Binary_tree(object):\n",
    "    def __init__(self):\n",
    "        self.root = None\n",
    "        \n",
    "    def _insert_node(self, node, data):\n",
    "        if data < node.data:\n",
    "            if node.left == None:\n",
    "                node.left = Node(data)\n",
    "            else:\n",
    "                self._insert_node(node.left, data)\n",
    "        elif data > node.data:\n",
    "            if node.right == None:\n",
    "                node.right = Node(data)\n",
    "            else:\n",
    "                self._insert_node(node.right, data)\n",
    "        else:\n",
    "            print('Already exists')\n",
    "    def insert_node(self, data):\n",
    "        if self.root == None:\n",
    "            self.root = Node(data)\n",
    "        else:\n",
    "            self._insert_node(self.root, data)\n",
    "            \n",
    "    def pre_order(self, node):\n",
    "        if node==None:\n",
    "            return []\n",
    "        return [node.data] + self.pre_order(node.left) + self.pre_order(node.right)\n",
    "    \n",
    "    def in_order(self, node):\n",
    "        if node==None:\n",
    "            return []\n",
    "        return self.in_order(node.left) + [node.data] + self.in_order(node.right)\n",
    "    \n",
    "    def post_order(self, node):\n",
    "        if node==None:\n",
    "            return []\n",
    "        return self.post_order(node.left) + self.post_order(node.right) + [node.data]\n",
    "    \n",
    "    def print_tree(self, order):\n",
    "        if order not in [0, 1, 2]:\n",
    "            print('order should be 0, 1, or 2')\n",
    "        else:\n",
    "            if order==0:\n",
    "                list_nodes = self.pre_order(self.root)\n",
    "            elif order==1:\n",
    "                list_nodes = self.in_order(self.root) \n",
    "            else:\n",
    "                list_nodes = self.post_order(self.root) \n",
    "            list_nodes = [str(s) for s in list_nodes]\n",
    "            print('-'.join(list_nodes))\n",
    "    def find(self, data):\n",
    "        root = self.root\n",
    "        while root != None:\n",
    "            if data == root.data:\n",
    "                print(True)\n",
    "                break\n",
    "            elif data < root.data:\n",
    "                root = root.left\n",
    "            else:\n",
    "                root = root.right\n",
    "        if root == None:   \n",
    "            print(False)\n",
    "    def height(self):\n",
    "        root = self.root\n",
    "        print(self._height(root))\n",
    "    def _height(self, node):\n",
    "        if node == None:\n",
    "            return 0\n",
    "        else:\n",
    "            return max(self._height(node.left), self._height(node.right)) + 1\n",
    "bst_tree = Binary_tree()\n",
    "bst_tree.insert_node(5)\n",
    "bst_tree.insert_node(3)\n",
    "bst_tree.insert_node(8)\n",
    "bst_tree.insert_node(2)\n",
    "bst_tree.insert_node(1)\n",
    "bst_tree.insert_node(9)\n",
    "bst_tree.insert_node(6)\n",
    "bst_tree.print_tree(0)\n",
    "bst_tree.print_tree(1)\n",
    "bst_tree.print_tree(2)\n",
    "bst_tree.find(6)\n",
    "bst_tree.find(-1)\n",
    "bst_tree.height()"
   ]
  },
  {
   "cell_type": "markdown",
   "metadata": {},
   "source": [
    "Pinball Ranking\n",
    "Pinball is an arcade game in which an individual player controls a silver ball by means of flippers, with the\n",
    "objective of accumulating as many points as possible. At the end of each game, the player's score and rank\n",
    "are displayed. The score, an integer between 0 and 1 000 000 000, is that achieved by the player in the\n",
    "game just ended. The rank is displayed as \"r of n\". n is the total number of games ever played on the\n",
    "machine, and r is the position of the score for the just-ended game within this set.\n",
    "More precisely, r is one greater than the number of games whose score exceeds that of the game just\n",
    "ended.\n",
    "Input\n",
    "You are to implement the pinball machine's ranking algorithm. The first line of input contains a positive\n",
    "integer, t, the total number of games played in the lifetime of the machine. t lines follow, given the scores of\n",
    "these games, in chronological order.\n",
    "Output\n",
    "You are to output the average of the ranks (rounded to two digits after the decimal) that would be displayed\n",
    "on the board.\n",
    "At least one test case will have t ≤ 100. All test cases will have t ≤ 100 000.\n",
    "Sample Input\n",
    "5\n",
    "100\n",
    "200\n",
    "150\n",
    "170\n",
    "50\n",
    "Sample Output\n",
    "2.20\n",
    "Explanation\n",
    "The pinball screen would display (in turn):\n",
    "1 of 1\n",
    "1 of 2\n",
    "2 of 3\n",
    "2 of 4\n",
    "5 of 5\n",
    "The average rank is (1+1+2+2+5)/5 = 2.20."
   ]
  },
  {
   "cell_type": "code",
   "execution_count": 57,
   "metadata": {
    "scrolled": true
   },
   "outputs": [
    {
     "name": "stdout",
     "output_type": "stream",
     "text": [
      "5\n",
      "100\n",
      "200\n",
      "150\n",
      "170\n",
      "50\n",
      "2.20\n"
     ]
    }
   ],
   "source": [
    "n = int(input())\n",
    "list1 = []\n",
    "count = 0\n",
    "for x in range(n):\n",
    "    a = int(input())\n",
    "    list1.append(a)\n",
    "    list1 = sorted(list1)\n",
    "    index = list1[::-1].index(a)\n",
    "    count += (index + 1)\n",
    "rank = count / n\n",
    "if len(str(rank)) < 4:\n",
    "    str1 = str(rank)\n",
    "    add = 4 - len(str1)\n",
    "    for b in range(add):\n",
    "        str1 += '0'\n",
    "    print(str1)\n",
    "else:\n",
    "    print(round(rank, 2))"
   ]
  },
  {
   "cell_type": "markdown",
   "metadata": {},
   "source": [
    "Roy has a stack of student yearbook photos. He wants to lay the pictures on a flat surface edge-to-edge to form a filled\n",
    "rectangle with minimum perimeter. All photos must be fully visible. Each picture is a square with dimensions 1 unit by 1\n",
    "unit.\n",
    "For example, he would place 12 photos in the following configuration, where each photo is indicated with an X .\n",
    "XXXX\n",
    "XXXX\n",
    "XXXX\n",
    "Of course, he could orient them in the other direction, such as\n",
    "XXX\n",
    "XXX\n",
    "XXX\n",
    "XXX\n",
    "which would have the same perimeter, 14 units.\n",
    "Your program should repeatedly read a positive integer , the number of pictures to be laid out. For each input, it\n",
    "should print the smallest possible perimeter for a filled rectangle that is formed by laying all the pictures edge-to-edge.\n",
    "Also print the dimensions of this rectangle.\n",
    "You may assume that there are less than photos. An input value of indicates that the program should\n",
    "terminate.\n",
    "Sample Input\n",
    "100\n",
    "15\n",
    "195\n",
    "0\n",
    "Sample Output\n",
    "Minimum perimeter is 40 with dimensions 10 x 10\n",
    "Minimum perimeter is 16 with dimensions 3 x 5\n",
    "Minimum perimeter is 56 with dimensions 13 x 15"
   ]
  },
  {
   "cell_type": "code",
   "execution_count": 189,
   "metadata": {},
   "outputs": [
    {
     "name": "stdout",
     "output_type": "stream",
     "text": [
      "100\n",
      "15\n",
      "195\n",
      "0\n",
      "Minimum perimeter is 40 with dimensions 10 x 10\n",
      "Minimum perimeter is 16 with dimensions 3 x 5\n",
      "Minimum perimeter is 56 with dimensions 13 x 15\n"
     ]
    }
   ],
   "source": [
    "def find_factors(n):\n",
    "    list1 = []\n",
    "    for x in range(1, n + 1):\n",
    "        if n % x == 0:\n",
    "            list1.append(x)\n",
    "    if n == (int(n ** (1 / 2)) ** 2):\n",
    "        list1.append(int(n ** (1 / 2)))\n",
    "    return sorted(list1)\n",
    "a = int(input())\n",
    "list1 = []\n",
    "while a != 0:\n",
    "    list1.append(a)\n",
    "    a = int(input())\n",
    "list1 = [100, 15, 195]\n",
    "for x in list1:\n",
    "    list2 = find_factors(x)\n",
    "    index = (len(list2) // 2) - 1\n",
    "    perimeter = 2 * (list2[index] + list2[index + 1])\n",
    "    print('Minimum perimeter is ' + str(perimeter) + ' with dimensions ' + str(list2[index]) + ' x ' + str(list2[index + 1]))"
   ]
  },
  {
   "cell_type": "markdown",
   "metadata": {},
   "source": [
    "In the early days of computing, instructions had to be \"punched\" onto rectangular cards, one instruction per card. This\n",
    "card deck was then fed into a card reader so the program could be read and executed. Students put elastic bands\n",
    "around their card deck, and, often, carried their cards in a box for fear that they would become rearranged, and thus,\n",
    "their program would be incorrect.\n",
    "Poor Bill though... he left his cards right near a window and the wind blew his neat deck of cards all over the place, and\n",
    "thus his program is out of order! Bill decides to pick up the cards in some random order and then execute the program.\n",
    "Write a program to read and execute the commands in Bill's \"new\" program.\n",
    "Input Specification\n",
    "The programming language that Bill is using has only two variables ( and ) and seven different types of instructions.\n",
    "Initially, the variables and contain the value .\n",
    "There is one instruction per line. An instruction is an integer in the range , possibly followed by a variable name,\n",
    "which in turn is possibly followed by either a number or a variable.\n",
    "In all instructions below, the variable or may refer to either or . The specific instructions are:\n",
    "1 X n means set the variable to the integer value ;\n",
    "2 X means output the value of variable to the screen;\n",
    "3 X Y means calculate and store the value in variable ;\n",
    "4 X Y means calculate and store the value in variable ;\n",
    "5 X Y means calculate and store the value in variable ;\n",
    "6 X Y means calculate the quotient of and store the value in variable as an integer, discarding the\n",
    "remainder.\n",
    "7 means stop execution of this program.\n",
    "You may assume that all division instructions do not cause a division by zero, and that all other operations (including\n",
    "instruction 1) do not cause the computed/stored value to be larger than or smaller than .\n",
    "(To clarify division of negative numbers, and both have quotient and has quotient .)\n",
    "Output Specification\n",
    "Your program should output the value of the indicated variables, one integer per line, until the \"stop\" instruction has\n",
    "been read in, at which time your program should stop execution.\n",
    "Sample Input\n",
    "1 A 3\n",
    "1 B 4\n",
    "2 B\n",
    "2 A\n",
    "3 A B\n",
    "2 A\n",
    "5 A A\n",
    "2 A\n",
    "2 B\n",
    "7\n",
    "Sample Output\n",
    "4\n",
    "3\n",
    "7\n",
    "0\n",
    "4"
   ]
  },
  {
   "cell_type": "code",
   "execution_count": 220,
   "metadata": {},
   "outputs": [
    {
     "name": "stdout",
     "output_type": "stream",
     "text": [
      "1 A 3\n",
      "1 B 4\n",
      "2 B\n",
      "2 A\n",
      "3 A B\n",
      "2 A\n",
      "5 A A\n",
      "2 A\n",
      "2 B\n",
      "7\n",
      "4\n",
      "3\n",
      "7\n",
      "0\n",
      "4\n"
     ]
    }
   ],
   "source": [
    "a = input()\n",
    "list1 = []\n",
    "while a != '7':\n",
    "    list1.append(a.split(' '))\n",
    "    a = input()\n",
    "dict_var = {}\n",
    "for x in list1:\n",
    "    if x[0] == '1':\n",
    "        dict_var[x[1]] = int(x[2])\n",
    "        continue\n",
    "    if x[0] == '2':\n",
    "        print(dict_var[x[1]])\n",
    "        continue\n",
    "    if x[0] == '3':\n",
    "        dict_var[x[1]] = dict_var[x[1]] + dict_var[x[2]]\n",
    "    if x[0] == '4':\n",
    "        dict_var[x[1]] = dict_var[x[1]] * dict_var[x[2]]\n",
    "    if x[0] == '5':\n",
    "        dict_var[x[1]] = dict_var[x[1]] - dict_var[x[2]]\n",
    "    if x[0] == '6':\n",
    "        dict_var[x[1]] = dict_var[x[1]] // dict_var[x[2]]"
   ]
  },
  {
   "cell_type": "code",
   "execution_count": 272,
   "metadata": {},
   "outputs": [
    {
     "name": "stdout",
     "output_type": "stream",
     "text": [
      "4\n",
      "3\n",
      "7\n",
      "0\n",
      "4\n"
     ]
    }
   ],
   "source": [
    "dict_var = {}\n",
    "for x in list1:\n",
    "    if x[0] == '1':\n",
    "        dict_var[x[1]] = int(x[2])\n",
    "        continue\n",
    "    if x[0] == '2':\n",
    "        print(dict_var[x[1]])\n",
    "        continue\n",
    "    if x[0] == '3':\n",
    "        dict_var[x[1]] = dict_var[x[1]] + dict_var[x[2]]\n",
    "    if x[0] == '4':\n",
    "        dict_var[x[1]] = dict_var[x[1]] * dict_var[x[2]]\n",
    "    if x[0] == '5':\n",
    "        dict_var[x[1]] = dict_var[x[1]] - dict_var[x[2]]\n",
    "    if x[0] == '6':\n",
    "        dict_var[x[1]] = dict_var[x[1]] // dict_var[x[2]]"
   ]
  },
  {
   "cell_type": "code",
   "execution_count": 203,
   "metadata": {
    "scrolled": true
   },
   "outputs": [
    {
     "name": "stdout",
     "output_type": "stream",
     "text": [
      "0 10 20 30 \n",
      "Index of 20 is 2.\n",
      "0 10 40 20 30 \n",
      "0 10 20 30 \n",
      "Node does not exist.\n",
      "10 20 30 \n"
     ]
    }
   ],
   "source": [
    "class Node: \n",
    "    def __init__(self, data): \n",
    "        self.data = data\n",
    "        self.next = None \n",
    "\n",
    "class LinkedList: \n",
    "    def __init__(self): \n",
    "        self.root = None\n",
    "\n",
    "    def print_list(self):\n",
    "        node = self.root\n",
    "        while node != None:\n",
    "            print(node.data, end = ' ')\n",
    "            node = node.next\n",
    "        print('')\n",
    "        \n",
    "    def add(self, data):\n",
    "        new_node = Node(data)\n",
    "        connect = self.root\n",
    "        self.root = new_node\n",
    "        self.root.next = connect\n",
    "\n",
    "    def index(self, data):\n",
    "        node = self.root\n",
    "        index = 0\n",
    "        test = 0\n",
    "        while node != None:\n",
    "            if data == node.data:\n",
    "                print('Index of ' + str(node.data) + ' is ' + str(index) + '.')\n",
    "                test = 1\n",
    "                break\n",
    "            index += 1\n",
    "            node = node.next\n",
    "        if test == 0:\n",
    "            print('Node does not exist.')\n",
    "            \n",
    "    def add_index(self, index, data):\n",
    "        new_node = Node(data)\n",
    "        if index == 0:\n",
    "            root = self.root\n",
    "            self.root = new_node\n",
    "            new_node.next = root\n",
    "        else:\n",
    "            count = 0\n",
    "            node = self.root\n",
    "            while count != index - 1:\n",
    "                count += 1\n",
    "                node = node.next\n",
    "            temp = node.next\n",
    "            node.next = new_node\n",
    "            new_node.next = temp\n",
    "            \n",
    "    def remove(self):\n",
    "        self.root = self.root.next\n",
    "        \n",
    "    def remove_index(self, index):\n",
    "        node = self.root\n",
    "        count = 0\n",
    "        if index == 0:\n",
    "            self.root = node.next\n",
    "        else:\n",
    "            while node.next != None:\n",
    "                if count == index:\n",
    "                    break\n",
    "                count += 1\n",
    "                if count != 1:\n",
    "                    node = node.next\n",
    "            if node.next != None:\n",
    "                node.next = node.next.next\n",
    "            else:\n",
    "                print('Error')\n",
    "            \n",
    "                \n",
    "list1 = LinkedList() \n",
    "list1.root = Node(10)\n",
    "list1.root.next = Node(20)\n",
    "list1.root.next.next = Node(30)\n",
    "list1.add(0)\n",
    "list1.print_list()\n",
    "list1.index(20)\n",
    "list1.add_index(2, 40)\n",
    "list1.print_list()\n",
    "list1.remove_index(2)\n",
    "list1.print_list()\n",
    "list1.index(40)\n",
    "list1.remove()\n",
    "list1.print_list()"
   ]
  },
  {
   "cell_type": "markdown",
   "metadata": {},
   "source": [
    "CCC Level 1 W21 Class 6 HW.\n",
    "Write a Program to solve each one of the following problems. Name each question as mention in the\n",
    "question. Submit a zip file named as lastnamefirstnamec6HW contains the solution for each question.\n",
    "Submit a Google Doc called lastnamefirstname6HW with the source code for each one of the problems.\n",
    "Huffman Encoding\n",
    "There is an ingenious text-compression algorithm called Huffman coding, designed by David Huffman in\n",
    "1952.\n",
    "The basic idea is that each character is associated with a binary sequence (i.e., a sequence of 0s and\n",
    "1s). These binary sequences satisfy the prefix-free property: a binary sequence for one character is never\n",
    "a prefix of another character's binary sequence.\n",
    "It is worth noting that to construct a prefix-free binary sequence, simply put the characters as the leaves\n",
    "of a binary tree, and label the \"left\" edge as 0 and the \"right\" edge as 1. The path from the root to a leaf\n",
    "node forms the code for the character at that leaf node. For example, the following binary tree constructs\n",
    "a prefix-free binary sequence for the characters {A, B, C, D, E}:\n",
    "That is, A is encoded as 00, B is encoded as 01, C is encoded as 10, D is encoded 110 and E is encoded\n",
    "as 111.\n",
    "The benefit of a set of codes having the prefix-free property is that any sequence of these codes can be\n",
    "uniquely decoded into the original characters.\n",
    "Your task is to read a Huffman code (i.e., a set of characters and associated binary sequences) along\n",
    "with a binary sequence, and decode the binary sequence to its character representation.\n",
    "Input\n",
    "The first line of input will be an integer k (1 ≤ k ≤ 20), representing the number of characters and\n",
    "associated codes. The next k lines each contain a single character, followed by a space, followed by the\n",
    "binary sequence (of length at most 10) representing the associated code of that character. You may\n",
    "assume that the character is an alphabet character (i.e., 'a'...'z' and 'A'..'Z'). You may assume that the\n",
    "sequence of binary codes has the prefix-free property. On the (k + 2)th line is the binary sequence which \n",
    "CCC Level 1 W21 Class 6 HW.\n",
    "Write a Program to solve each one of the following problems. Name each question as mention in the\n",
    "question. Submit a zip file named as lastnamefirstnamec6HW contains the solution for each question.\n",
    "Submit a Google Doc called lastnamefirstname6HW with the source code for each one of the problems.\n",
    "is to be decoded. You may assume the binary sequence contains codes associated with the given\n",
    "characters, and that the (k + 2)th line contains no more than 250 binary digits.\n",
    "Output\n",
    "On one line, output the characters that correspond to the given binary sequence.\n",
    "Sample Input\n",
    "5\n",
    "A 00\n",
    "B 01\n",
    "C 10\n",
    "D 110\n",
    "E 111\n",
    "00000101111\n",
    "Sample Output\n",
    "AABBE"
   ]
  },
  {
   "cell_type": "code",
   "execution_count": null,
   "metadata": {},
   "outputs": [],
   "source": [
    "n = int(input())\n",
    "dict1 = {}\n",
    "for x in range(n):\n",
    "    line = input()\n",
    "    line = line.split(' ')\n",
    "    dict1[line[0]] = line[1]\n",
    "decoding = input()\n",
    "list1 = []\n",
    "while decoding != '':\n",
    "    for a in dict1.keys():\n",
    "        if dict1[a] == decoding[:len(dict1[a])]:\n",
    "            list1.append(a)\n",
    "            decoding = decoding[len(dict1[a]):]\n",
    "for b in list1:\n",
    "    print(b, end = '')"
   ]
  },
  {
   "cell_type": "markdown",
   "metadata": {},
   "source": [
    "Nowadays, almost any item can be bought and sold on the internet. The problem is shipping. Before an\n",
    "item can be sent, it must be carefully packaged in a cardboard box to protect it.\n",
    "While items come in many shapes and sizes, finding a box just the right size can be a problem. If the box\n",
    "is too small, the item will not fit. If the box is unnecessarily big, shipping cost will be higher, and the item is\n",
    "more likely to move around inside the box, and it may break.\n",
    "Cardboard box manufacturers offer a fixed set of standard box sizes. Your task is to find the standard box\n",
    "size with the smallest volume into which an item will fit.\n",
    "Each box is a rectangular prism with a given length, width, and height. Each item is also a rectangular\n",
    "prism with a given length, width, and height. An item may be rotated by multiples of 90 degrees in any\n",
    "direction before being packed into a box, but when it is packed, its faces must be parallel to the faces of\n",
    "the box. An item will fit into a box as long as its dimensions are equal to or less than the dimensions of\n",
    "the box.\n",
    "Input\n",
    "The first line of input will contain a single integer n; 0 < n < 1000, the number of different sizes of boxes\n",
    "available. The next n lines will contain three integers each, giving the length, width, and height of a box.\n",
    "The following line will contain a single integer m; 0 < m < 1000, the number of items to be packaged.\n",
    "The next m lines will contain three integers each, giving the length, width, and height of an item. All\n",
    "dimensions will be in millimetres and in the range from 1 mm to 2000 mm.\n",
    "Output\n",
    "Output is to consist of m lines, one for each item in the input. For each item, output a line containing a\n",
    "single integer, the volume (in mm³) of the smallest box into which the item will fit. The same size of box\n",
    "may be reused for any number of items. If an item does not fit in any box, print the line: Item does not\n",
    "fit. (with a period!)\n",
    "Sample Input\n",
    "3\n",
    "1 2 3\n",
    "2 3 4\n",
    "3 4 5\n",
    "5\n",
    "1 1 1\n",
    "2 2 2\n",
    "4 3 2\n",
    "4 3 3\n",
    "4 4 4\n",
    "CCC Level 1 W20 Class 7 HW.\n",
    "Write a Program to solve each one of the following problems. Name each question as mention in the\n",
    "question. Submit a zip file named as lastnamefirstnamec7HW contains the solution for each question.\n",
    "Submit a Google Doc called lastnamefirstname7HW with the source code for each one of the problems.\n",
    "Sample Output\n",
    "6\n",
    "24\n",
    "24\n",
    "60\n",
    "Item does not fit."
   ]
  },
  {
   "cell_type": "code",
   "execution_count": 204,
   "metadata": {
    "scrolled": true
   },
   "outputs": [
    {
     "name": "stdout",
     "output_type": "stream",
     "text": [
      "3\n",
      "1 2 3\n",
      "2 3 4\n",
      "3 4 5\n",
      "5\n",
      "1 1 1\n",
      "2 2 2\n",
      "4 3 2\n",
      "4 3 3\n",
      "4 4 4\n",
      "[['1', '2', '3'], ['2', '3', '4'], ['3', '4', '5']]\n",
      "[['1', '1', '1'], ['2', '2', '2'], ['4', '3', '2'], ['4', '3', '3'], ['4', '4', '4']]\n"
     ]
    }
   ],
   "source": [
    "num_boxes = int(input())\n",
    "boxes = []\n",
    "for x in range(num_boxes):\n",
    "    a = input()\n",
    "    boxes.append(a.split(' '))\n",
    "num_items = int(input())\n",
    "items = []\n",
    "for y in range(num_items):\n",
    "    a = input()\n",
    "    items.append(a.split(' '))\n",
    "for x in items:\n",
    "    options = []\n",
    "    x = [int(s) for s in x]\n",
    "    for a in boxes:\n",
    "        a = [int(s) for s in a]\n",
    "        list1 = sorted(x)\n",
    "        list2 = sorted(a)\n",
    "        count = 0\n",
    "        for k, b in enumerate(list1):\n",
    "            if b <= list2[k]:\n",
    "                count += 1\n",
    "        if count == 3:\n",
    "            options.append(a)\n",
    "    minimum = float('inf')\n",
    "    if options == []:\n",
    "        print('Item does not fit.')\n",
    "        break\n",
    "    for c in options:\n",
    "        list1 = sorted(c)\n",
    "        product = 1\n",
    "        for d in list1:\n",
    "            product *= d\n",
    "        if product < minimum:\n",
    "            minimum = product\n",
    "    print(minimum)"
   ]
  },
  {
   "cell_type": "code",
   "execution_count": 234,
   "metadata": {},
   "outputs": [
    {
     "name": "stdout",
     "output_type": "stream",
     "text": [
      "6\n",
      "24\n",
      "24\n",
      "60\n",
      "Item does not fit.\n"
     ]
    }
   ],
   "source": [
    "boxes = [['1', '2', '3'], ['2', '3', '4'], ['3', '4', '5']]\n",
    "items = [['1', '1', '1'], ['2', '2', '2'], ['4', '3', '2'], ['4', '3', '3'], ['4', '4', '4']]\n",
    "for x in items:\n",
    "    options = []\n",
    "    x = [int(s) for s in x]\n",
    "    for a in boxes:\n",
    "        a = [int(s) for s in a]\n",
    "        list1 = sorted(x)\n",
    "        list2 = sorted(a)\n",
    "        count = 0\n",
    "        for k, b in enumerate(list1):\n",
    "            if b <= list2[k]:\n",
    "                count += 1\n",
    "        if count == 3:\n",
    "            options.append(a)\n",
    "    minimum = float('inf')\n",
    "    if options == []:\n",
    "        print('Item does not fit.')\n",
    "        break\n",
    "    for c in options:\n",
    "        list1 = sorted(c)\n",
    "        product = 1\n",
    "        for d in list1:\n",
    "            product *= d\n",
    "        if product < minimum:\n",
    "            minimum = product\n",
    "    print(minimum)"
   ]
  },
  {
   "cell_type": "markdown",
   "metadata": {},
   "source": [
    "Jerseys\n",
    "A school team is trying to assign jerseys numbered 1, 2, 3, …, J to student athletes. The size of each\n",
    "jersey is either small (S), medium (M) or large (L).\n",
    "Each athlete has requested a specific jersey number and a preferred size. The athletes will not be\n",
    "satisfied with a jersey that is the wrong number or that is smaller than their preferred size. They will be\n",
    "satisfied with a jersey that is their preferred size or larger as long as it is the right number. Two students\n",
    "cannot be given the same jersey.\n",
    "Your task is to determine the maximum number of requests that can be satisfied.\n",
    "Input\n",
    "The first line of input is the integer J which is the number of jerseys.\n",
    "The second line of input is the integer A which is the number of athletes.\n",
    "The next J lines are each the characters S, M or L. Line j gives the size of jersey j (1 ≤ j ≤ J).\n",
    "The last A lines are each the character S, M or L followed by a space followed by an integer. Line a (1\n",
    "≤ a ≤ A) gives the requested size and jersey number for athlete a where the athletes are numbered 1, 2,\n",
    "3, …, A.\n",
    "For 50% of the test cases, 1 ≤ J ≤ 103 and 1 ≤ A ≤ 103\n",
    ".\n",
    "For the remaining 50% of the test cases, 1 ≤ J ≤ 106 and 1 ≤ A ≤ 106\n",
    ".\n",
    "Output\n",
    "The output will consist of a single integer which is the maximum number of requests that can be satisfied.\n",
    "Sample Input\n",
    "4\n",
    "3\n",
    "M\n",
    "S\n",
    "S\n",
    "L\n",
    "CCC Level 1 W20 Class 7 HW.\n",
    "Write a Program to solve each one of the following problems. Name each question as mention in the\n",
    "question. Submit a zip file named as lastnamefirstnamec7HW contains the solution for each question.\n",
    "Submit a Google Doc called lastnamefirstname7HW with the source code for each one of the problems.\n",
    "L 3\n",
    "S 3\n",
    "L 1\n",
    "Sample Output\n",
    "1\n",
    "Explanation\n",
    "Jersey 1 cannot be assigned because it is medium and athlete"
   ]
  },
  {
   "cell_type": "code",
   "execution_count": 239,
   "metadata": {},
   "outputs": [
    {
     "name": "stdout",
     "output_type": "stream",
     "text": [
      "4\n",
      "3\n",
      "M\n",
      "S\n",
      "S\n",
      "L\n",
      "L 3\n",
      "S 3\n",
      "L 1\n",
      "1\n"
     ]
    }
   ],
   "source": [
    "num_jerseys = int(input())\n",
    "num_athletes = int(input())\n",
    "jerseys = [None]\n",
    "wants = []\n",
    "for x in range(num_jerseys):\n",
    "    a = input()\n",
    "    jerseys.append(a)\n",
    "for x in range(num_athletes):\n",
    "    a = input()\n",
    "    a = a.split(' ')\n",
    "    wants.append(a)\n",
    "visited = []\n",
    "count = 0\n",
    "for x in wants:\n",
    "    want = []\n",
    "    if x[0] == 'S':\n",
    "        want = [jerseys[int(x[1])], x[1]]\n",
    "        if want not in visited:\n",
    "            visited.append(want)\n",
    "            count += 1\n",
    "    elif x[0] == 'M':\n",
    "        if jerseys[int(x[1])] == 'M' or jerseys[int(x[1])] == 'L':\n",
    "            want = [jerseys[x[1]], x[1]]\n",
    "            if want not in visited:\n",
    "                visited.append(want)\n",
    "                count += 1\n",
    "    else:\n",
    "        if jerseys[int(x[1])] == 'L':\n",
    "            want = [jerseys[int(x[1])], x[1]]\n",
    "            if want not in visited:\n",
    "                visited.append(want)\n",
    "                count += 1\n",
    "print(count)"
   ]
  },
  {
   "cell_type": "markdown",
   "metadata": {},
   "source": [
    "You are given a weighted undirected graph. The vertices are enumerated from 1 to n. Your task is to find\n",
    "the shortest path between vertex 1 and vertex n.\n",
    "Input\n",
    "The first line contains two integers n and m (2 ≤ n ≤ 105, 0 ≤ m ≤ 105), where n is the number of vertices\n",
    "and m is the number of edges.\n",
    "Following m lines contain one edge each in form ai,bi and wi (1≤ai,bi≤n,1≤wi≤106), where ai, bi are edge\n",
    "endpoints and wi is the length of the edge.\n",
    "It is possible that the graph has loops and multiple edges between pair of vertices.\n",
    "Output\n",
    "Write the only integer -1 in case of no path. Write the shortest path in opposite case. If there are many\n",
    "solutions, print any of them.\n",
    "Sample Inputs\n",
    "5 6\n",
    "1 2 2\n",
    "2 5 5\n",
    "2 3 4\n",
    "1 4 1\n",
    "4 3 3\n",
    "3 5 1\n",
    "5 6\n",
    "1 2 2\n",
    "2 5 5\n",
    "2 3 4\n",
    "1 4 1\n",
    "4 3 3 \n",
    "CCC Level 1 W21 Class 8 HW.\n",
    "Write a Program to solve each one of the following problems. Name each question as mention in the\n",
    "question. Submit a zip file named as lastnamefirstnamec8HW contains the solution for each question.\n",
    "Submit a Google Doc called lastnamefirstname8HW with the source code for each one of the problems.\n",
    "3 5 1\n",
    "Sample Outputs\n",
    "1 4 3 5\n",
    "1 4 3 5"
   ]
  },
  {
   "cell_type": "code",
   "execution_count": 4,
   "metadata": {
    "scrolled": true
   },
   "outputs": [
    {
     "name": "stdout",
     "output_type": "stream",
     "text": [
      "1 4 3 5 "
     ]
    }
   ],
   "source": [
    "def find_min_node(costs, visited):\n",
    "    minimum_node = None\n",
    "    minimum_cost = float('inf')\n",
    "    for x in costs.keys():\n",
    "        if x not in visited and costs[x] < minimum_cost:\n",
    "            minimum_node = x\n",
    "            minimum_cost = costs[x]\n",
    "    return minimum_node\n",
    "\n",
    "graph = {1: {2: 2, 4: 1}, 2: {5: 5, 3: 4}, 4: {3: 3}, 3: {5: 1}, 5: {}}\n",
    "costs = {}\n",
    "for x in graph.keys():\n",
    "    if x == 1:\n",
    "        costs[x] = 0\n",
    "    else:\n",
    "        costs[x] = float('inf')\n",
    "\n",
    "parents = {}\n",
    "start_node = 1\n",
    "parents[start_node] = None\n",
    "\n",
    "visited = []\n",
    "while True:\n",
    "    min_node = find_min_node(costs, visited) \n",
    "    if min_node == None:\n",
    "        break\n",
    "    visited.append(min_node)\n",
    "    for x in graph[min_node].keys():\n",
    "        c = costs[min_node] + graph[min_node][x]\n",
    "        if c < costs[x]:\n",
    "            costs[x] = c\n",
    "            parents[x] = min_node\n",
    "list1 = []\n",
    "parent = n\n",
    "list1.append(n)\n",
    "while parents[parent] != None:\n",
    "    parent = parents[parent]\n",
    "    list1.append(parent)\n",
    "for x in list1[::-1]:\n",
    "    print(x, end = ' ')"
   ]
  },
  {
   "cell_type": "markdown",
   "metadata": {},
   "source": [
    "In an episode of the Dick Van Dyke show, little Richie connects the freckles on his Dad’s back to form a picture of the Liberty Bell. Alas, one of the freckles turns out to be a scar, so his Ripley’s engagement falls through.\n",
    "\n",
    "Consider Dick’s back to be a plane with freckles at various (x, y) locations. Your job is to tell Richie how to connect the dots so as to minimize the amount of ink used. Richie connects the dots by drawing straight lines between pairs, possibly lifting the pen between lines. When Richie is done there must be a sequence of connected lines from any freckle to any other freckle.\n",
    "\n",
    "Input\n",
    "\n",
    "The input begins with a single positive integer on a line by itself indicating the numberm of test cases, followed by a blank line.\n",
    "\n",
    "The first line of each test case contains 0 < n ≤ 100, giving the number of freckles on Dick’s back. For each freckle, a line follows; each following line contains two real numbers\n",
    "\n",
    "indicating the (x, y) coordinates of the freckle. There is a blank line between each two consecutive test cases.\n",
    "\n",
    "Output\n",
    "\n",
    "For each test case, your program must print a single real number to two decimal places: the minimum total length of ink lines that can connect all the freckles. The output of each two consecutive cases must be separated by a blank line.\n",
    "\n",
    "Sample Input\n",
    "\n",
    "1\n",
    "\n",
    "3\n",
    "\n",
    "1.0 1.0\n",
    "\n",
    "2.0 2.0\n",
    "\n",
    "2.0 4.0\n",
    "\n",
    "Sample Output\n",
    "\n",
    "3.41"
   ]
  },
  {
   "cell_type": "code",
   "execution_count": 2,
   "metadata": {},
   "outputs": [
    {
     "name": "stdout",
     "output_type": "stream",
     "text": [
      "1\n",
      "3\n",
      "1.0 1.0\n",
      "2.0 2.0\n",
      "2.0 4.0\n",
      "3.41\n"
     ]
    }
   ],
   "source": [
    "def find_min_node(visited):\n",
    "    min_cost = float('inf')\n",
    "    min_node = None\n",
    "    for x in visited:\n",
    "        for y in graph[x].keys():\n",
    "            if y not in visited:\n",
    "                if min_cost > graph[x][y]:\n",
    "                    min_cost = graph[x][y]\n",
    "                    min_node = y\n",
    "                    parent = x\n",
    "    parents[min_node] = parent\n",
    "    return min_node, min_cost, parent\n",
    "\n",
    "def distance(x, y):\n",
    "    return (((y[0] - x[0]) ** 2) + ((y[1] - x[1]) ** 2)) ** (1/2)\n",
    "\n",
    "test_cases = int(input())\n",
    "for x in range(test_cases):\n",
    "    list1 = []\n",
    "    freckles = int(input())\n",
    "    for a in range(freckles):\n",
    "        line = input()\n",
    "        line = line.split(' ')\n",
    "        line = [float(s) for s in line]\n",
    "        line = tuple(line)\n",
    "        list1.append(line)\n",
    "    graph = {}\n",
    "    for a in list1:\n",
    "        graph[a] = {}\n",
    "        for b in list1:\n",
    "            if a != b:\n",
    "                graph[a][b] = distance(a, b)\n",
    "    start_node = list1[0]\n",
    "    visited = [start_node]\n",
    "    parents = {start_node: None}\n",
    "    total_cost = 0\n",
    "\n",
    "    while len(visited) != len(graph.keys()):\n",
    "        min_node, min_cost, parent = find_min_node(visited)\n",
    "        if min_node == None:\n",
    "            break\n",
    "        visited.append(min_node)\n",
    "        total_cost += min_cost\n",
    "    print(round(total_cost, 2))"
   ]
  },
  {
   "cell_type": "markdown",
   "metadata": {},
   "source": [
    "Q1)Nature Reserve\n",
    "In a Nature Reserve and Wildlife Park, there are N environmental monitoring stations to monitor\n",
    "temperature, atmospheric pressure, humidity, fire, water quality, etc. Each station, labeled from 1 to N,\n",
    "uses solar panels to supply energy for its operations. There is a communication network consisting of\n",
    "several two-way communication channels between pairs of stations. All stations are connected via this\n",
    "communication network.\n",
    "To process data at each station, the Nature Reserve and Wildlife Park needs to install a Smart Data\n",
    "Analysis program (with the size of L bytes) to all environmental monitoring stations. The program is\n",
    "initially installed directly to S stations, then broadcast to and installed in all other stations via the\n",
    "communication network.\n",
    "To save energy, all communication channels are initially in an idle state and need to be activated to send\n",
    "information. It takes Eij energy units to activate the communication channel between station i and\n",
    "station j. Once a channel is activated, it takes one energy unit to transmit one byte via this channel.\n",
    "Your task is to determine the minimum energy units required to send the Smart Data Analysis program\n",
    "to all stations from the initial S stations.\n",
    "Input\n",
    "The input consists of several datasets. The first line of the input contains the number of datasets, which\n",
    "is a positive number and is not greater than 20. The following lines describe the datasets.\n",
    "Each dataset is described by the following lines:\n",
    "The first line contains four positive integers: the number of environmental monitoring stations N, the\n",
    "number of two-way communication channels M, the size of the program L (in bytes), and the number of\n",
    "initial stations S. The constraints are 1≤S≤N≤104, 1≤M≤106, M≤N(N−1)/2, and 1≤L≤106.\n",
    "The second line contains S positive integer representing the initial S stations.\n",
    "Each of the following M lines contains three positive integers i,j and Eij to denote that there is a two-way\n",
    "communicataion channel between station i and station j, and it takes Eij energy units to activate this\n",
    "channel (Eij≤106).\n",
    "CCC Level 1 W21 Class 9 HW.\n",
    "Write a Program to solve each one of the following problems. Name each question as mention in the\n",
    "question. Submit a zip file named as lastnamefirstnamec9HW contains the solution for each question.\n",
    "Submit a Google Doc called lastnamefirstname9HW with the source code for each one of the problems.\n",
    "Output\n",
    "For each data set, output the minimum energy units required to send the Smart Data Analysis program\n",
    "to all stations from the initial S stations.\n",
    "Sample Input 1\n",
    "1\n",
    "4 6 10 1\n",
    "3\n",
    "1 2 4\n",
    "1 3 8\n",
    "1 4 1\n",
    "2 3 2\n",
    "2 4 5\n",
    "3 4 20\n",
    "Sample Output 1\n",
    "37"
   ]
  },
  {
   "cell_type": "code",
   "execution_count": 1,
   "metadata": {},
   "outputs": [
    {
     "name": "stdout",
     "output_type": "stream",
     "text": [
      "1\n",
      "4 6 10 1\n",
      "3\n",
      "1 2 4\n",
      "1 3 8\n",
      "1 4 1\n",
      "2 3 2\n",
      "2 4 5\n",
      "3 4 20\n",
      "37\n"
     ]
    }
   ],
   "source": [
    "def find_min_node(visited):\n",
    "    min_cost = float('inf')\n",
    "    min_node = None\n",
    "    parent = None\n",
    "    for x in visited:\n",
    "        for y in graph[x].keys():\n",
    "            if y not in visited:\n",
    "                if min_cost > graph[x][y]:\n",
    "                    min_cost = graph[x][y]\n",
    "                    min_node = y\n",
    "                    parent = x\n",
    "    parents[min_node] = parent\n",
    "    return min_node, min_cost, parent\n",
    "\n",
    "n = int(input())\n",
    "line = input()\n",
    "line = [int(s) for s in line.split(' ')]\n",
    "num_nodes = line[0]\n",
    "num_edges = line[1]\n",
    "add_bytes = line[2]\n",
    "num_start_nodes = line[3]\n",
    "start_node = input()\n",
    "graph = {}\n",
    "for x in range(num_edges):\n",
    "    line = input()\n",
    "    line = line.split(' ')\n",
    "    if line[0] not in graph:\n",
    "        graph[line[0]] = {}\n",
    "    graph[line[0]][line[1]] = (int(line[2]) + add_bytes)\n",
    "    if line[1] not in graph:\n",
    "        graph[line[1]] = {}\n",
    "    graph[line[1]][line[0]] = (int(line[2]) + add_bytes)\n",
    "for y in range(1, num_nodes + 1):\n",
    "    if str(y) not in graph:\n",
    "        graph[str(y)] = {}\n",
    "visited = [start_node]\n",
    "parents = {start_node: None}\n",
    "total_cost = 0\n",
    "\n",
    "while len(visited) != len(graph.keys()):\n",
    "    min_node, min_cost, parent = find_min_node(visited)\n",
    "    if min_node == None:\n",
    "        break\n",
    "    visited.append(min_node)\n",
    "    total_cost += min_cost\n",
    "print(total_cost)"
   ]
  },
  {
   "cell_type": "code",
   "execution_count": 18,
   "metadata": {},
   "outputs": [
    {
     "name": "stdout",
     "output_type": "stream",
     "text": [
      "37\n",
      "{'3': None, '2': '3', '1': '2', '4': '1'}\n"
     ]
    }
   ],
   "source": [
    "def find_min_node(visited):\n",
    "    min_cost = float('inf')\n",
    "    min_node = None\n",
    "    parent = None\n",
    "    for x in visited:\n",
    "        for y in graph[x].keys():\n",
    "            if y not in visited:\n",
    "                if min_cost > graph[x][y]:\n",
    "                    min_cost = graph[x][y]\n",
    "                    min_node = y\n",
    "                    parent = x\n",
    "    parents[min_node] = parent\n",
    "    return min_node, min_cost, parent\n",
    "\n",
    "graph = {'1': {'2': 14, '3': 18, '4': 11}, '2': {'1': 14, '3': 12, '4': 15},\n",
    "         '3': {'1': 18, '2': 12, '4': 30}, '4': {'1': 11, '2': 15, '3': 30}}\n",
    "start_node = '3'\n",
    "visited = [start_node]\n",
    "parents = {start_node: None}\n",
    "total_cost = 0\n",
    "\n",
    "while len(visited) != len(graph.keys()):\n",
    "    min_node, min_cost, parent = find_min_node(visited)\n",
    "    if min_node == None:\n",
    "        break\n",
    "    visited.append(min_node)\n",
    "    total_cost += min_cost\n",
    "print(total_cost)"
   ]
  },
  {
   "cell_type": "markdown",
   "metadata": {},
   "source": [
    "Q2) Email\n",
    "There are n SMTP servers connected by network cables. Each of the m cables connects two computers\n",
    "and has a certain latency measured in milliseconds required to send an email message. What\n",
    "is the shortest time required to send a message from server S to server T along a sequence of cables?\n",
    "Assume that there is no delay incurred at any of the servers.\n",
    "Input\n",
    "The first line of input gives the number of cases, N. N test cases follow. Each one starts with a line\n",
    "containing n (2 ≤ n ≤ 20000), m (0 ≤ m ≤ 50000), S (0 ≤ S < n) and T (0 ≤ T < n). S ̸= T. The\n",
    "next m lines will each contain 3 integers: 2 different servers (in the range [0, n − 1]) that are connected\n",
    "by a bidirectional cable and the latency, w, along this cable (0 ≤ w ≤ 10000).\n",
    "CCC Level 1 W21 Class 9 HW.\n",
    "Write a Program to solve each one of the following problems. Name each question as mention in the\n",
    "question. Submit a zip file named as lastnamefirstnamec9HW contains the solution for each question.\n",
    "Submit a Google Doc called lastnamefirstname9HW with the source code for each one of the problems.\n",
    "Output\n",
    "For each test case, output the line ‘Case #x:’ followed by the number of milliseconds required to send\n",
    "a message from S to T. Print ‘unreachable’ if there is no route from S to T.\n",
    "Sample Input\n",
    "3\n",
    "2 1 0 1\n",
    "0 1 100\n",
    "3 3 2 0\n",
    "0 1 100\n",
    "0 2 200\n",
    "1 2 50\n",
    "2 0 0 1\n",
    "Sample Output\n",
    "Case #1: 100\n",
    "Case #2: 150\n",
    "Case #3: unreachable"
   ]
  },
  {
   "cell_type": "code",
   "execution_count": 17,
   "metadata": {},
   "outputs": [
    {
     "name": "stdout",
     "output_type": "stream",
     "text": [
      "3\n",
      "2 1 0 1\n",
      "0 1 100\n",
      "Case #1: 100\n",
      "3 3 2 0\n",
      "0 1 100\n",
      "0 2 200\n",
      "1 2 50\n",
      "Case #2: 150\n",
      "2 0 0 1\n",
      "Case #3: unreachable\n"
     ]
    }
   ],
   "source": [
    "def find_min_node(costs, visited):\n",
    "    minimum_node = None\n",
    "    minimum_cost = float('inf')\n",
    "    for x in costs.keys():\n",
    "        if x not in visited and costs[x] < minimum_cost:\n",
    "            minimum_node = x\n",
    "            minimum_cost = costs[x]\n",
    "    return minimum_node\n",
    "\n",
    "n = int(input())\n",
    "for x in range(1, n + 1):\n",
    "    line = input()\n",
    "    line = [int(s) for s in line.split(' ')]\n",
    "    num_nodes = line[0]\n",
    "    num_edges = line[1]\n",
    "    start_node = line[2]\n",
    "    end_node = line[3]\n",
    "    graph = {}\n",
    "    if num_edges == 0:\n",
    "        print('Case #' + str(x) + ': unreachable')\n",
    "        continue\n",
    "    for a in range(num_edges):\n",
    "        line = input()\n",
    "        line = [int(s) for s in line.split(' ')]\n",
    "        if line[0] not in graph:\n",
    "            graph[line[0]] = {}\n",
    "        graph[line[0]][line[1]] = line[2]\n",
    "        if line[1] not in graph:\n",
    "            graph[line[1]] = {}\n",
    "        graph[line[1]][line[0]] = line[2]\n",
    "    costs = {}\n",
    "    for x in graph.keys():\n",
    "        for y in graph[x]:\n",
    "            if x == start_node:\n",
    "                costs[x] = 0\n",
    "            else:\n",
    "                costs[x] = float('inf')\n",
    "    visited = []\n",
    "    while True:\n",
    "        min_node = find_min_node(costs, visited)\n",
    "        if min_node == end_node:\n",
    "            print('Case #' + str(x) + ': ' + str(costs[min_node]))\n",
    "            break\n",
    "        if min_node == None:\n",
    "            print('Case #' + str(x) + ': unreachable')\n",
    "            break\n",
    "        visited.append(min_node)\n",
    "        for x in graph[min_node].keys():\n",
    "            c = costs[min_node] + graph[min_node][x]\n",
    "            if c < costs[x]:\n",
    "                costs[x] = c"
   ]
  },
  {
   "cell_type": "markdown",
   "metadata": {},
   "source": [
    "Who is taller?\n",
    "You have a few minutes before your class starts, and you decide to compare the heights of your\n",
    "classmates. You dont have an accurate measuring device, so you just compare relative heights between\n",
    "two people: you stand two people back-to-back, and determine which one of the two is taller.\n",
    "Conveniently, none of your classmates are the same height, and you always compare correctly (i.e., you\n",
    "never make a mistake in your comparisons).\n",
    "After you have done all of your comparisons, you would like to determine who the tallest person is\n",
    "between two particular classmates.\n",
    "Input\n",
    "The first line contains two integers N and M separated by one space. N, the number of people in the\n",
    "class, is an integer with 1 ≤ N ≤ 1000000. M, the number of comparisons that have already been done, is\n",
    "an integer with 1 ≤ M ≤ 10000000. Each of the next Mlines contains two distinct\n",
    "integers x and y (1 ≤ x, y ≤ N) separated by a space, indicating that person number x was determined to\n",
    "be taller than person number y. Finally, the last line contains two distinct integers p and q (1 ≤ p, q ≤ N)\n",
    "separated by one space: your goal is to determine, if possible, whether person p is taller than person q.\n",
    "Note that it may be the case that neither p nor q occur in the input concerning measurements between\n",
    "classmates, and each measurement between any two particular people will be recorded exactly once.\n",
    "Output\n",
    "The output is one line, containing one of three possible strings:\n",
    "• yes (if p is taller than q),\n",
    "• no (if q is taller than p),\n",
    "• unknown (if there is not enough information to determine the relative heights of p and q).\n",
    "Sample Input 1\n",
    "10 3\n",
    "8 4\n",
    "3 8\n",
    "4 2\n",
    "3 2\n",
    "Sample Output 1\n",
    "yes\n",
    "Sample Input 2\n",
    "CCC Level 1 W21 Class 10 HW.\n",
    "Write a Program to solve each one of the following problems. Name each question as mention in the\n",
    "question. Submit a zip file named as lastnamefirstnamec10HW contains the solution for each question.\n",
    "Submit a Google Doc called lastnamefirstname10HW with the source code for each one of the\n",
    "problems.\n",
    "10 3\n",
    "3 8\n",
    "2 8\n",
    "3 4\n",
    "3 2\n",
    "Sample Output 2\n",
    "unknown"
   ]
  },
  {
   "cell_type": "code",
   "execution_count": 237,
   "metadata": {},
   "outputs": [
    {
     "name": "stdout",
     "output_type": "stream",
     "text": [
      "10 3\n",
      "8 4\n",
      "3 8\n",
      "4 2\n",
      "3 2\n",
      "yes\n"
     ]
    }
   ],
   "source": [
    "def bfs(graph, start_node):\n",
    "    visited = []\n",
    "    visited.append(start_node)\n",
    "    paths = [[start_node]]\n",
    "    while paths:\n",
    "        current_path = paths.pop(0)\n",
    "        current_node = current_path[-1]\n",
    "        for x in graph[current_node]:\n",
    "            if x not in visited:\n",
    "                visited.append(x)\n",
    "                paths.append(current_path+[x])\n",
    "\n",
    "line = input()\n",
    "line = line.split(' ')\n",
    "n = int(line[0])\n",
    "m = int(line[1])\n",
    "graph = {}\n",
    "for a in range(1, n + 1):\n",
    "    if a not in graph:\n",
    "        graph[a] = []\n",
    "for x in range(m):\n",
    "    line = input()\n",
    "    line = line.split(' ')\n",
    "    graph[int(line[0])].append(int(line[1]))\n",
    "line = input()\n",
    "line = line.split(' ')\n",
    "visited = bfs(graph, int(line[0]))\n",
    "if int(line[1]) in visited:\n",
    "    print('yes')\n",
    "else:\n",
    "    visited = bfs(graph, int(line[1]))\n",
    "    if int(line[0]) in visited:\n",
    "        print('no')\n",
    "    else:\n",
    "        print('unknown')"
   ]
  },
  {
   "cell_type": "markdown",
   "metadata": {},
   "source": [
    "The Alaska Highway runs 1422 miles from Dawson Creek, British Columbia to Delta Junction, Alaska. Brenda would like to be the first person to drive her new electric car the length of the highway. Her car can travel up to 200 miles once charged at a special charging station. There is a charging station in Dawson Creek, where she begins her journey, and also several charging stations along the way. Can Brenda drive her car from Dawson City to Delta Juntion and back? \n",
    "\n",
    "Input Specification\n",
    "\n",
    "The input contains several scenario. Each scenario begins with a line containing n, a positive number indicating the number of charging stations. n lines follow, each giving the location of a filling station on the highway, including the one in Dawson City. The location is an integer between 0 and 1422, inclusive, indicating the distance in miles from Dawson Creek. No two filling stations are at the same location. A line containing 0 follows the last scenario. \n",
    "\n",
    "\n",
    "\n",
    "\n",
    "\n",
    "Sample Input\n",
    "\n",
    "2\n",
    "\n",
    "0\n",
    "\n",
    "900\n",
    "\n",
    "8\n",
    "\n",
    "1400\n",
    "\n",
    "1200\n",
    "\n",
    "1000\n",
    "\n",
    "800\n",
    "\n",
    "600\n",
    "\n",
    "400\n",
    "\n",
    "200\n",
    "\n",
    "0\n",
    "\n",
    "0\n",
    "\n",
    "Output Specification\n",
    "\n",
    "For each scenario, output a line containing POSSIBLE if Brenda can make the trip. Otherwise, output a line containing the word IMPOSSIBLE. \n",
    "\n",
    "Output for Sample Input\n",
    "\n",
    "IMPOSSIBLE\n",
    "\n",
    "POSSIBLE"
   ]
  },
  {
   "cell_type": "code",
   "execution_count": 67,
   "metadata": {},
   "outputs": [
    {
     "name": "stdout",
     "output_type": "stream",
     "text": [
      "2\n",
      "0\n",
      "900\n",
      "IMPOSSIBLE\n",
      "8\n",
      "1400\n",
      "1200\n",
      "1000\n",
      "800\n",
      "600\n",
      "400\n",
      "200\n",
      "0\n",
      "POSSIBLE\n",
      "0\n"
     ]
    }
   ],
   "source": [
    "a = int(input())\n",
    "while a != 0:\n",
    "    cs = []\n",
    "    for x in range(a):\n",
    "        cs.append(int(input()))\n",
    "    cs = sorted(cs)\n",
    "    count = 0\n",
    "    for k, b in enumerate(cs):\n",
    "        if k != len(cs) - 1:\n",
    "            if cs[k + 1] - b <= 200:\n",
    "                count += 1\n",
    "                continue\n",
    "            else:\n",
    "                print('IMPOSSIBLE')\n",
    "                break\n",
    "        else:\n",
    "            if 2 * (1422 - b) <= 200:\n",
    "                count += 1\n",
    "                continue\n",
    "            else:\n",
    "                print('IMPOSSIBLE')\n",
    "                break\n",
    "    if count == len(cs):\n",
    "        print('POSSIBLE')\n",
    "    a = int(input())"
   ]
  },
  {
   "cell_type": "code",
   "execution_count": null,
   "metadata": {},
   "outputs": [],
   "source": [
    "At an open-source fair held at a major university, leaders of open-source projects put sign-up sheets on the wall, with the project name at the top in capital letters for identification.\n",
    "\n",
    "Students then signed up for projects using their userids. A userid is a string of lower-case letters and numbers starting with a letter.\n",
    "\n",
    "The organizer then took all the sheets off the wall and typed in the information.\n",
    "\n",
    "Your job is to summarize the number of students who have signed up for each project. Some students were overly enthusiastic and put their name down several times for the same project. That's okay, but they should only count once. Students were asked to commit to a single project, so any student who has signed up for more than one project should not count for any project.\n",
    "\n",
    "There are at most 10,000 students at the university, and at most 100 projects were advertised.\n",
    "\n",
    "Input Specification:\n",
    "\n",
    "The input contains several test cases, each one ending with a line that starts with the digit 1. The last test case is followed by a line starting with the digit 0.\n",
    "\n",
    "Each test case consists of one or more project sheets. A project sheet consists of a line containing the project name in capital letters, followed by the userids of students, one per line.\n",
    "\n",
    "Output Specification:\n",
    "\n",
    "For each test case, output a summary of each project sheet. The summary is one line with the name of the project followed by the number of students who signed up. These lines should be printed in decreasing order of number of signups. If two or more projects have the same number of signups, they should be listed in alphabetical order.\n",
    "\n",
    "Sample input\n",
    "\n",
    "UBQTS TXT\n",
    "\n",
    "tthumb\n",
    "\n",
    "LIVESPACE BLOGJAM\n",
    "\n",
    "philton\n",
    "\n",
    "aeinstein\n",
    "\n",
    "YOUBOOK\n",
    "\n",
    "j97lee\n",
    "\n",
    "sswxyzy\n",
    "\n",
    "j97lee\n",
    "\n",
    "aeinstein\n",
    "\n",
    "SKINUX\n",
    "\n",
    "1\n",
    "\n",
    "0\n",
    "\n",
    "Output for Sample Input\n",
    "\n",
    "YOUBOOK 2\n",
    "\n",
    "LIVESPACE BLOGJAM 1\n",
    "\n",
    "UBQTS TXT 1\n",
    "\n",
    "SKINUX 0"
   ]
  },
  {
   "cell_type": "code",
   "execution_count": 96,
   "metadata": {
    "scrolled": true
   },
   "outputs": [
    {
     "name": "stdout",
     "output_type": "stream",
     "text": [
      "UBQTS TXT\n",
      "a\n",
      "LIVESPACE BLOGJAM\n",
      "b\n",
      "c\n",
      "YOUBOOK\n",
      "d\n",
      "e\n",
      "d\n",
      "c\n",
      "SKINUX\n",
      "1\n",
      "SKINUX 0\n",
      "UBQTS TXT 1\n",
      "LIVESPACE BLOGJAM 1\n",
      "YOUBOOK 2\n",
      "0\n"
     ]
    }
   ],
   "source": [
    "dict1 = {}\n",
    "a = input()\n",
    "while a != '0':\n",
    "    b = a\n",
    "    while b != '1':\n",
    "        dict1[b] = []\n",
    "        line = input()\n",
    "        while line[0].isupper() == False:\n",
    "            if line == '1':\n",
    "                break\n",
    "            dict1[b].append(line)\n",
    "            line = input()\n",
    "        b = line\n",
    "    num_students = {}\n",
    "    for x in dict1.keys():\n",
    "        num_students[x] = list(set(dict1[x]))\n",
    "    all_students = []\n",
    "    for x in num_students.keys():\n",
    "        all_students = all_students + num_students[x]\n",
    "    visited = []\n",
    "    bad_students = []\n",
    "    for x in all_students:\n",
    "        if x not in visited:\n",
    "            visited.append(x)\n",
    "            if all_students.count(x) > 1:\n",
    "                bad_students.append(x)\n",
    "    for x in bad_students:\n",
    "        for y in num_students.keys():\n",
    "            if x in num_students[y]:\n",
    "                index = num_students[y].index(x)\n",
    "                hi = num_students[y].pop(index)\n",
    "    list1 = []\n",
    "    for x in num_students:\n",
    "        list1.append([len(num_students[x]), x])\n",
    "    list1 = sorted(list1, key = lambda x:x[1])\n",
    "    list1 = sorted(list1, key = lambda x:x[0], reverse = True)\n",
    "    for x in list1:\n",
    "        print(x[1], x[0])\n",
    "    a = input()"
   ]
  },
  {
   "cell_type": "markdown",
   "metadata": {},
   "source": [
    "The first line contains two integers n and m (2 ≤ n ≤ 105, 0 ≤ m ≤ 105), where n is the number of vertices and m is the number of edges.\n",
    "\n",
    "Following m lines contain one edge each in form ai,bi and wi (1≤ai,bi≤n,1≤wi≤106), where ai, bi are edge endpoints and wi is the length of the edge.\n",
    "\n",
    "It is possible that the graph has loops and multiple edges between pair of vertices.\n",
    "\n",
    "Output\n",
    "\n",
    "Write the only integer -1 in case of no path. Write the shortest path in opposite case. If there are many solutions, print any of them.\n",
    "\n",
    "\n",
    "\n",
    "Sample Inputs\n",
    "\n",
    "5 6 \n",
    "\n",
    "1 2 2 \n",
    "\n",
    "2 5 5 \n",
    "\n",
    "2 3 4 \n",
    "\n",
    "1 4 1 \n",
    "\n",
    "4 3 3 \n",
    "\n",
    "3 5 1 \n",
    "\n",
    "\n",
    "\n",
    "5 6 \n",
    "\n",
    "1 2 2 \n",
    "\n",
    "2 5 5 \n",
    "\n",
    "2 3 4 \n",
    "\n",
    "1 4 1 \n",
    "\n",
    "4 3 3 \n",
    "\n",
    "3 5 1 \n",
    "\n",
    "Sample Outputs\n",
    "\n",
    "1 4 3 5 \n",
    "\n",
    "1 4 3 5"
   ]
  },
  {
   "cell_type": "code",
   "execution_count": 107,
   "metadata": {},
   "outputs": [
    {
     "name": "stdout",
     "output_type": "stream",
     "text": [
      "5 6\n",
      "1 2 2\n",
      "2 5 5\n",
      "2 3 4\n",
      "1 4 1\n",
      "4 3 3\n",
      "3 5 1\n",
      "1 4 3 5 \n",
      "\n",
      "5 6\n",
      "1 2 2\n",
      "2 5 5\n",
      "2 3 4\n",
      "1 4 1\n",
      "4 3 3\n",
      "3 5 1\n",
      "1 4 3 5 \n"
     ]
    }
   ],
   "source": [
    "def find_min_node(costs, visited):\n",
    "    minimum_node = None\n",
    "    minimum_cost = float('inf')\n",
    "    for x in costs.keys():\n",
    "        if x not in visited and costs[x] < minimum_cost:\n",
    "            minimum_node = x\n",
    "            minimum_cost = costs[x]\n",
    "    return minimum_node\n",
    "for x in range(2):\n",
    "    if x == 1:\n",
    "        hi = input()\n",
    "    line = input()\n",
    "    line = [int(s) for s in line.split(' ')]\n",
    "    end_node = line[0]\n",
    "    edges = line[1]\n",
    "    graph = {}\n",
    "    for x in range(edges):\n",
    "        line = input()\n",
    "        line = [int(s) for s in line.split(' ')]\n",
    "        if line[0] not in graph:\n",
    "            graph[line[0]] = {}\n",
    "        graph[line[0]][line[1]] = line[2]\n",
    "    for x in range(1, end_node + 1):\n",
    "        if x not in graph:\n",
    "            graph[x] = {}\n",
    "    start_node = 1\n",
    "\n",
    "    costs = {}\n",
    "    for x in graph.keys():\n",
    "        if x == start_node:\n",
    "            costs[x] = 0\n",
    "        else:\n",
    "            costs[x] = float('inf')\n",
    "\n",
    "    parents = {}\n",
    "    parents[start_node] = None\n",
    "\n",
    "    visited = []\n",
    "    while True:\n",
    "        min_node = find_min_node(costs, visited) \n",
    "        if min_node == None:\n",
    "            break\n",
    "        visited.append(min_node)\n",
    "        for x in graph[min_node].keys():\n",
    "            c = costs[min_node] + graph[min_node][x]\n",
    "            if c < costs[x]:\n",
    "                costs[x] = c\n",
    "                parents[x] = min_node\n",
    "    list1 = [end_node]\n",
    "    x = end_node\n",
    "    while parents[x] != None:\n",
    "        list1.append(parents[x])\n",
    "        x = parents[x]\n",
    "    for x in list1[::-1]:\n",
    "        print(x, end = ' ')\n",
    "    print('')"
   ]
  },
  {
   "cell_type": "code",
   "execution_count": null,
   "metadata": {},
   "outputs": [],
   "source": [
    "You've been snowed in at your summer residence. And without the Internet! Unfortunately, this means you're going to have rely on using the phone to get what you need to survive: pizza, pop, and the latest video games.\n",
    "\n",
    "Often times, companies replace the digits in their phone numbers with characters to make their phone numbers more memorable. Because apparently, it's easier to remember 416-BUY-MORE than it is to remember 416-289-6673. Some companies even add extra digits or characters (like 604-PIZZABOX) but any digits after the 10th are irrelevant.\n",
    "\n",
    "Since it's getting tedious to do the conversion by hand, write a program to help change all the phone numbers in your phone book to the form xxx-xxx-xxxx, using the below image to assist you.\n",
    "\n",
    " \n",
    "\n",
    "Input\n",
    "\n",
    "Input consists of a series of test cases. The first line consists of an integer t, the number of test cases. Following this are t lines consisting of alpha-numeric characters separated by hyphens, representing valid phone numbers. All letters will be in uppercase. No line is longer than 40 characters.\n",
    "\n",
    "Output\n",
    "\n",
    "For each test case, output the phone number in the form xxx-xxx-xxxx to the screen.\n",
    "\n",
    "Sample Input\n",
    "\n",
    "5\n",
    "\n",
    "88-SNOW-5555\n",
    "\n",
    "519-888-4567\n",
    "\n",
    "BUY-MORE-POP\n",
    "\n",
    "416-PIZZA-BOX\n",
    "\n",
    "5059381123\n",
    "\n",
    "Sample Output\n",
    "\n",
    "887-669-5555\n",
    "\n",
    "519-888-4567\n",
    "\n",
    "289-667-3767\n",
    "\n",
    "416-749-9226\n",
    "\n",
    "505-938-1123"
   ]
  },
  {
   "cell_type": "code",
   "execution_count": 110,
   "metadata": {},
   "outputs": [
    {
     "name": "stdout",
     "output_type": "stream",
     "text": [
      "5\n",
      "88-SNOW-5555\n",
      "519-888-4567\n",
      "BUY-MORE-POP\n",
      "416-PIZZA-BOX\n",
      "5059381123\n",
      "887-669-5555\n",
      "519-888-4567\n",
      "289-667-3767\n",
      "416-749-9226\n",
      "505-938-1123\n"
     ]
    }
   ],
   "source": [
    "n = int(input())\n",
    "list_phones = []\n",
    "for x in range(n):\n",
    "    list_phones.append(input())\n",
    "dict1 = {'a':2, 'b':2, 'c':2, 'd':3, 'e':3, 'f':3, 'g':4, 'h':4, 'i':4, 'j':5, 'k':5, 'l':5, 'm':6, 'n':6,\n",
    "        'o':6, 'p':7, 'q':7, 'r':7, 's':7, 't':8, 'u':8, 'v':8, 'w':9, 'x':9, 'y':9, 'z':9}\n",
    "alphabet = 'abcdefghijklmnopqrstuvwxyz'\n",
    "alphabet = list(alphabet)\n",
    "for x in list_phones:\n",
    "    x = x.lower()\n",
    "    list1 = list(x)\n",
    "    for y in list1:\n",
    "        if y in alphabet:\n",
    "            x = x.replace(y, str(dict1[y]))\n",
    "    list1 = list(x)\n",
    "    list1 = [m for m in list1 if m != '-']\n",
    "    list1.insert(3, '-')\n",
    "    list1.insert(7, '-')\n",
    "    list1 = list1[:12]\n",
    "    str1 = ''.join(list1)\n",
    "    print(str1)"
   ]
  },
  {
   "cell_type": "markdown",
   "metadata": {},
   "source": [
    "Maximum Distance\n",
    "Consider two descending sequences of integers X[0..n-1] and Y[0..n-1] with X[i] ≥ X[i+1] and Y[i] ≥ Y[i+1]\n",
    "and for all i,\n",
    "0 ≤ i < n - 1. The distance between two elements X[i] and Y[j] is given by\n",
    "d(X[i], Y[j]) = j - i if j ≥ i and Y[j] ≥ X[i], or 0 otherwise\n",
    "The distance between sequence X and sequence Y is defined by\n",
    "d(X, Y) = max{d(X[i], Y[j]) | 0 ≤ i < n, 0 ≤ j < n}\n",
    "You may assume 0 < n ≤ 100,000.\n",
    "For example, for the sequences X and Y below, their maximum distance is reached for i = 2 and j = 7, so\n",
    "d(X, Y) = d(X[2], Y[7]) = 5.\n",
    " i=2\n",
    " |\n",
    "v\n",
    " X 8 8 4 4 4 3 3 3 1\n",
    "\n",
    " Y 9 9 8 8 6 5 5 4 3\n",
    " ^\n",
    " |\n",
    " j=7\n",
    "Sample Input\n",
    "2\n",
    "9\n",
    "8 8 4 4 4 3 3 3 1\n",
    "9 9 8 8 6 5 5 4 3\n",
    "7\n",
    "6 5 4 4 4 4 4\n",
    "3 3 3 3 3 3 3\n",
    "Sample Output\n",
    "The maximum distance is 5\n",
    "The maximum distance is 0\n",
    "CCC Level 1 W21 Class 11 HW.\n",
    "Write a Program to solve each one of the following problems. Name each question as mention in the\n",
    "question. Submit a zip file named as lastnamefirstnamec11HW contains the solution for each question.\n",
    "Submit a Google Doc called lastnamefirstname11HW with the source code for each one of the\n",
    "problems. "
   ]
  },
  {
   "cell_type": "code",
   "execution_count": 115,
   "metadata": {},
   "outputs": [
    {
     "name": "stdout",
     "output_type": "stream",
     "text": [
      "2\n",
      "9\n",
      "8 8 4 4 4 3 3 3 1\n",
      "9 9 8 8 6 5 5 4 3\n",
      "The maximum distance is 5\n",
      "7\n",
      "6 5 4 4 4 4 4\n",
      "3 3 3 3 3 3 3\n",
      "The maximum distance is 0\n"
     ]
    }
   ],
   "source": [
    "test_cases = int(input())\n",
    "dict_tests = {}\n",
    "for k in range(test_cases):\n",
    "    n = int(input())\n",
    "    line = input()\n",
    "    line2 = input()\n",
    "    list1 = [int(s) for s in line.strip().split(' ')]\n",
    "    list2 = [int(s) for s in line2.strip().split(' ')]\n",
    "    maximum = 0\n",
    "    for a, x in enumerate(list1):\n",
    "        for b, y in enumerate(list2):\n",
    "            if y < x:\n",
    "                break\n",
    "            if b >= a:\n",
    "                if b - a > maximum:\n",
    "                    maximum = b - a\n",
    "    print('The maximum distance is ' + str(maximum))"
   ]
  },
  {
   "cell_type": "markdown",
   "metadata": {},
   "source": [
    "Attack of the CipherTexts\n",
    "Ruby is a code-breaker. She knows that the very bad people (Mr. X and Mr. Z) are sending secret\n",
    "messages about very bad things to each other.\n",
    "However, Ruby has managed to intercept a plaintext message and the corresponding ciphertext\n",
    "message. By plaintext, we mean the message before it was encrypted (i.e., readable English sentences),\n",
    "and by ciphertext, we mean the message after it was encrypted (i.e., gibberish). To encrypt a message,\n",
    "each letter is changed to a new letter, so that if you read the ciphertext message, it is not obvious what\n",
    "the plaintext message is.\n",
    "However, Ruby being the outstanding code-breaker she is, knows the algorithm that Mr. X and Mr. Z use.\n",
    "She knows they simply map one letter to another (possibly different) letter when they encrypt their\n",
    "messages. Of course, this map must be “one-to-one”, meaning that each plaintext letter must correspond\n",
    "to exactly one ciphertext letter, as well as “onto”, meaning that each ciphertext letter has exactly one\n",
    "corresponding plaintext letter.\n",
    "Your job is to automate Ruby’s codebreaking and help save the world.\n",
    "Input\n",
    "The input consists of 3 strings, with each string on a separate line. The first string is the plaintext\n",
    "message which Ruby knows about. The second string is the ciphertext message which corresponds to\n",
    "the plaintext message. The third string is another ciphertext message. You may assume that all strings\n",
    "have length of at least 1 character and at most 80 characters. You can also assume that there are only 27\n",
    "valid characters: the uppercase letters (‘A’ through ‘Z’) as well as the space character (‘ ’). That is, there\n",
    "will be no punctuation, lowercase letters, or special characters (like ‘!’ or ‘@’) in either the plaintext or\n",
    "ciphertext messages.\n",
    "Output\n",
    "The output is a (plaintext) string which corresponds to the second ciphertext input. It may not be possible\n",
    "to determine each character of the second ciphertext string, however. If this is the case, the output should\n",
    "have a period (‘.’) character for those letters which cannot be determined.\n",
    "Sample Input 1\n",
    "THE QUICK BROWN FOX JUMPS OVER THE LAZY DOG\n",
    "UIFARVJDLACSPXOAGPYAKVNQTAPWFSAUIFAMB ZAEPH\n",
    "XFABSFAWFSZACBEAQFPQMFAEPJOHAWFSZACBEAUIJOHTAIBAIB\n",
    "Sample Output\n",
    "WE ARE VERY BAD PEOPLE DOING VERY BAD THINGS HA HA\n",
    "CCC Level 1 W21 Class 11 HW.\n",
    "Write a Program to solve each one of the following problems. Name each question as mention in the\n",
    "question. Submit a zip file named as lastnamefirstnamec11HW contains the solution for each question.\n",
    "Submit a Google Doc called lastnamefirstname11HW with the source code for each one of the\n",
    "problems.\n",
    "Explanation for Sample Output 1\n",
    "Notice that every plaintext character is in the first message, and so, the entire mapping can be computed.\n",
    "Sample Input 2\n",
    "THERE ARE NOT ENOUGH LETTERS\n",
    "XQAZASEZASNYXSANYLWQSTAXXAZM\n",
    "JSCENNYXSIACYIASXQJM\n",
    "Sample Output 2\n",
    ". .ANNOT .E.O.E TH.S\n",
    "Explanation for Sample Output 2\n",
    "Notice that the characters that cannot be determined are the (ciphertext) letters J, C, I, since these\n",
    "ciphertext letters do not appear in the earlier ciphertext message. It turns out that the plaintext message\n",
    "for the last ciphertext was I C"
   ]
  },
  {
   "cell_type": "code",
   "execution_count": 147,
   "metadata": {},
   "outputs": [
    {
     "name": "stdout",
     "output_type": "stream",
     "text": [
      "THERE ARE NOT ENOUGH LETTERS\n",
      "XQAZASEZASNYXSANYLWQSTAXXAZM\n",
      "JSCENNYXSIACYIASXQJM\n",
      ". .ANNOT .E.O.E TH.S\n"
     ]
    }
   ],
   "source": [
    "line = input()\n",
    "list1 = list(line)\n",
    "line = input()\n",
    "list2 = list(line)\n",
    "line = input()\n",
    "list3 = list(line)\n",
    "dict1 = {}\n",
    "for k, x in enumerate(list2):\n",
    "    if x not in dict1:\n",
    "        dict1[x] = list1[k]\n",
    "str1 = ''\n",
    "for a in list3:\n",
    "    if a not in dict1:\n",
    "        str1 = str1 + '.'\n",
    "        continue\n",
    "    str1 = str1 + str(dict1[a])\n",
    "print(str1)"
   ]
  },
  {
   "cell_type": "code",
   "execution_count": null,
   "metadata": {},
   "outputs": [],
   "source": []
  },
  {
   "cell_type": "code",
   "execution_count": null,
   "metadata": {},
   "outputs": [],
   "source": []
  },
  {
   "cell_type": "code",
   "execution_count": null,
   "metadata": {},
   "outputs": [],
   "source": [
    "def find_bottleneck_for_path(graph_res, path):\n",
    "    min_value = float('inf')\n",
    "    node = 's'\n",
    "    index = path.index(node)\n",
    "    while path[index + 1] != 't':\n",
    "        value = graph_res[node][path[index + 1]]\n",
    "        if value < min_value:\n",
    "            min_value = value\n",
    "        node = path[index + 1]\n",
    "        index = path.index(node)\n",
    "    return min_value\n",
    "\n",
    "def update_res_graph(graph_res, path, bottleneck):\n",
    "    for k, x in enumerate(path):\n",
    "        if x == 't':\n",
    "            break\n",
    "        graph_res[x][path[k + 1]] = graph_res[x][path[k + 1]] - bottleneck\n",
    "    path1 = path[::-1]\n",
    "    for k, x in enumerate(path1):\n",
    "        if x == 's':\n",
    "            continue\n",
    "        if x in graph_res:\n",
    "            if path1[k + 1] in graph_res[x]:\n",
    "                graph_res[x][path1[k + 1]] = graph_res[x][path1[k + 1]] + bottleneck\n",
    "            else:\n",
    "                graph_res[x][path1[k + 1]] = bottleneck\n",
    "        else:\n",
    "            graph_res[x][path1[k + 1]] = bottleneck\n",
    "    return graph_res\n",
    "def bfs(graph_res, start_node):\n",
    "    visited1 = []\n",
    "    visited1.append(start_node)\n",
    "    paths = [[start_node]]\n",
    "    while paths:\n",
    "        current_path = paths.pop(0)\n",
    "        current_node = current_path[-1]\n",
    "        for x in graph_res[current_node]:\n",
    "            if graph_res[current_node][x]>0:\n",
    "                if x not in visited1:\n",
    "                    if x == 't':\n",
    "                        return current_path + [x]\n",
    "                    visited1.append(x)\n",
    "                    paths.append(current_path + [x])\n",
    "    return None\n",
    "            "
   ]
  },
  {
   "cell_type": "code",
   "execution_count": null,
   "metadata": {},
   "outputs": [],
   "source": [
    "start_node = 's'\n",
    "end_node = 't'\n",
    "while True:\n",
    "    path = bfs(graph_res, start_node)\n",
    "    if path==None:\n",
    "        break\n",
    "    bottleneck = find_bottleneck_for_path(graph_res, path)\n",
    "    graph_res = update_res_graph(graph_res, path, bottleneck)\n",
    "print(graph)\n",
    "print(graph_res)\n",
    "dict_flow = {}\n",
    "for x in graph.keys():\n",
    "    dict_flow[x] = {}\n",
    "    for y in graph[x].keys():\n",
    "        difference = graph[x][y] - graph_res[x][y]\n",
    "        dict_flow[x][y] = difference\n",
    "print(dict_flow)\n",
    "count = 0\n",
    "for a in dict_flow['s'].keys():\n",
    "    count += dict_flow['s'][a]\n",
    "print('Max Flow is', count)"
   ]
  },
  {
   "cell_type": "markdown",
   "metadata": {},
   "source": [
    "## Bellman Ford"
   ]
  },
  {
   "cell_type": "code",
   "execution_count": 1,
   "metadata": {},
   "outputs": [],
   "source": [
    "graph = {}\n",
    "graph[1] = {}\n",
    "graph[1][2] = 2\n",
    "graph[2] = {}\n",
    "graph[2][3] = -10\n",
    "graph[3] = {}\n",
    "graph[3][4] = 3\n",
    "graph[4] = {}\n",
    "graph[4][1] = 7\n",
    "graph[4][2] = -5"
   ]
  },
  {
   "cell_type": "code",
   "execution_count": 73,
   "metadata": {},
   "outputs": [
    {
     "data": {
      "text/plain": [
       "True"
      ]
     },
     "execution_count": 73,
     "metadata": {},
     "output_type": "execute_result"
    }
   ],
   "source": [
    "import copy\n",
    "def find_min_node(costs, visited):\n",
    "    minimum_node = None\n",
    "    minimum_cost = float('inf')\n",
    "    for x in costs.keys():\n",
    "        if x not in visited and costs[x] < minimum_cost:\n",
    "            minimum_node = x\n",
    "            minimum_cost = costs[x]\n",
    "    return minimum_node\n",
    "\n",
    "def bellman_ford(graph):\n",
    "    list1 = []\n",
    "    start_node = 1\n",
    "    costs = {}\n",
    "    for x in graph.keys():\n",
    "        if x == start_node:\n",
    "            costs[x] = 0\n",
    "        else:\n",
    "            costs[x] = float('inf')\n",
    "    for y in range(len(graph.keys()) - 1):\n",
    "        parents = {}\n",
    "        parents[start_node] = None\n",
    "        visited = []\n",
    "        while True:\n",
    "            min_node = find_min_node(costs, visited) \n",
    "            if min_node == None:\n",
    "                break\n",
    "            visited.append(min_node)\n",
    "            for x in graph[min_node].keys():\n",
    "                c = costs[min_node] + graph[min_node][x]\n",
    "                if c < costs[x]:\n",
    "                    costs[x] = c\n",
    "                    parents[x] = min_node\n",
    "        list1.append(copy.deepcopy(costs))\n",
    "    first = list1[0]\n",
    "    count = 0\n",
    "    for x in list1:\n",
    "        if x == first:\n",
    "            count += 1\n",
    "    if count == len(list1):\n",
    "        return False\n",
    "    else:\n",
    "        return True\n",
    "bellman_ford(graph)"
   ]
  },
  {
   "cell_type": "markdown",
   "metadata": {},
   "source": [
    "## Shortest-path with Bellman-Ford algorithm"
   ]
  },
  {
   "cell_type": "code",
   "execution_count": 20,
   "metadata": {},
   "outputs": [],
   "source": [
    "def bellman_ford(graph, start_node):\n",
    "    costs = {}\n",
    "    costs = {}\n",
    "    for node in graph.keys():\n",
    "        if node==start_node:\n",
    "            costs[node] = 0\n",
    "        else:\n",
    "            costs[node] = float('inf')\n",
    "    for a in range(len(graph.keys())-1):\n",
    "        for start_node in graph.keys():\n",
    "            for end_node in graph[start_node].keys():\n",
    "                if costs[start_node] + graph[start_node][end_node] < costs[end_node]:\n",
    "                    costs[end_node] = costs[start_node] + graph[start_node][end_node]\n",
    "    for a in range(len(graph.keys())-1):\n",
    "        for start_node in graph.keys():\n",
    "            for end_node in graph[start_node].keys():\n",
    "                if costs[start_node] + graph[start_node][end_node] < costs[end_node]:\n",
    "                    costs[end_node] = -1 * float('inf') \n",
    "    return costs"
   ]
  },
  {
   "cell_type": "code",
   "execution_count": 21,
   "metadata": {},
   "outputs": [
    {
     "data": {
      "text/plain": [
       "{0: 0, 1: 5, 2: -inf, 3: -inf, 4: -inf, 5: 35, 6: 40, 7: -10, 8: -20, 9: -inf}"
      ]
     },
     "execution_count": 21,
     "metadata": {},
     "output_type": "execute_result"
    }
   ],
   "source": [
    "graph = {}\n",
    "graph[0] = {}\n",
    "graph[0][1] = 5\n",
    "graph[1] = {}\n",
    "graph[1][2] = 20\n",
    "graph[1][5] = 30\n",
    "graph[1][6] = 60\n",
    "graph[2] = {}\n",
    "graph[2][3] = 10\n",
    "graph[2][4] = 75\n",
    "graph[3] = {}\n",
    "graph[3][2] = -15\n",
    "graph[4] = {}\n",
    "graph[4][9] = 100\n",
    "graph[5] = {}\n",
    "graph[5][6] = 5\n",
    "graph[5][8] = 50\n",
    "graph[6] = {}\n",
    "graph[6][7] = -50\n",
    "graph[7] = {}\n",
    "graph[7][8] = -10\n",
    "graph[8] = {}\n",
    "graph[9] = {}\n",
    "bellman_ford(graph, 0)"
   ]
  },
  {
   "cell_type": "code",
   "execution_count": 22,
   "metadata": {},
   "outputs": [
    {
     "name": "stdout",
     "output_type": "stream",
     "text": [
      "[0, 1, 2, 3, 4, 9, 5, 6, 7, 8]\n",
      "{0: 0, 1: 5, 2: 20, 3: 35, 4: 100, 5: 35, 6: 40, 7: -10, 8: -20, 9: 200}\n"
     ]
    }
   ],
   "source": [
    "visited2 = []\n",
    "list_nodes = graph.keys()\n",
    "for node in list_nodes:\n",
    "    if node not in visited2:\n",
    "        visited = []\n",
    "        dfs(node)\n",
    "        for s in visited:\n",
    "            if s not in visited2:\n",
    "                visited2.append(s)\n",
    "print(visited2)\n",
    "\n",
    "\n",
    "start_node = 0\n",
    "costs = {}\n",
    "for x in graph.keys():\n",
    "    if x == start_node:\n",
    "        costs[x] = 0\n",
    "    else:\n",
    "        costs[x] = float('inf')\n",
    "for node in visited2:\n",
    "    neighbours = graph[node].keys()\n",
    "    for a in neighbours:\n",
    "        c = costs[node] + graph[node][a]\n",
    "        if c < costs[a]:\n",
    "            costs[a] = c\n",
    "print(costs)"
   ]
  },
  {
   "cell_type": "markdown",
   "metadata": {},
   "source": [
    "## String Manipulation 1 [Programming Competition Problems]"
   ]
  },
  {
   "cell_type": "code",
   "execution_count": null,
   "metadata": {},
   "outputs": [],
   "source": [
    "'''\n",
    "input:\n",
    "3\n",
    "this is a test\n",
    "football\n",
    "all your case\n",
    "\n",
    "output:\n",
    "case 1: test a is this\n",
    "case 2: football\n",
    "case 3: case your all\n",
    "'''"
   ]
  },
  {
   "cell_type": "code",
   "execution_count": 100,
   "metadata": {},
   "outputs": [
    {
     "name": "stdout",
     "output_type": "stream",
     "text": [
      "3\n",
      "this is a test\n",
      "test a is this \n",
      "football\n",
      "football \n",
      "all your case\n",
      "case your all \n"
     ]
    }
   ],
   "source": [
    "n = int(input())\n",
    "for x in range(n):\n",
    "    list1 = input()\n",
    "    list1 = list1.split(' ')\n",
    "    for y in list1[::-1]:\n",
    "        print(y, end = ' ')\n",
    "    print('')"
   ]
  },
  {
   "cell_type": "code",
   "execution_count": 104,
   "metadata": {},
   "outputs": [
    {
     "name": "stdout",
     "output_type": "stream",
     "text": [
      "3\n",
      "Mollaristan\n",
      "Case 1: Mollaristan is ruled by a king.\n",
      "a\n",
      "Case 2: a is ruled by a queen.\n",
      "y\n",
      "Case 3: y is ruled by nobody.\n"
     ]
    }
   ],
   "source": [
    "n = int(input())\n",
    "vowels = ['a', 'e', 'i', 'o', 'u']\n",
    "for x in range(1, n + 1):\n",
    "    str1 = input()\n",
    "    list1 = list(str1)\n",
    "    if list1[-1] in vowels:\n",
    "        print('Case ' + str(x) + ': ' + str1 + ' is ruled by a queen.')\n",
    "    elif list1[-1] == 'y':\n",
    "        print('Case ' + str(x) + ': ' + str1 + ' is ruled by nobody.')\n",
    "    else:\n",
    "        print('Case ' + str(x) + ': ' + str1 + ' is ruled by a king.')"
   ]
  },
  {
   "cell_type": "code",
   "execution_count": 124,
   "metadata": {},
   "outputs": [
    {
     "name": "stdout",
     "output_type": "stream",
     "text": [
      "3\n",
      "0 2\n",
      "/home/gcj/finals\n",
      "/home/gcj/quads\n",
      "Case 1: 4\n",
      "2 1\n",
      "/chicken\n",
      "/chicken/egg\n",
      "/chicken\n",
      "Case 2: 0\n",
      "1 3\n",
      "/a\n",
      "/a/b\n",
      "/a/c\n",
      "/b/b\n",
      "Case 3: 4\n"
     ]
    }
   ],
   "source": [
    "n = int(input())\n",
    "for x in range(1, n + 1):\n",
    "    line = input()\n",
    "    line = line.split(' ')\n",
    "    done = int(line[0])\n",
    "    not_done = int(line[1])\n",
    "    list1 = []\n",
    "    for y in range(not_done + done):\n",
    "        list1.append(input())\n",
    "    sublist1 = list1[:done]\n",
    "    sublist2 = list1[done:]\n",
    "    for k, z in enumerate(sublist1):\n",
    "        sublist1[k] = z.split('/')[1:]\n",
    "    for k, z in enumerate(sublist2):\n",
    "        sublist2[k] = z.split('/')[1:]\n",
    "    if sublist2 == []:\n",
    "        print('Case ' + str(x) + ': 0')\n",
    "    elif sublist1 == []:\n",
    "        list1 = []\n",
    "        for a in sublist2:\n",
    "            for b in a:\n",
    "                list1.append(b)\n",
    "        count = len(list(set(list1)))\n",
    "        print('Case ' + str(x) + ': ' + str(count))\n",
    "    else:\n",
    "        count = 0\n",
    "        for a in sublist2:\n",
    "            for b in a:\n",
    "                for c in sublist1:\n",
    "                    if b not in c:\n",
    "                        count += 1\n",
    "        print('Case ' + str(x) + ': ' + str(count))"
   ]
  },
  {
   "cell_type": "code",
   "execution_count": 119,
   "metadata": {},
   "outputs": [
    {
     "data": {
      "text/plain": [
       "[]"
      ]
     },
     "execution_count": 119,
     "metadata": {},
     "output_type": "execute_result"
    }
   ],
   "source": [
    "sublist1"
   ]
  },
  {
   "cell_type": "code",
   "execution_count": 117,
   "metadata": {},
   "outputs": [
    {
     "name": "stdout",
     "output_type": "stream",
     "text": [
      "['/home/gcj/finals', '/home/gcj/quads']\n"
     ]
    }
   ],
   "source": [
    "list1 = ['/home/gcj/finals', '/home/gcj/quads']\n",
    "for x in list1:\n",
    "    x = x.split('/')[1:]\n",
    "print(list1)"
   ]
  },
  {
   "cell_type": "code",
   "execution_count": null,
   "metadata": {},
   "outputs": [],
   "source": [
    "Word Frame\n",
    "The following program asks you to take a single word and use it to form a simple square frame,\n",
    "where the word is printed four times, once each for one of the four sides of the square: The\n",
    "corners and the centre of the square must contain stars. On top of the square the word is printed\n",
    "from left to right, containing a single space between letters as shown in the sample. On the\n",
    "bottom of the square the word is printed from right to left, also with spaces between letters. On\n",
    "the right the word reads from top to bottom without blank spaces and on the left the word reads\n",
    "from botom to top.\n",
    "DATA11.txt (DATA12.txt for the second try) contains 5 words on 5 separate lines. Each word\n",
    "contains less than 20 characters. Write a program to create a square as described above for\n",
    "each word. The program should pause between squares and proceed to the next one under input\n",
    "control\n",
    "Sample Input:\n",
    "CANADA\n",
    "MAPLE\n",
    "TO\n",
    "FIRE\n",
    "SHORT\n",
    "Sample Output:\n",
    "* C A N A D A *\n",
    "A * * * * * * C\n",
    "D * * * * * * A\n",
    "A * * * * * * N\n",
    "N * * * * * * A\n",
    "A * * * * * * D\n",
    "C * * * * * * A\n",
    "* A D A N A C *\n",
    "* M A P L E *\n",
    "E * * * * * M\n",
    "L * * * * * A\n",
    "P * * * * * P\n",
    "A * * * * * L\n",
    "M * * * * * E\n",
    "* E L P A M *\n",
    "* T O *\n",
    "O * * T\n",
    "T * * O\n",
    "* O T *\n",
    "* F I R E *\n",
    "E * * * * F\n",
    "R * * * * I\n",
    "I * * * * R\n",
    "F * * * * E\n",
    "* E R I F *\n",
    "* S H O R T *\n",
    "T * * * * * S\n",
    "R * * * * * H\n",
    "O * * * * * O\n",
    "H * * * * * R\n",
    "S * * * * * T\n",
    "* T R O H S *"
   ]
  },
  {
   "cell_type": "code",
   "execution_count": 134,
   "metadata": {},
   "outputs": [
    {
     "name": "stdout",
     "output_type": "stream",
     "text": [
      "CANADA\n",
      "MAPLE\n",
      "TO\n",
      "FIRE\n",
      "SHORT\n",
      "* C A N A D A *\n",
      "A * * * * * * C\n",
      "D * * * * * * A\n",
      "A * * * * * * N\n",
      "N * * * * * * A\n",
      "A * * * * * * D\n",
      "C * * * * * * A\n",
      "* A D A N A C *\n",
      "* M A P L E *\n",
      "E * * * * * M\n",
      "L * * * * * A\n",
      "P * * * * * P\n",
      "A * * * * * L\n",
      "M * * * * * E\n",
      "* E L P A M *\n",
      "* T O *\n",
      "O * * T\n",
      "T * * O\n",
      "* O T *\n",
      "* F I R E *\n",
      "E * * * * F\n",
      "R * * * * I\n",
      "I * * * * R\n",
      "F * * * * E\n",
      "* E R I F *\n",
      "* S H O R T *\n",
      "T * * * * * S\n",
      "R * * * * * H\n",
      "O * * * * * O\n",
      "H * * * * * R\n",
      "S * * * * * T\n",
      "* T R O H S *\n"
     ]
    }
   ],
   "source": [
    "list1 = []\n",
    "for x in range(5):\n",
    "    a = input()\n",
    "    a = list(a)\n",
    "    list1.append(a)\n",
    "for x in list1:\n",
    "    list2 = ['']*(len(x) + 2)\n",
    "    list2[0] = list2[0] + '* '\n",
    "    list2[-1] = list2[-1] + '* '\n",
    "    for k, a in enumerate(x):\n",
    "        list2[0] = list2[0] + a + ' '\n",
    "        list2[-1] = list2[-1] + x[-1 * (k + 1)] + ' '\n",
    "    list2[0] = list2[0] + '*'\n",
    "    list2[-1] = list2[-1] + '*'\n",
    "    str1 = ' *' * len(x)\n",
    "    for k, a in enumerate(x):\n",
    "        list2[k + 1] = list2[k + 1] + x[-1 * (k + 1)] + str1 + ' ' + a\n",
    "    for b in list2:\n",
    "        print(b)"
   ]
  },
  {
   "cell_type": "code",
   "execution_count": 177,
   "metadata": {},
   "outputs": [],
   "source": [
    "class MinHeap:\n",
    "    def __init__(self):\n",
    "        self.data = [None]\n",
    "        self.cap = 100\n",
    "        self.size = 0\n",
    "        \n",
    "    def heapify(self):\n",
    "        current_data = self.data[-1]\n",
    "        current_id = self.data.index(current_data)\n",
    "        while True:\n",
    "            parent_id = current_id // 2\n",
    "            if parent_id == 0:\n",
    "                break\n",
    "            if current_data < self.data[parent_id]:\n",
    "                parent_data = self.data[parent_id]\n",
    "                self.data[current_id], self.data[parent_id] = parent_data, current_data\n",
    "                current_id = parent_id\n",
    "                if current_id == 1:\n",
    "                    break\n",
    "            else:\n",
    "                break\n",
    "\n",
    "    def bubble_down(self):\n",
    "        current_id = 1\n",
    "        while True:\n",
    "            current_data = self.data[current_id]\n",
    "            # case 1: no children\n",
    "            if (current_id * 2) + 1 > self.size - 1:\n",
    "                break\n",
    "            # case 2: only left child\n",
    "            elif current_id * 2 == self.size - 1:\n",
    "                min_index = left_child_index\n",
    "            #case 3: both children\n",
    "            else:\n",
    "                left_child_index = current_id * 2\n",
    "                right_child_index = (current_id * 2) + 1\n",
    "                min_index = left_child_index\n",
    "                if self.data[left_child_index] > self.data[right_child_index]:\n",
    "                    min_index = right_child_index\n",
    "            if current_data > self.data[min_index]:\n",
    "                minimum = self.data[min_index]\n",
    "                self.data[current_id], self.data[min_index] = minimum, current_data\n",
    "                current_id = min_index\n",
    "            else:\n",
    "                break\n",
    "\n",
    "    def add(self, node):\n",
    "        self.data.append(node)\n",
    "        self.heapify()\n",
    "        self.size += 1\n",
    "        \n",
    "    def remove(self):\n",
    "        temp = self.data[1]\n",
    "        self.data[1] = self.data[-1]\n",
    "        self.data = self.data[:-1]\n",
    "        self.size -= 1\n",
    "        if self.size > 0:\n",
    "            self.bubble_down()\n",
    "        return temp\n",
    "        \n",
    "    def printing(self):\n",
    "        for x in self.data[1:]:\n",
    "            print(x, end = ' ')\n",
    "        print('')"
   ]
  },
  {
   "cell_type": "code",
   "execution_count": 178,
   "metadata": {},
   "outputs": [],
   "source": [
    "list1 = [-10,100,23,45,123,67,89]"
   ]
  },
  {
   "cell_type": "code",
   "execution_count": 179,
   "metadata": {
    "scrolled": true
   },
   "outputs": [
    {
     "name": "stdout",
     "output_type": "stream",
     "text": [
      "[-10, 23, 45, 67, 100, 89, 123]\n"
     ]
    }
   ],
   "source": [
    "heap = MinHeap()\n",
    "list2 = []\n",
    "for x in list1:\n",
    "    heap.add(x)\n",
    "for x in range(len(list1)):\n",
    "    list2.append(heap.remove())\n",
    "print(list2)"
   ]
  },
  {
   "cell_type": "code",
   "execution_count": 95,
   "metadata": {},
   "outputs": [],
   "source": [
    "class MaxHeap:\n",
    "    def __init__(self):\n",
    "        self.data = [None]\n",
    "        self.cap = 100\n",
    "        self.size = 0\n",
    "    \n",
    "    def heapify(self):\n",
    "        current = self.data[-1]\n",
    "        current_index = len(self.data) - 1\n",
    "        while True:\n",
    "            parent_index = current_index // 2\n",
    "            if parent_index == 0:\n",
    "                break\n",
    "            parent = self.data[parent_index]\n",
    "            if current > parent:\n",
    "                self.data[current_index], self.data[parent_index] = parent, current\n",
    "                current_index = parent_index\n",
    "                if current_index == 1:\n",
    "                    break\n",
    "            else:\n",
    "                break\n",
    "\n",
    "    def add(self, node):\n",
    "        self.data.append(node)\n",
    "        self.heapify()\n",
    "        self.size += 1\n",
    "\n",
    "    def printing(self):\n",
    "        for x in self.data[1:]:\n",
    "            print(x, end = ' ')\n",
    "        print('')"
   ]
  },
  {
   "cell_type": "code",
   "execution_count": null,
   "metadata": {},
   "outputs": [],
   "source": [
    "list1 = []\n",
    "for x in range(52):\n",
    "    n = input()\n",
    "    list1.append(n)\n",
    "player1 = 0\n",
    "player2 = 0\n",
    "low_cards = ['two', 'three', 'four', 'five', 'six', 'seven', 'eight', 'nine', 'ten']\n",
    "for k, x in enumerate(list1):\n",
    "    length = len(list1)\n",
    "    if x == 'jack':\n",
    "        if len(list1) - 1 > k:\n",
    "            if list1[k + 1] in low_cards:\n",
    "                if k % 2 == 0:\n",
    "                    print('Player A scores 1 point(s).')\n",
    "                    player1 += 1\n",
    "                else:\n",
    "                    print('Player B scores 1 point(s).')\n",
    "                    player2 += 1\n",
    "    elif x == 'queen':\n",
    "        if len(list1) - 2 > k:\n",
    "            if list1[k + 1] in low_cards and list1[k + 2] in low_cards:\n",
    "                if k % 2 == 0:\n",
    "                    print('Player A scores 2 point(s).')\n",
    "                    player1 += 2\n",
    "                else:\n",
    "                    print('Player B scores 2 point(s).')\n",
    "                    player2 += 2\n",
    "    elif x == 'king':\n",
    "        if len(list1) - 3 > k:\n",
    "            if list1[k + 1] in low_cards and list1[k + 2] in low_cards and list1[k + 3] in low_cards:\n",
    "                if k % 2 == 0:\n",
    "                    print('Player A scores 3 point(s).')\n",
    "                    player1 += 3\n",
    "                else:\n",
    "                    print('Player B scores 3 point(s).')\n",
    "                    player2 += 3\n",
    "    elif x == 'ace':\n",
    "        if len(list1) - 4 > k:\n",
    "            if list1[k + 1] in low_cards and list1[k + 2] in low_cards and list1[k + 3] in low_cards and list1[k + 4] in low_cards:\n",
    "                if k % 2 == 0:\n",
    "                    print('Player A scores 4 point(s).')\n",
    "                    player1 += 4\n",
    "                else:\n",
    "                    print('Player B scores 4 point(s).')\n",
    "                    player2 += 4\n",
    "    else:\n",
    "        continue\n",
    "print('Player A: ' + str(player1) + ' point(s).')\n",
    "print('Player B: ' + str(player2) + ' point(s).')"
   ]
  },
  {
   "cell_type": "code",
   "execution_count": 69,
   "metadata": {},
   "outputs": [
    {
     "name": "stdout",
     "output_type": "stream",
     "text": [
      "Player A scores 2 point(s).\n",
      "Player A scores 1 point(s).\n",
      "Player A scores 3 point(s).\n",
      "Player B scores 3 point(s).\n",
      "Player A scores 1 point(s).\n",
      "Player B scores 4 point(s).\n",
      "Player A: 7 point(s).\n",
      "Player B: 7 point(s).\n"
     ]
    }
   ],
   "source": [
    "str1 = \"\"\"three\n",
    "seven\n",
    "queen\n",
    "eight\n",
    "five\n",
    "ten\n",
    "king\n",
    "eight\n",
    "jack\n",
    "queen\n",
    "six\n",
    "queen\n",
    "jack\n",
    "eight\n",
    "seven\n",
    "three\n",
    "ten\n",
    "four\n",
    "king\n",
    "nine\n",
    "six\n",
    "seven\n",
    "ace\n",
    "four\n",
    "jack\n",
    "ace\n",
    "ten\n",
    "nine\n",
    "ten\n",
    "queen\n",
    "ace\n",
    "king\n",
    "seven\n",
    "two\n",
    "five\n",
    "two\n",
    "five\n",
    "nine\n",
    "three\n",
    "king\n",
    "six\n",
    "eight\n",
    "jack\n",
    "six\n",
    "five\n",
    "four\n",
    "two\n",
    "ace\n",
    "four\n",
    "three\n",
    "two\n",
    "nine\"\"\"\n",
    "list1 = str1.split('\\n')\n",
    "player1 = 0\n",
    "player2 = 0\n",
    "low_cards = ['two', 'three', 'four', 'five', 'six', 'seven', 'eight', 'nine', 'ten']\n",
    "for k, x in enumerate(list1):\n",
    "    length = len(list1)\n",
    "    if x == 'jack':\n",
    "        if len(list1) - 1 > k:\n",
    "            if list1[k + 1] in low_cards:\n",
    "                if k % 2 == 0:\n",
    "                    print('Player A scores 1 point(s).')\n",
    "                    player1 += 1\n",
    "                else:\n",
    "                    print('Player B scores 1 point(s).')\n",
    "                    player2 += 1\n",
    "    elif x == 'queen':\n",
    "        if len(list1) - 2 > k:\n",
    "            if list1[k + 1] in low_cards and list1[k + 2] in low_cards:\n",
    "                if k % 2 == 0:\n",
    "                    print('Player A scores 2 point(s).')\n",
    "                    player1 += 2\n",
    "                else:\n",
    "                    print('Player B scores 2 point(s).')\n",
    "                    player2 += 2\n",
    "    elif x == 'king':\n",
    "        if len(list1) - 3 > k:\n",
    "            if list1[k + 1] in low_cards and list1[k + 2] in low_cards and list1[k + 3] in low_cards:\n",
    "                if k % 2 == 0:\n",
    "                    print('Player A scores 3 point(s).')\n",
    "                    player1 += 3\n",
    "                else:\n",
    "                    print('Player B scores 3 point(s).')\n",
    "                    player2 += 3\n",
    "    elif x == 'ace':\n",
    "        if len(list1) - 4 > k:\n",
    "            if list1[k + 1] in low_cards and list1[k + 2] in low_cards and list1[k + 3] in low_cards and list1[k + 4] in low_cards:\n",
    "                if k % 2 == 0:\n",
    "                    print('Player A scores 4 point(s).')\n",
    "                    player1 += 4\n",
    "                else:\n",
    "                    print('Player B scores 4 point(s).')\n",
    "                    player2 += 4\n",
    "    else:\n",
    "        continue\n",
    "print('Player A: ' + str(player1) + ' point(s).')\n",
    "print('Player B: ' + str(player2) + ' point(s).')"
   ]
  },
  {
   "cell_type": "markdown",
   "metadata": {},
   "source": [
    "Problem J2: 9966\n",
    "The digits 0, 1, and 8 look much the same if rotated 180 degrees on the page (turned upside down). Also,\n",
    "the digit 6 looks much like a 9, and vice versa, when rotated 180 degrees on the page. A multi-digit\n",
    "number may also look like itself when rotated on the page; for example 9966 and 10801 do, but 999 and\n",
    "1234 do not.\n",
    "You are to write a program to count how many numbers from a given interval look like themselves when\n",
    "rotated 180 degrees on the page. For example, in the interval [1..100] there are six : 1, 8, 11, 69, 88, and\n",
    "96.\n",
    "Your program should take as input two integers, m and n, which define the interval to be checked, 1\n",
    "≤ m ≤ n ≤ 32000. The output from your program is the number of rotatable numbers in the interval.\n",
    "You may assume that all input is valid.\n",
    "Sample Input\n",
    "1\n",
    "100\n",
    "Sample Output\n",
    "6"
   ]
  },
  {
   "cell_type": "code",
   "execution_count": 89,
   "metadata": {},
   "outputs": [
    {
     "name": "stdout",
     "output_type": "stream",
     "text": [
      "1\n",
      "100\n",
      "6\n"
     ]
    }
   ],
   "source": [
    "minimum = int(input())\n",
    "maximum = int(input())\n",
    "list1 = ['0', '1', '6', '8', '9']\n",
    "count = 0\n",
    "for x in range(minimum, maximum + 1):\n",
    "    list2 = list(str(x))\n",
    "    count2 = 0\n",
    "    count_9 = 0\n",
    "    count_6 = 0\n",
    "    for y in list2:\n",
    "        if y in list1:\n",
    "            if y != '6' and y != '9':\n",
    "                count2 += 1\n",
    "            elif y == '6':\n",
    "                count_6 += 1\n",
    "            else:\n",
    "                count_9 += 1\n",
    "    if count_9 > 0 and count_6 > 0:\n",
    "        if count_9 == count_6:\n",
    "            count += 1\n",
    "    if count2 == len(list2):\n",
    "        if list2 == list2[::-1]:\n",
    "            count += 1\n",
    "        else:\n",
    "            if count_9 > 0:\n",
    "                count += 1\n",
    "print(count)"
   ]
  }
 ],
 "metadata": {
  "kernelspec": {
   "display_name": "Python 3",
   "language": "python",
   "name": "python3"
  },
  "language_info": {
   "codemirror_mode": {
    "name": "ipython",
    "version": 3
   },
   "file_extension": ".py",
   "mimetype": "text/x-python",
   "name": "python",
   "nbconvert_exporter": "python",
   "pygments_lexer": "ipython3",
   "version": "3.7.1"
  }
 },
 "nbformat": 4,
 "nbformat_minor": 2
}
